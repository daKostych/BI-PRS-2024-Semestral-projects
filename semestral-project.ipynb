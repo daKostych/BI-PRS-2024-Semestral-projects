{
 "cells": [
  {
   "cell_type": "code",
   "execution_count": 2,
   "id": "b0269647-0acf-4fa8-96fb-05c8c777f8bc",
   "metadata": {},
   "outputs": [],
   "source": [
    ".libPaths(\"/home/senyaaa/BI-PRS/packages\")\n",
    "#.libPaths(\"/home/senyaaa/BI-PRS/packages\") # change to ur folder\n",
    "#.libPaths(\"/home/senyaaa/BI-PRS/packages\")\n",
    "\n",
    "library(eurostat)"
   ]
  },
  {
   "cell_type": "code",
   "execution_count": 4,
   "id": "c82dee89-8231-4e78-a785-29fd994843c3",
   "metadata": {},
   "outputs": [
    {
     "name": "stdout",
     "output_type": "stream",
     "text": [
      "[1] 1\n"
     ]
    }
   ],
   "source": [
    "surname <- \"pogodin\"\n",
    "L <- nchar(surname)\n",
    "K <- 4\n",
    "M <- ((K + L) * 47) %% 11 + 1\n",
    "print(M)"
   ]
  },
  {
   "cell_type": "code",
   "execution_count": null,
   "id": "e8f7fa1d-cd47-468b-be1b-6549e02a28c7",
   "metadata": {},
   "outputs": [],
   "source": []
  }
 ],
 "metadata": {
  "kernelspec": {
   "display_name": "R",
   "language": "R",
   "name": "ir"
  },
  "language_info": {
   "codemirror_mode": "r",
   "file_extension": ".r",
   "mimetype": "text/x-r-source",
   "name": "R",
   "pygments_lexer": "r",
   "version": "4.3.2"
  }
 },
 "nbformat": 4,
 "nbformat_minor": 5
}
