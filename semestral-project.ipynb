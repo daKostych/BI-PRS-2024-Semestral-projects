{
 "cells": [
  {
   "cell_type": "code",
   "execution_count": 2,
   "id": "b0269647-0acf-4fa8-96fb-05c8c777f8bc",
   "metadata": {
    "ExecuteTime": {
     "end_time": "2024-03-27T20:40:12.400763Z",
     "start_time": "2024-03-27T20:40:11.265022Z"
    }
   },
   "outputs": [
    {
     "name": "stderr",
     "output_type": "stream",
     "text": [
      "\n",
      "Attaching package: ‘dplyr’\n",
      "\n",
      "\n",
      "The following objects are masked from ‘package:stats’:\n",
      "\n",
      "    filter, lag\n",
      "\n",
      "\n",
      "The following objects are masked from ‘package:base’:\n",
      "\n",
      "    intersect, setdiff, setequal, union\n",
      "\n",
      "\n",
      "\n",
      "Attaching package: ‘gridExtra’\n",
      "\n",
      "\n",
      "The following object is masked from ‘package:dplyr’:\n",
      "\n",
      "    combine\n",
      "\n",
      "\n"
     ]
    }
   ],
   "source": [
    ".libPaths(\"/home/senyaaa/BI-PRS/packages\")\n",
    "# .libPaths(\"/home/kostyadovnar/CVUT/BI-PRS/packages\")\n",
    "#aths(\"~/tmp/bi-prs/\")\n",
    "# install.packages('dplyr')\n",
    "# install.packages('gridExtra')\n",
    "\n",
    "library(dplyr) # download too\n",
    "library(eurostat)\n",
    "library(ggplot2)\n",
    "library(gridExtra) # download too\n",
    "library(cowplot)"
   ]
  },
  {
   "cell_type": "code",
   "execution_count": 3,
   "id": "c82dee89-8231-4e78-a785-29fd994843c3",
   "metadata": {
    "ExecuteTime": {
     "end_time": "2024-03-27T20:40:45.117064Z",
     "start_time": "2024-03-27T20:40:45.090770Z"
    }
   },
   "outputs": [
    {
     "name": "stdout",
     "output_type": "stream",
     "text": [
      "[1] 1\n"
     ]
    }
   ],
   "source": [
    "surname <- \"pogodin\"\n",
    "L <- nchar(surname)\n",
    "K <- 4\n",
    "M <- ((K + L) * 47) %% 11 + 1\n",
    "print(M)"
   ]
  },
  {
   "cell_type": "code",
   "execution_count": 4,
   "id": "e8f7fa1d-cd47-468b-be1b-6549e02a28c7",
   "metadata": {
    "ExecuteTime": {
     "end_time": "2024-03-27T20:40:46.356513Z",
     "start_time": "2024-03-27T20:40:45.242887Z"
    }
   },
   "outputs": [
    {
     "data": {
      "text/html": [
       "<table class=\"dataframe\">\n",
       "<caption>A tibble: 2 × 9</caption>\n",
       "<thead>\n",
       "\t<tr><th scope=col>title</th><th scope=col>code</th><th scope=col>type</th><th scope=col>last.update.of.data</th><th scope=col>last.table.structure.change</th><th scope=col>data.start</th><th scope=col>data.end</th><th scope=col>values</th><th scope=col>hierarchy</th></tr>\n",
       "\t<tr><th scope=col>&lt;chr&gt;</th><th scope=col>&lt;chr&gt;</th><th scope=col>&lt;chr&gt;</th><th scope=col>&lt;chr&gt;</th><th scope=col>&lt;chr&gt;</th><th scope=col>&lt;chr&gt;</th><th scope=col>&lt;chr&gt;</th><th scope=col>&lt;dbl&gt;</th><th scope=col>&lt;dbl&gt;</th></tr>\n",
       "</thead>\n",
       "<tbody>\n",
       "\t<tr><td>Police-recorded offences by NUTS 3 regions</td><td>crim_gen_reg</td><td>dataset</td><td>05.12.2023</td><td>05.12.2023</td><td>2008</td><td>2021</td><td>216947</td><td>4</td></tr>\n",
       "\t<tr><td>Police-recorded offences by NUTS 3 regions</td><td>crim_gen_reg</td><td>dataset</td><td>05.12.2023</td><td>05.12.2023</td><td>2008</td><td>2021</td><td>216947</td><td>4</td></tr>\n",
       "</tbody>\n",
       "</table>\n"
      ],
      "text/latex": [
       "A tibble: 2 × 9\n",
       "\\begin{tabular}{lllllllll}\n",
       " title & code & type & last.update.of.data & last.table.structure.change & data.start & data.end & values & hierarchy\\\\\n",
       " <chr> & <chr> & <chr> & <chr> & <chr> & <chr> & <chr> & <dbl> & <dbl>\\\\\n",
       "\\hline\n",
       "\t Police-recorded offences by NUTS 3 regions & crim\\_gen\\_reg & dataset & 05.12.2023 & 05.12.2023 & 2008 & 2021 & 216947 & 4\\\\\n",
       "\t Police-recorded offences by NUTS 3 regions & crim\\_gen\\_reg & dataset & 05.12.2023 & 05.12.2023 & 2008 & 2021 & 216947 & 4\\\\\n",
       "\\end{tabular}\n"
      ],
      "text/markdown": [
       "\n",
       "A tibble: 2 × 9\n",
       "\n",
       "| title &lt;chr&gt; | code &lt;chr&gt; | type &lt;chr&gt; | last.update.of.data &lt;chr&gt; | last.table.structure.change &lt;chr&gt; | data.start &lt;chr&gt; | data.end &lt;chr&gt; | values &lt;dbl&gt; | hierarchy &lt;dbl&gt; |\n",
       "|---|---|---|---|---|---|---|---|---|\n",
       "| Police-recorded offences by NUTS 3 regions | crim_gen_reg | dataset | 05.12.2023 | 05.12.2023 | 2008 | 2021 | 216947 | 4 |\n",
       "| Police-recorded offences by NUTS 3 regions | crim_gen_reg | dataset | 05.12.2023 | 05.12.2023 | 2008 | 2021 | 216947 | 4 |\n",
       "\n"
      ],
      "text/plain": [
       "  title                                      code         type   \n",
       "1 Police-recorded offences by NUTS 3 regions crim_gen_reg dataset\n",
       "2 Police-recorded offences by NUTS 3 regions crim_gen_reg dataset\n",
       "  last.update.of.data last.table.structure.change data.start data.end values\n",
       "1 05.12.2023          05.12.2023                  2008       2021     216947\n",
       "2 05.12.2023          05.12.2023                  2008       2021     216947\n",
       "  hierarchy\n",
       "1 4        \n",
       "2 4        "
      ]
     },
     "metadata": {},
     "output_type": "display_data"
    }
   ],
   "source": [
    "# get id for dataset\n",
    "srch <- search_eurostat(pattern='Police-recorded offences by NUTS 3 regions')\n",
    "srch"
   ]
  },
  {
   "cell_type": "code",
   "execution_count": 5,
   "id": "eb08a4cf-db49-4d6e-89ef-bcc92b31024b",
   "metadata": {
    "ExecuteTime": {
     "end_time": "2024-03-27T20:40:46.389359Z",
     "start_time": "2024-03-27T20:40:46.365752Z"
    }
   },
   "outputs": [],
   "source": [
    "nuts3_cz <- c(\n",
    "  \"CZ010\", \"CZ020\", \"CZ031\", \"CZ032\", \"CZ041\",\n",
    "  \"CZ042\", \"CZ051\", \"CZ052\", \"CZ053\", \"CZ063\",\n",
    "  \"CZ064\", \"CZ071\", \"CZ072\", \"CZ080\"\n",
    ")"
   ]
  },
  {
   "cell_type": "markdown",
   "id": "de0b2dad-f976-44ae-a0f3-5f2eb6e9de3f",
   "metadata": {},
   "source": [
    "## Stažení datasetu\n",
    "\n",
    "Stahneme potřebný dataset a vybereme rok 2021. \n",
    "Odebereme redudantní sloupce jako je freq, TIME_PERIOD.\n",
    "\n",
    "V našem případě neprovádíme analýzu normalizovaných dat na základě počtu trestných činů na 100 000 obyvatel a zaměřujeme se přímo na samotné počty trestných činů v jednotlivých regionech a kategoriích. Tím pádem odebereme i sloupec unit P_HTHAB."
   ]
  },
  {
   "cell_type": "code",
   "execution_count": 6,
   "id": "af8ad8f1-e500-4ac7-8202-3d89e0bf8f94",
   "metadata": {
    "ExecuteTime": {
     "end_time": "2024-03-27T20:40:48.876857Z",
     "start_time": "2024-03-27T20:40:46.396055Z"
    }
   },
   "outputs": [
    {
     "name": "stderr",
     "output_type": "stream",
     "text": [
      "Table crim_gen_reg cached at /tmp/RtmpFAUVOm/eurostat/97b8e3f8e00ae15a07ed9530c702eb76.rds\n",
      "\n"
     ]
    },
    {
     "data": {
      "text/html": [
       "<table class=\"dataframe\">\n",
       "<caption>A tibble: 6 × 3</caption>\n",
       "<thead>\n",
       "\t<tr><th scope=col>iccs</th><th scope=col>geo</th><th scope=col>values</th></tr>\n",
       "\t<tr><th scope=col>&lt;chr&gt;</th><th scope=col>&lt;chr&gt;</th><th scope=col>&lt;dbl&gt;</th></tr>\n",
       "</thead>\n",
       "<tbody>\n",
       "\t<tr><td>ICCS0101</td><td>CZ010</td><td>7</td></tr>\n",
       "\t<tr><td>ICCS0101</td><td>CZ020</td><td>1</td></tr>\n",
       "\t<tr><td>ICCS0101</td><td>CZ031</td><td>7</td></tr>\n",
       "\t<tr><td>ICCS0101</td><td>CZ032</td><td>2</td></tr>\n",
       "\t<tr><td>ICCS0101</td><td>CZ041</td><td>3</td></tr>\n",
       "\t<tr><td>ICCS0101</td><td>CZ042</td><td>5</td></tr>\n",
       "</tbody>\n",
       "</table>\n"
      ],
      "text/latex": [
       "A tibble: 6 × 3\n",
       "\\begin{tabular}{lll}\n",
       " iccs & geo & values\\\\\n",
       " <chr> & <chr> & <dbl>\\\\\n",
       "\\hline\n",
       "\t ICCS0101 & CZ010 & 7\\\\\n",
       "\t ICCS0101 & CZ020 & 1\\\\\n",
       "\t ICCS0101 & CZ031 & 7\\\\\n",
       "\t ICCS0101 & CZ032 & 2\\\\\n",
       "\t ICCS0101 & CZ041 & 3\\\\\n",
       "\t ICCS0101 & CZ042 & 5\\\\\n",
       "\\end{tabular}\n"
      ],
      "text/markdown": [
       "\n",
       "A tibble: 6 × 3\n",
       "\n",
       "| iccs &lt;chr&gt; | geo &lt;chr&gt; | values &lt;dbl&gt; |\n",
       "|---|---|---|\n",
       "| ICCS0101 | CZ010 | 7 |\n",
       "| ICCS0101 | CZ020 | 1 |\n",
       "| ICCS0101 | CZ031 | 7 |\n",
       "| ICCS0101 | CZ032 | 2 |\n",
       "| ICCS0101 | CZ041 | 3 |\n",
       "| ICCS0101 | CZ042 | 5 |\n",
       "\n"
      ],
      "text/plain": [
       "  iccs     geo   values\n",
       "1 ICCS0101 CZ010 7     \n",
       "2 ICCS0101 CZ020 1     \n",
       "3 ICCS0101 CZ031 7     \n",
       "4 ICCS0101 CZ032 2     \n",
       "5 ICCS0101 CZ041 3     \n",
       "6 ICCS0101 CZ042 5     "
      ]
     },
     "metadata": {},
     "output_type": "display_data"
    },
    {
     "data": {
      "text/html": [
       "<table class=\"dataframe\">\n",
       "<caption>A tibble: 6 × 3</caption>\n",
       "<thead>\n",
       "\t<tr><th scope=col>iccs</th><th scope=col>geo</th><th scope=col>values</th></tr>\n",
       "\t<tr><th scope=col>&lt;chr&gt;</th><th scope=col>&lt;chr&gt;</th><th scope=col>&lt;dbl&gt;</th></tr>\n",
       "</thead>\n",
       "<tbody>\n",
       "\t<tr><td>ICCS050211</td><td>CZ053</td><td> 59</td></tr>\n",
       "\t<tr><td>ICCS050211</td><td>CZ063</td><td> 51</td></tr>\n",
       "\t<tr><td>ICCS050211</td><td>CZ064</td><td>234</td></tr>\n",
       "\t<tr><td>ICCS050211</td><td>CZ071</td><td> 86</td></tr>\n",
       "\t<tr><td>ICCS050211</td><td>CZ072</td><td> 57</td></tr>\n",
       "\t<tr><td>ICCS050211</td><td>CZ080</td><td>226</td></tr>\n",
       "</tbody>\n",
       "</table>\n"
      ],
      "text/latex": [
       "A tibble: 6 × 3\n",
       "\\begin{tabular}{lll}\n",
       " iccs & geo & values\\\\\n",
       " <chr> & <chr> & <dbl>\\\\\n",
       "\\hline\n",
       "\t ICCS050211 & CZ053 &  59\\\\\n",
       "\t ICCS050211 & CZ063 &  51\\\\\n",
       "\t ICCS050211 & CZ064 & 234\\\\\n",
       "\t ICCS050211 & CZ071 &  86\\\\\n",
       "\t ICCS050211 & CZ072 &  57\\\\\n",
       "\t ICCS050211 & CZ080 & 226\\\\\n",
       "\\end{tabular}\n"
      ],
      "text/markdown": [
       "\n",
       "A tibble: 6 × 3\n",
       "\n",
       "| iccs &lt;chr&gt; | geo &lt;chr&gt; | values &lt;dbl&gt; |\n",
       "|---|---|---|\n",
       "| ICCS050211 | CZ053 |  59 |\n",
       "| ICCS050211 | CZ063 |  51 |\n",
       "| ICCS050211 | CZ064 | 234 |\n",
       "| ICCS050211 | CZ071 |  86 |\n",
       "| ICCS050211 | CZ072 |  57 |\n",
       "| ICCS050211 | CZ080 | 226 |\n",
       "\n"
      ],
      "text/plain": [
       "  iccs       geo   values\n",
       "1 ICCS050211 CZ053  59   \n",
       "2 ICCS050211 CZ063  51   \n",
       "3 ICCS050211 CZ064 234   \n",
       "4 ICCS050211 CZ071  86   \n",
       "5 ICCS050211 CZ072  57   \n",
       "6 ICCS050211 CZ080 226   "
      ]
     },
     "metadata": {},
     "output_type": "display_data"
    }
   ],
   "source": [
    "# Download data\n",
    "data <- get_eurostat(id = \"crim_gen_reg\")\n",
    "\n",
    "# choose only required data and remove unneccesary columns\n",
    "data$TIME_PERIOD <- as.Date(data$TIME_PERIOD)\n",
    "czech_data <- data %>%\n",
    "  filter(geo %in% nuts3_cz, TIME_PERIOD == \"2021-01-01\")\n",
    "czech_data$freq <- NULL\n",
    "czech_data <- czech_data[czech_data$unit != \"P_HTHAB\", ]\n",
    "czech_data$unit <- NULL\n",
    "czech_data$TIME_PERIOD <- NULL\n",
    "\n",
    "head(czech_data)\n",
    "tail(czech_data)"
   ]
  },
  {
   "cell_type": "code",
   "execution_count": 7,
   "id": "9547276e-ba28-4221-96d2-6d503ba21ac3",
   "metadata": {
    "ExecuteTime": {
     "end_time": "2024-03-27T20:40:48.915510Z",
     "start_time": "2024-03-27T20:40:48.884386Z"
    }
   },
   "outputs": [],
   "source": [
    "iccs_mapping <- c(\n",
    "  \"ICCS0101\" = \"Intentional homicide\",\n",
    "  \"ICCS02011\" = \"Assault\",\n",
    "  \"ICCS0401\" = \"Robbery\",\n",
    "  \"ICCS0501\" = \"Burglary\",\n",
    "  \"ICCS05012\" = \"Burglary of private residential premises\",\n",
    "  \"ICCS0502\" = \"Theft\",\n",
    "  \"ICCS050211\" = \"Theft of a motorized land vehicle\"\n",
    ")\n",
    "nuts3_mapping <- c(\n",
    "  \"CZ010\" = \"Hlavní město Praha\",\n",
    "  \"CZ020\" = \"Středočeský kraj\",\n",
    "  \"CZ031\" = \"Jihočeský kraj\",\n",
    "  \"CZ032\" = \"Plzeňský kraj\",\n",
    "  \"CZ041\" = \"Karlovarský kraj\",\n",
    "  \"CZ042\" = \"Ústecký kraj\",\n",
    "  \"CZ051\" = \"Liberecký kraj\",\n",
    "  \"CZ052\" = \"Královéhradecký kraj\",\n",
    "  \"CZ053\" = \"Pardubický kraj\",\n",
    "  \"CZ063\" = \"Kraj Vysočina\",\n",
    "  \"CZ064\" = \"Jihomoravský kraj\",\n",
    "  \"CZ071\" = \"Olomoucký kraj\",\n",
    "  \"CZ072\" = \"Zlínský kraj\",\n",
    "  \"CZ080\" = \"Moravskoslezský kraj\"\n",
    ")\n",
    "# rename for better vizualization\n",
    "czech_data <- czech_data %>%\n",
    "  mutate(iccs = iccs_mapping[iccs])\n",
    "czech_data$geo <- nuts3_mapping[czech_data$geo]"
   ]
  },
  {
   "cell_type": "markdown",
   "id": "50bbc96f-e076-4079-b024-6a5bcc4282fc",
   "metadata": {},
   "source": [
    "## Základní popis\n",
    "Zkoumaná data jsou tabulka, která obsahuje tři sloupce: \"iccs\" (typ trestného činu), \"geo\" (NUTS 3 region) a \"values\" (počet trestných činů). Data zahrnují různé typy trestných činů v jednotlivých regionech České republiky.\n"
   ]
  },
  {
   "cell_type": "code",
   "execution_count": 8,
   "id": "c1fd7fa9-e6bb-4bab-b4fe-c5372d71b1d2",
   "metadata": {
    "ExecuteTime": {
     "end_time": "2024-03-27T20:40:49.007827Z",
     "start_time": "2024-03-27T20:40:48.921291Z"
    }
   },
   "outputs": [
    {
     "data": {
      "text/html": [
       "<table class=\"dataframe\">\n",
       "<caption>A tibble: 98 × 3</caption>\n",
       "<thead>\n",
       "\t<tr><th scope=col>iccs</th><th scope=col>geo</th><th scope=col>values</th></tr>\n",
       "\t<tr><th scope=col>&lt;chr&gt;</th><th scope=col>&lt;chr&gt;</th><th scope=col>&lt;dbl&gt;</th></tr>\n",
       "</thead>\n",
       "<tbody>\n",
       "\t<tr><td>Intentional homicide</td><td>Hlavní město Praha  </td><td>  7</td></tr>\n",
       "\t<tr><td>Intentional homicide</td><td>Středočeský kraj    </td><td>  1</td></tr>\n",
       "\t<tr><td>Intentional homicide</td><td>Jihočeský kraj      </td><td>  7</td></tr>\n",
       "\t<tr><td>Intentional homicide</td><td>Plzeňský kraj       </td><td>  2</td></tr>\n",
       "\t<tr><td>Intentional homicide</td><td>Karlovarský kraj    </td><td>  3</td></tr>\n",
       "\t<tr><td>Intentional homicide</td><td>Ústecký kraj        </td><td>  5</td></tr>\n",
       "\t<tr><td>Intentional homicide</td><td>Liberecký kraj      </td><td>  3</td></tr>\n",
       "\t<tr><td>Intentional homicide</td><td>Královéhradecký kraj</td><td>  1</td></tr>\n",
       "\t<tr><td>Intentional homicide</td><td>Pardubický kraj     </td><td>  0</td></tr>\n",
       "\t<tr><td>Intentional homicide</td><td>Kraj Vysočina       </td><td>  3</td></tr>\n",
       "\t<tr><td>Intentional homicide</td><td>Jihomoravský kraj   </td><td>  6</td></tr>\n",
       "\t<tr><td>Intentional homicide</td><td>Olomoucký kraj      </td><td>  2</td></tr>\n",
       "\t<tr><td>Intentional homicide</td><td>Zlínský kraj        </td><td>  2</td></tr>\n",
       "\t<tr><td>Intentional homicide</td><td>Moravskoslezský kraj</td><td>  4</td></tr>\n",
       "\t<tr><td>Assault             </td><td>Hlavní město Praha  </td><td>530</td></tr>\n",
       "\t<tr><td>Assault             </td><td>Středočeský kraj    </td><td>393</td></tr>\n",
       "\t<tr><td>Assault             </td><td>Jihočeský kraj      </td><td>269</td></tr>\n",
       "\t<tr><td>Assault             </td><td>Plzeňský kraj       </td><td>204</td></tr>\n",
       "\t<tr><td>Assault             </td><td>Karlovarský kraj    </td><td>130</td></tr>\n",
       "\t<tr><td>Assault             </td><td>Ústecký kraj        </td><td>359</td></tr>\n",
       "\t<tr><td>Assault             </td><td>Liberecký kraj      </td><td>192</td></tr>\n",
       "\t<tr><td>Assault             </td><td>Královéhradecký kraj</td><td>162</td></tr>\n",
       "\t<tr><td>Assault             </td><td>Pardubický kraj     </td><td>120</td></tr>\n",
       "\t<tr><td>Assault             </td><td>Kraj Vysočina       </td><td>226</td></tr>\n",
       "\t<tr><td>Assault             </td><td>Jihomoravský kraj   </td><td>509</td></tr>\n",
       "\t<tr><td>Assault             </td><td>Olomoucký kraj      </td><td>314</td></tr>\n",
       "\t<tr><td>Assault             </td><td>Zlínský kraj        </td><td>245</td></tr>\n",
       "\t<tr><td>Assault             </td><td>Moravskoslezský kraj</td><td>637</td></tr>\n",
       "\t<tr><td>Robbery             </td><td>Hlavní město Praha  </td><td>190</td></tr>\n",
       "\t<tr><td>Robbery             </td><td>Středočeský kraj    </td><td>110</td></tr>\n",
       "\t<tr><td>⋮</td><td>⋮</td><td>⋮</td></tr>\n",
       "\t<tr><td>Burglary of private residential premises</td><td>Zlínský kraj        </td><td> 105</td></tr>\n",
       "\t<tr><td>Burglary of private residential premises</td><td>Moravskoslezský kraj</td><td> 511</td></tr>\n",
       "\t<tr><td>Theft                                   </td><td>Hlavní město Praha  </td><td>7861</td></tr>\n",
       "\t<tr><td>Theft                                   </td><td>Středočeský kraj    </td><td>2727</td></tr>\n",
       "\t<tr><td>Theft                                   </td><td>Jihočeský kraj      </td><td>1044</td></tr>\n",
       "\t<tr><td>Theft                                   </td><td>Plzeňský kraj       </td><td>1302</td></tr>\n",
       "\t<tr><td>Theft                                   </td><td>Karlovarský kraj    </td><td> 633</td></tr>\n",
       "\t<tr><td>Theft                                   </td><td>Ústecký kraj        </td><td>2386</td></tr>\n",
       "\t<tr><td>Theft                                   </td><td>Liberecký kraj      </td><td> 929</td></tr>\n",
       "\t<tr><td>Theft                                   </td><td>Královéhradecký kraj</td><td> 677</td></tr>\n",
       "\t<tr><td>Theft                                   </td><td>Pardubický kraj     </td><td> 644</td></tr>\n",
       "\t<tr><td>Theft                                   </td><td>Kraj Vysočina       </td><td> 499</td></tr>\n",
       "\t<tr><td>Theft                                   </td><td>Jihomoravský kraj   </td><td>2623</td></tr>\n",
       "\t<tr><td>Theft                                   </td><td>Olomoucký kraj      </td><td>1188</td></tr>\n",
       "\t<tr><td>Theft                                   </td><td>Zlínský kraj        </td><td> 579</td></tr>\n",
       "\t<tr><td>Theft                                   </td><td>Moravskoslezský kraj</td><td>3497</td></tr>\n",
       "\t<tr><td>Theft of a motorized land vehicle       </td><td>Hlavní město Praha  </td><td> 411</td></tr>\n",
       "\t<tr><td>Theft of a motorized land vehicle       </td><td>Středočeský kraj    </td><td> 346</td></tr>\n",
       "\t<tr><td>Theft of a motorized land vehicle       </td><td>Jihočeský kraj      </td><td> 118</td></tr>\n",
       "\t<tr><td>Theft of a motorized land vehicle       </td><td>Plzeňský kraj       </td><td> 141</td></tr>\n",
       "\t<tr><td>Theft of a motorized land vehicle       </td><td>Karlovarský kraj    </td><td>  54</td></tr>\n",
       "\t<tr><td>Theft of a motorized land vehicle       </td><td>Ústecký kraj        </td><td> 222</td></tr>\n",
       "\t<tr><td>Theft of a motorized land vehicle       </td><td>Liberecký kraj      </td><td> 118</td></tr>\n",
       "\t<tr><td>Theft of a motorized land vehicle       </td><td>Královéhradecký kraj</td><td>  90</td></tr>\n",
       "\t<tr><td>Theft of a motorized land vehicle       </td><td>Pardubický kraj     </td><td>  59</td></tr>\n",
       "\t<tr><td>Theft of a motorized land vehicle       </td><td>Kraj Vysočina       </td><td>  51</td></tr>\n",
       "\t<tr><td>Theft of a motorized land vehicle       </td><td>Jihomoravský kraj   </td><td> 234</td></tr>\n",
       "\t<tr><td>Theft of a motorized land vehicle       </td><td>Olomoucký kraj      </td><td>  86</td></tr>\n",
       "\t<tr><td>Theft of a motorized land vehicle       </td><td>Zlínský kraj        </td><td>  57</td></tr>\n",
       "\t<tr><td>Theft of a motorized land vehicle       </td><td>Moravskoslezský kraj</td><td> 226</td></tr>\n",
       "</tbody>\n",
       "</table>\n"
      ],
      "text/latex": [
       "A tibble: 98 × 3\n",
       "\\begin{tabular}{lll}\n",
       " iccs & geo & values\\\\\n",
       " <chr> & <chr> & <dbl>\\\\\n",
       "\\hline\n",
       "\t Intentional homicide & Hlavní město Praha   &   7\\\\\n",
       "\t Intentional homicide & Středočeský kraj     &   1\\\\\n",
       "\t Intentional homicide & Jihočeský kraj       &   7\\\\\n",
       "\t Intentional homicide & Plzeňský kraj        &   2\\\\\n",
       "\t Intentional homicide & Karlovarský kraj     &   3\\\\\n",
       "\t Intentional homicide & Ústecký kraj         &   5\\\\\n",
       "\t Intentional homicide & Liberecký kraj       &   3\\\\\n",
       "\t Intentional homicide & Královéhradecký kraj &   1\\\\\n",
       "\t Intentional homicide & Pardubický kraj      &   0\\\\\n",
       "\t Intentional homicide & Kraj Vysočina        &   3\\\\\n",
       "\t Intentional homicide & Jihomoravský kraj    &   6\\\\\n",
       "\t Intentional homicide & Olomoucký kraj       &   2\\\\\n",
       "\t Intentional homicide & Zlínský kraj         &   2\\\\\n",
       "\t Intentional homicide & Moravskoslezský kraj &   4\\\\\n",
       "\t Assault              & Hlavní město Praha   & 530\\\\\n",
       "\t Assault              & Středočeský kraj     & 393\\\\\n",
       "\t Assault              & Jihočeský kraj       & 269\\\\\n",
       "\t Assault              & Plzeňský kraj        & 204\\\\\n",
       "\t Assault              & Karlovarský kraj     & 130\\\\\n",
       "\t Assault              & Ústecký kraj         & 359\\\\\n",
       "\t Assault              & Liberecký kraj       & 192\\\\\n",
       "\t Assault              & Královéhradecký kraj & 162\\\\\n",
       "\t Assault              & Pardubický kraj      & 120\\\\\n",
       "\t Assault              & Kraj Vysočina        & 226\\\\\n",
       "\t Assault              & Jihomoravský kraj    & 509\\\\\n",
       "\t Assault              & Olomoucký kraj       & 314\\\\\n",
       "\t Assault              & Zlínský kraj         & 245\\\\\n",
       "\t Assault              & Moravskoslezský kraj & 637\\\\\n",
       "\t Robbery              & Hlavní město Praha   & 190\\\\\n",
       "\t Robbery              & Středočeský kraj     & 110\\\\\n",
       "\t ⋮ & ⋮ & ⋮\\\\\n",
       "\t Burglary of private residential premises & Zlínský kraj         &  105\\\\\n",
       "\t Burglary of private residential premises & Moravskoslezský kraj &  511\\\\\n",
       "\t Theft                                    & Hlavní město Praha   & 7861\\\\\n",
       "\t Theft                                    & Středočeský kraj     & 2727\\\\\n",
       "\t Theft                                    & Jihočeský kraj       & 1044\\\\\n",
       "\t Theft                                    & Plzeňský kraj        & 1302\\\\\n",
       "\t Theft                                    & Karlovarský kraj     &  633\\\\\n",
       "\t Theft                                    & Ústecký kraj         & 2386\\\\\n",
       "\t Theft                                    & Liberecký kraj       &  929\\\\\n",
       "\t Theft                                    & Královéhradecký kraj &  677\\\\\n",
       "\t Theft                                    & Pardubický kraj      &  644\\\\\n",
       "\t Theft                                    & Kraj Vysočina        &  499\\\\\n",
       "\t Theft                                    & Jihomoravský kraj    & 2623\\\\\n",
       "\t Theft                                    & Olomoucký kraj       & 1188\\\\\n",
       "\t Theft                                    & Zlínský kraj         &  579\\\\\n",
       "\t Theft                                    & Moravskoslezský kraj & 3497\\\\\n",
       "\t Theft of a motorized land vehicle        & Hlavní město Praha   &  411\\\\\n",
       "\t Theft of a motorized land vehicle        & Středočeský kraj     &  346\\\\\n",
       "\t Theft of a motorized land vehicle        & Jihočeský kraj       &  118\\\\\n",
       "\t Theft of a motorized land vehicle        & Plzeňský kraj        &  141\\\\\n",
       "\t Theft of a motorized land vehicle        & Karlovarský kraj     &   54\\\\\n",
       "\t Theft of a motorized land vehicle        & Ústecký kraj         &  222\\\\\n",
       "\t Theft of a motorized land vehicle        & Liberecký kraj       &  118\\\\\n",
       "\t Theft of a motorized land vehicle        & Královéhradecký kraj &   90\\\\\n",
       "\t Theft of a motorized land vehicle        & Pardubický kraj      &   59\\\\\n",
       "\t Theft of a motorized land vehicle        & Kraj Vysočina        &   51\\\\\n",
       "\t Theft of a motorized land vehicle        & Jihomoravský kraj    &  234\\\\\n",
       "\t Theft of a motorized land vehicle        & Olomoucký kraj       &   86\\\\\n",
       "\t Theft of a motorized land vehicle        & Zlínský kraj         &   57\\\\\n",
       "\t Theft of a motorized land vehicle        & Moravskoslezský kraj &  226\\\\\n",
       "\\end{tabular}\n"
      ],
      "text/markdown": [
       "\n",
       "A tibble: 98 × 3\n",
       "\n",
       "| iccs &lt;chr&gt; | geo &lt;chr&gt; | values &lt;dbl&gt; |\n",
       "|---|---|---|\n",
       "| Intentional homicide | Hlavní město Praha   |   7 |\n",
       "| Intentional homicide | Středočeský kraj     |   1 |\n",
       "| Intentional homicide | Jihočeský kraj       |   7 |\n",
       "| Intentional homicide | Plzeňský kraj        |   2 |\n",
       "| Intentional homicide | Karlovarský kraj     |   3 |\n",
       "| Intentional homicide | Ústecký kraj         |   5 |\n",
       "| Intentional homicide | Liberecký kraj       |   3 |\n",
       "| Intentional homicide | Královéhradecký kraj |   1 |\n",
       "| Intentional homicide | Pardubický kraj      |   0 |\n",
       "| Intentional homicide | Kraj Vysočina        |   3 |\n",
       "| Intentional homicide | Jihomoravský kraj    |   6 |\n",
       "| Intentional homicide | Olomoucký kraj       |   2 |\n",
       "| Intentional homicide | Zlínský kraj         |   2 |\n",
       "| Intentional homicide | Moravskoslezský kraj |   4 |\n",
       "| Assault              | Hlavní město Praha   | 530 |\n",
       "| Assault              | Středočeský kraj     | 393 |\n",
       "| Assault              | Jihočeský kraj       | 269 |\n",
       "| Assault              | Plzeňský kraj        | 204 |\n",
       "| Assault              | Karlovarský kraj     | 130 |\n",
       "| Assault              | Ústecký kraj         | 359 |\n",
       "| Assault              | Liberecký kraj       | 192 |\n",
       "| Assault              | Královéhradecký kraj | 162 |\n",
       "| Assault              | Pardubický kraj      | 120 |\n",
       "| Assault              | Kraj Vysočina        | 226 |\n",
       "| Assault              | Jihomoravský kraj    | 509 |\n",
       "| Assault              | Olomoucký kraj       | 314 |\n",
       "| Assault              | Zlínský kraj         | 245 |\n",
       "| Assault              | Moravskoslezský kraj | 637 |\n",
       "| Robbery              | Hlavní město Praha   | 190 |\n",
       "| Robbery              | Středočeský kraj     | 110 |\n",
       "| ⋮ | ⋮ | ⋮ |\n",
       "| Burglary of private residential premises | Zlínský kraj         |  105 |\n",
       "| Burglary of private residential premises | Moravskoslezský kraj |  511 |\n",
       "| Theft                                    | Hlavní město Praha   | 7861 |\n",
       "| Theft                                    | Středočeský kraj     | 2727 |\n",
       "| Theft                                    | Jihočeský kraj       | 1044 |\n",
       "| Theft                                    | Plzeňský kraj        | 1302 |\n",
       "| Theft                                    | Karlovarský kraj     |  633 |\n",
       "| Theft                                    | Ústecký kraj         | 2386 |\n",
       "| Theft                                    | Liberecký kraj       |  929 |\n",
       "| Theft                                    | Královéhradecký kraj |  677 |\n",
       "| Theft                                    | Pardubický kraj      |  644 |\n",
       "| Theft                                    | Kraj Vysočina        |  499 |\n",
       "| Theft                                    | Jihomoravský kraj    | 2623 |\n",
       "| Theft                                    | Olomoucký kraj       | 1188 |\n",
       "| Theft                                    | Zlínský kraj         |  579 |\n",
       "| Theft                                    | Moravskoslezský kraj | 3497 |\n",
       "| Theft of a motorized land vehicle        | Hlavní město Praha   |  411 |\n",
       "| Theft of a motorized land vehicle        | Středočeský kraj     |  346 |\n",
       "| Theft of a motorized land vehicle        | Jihočeský kraj       |  118 |\n",
       "| Theft of a motorized land vehicle        | Plzeňský kraj        |  141 |\n",
       "| Theft of a motorized land vehicle        | Karlovarský kraj     |   54 |\n",
       "| Theft of a motorized land vehicle        | Ústecký kraj         |  222 |\n",
       "| Theft of a motorized land vehicle        | Liberecký kraj       |  118 |\n",
       "| Theft of a motorized land vehicle        | Královéhradecký kraj |   90 |\n",
       "| Theft of a motorized land vehicle        | Pardubický kraj      |   59 |\n",
       "| Theft of a motorized land vehicle        | Kraj Vysočina        |   51 |\n",
       "| Theft of a motorized land vehicle        | Jihomoravský kraj    |  234 |\n",
       "| Theft of a motorized land vehicle        | Olomoucký kraj       |   86 |\n",
       "| Theft of a motorized land vehicle        | Zlínský kraj         |   57 |\n",
       "| Theft of a motorized land vehicle        | Moravskoslezský kraj |  226 |\n",
       "\n"
      ],
      "text/plain": [
       "   iccs                                     geo                  values\n",
       "1  Intentional homicide                     Hlavní město Praha     7   \n",
       "2  Intentional homicide                     Středočeský kraj       1   \n",
       "3  Intentional homicide                     Jihočeský kraj         7   \n",
       "4  Intentional homicide                     Plzeňský kraj          2   \n",
       "5  Intentional homicide                     Karlovarský kraj       3   \n",
       "6  Intentional homicide                     Ústecký kraj           5   \n",
       "7  Intentional homicide                     Liberecký kraj         3   \n",
       "8  Intentional homicide                     Královéhradecký kraj   1   \n",
       "9  Intentional homicide                     Pardubický kraj        0   \n",
       "10 Intentional homicide                     Kraj Vysočina          3   \n",
       "11 Intentional homicide                     Jihomoravský kraj      6   \n",
       "12 Intentional homicide                     Olomoucký kraj         2   \n",
       "13 Intentional homicide                     Zlínský kraj           2   \n",
       "14 Intentional homicide                     Moravskoslezský kraj   4   \n",
       "15 Assault                                  Hlavní město Praha   530   \n",
       "16 Assault                                  Středočeský kraj     393   \n",
       "17 Assault                                  Jihočeský kraj       269   \n",
       "18 Assault                                  Plzeňský kraj        204   \n",
       "19 Assault                                  Karlovarský kraj     130   \n",
       "20 Assault                                  Ústecký kraj         359   \n",
       "21 Assault                                  Liberecký kraj       192   \n",
       "22 Assault                                  Královéhradecký kraj 162   \n",
       "23 Assault                                  Pardubický kraj      120   \n",
       "24 Assault                                  Kraj Vysočina        226   \n",
       "25 Assault                                  Jihomoravský kraj    509   \n",
       "26 Assault                                  Olomoucký kraj       314   \n",
       "27 Assault                                  Zlínský kraj         245   \n",
       "28 Assault                                  Moravskoslezský kraj 637   \n",
       "29 Robbery                                  Hlavní město Praha   190   \n",
       "30 Robbery                                  Středočeský kraj     110   \n",
       "⋮  ⋮                                        ⋮                    ⋮     \n",
       "69 Burglary of private residential premises Zlínský kraj          105  \n",
       "70 Burglary of private residential premises Moravskoslezský kraj  511  \n",
       "71 Theft                                    Hlavní město Praha   7861  \n",
       "72 Theft                                    Středočeský kraj     2727  \n",
       "73 Theft                                    Jihočeský kraj       1044  \n",
       "74 Theft                                    Plzeňský kraj        1302  \n",
       "75 Theft                                    Karlovarský kraj      633  \n",
       "76 Theft                                    Ústecký kraj         2386  \n",
       "77 Theft                                    Liberecký kraj        929  \n",
       "78 Theft                                    Královéhradecký kraj  677  \n",
       "79 Theft                                    Pardubický kraj       644  \n",
       "80 Theft                                    Kraj Vysočina         499  \n",
       "81 Theft                                    Jihomoravský kraj    2623  \n",
       "82 Theft                                    Olomoucký kraj       1188  \n",
       "83 Theft                                    Zlínský kraj          579  \n",
       "84 Theft                                    Moravskoslezský kraj 3497  \n",
       "85 Theft of a motorized land vehicle        Hlavní město Praha    411  \n",
       "86 Theft of a motorized land vehicle        Středočeský kraj      346  \n",
       "87 Theft of a motorized land vehicle        Jihočeský kraj        118  \n",
       "88 Theft of a motorized land vehicle        Plzeňský kraj         141  \n",
       "89 Theft of a motorized land vehicle        Karlovarský kraj       54  \n",
       "90 Theft of a motorized land vehicle        Ústecký kraj          222  \n",
       "91 Theft of a motorized land vehicle        Liberecký kraj        118  \n",
       "92 Theft of a motorized land vehicle        Královéhradecký kraj   90  \n",
       "93 Theft of a motorized land vehicle        Pardubický kraj        59  \n",
       "94 Theft of a motorized land vehicle        Kraj Vysočina          51  \n",
       "95 Theft of a motorized land vehicle        Jihomoravský kraj     234  \n",
       "96 Theft of a motorized land vehicle        Olomoucký kraj         86  \n",
       "97 Theft of a motorized land vehicle        Zlínský kraj           57  \n",
       "98 Theft of a motorized land vehicle        Moravskoslezský kraj  226  "
      ]
     },
     "metadata": {},
     "output_type": "display_data"
    }
   ],
   "source": [
    "czech_data"
   ]
  },
  {
   "cell_type": "code",
   "execution_count": 9,
   "id": "a2a49cc1-6d94-4d15-8876-bf7338063a74",
   "metadata": {
    "ExecuteTime": {
     "end_time": "2024-03-27T20:40:49.054605Z",
     "start_time": "2024-03-27T20:40:49.027795Z"
    }
   },
   "outputs": [],
   "source": [
    "# split into separate nuts3 tables\n",
    "region_tables <- split(czech_data, czech_data$geo)"
   ]
  },
  {
   "cell_type": "code",
   "execution_count": 10,
   "id": "3d451e73-c19f-46dc-8bf3-191faaff1404",
   "metadata": {
    "ExecuteTime": {
     "end_time": "2024-03-27T20:40:49.154743Z",
     "start_time": "2024-03-27T20:40:49.061997Z"
    }
   },
   "outputs": [
    {
     "name": "stdout",
     "output_type": "stream",
     "text": [
      "                 Region Min            Min_Crime  Max Max_Crime      Mean\n",
      "1    Hlavní město Praha   7 Intentional homicide 9937  Burglary 2863.0000\n",
      "2        Jihočeský kraj   7 Intentional homicide 1044     Theft  374.0000\n",
      "3     Jihomoravský kraj   6 Intentional homicide 3296  Burglary 1043.4286\n",
      "4      Karlovarský kraj   3 Intentional homicide  633     Theft  229.8571\n",
      "5         Kraj Vysočina   3 Intentional homicide  508  Burglary  208.5714\n",
      "6  Královéhradecký kraj   1 Intentional homicide  677     Theft  241.7143\n",
      "7        Liberecký kraj   3 Intentional homicide  938  Burglary  352.2857\n",
      "8  Moravskoslezský kraj   4 Intentional homicide 3686  Burglary 1252.0000\n",
      "9        Olomoucký kraj   2 Intentional homicide 1188     Theft  388.0000\n",
      "10      Pardubický kraj   0 Intentional homicide  644     Theft  218.4286\n",
      "11        Plzeňský kraj   2 Intentional homicide 1775  Burglary  549.8571\n",
      "12     Středočeský kraj   1 Intentional homicide 4006  Burglary 1245.8571\n",
      "13         Ústecký kraj   5 Intentional homicide 2533  Burglary  871.2857\n",
      "14         Zlínský kraj   2 Intentional homicide  579     Theft  209.8571\n",
      "   Median\n",
      "1     530\n",
      "2     206\n",
      "3     462\n",
      "4     130\n",
      "5     146\n",
      "6     112\n",
      "7     192\n",
      "8     511\n",
      "9     182\n",
      "10     95\n",
      "11    204\n",
      "12    393\n",
      "13    359\n",
      "14    105\n"
     ]
    }
   ],
   "source": [
    "# predefine table\n",
    "stats_table <- data.frame(\n",
    "  Region = character(), \n",
    "  Min = numeric(),  \n",
    "  Min_Crime = character(),\n",
    "  Max = numeric(),  \n",
    "  Max_Crime = character(),    \n",
    "  Mean = numeric(), \n",
    "  Median = numeric(), \n",
    "  stringsAsFactors = FALSE\n",
    ")\n",
    "\n",
    "# calculate basic statistic for each nuts3 region\n",
    "for (region in names(region_tables)) {\n",
    "  region_data <- region_tables[[region]]\n",
    "\n",
    "  min_crime <- region_data[which.min(region_data$values), \"iccs\"]\n",
    "  max_crime <- region_data[which.max(region_data$values), \"iccs\"]  \n",
    "\n",
    "  min_crime <- as.character(min_crime)\n",
    "  max_crime <- as.character(max_crime)  \n",
    "    \n",
    "  summary_stats <- region_data %>%\n",
    "    summarise(\n",
    "      Min = min(values),\n",
    "      Max = max(values),  \n",
    "      Mean = mean(values),\n",
    "      Median = median(values),\n",
    "    )\n",
    "  \n",
    "  summary_stats$Region <- region\n",
    "  summary_stats$Min_Crime <- min_crime\n",
    "  summary_stats$Max_Crime <- max_crime\n",
    "  \n",
    "  # add row\n",
    "  stats_table <- bind_rows(stats_table, summary_stats)\n",
    "}\n",
    "\n",
    "print(stats_table)"
   ]
  },
  {
   "cell_type": "markdown",
   "id": "f5f79e46-19f1-4b3b-a4f8-66d75072accf",
   "metadata": {},
   "source": [
    "### Zajímavosti\n",
    "\n",
    " * **Praha versus regiony**: Hlavní město Praha vykazuje výrazně vyšší počet trestných činů než většina ostatních regionů. To může být způsobeno vysokou hustotou obyvatelstva a vyšší mírou urbanizace, což vede ke zvýšené kriminalitě v oblastech s větší populací a ekonomickou aktivitou.\n",
    " * Jihomoravský kraj a Moravskoslezský mají také vysoký průměrný počet trestných činů (Mean = 1043, Mean = 1252), což může být důsledkem jeho rozsáhlého průmyslového a obchodního sektoru.\n",
    " * Naopak Pardubický kraj má nejnižší průměrný počet trestných činů (Mean = 218), což může naznačovat relativně nižší úroveň kriminality v tomto regionu. Jeden z možných důvodu je např. vyšší míra sociální stability a silnější komunitní vazby\n",
    " * Minimální hodnoty:\n",
    "     1. Intentional homicide: nízký počet úmyslných vražd, může to být výsledek několika faktorů jako jsou silné sociální normy proti násilí a vraždám,tyto trestné činy méně tolerovány což je logický. Regiony může mít účinné bezpečnostní opatření, jako je vysoká přítomnost policie, moderní technologie sledování a prevence kriminality\n",
    " * Maximální hodnoty:\n",
    "     1. Theft, burglary: jednoduchost spáchání vloupání a krádeží a riziko, že pachatelé nebudou chyceni, může být jedním z faktorů, které přispívají k vysokým počtům těchto trestných činů. Možnost rychle získat cenný majetek nebo peníze může také motivaci\n",
    "  \n",
    "> Burglary/breaking and entering and theft with force or the threat of force (robbery) should be EXCLUDED while ,Theft of a motorized land vehicle should be INCLUDED , based on ICCS manual.\n",
    "\n",
    ">“Burglary” should include, where possible, theft from a house, apartment or other dwelling place, factory, shop or office, from a military establishment, or by using false keys. It should exclude theft from a car, from a container, from a vending machine, from a parking meter and from fenced meadow/compound.\n",
    "\n",
    "Z toho vyplývá, že pro korektní zobrazení počtu/rozložení trestných činu měli bychom vynechat činy *Burglary of private residential premises* a *Theft of a motorized land vehicle*, jelikož už jsou zahrnuté v *Burglary* resp. *Theft*\n",
    "        "
   ]
  },
  {
   "cell_type": "code",
   "execution_count": 38,
   "id": "3ea1699d-e36b-4725-ba2d-38165cdd7bb2",
   "metadata": {
    "ExecuteTime": {
     "end_time": "2024-03-27T20:40:49.486068Z",
     "start_time": "2024-03-27T20:40:49.160955Z"
    }
   },
   "outputs": [
    {
     "data": {
      "image/png": "[encoded data removed]",
      "text/plain": [
       "plot without title"
      ]
     },
     "metadata": {
      "image/png": {
       "height": 420,
       "width": 420
      }
     },
     "output_type": "display_data"
    }
   ],
   "source": [
    "czech_data_no_duplicates <- czech_data %>%\n",
    "  filter(iccs != \"Burglary of private residential premises\" & iccs != \"Theft of a motorized land vehicle\")\n",
    "\n",
    "ggplot(czech_data_no_duplicates, aes(x = geo, y = values)) +\n",
    "  geom_bar(stat = \"summary\", fun = \"sum\", fill = \"skyblue\") +\n",
    "  labs(title = \"Celkový počet trestných činů v jednotlivých regionech\", \n",
    "       x = \"Region\", y = \"Celkový počet trestných činů\") +\n",
    "  theme(axis.text.x = element_text(angle = 45, hjust = 1))"
   ]
  },
  {
   "cell_type": "markdown",
   "id": "28e68799-369a-435f-8438-53adb5b89100",
   "metadata": {},
   "source": [
    "> Nejvyšší trestnou činnost jsme evidovali v Praze a v Moravskoslezském kraji [kriminalita-v-roce-2021](https://www.policie.cz/clanek/vyvoj-registrovane-kriminality-v-roce-2021.aspx)\n",
    "\n",
    "> Majetková kriminalita je nejzastoupenější oblastí [kriminalita-v-roce-2021](https://www.policie.cz/clanek/vyvoj-registrovane-kriminality-v-roce-2021.aspx)\n",
    "\n",
    "Na grafu je patrné, že nejvyšší počet trestných činů je zaznamenán v Praze a v Moravskoslezském kraji. A druhou část budeme moci ověřit z pie chartu. Avšak čísla uváděná na stránkách policie.cz jsou vyšší než ty, které máme v datasetu. Myslím si, že nejsou zaznamenány trestné činy spáchané v souvislosti s dopravními silničními nehodami, kterou by tvořili značnou část datasetu.\n",
    "\n",
    "#### Rozložení jednotlivých trestných činů v datasetu\n",
    "* Burglary(vloupání): je nejčastějším trestným činem. Toto číslo může indikovat nedostatečné zabezpečení domů, slabiny v policejním hlídání\n",
    "* Theft (krádež) je druhým nejčastějším trestným činem, představujícím 42.3% všech případů. Zde může navíc být zkoumáno, pokud by bylo poskutnuto dostatek informaci, zda jsou určité lokality nebo období častěji postiženy krádežemi, a jaké faktory mohou přispívat k tomuto jevu.\n"
   ]
  },
  {
   "cell_type": "code",
   "execution_count": 29,
   "id": "f1f9a671-9f34-4545-90ae-e7e6b762cb23",
   "metadata": {},
   "outputs": [
    {
     "data": {
      "image/png": "[encoded data removed]",
      "text/plain": [
       "plot without title"
      ]
     },
     "metadata": {
      "image/png": {
       "height": 420,
       "width": 420
      }
     },
     "output_type": "display_data"
    }
   ],
   "source": [
    "crime_sums <- tapply(czech_data_no_duplicates$values, czech_data_no_duplicates$iccs, sum)\n",
    "crime_sums_df <- data.frame(crime = names(crime_sums),\n",
    "                            count = crime_sums)\n",
    "crime_sums_df$percent <- crime_sums_df$count / sum(crime_sums_df$count) * 100\n",
    "pie_chart <- ggplot(crime_sums_df, aes(x = \"\", y = count, fill = crime)) +\n",
    "  geom_bar(stat = \"identity\", width = 1) +\n",
    "  coord_polar(\"y\", start = 0) +\n",
    "  labs(title = \"Total Occurrences of Crimes\") +\n",
    "  theme_void() +\n",
    "  theme(legend.position = \"right\",\n",
    "        legend.text = element_text(size = 12),\n",
    "        legend.title = element_text(size = 10)) +\n",
    "  scale_fill_discrete(labels = paste0(crime_sums_df$crime, \": \", round(crime_sums_df$percent, 1), \"%\"))\n",
    "print(pie_chart)\n"
   ]
  },
  {
   "cell_type": "code",
   "execution_count": 39,
   "id": "1abec0ea-7d81-4464-a5f2-12c7f5a2af43",
   "metadata": {
    "ExecuteTime": {
     "end_time": "2024-03-27T20:40:49.761280Z",
     "start_time": "2024-03-27T20:40:49.491955Z"
    }
   },
   "outputs": [
    {
     "data": {
      "image/png": "[encoded data removed]",
      "text/plain": [
       "plot without title"
      ]
     },
     "metadata": {
      "image/png": {
       "height": 420,
       "width": 420
      }
     },
     "output_type": "display_data"
    }
   ],
   "source": [
    "homicide_plot <- ggplot(czech_data[czech_data$iccs == \"Intentional homicide\", ], aes(x = geo, y = values)) +\n",
    "  geom_bar(stat = \"identity\", fill = \"skyblue\") +\n",
    "  labs(title = \"Intentional Homicide by Region\", x = \"Region\", y = \"Number of Cases\") +\n",
    "  theme(axis.text.x = element_text(angle = 0, hjust = 1)) +\n",
    "  coord_flip()\n",
    "homicide_plot"
   ]
  },
  {
   "cell_type": "code",
   "execution_count": 40,
   "id": "46e1aae7-1adb-4484-920b-24a2d54229a8",
   "metadata": {
    "ExecuteTime": {
     "end_time": "2024-03-27T20:40:50.004811Z",
     "start_time": "2024-03-27T20:40:49.768201Z"
    }
   },
   "outputs": [
    {
     "data": {
      "image/png": "[encoded data removed]",
      "text/plain": [
       "plot without title"
      ]
     },
     "metadata": {
      "image/png": {
       "height": 420,
       "width": 420
      }
     },
     "output_type": "display_data"
    }
   ],
   "source": [
    "assault_plot <- ggplot(czech_data[czech_data$iccs == \"Assault\", ], aes(x = geo, y = values)) +\n",
    "  geom_bar(stat = \"identity\", fill = \"salmon\") +\n",
    "  labs(title = \"Assault Cases by Region\", x = \"Region\", y = \"Number of Cases\") +\n",
    "  theme(axis.text.x = element_text(angle = 0, hjust = 1)) +\n",
    "  coord_flip()\n",
    "assault_plot"
   ]
  },
  {
   "cell_type": "markdown",
   "id": "8e5820d4-5c66-474f-bca7-29aba7b3e6ab",
   "metadata": {},
   "source": [
    "## Kontingenční tabulka"
   ]
  },
  {
   "cell_type": "markdown",
   "id": "a54b7b56-52aa-48f1-865f-99c6df775c97",
   "metadata": {},
   "source": [
    "Pro začátek zkrátíme názvy jedinečných hodnot atributu \"iccs\", aby byla tabulka přehlednější."
   ]
  },
  {
   "cell_type": "code",
   "execution_count": 15,
   "id": "c0047e33-659a-4a20-bc68-7b503415b76f",
   "metadata": {
    "ExecuteTime": {
     "end_time": "2024-03-27T20:40:50.068485Z",
     "start_time": "2024-03-27T20:40:50.038126Z"
    }
   },
   "outputs": [
    {
     "data": {
      "text/html": [
       "<style>\n",
       ".list-inline {list-style: none; margin:0; padding: 0}\n",
       ".list-inline>li {display: inline-block}\n",
       ".list-inline>li:not(:last-child)::after {content: \"\\00b7\"; padding: 0 .5ex}\n",
       "</style>\n",
       "<ol class=list-inline><li>'Intentional homicide'</li><li>'Assault'</li><li>'Robbery'</li><li>'Burglary'</li><li>'Burglary of private residential premises'</li><li>'Theft'</li><li>'Theft of a motorized land vehicle'</li></ol>\n"
      ],
      "text/latex": [
       "\\begin{enumerate*}\n",
       "\\item 'Intentional homicide'\n",
       "\\item 'Assault'\n",
       "\\item 'Robbery'\n",
       "\\item 'Burglary'\n",
       "\\item 'Burglary of private residential premises'\n",
       "\\item 'Theft'\n",
       "\\item 'Theft of a motorized land vehicle'\n",
       "\\end{enumerate*}\n"
      ],
      "text/markdown": [
       "1. 'Intentional homicide'\n",
       "2. 'Assault'\n",
       "3. 'Robbery'\n",
       "4. 'Burglary'\n",
       "5. 'Burglary of private residential premises'\n",
       "6. 'Theft'\n",
       "7. 'Theft of a motorized land vehicle'\n",
       "\n",
       "\n"
      ],
      "text/plain": [
       "[1] \"Intentional homicide\"                    \n",
       "[2] \"Assault\"                                 \n",
       "[3] \"Robbery\"                                 \n",
       "[4] \"Burglary\"                                \n",
       "[5] \"Burglary of private residential premises\"\n",
       "[6] \"Theft\"                                   \n",
       "[7] \"Theft of a motorized land vehicle\"       "
      ]
     },
     "metadata": {},
     "output_type": "display_data"
    }
   ],
   "source": [
    "unique_values <- unique(czech_data$iccs)\n",
    "unique_values"
   ]
  },
  {
   "cell_type": "code",
   "execution_count": 16,
   "id": "6676fb18-8773-43f4-824d-53cae53586bb",
   "metadata": {
    "ExecuteTime": {
     "end_time": "2024-03-27T20:40:50.098603Z",
     "start_time": "2024-03-27T20:40:50.074467Z"
    }
   },
   "outputs": [],
   "source": [
    "# Přejmenování hodnot v atributu 'iccs'\n",
    "czech_data$iccs <- recode(czech_data$iccs,\n",
    "                           'Intentional homicide' = 'Homicide',\n",
    "                           'Assault' = 'Asslt',\n",
    "                           'Robbery' = 'Rbry',\n",
    "                           'Burglary' = 'Brglry',\n",
    "                           'Burglary of private residential premises' = 'Brglry Pvt Rsdnc',\n",
    "                           'Theft' = 'Thft',\n",
    "                           'Theft of a motorized land vehicle' = 'Vhcl Thft')"
   ]
  },
  {
   "cell_type": "markdown",
   "id": "a993a42c-ac11-4ce5-8372-0d627fb25505",
   "metadata": {},
   "source": [
    "Nyní přímo sestavíme kontingenční tabulku, která bude obsahovat počty konkrétních trestných činů v určitých regionech České republiky."
   ]
  },
  {
   "cell_type": "code",
   "execution_count": 17,
   "id": "eb67bd17-33e6-4f0d-b0f7-78d289b73713",
   "metadata": {
    "ExecuteTime": {
     "end_time": "2024-03-27T20:40:50.138673Z",
     "start_time": "2024-03-27T20:40:50.105218Z"
    }
   },
   "outputs": [
    {
     "name": "stdout",
     "output_type": "stream",
     "text": [
      "                      iccs\n",
      "geo                    Asslt Brglry Brglry Pvt Rsdnc Homicide Rbry Thft Vhcl Thft\n",
      "  Hlavní město Praha     530   9937             1105        7  190 7861       411\n",
      "  Jihočeský kraj         269    931              206        7   43 1044       118\n",
      "  Jihomoravský kraj      509   3296              462        6  174 2623       234\n",
      "  Karlovarský kraj       130    599              149        3   41  633        54\n",
      "  Kraj Vysočina          226    508              146        3   27  499        51\n",
      "  Královéhradecký kraj   162    612              112        1   38  677        90\n",
      "  Liberecký kraj         192    938              216        3   70  929       118\n",
      "  Moravskoslezský kraj   637   3686              511        4  203 3497       226\n",
      "  Olomoucký kraj         314    893              182        2   51 1188        86\n",
      "  Pardubický kraj        120    587               95        0   24  644        59\n",
      "  Plzeňský kraj          204   1775              359        2   66 1302       141\n",
      "  Středočeský kraj       393   4006             1138        1  110 2727       346\n",
      "  Ústecký kraj           359   2533              435        5  159 2386       222\n",
      "  Zlínský kraj           245    447              105        2   34  579        57\n"
     ]
    }
   ],
   "source": [
    "options(width = 120)\n",
    "kont_tab <- xtabs(formula=values ~ geo + iccs, data=czech_data)\n",
    "print(kont_tab)"
   ]
  },
  {
   "cell_type": "code",
   "execution_count": 18,
   "id": "921622a8-12cb-4e21-b7be-3dcf0af2a092",
   "metadata": {
    "ExecuteTime": {
     "end_time": "2024-03-27T20:40:50.192207Z",
     "start_time": "2024-03-27T20:40:50.145883Z"
    }
   },
   "outputs": [
    {
     "data": {
      "text/html": [
       "<table class=\"dataframe\">\n",
       "<caption>A table: 15 × 8 of type dbl</caption>\n",
       "<thead>\n",
       "\t<tr><th></th><th scope=col>Asslt</th><th scope=col>Brglry</th><th scope=col>Brglry Pvt Rsdnc</th><th scope=col>Homicide</th><th scope=col>Rbry</th><th scope=col>Thft</th><th scope=col>Vhcl Thft</th><th scope=col>Sum</th></tr>\n",
       "</thead>\n",
       "<tbody>\n",
       "\t<tr><th scope=row>Hlavní město Praha</th><td> 530</td><td> 9937</td><td>1105</td><td> 7</td><td> 190</td><td> 7861</td><td> 411</td><td>20041</td></tr>\n",
       "\t<tr><th scope=row>Jihočeský kraj</th><td> 269</td><td>  931</td><td> 206</td><td> 7</td><td>  43</td><td> 1044</td><td> 118</td><td> 2618</td></tr>\n",
       "\t<tr><th scope=row>Jihomoravský kraj</th><td> 509</td><td> 3296</td><td> 462</td><td> 6</td><td> 174</td><td> 2623</td><td> 234</td><td> 7304</td></tr>\n",
       "\t<tr><th scope=row>Karlovarský kraj</th><td> 130</td><td>  599</td><td> 149</td><td> 3</td><td>  41</td><td>  633</td><td>  54</td><td> 1609</td></tr>\n",
       "\t<tr><th scope=row>Kraj Vysočina</th><td> 226</td><td>  508</td><td> 146</td><td> 3</td><td>  27</td><td>  499</td><td>  51</td><td> 1460</td></tr>\n",
       "\t<tr><th scope=row>Královéhradecký kraj</th><td> 162</td><td>  612</td><td> 112</td><td> 1</td><td>  38</td><td>  677</td><td>  90</td><td> 1692</td></tr>\n",
       "\t<tr><th scope=row>Liberecký kraj</th><td> 192</td><td>  938</td><td> 216</td><td> 3</td><td>  70</td><td>  929</td><td> 118</td><td> 2466</td></tr>\n",
       "\t<tr><th scope=row>Moravskoslezský kraj</th><td> 637</td><td> 3686</td><td> 511</td><td> 4</td><td> 203</td><td> 3497</td><td> 226</td><td> 8764</td></tr>\n",
       "\t<tr><th scope=row>Olomoucký kraj</th><td> 314</td><td>  893</td><td> 182</td><td> 2</td><td>  51</td><td> 1188</td><td>  86</td><td> 2716</td></tr>\n",
       "\t<tr><th scope=row>Pardubický kraj</th><td> 120</td><td>  587</td><td>  95</td><td> 0</td><td>  24</td><td>  644</td><td>  59</td><td> 1529</td></tr>\n",
       "\t<tr><th scope=row>Plzeňský kraj</th><td> 204</td><td> 1775</td><td> 359</td><td> 2</td><td>  66</td><td> 1302</td><td> 141</td><td> 3849</td></tr>\n",
       "\t<tr><th scope=row>Středočeský kraj</th><td> 393</td><td> 4006</td><td>1138</td><td> 1</td><td> 110</td><td> 2727</td><td> 346</td><td> 8721</td></tr>\n",
       "\t<tr><th scope=row>Ústecký kraj</th><td> 359</td><td> 2533</td><td> 435</td><td> 5</td><td> 159</td><td> 2386</td><td> 222</td><td> 6099</td></tr>\n",
       "\t<tr><th scope=row>Zlínský kraj</th><td> 245</td><td>  447</td><td> 105</td><td> 2</td><td>  34</td><td>  579</td><td>  57</td><td> 1469</td></tr>\n",
       "\t<tr><th scope=row>Sum</th><td>4290</td><td>30748</td><td>5221</td><td>46</td><td>1230</td><td>26589</td><td>2213</td><td>70337</td></tr>\n",
       "</tbody>\n",
       "</table>\n"
      ],
      "text/latex": [
       "A table: 15 × 8 of type dbl\n",
       "\\begin{tabular}{r|llllllll}\n",
       "  & Asslt & Brglry & Brglry Pvt Rsdnc & Homicide & Rbry & Thft & Vhcl Thft & Sum\\\\\n",
       "\\hline\n",
       "\tHlavní město Praha &  530 &  9937 & 1105 &  7 &  190 &  7861 &  411 & 20041\\\\\n",
       "\tJihočeský kraj &  269 &   931 &  206 &  7 &   43 &  1044 &  118 &  2618\\\\\n",
       "\tJihomoravský kraj &  509 &  3296 &  462 &  6 &  174 &  2623 &  234 &  7304\\\\\n",
       "\tKarlovarský kraj &  130 &   599 &  149 &  3 &   41 &   633 &   54 &  1609\\\\\n",
       "\tKraj Vysočina &  226 &   508 &  146 &  3 &   27 &   499 &   51 &  1460\\\\\n",
       "\tKrálovéhradecký kraj &  162 &   612 &  112 &  1 &   38 &   677 &   90 &  1692\\\\\n",
       "\tLiberecký kraj &  192 &   938 &  216 &  3 &   70 &   929 &  118 &  2466\\\\\n",
       "\tMoravskoslezský kraj &  637 &  3686 &  511 &  4 &  203 &  3497 &  226 &  8764\\\\\n",
       "\tOlomoucký kraj &  314 &   893 &  182 &  2 &   51 &  1188 &   86 &  2716\\\\\n",
       "\tPardubický kraj &  120 &   587 &   95 &  0 &   24 &   644 &   59 &  1529\\\\\n",
       "\tPlzeňský kraj &  204 &  1775 &  359 &  2 &   66 &  1302 &  141 &  3849\\\\\n",
       "\tStředočeský kraj &  393 &  4006 & 1138 &  1 &  110 &  2727 &  346 &  8721\\\\\n",
       "\tÚstecký kraj &  359 &  2533 &  435 &  5 &  159 &  2386 &  222 &  6099\\\\\n",
       "\tZlínský kraj &  245 &   447 &  105 &  2 &   34 &   579 &   57 &  1469\\\\\n",
       "\tSum & 4290 & 30748 & 5221 & 46 & 1230 & 26589 & 2213 & 70337\\\\\n",
       "\\end{tabular}\n"
      ],
      "text/markdown": [
       "\n",
       "A table: 15 × 8 of type dbl\n",
       "\n",
       "| <!--/--> | Asslt | Brglry | Brglry Pvt Rsdnc | Homicide | Rbry | Thft | Vhcl Thft | Sum |\n",
       "|---|---|---|---|---|---|---|---|---|\n",
       "| Hlavní město Praha |  530 |  9937 | 1105 |  7 |  190 |  7861 |  411 | 20041 |\n",
       "| Jihočeský kraj |  269 |   931 |  206 |  7 |   43 |  1044 |  118 |  2618 |\n",
       "| Jihomoravský kraj |  509 |  3296 |  462 |  6 |  174 |  2623 |  234 |  7304 |\n",
       "| Karlovarský kraj |  130 |   599 |  149 |  3 |   41 |   633 |   54 |  1609 |\n",
       "| Kraj Vysočina |  226 |   508 |  146 |  3 |   27 |   499 |   51 |  1460 |\n",
       "| Královéhradecký kraj |  162 |   612 |  112 |  1 |   38 |   677 |   90 |  1692 |\n",
       "| Liberecký kraj |  192 |   938 |  216 |  3 |   70 |   929 |  118 |  2466 |\n",
       "| Moravskoslezský kraj |  637 |  3686 |  511 |  4 |  203 |  3497 |  226 |  8764 |\n",
       "| Olomoucký kraj |  314 |   893 |  182 |  2 |   51 |  1188 |   86 |  2716 |\n",
       "| Pardubický kraj |  120 |   587 |   95 |  0 |   24 |   644 |   59 |  1529 |\n",
       "| Plzeňský kraj |  204 |  1775 |  359 |  2 |   66 |  1302 |  141 |  3849 |\n",
       "| Středočeský kraj |  393 |  4006 | 1138 |  1 |  110 |  2727 |  346 |  8721 |\n",
       "| Ústecký kraj |  359 |  2533 |  435 |  5 |  159 |  2386 |  222 |  6099 |\n",
       "| Zlínský kraj |  245 |   447 |  105 |  2 |   34 |   579 |   57 |  1469 |\n",
       "| Sum | 4290 | 30748 | 5221 | 46 | 1230 | 26589 | 2213 | 70337 |\n",
       "\n"
      ],
      "text/plain": [
       "                      iccs\n",
       "geo                    Asslt Brglry Brglry Pvt Rsdnc Homicide Rbry Thft  Vhcl Thft Sum  \n",
       "  Hlavní město Praha    530   9937  1105              7        190  7861  411      20041\n",
       "  Jihočeský kraj        269    931   206              7         43  1044  118       2618\n",
       "  Jihomoravský kraj     509   3296   462              6        174  2623  234       7304\n",
       "  Karlovarský kraj      130    599   149              3         41   633   54       1609\n",
       "  Kraj Vysočina         226    508   146              3         27   499   51       1460\n",
       "  Královéhradecký kraj  162    612   112              1         38   677   90       1692\n",
       "  Liberecký kraj        192    938   216              3         70   929  118       2466\n",
       "  Moravskoslezský kraj  637   3686   511              4        203  3497  226       8764\n",
       "  Olomoucký kraj        314    893   182              2         51  1188   86       2716\n",
       "  Pardubický kraj       120    587    95              0         24   644   59       1529\n",
       "  Plzeňský kraj         204   1775   359              2         66  1302  141       3849\n",
       "  Středočeský kraj      393   4006  1138              1        110  2727  346       8721\n",
       "  Ústecký kraj          359   2533   435              5        159  2386  222       6099\n",
       "  Zlínský kraj          245    447   105              2         34   579   57       1469\n",
       "  Sum                  4290  30748  5221             46       1230 26589 2213      70337"
      ]
     },
     "metadata": {},
     "output_type": "display_data"
    }
   ],
   "source": [
    "kont_tab <- as.table(kont_tab)\n",
    "addmargins(kont_tab)"
   ]
  },
  {
   "cell_type": "markdown",
   "id": "1db72f77-114b-4419-a45f-dc17c8eb4495",
   "metadata": {},
   "source": [
    "Z této tabulky lze pozorovat následující:\n",
    "* **Hlavní město Praha**: V porovnání s ostatními regiony má největší počet trestných činů. Nejčastějšími trestnými činy jsou loupeže (9937) a vloupání do bytů (1105).\n",
    "* **Kraj Vysočina**: Region s nejmenším celkovým počtem trestných činů (celkově 1460 trestných činů). To znamená, že Kraj Vysočina má nejmenší míru kriminality ve srovnání s ostatními regiony v České republice.\n",
    "* **Rozdíly mezi regiony**: Tabulka ukazuje výrazné rozdíly v počtu trestných činů mezi jednotlivými regiony České republiky. Tento fakt naznačuje, že kriminalita není rovnoměrně rozložena po celém území, a může být ovlivněna mnoha faktory, jako jsou hustota obyvatelstva, sociální podmínky a ekonomický stav.\n",
    "* **Dominantní typy trestných činů**: Z tabulky je zřejmé, že nejčastějšími trestnými činy jsou krádeže a loupeže, což je v souladu s obecnými trendy kriminality. Vraždy a vloupání do bytů jsou mnohem méně časté.\n",
    "* **Středočeský kraj jako příkladní případ**: Středočeský kraj má vysoký počet trestných činů, což může být způsobeno jeho blízkostí k Hlavnímu městu Praze a vysokou hustotou obyvatelstva v této oblasti."
   ]
  },
  {
   "cell_type": "code",
   "execution_count": 19,
   "id": "9d5394b7-ed1f-4259-913b-18b962cd0155",
   "metadata": {
    "ExecuteTime": {
     "end_time": "2024-03-27T20:40:50.241938Z",
     "start_time": "2024-03-27T20:40:50.199111Z"
    }
   },
   "outputs": [
    {
     "data": {
      "text/html": [
       "<table class=\"dataframe\">\n",
       "<caption>A table: 15 × 8 of type dbl</caption>\n",
       "<thead>\n",
       "\t<tr><th></th><th scope=col>Asslt</th><th scope=col>Brglry</th><th scope=col>Brglry Pvt Rsdnc</th><th scope=col>Homicide</th><th scope=col>Rbry</th><th scope=col>Thft</th><th scope=col>Vhcl Thft</th><th scope=col>Sum</th></tr>\n",
       "</thead>\n",
       "<tbody>\n",
       "\t<tr><th scope=row>Hlavní město Praha</th><td>0.0075</td><td>0.1413</td><td>0.0157</td><td>1e-04</td><td>0.0027</td><td>0.1118</td><td>0.0058</td><td>0.2849</td></tr>\n",
       "\t<tr><th scope=row>Jihočeský kraj</th><td>0.0038</td><td>0.0132</td><td>0.0029</td><td>1e-04</td><td>0.0006</td><td>0.0148</td><td>0.0017</td><td>0.0371</td></tr>\n",
       "\t<tr><th scope=row>Jihomoravský kraj</th><td>0.0072</td><td>0.0469</td><td>0.0066</td><td>1e-04</td><td>0.0025</td><td>0.0373</td><td>0.0033</td><td>0.1039</td></tr>\n",
       "\t<tr><th scope=row>Karlovarský kraj</th><td>0.0018</td><td>0.0085</td><td>0.0021</td><td>0e+00</td><td>0.0006</td><td>0.0090</td><td>0.0008</td><td>0.0228</td></tr>\n",
       "\t<tr><th scope=row>Kraj Vysočina</th><td>0.0032</td><td>0.0072</td><td>0.0021</td><td>0e+00</td><td>0.0004</td><td>0.0071</td><td>0.0007</td><td>0.0207</td></tr>\n",
       "\t<tr><th scope=row>Královéhradecký kraj</th><td>0.0023</td><td>0.0087</td><td>0.0016</td><td>0e+00</td><td>0.0005</td><td>0.0096</td><td>0.0013</td><td>0.0240</td></tr>\n",
       "\t<tr><th scope=row>Liberecký kraj</th><td>0.0027</td><td>0.0133</td><td>0.0031</td><td>0e+00</td><td>0.0010</td><td>0.0132</td><td>0.0017</td><td>0.0350</td></tr>\n",
       "\t<tr><th scope=row>Moravskoslezský kraj</th><td>0.0091</td><td>0.0524</td><td>0.0073</td><td>1e-04</td><td>0.0029</td><td>0.0497</td><td>0.0032</td><td>0.1247</td></tr>\n",
       "\t<tr><th scope=row>Olomoucký kraj</th><td>0.0045</td><td>0.0127</td><td>0.0026</td><td>0e+00</td><td>0.0007</td><td>0.0169</td><td>0.0012</td><td>0.0386</td></tr>\n",
       "\t<tr><th scope=row>Pardubický kraj</th><td>0.0017</td><td>0.0083</td><td>0.0014</td><td>0e+00</td><td>0.0003</td><td>0.0092</td><td>0.0008</td><td>0.0217</td></tr>\n",
       "\t<tr><th scope=row>Plzeňský kraj</th><td>0.0029</td><td>0.0252</td><td>0.0051</td><td>0e+00</td><td>0.0009</td><td>0.0185</td><td>0.0020</td><td>0.0546</td></tr>\n",
       "\t<tr><th scope=row>Středočeský kraj</th><td>0.0056</td><td>0.0570</td><td>0.0162</td><td>0e+00</td><td>0.0016</td><td>0.0388</td><td>0.0049</td><td>0.1241</td></tr>\n",
       "\t<tr><th scope=row>Ústecký kraj</th><td>0.0051</td><td>0.0360</td><td>0.0062</td><td>1e-04</td><td>0.0023</td><td>0.0339</td><td>0.0032</td><td>0.0868</td></tr>\n",
       "\t<tr><th scope=row>Zlínský kraj</th><td>0.0035</td><td>0.0064</td><td>0.0015</td><td>0e+00</td><td>0.0005</td><td>0.0082</td><td>0.0008</td><td>0.0209</td></tr>\n",
       "\t<tr><th scope=row>Sum</th><td>0.0609</td><td>0.4371</td><td>0.0744</td><td>5e-04</td><td>0.0175</td><td>0.3780</td><td>0.0314</td><td>0.9998</td></tr>\n",
       "</tbody>\n",
       "</table>\n"
      ],
      "text/latex": [
       "A table: 15 × 8 of type dbl\n",
       "\\begin{tabular}{r|llllllll}\n",
       "  & Asslt & Brglry & Brglry Pvt Rsdnc & Homicide & Rbry & Thft & Vhcl Thft & Sum\\\\\n",
       "\\hline\n",
       "\tHlavní město Praha & 0.0075 & 0.1413 & 0.0157 & 1e-04 & 0.0027 & 0.1118 & 0.0058 & 0.2849\\\\\n",
       "\tJihočeský kraj & 0.0038 & 0.0132 & 0.0029 & 1e-04 & 0.0006 & 0.0148 & 0.0017 & 0.0371\\\\\n",
       "\tJihomoravský kraj & 0.0072 & 0.0469 & 0.0066 & 1e-04 & 0.0025 & 0.0373 & 0.0033 & 0.1039\\\\\n",
       "\tKarlovarský kraj & 0.0018 & 0.0085 & 0.0021 & 0e+00 & 0.0006 & 0.0090 & 0.0008 & 0.0228\\\\\n",
       "\tKraj Vysočina & 0.0032 & 0.0072 & 0.0021 & 0e+00 & 0.0004 & 0.0071 & 0.0007 & 0.0207\\\\\n",
       "\tKrálovéhradecký kraj & 0.0023 & 0.0087 & 0.0016 & 0e+00 & 0.0005 & 0.0096 & 0.0013 & 0.0240\\\\\n",
       "\tLiberecký kraj & 0.0027 & 0.0133 & 0.0031 & 0e+00 & 0.0010 & 0.0132 & 0.0017 & 0.0350\\\\\n",
       "\tMoravskoslezský kraj & 0.0091 & 0.0524 & 0.0073 & 1e-04 & 0.0029 & 0.0497 & 0.0032 & 0.1247\\\\\n",
       "\tOlomoucký kraj & 0.0045 & 0.0127 & 0.0026 & 0e+00 & 0.0007 & 0.0169 & 0.0012 & 0.0386\\\\\n",
       "\tPardubický kraj & 0.0017 & 0.0083 & 0.0014 & 0e+00 & 0.0003 & 0.0092 & 0.0008 & 0.0217\\\\\n",
       "\tPlzeňský kraj & 0.0029 & 0.0252 & 0.0051 & 0e+00 & 0.0009 & 0.0185 & 0.0020 & 0.0546\\\\\n",
       "\tStředočeský kraj & 0.0056 & 0.0570 & 0.0162 & 0e+00 & 0.0016 & 0.0388 & 0.0049 & 0.1241\\\\\n",
       "\tÚstecký kraj & 0.0051 & 0.0360 & 0.0062 & 1e-04 & 0.0023 & 0.0339 & 0.0032 & 0.0868\\\\\n",
       "\tZlínský kraj & 0.0035 & 0.0064 & 0.0015 & 0e+00 & 0.0005 & 0.0082 & 0.0008 & 0.0209\\\\\n",
       "\tSum & 0.0609 & 0.4371 & 0.0744 & 5e-04 & 0.0175 & 0.3780 & 0.0314 & 0.9998\\\\\n",
       "\\end{tabular}\n"
      ],
      "text/markdown": [
       "\n",
       "A table: 15 × 8 of type dbl\n",
       "\n",
       "| <!--/--> | Asslt | Brglry | Brglry Pvt Rsdnc | Homicide | Rbry | Thft | Vhcl Thft | Sum |\n",
       "|---|---|---|---|---|---|---|---|---|\n",
       "| Hlavní město Praha | 0.0075 | 0.1413 | 0.0157 | 1e-04 | 0.0027 | 0.1118 | 0.0058 | 0.2849 |\n",
       "| Jihočeský kraj | 0.0038 | 0.0132 | 0.0029 | 1e-04 | 0.0006 | 0.0148 | 0.0017 | 0.0371 |\n",
       "| Jihomoravský kraj | 0.0072 | 0.0469 | 0.0066 | 1e-04 | 0.0025 | 0.0373 | 0.0033 | 0.1039 |\n",
       "| Karlovarský kraj | 0.0018 | 0.0085 | 0.0021 | 0e+00 | 0.0006 | 0.0090 | 0.0008 | 0.0228 |\n",
       "| Kraj Vysočina | 0.0032 | 0.0072 | 0.0021 | 0e+00 | 0.0004 | 0.0071 | 0.0007 | 0.0207 |\n",
       "| Královéhradecký kraj | 0.0023 | 0.0087 | 0.0016 | 0e+00 | 0.0005 | 0.0096 | 0.0013 | 0.0240 |\n",
       "| Liberecký kraj | 0.0027 | 0.0133 | 0.0031 | 0e+00 | 0.0010 | 0.0132 | 0.0017 | 0.0350 |\n",
       "| Moravskoslezský kraj | 0.0091 | 0.0524 | 0.0073 | 1e-04 | 0.0029 | 0.0497 | 0.0032 | 0.1247 |\n",
       "| Olomoucký kraj | 0.0045 | 0.0127 | 0.0026 | 0e+00 | 0.0007 | 0.0169 | 0.0012 | 0.0386 |\n",
       "| Pardubický kraj | 0.0017 | 0.0083 | 0.0014 | 0e+00 | 0.0003 | 0.0092 | 0.0008 | 0.0217 |\n",
       "| Plzeňský kraj | 0.0029 | 0.0252 | 0.0051 | 0e+00 | 0.0009 | 0.0185 | 0.0020 | 0.0546 |\n",
       "| Středočeský kraj | 0.0056 | 0.0570 | 0.0162 | 0e+00 | 0.0016 | 0.0388 | 0.0049 | 0.1241 |\n",
       "| Ústecký kraj | 0.0051 | 0.0360 | 0.0062 | 1e-04 | 0.0023 | 0.0339 | 0.0032 | 0.0868 |\n",
       "| Zlínský kraj | 0.0035 | 0.0064 | 0.0015 | 0e+00 | 0.0005 | 0.0082 | 0.0008 | 0.0209 |\n",
       "| Sum | 0.0609 | 0.4371 | 0.0744 | 5e-04 | 0.0175 | 0.3780 | 0.0314 | 0.9998 |\n",
       "\n"
      ],
      "text/plain": [
       "                      iccs\n",
       "geo                    Asslt  Brglry Brglry Pvt Rsdnc Homicide Rbry   Thft   Vhcl Thft Sum   \n",
       "  Hlavní město Praha   0.0075 0.1413 0.0157           1e-04    0.0027 0.1118 0.0058    0.2849\n",
       "  Jihočeský kraj       0.0038 0.0132 0.0029           1e-04    0.0006 0.0148 0.0017    0.0371\n",
       "  Jihomoravský kraj    0.0072 0.0469 0.0066           1e-04    0.0025 0.0373 0.0033    0.1039\n",
       "  Karlovarský kraj     0.0018 0.0085 0.0021           0e+00    0.0006 0.0090 0.0008    0.0228\n",
       "  Kraj Vysočina        0.0032 0.0072 0.0021           0e+00    0.0004 0.0071 0.0007    0.0207\n",
       "  Královéhradecký kraj 0.0023 0.0087 0.0016           0e+00    0.0005 0.0096 0.0013    0.0240\n",
       "  Liberecký kraj       0.0027 0.0133 0.0031           0e+00    0.0010 0.0132 0.0017    0.0350\n",
       "  Moravskoslezský kraj 0.0091 0.0524 0.0073           1e-04    0.0029 0.0497 0.0032    0.1247\n",
       "  Olomoucký kraj       0.0045 0.0127 0.0026           0e+00    0.0007 0.0169 0.0012    0.0386\n",
       "  Pardubický kraj      0.0017 0.0083 0.0014           0e+00    0.0003 0.0092 0.0008    0.0217\n",
       "  Plzeňský kraj        0.0029 0.0252 0.0051           0e+00    0.0009 0.0185 0.0020    0.0546\n",
       "  Středočeský kraj     0.0056 0.0570 0.0162           0e+00    0.0016 0.0388 0.0049    0.1241\n",
       "  Ústecký kraj         0.0051 0.0360 0.0062           1e-04    0.0023 0.0339 0.0032    0.0868\n",
       "  Zlínský kraj         0.0035 0.0064 0.0015           0e+00    0.0005 0.0082 0.0008    0.0209\n",
       "  Sum                  0.0609 0.4371 0.0744           5e-04    0.0175 0.3780 0.0314    0.9998"
      ]
     },
     "metadata": {},
     "output_type": "display_data"
    }
   ],
   "source": [
    "probs <- round(prop.table(kont_tab), digits = 4)\n",
    "addmargins(probs)"
   ]
  },
  {
   "cell_type": "code",
   "execution_count": 20,
   "id": "e3c88e50-a9e2-4e84-8089-685d3fd4f93c",
   "metadata": {
    "ExecuteTime": {
     "end_time": "2024-03-27T20:40:50.425123Z",
     "start_time": "2024-03-27T20:40:50.249881Z"
    }
   },
   "outputs": [
    {
     "data": {
      "image/png": "[encoded data removed]",
      "text/plain": [
       "Plot with title \"kont_tab\""
      ]
     },
     "metadata": {
      "image/png": {
       "height": 720,
       "width": 720
      }
     },
     "output_type": "display_data"
    }
   ],
   "source": [
    "options(repr.plot.width = 12, repr.plot.height = 12)\n",
    "mosaicplot(kont_tab, color = TRUE, las = 1.5, cex.axis = 1)"
   ]
  },
  {
   "cell_type": "markdown",
   "id": "4e892298-9a0c-45ce-81a6-5c286646c0c4",
   "metadata": {},
   "source": [
    "* Při pohledu na mozaikový plot by se mohlo zdát, že rozdělení trestných činů v různých regionech je podobné nebo dokonce stejné.\n",
    "* Na první pohled můžeme vidět, že některé oblasti mají podobně velké dlaždice pro určité trestné činy, což by mohlo naznačovat, že se rozložení trestných činů mezi regiony příliš neliší.\n",
    "* Pro potvrzení skutečného rozdělení trestných činů mezi regiony bychom měli provést další analýzy.\n",
    "* Proto provedeme test homogenity rozdělení:\n",
    "    - $H_0$: Rozdělení trestných činů v jednotlivých regionech České republiky je homogenní, což znamená, že pravděpodobnosti výskytu jednotlivých trestných činů jsou pro všechny regiony stejné\n",
    "    - $H_A$: neplatí $H_0$"
   ]
  },
  {
   "cell_type": "markdown",
   "id": "b5d95ca0-3ceb-4c82-b1c7-7a8b33eec457",
   "metadata": {},
   "source": [
    "Ověření těchto hypotéz by bylo možné pomocí Pearsonova testu $\\chi^2$, ale údajně však výsledky testu nemusí být zcela relevantní a správné. Nakonec nám to říká i varování po pokusu o použití tohoto testu. Ale i tak zvědavost zvítězí a podíváme se na výsledek Pearsonova testu."
   ]
  },
  {
   "cell_type": "code",
   "execution_count": 21,
   "id": "c2c28708-75e6-4fa4-928d-1f6c78519053",
   "metadata": {
    "ExecuteTime": {
     "end_time": "2024-03-27T20:40:50.459822Z",
     "start_time": "2024-03-27T20:40:50.430823Z"
    }
   },
   "outputs": [
    {
     "name": "stderr",
     "output_type": "stream",
     "text": [
      "Warning message in chisq.test(kont_tab):\n",
      "\"Chi-squared approximation may be incorrect\"\n"
     ]
    },
    {
     "data": {
      "text/plain": [
       "\n",
       "\tPearson's Chi-squared test\n",
       "\n",
       "data:  kont_tab\n",
       "X-squared = 2808.3, df = 78, p-value < 2.2e-16\n"
      ]
     },
     "metadata": {},
     "output_type": "display_data"
    }
   ],
   "source": [
    "pearson <- chisq.test(kont_tab)\n",
    "pearson"
   ]
  },
  {
   "cell_type": "markdown",
   "id": "363d5959-ea28-4402-9f7d-a23bec7ef99d",
   "metadata": {},
   "source": [
    "Tento výsledek indikuje, že existuje statisticky významný vztah mezi trestnými činy a regiony. P-value je mimořádně malé, což znamená, že máme silné důkazy proti nulové hypotéze a lze ji zamítnout. Podle toho testu to znamená, že rozložení trestných činů není homogenní mezi regiony České republiky."
   ]
  },
  {
   "cell_type": "code",
   "execution_count": 22,
   "id": "e0cae8d3-4493-49df-83cc-11f9d4883e72",
   "metadata": {
    "ExecuteTime": {
     "end_time": "2024-03-27T20:40:50.504441Z",
     "start_time": "2024-03-27T20:40:50.465625Z"
    }
   },
   "outputs": [
    {
     "data": {
      "text/html": [
       "<table class=\"dataframe\">\n",
       "<caption>A table: 15 × 8 of type dbl</caption>\n",
       "<thead>\n",
       "\t<tr><th></th><th scope=col>Asslt</th><th scope=col>Brglry</th><th scope=col>Brglry Pvt Rsdnc</th><th scope=col>Homicide</th><th scope=col>Rbry</th><th scope=col>Thft</th><th scope=col>Vhcl Thft</th><th scope=col>Sum</th></tr>\n",
       "</thead>\n",
       "<tbody>\n",
       "\t<tr><th scope=row>Hlavní město Praha</th><td> 530</td><td> 9937</td><td>1105</td><td> 7</td><td> 190</td><td> 7861</td><td> 411</td><td>20041</td></tr>\n",
       "\t<tr><th scope=row>Jihočeský kraj</th><td> 269</td><td>  931</td><td> 206</td><td> 7</td><td>  43</td><td> 1044</td><td> 118</td><td> 2618</td></tr>\n",
       "\t<tr><th scope=row>Jihomoravský kraj</th><td> 509</td><td> 3296</td><td> 462</td><td> 6</td><td> 174</td><td> 2623</td><td> 234</td><td> 7304</td></tr>\n",
       "\t<tr><th scope=row>Karlovarský kraj</th><td> 130</td><td>  599</td><td> 149</td><td> 3</td><td>  41</td><td>  633</td><td>  54</td><td> 1609</td></tr>\n",
       "\t<tr><th scope=row>Kraj Vysočina</th><td> 226</td><td>  508</td><td> 146</td><td> 3</td><td>  27</td><td>  499</td><td>  51</td><td> 1460</td></tr>\n",
       "\t<tr><th scope=row>Královéhradecký kraj</th><td> 162</td><td>  612</td><td> 112</td><td> 1</td><td>  38</td><td>  677</td><td>  90</td><td> 1692</td></tr>\n",
       "\t<tr><th scope=row>Liberecký kraj</th><td> 192</td><td>  938</td><td> 216</td><td> 3</td><td>  70</td><td>  929</td><td> 118</td><td> 2466</td></tr>\n",
       "\t<tr><th scope=row>Moravskoslezský kraj</th><td> 637</td><td> 3686</td><td> 511</td><td> 4</td><td> 203</td><td> 3497</td><td> 226</td><td> 8764</td></tr>\n",
       "\t<tr><th scope=row>Olomoucký kraj</th><td> 314</td><td>  893</td><td> 182</td><td> 2</td><td>  51</td><td> 1188</td><td>  86</td><td> 2716</td></tr>\n",
       "\t<tr><th scope=row>Pardubický kraj</th><td> 120</td><td>  587</td><td>  95</td><td> 0</td><td>  24</td><td>  644</td><td>  59</td><td> 1529</td></tr>\n",
       "\t<tr><th scope=row>Plzeňský kraj</th><td> 204</td><td> 1775</td><td> 359</td><td> 2</td><td>  66</td><td> 1302</td><td> 141</td><td> 3849</td></tr>\n",
       "\t<tr><th scope=row>Středočeský kraj</th><td> 393</td><td> 4006</td><td>1138</td><td> 1</td><td> 110</td><td> 2727</td><td> 346</td><td> 8721</td></tr>\n",
       "\t<tr><th scope=row>Ústecký kraj</th><td> 359</td><td> 2533</td><td> 435</td><td> 5</td><td> 159</td><td> 2386</td><td> 222</td><td> 6099</td></tr>\n",
       "\t<tr><th scope=row>Zlínský kraj</th><td> 245</td><td>  447</td><td> 105</td><td> 2</td><td>  34</td><td>  579</td><td>  57</td><td> 1469</td></tr>\n",
       "\t<tr><th scope=row>Sum</th><td>4290</td><td>30748</td><td>5221</td><td>46</td><td>1230</td><td>26589</td><td>2213</td><td>70337</td></tr>\n",
       "</tbody>\n",
       "</table>\n"
      ],
      "text/latex": [
       "A table: 15 × 8 of type dbl\n",
       "\\begin{tabular}{r|llllllll}\n",
       "  & Asslt & Brglry & Brglry Pvt Rsdnc & Homicide & Rbry & Thft & Vhcl Thft & Sum\\\\\n",
       "\\hline\n",
       "\tHlavní město Praha &  530 &  9937 & 1105 &  7 &  190 &  7861 &  411 & 20041\\\\\n",
       "\tJihočeský kraj &  269 &   931 &  206 &  7 &   43 &  1044 &  118 &  2618\\\\\n",
       "\tJihomoravský kraj &  509 &  3296 &  462 &  6 &  174 &  2623 &  234 &  7304\\\\\n",
       "\tKarlovarský kraj &  130 &   599 &  149 &  3 &   41 &   633 &   54 &  1609\\\\\n",
       "\tKraj Vysočina &  226 &   508 &  146 &  3 &   27 &   499 &   51 &  1460\\\\\n",
       "\tKrálovéhradecký kraj &  162 &   612 &  112 &  1 &   38 &   677 &   90 &  1692\\\\\n",
       "\tLiberecký kraj &  192 &   938 &  216 &  3 &   70 &   929 &  118 &  2466\\\\\n",
       "\tMoravskoslezský kraj &  637 &  3686 &  511 &  4 &  203 &  3497 &  226 &  8764\\\\\n",
       "\tOlomoucký kraj &  314 &   893 &  182 &  2 &   51 &  1188 &   86 &  2716\\\\\n",
       "\tPardubický kraj &  120 &   587 &   95 &  0 &   24 &   644 &   59 &  1529\\\\\n",
       "\tPlzeňský kraj &  204 &  1775 &  359 &  2 &   66 &  1302 &  141 &  3849\\\\\n",
       "\tStředočeský kraj &  393 &  4006 & 1138 &  1 &  110 &  2727 &  346 &  8721\\\\\n",
       "\tÚstecký kraj &  359 &  2533 &  435 &  5 &  159 &  2386 &  222 &  6099\\\\\n",
       "\tZlínský kraj &  245 &   447 &  105 &  2 &   34 &   579 &   57 &  1469\\\\\n",
       "\tSum & 4290 & 30748 & 5221 & 46 & 1230 & 26589 & 2213 & 70337\\\\\n",
       "\\end{tabular}\n"
      ],
      "text/markdown": [
       "\n",
       "A table: 15 × 8 of type dbl\n",
       "\n",
       "| <!--/--> | Asslt | Brglry | Brglry Pvt Rsdnc | Homicide | Rbry | Thft | Vhcl Thft | Sum |\n",
       "|---|---|---|---|---|---|---|---|---|\n",
       "| Hlavní město Praha |  530 |  9937 | 1105 |  7 |  190 |  7861 |  411 | 20041 |\n",
       "| Jihočeský kraj |  269 |   931 |  206 |  7 |   43 |  1044 |  118 |  2618 |\n",
       "| Jihomoravský kraj |  509 |  3296 |  462 |  6 |  174 |  2623 |  234 |  7304 |\n",
       "| Karlovarský kraj |  130 |   599 |  149 |  3 |   41 |   633 |   54 |  1609 |\n",
       "| Kraj Vysočina |  226 |   508 |  146 |  3 |   27 |   499 |   51 |  1460 |\n",
       "| Královéhradecký kraj |  162 |   612 |  112 |  1 |   38 |   677 |   90 |  1692 |\n",
       "| Liberecký kraj |  192 |   938 |  216 |  3 |   70 |   929 |  118 |  2466 |\n",
       "| Moravskoslezský kraj |  637 |  3686 |  511 |  4 |  203 |  3497 |  226 |  8764 |\n",
       "| Olomoucký kraj |  314 |   893 |  182 |  2 |   51 |  1188 |   86 |  2716 |\n",
       "| Pardubický kraj |  120 |   587 |   95 |  0 |   24 |   644 |   59 |  1529 |\n",
       "| Plzeňský kraj |  204 |  1775 |  359 |  2 |   66 |  1302 |  141 |  3849 |\n",
       "| Středočeský kraj |  393 |  4006 | 1138 |  1 |  110 |  2727 |  346 |  8721 |\n",
       "| Ústecký kraj |  359 |  2533 |  435 |  5 |  159 |  2386 |  222 |  6099 |\n",
       "| Zlínský kraj |  245 |   447 |  105 |  2 |   34 |   579 |   57 |  1469 |\n",
       "| Sum | 4290 | 30748 | 5221 | 46 | 1230 | 26589 | 2213 | 70337 |\n",
       "\n"
      ],
      "text/plain": [
       "                      iccs\n",
       "geo                    Asslt Brglry Brglry Pvt Rsdnc Homicide Rbry Thft  Vhcl Thft Sum  \n",
       "  Hlavní město Praha    530   9937  1105              7        190  7861  411      20041\n",
       "  Jihočeský kraj        269    931   206              7         43  1044  118       2618\n",
       "  Jihomoravský kraj     509   3296   462              6        174  2623  234       7304\n",
       "  Karlovarský kraj      130    599   149              3         41   633   54       1609\n",
       "  Kraj Vysočina         226    508   146              3         27   499   51       1460\n",
       "  Královéhradecký kraj  162    612   112              1         38   677   90       1692\n",
       "  Liberecký kraj        192    938   216              3         70   929  118       2466\n",
       "  Moravskoslezský kraj  637   3686   511              4        203  3497  226       8764\n",
       "  Olomoucký kraj        314    893   182              2         51  1188   86       2716\n",
       "  Pardubický kraj       120    587    95              0         24   644   59       1529\n",
       "  Plzeňský kraj         204   1775   359              2         66  1302  141       3849\n",
       "  Středočeský kraj      393   4006  1138              1        110  2727  346       8721\n",
       "  Ústecký kraj          359   2533   435              5        159  2386  222       6099\n",
       "  Zlínský kraj          245    447   105              2         34   579   57       1469\n",
       "  Sum                  4290  30748  5221             46       1230 26589 2213      70337"
      ]
     },
     "metadata": {},
     "output_type": "display_data"
    }
   ],
   "source": [
    "addmargins(pearson$observed)"
   ]
  },
  {
   "cell_type": "code",
   "execution_count": 23,
   "id": "a60ff4b8-4498-44b9-953c-984efc253ea4",
   "metadata": {
    "ExecuteTime": {
     "end_time": "2024-03-27T20:40:50.552728Z",
     "start_time": "2024-03-27T20:40:50.511310Z"
    }
   },
   "outputs": [
    {
     "data": {
      "text/html": [
       "<table class=\"dataframe\">\n",
       "<caption>A matrix: 15 × 8 of type dbl</caption>\n",
       "<thead>\n",
       "\t<tr><th></th><th scope=col>Asslt</th><th scope=col>Brglry</th><th scope=col>Brglry Pvt Rsdnc</th><th scope=col>Homicide</th><th scope=col>Rbry</th><th scope=col>Thft</th><th scope=col>Vhcl Thft</th><th scope=col>Sum</th></tr>\n",
       "</thead>\n",
       "<tbody>\n",
       "\t<tr><th scope=row>Hlavní město Praha</th><td>1222.34</td><td> 8760.97</td><td>1487.61</td><td>13.11</td><td> 350.46</td><td> 7575.96</td><td> 630.55</td><td>20041.00</td></tr>\n",
       "\t<tr><th scope=row>Jihočeský kraj</th><td> 159.68</td><td> 1144.47</td><td> 194.33</td><td> 1.71</td><td>  45.78</td><td>  989.66</td><td>  82.37</td><td> 2618.00</td></tr>\n",
       "\t<tr><th scope=row>Jihomoravský kraj</th><td> 445.49</td><td> 3192.96</td><td> 542.16</td><td> 4.78</td><td> 127.73</td><td> 2761.08</td><td> 229.80</td><td> 7304.00</td></tr>\n",
       "\t<tr><th scope=row>Karlovarský kraj</th><td>  98.14</td><td>  703.38</td><td> 119.43</td><td> 1.05</td><td>  28.14</td><td>  608.24</td><td>  50.62</td><td> 1609.00</td></tr>\n",
       "\t<tr><th scope=row>Kraj Vysočina</th><td>  89.05</td><td>  638.24</td><td> 108.37</td><td> 0.95</td><td>  25.53</td><td>  551.91</td><td>  45.94</td><td> 1459.99</td></tr>\n",
       "\t<tr><th scope=row>Královéhradecký kraj</th><td> 103.20</td><td>  739.66</td><td> 125.59</td><td> 1.11</td><td>  29.59</td><td>  639.61</td><td>  53.24</td><td> 1692.00</td></tr>\n",
       "\t<tr><th scope=row>Liberecký kraj</th><td> 150.41</td><td> 1078.02</td><td> 183.05</td><td> 1.61</td><td>  43.12</td><td>  932.20</td><td>  77.59</td><td> 2466.00</td></tr>\n",
       "\t<tr><th scope=row>Moravskoslezský kraj</th><td> 534.53</td><td> 3831.21</td><td> 650.54</td><td> 5.73</td><td> 153.26</td><td> 3312.99</td><td> 275.74</td><td> 8764.00</td></tr>\n",
       "\t<tr><th scope=row>Olomoucký kraj</th><td> 165.65</td><td> 1187.31</td><td> 201.60</td><td> 1.78</td><td>  47.50</td><td> 1026.71</td><td>  85.45</td><td> 2716.00</td></tr>\n",
       "\t<tr><th scope=row>Pardubický kraj</th><td>  93.26</td><td>  668.41</td><td> 113.50</td><td> 1.00</td><td>  26.74</td><td>  578.00</td><td>  48.11</td><td> 1529.02</td></tr>\n",
       "\t<tr><th scope=row>Plzeňský kraj</th><td> 234.76</td><td> 1682.60</td><td> 285.70</td><td> 2.52</td><td>  67.31</td><td> 1455.01</td><td> 121.10</td><td> 3849.00</td></tr>\n",
       "\t<tr><th scope=row>Středočeský kraj</th><td> 531.91</td><td> 3812.41</td><td> 647.35</td><td> 5.70</td><td> 152.51</td><td> 3296.74</td><td> 274.39</td><td> 8721.01</td></tr>\n",
       "\t<tr><th scope=row>Ústecký kraj</th><td> 371.99</td><td> 2666.19</td><td> 452.72</td><td> 3.99</td><td> 106.65</td><td> 2305.56</td><td> 191.89</td><td> 6098.99</td></tr>\n",
       "\t<tr><th scope=row>Zlínský kraj</th><td>  89.60</td><td>  642.18</td><td> 109.04</td><td> 0.96</td><td>  25.69</td><td>  555.32</td><td>  46.22</td><td> 1469.01</td></tr>\n",
       "\t<tr><th scope=row>Sum</th><td>4290.01</td><td>30748.01</td><td>5220.99</td><td>46.00</td><td>1230.01</td><td>26588.99</td><td>2213.01</td><td>70337.02</td></tr>\n",
       "</tbody>\n",
       "</table>\n"
      ],
      "text/latex": [
       "A matrix: 15 × 8 of type dbl\n",
       "\\begin{tabular}{r|llllllll}\n",
       "  & Asslt & Brglry & Brglry Pvt Rsdnc & Homicide & Rbry & Thft & Vhcl Thft & Sum\\\\\n",
       "\\hline\n",
       "\tHlavní město Praha & 1222.34 &  8760.97 & 1487.61 & 13.11 &  350.46 &  7575.96 &  630.55 & 20041.00\\\\\n",
       "\tJihočeský kraj &  159.68 &  1144.47 &  194.33 &  1.71 &   45.78 &   989.66 &   82.37 &  2618.00\\\\\n",
       "\tJihomoravský kraj &  445.49 &  3192.96 &  542.16 &  4.78 &  127.73 &  2761.08 &  229.80 &  7304.00\\\\\n",
       "\tKarlovarský kraj &   98.14 &   703.38 &  119.43 &  1.05 &   28.14 &   608.24 &   50.62 &  1609.00\\\\\n",
       "\tKraj Vysočina &   89.05 &   638.24 &  108.37 &  0.95 &   25.53 &   551.91 &   45.94 &  1459.99\\\\\n",
       "\tKrálovéhradecký kraj &  103.20 &   739.66 &  125.59 &  1.11 &   29.59 &   639.61 &   53.24 &  1692.00\\\\\n",
       "\tLiberecký kraj &  150.41 &  1078.02 &  183.05 &  1.61 &   43.12 &   932.20 &   77.59 &  2466.00\\\\\n",
       "\tMoravskoslezský kraj &  534.53 &  3831.21 &  650.54 &  5.73 &  153.26 &  3312.99 &  275.74 &  8764.00\\\\\n",
       "\tOlomoucký kraj &  165.65 &  1187.31 &  201.60 &  1.78 &   47.50 &  1026.71 &   85.45 &  2716.00\\\\\n",
       "\tPardubický kraj &   93.26 &   668.41 &  113.50 &  1.00 &   26.74 &   578.00 &   48.11 &  1529.02\\\\\n",
       "\tPlzeňský kraj &  234.76 &  1682.60 &  285.70 &  2.52 &   67.31 &  1455.01 &  121.10 &  3849.00\\\\\n",
       "\tStředočeský kraj &  531.91 &  3812.41 &  647.35 &  5.70 &  152.51 &  3296.74 &  274.39 &  8721.01\\\\\n",
       "\tÚstecký kraj &  371.99 &  2666.19 &  452.72 &  3.99 &  106.65 &  2305.56 &  191.89 &  6098.99\\\\\n",
       "\tZlínský kraj &   89.60 &   642.18 &  109.04 &  0.96 &   25.69 &   555.32 &   46.22 &  1469.01\\\\\n",
       "\tSum & 4290.01 & 30748.01 & 5220.99 & 46.00 & 1230.01 & 26588.99 & 2213.01 & 70337.02\\\\\n",
       "\\end{tabular}\n"
      ],
      "text/markdown": [
       "\n",
       "A matrix: 15 × 8 of type dbl\n",
       "\n",
       "| <!--/--> | Asslt | Brglry | Brglry Pvt Rsdnc | Homicide | Rbry | Thft | Vhcl Thft | Sum |\n",
       "|---|---|---|---|---|---|---|---|---|\n",
       "| Hlavní město Praha | 1222.34 |  8760.97 | 1487.61 | 13.11 |  350.46 |  7575.96 |  630.55 | 20041.00 |\n",
       "| Jihočeský kraj |  159.68 |  1144.47 |  194.33 |  1.71 |   45.78 |   989.66 |   82.37 |  2618.00 |\n",
       "| Jihomoravský kraj |  445.49 |  3192.96 |  542.16 |  4.78 |  127.73 |  2761.08 |  229.80 |  7304.00 |\n",
       "| Karlovarský kraj |   98.14 |   703.38 |  119.43 |  1.05 |   28.14 |   608.24 |   50.62 |  1609.00 |\n",
       "| Kraj Vysočina |   89.05 |   638.24 |  108.37 |  0.95 |   25.53 |   551.91 |   45.94 |  1459.99 |\n",
       "| Královéhradecký kraj |  103.20 |   739.66 |  125.59 |  1.11 |   29.59 |   639.61 |   53.24 |  1692.00 |\n",
       "| Liberecký kraj |  150.41 |  1078.02 |  183.05 |  1.61 |   43.12 |   932.20 |   77.59 |  2466.00 |\n",
       "| Moravskoslezský kraj |  534.53 |  3831.21 |  650.54 |  5.73 |  153.26 |  3312.99 |  275.74 |  8764.00 |\n",
       "| Olomoucký kraj |  165.65 |  1187.31 |  201.60 |  1.78 |   47.50 |  1026.71 |   85.45 |  2716.00 |\n",
       "| Pardubický kraj |   93.26 |   668.41 |  113.50 |  1.00 |   26.74 |   578.00 |   48.11 |  1529.02 |\n",
       "| Plzeňský kraj |  234.76 |  1682.60 |  285.70 |  2.52 |   67.31 |  1455.01 |  121.10 |  3849.00 |\n",
       "| Středočeský kraj |  531.91 |  3812.41 |  647.35 |  5.70 |  152.51 |  3296.74 |  274.39 |  8721.01 |\n",
       "| Ústecký kraj |  371.99 |  2666.19 |  452.72 |  3.99 |  106.65 |  2305.56 |  191.89 |  6098.99 |\n",
       "| Zlínský kraj |   89.60 |   642.18 |  109.04 |  0.96 |   25.69 |   555.32 |   46.22 |  1469.01 |\n",
       "| Sum | 4290.01 | 30748.01 | 5220.99 | 46.00 | 1230.01 | 26588.99 | 2213.01 | 70337.02 |\n",
       "\n"
      ],
      "text/plain": [
       "                      iccs\n",
       "geo                    Asslt   Brglry   Brglry Pvt Rsdnc Homicide Rbry    Thft     Vhcl Thft Sum     \n",
       "  Hlavní město Praha   1222.34  8760.97 1487.61          13.11     350.46  7575.96  630.55   20041.00\n",
       "  Jihočeský kraj        159.68  1144.47  194.33           1.71      45.78   989.66   82.37    2618.00\n",
       "  Jihomoravský kraj     445.49  3192.96  542.16           4.78     127.73  2761.08  229.80    7304.00\n",
       "  Karlovarský kraj       98.14   703.38  119.43           1.05      28.14   608.24   50.62    1609.00\n",
       "  Kraj Vysočina          89.05   638.24  108.37           0.95      25.53   551.91   45.94    1459.99\n",
       "  Královéhradecký kraj  103.20   739.66  125.59           1.11      29.59   639.61   53.24    1692.00\n",
       "  Liberecký kraj        150.41  1078.02  183.05           1.61      43.12   932.20   77.59    2466.00\n",
       "  Moravskoslezský kraj  534.53  3831.21  650.54           5.73     153.26  3312.99  275.74    8764.00\n",
       "  Olomoucký kraj        165.65  1187.31  201.60           1.78      47.50  1026.71   85.45    2716.00\n",
       "  Pardubický kraj        93.26   668.41  113.50           1.00      26.74   578.00   48.11    1529.02\n",
       "  Plzeňský kraj         234.76  1682.60  285.70           2.52      67.31  1455.01  121.10    3849.00\n",
       "  Středočeský kraj      531.91  3812.41  647.35           5.70     152.51  3296.74  274.39    8721.01\n",
       "  Ústecký kraj          371.99  2666.19  452.72           3.99     106.65  2305.56  191.89    6098.99\n",
       "  Zlínský kraj           89.60   642.18  109.04           0.96      25.69   555.32   46.22    1469.01\n",
       "  Sum                  4290.01 30748.01 5220.99          46.00    1230.01 26588.99 2213.01   70337.02"
      ]
     },
     "metadata": {},
     "output_type": "display_data"
    }
   ],
   "source": [
    "addmargins(round(pearson$expected, digits = 2))"
   ]
  },
  {
   "cell_type": "markdown",
   "id": "7b6bdf05-bd99-4cc4-9d32-af8a761bc2bd",
   "metadata": {},
   "source": [
    "V \"ideálním případě\", kdyby rozdělení trestných činů bylo homogenní, očekávali bychom podobné počty trestných činů v jednotlivých regionech. Avšak skutečné hodnoty se významně liší od těchto očekávaných hodnot. Tento významný rozdíl naznačuje, že existují systematické variace v distribuci trestných činů mezi regiony, což jednoznačně potvrzuje nehomogenitu rozdělení. Je však třeba vzít v úvahu i skutečnost, že očekávané hodnoty například vražd se v některých regionech pohybují kolem nuly. Tato skutečnost nepochybně potěšující, nicméně konkrétně pro Pearsonův test to může být problém. "
   ]
  },
  {
   "cell_type": "markdown",
   "id": "98579573-ef74-43ff-9820-9b1d7b5acb13",
   "metadata": {},
   "source": [
    "Proto pro větší jistotu v předchozích závěrech provedeme i Fischerův test:\n",
    "* $H_0$: Rozdělení trestných činů mezi regiony České republiky je náhodné, tj. není žádný vztah mezi trestnými činy a regiony\n",
    "* $H_A$: neplatí $H_0$"
   ]
  },
  {
   "cell_type": "code",
   "execution_count": 24,
   "id": "d4f0a306-40ec-4e7e-8377-370ef124119f",
   "metadata": {
    "ExecuteTime": {
     "end_time": "2024-03-27T20:40:50.647947Z",
     "start_time": "2024-03-27T20:40:50.560019Z"
    }
   },
   "outputs": [
    {
     "data": {
      "text/plain": [
       "\n",
       "\tFisher's Exact Test for Count Data with simulated p-value (based on 2000 replicates)\n",
       "\n",
       "data:  kont_tab\n",
       "p-value = 0.0004998\n",
       "alternative hypothesis: two.sided\n"
      ]
     },
     "metadata": {},
     "output_type": "display_data"
    }
   ],
   "source": [
    "fisher.test(kont_tab, simulate.p.value=T)"
   ]
  },
  {
   "cell_type": "markdown",
   "id": "0103d8ff-ccf8-456b-a571-13d906c5fc37",
   "metadata": {},
   "source": [
    "* P-hodnota, která je 0.0004998, je mimořádně nízká, což naznačuje, že máme silné důkazy proti nulové hypotéze. To znamená, že rozdělení trestných činů mezi regiony není náhodné a existuje statisticky významný vztah mezi trestnými činy a regiony.\n",
    "* Celkově vzato, výsledek Fischerova testu podporuje naši hypotézu o nehomogenitě rozdělení trestných činů mezi regiony."
   ]
  },
  {
   "cell_type": "markdown",
   "id": "56c75717-55de-41fd-af35-89b0c7abc555",
   "metadata": {},
   "source": [
    "## Testování hypotéz"
   ]
  },
  {
   "cell_type": "markdown",
   "id": "25354fca-3cf0-4bd6-a406-9f56c37df287",
   "metadata": {},
   "source": [
    "Nejprve ověříme, zda jsou naše data v jednotlivých krajích České republiky normálně rozdělena. Provedeme Shapirův-Wilkův test normality pro každý kraj zvlášť:\n",
    "- $H_0$: Rozdělení trestných činů v jednotlivých regionech České republiky je normální, což znamená, že data jsou rodložená normálně\n",
    "- $H_A$: neplatí $H_0$"
   ]
  },
  {
   "cell_type": "code",
   "execution_count": 25,
   "id": "c7802126-595b-4bd7-a6fd-7840d172f723",
   "metadata": {
    "ExecuteTime": {
     "end_time": "2024-03-27T20:40:50.696842Z",
     "start_time": "2024-03-27T20:40:50.653584Z"
    }
   },
   "outputs": [
    {
     "data": {
      "text/html": [
       "<table class=\"dataframe\">\n",
       "<caption>A tibble: 14 × 2</caption>\n",
       "<thead>\n",
       "\t<tr><th scope=col>geo</th><th scope=col>p_value</th></tr>\n",
       "\t<tr><th scope=col>&lt;chr&gt;</th><th scope=col>&lt;dbl&gt;</th></tr>\n",
       "</thead>\n",
       "<tbody>\n",
       "\t<tr><td>Hlavní město Praha  </td><td>0.004405102</td></tr>\n",
       "\t<tr><td>Jihomoravský kraj   </td><td>0.012804239</td></tr>\n",
       "\t<tr><td>Jihočeský kraj      </td><td>0.033723556</td></tr>\n",
       "\t<tr><td>Karlovarský kraj    </td><td>0.017341619</td></tr>\n",
       "\t<tr><td>Kraj Vysočina       </td><td>0.091572525</td></tr>\n",
       "\t<tr><td>Královéhradecký kraj</td><td>0.023478157</td></tr>\n",
       "\t<tr><td>Liberecký kraj      </td><td>0.013200959</td></tr>\n",
       "\t<tr><td>Moravskoslezský kraj</td><td>0.006024479</td></tr>\n",
       "\t<tr><td>Olomoucký kraj      </td><td>0.054116633</td></tr>\n",
       "\t<tr><td>Pardubický kraj     </td><td>0.011024102</td></tr>\n",
       "\t<tr><td>Plzeňský kraj       </td><td>0.025718656</td></tr>\n",
       "\t<tr><td>Středočeský kraj    </td><td>0.056432580</td></tr>\n",
       "\t<tr><td>Zlínský kraj        </td><td>0.166719985</td></tr>\n",
       "\t<tr><td>Ústecký kraj        </td><td>0.006619739</td></tr>\n",
       "</tbody>\n",
       "</table>\n"
      ],
      "text/latex": [
       "A tibble: 14 × 2\n",
       "\\begin{tabular}{ll}\n",
       " geo & p\\_value\\\\\n",
       " <chr> & <dbl>\\\\\n",
       "\\hline\n",
       "\t Hlavní město Praha   & 0.004405102\\\\\n",
       "\t Jihomoravský kraj    & 0.012804239\\\\\n",
       "\t Jihočeský kraj       & 0.033723556\\\\\n",
       "\t Karlovarský kraj     & 0.017341619\\\\\n",
       "\t Kraj Vysočina        & 0.091572525\\\\\n",
       "\t Královéhradecký kraj & 0.023478157\\\\\n",
       "\t Liberecký kraj       & 0.013200959\\\\\n",
       "\t Moravskoslezský kraj & 0.006024479\\\\\n",
       "\t Olomoucký kraj       & 0.054116633\\\\\n",
       "\t Pardubický kraj      & 0.011024102\\\\\n",
       "\t Plzeňský kraj        & 0.025718656\\\\\n",
       "\t Středočeský kraj     & 0.056432580\\\\\n",
       "\t Zlínský kraj         & 0.166719985\\\\\n",
       "\t Ústecký kraj         & 0.006619739\\\\\n",
       "\\end{tabular}\n"
      ],
      "text/markdown": [
       "\n",
       "A tibble: 14 × 2\n",
       "\n",
       "| geo &lt;chr&gt; | p_value &lt;dbl&gt; |\n",
       "|---|---|\n",
       "| Hlavní město Praha   | 0.004405102 |\n",
       "| Jihomoravský kraj    | 0.012804239 |\n",
       "| Jihočeský kraj       | 0.033723556 |\n",
       "| Karlovarský kraj     | 0.017341619 |\n",
       "| Kraj Vysočina        | 0.091572525 |\n",
       "| Královéhradecký kraj | 0.023478157 |\n",
       "| Liberecký kraj       | 0.013200959 |\n",
       "| Moravskoslezský kraj | 0.006024479 |\n",
       "| Olomoucký kraj       | 0.054116633 |\n",
       "| Pardubický kraj      | 0.011024102 |\n",
       "| Plzeňský kraj        | 0.025718656 |\n",
       "| Středočeský kraj     | 0.056432580 |\n",
       "| Zlínský kraj         | 0.166719985 |\n",
       "| Ústecký kraj         | 0.006619739 |\n",
       "\n"
      ],
      "text/plain": [
       "   geo                  p_value    \n",
       "1  Hlavní město Praha   0.004405102\n",
       "2  Jihomoravský kraj    0.012804239\n",
       "3  Jihočeský kraj       0.033723556\n",
       "4  Karlovarský kraj     0.017341619\n",
       "5  Kraj Vysočina        0.091572525\n",
       "6  Královéhradecký kraj 0.023478157\n",
       "7  Liberecký kraj       0.013200959\n",
       "8  Moravskoslezský kraj 0.006024479\n",
       "9  Olomoucký kraj       0.054116633\n",
       "10 Pardubický kraj      0.011024102\n",
       "11 Plzeňský kraj        0.025718656\n",
       "12 Středočeský kraj     0.056432580\n",
       "13 Zlínský kraj         0.166719985\n",
       "14 Ústecký kraj         0.006619739"
      ]
     },
     "metadata": {},
     "output_type": "display_data"
    }
   ],
   "source": [
    "shapiro_results <- czech_data %>%\n",
    "  group_by(geo) %>%\n",
    "  summarise(p_value = shapiro.test(values)$p.value)\n",
    "\n",
    "shapiro_results"
   ]
  },
  {
   "cell_type": "markdown",
   "id": "c9c7d8ce-1bd2-47e8-aa6f-81c4d1955349",
   "metadata": {},
   "source": [
    "Z této tabulky můžeme udělat následující závěr.\n",
    "\n",
    "Pro regiony Hlavní město Praha, Jihomoravský kraj, Jihočeský kraj, Karlovarský kraj, Královéhradecký kraj, Liberecký kraj, Moravskoslezský kraj, Pardubický kraj, Plzeňský kraj, Středočeský kraj, Ústecký kraj na základě p-hodnot zamítáme nulovou hypotézu na standardní hladině významnosti 5% (p-hodnoty jsou menší než 0.05). Tedy, nepochází z normálního rozdělení.\n",
    "\n",
    "Pro regiony Kraj Vysočina, Olomoucký kraj, Zlínský kraj na základě p-hodnot nezamítáme nulovou hypotézu na standardní hladině významnosti 5% (p-hodnoty jsou výšší než 0.05).85.006619739"
   ]
  },
  {
   "cell_type": "markdown",
   "id": "814622a2-0be4-4e6e-ae29-99bfd4f94a0b",
   "metadata": {},
   "source": [
    "Ted otestujeme pomocí F-testu, zda rozptyly krajů Kraj Vysočina, Olomoucký kraj jsou shodné:\n",
    "- $H_0$: $\\sigma_X^2 = \\sigma_Y^2$\n",
    "- $H_A$: $\\sigma_X^2 \\ne \\sigma_Y^2$,\n",
    " \n",
    "kde $\\sigma_X^2$ - je rozptyl trestních činů kraje Vysočina, $\\sigma_Y^2$ - je rozptyl trestních činů Olomouckého kraje"
   ]
  },
  {
   "cell_type": "code",
   "execution_count": 26,
   "id": "ea787fa7-edc9-46b8-8e1a-863480c2a5d1",
   "metadata": {
    "ExecuteTime": {
     "end_time": "2024-03-27T20:40:50.739331Z",
     "start_time": "2024-03-27T20:40:50.703135Z"
    }
   },
   "outputs": [
    {
     "data": {
      "text/plain": [
       "\n",
       "\tF test to compare two variances\n",
       "\n",
       "data:  values by geo\n",
       "F = 0.21461, num df = 6, denom df = 6, p-value = 0.08315\n",
       "alternative hypothesis: true ratio of variances is not equal to 1\n",
       "95 percent confidence interval:\n",
       " 0.03687553 1.24895839\n",
       "sample estimates:\n",
       "ratio of variances \n",
       "         0.2146066 \n"
      ]
     },
     "metadata": {},
     "output_type": "display_data"
    }
   ],
   "source": [
    "subset_data <- subset(czech_data, geo %in% c(\"Kraj Vysočina\", \"Olomoucký kraj\"))\n",
    "\n",
    "\n",
    "var.test(values ~ geo, data = subset_data, var.equal = TRUE)"
   ]
  },
  {
   "cell_type": "markdown",
   "id": "b8611ba5-b20e-4023-b9ed-7e6c6e415849",
   "metadata": {},
   "source": [
    "Na základě tohoto testu nezamítáme nulovou hypotézu na standardní hladině významnosti 5% (p-hodnota je výšší než 0.05). Tedy, mužeme odmítnout, že oba kraje nemají shodné rozptyly."
   ]
  },
  {
   "cell_type": "markdown",
   "id": "31fdd07c-5678-49d4-b32d-95e925faaed3",
   "metadata": {},
   "source": [
    "Ted můžeme otestovat pomocí t-testu, zda střední hodnoty dvou krajů Kraj Vysočina, Olomoucký kraj jsou shodné, protože můžeme předpokladat, že výběry jsou z normálních rozdělení o stejných rozptylech na výsledkech předchozích dvou testů normality a shody rozptylů:\n",
    "- $H_0$: $\\mu_X = \\mu_Y$\n",
    "- $H_A$: $\\mu_X \\ne \\mu_Y$,\n",
    "\n",
    "kde $\\mu_X$ - je střední hodnota trestních činů kraje Vysočina, $\\mu_Y$ - je střední hodnota trestních činů Olomouckého kraje"
   ]
  },
  {
   "cell_type": "code",
   "execution_count": 27,
   "id": "33d51b98-7e01-497b-bda9-df98345e12b5",
   "metadata": {
    "ExecuteTime": {
     "end_time": "2024-03-27T20:40:50.768898Z",
     "start_time": "2024-03-27T20:40:50.744877Z"
    }
   },
   "outputs": [
    {
     "name": "stdout",
     "output_type": "stream",
     "text": [
      "\n",
      "\tTwo Sample t-test\n",
      "\n",
      "data:  values by geo\n",
      "t = -0.92657, df = 12, p-value = 0.3724\n",
      "alternative hypothesis: true difference in means between group Kraj Vysočina and group Olomoucký kraj is not equal to 0\n",
      "95 percent confidence interval:\n",
      " -601.3522  242.4951\n",
      "sample estimates:\n",
      " mean in group Kraj Vysočina mean in group Olomoucký kraj \n",
      "                    208.5714                     388.0000 \n"
     ]
    }
   ],
   "source": [
    "t_test_result <- t.test(values ~ geo, data = subset_data, var.equal = TRUE)\n",
    "\n",
    "print(t_test_result)"
   ]
  },
  {
   "cell_type": "markdown",
   "id": "5ceebb95-812c-4b8e-82e8-37d30cd4eb9b",
   "metadata": {},
   "source": [
    "Na základě tohoto testu nezamítáme nulovou hypotézu na standardní hladině významnosti 5% (p-hodnota je výšší než 0.05). Tedy, mužeme odmítnout, že oba kraje nemají shodné střední hodnoty."
   ]
  },
  {
   "cell_type": "markdown",
   "id": "07d25960-5e48-4cd1-b716-965f3266e387",
   "metadata": {},
   "source": [
    "Po analýze dat jsme zjistili, že mezi Krajem Vysočina a Olomouckým krajem není významný rozdíl v středních hodnotech trestních činů. Čísla v podstatě naznačují, že tyto dva kraje jsou si dosti podobné. Z praktického hlediska jsme tedy neodhalili žádné jasné rozdíly, které by jeden kraj od druhého odlišovaly na základě údajů, které máme k dispozici."
   ]
  },
  {
   "cell_type": "code",
   "execution_count": 28,
   "id": "25dd1885-d2cc-4977-bce1-1840375591bd",
   "metadata": {
    "ExecuteTime": {
     "end_time": "2024-03-27T20:40:50.793597Z",
     "start_time": "2024-03-27T20:40:50.774674Z"
    }
   },
   "outputs": [],
   "source": []
  }
 ],
 "metadata": {
  "kernelspec": {
   "display_name": "R",
   "language": "R",
   "name": "ir"
  },
  "language_info": {
   "codemirror_mode": "r",
   "file_extension": ".r",
   "mimetype": "text/x-r-source",
   "name": "R",
   "pygments_lexer": "r",
   "version": "4.3.2"
  }
 },
 "nbformat": 4,
 "nbformat_minor": 5
}
