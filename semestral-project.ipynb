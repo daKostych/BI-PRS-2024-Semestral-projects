{
 "cells": [
  {
   "cell_type": "code",
   "execution_count": 1,
   "id": "b0269647-0acf-4fa8-96fb-05c8c777f8bc",
   "metadata": {},
   "outputs": [],
   "source": [
    ".libPaths(\"/home/senyaaa/BI-PRS/packages\")\n",
    "#.libPaths(\"/home/senyaaa/BI-PRS/packages\") # change to ur folder\n",
    "#.libPaths(\"/home/senyaaa/BI-PRS/packages\")"
   ]
  },
  {
   "cell_type": "code",
   "execution_count": null,
   "id": "c82dee89-8231-4e78-a785-29fd994843c3",
   "metadata": {},
   "outputs": [],
   "source": []
  }
 ],
 "metadata": {
  "kernelspec": {
   "display_name": "R",
   "language": "R",
   "name": "ir"
  },
  "language_info": {
   "codemirror_mode": "r",
   "file_extension": ".r",
   "mimetype": "text/x-r-source",
   "name": "R",
   "pygments_lexer": "r",
   "version": "4.3.2"
  }
 },
 "nbformat": 4,
 "nbformat_minor": 5
}
