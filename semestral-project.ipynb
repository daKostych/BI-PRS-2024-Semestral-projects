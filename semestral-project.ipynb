{
 "cells": [
  {
   "cell_type": "code",
   "execution_count": 2,
   "id": "b0269647-0acf-4fa8-96fb-05c8c777f8bc",
   "metadata": {},
   "outputs": [],
   "source": [
    ".libPaths(\"/home/senyaaa/BI-PRS/packages\")\n",
    "#.libPaths(\"/home/senyaaa/BI-PRS/packages\") # change to ur folder\n",
    "#.libPaths(\"/home/senyaaa/BI-PRS/packages\")\n",
    "\n",
    "library(eurostat)"
   ]
  },
  {
   "cell_type": "code",
   "execution_count": 3,
   "id": "c82dee89-8231-4e78-a785-29fd994843c3",
   "metadata": {},
   "outputs": [
    {
     "name": "stdout",
     "output_type": "stream",
     "text": [
      "[1] 1\n"
     ]
    }
   ],
   "source": [
    "surname <- \"pogodin\"\n",
    "L <- nchar(surname)\n",
    "K <- 4\n",
    "M <- ((K + L) * 47) %% 11 + 1\n",
    "print(M)"
   ]
  },
  {
   "cell_type": "code",
   "execution_count": 4,
   "id": "e8f7fa1d-cd47-468b-be1b-6549e02a28c7",
   "metadata": {},
   "outputs": [
    {
     "data": {
      "text/html": [
       "<table class=\"dataframe\">\n",
       "<caption>A tibble: 2 × 9</caption>\n",
       "<thead>\n",
       "\t<tr><th scope=col>title</th><th scope=col>code</th><th scope=col>type</th><th scope=col>last.update.of.data</th><th scope=col>last.table.structure.change</th><th scope=col>data.start</th><th scope=col>data.end</th><th scope=col>values</th><th scope=col>hierarchy</th></tr>\n",
       "\t<tr><th scope=col>&lt;chr&gt;</th><th scope=col>&lt;chr&gt;</th><th scope=col>&lt;chr&gt;</th><th scope=col>&lt;chr&gt;</th><th scope=col>&lt;chr&gt;</th><th scope=col>&lt;chr&gt;</th><th scope=col>&lt;chr&gt;</th><th scope=col>&lt;dbl&gt;</th><th scope=col>&lt;dbl&gt;</th></tr>\n",
       "</thead>\n",
       "<tbody>\n",
       "\t<tr><td>Police-recorded offences by NUTS 3 regions</td><td>crim_gen_reg</td><td>dataset</td><td>05.12.2023</td><td>05.12.2023</td><td>2008</td><td>2021</td><td>216947</td><td>4</td></tr>\n",
       "\t<tr><td>Police-recorded offences by NUTS 3 regions</td><td>crim_gen_reg</td><td>dataset</td><td>05.12.2023</td><td>05.12.2023</td><td>2008</td><td>2021</td><td>216947</td><td>4</td></tr>\n",
       "</tbody>\n",
       "</table>\n"
      ],
      "text/latex": [
       "A tibble: 2 × 9\n",
       "\\begin{tabular}{lllllllll}\n",
       " title & code & type & last.update.of.data & last.table.structure.change & data.start & data.end & values & hierarchy\\\\\n",
       " <chr> & <chr> & <chr> & <chr> & <chr> & <chr> & <chr> & <dbl> & <dbl>\\\\\n",
       "\\hline\n",
       "\t Police-recorded offences by NUTS 3 regions & crim\\_gen\\_reg & dataset & 05.12.2023 & 05.12.2023 & 2008 & 2021 & 216947 & 4\\\\\n",
       "\t Police-recorded offences by NUTS 3 regions & crim\\_gen\\_reg & dataset & 05.12.2023 & 05.12.2023 & 2008 & 2021 & 216947 & 4\\\\\n",
       "\\end{tabular}\n"
      ],
      "text/markdown": [
       "\n",
       "A tibble: 2 × 9\n",
       "\n",
       "| title &lt;chr&gt; | code &lt;chr&gt; | type &lt;chr&gt; | last.update.of.data &lt;chr&gt; | last.table.structure.change &lt;chr&gt; | data.start &lt;chr&gt; | data.end &lt;chr&gt; | values &lt;dbl&gt; | hierarchy &lt;dbl&gt; |\n",
       "|---|---|---|---|---|---|---|---|---|\n",
       "| Police-recorded offences by NUTS 3 regions | crim_gen_reg | dataset | 05.12.2023 | 05.12.2023 | 2008 | 2021 | 216947 | 4 |\n",
       "| Police-recorded offences by NUTS 3 regions | crim_gen_reg | dataset | 05.12.2023 | 05.12.2023 | 2008 | 2021 | 216947 | 4 |\n",
       "\n"
      ],
      "text/plain": [
       "  title                                      code         type   \n",
       "1 Police-recorded offences by NUTS 3 regions crim_gen_reg dataset\n",
       "2 Police-recorded offences by NUTS 3 regions crim_gen_reg dataset\n",
       "  last.update.of.data last.table.structure.change data.start data.end values\n",
       "1 05.12.2023          05.12.2023                  2008       2021     216947\n",
       "2 05.12.2023          05.12.2023                  2008       2021     216947\n",
       "  hierarchy\n",
       "1 4        \n",
       "2 4        "
      ]
     },
     "metadata": {},
     "output_type": "display_data"
    }
   ],
   "source": [
    "srch <- search_eurostat(pattern='Police-recorded offences by NUTS 3 regions')\n",
    "srch"
   ]
  },
  {
   "cell_type": "code",
   "execution_count": 19,
   "id": "eb08a4cf-db49-4d6e-89ef-bcc92b31024b",
   "metadata": {},
   "outputs": [
    {
     "name": "stderr",
     "output_type": "stream",
     "text": [
      "Dataset query already saved in cache_list.json...\n",
      "\n",
      "Reading cache file /tmp/Rtmp6eDsq1/eurostat/adb2a8f5bb5815758c4af1b2ad610318.rds\n",
      "\n",
      "Table  crim_gen_reg  read from cache file:  /tmp/Rtmp6eDsq1/eurostat/adb2a8f5bb5815758c4af1b2ad610318.rds\n",
      "\n",
      "Warning message in data$geo == nuts3_cz:\n",
      "“longer object length is not a multiple of shorter object length”\n"
     ]
    },
    {
     "data": {
      "text/html": [
       "<table class=\"dataframe\">\n",
       "<caption>A tibble: 17 × 6</caption>\n",
       "<thead>\n",
       "\t<tr><th scope=col>freq</th><th scope=col>unit</th><th scope=col>iccs</th><th scope=col>geo</th><th scope=col>TIME_PERIOD</th><th scope=col>values</th></tr>\n",
       "\t<tr><th scope=col>&lt;chr&gt;</th><th scope=col>&lt;chr&gt;</th><th scope=col>&lt;chr&gt;</th><th scope=col>&lt;chr&gt;</th><th scope=col>&lt;date&gt;</th><th scope=col>&lt;dbl&gt;</th></tr>\n",
       "</thead>\n",
       "<tbody>\n",
       "\t<tr><td>A</td><td>NR     </td><td>ICCS0101  </td><td>CZ051</td><td>2021-01-01</td><td>   3.00</td></tr>\n",
       "\t<tr><td>A</td><td>NR     </td><td>ICCS0401  </td><td>CZ031</td><td>2021-01-01</td><td>  43.00</td></tr>\n",
       "\t<tr><td>A</td><td>NR     </td><td>ICCS0501  </td><td>CZ071</td><td>2021-01-01</td><td> 893.00</td></tr>\n",
       "\t<tr><td>A</td><td>NR     </td><td>ICCS05012 </td><td>CZ010</td><td>2021-01-01</td><td>1105.00</td></tr>\n",
       "\t<tr><td>A</td><td>NR     </td><td>ICCS05012 </td><td>CZ032</td><td>2021-01-01</td><td> 359.00</td></tr>\n",
       "\t<tr><td>A</td><td>NR     </td><td>ICCS05012 </td><td>CZ051</td><td>2021-01-01</td><td> 216.00</td></tr>\n",
       "\t<tr><td>A</td><td>NR     </td><td>ICCS0502  </td><td>CZ042</td><td>2021-01-01</td><td>2386.00</td></tr>\n",
       "\t<tr><td>A</td><td>NR     </td><td>ICCS050211</td><td>CZ041</td><td>2021-01-01</td><td>  54.00</td></tr>\n",
       "\t<tr><td>A</td><td>NR     </td><td>ICCS050211</td><td>CZ053</td><td>2021-01-01</td><td>  59.00</td></tr>\n",
       "\t<tr><td>A</td><td>P_HTHAB</td><td>ICCS0101  </td><td>CZ042</td><td>2021-01-01</td><td>   0.61</td></tr>\n",
       "\t<tr><td>A</td><td>P_HTHAB</td><td>ICCS02011 </td><td>CZ063</td><td>2021-01-01</td><td>  44.41</td></tr>\n",
       "\t<tr><td>A</td><td>P_HTHAB</td><td>ICCS0401  </td><td>CZ071</td><td>2021-01-01</td><td>   8.09</td></tr>\n",
       "\t<tr><td>A</td><td>P_HTHAB</td><td>ICCS05012 </td><td>CZ020</td><td>2021-01-01</td><td>  81.40</td></tr>\n",
       "\t<tr><td>A</td><td>P_HTHAB</td><td>ICCS05012 </td><td>CZ041</td><td>2021-01-01</td><td>  50.80</td></tr>\n",
       "\t<tr><td>A</td><td>P_HTHAB</td><td>ICCS0502  </td><td>CZ063</td><td>2021-01-01</td><td>  98.06</td></tr>\n",
       "\t<tr><td>A</td><td>P_HTHAB</td><td>ICCS050211</td><td>CZ041</td><td>2021-01-01</td><td>  18.41</td></tr>\n",
       "\t<tr><td>A</td><td>P_HTHAB</td><td>ICCS050211</td><td>CZ053</td><td>2021-01-01</td><td>  11.28</td></tr>\n",
       "</tbody>\n",
       "</table>\n"
      ],
      "text/latex": [
       "A tibble: 17 × 6\n",
       "\\begin{tabular}{llllll}\n",
       " freq & unit & iccs & geo & TIME\\_PERIOD & values\\\\\n",
       " <chr> & <chr> & <chr> & <chr> & <date> & <dbl>\\\\\n",
       "\\hline\n",
       "\t A & NR      & ICCS0101   & CZ051 & 2021-01-01 &    3.00\\\\\n",
       "\t A & NR      & ICCS0401   & CZ031 & 2021-01-01 &   43.00\\\\\n",
       "\t A & NR      & ICCS0501   & CZ071 & 2021-01-01 &  893.00\\\\\n",
       "\t A & NR      & ICCS05012  & CZ010 & 2021-01-01 & 1105.00\\\\\n",
       "\t A & NR      & ICCS05012  & CZ032 & 2021-01-01 &  359.00\\\\\n",
       "\t A & NR      & ICCS05012  & CZ051 & 2021-01-01 &  216.00\\\\\n",
       "\t A & NR      & ICCS0502   & CZ042 & 2021-01-01 & 2386.00\\\\\n",
       "\t A & NR      & ICCS050211 & CZ041 & 2021-01-01 &   54.00\\\\\n",
       "\t A & NR      & ICCS050211 & CZ053 & 2021-01-01 &   59.00\\\\\n",
       "\t A & P\\_HTHAB & ICCS0101   & CZ042 & 2021-01-01 &    0.61\\\\\n",
       "\t A & P\\_HTHAB & ICCS02011  & CZ063 & 2021-01-01 &   44.41\\\\\n",
       "\t A & P\\_HTHAB & ICCS0401   & CZ071 & 2021-01-01 &    8.09\\\\\n",
       "\t A & P\\_HTHAB & ICCS05012  & CZ020 & 2021-01-01 &   81.40\\\\\n",
       "\t A & P\\_HTHAB & ICCS05012  & CZ041 & 2021-01-01 &   50.80\\\\\n",
       "\t A & P\\_HTHAB & ICCS0502   & CZ063 & 2021-01-01 &   98.06\\\\\n",
       "\t A & P\\_HTHAB & ICCS050211 & CZ041 & 2021-01-01 &   18.41\\\\\n",
       "\t A & P\\_HTHAB & ICCS050211 & CZ053 & 2021-01-01 &   11.28\\\\\n",
       "\\end{tabular}\n"
      ],
      "text/markdown": [
       "\n",
       "A tibble: 17 × 6\n",
       "\n",
       "| freq &lt;chr&gt; | unit &lt;chr&gt; | iccs &lt;chr&gt; | geo &lt;chr&gt; | TIME_PERIOD &lt;date&gt; | values &lt;dbl&gt; |\n",
       "|---|---|---|---|---|---|\n",
       "| A | NR      | ICCS0101   | CZ051 | 2021-01-01 |    3.00 |\n",
       "| A | NR      | ICCS0401   | CZ031 | 2021-01-01 |   43.00 |\n",
       "| A | NR      | ICCS0501   | CZ071 | 2021-01-01 |  893.00 |\n",
       "| A | NR      | ICCS05012  | CZ010 | 2021-01-01 | 1105.00 |\n",
       "| A | NR      | ICCS05012  | CZ032 | 2021-01-01 |  359.00 |\n",
       "| A | NR      | ICCS05012  | CZ051 | 2021-01-01 |  216.00 |\n",
       "| A | NR      | ICCS0502   | CZ042 | 2021-01-01 | 2386.00 |\n",
       "| A | NR      | ICCS050211 | CZ041 | 2021-01-01 |   54.00 |\n",
       "| A | NR      | ICCS050211 | CZ053 | 2021-01-01 |   59.00 |\n",
       "| A | P_HTHAB | ICCS0101   | CZ042 | 2021-01-01 |    0.61 |\n",
       "| A | P_HTHAB | ICCS02011  | CZ063 | 2021-01-01 |   44.41 |\n",
       "| A | P_HTHAB | ICCS0401   | CZ071 | 2021-01-01 |    8.09 |\n",
       "| A | P_HTHAB | ICCS05012  | CZ020 | 2021-01-01 |   81.40 |\n",
       "| A | P_HTHAB | ICCS05012  | CZ041 | 2021-01-01 |   50.80 |\n",
       "| A | P_HTHAB | ICCS0502   | CZ063 | 2021-01-01 |   98.06 |\n",
       "| A | P_HTHAB | ICCS050211 | CZ041 | 2021-01-01 |   18.41 |\n",
       "| A | P_HTHAB | ICCS050211 | CZ053 | 2021-01-01 |   11.28 |\n",
       "\n"
      ],
      "text/plain": [
       "   freq unit    iccs       geo   TIME_PERIOD values \n",
       "1  A    NR      ICCS0101   CZ051 2021-01-01     3.00\n",
       "2  A    NR      ICCS0401   CZ031 2021-01-01    43.00\n",
       "3  A    NR      ICCS0501   CZ071 2021-01-01   893.00\n",
       "4  A    NR      ICCS05012  CZ010 2021-01-01  1105.00\n",
       "5  A    NR      ICCS05012  CZ032 2021-01-01   359.00\n",
       "6  A    NR      ICCS05012  CZ051 2021-01-01   216.00\n",
       "7  A    NR      ICCS0502   CZ042 2021-01-01  2386.00\n",
       "8  A    NR      ICCS050211 CZ041 2021-01-01    54.00\n",
       "9  A    NR      ICCS050211 CZ053 2021-01-01    59.00\n",
       "10 A    P_HTHAB ICCS0101   CZ042 2021-01-01     0.61\n",
       "11 A    P_HTHAB ICCS02011  CZ063 2021-01-01    44.41\n",
       "12 A    P_HTHAB ICCS0401   CZ071 2021-01-01     8.09\n",
       "13 A    P_HTHAB ICCS05012  CZ020 2021-01-01    81.40\n",
       "14 A    P_HTHAB ICCS05012  CZ041 2021-01-01    50.80\n",
       "15 A    P_HTHAB ICCS0502   CZ063 2021-01-01    98.06\n",
       "16 A    P_HTHAB ICCS050211 CZ041 2021-01-01    18.41\n",
       "17 A    P_HTHAB ICCS050211 CZ053 2021-01-01    11.28"
      ]
     },
     "metadata": {},
     "output_type": "display_data"
    }
   ],
   "source": [
    "nuts3_cz <- c(\n",
    "  \"CZ010\", \"CZ020\", \"CZ031\", \"CZ032\", \"CZ041\",\n",
    "  \"CZ042\", \"CZ051\", \"CZ052\", \"CZ053\", \"CZ063\",\n",
    "  \"CZ064\", \"CZ071\", \"CZ072\", \"CZ080\"\n",
    ")\n",
    "\n",
    "data <- get_eurostat(id = \"crim_gen_reg\")\n",
    "czech_data <- data[data$geo==nuts3_cz,]\n",
    "#czech_data <- data[data$TIME_PERIOD=='2021-01-01',]\n",
    "czech_data_2021 <- czech_data[czech_data$TIME_PERIOD=='2021-01-01',]\n",
    "czech_data_2021"
   ]
  },
  {
   "cell_type": "code",
   "execution_count": null,
   "id": "af8ad8f1-e500-4ac7-8202-3d89e0bf8f94",
   "metadata": {},
   "outputs": [],
   "source": []
  },
  {
   "cell_type": "code",
   "execution_count": null,
   "id": "9547276e-ba28-4221-96d2-6d503ba21ac3",
   "metadata": {},
   "outputs": [],
   "source": []
  }
 ],
 "metadata": {
  "kernelspec": {
   "display_name": "R",
   "language": "R",
   "name": "ir"
  },
  "language_info": {
   "codemirror_mode": "r",
   "file_extension": ".r",
   "mimetype": "text/x-r-source",
   "name": "R",
   "pygments_lexer": "r",
   "version": "4.3.2"
  }
 },
 "nbformat": 4,
 "nbformat_minor": 5
}
