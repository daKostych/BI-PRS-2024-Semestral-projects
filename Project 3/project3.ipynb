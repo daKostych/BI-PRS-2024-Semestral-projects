{
 "cells": [
  {
   "cell_type": "code",
   "execution_count": 1,
   "id": "c83190b0-c2e7-47dd-bbae-1e54e0fd3ab2",
   "metadata": {},
   "outputs": [
    {
     "name": "stderr",
     "output_type": "stream",
     "text": [
      "\n",
      "Attaching package: 'dplyr'\n",
      "\n",
      "\n",
      "The following objects are masked from 'package:stats':\n",
      "\n",
      "    filter, lag\n",
      "\n",
      "\n",
      "The following objects are masked from 'package:base':\n",
      "\n",
      "    intersect, setdiff, setequal, union\n",
      "\n",
      "\n",
      "corrplot 0.92 loaded\n",
      "\n",
      "Loading required package: kableExtra\n",
      "\n",
      "\n",
      "Attaching package: 'kableExtra'\n",
      "\n",
      "\n",
      "The following object is masked from 'package:dplyr':\n",
      "\n",
      "    group_rows\n",
      "\n",
      "\n",
      "Warning message:\n",
      "\"package 'robustbase' was built under R version 4.3.3\"\n",
      "Warning message:\n",
      "\"package 'lmtest' was built under R version 4.3.3\"\n",
      "Loading required package: zoo\n",
      "\n",
      "Warning message:\n",
      "\"package 'zoo' was built under R version 4.3.3\"\n",
      "\n",
      "Attaching package: 'zoo'\n",
      "\n",
      "\n",
      "The following objects are masked from 'package:base':\n",
      "\n",
      "    as.Date, as.Date.numeric\n",
      "\n",
      "\n",
      "\n",
      "Attaching package: 'MASS'\n",
      "\n",
      "\n",
      "The following object is masked from 'package:dplyr':\n",
      "\n",
      "    select\n",
      "\n",
      "\n",
      "Warning message:\n",
      "\"package 'sfsmisc' was built under R version 4.3.3\"\n",
      "\n",
      "Attaching package: 'sfsmisc'\n",
      "\n",
      "\n",
      "The following object is masked from 'package:dplyr':\n",
      "\n",
      "    last\n",
      "\n",
      "\n"
     ]
    }
   ],
   "source": [
    "# .libPaths(\"/home/kostyadovnar/CVUT/BI-PRS/packages\")\n",
    "#.libPaths(\"/home/senyaaa/BI-PRS/packages\")\n",
    "\n",
    "library(eurostat)\n",
    "library(dplyr)\n",
    "library(ggplot2)\n",
    "library(corrplot)\n",
    "\n",
    "#1 sudo apt-get install libfontconfig1-dev libfreetype6-dev \n",
    "#2 install.packages(\"systemfonts\")\n",
    "#3 install.packages(\"svglite\")\n",
    "#4 install.packages(\"kableExtra\")\n",
    "#5 install.packages(\"vtable\")\n",
    "library(vtable)\n",
    "\n",
    "library(moments) \n",
    "library(robustbase)\n",
    "library(lmtest)\n",
    "library(MASS)\n",
    "library(sfsmisc)\n",
    "\n",
    "options(width=160, repr.plot.width=12, repr.plot.height=8) "
   ]
  },
  {
   "cell_type": "code",
   "execution_count": 2,
   "id": "88087d22-4885-4228-a3c4-dbf36a2cfcf9",
   "metadata": {},
   "outputs": [
    {
     "name": "stdout",
     "output_type": "stream",
     "text": [
      "[1] 1\n"
     ]
    }
   ],
   "source": [
    "surname <- \"pogodin\"\n",
    "L <- nchar(surname)\n",
    "K <- 4\n",
    "M <- ((K + L) * 47) %% 11 + 1\n",
    "print(M)"
   ]
  },
  {
   "cell_type": "markdown",
   "id": "9b7272e0-b64a-49af-9903-f1875cd93347",
   "metadata": {},
   "source": [
    "## Import datasetu\n",
    "\n",
    "Budeme uvažovat data z roku 2011+1 (2012) a HDP všech evropských zemí, o kterých jsou k dispozici pro daný rok údaje. Zajímat nás bude výpočet v tržních cenách (na_item==\"B1GQ\") a vyjádření v eurech na obyvatele (unit==\"CP_EUR_HAB\")."
   ]
  },
  {
   "cell_type": "code",
   "execution_count": 3,
   "id": "83117862-b7f1-406e-919e-dc1eedb9e067",
   "metadata": {},
   "outputs": [
    {
     "name": "stderr",
     "output_type": "stream",
     "text": [
      "Table nama_10_pc cached at C:\\Users\\User\\AppData\\Local\\Temp\\RtmpIN0r1V/eurostat/d2ba4de4bc8ad8ffdcacfba97edd9eee.rds\n",
      "\n"
     ]
    }
   ],
   "source": [
    "data <- get_eurostat(id = \"nama_10_pc\")"
   ]
  },
  {
   "cell_type": "code",
   "execution_count": 4,
   "id": "d9222e4d-e06b-4976-a9f9-29e1a68fab0f",
   "metadata": {},
   "outputs": [],
   "source": [
    "data <- data %>%\n",
    "  filter(na_item == \"B1GQ\" & unit == \"CP_EUR_HAB\" & TIME_PERIOD == as.Date(\"2012-01-01\"))\n",
    "data <- filter(data, !is.na(values))"
   ]
  },
  {
   "cell_type": "markdown",
   "id": "cc450ce7-85ce-4ead-8178-44690578b27d",
   "metadata": {},
   "source": [
    "V datasetu a ve sloupci geo vidíme položky jako je EA12 (Euro area - 12 countries (2001-2006)), EU15 atd, které pro nás irrelevatní, tak je odstraníme. Navíc odstraníme sloupce jako je frequency, unit, na_item, TIME_PERIOD"
   ]
  },
  {
   "cell_type": "code",
   "execution_count": 5,
   "id": "3d78b810-a964-43ec-a0c0-2fe4ef6e9ca2",
   "metadata": {},
   "outputs": [
    {
     "data": {
      "text/html": [
       "<table class=\"dataframe\">\n",
       "<caption>A tibble: 43 × 6</caption>\n",
       "<thead>\n",
       "\t<tr><th scope=col>freq</th><th scope=col>unit</th><th scope=col>na_item</th><th scope=col>geo</th><th scope=col>TIME_PERIOD</th><th scope=col>values</th></tr>\n",
       "\t<tr><th scope=col>&lt;chr&gt;</th><th scope=col>&lt;chr&gt;</th><th scope=col>&lt;chr&gt;</th><th scope=col>&lt;chr&gt;</th><th scope=col>&lt;date&gt;</th><th scope=col>&lt;dbl&gt;</th></tr>\n",
       "</thead>\n",
       "<tbody>\n",
       "\t<tr><td>A</td><td>CP_EUR_HAB</td><td>B1GQ</td><td>AL       </td><td>2012-01-01</td><td> 3300</td></tr>\n",
       "\t<tr><td>A</td><td>CP_EUR_HAB</td><td>B1GQ</td><td>AT       </td><td>2012-01-01</td><td>37820</td></tr>\n",
       "\t<tr><td>A</td><td>CP_EUR_HAB</td><td>B1GQ</td><td>BE       </td><td>2012-01-01</td><td>34770</td></tr>\n",
       "\t<tr><td>A</td><td>CP_EUR_HAB</td><td>B1GQ</td><td>BG       </td><td>2012-01-01</td><td> 5780</td></tr>\n",
       "\t<tr><td>A</td><td>CP_EUR_HAB</td><td>B1GQ</td><td>CH       </td><td>2012-01-01</td><td>66780</td></tr>\n",
       "\t<tr><td>A</td><td>CP_EUR_HAB</td><td>B1GQ</td><td>CY       </td><td>2012-01-01</td><td>22570</td></tr>\n",
       "\t<tr><td>A</td><td>CP_EUR_HAB</td><td>B1GQ</td><td>CZ       </td><td>2012-01-01</td><td>15470</td></tr>\n",
       "\t<tr><td>A</td><td>CP_EUR_HAB</td><td>B1GQ</td><td>DE       </td><td>2012-01-01</td><td>34130</td></tr>\n",
       "\t<tr><td>A</td><td>CP_EUR_HAB</td><td>B1GQ</td><td>DK       </td><td>2012-01-01</td><td>45530</td></tr>\n",
       "\t<tr><td>A</td><td>CP_EUR_HAB</td><td>B1GQ</td><td>EA       </td><td>2012-01-01</td><td>29510</td></tr>\n",
       "\t<tr><td>A</td><td>CP_EUR_HAB</td><td>B1GQ</td><td>EA12     </td><td>2012-01-01</td><td>29950</td></tr>\n",
       "\t<tr><td>A</td><td>CP_EUR_HAB</td><td>B1GQ</td><td>EA19     </td><td>2012-01-01</td><td>29230</td></tr>\n",
       "\t<tr><td>A</td><td>CP_EUR_HAB</td><td>B1GQ</td><td>EA20     </td><td>2012-01-01</td><td>29000</td></tr>\n",
       "\t<tr><td>A</td><td>CP_EUR_HAB</td><td>B1GQ</td><td>EE       </td><td>2012-01-01</td><td>13520</td></tr>\n",
       "\t<tr><td>A</td><td>CP_EUR_HAB</td><td>B1GQ</td><td>EL       </td><td>2012-01-01</td><td>17060</td></tr>\n",
       "\t<tr><td>A</td><td>CP_EUR_HAB</td><td>B1GQ</td><td>ES       </td><td>2012-01-01</td><td>22050</td></tr>\n",
       "\t<tr><td>A</td><td>CP_EUR_HAB</td><td>B1GQ</td><td>EU15     </td><td>2012-01-01</td><td>31030</td></tr>\n",
       "\t<tr><td>A</td><td>CP_EUR_HAB</td><td>B1GQ</td><td>EU27_2020</td><td>2012-01-01</td><td>25770</td></tr>\n",
       "\t<tr><td>A</td><td>CP_EUR_HAB</td><td>B1GQ</td><td>EU28     </td><td>2012-01-01</td><td>26690</td></tr>\n",
       "\t<tr><td>A</td><td>CP_EUR_HAB</td><td>B1GQ</td><td>FI       </td><td>2012-01-01</td><td>37130</td></tr>\n",
       "\t<tr><td>A</td><td>CP_EUR_HAB</td><td>B1GQ</td><td>FR       </td><td>2012-01-01</td><td>31820</td></tr>\n",
       "\t<tr><td>A</td><td>CP_EUR_HAB</td><td>B1GQ</td><td>HR       </td><td>2012-01-01</td><td>10480</td></tr>\n",
       "\t<tr><td>A</td><td>CP_EUR_HAB</td><td>B1GQ</td><td>HU       </td><td>2012-01-01</td><td>10110</td></tr>\n",
       "\t<tr><td>A</td><td>CP_EUR_HAB</td><td>B1GQ</td><td>IE       </td><td>2012-01-01</td><td>38110</td></tr>\n",
       "\t<tr><td>A</td><td>CP_EUR_HAB</td><td>B1GQ</td><td>IS       </td><td>2012-01-01</td><td>36500</td></tr>\n",
       "\t<tr><td>A</td><td>CP_EUR_HAB</td><td>B1GQ</td><td>IT       </td><td>2012-01-01</td><td>26990</td></tr>\n",
       "\t<tr><td>A</td><td>CP_EUR_HAB</td><td>B1GQ</td><td>LT       </td><td>2012-01-01</td><td>11180</td></tr>\n",
       "\t<tr><td>A</td><td>CP_EUR_HAB</td><td>B1GQ</td><td>LU       </td><td>2012-01-01</td><td>87540</td></tr>\n",
       "\t<tr><td>A</td><td>CP_EUR_HAB</td><td>B1GQ</td><td>LV       </td><td>2012-01-01</td><td>10870</td></tr>\n",
       "\t<tr><td>A</td><td>CP_EUR_HAB</td><td>B1GQ</td><td>ME       </td><td>2012-01-01</td><td> 5130</td></tr>\n",
       "\t<tr><td>A</td><td>CP_EUR_HAB</td><td>B1GQ</td><td>MK       </td><td>2012-01-01</td><td> 3930</td></tr>\n",
       "\t<tr><td>A</td><td>CP_EUR_HAB</td><td>B1GQ</td><td>MT       </td><td>2012-01-01</td><td>17540</td></tr>\n",
       "\t<tr><td>A</td><td>CP_EUR_HAB</td><td>B1GQ</td><td>NL       </td><td>2012-01-01</td><td>38970</td></tr>\n",
       "\t<tr><td>A</td><td>CP_EUR_HAB</td><td>B1GQ</td><td>NO       </td><td>2012-01-01</td><td>79510</td></tr>\n",
       "\t<tr><td>A</td><td>CP_EUR_HAB</td><td>B1GQ</td><td>PL       </td><td>2012-01-01</td><td>10000</td></tr>\n",
       "\t<tr><td>A</td><td>CP_EUR_HAB</td><td>B1GQ</td><td>PT       </td><td>2012-01-01</td><td>16010</td></tr>\n",
       "\t<tr><td>A</td><td>CP_EUR_HAB</td><td>B1GQ</td><td>RO       </td><td>2012-01-01</td><td> 6950</td></tr>\n",
       "\t<tr><td>A</td><td>CP_EUR_HAB</td><td>B1GQ</td><td>RS       </td><td>2012-01-01</td><td> 4680</td></tr>\n",
       "\t<tr><td>A</td><td>CP_EUR_HAB</td><td>B1GQ</td><td>SE       </td><td>2012-01-01</td><td>44950</td></tr>\n",
       "\t<tr><td>A</td><td>CP_EUR_HAB</td><td>B1GQ</td><td>SI       </td><td>2012-01-01</td><td>17630</td></tr>\n",
       "\t<tr><td>A</td><td>CP_EUR_HAB</td><td>B1GQ</td><td>SK       </td><td>2012-01-01</td><td>13620</td></tr>\n",
       "\t<tr><td>A</td><td>CP_EUR_HAB</td><td>B1GQ</td><td>TR       </td><td>2012-01-01</td><td> 9090</td></tr>\n",
       "\t<tr><td>A</td><td>CP_EUR_HAB</td><td>B1GQ</td><td>UK       </td><td>2012-01-01</td><td>33140</td></tr>\n",
       "</tbody>\n",
       "</table>\n"
      ],
      "text/latex": [
       "A tibble: 43 × 6\n",
       "\\begin{tabular}{llllll}\n",
       " freq & unit & na\\_item & geo & TIME\\_PERIOD & values\\\\\n",
       " <chr> & <chr> & <chr> & <chr> & <date> & <dbl>\\\\\n",
       "\\hline\n",
       "\t A & CP\\_EUR\\_HAB & B1GQ & AL        & 2012-01-01 &  3300\\\\\n",
       "\t A & CP\\_EUR\\_HAB & B1GQ & AT        & 2012-01-01 & 37820\\\\\n",
       "\t A & CP\\_EUR\\_HAB & B1GQ & BE        & 2012-01-01 & 34770\\\\\n",
       "\t A & CP\\_EUR\\_HAB & B1GQ & BG        & 2012-01-01 &  5780\\\\\n",
       "\t A & CP\\_EUR\\_HAB & B1GQ & CH        & 2012-01-01 & 66780\\\\\n",
       "\t A & CP\\_EUR\\_HAB & B1GQ & CY        & 2012-01-01 & 22570\\\\\n",
       "\t A & CP\\_EUR\\_HAB & B1GQ & CZ        & 2012-01-01 & 15470\\\\\n",
       "\t A & CP\\_EUR\\_HAB & B1GQ & DE        & 2012-01-01 & 34130\\\\\n",
       "\t A & CP\\_EUR\\_HAB & B1GQ & DK        & 2012-01-01 & 45530\\\\\n",
       "\t A & CP\\_EUR\\_HAB & B1GQ & EA        & 2012-01-01 & 29510\\\\\n",
       "\t A & CP\\_EUR\\_HAB & B1GQ & EA12      & 2012-01-01 & 29950\\\\\n",
       "\t A & CP\\_EUR\\_HAB & B1GQ & EA19      & 2012-01-01 & 29230\\\\\n",
       "\t A & CP\\_EUR\\_HAB & B1GQ & EA20      & 2012-01-01 & 29000\\\\\n",
       "\t A & CP\\_EUR\\_HAB & B1GQ & EE        & 2012-01-01 & 13520\\\\\n",
       "\t A & CP\\_EUR\\_HAB & B1GQ & EL        & 2012-01-01 & 17060\\\\\n",
       "\t A & CP\\_EUR\\_HAB & B1GQ & ES        & 2012-01-01 & 22050\\\\\n",
       "\t A & CP\\_EUR\\_HAB & B1GQ & EU15      & 2012-01-01 & 31030\\\\\n",
       "\t A & CP\\_EUR\\_HAB & B1GQ & EU27\\_2020 & 2012-01-01 & 25770\\\\\n",
       "\t A & CP\\_EUR\\_HAB & B1GQ & EU28      & 2012-01-01 & 26690\\\\\n",
       "\t A & CP\\_EUR\\_HAB & B1GQ & FI        & 2012-01-01 & 37130\\\\\n",
       "\t A & CP\\_EUR\\_HAB & B1GQ & FR        & 2012-01-01 & 31820\\\\\n",
       "\t A & CP\\_EUR\\_HAB & B1GQ & HR        & 2012-01-01 & 10480\\\\\n",
       "\t A & CP\\_EUR\\_HAB & B1GQ & HU        & 2012-01-01 & 10110\\\\\n",
       "\t A & CP\\_EUR\\_HAB & B1GQ & IE        & 2012-01-01 & 38110\\\\\n",
       "\t A & CP\\_EUR\\_HAB & B1GQ & IS        & 2012-01-01 & 36500\\\\\n",
       "\t A & CP\\_EUR\\_HAB & B1GQ & IT        & 2012-01-01 & 26990\\\\\n",
       "\t A & CP\\_EUR\\_HAB & B1GQ & LT        & 2012-01-01 & 11180\\\\\n",
       "\t A & CP\\_EUR\\_HAB & B1GQ & LU        & 2012-01-01 & 87540\\\\\n",
       "\t A & CP\\_EUR\\_HAB & B1GQ & LV        & 2012-01-01 & 10870\\\\\n",
       "\t A & CP\\_EUR\\_HAB & B1GQ & ME        & 2012-01-01 &  5130\\\\\n",
       "\t A & CP\\_EUR\\_HAB & B1GQ & MK        & 2012-01-01 &  3930\\\\\n",
       "\t A & CP\\_EUR\\_HAB & B1GQ & MT        & 2012-01-01 & 17540\\\\\n",
       "\t A & CP\\_EUR\\_HAB & B1GQ & NL        & 2012-01-01 & 38970\\\\\n",
       "\t A & CP\\_EUR\\_HAB & B1GQ & NO        & 2012-01-01 & 79510\\\\\n",
       "\t A & CP\\_EUR\\_HAB & B1GQ & PL        & 2012-01-01 & 10000\\\\\n",
       "\t A & CP\\_EUR\\_HAB & B1GQ & PT        & 2012-01-01 & 16010\\\\\n",
       "\t A & CP\\_EUR\\_HAB & B1GQ & RO        & 2012-01-01 &  6950\\\\\n",
       "\t A & CP\\_EUR\\_HAB & B1GQ & RS        & 2012-01-01 &  4680\\\\\n",
       "\t A & CP\\_EUR\\_HAB & B1GQ & SE        & 2012-01-01 & 44950\\\\\n",
       "\t A & CP\\_EUR\\_HAB & B1GQ & SI        & 2012-01-01 & 17630\\\\\n",
       "\t A & CP\\_EUR\\_HAB & B1GQ & SK        & 2012-01-01 & 13620\\\\\n",
       "\t A & CP\\_EUR\\_HAB & B1GQ & TR        & 2012-01-01 &  9090\\\\\n",
       "\t A & CP\\_EUR\\_HAB & B1GQ & UK        & 2012-01-01 & 33140\\\\\n",
       "\\end{tabular}\n"
      ],
      "text/markdown": [
       "\n",
       "A tibble: 43 × 6\n",
       "\n",
       "| freq &lt;chr&gt; | unit &lt;chr&gt; | na_item &lt;chr&gt; | geo &lt;chr&gt; | TIME_PERIOD &lt;date&gt; | values &lt;dbl&gt; |\n",
       "|---|---|---|---|---|---|\n",
       "| A | CP_EUR_HAB | B1GQ | AL        | 2012-01-01 |  3300 |\n",
       "| A | CP_EUR_HAB | B1GQ | AT        | 2012-01-01 | 37820 |\n",
       "| A | CP_EUR_HAB | B1GQ | BE        | 2012-01-01 | 34770 |\n",
       "| A | CP_EUR_HAB | B1GQ | BG        | 2012-01-01 |  5780 |\n",
       "| A | CP_EUR_HAB | B1GQ | CH        | 2012-01-01 | 66780 |\n",
       "| A | CP_EUR_HAB | B1GQ | CY        | 2012-01-01 | 22570 |\n",
       "| A | CP_EUR_HAB | B1GQ | CZ        | 2012-01-01 | 15470 |\n",
       "| A | CP_EUR_HAB | B1GQ | DE        | 2012-01-01 | 34130 |\n",
       "| A | CP_EUR_HAB | B1GQ | DK        | 2012-01-01 | 45530 |\n",
       "| A | CP_EUR_HAB | B1GQ | EA        | 2012-01-01 | 29510 |\n",
       "| A | CP_EUR_HAB | B1GQ | EA12      | 2012-01-01 | 29950 |\n",
       "| A | CP_EUR_HAB | B1GQ | EA19      | 2012-01-01 | 29230 |\n",
       "| A | CP_EUR_HAB | B1GQ | EA20      | 2012-01-01 | 29000 |\n",
       "| A | CP_EUR_HAB | B1GQ | EE        | 2012-01-01 | 13520 |\n",
       "| A | CP_EUR_HAB | B1GQ | EL        | 2012-01-01 | 17060 |\n",
       "| A | CP_EUR_HAB | B1GQ | ES        | 2012-01-01 | 22050 |\n",
       "| A | CP_EUR_HAB | B1GQ | EU15      | 2012-01-01 | 31030 |\n",
       "| A | CP_EUR_HAB | B1GQ | EU27_2020 | 2012-01-01 | 25770 |\n",
       "| A | CP_EUR_HAB | B1GQ | EU28      | 2012-01-01 | 26690 |\n",
       "| A | CP_EUR_HAB | B1GQ | FI        | 2012-01-01 | 37130 |\n",
       "| A | CP_EUR_HAB | B1GQ | FR        | 2012-01-01 | 31820 |\n",
       "| A | CP_EUR_HAB | B1GQ | HR        | 2012-01-01 | 10480 |\n",
       "| A | CP_EUR_HAB | B1GQ | HU        | 2012-01-01 | 10110 |\n",
       "| A | CP_EUR_HAB | B1GQ | IE        | 2012-01-01 | 38110 |\n",
       "| A | CP_EUR_HAB | B1GQ | IS        | 2012-01-01 | 36500 |\n",
       "| A | CP_EUR_HAB | B1GQ | IT        | 2012-01-01 | 26990 |\n",
       "| A | CP_EUR_HAB | B1GQ | LT        | 2012-01-01 | 11180 |\n",
       "| A | CP_EUR_HAB | B1GQ | LU        | 2012-01-01 | 87540 |\n",
       "| A | CP_EUR_HAB | B1GQ | LV        | 2012-01-01 | 10870 |\n",
       "| A | CP_EUR_HAB | B1GQ | ME        | 2012-01-01 |  5130 |\n",
       "| A | CP_EUR_HAB | B1GQ | MK        | 2012-01-01 |  3930 |\n",
       "| A | CP_EUR_HAB | B1GQ | MT        | 2012-01-01 | 17540 |\n",
       "| A | CP_EUR_HAB | B1GQ | NL        | 2012-01-01 | 38970 |\n",
       "| A | CP_EUR_HAB | B1GQ | NO        | 2012-01-01 | 79510 |\n",
       "| A | CP_EUR_HAB | B1GQ | PL        | 2012-01-01 | 10000 |\n",
       "| A | CP_EUR_HAB | B1GQ | PT        | 2012-01-01 | 16010 |\n",
       "| A | CP_EUR_HAB | B1GQ | RO        | 2012-01-01 |  6950 |\n",
       "| A | CP_EUR_HAB | B1GQ | RS        | 2012-01-01 |  4680 |\n",
       "| A | CP_EUR_HAB | B1GQ | SE        | 2012-01-01 | 44950 |\n",
       "| A | CP_EUR_HAB | B1GQ | SI        | 2012-01-01 | 17630 |\n",
       "| A | CP_EUR_HAB | B1GQ | SK        | 2012-01-01 | 13620 |\n",
       "| A | CP_EUR_HAB | B1GQ | TR        | 2012-01-01 |  9090 |\n",
       "| A | CP_EUR_HAB | B1GQ | UK        | 2012-01-01 | 33140 |\n",
       "\n"
      ],
      "text/plain": [
       "   freq unit       na_item geo       TIME_PERIOD values\n",
       "1  A    CP_EUR_HAB B1GQ    AL        2012-01-01   3300 \n",
       "2  A    CP_EUR_HAB B1GQ    AT        2012-01-01  37820 \n",
       "3  A    CP_EUR_HAB B1GQ    BE        2012-01-01  34770 \n",
       "4  A    CP_EUR_HAB B1GQ    BG        2012-01-01   5780 \n",
       "5  A    CP_EUR_HAB B1GQ    CH        2012-01-01  66780 \n",
       "6  A    CP_EUR_HAB B1GQ    CY        2012-01-01  22570 \n",
       "7  A    CP_EUR_HAB B1GQ    CZ        2012-01-01  15470 \n",
       "8  A    CP_EUR_HAB B1GQ    DE        2012-01-01  34130 \n",
       "9  A    CP_EUR_HAB B1GQ    DK        2012-01-01  45530 \n",
       "10 A    CP_EUR_HAB B1GQ    EA        2012-01-01  29510 \n",
       "11 A    CP_EUR_HAB B1GQ    EA12      2012-01-01  29950 \n",
       "12 A    CP_EUR_HAB B1GQ    EA19      2012-01-01  29230 \n",
       "13 A    CP_EUR_HAB B1GQ    EA20      2012-01-01  29000 \n",
       "14 A    CP_EUR_HAB B1GQ    EE        2012-01-01  13520 \n",
       "15 A    CP_EUR_HAB B1GQ    EL        2012-01-01  17060 \n",
       "16 A    CP_EUR_HAB B1GQ    ES        2012-01-01  22050 \n",
       "17 A    CP_EUR_HAB B1GQ    EU15      2012-01-01  31030 \n",
       "18 A    CP_EUR_HAB B1GQ    EU27_2020 2012-01-01  25770 \n",
       "19 A    CP_EUR_HAB B1GQ    EU28      2012-01-01  26690 \n",
       "20 A    CP_EUR_HAB B1GQ    FI        2012-01-01  37130 \n",
       "21 A    CP_EUR_HAB B1GQ    FR        2012-01-01  31820 \n",
       "22 A    CP_EUR_HAB B1GQ    HR        2012-01-01  10480 \n",
       "23 A    CP_EUR_HAB B1GQ    HU        2012-01-01  10110 \n",
       "24 A    CP_EUR_HAB B1GQ    IE        2012-01-01  38110 \n",
       "25 A    CP_EUR_HAB B1GQ    IS        2012-01-01  36500 \n",
       "26 A    CP_EUR_HAB B1GQ    IT        2012-01-01  26990 \n",
       "27 A    CP_EUR_HAB B1GQ    LT        2012-01-01  11180 \n",
       "28 A    CP_EUR_HAB B1GQ    LU        2012-01-01  87540 \n",
       "29 A    CP_EUR_HAB B1GQ    LV        2012-01-01  10870 \n",
       "30 A    CP_EUR_HAB B1GQ    ME        2012-01-01   5130 \n",
       "31 A    CP_EUR_HAB B1GQ    MK        2012-01-01   3930 \n",
       "32 A    CP_EUR_HAB B1GQ    MT        2012-01-01  17540 \n",
       "33 A    CP_EUR_HAB B1GQ    NL        2012-01-01  38970 \n",
       "34 A    CP_EUR_HAB B1GQ    NO        2012-01-01  79510 \n",
       "35 A    CP_EUR_HAB B1GQ    PL        2012-01-01  10000 \n",
       "36 A    CP_EUR_HAB B1GQ    PT        2012-01-01  16010 \n",
       "37 A    CP_EUR_HAB B1GQ    RO        2012-01-01   6950 \n",
       "38 A    CP_EUR_HAB B1GQ    RS        2012-01-01   4680 \n",
       "39 A    CP_EUR_HAB B1GQ    SE        2012-01-01  44950 \n",
       "40 A    CP_EUR_HAB B1GQ    SI        2012-01-01  17630 \n",
       "41 A    CP_EUR_HAB B1GQ    SK        2012-01-01  13620 \n",
       "42 A    CP_EUR_HAB B1GQ    TR        2012-01-01   9090 \n",
       "43 A    CP_EUR_HAB B1GQ    UK        2012-01-01  33140 "
      ]
     },
     "metadata": {},
     "output_type": "display_data"
    }
   ],
   "source": [
    "data"
   ]
  },
  {
   "cell_type": "code",
   "execution_count": 6,
   "id": "5212ecd0-b6ea-4fca-b7ae-56d5ba07c280",
   "metadata": {},
   "outputs": [],
   "source": [
    "data$freq <- NULL\n",
    "data$unit <- NULL\n",
    "data$na_item <- NULL\n",
    "data$TIME_PERIOD <- NULL\n",
    "data <- subset(data, !(geo %in% c(\"EA12\", \"EA19\", \"EA20\", \"EU15\", \"EU27_2020\", \"EU28\", \"EA\")))\n",
    "data <- data %>% \n",
    "  rename(GDP = values)"
   ]
  },
  {
   "cell_type": "code",
   "execution_count": 7,
   "id": "566b1068-3472-452d-8135-21b982e8f8a1",
   "metadata": {},
   "outputs": [
    {
     "data": {
      "text/html": [
       "<table class=\"dataframe\">\n",
       "<caption>A tibble: 36 × 2</caption>\n",
       "<thead>\n",
       "\t<tr><th scope=col>geo</th><th scope=col>GDP</th></tr>\n",
       "\t<tr><th scope=col>&lt;chr&gt;</th><th scope=col>&lt;dbl&gt;</th></tr>\n",
       "</thead>\n",
       "<tbody>\n",
       "\t<tr><td>AL</td><td> 3300</td></tr>\n",
       "\t<tr><td>AT</td><td>37820</td></tr>\n",
       "\t<tr><td>BE</td><td>34770</td></tr>\n",
       "\t<tr><td>BG</td><td> 5780</td></tr>\n",
       "\t<tr><td>CH</td><td>66780</td></tr>\n",
       "\t<tr><td>CY</td><td>22570</td></tr>\n",
       "\t<tr><td>CZ</td><td>15470</td></tr>\n",
       "\t<tr><td>DE</td><td>34130</td></tr>\n",
       "\t<tr><td>DK</td><td>45530</td></tr>\n",
       "\t<tr><td>EE</td><td>13520</td></tr>\n",
       "\t<tr><td>EL</td><td>17060</td></tr>\n",
       "\t<tr><td>ES</td><td>22050</td></tr>\n",
       "\t<tr><td>FI</td><td>37130</td></tr>\n",
       "\t<tr><td>FR</td><td>31820</td></tr>\n",
       "\t<tr><td>HR</td><td>10480</td></tr>\n",
       "\t<tr><td>HU</td><td>10110</td></tr>\n",
       "\t<tr><td>IE</td><td>38110</td></tr>\n",
       "\t<tr><td>IS</td><td>36500</td></tr>\n",
       "\t<tr><td>IT</td><td>26990</td></tr>\n",
       "\t<tr><td>LT</td><td>11180</td></tr>\n",
       "\t<tr><td>LU</td><td>87540</td></tr>\n",
       "\t<tr><td>LV</td><td>10870</td></tr>\n",
       "\t<tr><td>ME</td><td> 5130</td></tr>\n",
       "\t<tr><td>MK</td><td> 3930</td></tr>\n",
       "\t<tr><td>MT</td><td>17540</td></tr>\n",
       "\t<tr><td>NL</td><td>38970</td></tr>\n",
       "\t<tr><td>NO</td><td>79510</td></tr>\n",
       "\t<tr><td>PL</td><td>10000</td></tr>\n",
       "\t<tr><td>PT</td><td>16010</td></tr>\n",
       "\t<tr><td>RO</td><td> 6950</td></tr>\n",
       "\t<tr><td>RS</td><td> 4680</td></tr>\n",
       "\t<tr><td>SE</td><td>44950</td></tr>\n",
       "\t<tr><td>SI</td><td>17630</td></tr>\n",
       "\t<tr><td>SK</td><td>13620</td></tr>\n",
       "\t<tr><td>TR</td><td> 9090</td></tr>\n",
       "\t<tr><td>UK</td><td>33140</td></tr>\n",
       "</tbody>\n",
       "</table>\n"
      ],
      "text/latex": [
       "A tibble: 36 × 2\n",
       "\\begin{tabular}{ll}\n",
       " geo & GDP\\\\\n",
       " <chr> & <dbl>\\\\\n",
       "\\hline\n",
       "\t AL &  3300\\\\\n",
       "\t AT & 37820\\\\\n",
       "\t BE & 34770\\\\\n",
       "\t BG &  5780\\\\\n",
       "\t CH & 66780\\\\\n",
       "\t CY & 22570\\\\\n",
       "\t CZ & 15470\\\\\n",
       "\t DE & 34130\\\\\n",
       "\t DK & 45530\\\\\n",
       "\t EE & 13520\\\\\n",
       "\t EL & 17060\\\\\n",
       "\t ES & 22050\\\\\n",
       "\t FI & 37130\\\\\n",
       "\t FR & 31820\\\\\n",
       "\t HR & 10480\\\\\n",
       "\t HU & 10110\\\\\n",
       "\t IE & 38110\\\\\n",
       "\t IS & 36500\\\\\n",
       "\t IT & 26990\\\\\n",
       "\t LT & 11180\\\\\n",
       "\t LU & 87540\\\\\n",
       "\t LV & 10870\\\\\n",
       "\t ME &  5130\\\\\n",
       "\t MK &  3930\\\\\n",
       "\t MT & 17540\\\\\n",
       "\t NL & 38970\\\\\n",
       "\t NO & 79510\\\\\n",
       "\t PL & 10000\\\\\n",
       "\t PT & 16010\\\\\n",
       "\t RO &  6950\\\\\n",
       "\t RS &  4680\\\\\n",
       "\t SE & 44950\\\\\n",
       "\t SI & 17630\\\\\n",
       "\t SK & 13620\\\\\n",
       "\t TR &  9090\\\\\n",
       "\t UK & 33140\\\\\n",
       "\\end{tabular}\n"
      ],
      "text/markdown": [
       "\n",
       "A tibble: 36 × 2\n",
       "\n",
       "| geo &lt;chr&gt; | GDP &lt;dbl&gt; |\n",
       "|---|---|\n",
       "| AL |  3300 |\n",
       "| AT | 37820 |\n",
       "| BE | 34770 |\n",
       "| BG |  5780 |\n",
       "| CH | 66780 |\n",
       "| CY | 22570 |\n",
       "| CZ | 15470 |\n",
       "| DE | 34130 |\n",
       "| DK | 45530 |\n",
       "| EE | 13520 |\n",
       "| EL | 17060 |\n",
       "| ES | 22050 |\n",
       "| FI | 37130 |\n",
       "| FR | 31820 |\n",
       "| HR | 10480 |\n",
       "| HU | 10110 |\n",
       "| IE | 38110 |\n",
       "| IS | 36500 |\n",
       "| IT | 26990 |\n",
       "| LT | 11180 |\n",
       "| LU | 87540 |\n",
       "| LV | 10870 |\n",
       "| ME |  5130 |\n",
       "| MK |  3930 |\n",
       "| MT | 17540 |\n",
       "| NL | 38970 |\n",
       "| NO | 79510 |\n",
       "| PL | 10000 |\n",
       "| PT | 16010 |\n",
       "| RO |  6950 |\n",
       "| RS |  4680 |\n",
       "| SE | 44950 |\n",
       "| SI | 17630 |\n",
       "| SK | 13620 |\n",
       "| TR |  9090 |\n",
       "| UK | 33140 |\n",
       "\n"
      ],
      "text/plain": [
       "   geo GDP  \n",
       "1  AL   3300\n",
       "2  AT  37820\n",
       "3  BE  34770\n",
       "4  BG   5780\n",
       "5  CH  66780\n",
       "6  CY  22570\n",
       "7  CZ  15470\n",
       "8  DE  34130\n",
       "9  DK  45530\n",
       "10 EE  13520\n",
       "11 EL  17060\n",
       "12 ES  22050\n",
       "13 FI  37130\n",
       "14 FR  31820\n",
       "15 HR  10480\n",
       "16 HU  10110\n",
       "17 IE  38110\n",
       "18 IS  36500\n",
       "19 IT  26990\n",
       "20 LT  11180\n",
       "21 LU  87540\n",
       "22 LV  10870\n",
       "23 ME   5130\n",
       "24 MK   3930\n",
       "25 MT  17540\n",
       "26 NL  38970\n",
       "27 NO  79510\n",
       "28 PL  10000\n",
       "29 PT  16010\n",
       "30 RO   6950\n",
       "31 RS   4680\n",
       "32 SE  44950\n",
       "33 SI  17630\n",
       "34 SK  13620\n",
       "35 TR   9090\n",
       "36 UK  33140"
      ]
     },
     "metadata": {},
     "output_type": "display_data"
    }
   ],
   "source": [
    "data"
   ]
  },
  {
   "cell_type": "markdown",
   "id": "efc62623-3973-45fd-8d69-fad12efc0d8e",
   "metadata": {},
   "source": [
    "## Úloha 1\n",
    "\n",
    "* Krátce prezentujte rozdělení HDP a jeho charakteristiky číselně i graficky.\n",
    "* Diskutujte, které údaje o zemích by mohly mít na HDP vliv.\n",
    "\n",
    "Z rychlého pohledu na histogram bych řekl, že data nejsou normálně rozdělená. V boxplotu vidíme dva outliery Luxemburg a Norsko."
   ]
  },
  {
   "cell_type": "code",
   "execution_count": 8,
   "id": "eaf3b3e3-f463-47e1-bcf0-05f9247ce271",
   "metadata": {},
   "outputs": [
    {
     "data": {
      "image/png": "[encoded data removed]",
      "text/plain": [
       "plot without title"
      ]
     },
     "metadata": {
      "image/png": {
       "height": 480,
       "width": 720
      }
     },
     "output_type": "display_data"
    },
    {
     "name": "stdout",
     "output_type": "stream",
     "text": [
      "Průměr HDP: 25573.89 \n",
      "Medián HDP: 17585 \n",
      "Standardní odchylka HDP: 20620.2 \n",
      "První kvartil HDP: 10387.5 \n",
      "Medián HDP: 17585 \n",
      "Třetí kvartil HDP: 36657.5 \n",
      "Rozsah HDP: 84240 \n"
     ]
    },
    {
     "data": {
      "image/png": "[encoded data removed]",
      "text/plain": [
       "plot without title"
      ]
     },
     "metadata": {
      "image/png": {
       "height": 480,
       "width": 720
      }
     },
     "output_type": "display_data"
    }
   ],
   "source": [
    "summary_stats <- summary(data$GDP)\n",
    "mean_hdp <- mean(data$GDP)\n",
    "median_hdp <- median(data$GDP)\n",
    "std_dev_hdp <- sd(data$GDP)\n",
    "quartiles_hdp <- quantile(data$GDP, probs = c(0.25, 0.5, 0.75))\n",
    "range_hdp <- range(data$GDP)\n",
    "\n",
    "ggplot(data, aes(x = GDP)) +\n",
    "  geom_histogram(bins = 20, fill = \"skyblue\", color = \"black\", alpha = 0.8) +\n",
    "  labs(title = \"Rozdělení HDP evropských zemí\",\n",
    "       x = \"HDP na obyvatele (v eurech)\",\n",
    "       y = \"Počet zemí\") +\n",
    "  theme_minimal()\n",
    "\n",
    "ggplot(data, aes(x = \"\", y = GDP)) +\n",
    "  geom_boxplot(fill = \"lightgreen\", color = \"black\", alpha = 0.8) +\n",
    "  labs(title = \"Rozdělení HDP evropských zemí (2012)\",\n",
    "       x = \"\",\n",
    "       y = \"HDP na obyvatele (v eurech)\") +\n",
    "  theme_minimal()\n",
    "\n",
    "cat(\"Průměr HDP:\", mean_hdp, \"\\n\")\n",
    "cat(\"Medián HDP:\", median_hdp, \"\\n\")\n",
    "cat(\"Standardní odchylka HDP:\", std_dev_hdp, \"\\n\")\n",
    "cat(\"První kvartil HDP:\", quartiles_hdp[1], \"\\n\")\n",
    "cat(\"Medián HDP:\", quartiles_hdp[2], \"\\n\")\n",
    "cat(\"Třetí kvartil HDP:\", quartiles_hdp[3], \"\\n\")\n",
    "cat(\"Rozsah HDP:\", range_hdp[2] - range_hdp[1], \"\\n\")"
   ]
  },
  {
   "cell_type": "markdown",
   "id": "50b2eda0-81fe-4ca3-8e9f-626033f99115",
   "metadata": {},
   "source": [
    "Existuje několik možných důvodů, proč by Lucembursko a Norsko mohly tvořit outliery \n",
    "\n",
    "1) Lucembursko a Norsko jsou známé svou vysokou úrovní ekonomické prosperity a bohatství.\n",
    "2) Luxemburg - nízké daně z příjmu právnických osob, stabilní pracovní sila a vládní pobídka v oblasti investic, což při malém počtu obyvatel vede k neobvykle vysokému HDP na obyvatele.\n",
    "3) Norsko - díky úspěchu v odvětví ropy a zemního plynu a v dalších špičkových průmyslových odvětvích, jako je lodní doprava, stavba lodí a akvakultura."
   ]
  },
  {
   "cell_type": "code",
   "execution_count": 9,
   "id": "40ea07c6-5ed7-4ca0-8fb4-ed70b183a7e8",
   "metadata": {},
   "outputs": [
    {
     "data": {
      "text/html": [
       "<style>\n",
       ".list-inline {list-style: none; margin:0; padding: 0}\n",
       ".list-inline>li {display: inline-block}\n",
       ".list-inline>li:not(:last-child)::after {content: \"\\00b7\"; padding: 0 .5ex}\n",
       "</style>\n",
       "<ol class=list-inline><li>'LU'</li><li>'NO'</li></ol>\n"
      ],
      "text/latex": [
       "\\begin{enumerate*}\n",
       "\\item 'LU'\n",
       "\\item 'NO'\n",
       "\\end{enumerate*}\n"
      ],
      "text/markdown": [
       "1. 'LU'\n",
       "2. 'NO'\n",
       "\n",
       "\n"
      ],
      "text/plain": [
       "[1] \"LU\" \"NO\""
      ]
     },
     "metadata": {},
     "output_type": "display_data"
    }
   ],
   "source": [
    "outliers <- boxplot.stats(data$GDP)$out\n",
    "\n",
    "sorted_indices <- order(outliers, decreasing = TRUE)\n",
    "sorted_outliers <- outliers[sorted_indices]\n",
    "\n",
    "top_outliers <- sorted_outliers[1:3]\n",
    "\n",
    "top_outlier_countries <- data$geo[which(data$GDP %in% top_outliers)]\n",
    "\n",
    "top_outlier_countries"
   ]
  },
  {
   "cell_type": "markdown",
   "id": "840dae04-7fbc-43ab-acc5-f8ad5fe5c940",
   "metadata": {},
   "source": [
    "Q-Q plot, česky též kvantilový graf, vykresluje polohy výběrových kvantilů (z dat) versus polohy kvantilů vybraného teoretického rozdělení (např. normálního). Pokud by výběrové kvantily odpovídaly danému rozdělení, pak by ležely na přímce reprezentující právě toto rozdělení. Zase rychlým pohledem na Q-Q plot s normálním a exponenciálním rozdělením bych tipnul, že netvoří ani jedno z těchto rozdělení."
   ]
  },
  {
   "cell_type": "code",
   "execution_count": 10,
   "id": "84b2a1fe-cdaa-4d03-987a-04ae7e61502d",
   "metadata": {
    "scrolled": true
   },
   "outputs": [
    {
     "data": {
      "image/png": "[encoded data removed]",
      "text/plain": [
       "plot without title"
      ]
     },
     "metadata": {
      "image/png": {
       "height": 480,
       "width": 720
      }
     },
     "output_type": "display_data"
    }
   ],
   "source": [
    "p1 <- ggplot(data, aes(sample = GDP)) +\n",
    "  stat_qq(distribution = qnorm) +\n",
    "  stat_qq_line(distribution = qnorm) +\n",
    "  labs(title = \"Q-Q Plot Normal distribution\",\n",
    "       x = \"Theoretical Quantiles\",\n",
    "       y = \"Sample Quantiles\")\n",
    "\n",
    "print(p1)"
   ]
  },
  {
   "cell_type": "markdown",
   "id": "aab32128-263b-470c-a2f2-7b307d6944b9",
   "metadata": {},
   "source": [
    "Test Jarque-Bera je statistický test normality. \n",
    "\n",
    "Nulová hypotéza testu Jarque-Bera je, že data pocházejí z normálního rozdělení. Zamítáme nulovou hypotézu ve prospěch alternativní hypotézy, protože hodnota p (0.0006412) menší než 0.05. Máme dostatečné důkazy k zamítnutí nulové hypotézy a přijetí alternativní hypotézy, že data nejsou normálně distribuovaná.\n"
   ]
  },
  {
   "cell_type": "code",
   "execution_count": 11,
   "id": "45acdbea-3cac-4615-b64f-c93590e110a0",
   "metadata": {},
   "outputs": [
    {
     "data": {
      "text/plain": [
       "\n",
       "\tJarque-Bera Normality Test\n",
       "\n",
       "data:  data$GDP\n",
       "JB = 14.621, p-value = 0.0006685\n",
       "alternative hypothesis: greater\n"
      ]
     },
     "metadata": {},
     "output_type": "display_data"
    }
   ],
   "source": [
    "jarque.test(data$GDP)"
   ]
  },
  {
   "cell_type": "code",
   "execution_count": 12,
   "id": "11e51709-9d0b-45be-aea8-c581ce7b362d",
   "metadata": {},
   "outputs": [
    {
     "data": {
      "image/png": "[encoded data removed]",
      "text/plain": [
       "plot without title"
      ]
     },
     "metadata": {
      "image/png": {
       "height": 480,
       "width": 720
      }
     },
     "output_type": "display_data"
    }
   ],
   "source": [
    "xp_quantiles <- qexp(seq(0.01, 0.99, by = 0.01), rate = 1/mean(data$GDP))\n",
    "\n",
    "p2 <- ggplot(data, aes(sample = GDP)) +\n",
    "  stat_qq(distribution = qexp, dparams = list(rate = 1/mean(data$GDP))) +\n",
    "  geom_abline(intercept = 0, slope = 1, color = \"red\", linetype = \"dashed\") +\n",
    "  labs(title = \"Q-Q Plot for Czech Republic's HDP\",\n",
    "       x = \"Theoretical Quantiles\",\n",
    "       y = \"Sample Quantiles\")\n",
    "\n",
    "print(p2)"
   ]
  },
  {
   "cell_type": "markdown",
   "id": "55fb73e3-90e0-4ff7-b5a5-425c51585f4f",
   "metadata": {},
   "source": [
    "### Diskuse o vlivu na HDP\n",
    "Jeden z možných způsobu jak vypočítat HDP je pomocí této formule:\n",
    "\n",
    "$GDP = Consumption+Government Spending+Investment+Net Export$ [source link](https://www.investopedia.com/terms/g/gdp.asp)\n",
    "\n",
    "* Spotřeba (Consumption) se týká výdajů na soukromou spotřebu nebo spotřebitelských výdajů. Spotřebitelé utrácejí peníze za zboží a služby, například za nákup potravin nebo za stříhání vlasů\n",
    "* Vládní výdaje (Government Spending) představují výdaje na vládní spotřebu a hrubé investice. Vlády utrácejí peníze za vybavení, infrastrukturu a mzdy. Vládní výdaje mohou nabýt na významu ve srovnání s ostatními složkami HDP dané země, když spotřebitelské výdaje i podnikatelské investice prudce klesají. (K tomu může dojít například v důsledku recese.)\n",
    "* Investice se týkají soukromých domácích investic nebo kapitálových výdajů. Podniky vynakládají peníze na investice do svých podnikatelských aktivit. Podnik může například nakoupit strojní zařízení. Podnikatelské investice jsou rozhodující složkou HDP, protože zvyšují výrobní kapacitu ekonomiky a zvyšují úroveň zaměstnanosti.\n",
    "* Vzorec pro čistý vývoz odečte celkový vývoz od celkového dovozu (NX = vývoz - dovoz). Zboží a služby, které ekonomika vyrábí a vyváží do jiných zemí, snížené o dovoz, který nakupují domácí spotřebitelé, představují čistý vývoz země. Do tohoto výpočtu jsou zahrnuty všechny výdaje společností sídlících v dané zemi, i když se jedná o zahraniční společnosti.\n",
    "* Klimatické podmínky, geografická poloha a infrastruktura mohou mít vliv na ekonomický růst a produktivitu.\n",
    "* Hospodářská politika vlády"
   ]
  },
  {
   "cell_type": "markdown",
   "id": "2812fa41-ea33-44da-971d-662ea809c3c3",
   "metadata": {},
   "source": [
    "## Úloha 2:\n",
    "\n",
    "[Consumption and government spending dataset](https://ec.europa.eu/eurostat/databrowser/view/gov_10a_main__custom_11325103/default/table?lang=en) \n",
    "\n",
    "* Použijeme pro ziskání vládních výdajů ([TE]Total general government expenditure), spotřeby ([P3]Final consumption expenditure). Jako unit of measure budeme mít Million euro a sektor [S13] General government. Tato kategorie zahrnuje celkové výdaje veřejného sektoru včetně centrální vlády, státních vlád, místních samospráv a fondů sociálního zabezpečení\n",
    "\n",
    "* Total general government expenditure: kategorie zahrnuje celkové výdaje vlády, včetně výdajů na vládní spotřebu (například na veřejné služby, mzdy zaměstnanců ve veřejném sektoru) a hrubé investice (například investice do infrastruktury, vzdělávání, zdravotnictví apod.)\n",
    "* Final consumption expenditure: Jedná se o konečné spotřebitelské výdaje, které zahrnují výdaje domácností na zboží a služby pro osobní spotřebu\n",
    "\n",
    "[Net export dataset](https://ec.europa.eu/eurostat/databrowser/view/ds-018995__custom_11325190/default/table?lang=en)\n",
    "* Použijeme pro ziskání Netexport. Z nějakého důvodu tento dataset nelze stahnout pomocí příkazu get_eurostat, musel jsem to stahnout ručně s hodnotami IMPORT a EXPORT, kde jednotky jsou uvedené v euro, následně výpočítat EXPORT - IMPORT a převést na milliony euro, abychom měli konzistentní jednotky\n",
    "\n",
    "Jako kategorický příznak použijeme, zdá se v této zemí platí eurem nebo ne.\n",
    "\n",
    "Tedy budeme mít čtyři údaje:\n",
    "1) Vladní výdaje\n",
    "2) Spotřeba\n",
    "3) Netexport\n",
    "4) Zdá se platí eurem\n",
    "\n",
    "\n",
    "### Vládní výdaje"
   ]
  },
  {
   "cell_type": "code",
   "execution_count": 13,
   "id": "6765b99a-f570-4d53-b095-4c972c29e44e",
   "metadata": {},
   "outputs": [
    {
     "name": "stderr",
     "output_type": "stream",
     "text": [
      "Table gov_10a_main cached at C:\\Users\\User\\AppData\\Local\\Temp\\RtmpIN0r1V/eurostat/bbb9d3be9550294f0158a3198f9a82e3.rds\n",
      "\n"
     ]
    }
   ],
   "source": [
    "government_spending <- get_eurostat(id = \"gov_10a_main\")"
   ]
  },
  {
   "cell_type": "code",
   "execution_count": 14,
   "id": "281acb30-6529-4de4-891d-d92813957613",
   "metadata": {},
   "outputs": [],
   "source": [
    "government_spending <- government_spending %>%\n",
    "  filter(na_item == \"TE\" & sector == \"S13\" & unit == \"MIO_EUR\" & TIME_PERIOD == as.Date(\"2012-01-01\"))"
   ]
  },
  {
   "cell_type": "code",
   "execution_count": 15,
   "id": "5557aace-e002-4a6b-9df6-56cb5046fc5c",
   "metadata": {},
   "outputs": [],
   "source": [
    "government_spending$freq <- NULL \n",
    "government_spending$unit <- NULL\n",
    "government_spending$sector <- NULL\n",
    "government_spending$na_item <- NULL\n",
    "government_spending$TIME_PERIOD <- NULL \n",
    "government_spending <- subset(government_spending, !(geo %in% c(\"EA19\", \"EA20\", \"EU15\", \"EU27_2020\", \"EU28\")))\n",
    "government_spending <- government_spending %>% rename(spending = values)"
   ]
  },
  {
   "cell_type": "code",
   "execution_count": 16,
   "id": "57abc7b9-88b1-4f23-ad98-a0f6d6a9db83",
   "metadata": {},
   "outputs": [
    {
     "data": {
      "text/html": [
       "<table class=\"dataframe\">\n",
       "<caption>A data.frame: 36 × 3</caption>\n",
       "<thead>\n",
       "\t<tr><th scope=col>geo</th><th scope=col>GDP</th><th scope=col>spending</th></tr>\n",
       "\t<tr><th scope=col>&lt;chr&gt;</th><th scope=col>&lt;dbl&gt;</th><th scope=col>&lt;dbl&gt;</th></tr>\n",
       "</thead>\n",
       "<tbody>\n",
       "\t<tr><td>AL</td><td> 3300</td><td>       NA</td></tr>\n",
       "\t<tr><td>AT</td><td>37820</td><td> 163191.9</td></tr>\n",
       "\t<tr><td>BE</td><td>34770</td><td> 218102.1</td></tr>\n",
       "\t<tr><td>BG</td><td> 5780</td><td>  14476.0</td></tr>\n",
       "\t<tr><td>CH</td><td>66780</td><td> 174563.9</td></tr>\n",
       "\t<tr><td>CY</td><td>22570</td><td>   8205.4</td></tr>\n",
       "\t<tr><td>CZ</td><td>15470</td><td>  72636.1</td></tr>\n",
       "\t<tr><td>DE</td><td>34130</td><td>1233138.0</td></tr>\n",
       "\t<tr><td>DK</td><td>45530</td><td> 147540.5</td></tr>\n",
       "\t<tr><td>EE</td><td>13520</td><td>   7031.5</td></tr>\n",
       "\t<tr><td>EL</td><td>17060</td><td> 107688.0</td></tr>\n",
       "\t<tr><td>ES</td><td>22050</td><td> 510092.0</td></tr>\n",
       "\t<tr><td>FI</td><td>37130</td><td> 111456.0</td></tr>\n",
       "\t<tr><td>FR</td><td>31820</td><td>1208938.4</td></tr>\n",
       "\t<tr><td>HR</td><td>10480</td><td>  21061.1</td></tr>\n",
       "\t<tr><td>HU</td><td>10110</td><td>  49237.5</td></tr>\n",
       "\t<tr><td>IE</td><td>38110</td><td>  74665.9</td></tr>\n",
       "\t<tr><td>IS</td><td>36500</td><td>   5479.6</td></tr>\n",
       "\t<tr><td>IT</td><td>26990</td><td> 821764.0</td></tr>\n",
       "\t<tr><td>LT</td><td>11180</td><td>  12088.5</td></tr>\n",
       "\t<tr><td>LU</td><td>87540</td><td>  19453.8</td></tr>\n",
       "\t<tr><td>LV</td><td>10870</td><td>   8576.3</td></tr>\n",
       "\t<tr><td>ME</td><td> 5130</td><td>       NA</td></tr>\n",
       "\t<tr><td>MK</td><td> 3930</td><td>       NA</td></tr>\n",
       "\t<tr><td>MT</td><td>17540</td><td>   3103.8</td></tr>\n",
       "\t<tr><td>NL</td><td>38970</td><td> 307043.0</td></tr>\n",
       "\t<tr><td>NO</td><td>79510</td><td> 171737.9</td></tr>\n",
       "\t<tr><td>PL</td><td>10000</td><td> 167380.7</td></tr>\n",
       "\t<tr><td>PT</td><td>16010</td><td>  82277.8</td></tr>\n",
       "\t<tr><td>RO</td><td> 6950</td><td>  50377.7</td></tr>\n",
       "\t<tr><td>RS</td><td> 4680</td><td>       NA</td></tr>\n",
       "\t<tr><td>SE</td><td>44950</td><td> 219333.0</td></tr>\n",
       "\t<tr><td>SI</td><td>17630</td><td>  17892.6</td></tr>\n",
       "\t<tr><td>SK</td><td>13620</td><td>  30276.4</td></tr>\n",
       "\t<tr><td>TR</td><td> 9090</td><td>       NA</td></tr>\n",
       "\t<tr><td>UK</td><td>33140</td><td>       NA</td></tr>\n",
       "</tbody>\n",
       "</table>\n"
      ],
      "text/latex": [
       "A data.frame: 36 × 3\n",
       "\\begin{tabular}{lll}\n",
       " geo & GDP & spending\\\\\n",
       " <chr> & <dbl> & <dbl>\\\\\n",
       "\\hline\n",
       "\t AL &  3300 &        NA\\\\\n",
       "\t AT & 37820 &  163191.9\\\\\n",
       "\t BE & 34770 &  218102.1\\\\\n",
       "\t BG &  5780 &   14476.0\\\\\n",
       "\t CH & 66780 &  174563.9\\\\\n",
       "\t CY & 22570 &    8205.4\\\\\n",
       "\t CZ & 15470 &   72636.1\\\\\n",
       "\t DE & 34130 & 1233138.0\\\\\n",
       "\t DK & 45530 &  147540.5\\\\\n",
       "\t EE & 13520 &    7031.5\\\\\n",
       "\t EL & 17060 &  107688.0\\\\\n",
       "\t ES & 22050 &  510092.0\\\\\n",
       "\t FI & 37130 &  111456.0\\\\\n",
       "\t FR & 31820 & 1208938.4\\\\\n",
       "\t HR & 10480 &   21061.1\\\\\n",
       "\t HU & 10110 &   49237.5\\\\\n",
       "\t IE & 38110 &   74665.9\\\\\n",
       "\t IS & 36500 &    5479.6\\\\\n",
       "\t IT & 26990 &  821764.0\\\\\n",
       "\t LT & 11180 &   12088.5\\\\\n",
       "\t LU & 87540 &   19453.8\\\\\n",
       "\t LV & 10870 &    8576.3\\\\\n",
       "\t ME &  5130 &        NA\\\\\n",
       "\t MK &  3930 &        NA\\\\\n",
       "\t MT & 17540 &    3103.8\\\\\n",
       "\t NL & 38970 &  307043.0\\\\\n",
       "\t NO & 79510 &  171737.9\\\\\n",
       "\t PL & 10000 &  167380.7\\\\\n",
       "\t PT & 16010 &   82277.8\\\\\n",
       "\t RO &  6950 &   50377.7\\\\\n",
       "\t RS &  4680 &        NA\\\\\n",
       "\t SE & 44950 &  219333.0\\\\\n",
       "\t SI & 17630 &   17892.6\\\\\n",
       "\t SK & 13620 &   30276.4\\\\\n",
       "\t TR &  9090 &        NA\\\\\n",
       "\t UK & 33140 &        NA\\\\\n",
       "\\end{tabular}\n"
      ],
      "text/markdown": [
       "\n",
       "A data.frame: 36 × 3\n",
       "\n",
       "| geo &lt;chr&gt; | GDP &lt;dbl&gt; | spending &lt;dbl&gt; |\n",
       "|---|---|---|\n",
       "| AL |  3300 |        NA |\n",
       "| AT | 37820 |  163191.9 |\n",
       "| BE | 34770 |  218102.1 |\n",
       "| BG |  5780 |   14476.0 |\n",
       "| CH | 66780 |  174563.9 |\n",
       "| CY | 22570 |    8205.4 |\n",
       "| CZ | 15470 |   72636.1 |\n",
       "| DE | 34130 | 1233138.0 |\n",
       "| DK | 45530 |  147540.5 |\n",
       "| EE | 13520 |    7031.5 |\n",
       "| EL | 17060 |  107688.0 |\n",
       "| ES | 22050 |  510092.0 |\n",
       "| FI | 37130 |  111456.0 |\n",
       "| FR | 31820 | 1208938.4 |\n",
       "| HR | 10480 |   21061.1 |\n",
       "| HU | 10110 |   49237.5 |\n",
       "| IE | 38110 |   74665.9 |\n",
       "| IS | 36500 |    5479.6 |\n",
       "| IT | 26990 |  821764.0 |\n",
       "| LT | 11180 |   12088.5 |\n",
       "| LU | 87540 |   19453.8 |\n",
       "| LV | 10870 |    8576.3 |\n",
       "| ME |  5130 |        NA |\n",
       "| MK |  3930 |        NA |\n",
       "| MT | 17540 |    3103.8 |\n",
       "| NL | 38970 |  307043.0 |\n",
       "| NO | 79510 |  171737.9 |\n",
       "| PL | 10000 |  167380.7 |\n",
       "| PT | 16010 |   82277.8 |\n",
       "| RO |  6950 |   50377.7 |\n",
       "| RS |  4680 |        NA |\n",
       "| SE | 44950 |  219333.0 |\n",
       "| SI | 17630 |   17892.6 |\n",
       "| SK | 13620 |   30276.4 |\n",
       "| TR |  9090 |        NA |\n",
       "| UK | 33140 |        NA |\n",
       "\n"
      ],
      "text/plain": [
       "   geo GDP   spending \n",
       "1  AL   3300        NA\n",
       "2  AT  37820  163191.9\n",
       "3  BE  34770  218102.1\n",
       "4  BG   5780   14476.0\n",
       "5  CH  66780  174563.9\n",
       "6  CY  22570    8205.4\n",
       "7  CZ  15470   72636.1\n",
       "8  DE  34130 1233138.0\n",
       "9  DK  45530  147540.5\n",
       "10 EE  13520    7031.5\n",
       "11 EL  17060  107688.0\n",
       "12 ES  22050  510092.0\n",
       "13 FI  37130  111456.0\n",
       "14 FR  31820 1208938.4\n",
       "15 HR  10480   21061.1\n",
       "16 HU  10110   49237.5\n",
       "17 IE  38110   74665.9\n",
       "18 IS  36500    5479.6\n",
       "19 IT  26990  821764.0\n",
       "20 LT  11180   12088.5\n",
       "21 LU  87540   19453.8\n",
       "22 LV  10870    8576.3\n",
       "23 ME   5130        NA\n",
       "24 MK   3930        NA\n",
       "25 MT  17540    3103.8\n",
       "26 NL  38970  307043.0\n",
       "27 NO  79510  171737.9\n",
       "28 PL  10000  167380.7\n",
       "29 PT  16010   82277.8\n",
       "30 RO   6950   50377.7\n",
       "31 RS   4680        NA\n",
       "32 SE  44950  219333.0\n",
       "33 SI  17630   17892.6\n",
       "34 SK  13620   30276.4\n",
       "35 TR   9090        NA\n",
       "36 UK  33140        NA"
      ]
     },
     "metadata": {},
     "output_type": "display_data"
    }
   ],
   "source": [
    "merged_data <- merge(data, government_spending, by = \"geo\", all.x = TRUE)\n",
    "merged_data"
   ]
  },
  {
   "cell_type": "markdown",
   "id": "847373eb-a334-4639-99a8-e40a843c9878",
   "metadata": {},
   "source": [
    "### Spotřeba"
   ]
  },
  {
   "cell_type": "code",
   "execution_count": 17,
   "id": "7ddc8602-81a1-4bb3-b359-aef4706ba748",
   "metadata": {},
   "outputs": [
    {
     "name": "stderr",
     "output_type": "stream",
     "text": [
      "Dataset query already saved in cache_list.json...\n",
      "\n",
      "Reading cache file C:\\Users\\User\\AppData\\Local\\Temp\\RtmpIN0r1V/eurostat/bbb9d3be9550294f0158a3198f9a82e3.rds\n",
      "\n",
      "Table  gov_10a_main  read from cache file:  C:\\Users\\User\\AppData\\Local\\Temp\\RtmpIN0r1V/eurostat/bbb9d3be9550294f0158a3198f9a82e3.rds\n",
      "\n"
     ]
    }
   ],
   "source": [
    "consumption <- get_eurostat(id = \"gov_10a_main\")\n",
    "consumption <- consumption %>%\n",
    "  filter(na_item == \"P3\" & sector == \"S13\" & unit == \"MIO_EUR\" & TIME_PERIOD == as.Date(\"2012-01-01\"))"
   ]
  },
  {
   "cell_type": "code",
   "execution_count": 18,
   "id": "64170268-efca-472e-8994-3c37b5a2c5ba",
   "metadata": {},
   "outputs": [],
   "source": [
    "consumption$freq <- NULL \n",
    "consumption$unit <- NULL\n",
    "consumption$sector <- NULL\n",
    "consumption$na_item <- NULL\n",
    "consumption$TIME_PERIOD <- NULL \n",
    "consumption <- subset(consumption, !(geo %in% c(\"EA19\", \"EA20\", \"EU15\", \"EU27_2020\", \"EU28\")))\n",
    "consumption <- consumption %>% rename(consumption = values)"
   ]
  },
  {
   "cell_type": "code",
   "execution_count": 19,
   "id": "22d4d021-8dd9-4363-919a-f5b1a9e121f0",
   "metadata": {},
   "outputs": [
    {
     "data": {
      "text/html": [
       "<table class=\"dataframe\">\n",
       "<caption>A data.frame: 36 × 4</caption>\n",
       "<thead>\n",
       "\t<tr><th scope=col>geo</th><th scope=col>GDP</th><th scope=col>spending</th><th scope=col>consumption</th></tr>\n",
       "\t<tr><th scope=col>&lt;chr&gt;</th><th scope=col>&lt;dbl&gt;</th><th scope=col>&lt;dbl&gt;</th><th scope=col>&lt;dbl&gt;</th></tr>\n",
       "</thead>\n",
       "<tbody>\n",
       "\t<tr><td>AL</td><td> 3300</td><td>       NA</td><td>      NA</td></tr>\n",
       "\t<tr><td>AT</td><td>37820</td><td> 163191.9</td><td> 63286.7</td></tr>\n",
       "\t<tr><td>BE</td><td>34770</td><td> 218102.1</td><td> 93853.4</td></tr>\n",
       "\t<tr><td>BG</td><td> 5780</td><td>  14476.0</td><td>  6672.6</td></tr>\n",
       "\t<tr><td>CH</td><td>66780</td><td> 174563.9</td><td> 60423.2</td></tr>\n",
       "\t<tr><td>CY</td><td>22570</td><td>   8205.4</td><td>  3657.6</td></tr>\n",
       "\t<tr><td>CZ</td><td>15470</td><td>  72636.1</td><td> 31627.4</td></tr>\n",
       "\t<tr><td>DE</td><td>34130</td><td>1233138.0</td><td>529210.0</td></tr>\n",
       "\t<tr><td>DK</td><td>45530</td><td> 147540.5</td><td> 67390.5</td></tr>\n",
       "\t<tr><td>EE</td><td>13520</td><td>   7031.5</td><td>  3260.0</td></tr>\n",
       "\t<tr><td>EL</td><td>17060</td><td> 107688.0</td><td> 42009.0</td></tr>\n",
       "\t<tr><td>ES</td><td>22050</td><td> 510092.0</td><td>205987.0</td></tr>\n",
       "\t<tr><td>FI</td><td>37130</td><td> 111456.0</td><td> 48444.0</td></tr>\n",
       "\t<tr><td>FR</td><td>31820</td><td>1208938.4</td><td>505817.9</td></tr>\n",
       "\t<tr><td>HR</td><td>10480</td><td>  21061.1</td><td> 10195.9</td></tr>\n",
       "\t<tr><td>HU</td><td>10110</td><td>  49237.5</td><td> 20005.4</td></tr>\n",
       "\t<tr><td>IE</td><td>38110</td><td>  74665.9</td><td> 31958.7</td></tr>\n",
       "\t<tr><td>IS</td><td>36500</td><td>   5479.6</td><td>  2842.0</td></tr>\n",
       "\t<tr><td>IT</td><td>26990</td><td> 821764.0</td><td>321754.0</td></tr>\n",
       "\t<tr><td>LT</td><td>11180</td><td>  12088.5</td><td>  5831.7</td></tr>\n",
       "\t<tr><td>LU</td><td>87540</td><td>  19453.8</td><td>  7590.3</td></tr>\n",
       "\t<tr><td>LV</td><td>10870</td><td>   8576.3</td><td>  3826.2</td></tr>\n",
       "\t<tr><td>ME</td><td> 5130</td><td>       NA</td><td>      NA</td></tr>\n",
       "\t<tr><td>MK</td><td> 3930</td><td>       NA</td><td>      NA</td></tr>\n",
       "\t<tr><td>MT</td><td>17540</td><td>   3103.8</td><td>  1451.6</td></tr>\n",
       "\t<tr><td>NL</td><td>38970</td><td> 307043.0</td><td>169945.0</td></tr>\n",
       "\t<tr><td>NO</td><td>79510</td><td> 171737.9</td><td> 82155.0</td></tr>\n",
       "\t<tr><td>PL</td><td>10000</td><td> 167380.7</td><td> 69847.3</td></tr>\n",
       "\t<tr><td>PT</td><td>16010</td><td>  82277.8</td><td> 30857.8</td></tr>\n",
       "\t<tr><td>RO</td><td> 6950</td><td>  50377.7</td><td> 19193.7</td></tr>\n",
       "\t<tr><td>RS</td><td> 4680</td><td>       NA</td><td>      NA</td></tr>\n",
       "\t<tr><td>SE</td><td>44950</td><td> 219333.0</td><td>110735.3</td></tr>\n",
       "\t<tr><td>SI</td><td>17630</td><td>  17892.6</td><td>  7379.5</td></tr>\n",
       "\t<tr><td>SK</td><td>13620</td><td>  30276.4</td><td> 13125.9</td></tr>\n",
       "\t<tr><td>TR</td><td> 9090</td><td>       NA</td><td>      NA</td></tr>\n",
       "\t<tr><td>UK</td><td>33140</td><td>       NA</td><td>      NA</td></tr>\n",
       "</tbody>\n",
       "</table>\n"
      ],
      "text/latex": [
       "A data.frame: 36 × 4\n",
       "\\begin{tabular}{llll}\n",
       " geo & GDP & spending & consumption\\\\\n",
       " <chr> & <dbl> & <dbl> & <dbl>\\\\\n",
       "\\hline\n",
       "\t AL &  3300 &        NA &       NA\\\\\n",
       "\t AT & 37820 &  163191.9 &  63286.7\\\\\n",
       "\t BE & 34770 &  218102.1 &  93853.4\\\\\n",
       "\t BG &  5780 &   14476.0 &   6672.6\\\\\n",
       "\t CH & 66780 &  174563.9 &  60423.2\\\\\n",
       "\t CY & 22570 &    8205.4 &   3657.6\\\\\n",
       "\t CZ & 15470 &   72636.1 &  31627.4\\\\\n",
       "\t DE & 34130 & 1233138.0 & 529210.0\\\\\n",
       "\t DK & 45530 &  147540.5 &  67390.5\\\\\n",
       "\t EE & 13520 &    7031.5 &   3260.0\\\\\n",
       "\t EL & 17060 &  107688.0 &  42009.0\\\\\n",
       "\t ES & 22050 &  510092.0 & 205987.0\\\\\n",
       "\t FI & 37130 &  111456.0 &  48444.0\\\\\n",
       "\t FR & 31820 & 1208938.4 & 505817.9\\\\\n",
       "\t HR & 10480 &   21061.1 &  10195.9\\\\\n",
       "\t HU & 10110 &   49237.5 &  20005.4\\\\\n",
       "\t IE & 38110 &   74665.9 &  31958.7\\\\\n",
       "\t IS & 36500 &    5479.6 &   2842.0\\\\\n",
       "\t IT & 26990 &  821764.0 & 321754.0\\\\\n",
       "\t LT & 11180 &   12088.5 &   5831.7\\\\\n",
       "\t LU & 87540 &   19453.8 &   7590.3\\\\\n",
       "\t LV & 10870 &    8576.3 &   3826.2\\\\\n",
       "\t ME &  5130 &        NA &       NA\\\\\n",
       "\t MK &  3930 &        NA &       NA\\\\\n",
       "\t MT & 17540 &    3103.8 &   1451.6\\\\\n",
       "\t NL & 38970 &  307043.0 & 169945.0\\\\\n",
       "\t NO & 79510 &  171737.9 &  82155.0\\\\\n",
       "\t PL & 10000 &  167380.7 &  69847.3\\\\\n",
       "\t PT & 16010 &   82277.8 &  30857.8\\\\\n",
       "\t RO &  6950 &   50377.7 &  19193.7\\\\\n",
       "\t RS &  4680 &        NA &       NA\\\\\n",
       "\t SE & 44950 &  219333.0 & 110735.3\\\\\n",
       "\t SI & 17630 &   17892.6 &   7379.5\\\\\n",
       "\t SK & 13620 &   30276.4 &  13125.9\\\\\n",
       "\t TR &  9090 &        NA &       NA\\\\\n",
       "\t UK & 33140 &        NA &       NA\\\\\n",
       "\\end{tabular}\n"
      ],
      "text/markdown": [
       "\n",
       "A data.frame: 36 × 4\n",
       "\n",
       "| geo &lt;chr&gt; | GDP &lt;dbl&gt; | spending &lt;dbl&gt; | consumption &lt;dbl&gt; |\n",
       "|---|---|---|---|\n",
       "| AL |  3300 |        NA |       NA |\n",
       "| AT | 37820 |  163191.9 |  63286.7 |\n",
       "| BE | 34770 |  218102.1 |  93853.4 |\n",
       "| BG |  5780 |   14476.0 |   6672.6 |\n",
       "| CH | 66780 |  174563.9 |  60423.2 |\n",
       "| CY | 22570 |    8205.4 |   3657.6 |\n",
       "| CZ | 15470 |   72636.1 |  31627.4 |\n",
       "| DE | 34130 | 1233138.0 | 529210.0 |\n",
       "| DK | 45530 |  147540.5 |  67390.5 |\n",
       "| EE | 13520 |    7031.5 |   3260.0 |\n",
       "| EL | 17060 |  107688.0 |  42009.0 |\n",
       "| ES | 22050 |  510092.0 | 205987.0 |\n",
       "| FI | 37130 |  111456.0 |  48444.0 |\n",
       "| FR | 31820 | 1208938.4 | 505817.9 |\n",
       "| HR | 10480 |   21061.1 |  10195.9 |\n",
       "| HU | 10110 |   49237.5 |  20005.4 |\n",
       "| IE | 38110 |   74665.9 |  31958.7 |\n",
       "| IS | 36500 |    5479.6 |   2842.0 |\n",
       "| IT | 26990 |  821764.0 | 321754.0 |\n",
       "| LT | 11180 |   12088.5 |   5831.7 |\n",
       "| LU | 87540 |   19453.8 |   7590.3 |\n",
       "| LV | 10870 |    8576.3 |   3826.2 |\n",
       "| ME |  5130 |        NA |       NA |\n",
       "| MK |  3930 |        NA |       NA |\n",
       "| MT | 17540 |    3103.8 |   1451.6 |\n",
       "| NL | 38970 |  307043.0 | 169945.0 |\n",
       "| NO | 79510 |  171737.9 |  82155.0 |\n",
       "| PL | 10000 |  167380.7 |  69847.3 |\n",
       "| PT | 16010 |   82277.8 |  30857.8 |\n",
       "| RO |  6950 |   50377.7 |  19193.7 |\n",
       "| RS |  4680 |        NA |       NA |\n",
       "| SE | 44950 |  219333.0 | 110735.3 |\n",
       "| SI | 17630 |   17892.6 |   7379.5 |\n",
       "| SK | 13620 |   30276.4 |  13125.9 |\n",
       "| TR |  9090 |        NA |       NA |\n",
       "| UK | 33140 |        NA |       NA |\n",
       "\n"
      ],
      "text/plain": [
       "   geo GDP   spending  consumption\n",
       "1  AL   3300        NA       NA   \n",
       "2  AT  37820  163191.9  63286.7   \n",
       "3  BE  34770  218102.1  93853.4   \n",
       "4  BG   5780   14476.0   6672.6   \n",
       "5  CH  66780  174563.9  60423.2   \n",
       "6  CY  22570    8205.4   3657.6   \n",
       "7  CZ  15470   72636.1  31627.4   \n",
       "8  DE  34130 1233138.0 529210.0   \n",
       "9  DK  45530  147540.5  67390.5   \n",
       "10 EE  13520    7031.5   3260.0   \n",
       "11 EL  17060  107688.0  42009.0   \n",
       "12 ES  22050  510092.0 205987.0   \n",
       "13 FI  37130  111456.0  48444.0   \n",
       "14 FR  31820 1208938.4 505817.9   \n",
       "15 HR  10480   21061.1  10195.9   \n",
       "16 HU  10110   49237.5  20005.4   \n",
       "17 IE  38110   74665.9  31958.7   \n",
       "18 IS  36500    5479.6   2842.0   \n",
       "19 IT  26990  821764.0 321754.0   \n",
       "20 LT  11180   12088.5   5831.7   \n",
       "21 LU  87540   19453.8   7590.3   \n",
       "22 LV  10870    8576.3   3826.2   \n",
       "23 ME   5130        NA       NA   \n",
       "24 MK   3930        NA       NA   \n",
       "25 MT  17540    3103.8   1451.6   \n",
       "26 NL  38970  307043.0 169945.0   \n",
       "27 NO  79510  171737.9  82155.0   \n",
       "28 PL  10000  167380.7  69847.3   \n",
       "29 PT  16010   82277.8  30857.8   \n",
       "30 RO   6950   50377.7  19193.7   \n",
       "31 RS   4680        NA       NA   \n",
       "32 SE  44950  219333.0 110735.3   \n",
       "33 SI  17630   17892.6   7379.5   \n",
       "34 SK  13620   30276.4  13125.9   \n",
       "35 TR   9090        NA       NA   \n",
       "36 UK  33140        NA       NA   "
      ]
     },
     "metadata": {},
     "output_type": "display_data"
    }
   ],
   "source": [
    "merged_data <- merge(merged_data, consumption, by = \"geo\", all.x = TRUE)\n",
    "merged_data"
   ]
  },
  {
   "cell_type": "markdown",
   "id": "61f983b9-43d5-4cd0-9cb9-57c48b45aabb",
   "metadata": {},
   "source": [
    "### Net export"
   ]
  },
  {
   "cell_type": "markdown",
   "id": "4de00586-5495-4002-b3e7-780a9f34a83f",
   "metadata": {},
   "source": [
    "Z nějakého důvodu tento dataset nejde stahnout, ačkoliv ID je korektní. Musím to udělat ručně."
   ]
  },
  {
   "cell_type": "code",
   "execution_count": 20,
   "id": "e4a39351-5716-406d-a3a1-f22e9c648049",
   "metadata": {},
   "outputs": [
    {
     "ename": "ERROR",
     "evalue": "Error in get_eurostat(id = \"ds-018995\"): get_eurostat_raw fails with the id ds-018995\n",
     "output_type": "error",
     "traceback": [
      "Error in get_eurostat(id = \"ds-018995\"): get_eurostat_raw fails with the id ds-018995\nTraceback:\n",
      "1. get_eurostat(id = \"ds-018995\")",
      "2. stop(paste(\"get_eurostat_raw fails with the id\", id))"
     ]
    }
   ],
   "source": [
    "net_export <- get_eurostat(id = \"ds-018995\")"
   ]
  },
  {
   "cell_type": "code",
   "execution_count": 21,
   "id": "6aa20643-1c28-48c1-8a2c-7e2f717cd6eb",
   "metadata": {},
   "outputs": [
    {
     "data": {
      "text/html": [
       "<table class=\"dataframe\">\n",
       "<caption>A tibble: 0 × 9</caption>\n",
       "<thead>\n",
       "\t<tr><th scope=col>title</th><th scope=col>code</th><th scope=col>type</th><th scope=col>last.update.of.data</th><th scope=col>last.table.structure.change</th><th scope=col>data.start</th><th scope=col>data.end</th><th scope=col>values</th><th scope=col>hierarchy</th></tr>\n",
       "\t<tr><th scope=col>&lt;chr&gt;</th><th scope=col>&lt;chr&gt;</th><th scope=col>&lt;chr&gt;</th><th scope=col>&lt;chr&gt;</th><th scope=col>&lt;chr&gt;</th><th scope=col>&lt;chr&gt;</th><th scope=col>&lt;chr&gt;</th><th scope=col>&lt;dbl&gt;</th><th scope=col>&lt;dbl&gt;</th></tr>\n",
       "</thead>\n",
       "<tbody>\n",
       "</tbody>\n",
       "</table>\n"
      ],
      "text/latex": [
       "A tibble: 0 × 9\n",
       "\\begin{tabular}{lllllllll}\n",
       " title & code & type & last.update.of.data & last.table.structure.change & data.start & data.end & values & hierarchy\\\\\n",
       " <chr> & <chr> & <chr> & <chr> & <chr> & <chr> & <chr> & <dbl> & <dbl>\\\\\n",
       "\\hline\n",
       "\\end{tabular}\n"
      ],
      "text/markdown": [
       "\n",
       "A tibble: 0 × 9\n",
       "\n",
       "| title &lt;chr&gt; | code &lt;chr&gt; | type &lt;chr&gt; | last.update.of.data &lt;chr&gt; | last.table.structure.change &lt;chr&gt; | data.start &lt;chr&gt; | data.end &lt;chr&gt; | values &lt;dbl&gt; | hierarchy &lt;dbl&gt; |\n",
       "|---|---|---|---|---|---|---|---|---|\n",
       "\n"
      ],
      "text/plain": [
       "     title code type last.update.of.data last.table.structure.change data.start data.end values hierarchy"
      ]
     },
     "metadata": {},
     "output_type": "display_data"
    }
   ],
   "source": [
    "srch <- search_eurostat(pattern='ds-018995')\n",
    "srch"
   ]
  },
  {
   "cell_type": "code",
   "execution_count": 22,
   "id": "b3b5bc8b-0f5d-4d13-8f08-dbda76f729d7",
   "metadata": {},
   "outputs": [],
   "source": [
    "iso_codes <- c(\"AT\", \"BE\", \"BG\", \"CY\", \"CZ\", \"DE\", \"DK\", \"EE\", \"ES\", \"FI\", \"FR\", \"UK\", \"GR\", \"HR\", \"HU\", \"IE\", \"IT\", \"LT\", \"LU\", \"LV\", \n",
    "               \"MT\", \"NL\", \"PL\", \"PT\", \"RO\", \"SE\", \"SI\", \"SK\")\n",
    "numbers <- c(-9263888500, 5301097222, -4689011720, -4324366075, 12164454752, 191672383879, 11882664818, -1555878385, -32758768516,\n",
    "             -2639245886, -82274908458, -173553722109, -20488303047, -6585745311, 6533296007, 37616936666, 9889611000, -1831640682, \n",
    "             -6569582335, -2425268983, -1827085904, 53274410334, -10651734804, -11161067261, -9624697962, 6155940741, 99579822, \n",
    "             2540358306)\n",
    "numbers <- numbers / 1000000\n",
    "netexport <- data.frame(geo = iso_codes, netexport = numbers)"
   ]
  },
  {
   "cell_type": "markdown",
   "id": "587e1753-982e-480d-a046-9ab3f6199245",
   "metadata": {},
   "source": [
    "Můžeme vidět, že spoustu hodnot nám chybí a nejsou v datasetech od eurostatu. Pokusím se najít hodnoty z externích zdrojů."
   ]
  },
  {
   "cell_type": "code",
   "execution_count": 23,
   "id": "747316c9-f7fa-408e-96f6-3de693fad3cf",
   "metadata": {},
   "outputs": [
    {
     "data": {
      "text/html": [
       "<table class=\"dataframe\">\n",
       "<caption>A data.frame: 36 × 5</caption>\n",
       "<thead>\n",
       "\t<tr><th scope=col>geo</th><th scope=col>GDP</th><th scope=col>spending</th><th scope=col>consumption</th><th scope=col>netexport</th></tr>\n",
       "\t<tr><th scope=col>&lt;chr&gt;</th><th scope=col>&lt;dbl&gt;</th><th scope=col>&lt;dbl&gt;</th><th scope=col>&lt;dbl&gt;</th><th scope=col>&lt;dbl&gt;</th></tr>\n",
       "</thead>\n",
       "<tbody>\n",
       "\t<tr><td>AL</td><td> 3300</td><td>       NA</td><td>      NA</td><td>           NA</td></tr>\n",
       "\t<tr><td>AT</td><td>37820</td><td> 163191.9</td><td> 63286.7</td><td>  -9263.88850</td></tr>\n",
       "\t<tr><td>BE</td><td>34770</td><td> 218102.1</td><td> 93853.4</td><td>   5301.09722</td></tr>\n",
       "\t<tr><td>BG</td><td> 5780</td><td>  14476.0</td><td>  6672.6</td><td>  -4689.01172</td></tr>\n",
       "\t<tr><td>CH</td><td>66780</td><td> 174563.9</td><td> 60423.2</td><td>           NA</td></tr>\n",
       "\t<tr><td>CY</td><td>22570</td><td>   8205.4</td><td>  3657.6</td><td>  -4324.36607</td></tr>\n",
       "\t<tr><td>CZ</td><td>15470</td><td>  72636.1</td><td> 31627.4</td><td>  12164.45475</td></tr>\n",
       "\t<tr><td>DE</td><td>34130</td><td>1233138.0</td><td>529210.0</td><td> 191672.38388</td></tr>\n",
       "\t<tr><td>DK</td><td>45530</td><td> 147540.5</td><td> 67390.5</td><td>  11882.66482</td></tr>\n",
       "\t<tr><td>EE</td><td>13520</td><td>   7031.5</td><td>  3260.0</td><td>  -1555.87838</td></tr>\n",
       "\t<tr><td>EL</td><td>17060</td><td> 107688.0</td><td> 42009.0</td><td>           NA</td></tr>\n",
       "\t<tr><td>ES</td><td>22050</td><td> 510092.0</td><td>205987.0</td><td> -32758.76852</td></tr>\n",
       "\t<tr><td>FI</td><td>37130</td><td> 111456.0</td><td> 48444.0</td><td>  -2639.24589</td></tr>\n",
       "\t<tr><td>FR</td><td>31820</td><td>1208938.4</td><td>505817.9</td><td> -82274.90846</td></tr>\n",
       "\t<tr><td>HR</td><td>10480</td><td>  21061.1</td><td> 10195.9</td><td>  -6585.74531</td></tr>\n",
       "\t<tr><td>HU</td><td>10110</td><td>  49237.5</td><td> 20005.4</td><td>   6533.29601</td></tr>\n",
       "\t<tr><td>IE</td><td>38110</td><td>  74665.9</td><td> 31958.7</td><td>  37616.93667</td></tr>\n",
       "\t<tr><td>IS</td><td>36500</td><td>   5479.6</td><td>  2842.0</td><td>           NA</td></tr>\n",
       "\t<tr><td>IT</td><td>26990</td><td> 821764.0</td><td>321754.0</td><td>   9889.61100</td></tr>\n",
       "\t<tr><td>LT</td><td>11180</td><td>  12088.5</td><td>  5831.7</td><td>  -1831.64068</td></tr>\n",
       "\t<tr><td>LU</td><td>87540</td><td>  19453.8</td><td>  7590.3</td><td>  -6569.58234</td></tr>\n",
       "\t<tr><td>LV</td><td>10870</td><td>   8576.3</td><td>  3826.2</td><td>  -2425.26898</td></tr>\n",
       "\t<tr><td>ME</td><td> 5130</td><td>       NA</td><td>      NA</td><td>           NA</td></tr>\n",
       "\t<tr><td>MK</td><td> 3930</td><td>       NA</td><td>      NA</td><td>           NA</td></tr>\n",
       "\t<tr><td>MT</td><td>17540</td><td>   3103.8</td><td>  1451.6</td><td>  -1827.08590</td></tr>\n",
       "\t<tr><td>NL</td><td>38970</td><td> 307043.0</td><td>169945.0</td><td>  53274.41033</td></tr>\n",
       "\t<tr><td>NO</td><td>79510</td><td> 171737.9</td><td> 82155.0</td><td>           NA</td></tr>\n",
       "\t<tr><td>PL</td><td>10000</td><td> 167380.7</td><td> 69847.3</td><td> -10651.73480</td></tr>\n",
       "\t<tr><td>PT</td><td>16010</td><td>  82277.8</td><td> 30857.8</td><td> -11161.06726</td></tr>\n",
       "\t<tr><td>RO</td><td> 6950</td><td>  50377.7</td><td> 19193.7</td><td>  -9624.69796</td></tr>\n",
       "\t<tr><td>RS</td><td> 4680</td><td>       NA</td><td>      NA</td><td>           NA</td></tr>\n",
       "\t<tr><td>SE</td><td>44950</td><td> 219333.0</td><td>110735.3</td><td>   6155.94074</td></tr>\n",
       "\t<tr><td>SI</td><td>17630</td><td>  17892.6</td><td>  7379.5</td><td>     99.57982</td></tr>\n",
       "\t<tr><td>SK</td><td>13620</td><td>  30276.4</td><td> 13125.9</td><td>   2540.35831</td></tr>\n",
       "\t<tr><td>TR</td><td> 9090</td><td>       NA</td><td>      NA</td><td>           NA</td></tr>\n",
       "\t<tr><td>UK</td><td>33140</td><td>       NA</td><td>      NA</td><td>-173553.72211</td></tr>\n",
       "</tbody>\n",
       "</table>\n"
      ],
      "text/latex": [
       "A data.frame: 36 × 5\n",
       "\\begin{tabular}{lllll}\n",
       " geo & GDP & spending & consumption & netexport\\\\\n",
       " <chr> & <dbl> & <dbl> & <dbl> & <dbl>\\\\\n",
       "\\hline\n",
       "\t AL &  3300 &        NA &       NA &            NA\\\\\n",
       "\t AT & 37820 &  163191.9 &  63286.7 &   -9263.88850\\\\\n",
       "\t BE & 34770 &  218102.1 &  93853.4 &    5301.09722\\\\\n",
       "\t BG &  5780 &   14476.0 &   6672.6 &   -4689.01172\\\\\n",
       "\t CH & 66780 &  174563.9 &  60423.2 &            NA\\\\\n",
       "\t CY & 22570 &    8205.4 &   3657.6 &   -4324.36607\\\\\n",
       "\t CZ & 15470 &   72636.1 &  31627.4 &   12164.45475\\\\\n",
       "\t DE & 34130 & 1233138.0 & 529210.0 &  191672.38388\\\\\n",
       "\t DK & 45530 &  147540.5 &  67390.5 &   11882.66482\\\\\n",
       "\t EE & 13520 &    7031.5 &   3260.0 &   -1555.87838\\\\\n",
       "\t EL & 17060 &  107688.0 &  42009.0 &            NA\\\\\n",
       "\t ES & 22050 &  510092.0 & 205987.0 &  -32758.76852\\\\\n",
       "\t FI & 37130 &  111456.0 &  48444.0 &   -2639.24589\\\\\n",
       "\t FR & 31820 & 1208938.4 & 505817.9 &  -82274.90846\\\\\n",
       "\t HR & 10480 &   21061.1 &  10195.9 &   -6585.74531\\\\\n",
       "\t HU & 10110 &   49237.5 &  20005.4 &    6533.29601\\\\\n",
       "\t IE & 38110 &   74665.9 &  31958.7 &   37616.93667\\\\\n",
       "\t IS & 36500 &    5479.6 &   2842.0 &            NA\\\\\n",
       "\t IT & 26990 &  821764.0 & 321754.0 &    9889.61100\\\\\n",
       "\t LT & 11180 &   12088.5 &   5831.7 &   -1831.64068\\\\\n",
       "\t LU & 87540 &   19453.8 &   7590.3 &   -6569.58234\\\\\n",
       "\t LV & 10870 &    8576.3 &   3826.2 &   -2425.26898\\\\\n",
       "\t ME &  5130 &        NA &       NA &            NA\\\\\n",
       "\t MK &  3930 &        NA &       NA &            NA\\\\\n",
       "\t MT & 17540 &    3103.8 &   1451.6 &   -1827.08590\\\\\n",
       "\t NL & 38970 &  307043.0 & 169945.0 &   53274.41033\\\\\n",
       "\t NO & 79510 &  171737.9 &  82155.0 &            NA\\\\\n",
       "\t PL & 10000 &  167380.7 &  69847.3 &  -10651.73480\\\\\n",
       "\t PT & 16010 &   82277.8 &  30857.8 &  -11161.06726\\\\\n",
       "\t RO &  6950 &   50377.7 &  19193.7 &   -9624.69796\\\\\n",
       "\t RS &  4680 &        NA &       NA &            NA\\\\\n",
       "\t SE & 44950 &  219333.0 & 110735.3 &    6155.94074\\\\\n",
       "\t SI & 17630 &   17892.6 &   7379.5 &      99.57982\\\\\n",
       "\t SK & 13620 &   30276.4 &  13125.9 &    2540.35831\\\\\n",
       "\t TR &  9090 &        NA &       NA &            NA\\\\\n",
       "\t UK & 33140 &        NA &       NA & -173553.72211\\\\\n",
       "\\end{tabular}\n"
      ],
      "text/markdown": [
       "\n",
       "A data.frame: 36 × 5\n",
       "\n",
       "| geo &lt;chr&gt; | GDP &lt;dbl&gt; | spending &lt;dbl&gt; | consumption &lt;dbl&gt; | netexport &lt;dbl&gt; |\n",
       "|---|---|---|---|---|\n",
       "| AL |  3300 |        NA |       NA |            NA |\n",
       "| AT | 37820 |  163191.9 |  63286.7 |   -9263.88850 |\n",
       "| BE | 34770 |  218102.1 |  93853.4 |    5301.09722 |\n",
       "| BG |  5780 |   14476.0 |   6672.6 |   -4689.01172 |\n",
       "| CH | 66780 |  174563.9 |  60423.2 |            NA |\n",
       "| CY | 22570 |    8205.4 |   3657.6 |   -4324.36607 |\n",
       "| CZ | 15470 |   72636.1 |  31627.4 |   12164.45475 |\n",
       "| DE | 34130 | 1233138.0 | 529210.0 |  191672.38388 |\n",
       "| DK | 45530 |  147540.5 |  67390.5 |   11882.66482 |\n",
       "| EE | 13520 |    7031.5 |   3260.0 |   -1555.87838 |\n",
       "| EL | 17060 |  107688.0 |  42009.0 |            NA |\n",
       "| ES | 22050 |  510092.0 | 205987.0 |  -32758.76852 |\n",
       "| FI | 37130 |  111456.0 |  48444.0 |   -2639.24589 |\n",
       "| FR | 31820 | 1208938.4 | 505817.9 |  -82274.90846 |\n",
       "| HR | 10480 |   21061.1 |  10195.9 |   -6585.74531 |\n",
       "| HU | 10110 |   49237.5 |  20005.4 |    6533.29601 |\n",
       "| IE | 38110 |   74665.9 |  31958.7 |   37616.93667 |\n",
       "| IS | 36500 |    5479.6 |   2842.0 |            NA |\n",
       "| IT | 26990 |  821764.0 | 321754.0 |    9889.61100 |\n",
       "| LT | 11180 |   12088.5 |   5831.7 |   -1831.64068 |\n",
       "| LU | 87540 |   19453.8 |   7590.3 |   -6569.58234 |\n",
       "| LV | 10870 |    8576.3 |   3826.2 |   -2425.26898 |\n",
       "| ME |  5130 |        NA |       NA |            NA |\n",
       "| MK |  3930 |        NA |       NA |            NA |\n",
       "| MT | 17540 |    3103.8 |   1451.6 |   -1827.08590 |\n",
       "| NL | 38970 |  307043.0 | 169945.0 |   53274.41033 |\n",
       "| NO | 79510 |  171737.9 |  82155.0 |            NA |\n",
       "| PL | 10000 |  167380.7 |  69847.3 |  -10651.73480 |\n",
       "| PT | 16010 |   82277.8 |  30857.8 |  -11161.06726 |\n",
       "| RO |  6950 |   50377.7 |  19193.7 |   -9624.69796 |\n",
       "| RS |  4680 |        NA |       NA |            NA |\n",
       "| SE | 44950 |  219333.0 | 110735.3 |    6155.94074 |\n",
       "| SI | 17630 |   17892.6 |   7379.5 |      99.57982 |\n",
       "| SK | 13620 |   30276.4 |  13125.9 |    2540.35831 |\n",
       "| TR |  9090 |        NA |       NA |            NA |\n",
       "| UK | 33140 |        NA |       NA | -173553.72211 |\n",
       "\n"
      ],
      "text/plain": [
       "   geo GDP   spending  consumption netexport    \n",
       "1  AL   3300        NA       NA               NA\n",
       "2  AT  37820  163191.9  63286.7      -9263.88850\n",
       "3  BE  34770  218102.1  93853.4       5301.09722\n",
       "4  BG   5780   14476.0   6672.6      -4689.01172\n",
       "5  CH  66780  174563.9  60423.2               NA\n",
       "6  CY  22570    8205.4   3657.6      -4324.36607\n",
       "7  CZ  15470   72636.1  31627.4      12164.45475\n",
       "8  DE  34130 1233138.0 529210.0     191672.38388\n",
       "9  DK  45530  147540.5  67390.5      11882.66482\n",
       "10 EE  13520    7031.5   3260.0      -1555.87838\n",
       "11 EL  17060  107688.0  42009.0               NA\n",
       "12 ES  22050  510092.0 205987.0     -32758.76852\n",
       "13 FI  37130  111456.0  48444.0      -2639.24589\n",
       "14 FR  31820 1208938.4 505817.9     -82274.90846\n",
       "15 HR  10480   21061.1  10195.9      -6585.74531\n",
       "16 HU  10110   49237.5  20005.4       6533.29601\n",
       "17 IE  38110   74665.9  31958.7      37616.93667\n",
       "18 IS  36500    5479.6   2842.0               NA\n",
       "19 IT  26990  821764.0 321754.0       9889.61100\n",
       "20 LT  11180   12088.5   5831.7      -1831.64068\n",
       "21 LU  87540   19453.8   7590.3      -6569.58234\n",
       "22 LV  10870    8576.3   3826.2      -2425.26898\n",
       "23 ME   5130        NA       NA               NA\n",
       "24 MK   3930        NA       NA               NA\n",
       "25 MT  17540    3103.8   1451.6      -1827.08590\n",
       "26 NL  38970  307043.0 169945.0      53274.41033\n",
       "27 NO  79510  171737.9  82155.0               NA\n",
       "28 PL  10000  167380.7  69847.3     -10651.73480\n",
       "29 PT  16010   82277.8  30857.8     -11161.06726\n",
       "30 RO   6950   50377.7  19193.7      -9624.69796\n",
       "31 RS   4680        NA       NA               NA\n",
       "32 SE  44950  219333.0 110735.3       6155.94074\n",
       "33 SI  17630   17892.6   7379.5         99.57982\n",
       "34 SK  13620   30276.4  13125.9       2540.35831\n",
       "35 TR   9090        NA       NA               NA\n",
       "36 UK  33140        NA       NA    -173553.72211"
      ]
     },
     "metadata": {},
     "output_type": "display_data"
    }
   ],
   "source": [
    "merged_data <- merge(merged_data, netexport, by = \"geo\", all.x = TRUE)\n",
    "merged_data"
   ]
  },
  {
   "cell_type": "code",
   "execution_count": 24,
   "id": "21940949-5ce3-4be8-870d-621a4e20b296",
   "metadata": {},
   "outputs": [],
   "source": [
    "merged_data[1,\"spending\"] <- 2684.019 # albania https://ndiqparate.al/?p=9276&lang=en\n",
    "merged_data[23,\"spending\"]<- 2963.1 # montenegro https://nso.gov.mt/wp-content/uploads/News2014_019.pdf\n",
    "merged_data[24,\"spending\"]<- 2770 # macedonia source chat gpt, nenasel jsem nikde jinde\n",
    "merged_data[31, \"spending\"] <-6127.12 # serbia https://tradingeconomics.com/serbia/government-spending\n",
    "merged_data[35, \"spending\"] <- 16960.78 # turkey https://tradingeconomics.com/turkey/government-spending\n",
    "merged_data[36, \"spending\"] <- 814962 # uk https://assets.publishing.service.gov.uk/media/5a7ad0afed915d71db8b2aa7/National_statistics_release_October_2012.pdf\n",
    "\n",
    "merged_data[1,\"consumption\"] <- 7470 #https://www.macrotrends.net/global-metrics/countries/ALB/albania/consumer-spending\n",
    "merged_data[23,\"consumption\"] <- 2630 # https://www.macrotrends.net/global-metrics/countries/MNE/montenegro/consumer-spending\n",
    "merged_data[24, \"consumption\"] <- 5601.52 # https://www.macrotrends.net/global-metrics/countries/MKD/north-macedonia/consumer-spending\n",
    "merged_data[31, \"consumption\"] <- 25436.381 # https://www.macrotrends.net/global-metrics/countries/SRB/serbia/consumer-spending\n",
    "merged_data[35, \"consumption\"] <- 424018 # https://www.macrotrends.net/global-metrics/countries/TUR/turkey/consumer-spending\n",
    "merged_data[36, \"consumption\"] <- 143604 # https://www.ons.gov.uk/economy/nationalaccounts/satelliteaccounts/timeseries/abjr/pn2\n",
    "\n",
    "merged_data[1,\"netexport\"] <- -2265.7 #https://wits.worldbank.org/CountryProfile/en/Country/ALB/Year/2012/Summary\n",
    "merged_data[5,\"netexport\"] <- 13383.8 #https://wits.worldbank.org/CountryProfile/en/Country/CHE/Year/2012/Summarytext\n",
    "merged_data[11, \"netexport\"] <- -27353 #https://wits.worldbank.org/CountryProfile/en/Country/GRC/Year/2012/Summarytext\n",
    "merged_data[18, \"netexport\"] <- 291 #https://www.macrotrends.net/global-metrics/countries/ISL/iceland/exports\n",
    "merged_data[23,\"netexport\"] <- -1452.21 # https://wits.worldbank.org/CountryProfile/en/Country/MNT/Year/2012/Summarytext\n",
    "merged_data[24, \"netexport\"] <- -896 # https://webgate.ec.europa.eu/isdb_results/factsheets/country/details_north-macedonia_en.pdf\n",
    "merged_data[27, \"netexport\"] <- 57302.18 #https://wits.worldbank.org/CountryProfile/en/Country/NOR/Year/2012/Summarytext\n",
    "merged_data[31, \"netexport\"] <- 12070 #https://www.macrotrends.net/global-metrics/countries/SRB/serbia/exports\n",
    "merged_data[35, \"netexport\"] <- 166840 #https://www.macrotrends.net/global-metrics/countries/TUR/turkey/exports"
   ]
  },
  {
   "cell_type": "code",
   "execution_count": 25,
   "id": "63f126f6-b370-46ef-9144-d87019c8934c",
   "metadata": {},
   "outputs": [
    {
     "data": {
      "text/html": [
       "<table class=\"dataframe\">\n",
       "<caption>A data.frame: 36 × 5</caption>\n",
       "<thead>\n",
       "\t<tr><th scope=col>geo</th><th scope=col>GDP</th><th scope=col>spending</th><th scope=col>consumption</th><th scope=col>netexport</th></tr>\n",
       "\t<tr><th scope=col>&lt;chr&gt;</th><th scope=col>&lt;dbl&gt;</th><th scope=col>&lt;dbl&gt;</th><th scope=col>&lt;dbl&gt;</th><th scope=col>&lt;dbl&gt;</th></tr>\n",
       "</thead>\n",
       "<tbody>\n",
       "\t<tr><td>AL</td><td> 3300</td><td>   2684.019</td><td>  7470.00</td><td>  -2265.70000</td></tr>\n",
       "\t<tr><td>AT</td><td>37820</td><td> 163191.900</td><td> 63286.70</td><td>  -9263.88850</td></tr>\n",
       "\t<tr><td>BE</td><td>34770</td><td> 218102.100</td><td> 93853.40</td><td>   5301.09722</td></tr>\n",
       "\t<tr><td>BG</td><td> 5780</td><td>  14476.000</td><td>  6672.60</td><td>  -4689.01172</td></tr>\n",
       "\t<tr><td>CH</td><td>66780</td><td> 174563.900</td><td> 60423.20</td><td>  13383.80000</td></tr>\n",
       "\t<tr><td>CY</td><td>22570</td><td>   8205.400</td><td>  3657.60</td><td>  -4324.36607</td></tr>\n",
       "\t<tr><td>CZ</td><td>15470</td><td>  72636.100</td><td> 31627.40</td><td>  12164.45475</td></tr>\n",
       "\t<tr><td>DE</td><td>34130</td><td>1233138.000</td><td>529210.00</td><td> 191672.38388</td></tr>\n",
       "\t<tr><td>DK</td><td>45530</td><td> 147540.500</td><td> 67390.50</td><td>  11882.66482</td></tr>\n",
       "\t<tr><td>EE</td><td>13520</td><td>   7031.500</td><td>  3260.00</td><td>  -1555.87838</td></tr>\n",
       "\t<tr><td>EL</td><td>17060</td><td> 107688.000</td><td> 42009.00</td><td> -27353.00000</td></tr>\n",
       "\t<tr><td>ES</td><td>22050</td><td> 510092.000</td><td>205987.00</td><td> -32758.76852</td></tr>\n",
       "\t<tr><td>FI</td><td>37130</td><td> 111456.000</td><td> 48444.00</td><td>  -2639.24589</td></tr>\n",
       "\t<tr><td>FR</td><td>31820</td><td>1208938.400</td><td>505817.90</td><td> -82274.90846</td></tr>\n",
       "\t<tr><td>HR</td><td>10480</td><td>  21061.100</td><td> 10195.90</td><td>  -6585.74531</td></tr>\n",
       "\t<tr><td>HU</td><td>10110</td><td>  49237.500</td><td> 20005.40</td><td>   6533.29601</td></tr>\n",
       "\t<tr><td>IE</td><td>38110</td><td>  74665.900</td><td> 31958.70</td><td>  37616.93667</td></tr>\n",
       "\t<tr><td>IS</td><td>36500</td><td>   5479.600</td><td>  2842.00</td><td>    291.00000</td></tr>\n",
       "\t<tr><td>IT</td><td>26990</td><td> 821764.000</td><td>321754.00</td><td>   9889.61100</td></tr>\n",
       "\t<tr><td>LT</td><td>11180</td><td>  12088.500</td><td>  5831.70</td><td>  -1831.64068</td></tr>\n",
       "\t<tr><td>LU</td><td>87540</td><td>  19453.800</td><td>  7590.30</td><td>  -6569.58234</td></tr>\n",
       "\t<tr><td>LV</td><td>10870</td><td>   8576.300</td><td>  3826.20</td><td>  -2425.26898</td></tr>\n",
       "\t<tr><td>ME</td><td> 5130</td><td>   2963.100</td><td>  2630.00</td><td>  -1452.21000</td></tr>\n",
       "\t<tr><td>MK</td><td> 3930</td><td>   2770.000</td><td>  5601.52</td><td>   -896.00000</td></tr>\n",
       "\t<tr><td>MT</td><td>17540</td><td>   3103.800</td><td>  1451.60</td><td>  -1827.08590</td></tr>\n",
       "\t<tr><td>NL</td><td>38970</td><td> 307043.000</td><td>169945.00</td><td>  53274.41033</td></tr>\n",
       "\t<tr><td>NO</td><td>79510</td><td> 171737.900</td><td> 82155.00</td><td>  57302.18000</td></tr>\n",
       "\t<tr><td>PL</td><td>10000</td><td> 167380.700</td><td> 69847.30</td><td> -10651.73480</td></tr>\n",
       "\t<tr><td>PT</td><td>16010</td><td>  82277.800</td><td> 30857.80</td><td> -11161.06726</td></tr>\n",
       "\t<tr><td>RO</td><td> 6950</td><td>  50377.700</td><td> 19193.70</td><td>  -9624.69796</td></tr>\n",
       "\t<tr><td>RS</td><td> 4680</td><td>   6127.120</td><td> 25436.38</td><td>  12070.00000</td></tr>\n",
       "\t<tr><td>SE</td><td>44950</td><td> 219333.000</td><td>110735.30</td><td>   6155.94074</td></tr>\n",
       "\t<tr><td>SI</td><td>17630</td><td>  17892.600</td><td>  7379.50</td><td>     99.57982</td></tr>\n",
       "\t<tr><td>SK</td><td>13620</td><td>  30276.400</td><td> 13125.90</td><td>   2540.35831</td></tr>\n",
       "\t<tr><td>TR</td><td> 9090</td><td>  16960.780</td><td>424018.00</td><td> 166840.00000</td></tr>\n",
       "\t<tr><td>UK</td><td>33140</td><td> 814962.000</td><td>143604.00</td><td>-173553.72211</td></tr>\n",
       "</tbody>\n",
       "</table>\n"
      ],
      "text/latex": [
       "A data.frame: 36 × 5\n",
       "\\begin{tabular}{lllll}\n",
       " geo & GDP & spending & consumption & netexport\\\\\n",
       " <chr> & <dbl> & <dbl> & <dbl> & <dbl>\\\\\n",
       "\\hline\n",
       "\t AL &  3300 &    2684.019 &   7470.00 &   -2265.70000\\\\\n",
       "\t AT & 37820 &  163191.900 &  63286.70 &   -9263.88850\\\\\n",
       "\t BE & 34770 &  218102.100 &  93853.40 &    5301.09722\\\\\n",
       "\t BG &  5780 &   14476.000 &   6672.60 &   -4689.01172\\\\\n",
       "\t CH & 66780 &  174563.900 &  60423.20 &   13383.80000\\\\\n",
       "\t CY & 22570 &    8205.400 &   3657.60 &   -4324.36607\\\\\n",
       "\t CZ & 15470 &   72636.100 &  31627.40 &   12164.45475\\\\\n",
       "\t DE & 34130 & 1233138.000 & 529210.00 &  191672.38388\\\\\n",
       "\t DK & 45530 &  147540.500 &  67390.50 &   11882.66482\\\\\n",
       "\t EE & 13520 &    7031.500 &   3260.00 &   -1555.87838\\\\\n",
       "\t EL & 17060 &  107688.000 &  42009.00 &  -27353.00000\\\\\n",
       "\t ES & 22050 &  510092.000 & 205987.00 &  -32758.76852\\\\\n",
       "\t FI & 37130 &  111456.000 &  48444.00 &   -2639.24589\\\\\n",
       "\t FR & 31820 & 1208938.400 & 505817.90 &  -82274.90846\\\\\n",
       "\t HR & 10480 &   21061.100 &  10195.90 &   -6585.74531\\\\\n",
       "\t HU & 10110 &   49237.500 &  20005.40 &    6533.29601\\\\\n",
       "\t IE & 38110 &   74665.900 &  31958.70 &   37616.93667\\\\\n",
       "\t IS & 36500 &    5479.600 &   2842.00 &     291.00000\\\\\n",
       "\t IT & 26990 &  821764.000 & 321754.00 &    9889.61100\\\\\n",
       "\t LT & 11180 &   12088.500 &   5831.70 &   -1831.64068\\\\\n",
       "\t LU & 87540 &   19453.800 &   7590.30 &   -6569.58234\\\\\n",
       "\t LV & 10870 &    8576.300 &   3826.20 &   -2425.26898\\\\\n",
       "\t ME &  5130 &    2963.100 &   2630.00 &   -1452.21000\\\\\n",
       "\t MK &  3930 &    2770.000 &   5601.52 &    -896.00000\\\\\n",
       "\t MT & 17540 &    3103.800 &   1451.60 &   -1827.08590\\\\\n",
       "\t NL & 38970 &  307043.000 & 169945.00 &   53274.41033\\\\\n",
       "\t NO & 79510 &  171737.900 &  82155.00 &   57302.18000\\\\\n",
       "\t PL & 10000 &  167380.700 &  69847.30 &  -10651.73480\\\\\n",
       "\t PT & 16010 &   82277.800 &  30857.80 &  -11161.06726\\\\\n",
       "\t RO &  6950 &   50377.700 &  19193.70 &   -9624.69796\\\\\n",
       "\t RS &  4680 &    6127.120 &  25436.38 &   12070.00000\\\\\n",
       "\t SE & 44950 &  219333.000 & 110735.30 &    6155.94074\\\\\n",
       "\t SI & 17630 &   17892.600 &   7379.50 &      99.57982\\\\\n",
       "\t SK & 13620 &   30276.400 &  13125.90 &    2540.35831\\\\\n",
       "\t TR &  9090 &   16960.780 & 424018.00 &  166840.00000\\\\\n",
       "\t UK & 33140 &  814962.000 & 143604.00 & -173553.72211\\\\\n",
       "\\end{tabular}\n"
      ],
      "text/markdown": [
       "\n",
       "A data.frame: 36 × 5\n",
       "\n",
       "| geo &lt;chr&gt; | GDP &lt;dbl&gt; | spending &lt;dbl&gt; | consumption &lt;dbl&gt; | netexport &lt;dbl&gt; |\n",
       "|---|---|---|---|---|\n",
       "| AL |  3300 |    2684.019 |   7470.00 |   -2265.70000 |\n",
       "| AT | 37820 |  163191.900 |  63286.70 |   -9263.88850 |\n",
       "| BE | 34770 |  218102.100 |  93853.40 |    5301.09722 |\n",
       "| BG |  5780 |   14476.000 |   6672.60 |   -4689.01172 |\n",
       "| CH | 66780 |  174563.900 |  60423.20 |   13383.80000 |\n",
       "| CY | 22570 |    8205.400 |   3657.60 |   -4324.36607 |\n",
       "| CZ | 15470 |   72636.100 |  31627.40 |   12164.45475 |\n",
       "| DE | 34130 | 1233138.000 | 529210.00 |  191672.38388 |\n",
       "| DK | 45530 |  147540.500 |  67390.50 |   11882.66482 |\n",
       "| EE | 13520 |    7031.500 |   3260.00 |   -1555.87838 |\n",
       "| EL | 17060 |  107688.000 |  42009.00 |  -27353.00000 |\n",
       "| ES | 22050 |  510092.000 | 205987.00 |  -32758.76852 |\n",
       "| FI | 37130 |  111456.000 |  48444.00 |   -2639.24589 |\n",
       "| FR | 31820 | 1208938.400 | 505817.90 |  -82274.90846 |\n",
       "| HR | 10480 |   21061.100 |  10195.90 |   -6585.74531 |\n",
       "| HU | 10110 |   49237.500 |  20005.40 |    6533.29601 |\n",
       "| IE | 38110 |   74665.900 |  31958.70 |   37616.93667 |\n",
       "| IS | 36500 |    5479.600 |   2842.00 |     291.00000 |\n",
       "| IT | 26990 |  821764.000 | 321754.00 |    9889.61100 |\n",
       "| LT | 11180 |   12088.500 |   5831.70 |   -1831.64068 |\n",
       "| LU | 87540 |   19453.800 |   7590.30 |   -6569.58234 |\n",
       "| LV | 10870 |    8576.300 |   3826.20 |   -2425.26898 |\n",
       "| ME |  5130 |    2963.100 |   2630.00 |   -1452.21000 |\n",
       "| MK |  3930 |    2770.000 |   5601.52 |    -896.00000 |\n",
       "| MT | 17540 |    3103.800 |   1451.60 |   -1827.08590 |\n",
       "| NL | 38970 |  307043.000 | 169945.00 |   53274.41033 |\n",
       "| NO | 79510 |  171737.900 |  82155.00 |   57302.18000 |\n",
       "| PL | 10000 |  167380.700 |  69847.30 |  -10651.73480 |\n",
       "| PT | 16010 |   82277.800 |  30857.80 |  -11161.06726 |\n",
       "| RO |  6950 |   50377.700 |  19193.70 |   -9624.69796 |\n",
       "| RS |  4680 |    6127.120 |  25436.38 |   12070.00000 |\n",
       "| SE | 44950 |  219333.000 | 110735.30 |    6155.94074 |\n",
       "| SI | 17630 |   17892.600 |   7379.50 |      99.57982 |\n",
       "| SK | 13620 |   30276.400 |  13125.90 |    2540.35831 |\n",
       "| TR |  9090 |   16960.780 | 424018.00 |  166840.00000 |\n",
       "| UK | 33140 |  814962.000 | 143604.00 | -173553.72211 |\n",
       "\n"
      ],
      "text/plain": [
       "   geo GDP   spending    consumption netexport    \n",
       "1  AL   3300    2684.019   7470.00     -2265.70000\n",
       "2  AT  37820  163191.900  63286.70     -9263.88850\n",
       "3  BE  34770  218102.100  93853.40      5301.09722\n",
       "4  BG   5780   14476.000   6672.60     -4689.01172\n",
       "5  CH  66780  174563.900  60423.20     13383.80000\n",
       "6  CY  22570    8205.400   3657.60     -4324.36607\n",
       "7  CZ  15470   72636.100  31627.40     12164.45475\n",
       "8  DE  34130 1233138.000 529210.00    191672.38388\n",
       "9  DK  45530  147540.500  67390.50     11882.66482\n",
       "10 EE  13520    7031.500   3260.00     -1555.87838\n",
       "11 EL  17060  107688.000  42009.00    -27353.00000\n",
       "12 ES  22050  510092.000 205987.00    -32758.76852\n",
       "13 FI  37130  111456.000  48444.00     -2639.24589\n",
       "14 FR  31820 1208938.400 505817.90    -82274.90846\n",
       "15 HR  10480   21061.100  10195.90     -6585.74531\n",
       "16 HU  10110   49237.500  20005.40      6533.29601\n",
       "17 IE  38110   74665.900  31958.70     37616.93667\n",
       "18 IS  36500    5479.600   2842.00       291.00000\n",
       "19 IT  26990  821764.000 321754.00      9889.61100\n",
       "20 LT  11180   12088.500   5831.70     -1831.64068\n",
       "21 LU  87540   19453.800   7590.30     -6569.58234\n",
       "22 LV  10870    8576.300   3826.20     -2425.26898\n",
       "23 ME   5130    2963.100   2630.00     -1452.21000\n",
       "24 MK   3930    2770.000   5601.52      -896.00000\n",
       "25 MT  17540    3103.800   1451.60     -1827.08590\n",
       "26 NL  38970  307043.000 169945.00     53274.41033\n",
       "27 NO  79510  171737.900  82155.00     57302.18000\n",
       "28 PL  10000  167380.700  69847.30    -10651.73480\n",
       "29 PT  16010   82277.800  30857.80    -11161.06726\n",
       "30 RO   6950   50377.700  19193.70     -9624.69796\n",
       "31 RS   4680    6127.120  25436.38     12070.00000\n",
       "32 SE  44950  219333.000 110735.30      6155.94074\n",
       "33 SI  17630   17892.600   7379.50        99.57982\n",
       "34 SK  13620   30276.400  13125.90      2540.35831\n",
       "35 TR   9090   16960.780 424018.00    166840.00000\n",
       "36 UK  33140  814962.000 143604.00   -173553.72211"
      ]
     },
     "metadata": {},
     "output_type": "display_data"
    }
   ],
   "source": [
    "merged_data"
   ]
  },
  {
   "cell_type": "markdown",
   "id": "0cdf7613-ee27-4be5-8ddb-532f251a34bb",
   "metadata": {},
   "source": [
    "### Kategorický příznak"
   ]
  },
  {
   "cell_type": "code",
   "execution_count": 26,
   "id": "931f54b4-0af0-4af7-a866-e49cf1825845",
   "metadata": {},
   "outputs": [],
   "source": [
    "countries <- c(\"AL\", \"AT\", \"BE\", \"BG\", \"CH\", \"CY\", \"CZ\", \"DE\", \"DK\", \"EE\", \"EL\", \n",
    "               \"ES\", \"FI\", \"FR\", \"HR\", \"HU\", \"IE\", \"IS\", \"IT\", \"LT\", \"LU\", \"LV\", \n",
    "               \"ME\", \"MK\", \"MT\", \"NL\", \"NO\", \"PL\", \"PT\", \"RO\", \"RS\", \"SE\", \"SI\", \n",
    "               \"SK\", \"TR\", \"UK\")"
   ]
  },
  {
   "cell_type": "code",
   "execution_count": 27,
   "id": "b0a68a6c-94f2-497e-92d5-295144a1dcf6",
   "metadata": {},
   "outputs": [],
   "source": [
    "uses_euro <- function(country_code) {\n",
    "  euro_countries <- c(\"AT\", \"BE\", \"CY\", \"EE\", \"FI\", \"FR\", \"DE\", \"GR\", \"IE\", \n",
    "                      \"IT\", \"LV\", \"LT\", \"LU\", \"MT\", \"NL\", \"PT\", \"SK\", \"SI\", \n",
    "                      \"ES\", \"ME\")\n",
    "  if (country_code %in% euro_countries) {\n",
    "    return(\"Yes\")\n",
    "  } else {\n",
    "    return(\"No\")\n",
    "  }\n",
    "}\n",
    "euro_usage <- sapply(countries, uses_euro)\n",
    "euro_data <- data.frame(geo = countries, Euro_Usage = euro_usage)"
   ]
  },
  {
   "cell_type": "markdown",
   "id": "91040971-1367-4c64-9330-6dd8111b0211",
   "metadata": {},
   "source": [
    "Nyní máme 4 regresory a můžeme přístoupit k dalším částem"
   ]
  },
  {
   "cell_type": "code",
   "execution_count": 28,
   "id": "a49fff42-230c-4947-b9ad-935e9823df0c",
   "metadata": {},
   "outputs": [
    {
     "data": {
      "text/html": [
       "<table class=\"dataframe\">\n",
       "<caption>A data.frame: 36 × 6</caption>\n",
       "<thead>\n",
       "\t<tr><th scope=col>geo</th><th scope=col>GDP</th><th scope=col>spending</th><th scope=col>consumption</th><th scope=col>netexport</th><th scope=col>Euro_Usage</th></tr>\n",
       "\t<tr><th scope=col>&lt;chr&gt;</th><th scope=col>&lt;dbl&gt;</th><th scope=col>&lt;dbl&gt;</th><th scope=col>&lt;dbl&gt;</th><th scope=col>&lt;dbl&gt;</th><th scope=col>&lt;chr&gt;</th></tr>\n",
       "</thead>\n",
       "<tbody>\n",
       "\t<tr><td>AL</td><td> 3300</td><td>   2684.019</td><td>  7470.00</td><td>  -2265.70000</td><td>No </td></tr>\n",
       "\t<tr><td>AT</td><td>37820</td><td> 163191.900</td><td> 63286.70</td><td>  -9263.88850</td><td>Yes</td></tr>\n",
       "\t<tr><td>BE</td><td>34770</td><td> 218102.100</td><td> 93853.40</td><td>   5301.09722</td><td>Yes</td></tr>\n",
       "\t<tr><td>BG</td><td> 5780</td><td>  14476.000</td><td>  6672.60</td><td>  -4689.01172</td><td>No </td></tr>\n",
       "\t<tr><td>CH</td><td>66780</td><td> 174563.900</td><td> 60423.20</td><td>  13383.80000</td><td>No </td></tr>\n",
       "\t<tr><td>CY</td><td>22570</td><td>   8205.400</td><td>  3657.60</td><td>  -4324.36607</td><td>Yes</td></tr>\n",
       "\t<tr><td>CZ</td><td>15470</td><td>  72636.100</td><td> 31627.40</td><td>  12164.45475</td><td>No </td></tr>\n",
       "\t<tr><td>DE</td><td>34130</td><td>1233138.000</td><td>529210.00</td><td> 191672.38388</td><td>Yes</td></tr>\n",
       "\t<tr><td>DK</td><td>45530</td><td> 147540.500</td><td> 67390.50</td><td>  11882.66482</td><td>No </td></tr>\n",
       "\t<tr><td>EE</td><td>13520</td><td>   7031.500</td><td>  3260.00</td><td>  -1555.87838</td><td>Yes</td></tr>\n",
       "\t<tr><td>EL</td><td>17060</td><td> 107688.000</td><td> 42009.00</td><td> -27353.00000</td><td>No </td></tr>\n",
       "\t<tr><td>ES</td><td>22050</td><td> 510092.000</td><td>205987.00</td><td> -32758.76852</td><td>Yes</td></tr>\n",
       "\t<tr><td>FI</td><td>37130</td><td> 111456.000</td><td> 48444.00</td><td>  -2639.24589</td><td>Yes</td></tr>\n",
       "\t<tr><td>FR</td><td>31820</td><td>1208938.400</td><td>505817.90</td><td> -82274.90846</td><td>Yes</td></tr>\n",
       "\t<tr><td>HR</td><td>10480</td><td>  21061.100</td><td> 10195.90</td><td>  -6585.74531</td><td>No </td></tr>\n",
       "\t<tr><td>HU</td><td>10110</td><td>  49237.500</td><td> 20005.40</td><td>   6533.29601</td><td>No </td></tr>\n",
       "\t<tr><td>IE</td><td>38110</td><td>  74665.900</td><td> 31958.70</td><td>  37616.93667</td><td>Yes</td></tr>\n",
       "\t<tr><td>IS</td><td>36500</td><td>   5479.600</td><td>  2842.00</td><td>    291.00000</td><td>No </td></tr>\n",
       "\t<tr><td>IT</td><td>26990</td><td> 821764.000</td><td>321754.00</td><td>   9889.61100</td><td>Yes</td></tr>\n",
       "\t<tr><td>LT</td><td>11180</td><td>  12088.500</td><td>  5831.70</td><td>  -1831.64068</td><td>Yes</td></tr>\n",
       "\t<tr><td>LU</td><td>87540</td><td>  19453.800</td><td>  7590.30</td><td>  -6569.58234</td><td>Yes</td></tr>\n",
       "\t<tr><td>LV</td><td>10870</td><td>   8576.300</td><td>  3826.20</td><td>  -2425.26898</td><td>Yes</td></tr>\n",
       "\t<tr><td>ME</td><td> 5130</td><td>   2963.100</td><td>  2630.00</td><td>  -1452.21000</td><td>Yes</td></tr>\n",
       "\t<tr><td>MK</td><td> 3930</td><td>   2770.000</td><td>  5601.52</td><td>   -896.00000</td><td>No </td></tr>\n",
       "\t<tr><td>MT</td><td>17540</td><td>   3103.800</td><td>  1451.60</td><td>  -1827.08590</td><td>Yes</td></tr>\n",
       "\t<tr><td>NL</td><td>38970</td><td> 307043.000</td><td>169945.00</td><td>  53274.41033</td><td>Yes</td></tr>\n",
       "\t<tr><td>NO</td><td>79510</td><td> 171737.900</td><td> 82155.00</td><td>  57302.18000</td><td>No </td></tr>\n",
       "\t<tr><td>PL</td><td>10000</td><td> 167380.700</td><td> 69847.30</td><td> -10651.73480</td><td>No </td></tr>\n",
       "\t<tr><td>PT</td><td>16010</td><td>  82277.800</td><td> 30857.80</td><td> -11161.06726</td><td>Yes</td></tr>\n",
       "\t<tr><td>RO</td><td> 6950</td><td>  50377.700</td><td> 19193.70</td><td>  -9624.69796</td><td>No </td></tr>\n",
       "\t<tr><td>RS</td><td> 4680</td><td>   6127.120</td><td> 25436.38</td><td>  12070.00000</td><td>No </td></tr>\n",
       "\t<tr><td>SE</td><td>44950</td><td> 219333.000</td><td>110735.30</td><td>   6155.94074</td><td>No </td></tr>\n",
       "\t<tr><td>SI</td><td>17630</td><td>  17892.600</td><td>  7379.50</td><td>     99.57982</td><td>Yes</td></tr>\n",
       "\t<tr><td>SK</td><td>13620</td><td>  30276.400</td><td> 13125.90</td><td>   2540.35831</td><td>Yes</td></tr>\n",
       "\t<tr><td>TR</td><td> 9090</td><td>  16960.780</td><td>424018.00</td><td> 166840.00000</td><td>No </td></tr>\n",
       "\t<tr><td>UK</td><td>33140</td><td> 814962.000</td><td>143604.00</td><td>-173553.72211</td><td>No </td></tr>\n",
       "</tbody>\n",
       "</table>\n"
      ],
      "text/latex": [
       "A data.frame: 36 × 6\n",
       "\\begin{tabular}{llllll}\n",
       " geo & GDP & spending & consumption & netexport & Euro\\_Usage\\\\\n",
       " <chr> & <dbl> & <dbl> & <dbl> & <dbl> & <chr>\\\\\n",
       "\\hline\n",
       "\t AL &  3300 &    2684.019 &   7470.00 &   -2265.70000 & No \\\\\n",
       "\t AT & 37820 &  163191.900 &  63286.70 &   -9263.88850 & Yes\\\\\n",
       "\t BE & 34770 &  218102.100 &  93853.40 &    5301.09722 & Yes\\\\\n",
       "\t BG &  5780 &   14476.000 &   6672.60 &   -4689.01172 & No \\\\\n",
       "\t CH & 66780 &  174563.900 &  60423.20 &   13383.80000 & No \\\\\n",
       "\t CY & 22570 &    8205.400 &   3657.60 &   -4324.36607 & Yes\\\\\n",
       "\t CZ & 15470 &   72636.100 &  31627.40 &   12164.45475 & No \\\\\n",
       "\t DE & 34130 & 1233138.000 & 529210.00 &  191672.38388 & Yes\\\\\n",
       "\t DK & 45530 &  147540.500 &  67390.50 &   11882.66482 & No \\\\\n",
       "\t EE & 13520 &    7031.500 &   3260.00 &   -1555.87838 & Yes\\\\\n",
       "\t EL & 17060 &  107688.000 &  42009.00 &  -27353.00000 & No \\\\\n",
       "\t ES & 22050 &  510092.000 & 205987.00 &  -32758.76852 & Yes\\\\\n",
       "\t FI & 37130 &  111456.000 &  48444.00 &   -2639.24589 & Yes\\\\\n",
       "\t FR & 31820 & 1208938.400 & 505817.90 &  -82274.90846 & Yes\\\\\n",
       "\t HR & 10480 &   21061.100 &  10195.90 &   -6585.74531 & No \\\\\n",
       "\t HU & 10110 &   49237.500 &  20005.40 &    6533.29601 & No \\\\\n",
       "\t IE & 38110 &   74665.900 &  31958.70 &   37616.93667 & Yes\\\\\n",
       "\t IS & 36500 &    5479.600 &   2842.00 &     291.00000 & No \\\\\n",
       "\t IT & 26990 &  821764.000 & 321754.00 &    9889.61100 & Yes\\\\\n",
       "\t LT & 11180 &   12088.500 &   5831.70 &   -1831.64068 & Yes\\\\\n",
       "\t LU & 87540 &   19453.800 &   7590.30 &   -6569.58234 & Yes\\\\\n",
       "\t LV & 10870 &    8576.300 &   3826.20 &   -2425.26898 & Yes\\\\\n",
       "\t ME &  5130 &    2963.100 &   2630.00 &   -1452.21000 & Yes\\\\\n",
       "\t MK &  3930 &    2770.000 &   5601.52 &    -896.00000 & No \\\\\n",
       "\t MT & 17540 &    3103.800 &   1451.60 &   -1827.08590 & Yes\\\\\n",
       "\t NL & 38970 &  307043.000 & 169945.00 &   53274.41033 & Yes\\\\\n",
       "\t NO & 79510 &  171737.900 &  82155.00 &   57302.18000 & No \\\\\n",
       "\t PL & 10000 &  167380.700 &  69847.30 &  -10651.73480 & No \\\\\n",
       "\t PT & 16010 &   82277.800 &  30857.80 &  -11161.06726 & Yes\\\\\n",
       "\t RO &  6950 &   50377.700 &  19193.70 &   -9624.69796 & No \\\\\n",
       "\t RS &  4680 &    6127.120 &  25436.38 &   12070.00000 & No \\\\\n",
       "\t SE & 44950 &  219333.000 & 110735.30 &    6155.94074 & No \\\\\n",
       "\t SI & 17630 &   17892.600 &   7379.50 &      99.57982 & Yes\\\\\n",
       "\t SK & 13620 &   30276.400 &  13125.90 &    2540.35831 & Yes\\\\\n",
       "\t TR &  9090 &   16960.780 & 424018.00 &  166840.00000 & No \\\\\n",
       "\t UK & 33140 &  814962.000 & 143604.00 & -173553.72211 & No \\\\\n",
       "\\end{tabular}\n"
      ],
      "text/markdown": [
       "\n",
       "A data.frame: 36 × 6\n",
       "\n",
       "| geo &lt;chr&gt; | GDP &lt;dbl&gt; | spending &lt;dbl&gt; | consumption &lt;dbl&gt; | netexport &lt;dbl&gt; | Euro_Usage &lt;chr&gt; |\n",
       "|---|---|---|---|---|---|\n",
       "| AL |  3300 |    2684.019 |   7470.00 |   -2265.70000 | No  |\n",
       "| AT | 37820 |  163191.900 |  63286.70 |   -9263.88850 | Yes |\n",
       "| BE | 34770 |  218102.100 |  93853.40 |    5301.09722 | Yes |\n",
       "| BG |  5780 |   14476.000 |   6672.60 |   -4689.01172 | No  |\n",
       "| CH | 66780 |  174563.900 |  60423.20 |   13383.80000 | No  |\n",
       "| CY | 22570 |    8205.400 |   3657.60 |   -4324.36607 | Yes |\n",
       "| CZ | 15470 |   72636.100 |  31627.40 |   12164.45475 | No  |\n",
       "| DE | 34130 | 1233138.000 | 529210.00 |  191672.38388 | Yes |\n",
       "| DK | 45530 |  147540.500 |  67390.50 |   11882.66482 | No  |\n",
       "| EE | 13520 |    7031.500 |   3260.00 |   -1555.87838 | Yes |\n",
       "| EL | 17060 |  107688.000 |  42009.00 |  -27353.00000 | No  |\n",
       "| ES | 22050 |  510092.000 | 205987.00 |  -32758.76852 | Yes |\n",
       "| FI | 37130 |  111456.000 |  48444.00 |   -2639.24589 | Yes |\n",
       "| FR | 31820 | 1208938.400 | 505817.90 |  -82274.90846 | Yes |\n",
       "| HR | 10480 |   21061.100 |  10195.90 |   -6585.74531 | No  |\n",
       "| HU | 10110 |   49237.500 |  20005.40 |    6533.29601 | No  |\n",
       "| IE | 38110 |   74665.900 |  31958.70 |   37616.93667 | Yes |\n",
       "| IS | 36500 |    5479.600 |   2842.00 |     291.00000 | No  |\n",
       "| IT | 26990 |  821764.000 | 321754.00 |    9889.61100 | Yes |\n",
       "| LT | 11180 |   12088.500 |   5831.70 |   -1831.64068 | Yes |\n",
       "| LU | 87540 |   19453.800 |   7590.30 |   -6569.58234 | Yes |\n",
       "| LV | 10870 |    8576.300 |   3826.20 |   -2425.26898 | Yes |\n",
       "| ME |  5130 |    2963.100 |   2630.00 |   -1452.21000 | Yes |\n",
       "| MK |  3930 |    2770.000 |   5601.52 |    -896.00000 | No  |\n",
       "| MT | 17540 |    3103.800 |   1451.60 |   -1827.08590 | Yes |\n",
       "| NL | 38970 |  307043.000 | 169945.00 |   53274.41033 | Yes |\n",
       "| NO | 79510 |  171737.900 |  82155.00 |   57302.18000 | No  |\n",
       "| PL | 10000 |  167380.700 |  69847.30 |  -10651.73480 | No  |\n",
       "| PT | 16010 |   82277.800 |  30857.80 |  -11161.06726 | Yes |\n",
       "| RO |  6950 |   50377.700 |  19193.70 |   -9624.69796 | No  |\n",
       "| RS |  4680 |    6127.120 |  25436.38 |   12070.00000 | No  |\n",
       "| SE | 44950 |  219333.000 | 110735.30 |    6155.94074 | No  |\n",
       "| SI | 17630 |   17892.600 |   7379.50 |      99.57982 | Yes |\n",
       "| SK | 13620 |   30276.400 |  13125.90 |    2540.35831 | Yes |\n",
       "| TR |  9090 |   16960.780 | 424018.00 |  166840.00000 | No  |\n",
       "| UK | 33140 |  814962.000 | 143604.00 | -173553.72211 | No  |\n",
       "\n"
      ],
      "text/plain": [
       "   geo GDP   spending    consumption netexport     Euro_Usage\n",
       "1  AL   3300    2684.019   7470.00     -2265.70000 No        \n",
       "2  AT  37820  163191.900  63286.70     -9263.88850 Yes       \n",
       "3  BE  34770  218102.100  93853.40      5301.09722 Yes       \n",
       "4  BG   5780   14476.000   6672.60     -4689.01172 No        \n",
       "5  CH  66780  174563.900  60423.20     13383.80000 No        \n",
       "6  CY  22570    8205.400   3657.60     -4324.36607 Yes       \n",
       "7  CZ  15470   72636.100  31627.40     12164.45475 No        \n",
       "8  DE  34130 1233138.000 529210.00    191672.38388 Yes       \n",
       "9  DK  45530  147540.500  67390.50     11882.66482 No        \n",
       "10 EE  13520    7031.500   3260.00     -1555.87838 Yes       \n",
       "11 EL  17060  107688.000  42009.00    -27353.00000 No        \n",
       "12 ES  22050  510092.000 205987.00    -32758.76852 Yes       \n",
       "13 FI  37130  111456.000  48444.00     -2639.24589 Yes       \n",
       "14 FR  31820 1208938.400 505817.90    -82274.90846 Yes       \n",
       "15 HR  10480   21061.100  10195.90     -6585.74531 No        \n",
       "16 HU  10110   49237.500  20005.40      6533.29601 No        \n",
       "17 IE  38110   74665.900  31958.70     37616.93667 Yes       \n",
       "18 IS  36500    5479.600   2842.00       291.00000 No        \n",
       "19 IT  26990  821764.000 321754.00      9889.61100 Yes       \n",
       "20 LT  11180   12088.500   5831.70     -1831.64068 Yes       \n",
       "21 LU  87540   19453.800   7590.30     -6569.58234 Yes       \n",
       "22 LV  10870    8576.300   3826.20     -2425.26898 Yes       \n",
       "23 ME   5130    2963.100   2630.00     -1452.21000 Yes       \n",
       "24 MK   3930    2770.000   5601.52      -896.00000 No        \n",
       "25 MT  17540    3103.800   1451.60     -1827.08590 Yes       \n",
       "26 NL  38970  307043.000 169945.00     53274.41033 Yes       \n",
       "27 NO  79510  171737.900  82155.00     57302.18000 No        \n",
       "28 PL  10000  167380.700  69847.30    -10651.73480 No        \n",
       "29 PT  16010   82277.800  30857.80    -11161.06726 Yes       \n",
       "30 RO   6950   50377.700  19193.70     -9624.69796 No        \n",
       "31 RS   4680    6127.120  25436.38     12070.00000 No        \n",
       "32 SE  44950  219333.000 110735.30      6155.94074 No        \n",
       "33 SI  17630   17892.600   7379.50        99.57982 Yes       \n",
       "34 SK  13620   30276.400  13125.90      2540.35831 Yes       \n",
       "35 TR   9090   16960.780 424018.00    166840.00000 No        \n",
       "36 UK  33140  814962.000 143604.00   -173553.72211 No        "
      ]
     },
     "metadata": {},
     "output_type": "display_data"
    }
   ],
   "source": [
    "merged_data <- merge(merged_data, euro_data, by = \"geo\", all.x = TRUE)\n",
    "merged_data"
   ]
  },
  {
   "cell_type": "code",
   "execution_count": 29,
   "id": "4c22cca9-d544-4777-a7c0-6978f243f59e",
   "metadata": {},
   "outputs": [],
   "source": [
    "data <- merged_data"
   ]
  },
  {
   "cell_type": "markdown",
   "id": "20c8ff29-7258-42df-b6e6-1e4c93fd50f1",
   "metadata": {},
   "source": [
    "### Vlastnosti zvolených ukazatelů číselně i graficky\n",
    "\n",
    "Rozložení hodnot spotřeby ukazuje, že většina zemí nebo regionů má spotřebu koncentrovanou v nižším rozsahu, zatímco několik zemí nebo regionů má velmi vysoké výdaje na konečnou spotřebu, což zvyšuje průměr. Tento závěr je podpořen vyšším průměrem ve srovnání s mediánem a relativně vysokými hodnotami třetího kvartilu a maxima."
   ]
  },
  {
   "cell_type": "code",
   "execution_count": 30,
   "id": "a09e3cb6-96c6-4ca1-a0b9-77a5a38e9871",
   "metadata": {},
   "outputs": [
    {
     "name": "stdout",
     "output_type": "stream",
     "text": [
      "Spotřeba: \n"
     ]
    },
    {
     "data": {
      "text/plain": [
       "   Min. 1st Qu.  Median    Mean 3rd Qu.    Max. \n",
       "   1452    7203   31243   88308   85080  529210 "
      ]
     },
     "metadata": {},
     "output_type": "display_data"
    }
   ],
   "source": [
    "cat(\"Spotřeba:\", \"\\n\")\n",
    "summary(data$consumption)"
   ]
  },
  {
   "cell_type": "markdown",
   "id": "996cc5c7-d9bb-4270-9626-1acc028838be",
   "metadata": {},
   "source": [
    "Podobně jako u spotřeby, toto rozložení je také pozitivně (vpravo) šikmé, což naznačuje přítomnost několika velmi vysokých hodnot, které ovlivňují průměr."
   ]
  },
  {
   "cell_type": "code",
   "execution_count": 31,
   "id": "5838fb5f-e6e5-4a73-94a2-8bf89e6e0cd2",
   "metadata": {},
   "outputs": [
    {
     "name": "stdout",
     "output_type": "stream",
     "text": [
      "Vládní výdaje: \n"
     ]
    },
    {
     "data": {
      "text/plain": [
       "   Min. 1st Qu.  Median    Mean 3rd Qu.    Max. \n",
       "   2684   11210   61507  191258  172444 1233138 "
      ]
     },
     "metadata": {},
     "output_type": "display_data"
    }
   ],
   "source": [
    "cat(\"Vládní výdaje:\", \"\\n\")\n",
    "summary(data$spending)"
   ]
  },
  {
   "cell_type": "markdown",
   "id": "c3fbad93-53d5-4a4e-b562-15cf30567068",
   "metadata": {},
   "source": [
    "Rozložení hodnot čistého exportu ukazuje, že většina zemí nebo regionů má hodnoty blíže k nule, s několika extrémními hodnotami na obou stranách spektra. Přítomnost negativních hodnot znamená, že tyto země více dováží než vyváží (čistý dovoz), zatímco pozitivní hodnoty znamenají, že více vyváží než dováží (čistý vývoz)"
   ]
  },
  {
   "cell_type": "code",
   "execution_count": 32,
   "id": "e8074dd0-c741-4517-ba24-565af1c8caf3",
   "metadata": {},
   "outputs": [
    {
     "name": "stdout",
     "output_type": "stream",
     "text": [
      "Net Export: \n"
     ]
    },
    {
     "data": {
      "text/plain": [
       "   Min. 1st Qu.  Median    Mean 3rd Qu.    Max. \n",
       "-173554   -6574   -1504    5370   10388  191672 "
      ]
     },
     "metadata": {},
     "output_type": "display_data"
    }
   ],
   "source": [
    "cat(\"Net Export:\", \"\\n\")\n",
    "summary(data$netexport)"
   ]
  },
  {
   "cell_type": "code",
   "execution_count": 33,
   "id": "2934b50b-361e-4176-9205-f31b0cbff449",
   "metadata": {},
   "outputs": [
    {
     "data": {
      "image/png": "[encoded data removed]",
      "text/plain": [
       "plot without title"
      ]
     },
     "metadata": {
      "image/png": {
       "height": 480,
       "width": 720
      }
     },
     "output_type": "display_data"
    }
   ],
   "source": [
    "ggplot(data, aes(x=\"\", y=spending)) + \n",
    "  geom_boxplot(fill=\"blue\", color=\"black\") + \n",
    "  theme_minimal() + \n",
    "  labs(title=\"Boxplot of Government Spending\", y=\"Spending (Million Euro)\")"
   ]
  },
  {
   "cell_type": "code",
   "execution_count": 34,
   "id": "3939ed0a-904d-4aa1-806e-07e0c9f878e7",
   "metadata": {},
   "outputs": [
    {
     "data": {
      "image/png": "[encoded data removed]",
      "text/plain": [
       "plot without title"
      ]
     },
     "metadata": {
      "image/png": {
       "height": 480,
       "width": 720
      }
     },
     "output_type": "display_data"
    }
   ],
   "source": [
    "ggplot(data, aes(x=\"\", y=consumption)) + \n",
    "  geom_boxplot(fill=\"green\", color=\"black\") + \n",
    "  theme_minimal() + \n",
    "  labs(title=\"Boxplot of Final Consumption Expenditure\", y=\"Consumption (Million Euro)\")"
   ]
  },
  {
   "cell_type": "code",
   "execution_count": 35,
   "id": "6a2cc252-470d-4f9e-bcc4-093994d898d3",
   "metadata": {},
   "outputs": [
    {
     "data": {
      "image/png": "[encoded data removed]",
      "text/plain": [
       "plot without title"
      ]
     },
     "metadata": {
      "image/png": {
       "height": 480,
       "width": 720
      }
     },
     "output_type": "display_data"
    }
   ],
   "source": [
    "ggplot(data, aes(x=\"\", y=netexport)) + \n",
    "  geom_boxplot(fill=\"red\", color=\"black\") + \n",
    "  theme_minimal() + \n",
    "  labs(title=\"Boxplot of Net Export\", y=\"Net Export (Million Euro)\")"
   ]
  },
  {
   "cell_type": "markdown",
   "id": "3f959c36-cd4d-4294-bc8e-0e380b10b3a9",
   "metadata": {},
   "source": [
    "Vidíme, že počty zemí, ve kterých se platí eurem a ve kterých se neplatí eurem je podobný"
   ]
  },
  {
   "cell_type": "code",
   "execution_count": 36,
   "id": "d5bbef29-5b19-4120-8ee5-e912ea6f9c80",
   "metadata": {},
   "outputs": [
    {
     "data": {
      "image/png": "[encoded data removed]",
      "text/plain": [
       "plot without title"
      ]
     },
     "metadata": {
      "image/png": {
       "height": 480,
       "width": 720
      }
     },
     "output_type": "display_data"
    }
   ],
   "source": [
    "ggplot(data, aes(x=Euro_Usage)) + \n",
    "  geom_bar(fill=\"purple\", color=\"black\") + \n",
    "  theme_minimal() + \n",
    "  labs(title=\"Euro Usage by Countries\", x=\"Euro Usage\", y=\"Count\")"
   ]
  },
  {
   "cell_type": "code",
   "execution_count": 37,
   "id": "d628d7b7-d5cd-42e2-b255-e66a94579d83",
   "metadata": {},
   "outputs": [
    {
     "data": {
      "image/png": "[encoded data removed]",
      "text/plain": [
       "plot without title"
      ]
     },
     "metadata": {
      "image/png": {
       "height": 480,
       "width": 720
      }
     },
     "output_type": "display_data"
    }
   ],
   "source": [
    "p1 <- ggplot(data, aes(sample = spending)) +\n",
    "  stat_qq(distribution = qnorm) +\n",
    "  stat_qq_line(distribution = qnorm) +\n",
    "  labs(title = \"Q-Q Plot Normal distribution for government spending\",\n",
    "       x = \"Theoretical Quantiles\",\n",
    "       y = \"Sample Quantiles\")\n",
    "\n",
    "print(p1)"
   ]
  },
  {
   "cell_type": "code",
   "execution_count": 38,
   "id": "49e5830e-5193-4edb-8a15-91e216e7f5d6",
   "metadata": {},
   "outputs": [
    {
     "data": {
      "image/png": "[encoded data removed]",
      "text/plain": [
       "plot without title"
      ]
     },
     "metadata": {
      "image/png": {
       "height": 480,
       "width": 720
      }
     },
     "output_type": "display_data"
    }
   ],
   "source": [
    "p1 <- ggplot(data, aes(sample = consumption)) +\n",
    "  stat_qq(distribution = qnorm) +\n",
    "  stat_qq_line(distribution = qnorm) +\n",
    "  labs(title = \"Q-Q Plot Normal for consumption\",\n",
    "       x = \"Theoretical Quantiles\",\n",
    "       y = \"Sample Quantiles\")\n",
    "\n",
    "print(p1)"
   ]
  },
  {
   "cell_type": "code",
   "execution_count": 39,
   "id": "a69d7745-0f16-4789-9383-f96a07a07f92",
   "metadata": {},
   "outputs": [
    {
     "data": {
      "image/png": "[encoded data removed]",
      "text/plain": [
       "plot without title"
      ]
     },
     "metadata": {
      "image/png": {
       "height": 480,
       "width": 720
      }
     },
     "output_type": "display_data"
    }
   ],
   "source": [
    "p1 <- ggplot(data, aes(sample = netexport)) +\n",
    "  stat_qq(distribution = qnorm) +\n",
    "  stat_qq_line(distribution = qnorm) +\n",
    "  labs(title = \"Q-Q Plot Normal distribution for Netexport\",\n",
    "       x = \"Theoretical Quantiles\",\n",
    "       y = \"Sample Quantiles\")\n",
    "\n",
    "print(p1)"
   ]
  },
  {
   "cell_type": "markdown",
   "id": "79d586e0-6ad3-459e-addb-459bd28cf412",
   "metadata": {},
   "source": [
    "### Závislosti mezi regresory\n",
    "\n",
    "Spearmanův korelační koeficient je vhodný pro situace, kdy data nesplňují předpoklad normality.\n",
    "\n",
    "* Koeficient mezi spending a consumption je ~0.8893: Hodnota blízká 1 naznačuje, že obě proměnné se pohybují ve stejném směru, což znamená, že když rostou výdaje, roste i spotřeba, a naopak. V obecném smyslu, pokud roste ekonomika a lidé mají k dispozici více financí, mohou nakupovat více zboží a služeb\n",
    "* Koeficient mezi spending a netexport je ~0.0190: Mezi těmito dvěma proměnnými není žádný vztah nebo vzájemná závislost.\n",
    "* Koeficient mezi consumption a netexport je ~0.173: Tento koeficient naznačuje mírnou pozitivní korelaci mezi spotřebou a čistým exportem."
   ]
  },
  {
   "cell_type": "code",
   "execution_count": 40,
   "id": "0997a474-0901-48f6-9477-96c769b27c3a",
   "metadata": {},
   "outputs": [
    {
     "data": {
      "image/png": "[encoded data removed]",
      "text/plain": [
       "Plot with title \"\""
      ]
     },
     "metadata": {
      "image/png": {
       "height": 480,
       "width": 720
      }
     },
     "output_type": "display_data"
    }
   ],
   "source": [
    "spearman_cor_matrix <- cor(data[c(\"spending\", \"consumption\", \"netexport\")], method=\"spearman\")\n",
    "corrplot(spearman_cor_matrix, method=\"circle\", mar=c(0,0,1,0))"
   ]
  },
  {
   "cell_type": "markdown",
   "id": "07e2a478-eb3f-4a83-9275-532dfdcb0f3e",
   "metadata": {},
   "source": [
    "Kruskal-Wallis je neparametrický test používaný k určení, zda existuje statisticky významný rozdíl mezi mediány dvou nebo více skupin. Testuje stejnou hypotézu jako analýza rozptylu, ale je vhodný pro data, která nesplňují předpoklady normálního rozdělení.\n",
    "\n",
    "* **Spending by Euro_Usage**: P-hodnota je vyšší než běžně používaná hladina významnosti 0.05, což naznačuje, že nemáme dostatečné důkazy na odmítnutí nulové hypotézy. To znamená, že nedošlo k statisticky významnému rozdílu ve výdajích mezi skupinami s a bez používání eura.\n",
    "* **Consumption by Euro_Usage**: Opět je p-hodnota vyšší než hladina významnosti 0.05, což naznačuje, že nemáme dostatečné důkazy na odmítnutí nulové hypotézy. To znamená, že nedošlo k statisticky významnému rozdílu v spotřebě mezi skupinami s a bez používání eura.\n",
    "* **Netexport by Euro_Usage**: Stejně jako v předchozích případech, p-hodnota je vyšší než hladina významnosti 0.05, což naznačuje, že nemáme dostatečné důkazy na odmítnutí nulové hypotézy. To znamená, že nedošlo k statisticky významnému rozdílu v čistém exportu mezi skupinami s a bez používání eura."
   ]
  },
  {
   "cell_type": "code",
   "execution_count": 41,
   "id": "f5ecedeb-f9f0-4f21-b79b-ee09f7a38ba5",
   "metadata": {},
   "outputs": [
    {
     "data": {
      "text/plain": [
       "\n",
       "\tKruskal-Wallis rank sum test\n",
       "\n",
       "data:  spending by Euro_Usage\n",
       "Kruskal-Wallis chi-squared = 0.34365, df = 1, p-value = 0.5577\n"
      ]
     },
     "metadata": {},
     "output_type": "display_data"
    },
    {
     "data": {
      "text/plain": [
       "\n",
       "\tKruskal-Wallis rank sum test\n",
       "\n",
       "data:  consumption by Euro_Usage\n",
       "Kruskal-Wallis chi-squared = 0.1107, df = 1, p-value = 0.7393\n"
      ]
     },
     "metadata": {},
     "output_type": "display_data"
    },
    {
     "data": {
      "text/plain": [
       "\n",
       "\tKruskal-Wallis rank sum test\n",
       "\n",
       "data:  netexport by Euro_Usage\n",
       "Kruskal-Wallis chi-squared = 0.34365, df = 1, p-value = 0.5577\n"
      ]
     },
     "metadata": {},
     "output_type": "display_data"
    }
   ],
   "source": [
    "kw_spending <- kruskal.test(spending ~ Euro_Usage, data=data)\n",
    "kw_consumption <- kruskal.test(consumption ~ Euro_Usage, data=data)\n",
    "kw_netexport <- kruskal.test(netexport ~ Euro_Usage, data=data)\n",
    "\n",
    "kw_spending\n",
    "kw_consumption\n",
    "kw_netexport"
   ]
  },
  {
   "cell_type": "markdown",
   "id": "ca8de070-fb8e-4acc-aa3d-4748929eafc3",
   "metadata": {},
   "source": [
    "### Vztah k HDP"
   ]
  },
  {
   "cell_type": "markdown",
   "id": "82cf0eb9-2924-445e-b7c1-d78587d748b4",
   "metadata": {},
   "source": [
    "Nyní přidáme do korelační matice naši vysvětlenou proměnnou a podíváme se na její vztah k vybraným regresorům."
   ]
  },
  {
   "cell_type": "code",
   "execution_count": 42,
   "id": "b8724325-7bda-4784-8386-17efba84fd01",
   "metadata": {},
   "outputs": [
    {
     "data": {
      "image/png": "[encoded data removed]",
      "text/plain": [
       "Plot with title \"\""
      ]
     },
     "metadata": {
      "image/png": {
       "height": 480,
       "width": 720
      }
     },
     "output_type": "display_data"
    }
   ],
   "source": [
    "spearman_cor_matrix <- cor(data[c(\"GDP\", \"spending\", \"consumption\", \"netexport\")], method=\"spearman\")\n",
    "corrplot(spearman_cor_matrix, method=\"circle\", mar=c(0,0,1,0))"
   ]
  },
  {
   "cell_type": "code",
   "execution_count": 43,
   "id": "4db9717f-dfff-455b-8615-89f23752fb87",
   "metadata": {},
   "outputs": [
    {
     "name": "stdout",
     "output_type": "stream",
     "text": [
      "                  GDP   spending consumption  netexport\n",
      "GDP         1.0000000 0.60360360   0.4262548 0.21029601\n",
      "spending    0.6036036 1.00000000   0.8893179 0.01904762\n",
      "consumption 0.4262548 0.88931789   1.0000000 0.17323037\n",
      "netexport   0.2102960 0.01904762   0.1732304 1.00000000\n"
     ]
    }
   ],
   "source": [
    "print(spearman_cor_matrix)"
   ]
  },
  {
   "cell_type": "markdown",
   "id": "99029370-ab6d-4c44-af43-afd76b13e0d7",
   "metadata": {},
   "source": [
    "1. **Výdaje (spending)**: Korelační koeficient mezi HDP a výdaji je 0,6036036, což naznačuje středně silnou pozitivní korelaci. To znamená, že když se výdaje zvyšují, HDP má tendenci také růst. Vztah mezi těmito dvěma proměnnými je poměrně silný, což naznačuje, že zvýšení výdajů může být spojeno s růstem HDP.\n",
    "\n",
    "2. **Spotřeba (consumption)**: Korelační koeficient mezi HDP a spotřebou je 0,4262548, což naznačuje středně silnou pozitivní korelaci. To znamená, že když se spotřeba zvyšuje, HDP má tendenci také růst. Tento vztah je méně silný než u výdajů, ale stále významný, což naznačuje, že zvýšení spotřeby může být spojeno s růstem HDP.\n",
    "\n",
    "3. **Čistý export (netexport)**: Korelační koeficient mezi HDP a čistým exportem je 0,2102960, což naznačuje slabou pozitivní korelaci. To znamená, že když se čistý export zvyšuje, HDP má tendenci také růst, ale tento vztah není silný. Zvýšení čistého exportu může být spojeno s růstem HDP, ale vliv je relativně malý ve srovnání s výdaji a spotřebou."
   ]
  },
  {
   "cell_type": "markdown",
   "id": "a656ec65-c314-4142-9681-47bebcc07ff7",
   "metadata": {},
   "source": [
    "Pro zbývající kategorický regresor použijeme Kruskal-Wallis test.\n",
    "- $H_0$: Mediány HDP jsou stejné pro obě skupiny (země používající euro a země nepoužívající euro).\n",
    "- $H_A$: Mediány HDP se liší mezi skupinami."
   ]
  },
  {
   "cell_type": "code",
   "execution_count": 44,
   "id": "2b26c4c0-1e63-4ddc-9265-24a6913c23e0",
   "metadata": {},
   "outputs": [
    {
     "data": {
      "text/plain": [
       "\n",
       "\tKruskal-Wallis rank sum test\n",
       "\n",
       "data:  GDP by Euro_Usage\n",
       "Kruskal-Wallis chi-squared = 2.1711, df = 1, p-value = 0.1406\n"
      ]
     },
     "metadata": {},
     "output_type": "display_data"
    }
   ],
   "source": [
    "kw_GDP <- kruskal.test(GDP ~ Euro_Usage, data=data)\n",
    "kw_GDP"
   ]
  },
  {
   "cell_type": "markdown",
   "id": "e735370f-bd6b-4bc7-bacc-8b46705c9b45",
   "metadata": {},
   "source": [
    "===============================================================\n",
    "\n",
    "Při obvyklé hladině významnosti 0.05 nemůžeme zamítnout nulovou hypotézu. Znamená to, že neexistuje statisticky významný důkaz, že by se mediány HDP mezi zeměmi, které používají euro, a těmi, které euro nepoužívají, lišily."
   ]
  },
  {
   "cell_type": "markdown",
   "id": "79280974-762d-4768-ae93-6687ddcb145c",
   "metadata": {},
   "source": [
    "### Lineární regresní model"
   ]
  },
  {
   "cell_type": "markdown",
   "id": "edb138ab-49ad-4db4-abad-3e77bee98ad3",
   "metadata": {},
   "source": [
    "Pro začátek, bez ohledu na splnění předpokladů, vyzkoušíme několik různých modelů, které umožní ověřit závislost HDP na vybraných regresích."
   ]
  },
  {
   "cell_type": "code",
   "execution_count": 45,
   "id": "e6b45492-4b99-4959-8b79-79c54d456197",
   "metadata": {},
   "outputs": [
    {
     "data": {
      "text/plain": [
       "\n",
       "Call:\n",
       "lm(formula = GDP ~ spending + consumption + netexport + Euro_Usage, \n",
       "    data = data)\n",
       "\n",
       "Residuals:\n",
       "   Min     1Q Median     3Q    Max \n",
       "-19947 -13312  -6526   9673  63860 \n",
       "\n",
       "Coefficients:\n",
       "                Estimate Std. Error t value Pr(>|t|)    \n",
       "(Intercept)    2.349e+04  5.391e+03   4.357 0.000134 ***\n",
       "spending       4.217e-02  2.722e-02   1.549 0.131493    \n",
       "consumption   -7.736e-02  6.653e-02  -1.163 0.253824    \n",
       "netexport      9.870e-02  8.995e-02   1.097 0.280977    \n",
       "Euro_UsageYes  6.047e+02  7.192e+03   0.084 0.933535    \n",
       "---\n",
       "Signif. codes:  0 '***' 0.001 '**' 0.01 '*' 0.05 '.' 0.1 ' ' 1\n",
       "\n",
       "Residual standard error: 20880 on 31 degrees of freedom\n",
       "Multiple R-squared:  0.09172,\tAdjusted R-squared:  -0.02548 \n",
       "F-statistic: 0.7826 on 4 and 31 DF,  p-value: 0.5452\n"
      ]
     },
     "metadata": {},
     "output_type": "display_data"
    }
   ],
   "source": [
    "model1 <- lm(GDP ~ spending + consumption + netexport + Euro_Usage, data=data)\n",
    "summary(model1)"
   ]
  },
  {
   "cell_type": "markdown",
   "id": "16518320-5063-4223-8c4b-d8d4e2078267",
   "metadata": {},
   "source": [
    "===============================================================\n",
    "\n",
    "* Intercept: Estimate = 23500, p-value < 0.001\n",
    "    * Pokud jsou všechny ostatní proměnné nulové, očekávaná hodnota HDP je 23500.\n",
    "* spending (Výdaje): Estimate = 0.04217, p-value = 0.132\n",
    "    * Při zvýšení výdajů o jednotku se očekává zvýšení HDP o 0.04217 jednotky, ale toto zvýšení není statisticky významné na hladině 0.05.\n",
    "* consumption (Spotřeba): Estimate = -0.07735, p-value = 0.254\n",
    "    * Nepodařilo se prokázat statisticky významný vztah mezi spotřebou a HDP na hladině významnosti 0.05.\n",
    "* netexport (Export mínus import): Estimate = 0.09870, p-value = 0.281\n",
    "    * Interpretace: Nepodařilo se prokázat statisticky významný vztah mezi netexportem a HDP na hladině významnosti 0.05.\n",
    "* Euro_UsageYes (Používání eura): Estimate = 591.0, p-value = 0.935\n",
    "    * Interpretace: Nepodařilo se prokázat statisticky významný rozdíl v HDP mezi zeměmi, které používají euro a těmi, které euro nepoužívají na hladině významnosti 0.05."
   ]
  },
  {
   "cell_type": "code",
   "execution_count": 46,
   "id": "1179c72c-07d6-40f2-9b6f-1f57930db25a",
   "metadata": {},
   "outputs": [
    {
     "data": {
      "text/plain": [
       "\n",
       "Call:\n",
       "lm(formula = GDP ~ spending * consumption + netexport * Euro_Usage, \n",
       "    data = data)\n",
       "\n",
       "Residuals:\n",
       "   Min     1Q Median     3Q    Max \n",
       "-28857 -10417  -2374   9586  67096 \n",
       "\n",
       "Coefficients:\n",
       "                          Estimate Std. Error t value Pr(>|t|)   \n",
       "(Intercept)              1.727e+04  5.543e+03   3.115  0.00412 **\n",
       "spending                 1.993e-01  5.523e-02   3.607  0.00115 **\n",
       "consumption             -2.595e-01  9.507e-02  -2.730  0.01065 * \n",
       "netexport                5.788e-01  1.884e-01   3.072  0.00459 **\n",
       "Euro_UsageYes            1.828e+03  6.551e+03   0.279  0.78215   \n",
       "spending:consumption    -1.675e-07  6.767e-08  -2.474  0.01944 * \n",
       "netexport:Euro_UsageYes -4.979e-01  1.990e-01  -2.502  0.01825 * \n",
       "---\n",
       "Signif. codes:  0 '***' 0.001 '**' 0.01 '*' 0.05 '.' 0.1 ' ' 1\n",
       "\n",
       "Residual standard error: 18600 on 29 degrees of freedom\n",
       "Multiple R-squared:  0.3259,\tAdjusted R-squared:  0.1864 \n",
       "F-statistic: 2.336 on 6 and 29 DF,  p-value: 0.05804\n"
      ]
     },
     "metadata": {},
     "output_type": "display_data"
    }
   ],
   "source": [
    "model_interaction1 <- lm(GDP ~ spending * consumption + netexport * Euro_Usage, data=data)\n",
    "summary(model_interaction1)"
   ]
  },
  {
   "cell_type": "markdown",
   "id": "6abac90f-92ad-4268-8376-d0c573d2e5ce",
   "metadata": {},
   "source": [
    "===============================================================\n",
    "* Intercept: Estimate = 17270, p-value = 0.004\n",
    "    * Pokud jsou všechny ostatní proměnné nulové, očekávaná hodnota HDP je 17270.\n",
    "* spending (Výdaje): Estimate = 0.1993, p-value = 0.001\n",
    "    * Při zvýšení výdajů o jednotku se očekává zvýšení HDP o 0.1993 jednotky, což je statisticky významné na hladině 0.05.\n",
    "* consumption (Spotřeba): Estimate = -0.2596, p-value = 0.011\n",
    "    * Pokud se spotřeba zvýší o jednotku, očekává se snížení HDP o 0.2596 jednotky, což je statisticky významné na hladině 0.05.\n",
    "* netexport (Export mínus import): Estimate = 0.579, p-value = 0.005\n",
    "    * Zvýšení netexportu o jednotku je spojeno se zvýšením HDP o 0.579 jednotky, což je statisticky významné na hladině 0.05.\n",
    "* Euro_UsageYes (Používání eura): Estimate = 1816, p-value = 0.784\n",
    "    * Nepodařilo se prokázat statisticky významný rozdíl v HDP mezi zeměmi, které používají euro a těmi, které euro nepoužívají na hladině významnosti 0.05.\n",
    "* spending (Interakce výdajů a spotřeby): Estimate = -1.675e-07, p-value = 0.019\n",
    "    * Existuje statisticky významná interakce mezi výdaji a spotřebou na hladině významnosti 0.05.\n",
    "* netexport (Interakce netexportu a používání eura): Estimate = -0.498, p-value = 0.018\n",
    "    * Existuje statisticky významná interakce mezi netexportem a používáním eura na hladině významnosti 0.05.\n"
   ]
  },
  {
   "cell_type": "code",
   "execution_count": 47,
   "id": "1c4053fd-28f9-4089-85ad-668cab6ed0eb",
   "metadata": {},
   "outputs": [
    {
     "data": {
      "text/plain": [
       "\n",
       "Call:\n",
       "lm(formula = GDP ~ spending * netexport + consumption * Euro_Usage, \n",
       "    data = data)\n",
       "\n",
       "Residuals:\n",
       "   Min     1Q Median     3Q    Max \n",
       "-18685 -12207  -7010   9660  66435 \n",
       "\n",
       "Coefficients:\n",
       "                            Estimate Std. Error t value Pr(>|t|)   \n",
       "(Intercept)                1.845e+04  6.158e+03   2.995  0.00556 **\n",
       "spending                   1.487e-01  4.547e-02   3.271  0.00277 **\n",
       "netexport                  6.857e-01  2.549e-01   2.690  0.01172 * \n",
       "consumption               -2.764e-01  1.140e-01  -2.425  0.02177 * \n",
       "Euro_UsageYes              6.832e+03  8.189e+03   0.834  0.41094   \n",
       "spending:netexport        -4.922e-07  2.238e-07  -2.200  0.03594 * \n",
       "consumption:Euro_UsageYes -6.921e-02  8.614e-02  -0.803  0.42826   \n",
       "---\n",
       "Signif. codes:  0 '***' 0.001 '**' 0.01 '*' 0.05 '.' 0.1 ' ' 1\n",
       "\n",
       "Residual standard error: 19140 on 29 degrees of freedom\n",
       "Multiple R-squared:  0.2859,\tAdjusted R-squared:  0.1382 \n",
       "F-statistic: 1.935 on 6 and 29 DF,  p-value: 0.1086\n"
      ]
     },
     "metadata": {},
     "output_type": "display_data"
    }
   ],
   "source": [
    "model_interaction2 <- lm(GDP ~ spending * netexport + consumption * Euro_Usage, data=data)\n",
    "summary(model_interaction2)"
   ]
  },
  {
   "cell_type": "markdown",
   "id": "d30cbb44-bb56-4bdf-9912-f51edb90fc87",
   "metadata": {},
   "source": [
    "===============================================================\n",
    "* Intercept: Estimate = 18450, p-value = 0.006\n",
    "    * Pokud jsou všechny ostatní proměnné nulové, očekávaná hodnota HDP je 18450.\n",
    "* spending (Výdaje): Estimate = 0.1487, p-value = 0.003\n",
    "    * Při zvýšení výdajů o jednotku se očekává zvýšení HDP o 0.1487 jednotky, což je statisticky významné na hladině 0.05.\n",
    "* netexport (Export mínus import): Estimate = 0.6853, p-value = 0.012\n",
    "    * Zvýšení netexportu o jednotku je spojeno se zvýšením HDP o 0.6853 jednotky, což je statisticky významné na hladině 0.05.\n",
    "* consumption (Spotřeba): Estimate = -0.2762, p-value = 0.022\n",
    "    * Pokud se spotřeba zvýší o jednotku, očekává se snížení HDP o 0.2762 jednotky, což je statisticky významné na hladině 0.05.\n",
    "* Euro_UsageYes (Používání eura): Estimate = 6828, p-value = 0.411\n",
    "    * Nepodařilo se prokázat statisticky významný rozdíl v HDP mezi zeměmi, které používají euro a těmi, které euro nepoužívají na hladině významnosti 0.05.\n",
    "* spending (Interakce výdajů a netexportu): Estimate = -4.919e-07, p-value = 0.036\n",
    "    * Existuje statisticky významná interakce mezi výdaji a netexportem na hladině významnosti 0.05.\n",
    "* consumption (Interakce spotřeby a používání eura): Estimate = -0.0694, p-value = 0.427\n",
    "    * Nepodařilo se prokázat statisticky významnou interakci mezi spotřebou a používáním eura na hladině významnosti 0.05."
   ]
  },
  {
   "cell_type": "code",
   "execution_count": 48,
   "id": "5fd6215b-bacb-47a0-8dab-d106506e54e6",
   "metadata": {},
   "outputs": [
    {
     "data": {
      "text/plain": [
       "\n",
       "Call:\n",
       "lm(formula = GDP ~ spending * Euro_Usage + consumption * netexport, \n",
       "    data = data)\n",
       "\n",
       "Residuals:\n",
       "   Min     1Q Median     3Q    Max \n",
       "-18545 -10695  -4422   5878  67089 \n",
       "\n",
       "Coefficients:\n",
       "                         Estimate Std. Error t value Pr(>|t|)    \n",
       "(Intercept)             1.146e+04  5.817e+03   1.970 0.058418 .  \n",
       "spending                1.531e-01  3.754e-02   4.077 0.000325 ***\n",
       "Euro_UsageYes           1.328e+04  7.467e+03   1.779 0.085804 .  \n",
       "consumption            -6.461e-02  5.621e-02  -1.149 0.259769    \n",
       "netexport               6.903e-01  1.778e-01   3.883 0.000549 ***\n",
       "spending:Euro_UsageYes -1.185e-01  3.487e-02  -3.399 0.001985 ** \n",
       "consumption:netexport  -1.299e-06  3.831e-07  -3.390 0.002031 ** \n",
       "---\n",
       "Signif. codes:  0 '***' 0.001 '**' 0.01 '*' 0.05 '.' 0.1 ' ' 1\n",
       "\n",
       "Residual standard error: 17470 on 29 degrees of freedom\n",
       "Multiple R-squared:  0.4053,\tAdjusted R-squared:  0.2823 \n",
       "F-statistic: 3.294 on 6 and 29 DF,  p-value: 0.01352\n"
      ]
     },
     "metadata": {},
     "output_type": "display_data"
    }
   ],
   "source": [
    "model_interaction3 <- lm(GDP ~ spending * Euro_Usage + consumption * netexport, data=data)\n",
    "summary(model_interaction3)"
   ]
  },
  {
   "cell_type": "markdown",
   "id": "33d6e40c-1e09-401d-882f-d32676382e0f",
   "metadata": {},
   "source": [
    "===============================================================\n",
    "* Intercept: Estimate = 11460, p-value = 0.058\n",
    "    * Pokud jsou všechny ostatní proměnné nulové, očekávaná hodnota HDP je 11460.\n",
    "* spending (Výdaje): Estimate = 0.1531, p-value = 0.0003\n",
    "    * Při zvýšení výdajů o jednotku se očekává zvýšení HDP o 0.1531 jednotky, což je statisticky významné na hladině 0.05.\n",
    "* Euro_UsageYes (Používání eura): Estimate = 13280, p-value = 0.086\n",
    "    * Nepodařilo se prokázat statisticky významný rozdíl v HDP mezi zeměmi, které používají euro a těmi, které euro nepoužívají na hladině významnosti 0.05.\n",
    "* consumption (Spotřeba): Estimate = -0.0646, p-value = 0.260\n",
    "    * Pokud se spotřeba zvýší o jednotku, očekává se snížení HDP o 0.0646 jednotky, ale toto snížení není statisticky významné na hladině 0.05.\n",
    "* netexport (Export mínus import): Estimate = 0.6908, p-value = 0.0005\n",
    "    * Zvýšení netexportu o jednotku je spojeno se zvýšením HDP o 0.6908 jednotky, což je statisticky významné na hladině 0.05.\n",
    "* spending (Interakce výdajů a používání eura): Estimate = -0.1186, p-value = 0.002\n",
    "    * Existuje statisticky významná interakce mezi výdaji a používáním eura na hladině významnosti 0.05.\n",
    "* consumption (Interakce spotřeby a netexportu): Estimate = -1.300e-06, p-value = 0.002\n",
    "    * Existuje statisticky významná interakce mezi spotřebou a netexportem na hladině významnosti 0.05."
   ]
  },
  {
   "cell_type": "code",
   "execution_count": 49,
   "id": "14428d2e-18a8-4397-918b-7340043b17c7",
   "metadata": {},
   "outputs": [
    {
     "data": {
      "text/plain": [
       "\n",
       "Call:\n",
       "lm(formula = log_GDP ~ log_spending + log_consumption + log_netexport + \n",
       "    Euro_Usage, data = data_log)\n",
       "\n",
       "Residuals:\n",
       "    Min      1Q  Median      3Q     Max \n",
       "-0.9621 -0.4477 -0.2352  0.4181  1.5591 \n",
       "\n",
       "Coefficients:\n",
       "                Estimate Std. Error t value Pr(>|t|)    \n",
       "(Intercept)      7.09053    0.73719   9.618 8.05e-11 ***\n",
       "log_spending     0.46817    0.13570   3.450  0.00164 ** \n",
       "log_consumption -0.24794    0.17637  -1.406  0.16973    \n",
       "log_netexport    0.01029    0.11105   0.093  0.92675    \n",
       "Euro_UsageYes    0.23151    0.23563   0.983  0.33346    \n",
       "---\n",
       "Signif. codes:  0 '***' 0.001 '**' 0.01 '*' 0.05 '.' 0.1 ' ' 1\n",
       "\n",
       "Residual standard error: 0.6691 on 31 degrees of freedom\n",
       "Multiple R-squared:  0.4563,\tAdjusted R-squared:  0.3862 \n",
       "F-statistic: 6.505 on 4 and 31 DF,  p-value: 0.0006379\n"
      ]
     },
     "metadata": {},
     "output_type": "display_data"
    }
   ],
   "source": [
    "data_log <- data %>%\n",
    "  mutate(log_GDP = log(GDP),\n",
    "         log_spending = log(spending),\n",
    "         log_consumption = log(consumption),\n",
    "         log_netexport = log(abs(netexport) + 1))  # přidání 1 pro zamezení log(0)\n",
    "\n",
    "model_log <- lm(log_GDP ~ log_spending + log_consumption + log_netexport + Euro_Usage, data=data_log)\n",
    "summary(model_log)"
   ]
  },
  {
   "cell_type": "markdown",
   "id": "ff2aaf8a-595b-42f0-ae9b-6b40e1715562",
   "metadata": {},
   "source": [
    "===============================================================\n",
    "* Intercept: Estimate = 7.09027, p-value = 8.1e-11\n",
    "    * Pokud jsou všechny ostatní proměnné nulové, očekávaná hodnota logaritmu HDP je 7.09027.\n",
    "* log_spending (Výdaje): Estimate = 0.46824, p-value = 0.00164\n",
    "    * Při zvýšení logaritmu výdajů o jednotku se očekává zvýšení logaritmu HDP o 0.46824 jednotky, což je statisticky významné na hladině 0.05.\n",
    "* log_consumption (Spotřeba): Estimate = -0.24779, p-value = 0.17009\n",
    "    * Pokud se logaritmus spotřeby zvýší o jednotku, očekává se snížení logaritmu HDP o 0.24779 jednotky, což není statisticky významné na hladině 0.05.\n",
    "* log_netexport (Export mínus import): Estimate = 0.01009, p-value = 0.92821\n",
    "    * Zvýšení logaritmu netexportu o jednotku je spojeno se zvýšením logaritmu HDP o 0.01009 jednotky, což není statisticky významné na hladině 0.05.\n",
    "* Euro_UsageYes (Používání eura): Estimate = 0.23113, p-value = 0.33434\n",
    "    * Nepodařilo se prokázat statisticky významný rozdíl v logaritmu HDP mezi zeměmi, které používají euro a těmi, které euro nepoužívají na hladině významnosti 0.05."
   ]
  },
  {
   "cell_type": "markdown",
   "id": "57ed180b-8baa-4545-8d7d-590a66bbfe3b",
   "metadata": {},
   "source": [
    "### Hodnocení modelů"
   ]
  },
  {
   "cell_type": "markdown",
   "id": "55e0201e-3a35-460e-b333-8652ff4dbd1f",
   "metadata": {},
   "source": [
    "Ze všech zkoumaných výše modelů na základě hodnot R-kvadrát zvolíme lepším modelem model logaritmické regrese. Tento model má Multiple R-squared rovný 0.4563 a Adjusted R-squared rovný 0.3862."
   ]
  },
  {
   "cell_type": "markdown",
   "id": "38de5418-adea-4857-bb6c-98a154983a5c",
   "metadata": {},
   "source": [
    "### Odlehlá pozorování a multikolinearita"
   ]
  },
  {
   "cell_type": "markdown",
   "id": "a2a9161a-6bea-403f-8ff7-66986d780600",
   "metadata": {},
   "source": [
    "Nalezneme odlhehlá pozorování našeho datasetu pomocí různých tehnik."
   ]
  },
  {
   "cell_type": "markdown",
   "id": "1537b285-2fde-45ff-9bf9-47385c0f1036",
   "metadata": {},
   "source": [
    "Nejprve zkusíme je nalézt pomocí standardních reziduí."
   ]
  },
  {
   "cell_type": "code",
   "execution_count": 50,
   "id": "93dcf975-3709-40e3-a24c-51d591d72993",
   "metadata": {},
   "outputs": [
    {
     "name": "stdout",
     "output_type": "stream",
     "text": [
      "[1] \"Outliers based on standardized residuals:\"\n",
      "named integer(0)\n"
     ]
    }
   ],
   "source": [
    "standardized_residuals <- rstandard(model_log)\n",
    "\n",
    "outliers <- which(abs(standardized_residuals) > 3)\n",
    "print(\"Outliers based on standardized residuals:\")\n",
    "print(outliers)"
   ]
  },
  {
   "cell_type": "markdown",
   "id": "615f0faa-2c0e-40fe-a7fa-53a6361e160a",
   "metadata": {},
   "source": [
    "Vidíme, že na základě standardních reziduí nejsou odlehlá pozorování v našem datasetu."
   ]
  },
  {
   "cell_type": "markdown",
   "id": "ef9b831d-b492-49d6-ba67-9c2a4610d243",
   "metadata": {},
   "source": [
    "Zkusíme ted Cookovou vzdálenost"
   ]
  },
  {
   "cell_type": "code",
   "execution_count": 51,
   "id": "b3616b4a-84f0-409f-aae5-9cb7fa240f07",
   "metadata": {},
   "outputs": [
    {
     "name": "stdout",
     "output_type": "stream",
     "text": [
      "[1] \"Outliers based on Cook's Distance:\"\n",
      "35 \n",
      "35 \n"
     ]
    }
   ],
   "source": [
    "cooks_distance <- cooks.distance(model_log)\n",
    "\n",
    "cooks_outliers <- which(cooks_distance > 0.5)\n",
    "print(\"Outliers based on Cook's Distance:\")\n",
    "print(cooks_outliers)"
   ]
  },
  {
   "cell_type": "markdown",
   "id": "b39cb365-8f4d-4e92-a793-9ed4498d7359",
   "metadata": {},
   "source": [
    "35. pozorování je outlierem "
   ]
  },
  {
   "cell_type": "markdown",
   "id": "95be3630-34d7-46b1-84e1-f7e2f24eec01",
   "metadata": {},
   "source": [
    "Zkusíme pomocí metody leverage."
   ]
  },
  {
   "cell_type": "code",
   "execution_count": 52,
   "id": "b8649494-1895-428b-8714-e03943d9858b",
   "metadata": {},
   "outputs": [
    {
     "name": "stdout",
     "output_type": "stream",
     "text": [
      "[1] \"High leverage points:\"\n",
      "33 35 36 \n",
      "33 35 36 \n"
     ]
    }
   ],
   "source": [
    "leverage_values <- hatvalues(model_log)\n",
    "\n",
    "threshold <- 2 * (length(coef(model_log)) - 1) / nrow(data)\n",
    "high_leverage_points <- which(leverage_values > threshold)\n",
    "print(\"High leverage points:\")\n",
    "print(high_leverage_points)"
   ]
  },
  {
   "cell_type": "code",
   "execution_count": 53,
   "id": "c1262861-8696-4056-956f-27bf1ba2fc6c",
   "metadata": {},
   "outputs": [
    {
     "name": "stdout",
     "output_type": "stream",
     "text": [
      "   geo   GDP spending consumption netexport Euro_Usage\n",
      "33  SI 17630  17892.6      7379.5  99.57982        Yes\n",
      "   geo  GDP spending consumption netexport Euro_Usage\n",
      "35  TR 9090 16960.78      424018    166840         No\n",
      "   geo   GDP spending consumption netexport Euro_Usage\n",
      "36  UK 33140   814962      143604 -173553.7         No\n"
     ]
    }
   ],
   "source": [
    "print(data[33, ])\n",
    "print(data[35, ])\n",
    "print(data[36, ])"
   ]
  },
  {
   "cell_type": "markdown",
   "id": "65e85338-d699-4931-8e51-49efc81e3da6",
   "metadata": {},
   "source": [
    "Máme 3 odlehlá pozorování: 33, 35 a 36"
   ]
  },
  {
   "cell_type": "markdown",
   "id": "51548d1f-33b8-440d-8582-cd4d54439dd8",
   "metadata": {},
   "source": [
    "Ted zkusíme najít odlehlhá pozorování pomocí box-plotů jednotlivě pro každý sloupec."
   ]
  },
  {
   "cell_type": "code",
   "execution_count": 54,
   "id": "29be5602-8fb4-4414-8b4f-db4b9c8c0da7",
   "metadata": {},
   "outputs": [],
   "source": [
    "numeric_columns <- sapply(data, is.numeric)\n",
    "\n",
    "numeric_data <- data[, numeric_columns]"
   ]
  },
  {
   "cell_type": "code",
   "execution_count": 55,
   "id": "9a47ae2c-e154-443a-afc4-f03b65e3886f",
   "metadata": {},
   "outputs": [
    {
     "data": {
      "image/png": "[encoded data removed]",
      "text/plain": [
       "Plot with title \"Boxplot of Dataset\""
      ]
     },
     "metadata": {
      "image/png": {
       "height": 480,
       "width": 720
      }
     },
     "output_type": "display_data"
    }
   ],
   "source": [
    "boxplot(numeric_data, main=\"Boxplot of Dataset\")"
   ]
  },
  {
   "cell_type": "code",
   "execution_count": 56,
   "id": "cbcfd90f-2144-40f7-8a79-94cf65fc0999",
   "metadata": {},
   "outputs": [
    {
     "name": "stdout",
     "output_type": "stream",
     "text": [
      "$GDP\n",
      "[1] 87540 79510\n",
      "\n",
      "$spending\n",
      "[1] 1233138  510092 1208938  821764  814962\n",
      "\n",
      "$consumption\n",
      "[1] 529210.0 505817.9 321754.0 424018.0\n",
      "\n",
      "$netexport\n",
      "[1]  191672.38  -82274.91   37616.94   53274.41   57302.18  166840.00 -173553.72\n",
      "\n"
     ]
    }
   ],
   "source": [
    "numeric_vectors <- lapply(numeric_data, unlist)\n",
    "\n",
    "outliers_boxplot <- lapply(numeric_vectors, function(x) boxplot.stats(x)$out)\n",
    "\n",
    "print(outliers_boxplot)"
   ]
  },
  {
   "cell_type": "code",
   "execution_count": 57,
   "id": "a292668b-aa84-43fe-b103-57461230c543",
   "metadata": {},
   "outputs": [
    {
     "name": "stdout",
     "output_type": "stream",
     "text": [
      "[1] 21 27\n"
     ]
    }
   ],
   "source": [
    "values_to_find <- c(87540, 79510)\n",
    "\n",
    "row_numbers <- which(data$GDP %in% values_to_find)\n",
    "\n",
    "print(row_numbers)"
   ]
  },
  {
   "cell_type": "code",
   "execution_count": 58,
   "id": "3d8069c0-ae17-43b6-a426-bd06d7f830cc",
   "metadata": {},
   "outputs": [
    {
     "name": "stdout",
     "output_type": "stream",
     "text": [
      "[1]  8 12 19 36\n"
     ]
    }
   ],
   "source": [
    "values_to_find <- c(1233138,  510092, 1208938,  821764,  814962)\n",
    "\n",
    "row_numbers <- which(data$spending %in% values_to_find)\n",
    "\n",
    "print(row_numbers)"
   ]
  },
  {
   "cell_type": "code",
   "execution_count": 59,
   "id": "878038c8-3988-497e-99b4-dbd5e2aa30fc",
   "metadata": {},
   "outputs": [
    {
     "name": "stdout",
     "output_type": "stream",
     "text": [
      "[1]  8 14 19 35\n"
     ]
    }
   ],
   "source": [
    "values_to_find <- c(529210.0, 505817.9, 321754.0, 424018.0)\n",
    "\n",
    "row_numbers <- which(data$consumption %in% values_to_find)\n",
    "\n",
    "print(row_numbers)"
   ]
  },
  {
   "cell_type": "code",
   "execution_count": 60,
   "id": "b3b0cdf5-aa5c-48b7-ac95-c20d03a5a0d9",
   "metadata": {},
   "outputs": [
    {
     "name": "stdout",
     "output_type": "stream",
     "text": [
      "[1]  8 14 17 26 27 35 36\n"
     ]
    }
   ],
   "source": [
    "values_to_find <- c(191672.38,  -82274.91,   37616.94,   53274.41,   57302.18,  166840.00, -173553.72)\n",
    "\n",
    "row_numbers <- which(round(numeric_data$netexport, digits = 2) %in% values_to_find)\n",
    "\n",
    "print(row_numbers)"
   ]
  },
  {
   "cell_type": "markdown",
   "id": "88e4d872-5efe-4761-b9f8-bbfe312380f9",
   "metadata": {},
   "source": [
    "Vidíme, že pro každý jednotlivý sloupec máme víc odlehlých pozorování, která ovlivnují naše modely."
   ]
  },
  {
   "cell_type": "markdown",
   "id": "5bd8e9ff-8f90-49d9-b0be-d0541a224ca4",
   "metadata": {},
   "source": [
    "Ted prozkoumáme multikolinearity našich dat"
   ]
  },
  {
   "cell_type": "code",
   "execution_count": 61,
   "id": "8b3cd4e8-69bd-4494-802b-4ec3553c054d",
   "metadata": {},
   "outputs": [
    {
     "name": "stderr",
     "output_type": "stream",
     "text": [
      "Warning message:\n",
      "\"package 'car' was built under R version 4.3.3\"\n",
      "Loading required package: carData\n",
      "\n",
      "Warning message:\n",
      "\"package 'carData' was built under R version 4.3.3\"\n",
      "\n",
      "Attaching package: 'car'\n",
      "\n",
      "\n",
      "The following object is masked from 'package:dplyr':\n",
      "\n",
      "    recode\n",
      "\n",
      "\n"
     ]
    },
    {
     "data": {
      "text/html": [
       "<style>\n",
       ".dl-inline {width: auto; margin:0; padding: 0}\n",
       ".dl-inline>dt, .dl-inline>dd {float: none; width: auto; display: inline-block}\n",
       ".dl-inline>dt::after {content: \":\\0020\"; padding-right: .5ex}\n",
       ".dl-inline>dt:not(:first-of-type) {padding-left: .5ex}\n",
       "</style><dl class=dl-inline><dt>log_spending</dt><dd>4.84526724548165</dd><dt>log_consumption</dt><dd>6.57722621372634</dd><dt>log_netexport</dt><dd>2.75597977412374</dd><dt>Euro_Usage</dt><dd>1.11268731623954</dd></dl>\n"
      ],
      "text/latex": [
       "\\begin{description*}\n",
       "\\item[log\\textbackslash{}\\_spending] 4.84526724548165\n",
       "\\item[log\\textbackslash{}\\_consumption] 6.57722621372634\n",
       "\\item[log\\textbackslash{}\\_netexport] 2.75597977412374\n",
       "\\item[Euro\\textbackslash{}\\_Usage] 1.11268731623954\n",
       "\\end{description*}\n"
      ],
      "text/markdown": [
       "log_spending\n",
       ":   4.84526724548165log_consumption\n",
       ":   6.57722621372634log_netexport\n",
       ":   2.75597977412374Euro_Usage\n",
       ":   1.11268731623954\n",
       "\n"
      ],
      "text/plain": [
       "   log_spending log_consumption   log_netexport      Euro_Usage \n",
       "       4.845267        6.577226        2.755980        1.112687 "
      ]
     },
     "metadata": {},
     "output_type": "display_data"
    }
   ],
   "source": [
    "library(car)\n",
    "\n",
    "vif(model_log)"
   ]
  },
  {
   "cell_type": "markdown",
   "id": "336d2e26-32b7-48d0-8f5c-7c22318a8af2",
   "metadata": {},
   "source": [
    "My jsme zjistili VIF hodnoty logaritmicky transformovaných dat. VIF hondoty, které je méně než 5 indikují nízkou multikolinearity. Takové regresory jsou log_netexport, euro_usage. Log_spending má skoro vif hodnotu rovnou 5, ale necháme je. Log_consumption má VIF hodnotu rovnou 6.6, což znamená, že má střední multikolinearity, proto můžeme je nesmíme používat pro další modely."
   ]
  },
  {
   "cell_type": "markdown",
   "id": "06830ce9-9044-4ed0-a756-29fd480f89fe",
   "metadata": {},
   "source": [
    "### Ověření předpokladů lepšího modelu"
   ]
  },
  {
   "cell_type": "markdown",
   "id": "cc1f3955-7471-487d-9274-84a1c2b5c454",
   "metadata": {},
   "source": [
    "Náš nejlepší model doposud je model logaritmická regrese. Předpoklady logaritmického regresního modelu jsou linearita, normalita reziduí, homoskedasticita, nezávislost reziduí a multikolinearita, kterou jsme již prozkoumali."
   ]
  },
  {
   "cell_type": "markdown",
   "id": "a902c1c6-97ba-4e41-bc44-979989a3955e",
   "metadata": {},
   "source": [
    "#### Ověření linearity"
   ]
  },
  {
   "cell_type": "code",
   "execution_count": 62,
   "id": "2f85bc23-d099-4dd2-a58a-35f9afee8f9a",
   "metadata": {},
   "outputs": [
    {
     "data": {
      "image/png": "[encoded data removed]",
      "text/plain": [
       "Plot with title \"Residuals vs Fitted Values\""
      ]
     },
     "metadata": {
      "image/png": {
       "height": 480,
       "width": 720
      }
     },
     "output_type": "display_data"
    }
   ],
   "source": [
    "plot(fitted(model_log), residuals(model_log), main = \"Residuals vs Fitted Values\")\n",
    "abline(h = 0, col = \"red\")"
   ]
  },
  {
   "cell_type": "markdown",
   "id": "5542bb2a-707c-4f59-ba6a-5b398000248a",
   "metadata": {},
   "source": [
    "Rezidua jsou náhodně rozptýlena kolem vodorovné přímky bez zřetelného vzoru, což naznačuje to, že předpoklad linearity modelu je platný."
   ]
  },
  {
   "cell_type": "markdown",
   "id": "7f95e338-ef5a-4197-995c-4aef8ff4dd53",
   "metadata": {},
   "source": [
    "#### Ověření homoskedasticity"
   ]
  },
  {
   "cell_type": "code",
   "execution_count": 63,
   "id": "cfe695ea-26a4-4da5-9850-b39d034d3d85",
   "metadata": {},
   "outputs": [
    {
     "data": {
      "text/plain": [
       "\n",
       "\tstudentized Breusch-Pagan test\n",
       "\n",
       "data:  model_log\n",
       "BP = 4.1206, df = 4, p-value = 0.3899\n"
      ]
     },
     "metadata": {},
     "output_type": "display_data"
    }
   ],
   "source": [
    "bptest(model_log)"
   ]
  },
  {
   "cell_type": "markdown",
   "id": "b6698e1e-6994-4a02-9895-1be515578977",
   "metadata": {},
   "source": [
    "Protože p-hodnota (0.3899) je vyšší než 0.05 na hladině významnosti 5%, nulovou hypotézu o homoskedasticitě nezamítáme. To naznačuje, že neexistuje silný důkaz pro závěr, že rozptyl reziduí není konstantní na všech úrovních nezávislých proměnných."
   ]
  },
  {
   "cell_type": "markdown",
   "id": "e99313d3-c3cf-4f4b-9f2a-547864a903b1",
   "metadata": {},
   "source": [
    "#### Ověření nezávislosti reziduí"
   ]
  },
  {
   "cell_type": "code",
   "execution_count": 64,
   "id": "51f61284-b77c-44d9-8628-e924e0339b8b",
   "metadata": {},
   "outputs": [
    {
     "data": {
      "text/plain": [
       "\n",
       "\tDurbin-Watson test\n",
       "\n",
       "data:  model_log\n",
       "DW = 2.2118, p-value = 0.7375\n",
       "alternative hypothesis: true autocorrelation is greater than 0\n"
      ]
     },
     "metadata": {},
     "output_type": "display_data"
    }
   ],
   "source": [
    "dwtest(model_log)"
   ]
  },
  {
   "cell_type": "markdown",
   "id": "b30b335c-315b-482d-aa83-ba047e69abbe",
   "metadata": {},
   "source": [
    "Výsledky Durbin-Watsonova testu naznačují, že v reziduích našeho modelu neexistuje žádný významný důkaz autokorelace. To podporuje předpoklad nezávislosti reziduí."
   ]
  },
  {
   "cell_type": "markdown",
   "id": "3cf27e66-11f8-4978-b86f-6befba73545d",
   "metadata": {},
   "source": [
    "### Ověření normality"
   ]
  },
  {
   "cell_type": "code",
   "execution_count": 65,
   "id": "66ff324d-690a-4622-a093-41156e586594",
   "metadata": {},
   "outputs": [
    {
     "data": {
      "text/plain": [
       "\n",
       "\tShapiro-Wilk normality test\n",
       "\n",
       "data:  resid(model_log)\n",
       "W = 0.93248, p-value = 0.02978\n"
      ]
     },
     "metadata": {},
     "output_type": "display_data"
    },
    {
     "data": {
      "image/png": "[encoded data removed]",
      "text/plain": [
       "Plot with title \"Normal Q-Q Plot\""
      ]
     },
     "metadata": {
      "image/png": {
       "height": 480,
       "width": 720
      }
     },
     "output_type": "display_data"
    }
   ],
   "source": [
    "# Q-Q plot\n",
    "qqnorm(resid(model_log))\n",
    "qqline(resid(model_log))\n",
    "\n",
    "# Shapiro-Wilk test\n",
    "shapiro.test(resid(model_log))"
   ]
  },
  {
   "cell_type": "code",
   "execution_count": 66,
   "id": "a0792032-b05c-4b17-afcc-ec620c735ff6",
   "metadata": {},
   "outputs": [
    {
     "data": {
      "image/png": "[encoded data removed]",
      "text/plain": [
       "Plot with title \"Histogram of Residuals\""
      ]
     },
     "metadata": {
      "image/png": {
       "height": 480,
       "width": 720
      }
     },
     "output_type": "display_data"
    }
   ],
   "source": [
    "hist(residuals(model_log), main = \"Histogram of Residuals\")"
   ]
  },
  {
   "cell_type": "markdown",
   "id": "d0b6be54-4654-428a-81af-a3ef36d1e405",
   "metadata": {},
   "source": [
    "Výsledky Shapiro-Wilkova testu naznačují, že existuje významný důkaz, že rezidua nejsou normálně rozdělena. To porušuje předpoklad normality reziduí v\n",
    "našem regresním modelu."
   ]
  },
  {
   "cell_type": "markdown",
   "id": "babfbcb5-e142-4712-a82f-e5e8abbe4925",
   "metadata": {},
   "source": [
    "### Návrh nových modelů splnujících předpoklady"
   ]
  },
  {
   "cell_type": "markdown",
   "id": "a96548ff-9e12-455f-ac74-d43fded69a01",
   "metadata": {},
   "source": [
    "Z výsledků testů předpokladů jsem zjistili, že jen jediný test ověření normality není splněn. Zkusíme tedy navrhnout a zkusit jiné modely, které budou tuto podmínku splnovat nebo schopny nějak kompenzovat. "
   ]
  },
  {
   "cell_type": "markdown",
   "id": "9a6a9996-e3e0-42da-a004-2a57026f8355",
   "metadata": {},
   "source": [
    "Na začátku chceme prozkoumat, jak se bude chovat model robustní regrese, protože máme několik odlehlých pozorováni."
   ]
  },
  {
   "cell_type": "code",
   "execution_count": 67,
   "id": "9f7e0c0c-5473-447e-b983-5ae3d1860540",
   "metadata": {},
   "outputs": [
    {
     "data": {
      "text/plain": [
       "\n",
       "Call:\n",
       "lmrob(formula = GDP ~ spending + consumption + netexport + Euro_Usage, data = data)\n",
       " \\--> method = \"MM\"\n",
       "Residuals:\n",
       "    Min      1Q  Median      3Q     Max \n",
       "-212738   -8094   -1525   11664   76547 \n",
       "\n",
       "Coefficients:\n",
       "                Estimate Std. Error t value Pr(>|t|)    \n",
       "(Intercept)    1.580e+04  5.461e+03   2.892 0.006938 ** \n",
       "spending       2.883e-01  6.794e-02   4.243 0.000185 ***\n",
       "consumption   -5.236e-01  1.290e-01  -4.058 0.000311 ***\n",
       "netexport      8.025e-01  2.148e-01   3.735 0.000758 ***\n",
       "Euro_UsageYes -1.162e+03  5.795e+03  -0.200 0.842400    \n",
       "---\n",
       "Signif. codes:  0 '***' 0.001 '**' 0.01 '*' 0.05 '.' 0.1 ' ' 1\n",
       "\n",
       "Robust residual standard error: 9789 \n",
       "Multiple R-squared:  0.619,\tAdjusted R-squared:  0.5698 \n",
       "Convergence in 22 IRWLS iterations\n",
       "\n",
       "Robustness weights: \n",
       " 4 observations c(8,19,21,35) are outliers with |weight| = 0 ( < 0.0028); \n",
       " 3 weights are ~= 1. The remaining 29 ones are summarized as\n",
       "   Min. 1st Qu.  Median    Mean 3rd Qu.    Max. \n",
       " 0.6070  0.8109  0.9243  0.8808  0.9772  0.9975 \n",
       "Algorithmic parameters: \n",
       "       tuning.chi                bb        tuning.psi        refine.tol           rel.tol         scale.tol         solve.tol          zero.tol \n",
       "        1.548e+00         5.000e-01         4.685e+00         1.000e-07         1.000e-07         1.000e-10         1.000e-07         1.000e-10 \n",
       "      eps.outlier             eps.x warn.limit.reject warn.limit.meanrw \n",
       "        2.778e-03         2.243e-06         5.000e-01         5.000e-01 \n",
       "     nResample         max.it       best.r.s       k.fast.s          k.max    maxit.scale      trace.lev            mts     compute.rd fast.s.large.n \n",
       "           500             50              2              1            200            200              0           1000              0           2000 \n",
       "                  psi           subsampling                   cov compute.outlier.stats \n",
       "           \"bisquare\"         \"nonsingular\"         \".vcov.avar1\"                  \"SM\" \n",
       "seed : int(0) "
      ]
     },
     "metadata": {},
     "output_type": "display_data"
    }
   ],
   "source": [
    "fit_robust <- lmrob(GDP~spending+consumption+netexport+Euro_Usage, data = data)\n",
    "summary(fit_robust)"
   ]
  },
  {
   "cell_type": "markdown",
   "id": "966d92f8-7dae-40e2-93ed-66aa0a51bb9a",
   "metadata": {},
   "source": [
    "Dostali jsme lepší hodnoty Multiple R-squared and Adjusted R-squared než předchozí logaritmický model, ale obsahuje nevýznamný regresor - Euro_Usage. Zkusím vyhodit nesignifikántí regresor."
   ]
  },
  {
   "cell_type": "code",
   "execution_count": 68,
   "id": "b5f7a089-51fe-440f-97b1-fc48b3cab154",
   "metadata": {},
   "outputs": [
    {
     "data": {
      "text/plain": [
       "\n",
       "Call:\n",
       "lmrob(formula = GDP ~ spending + consumption + netexport, data = data)\n",
       " \\--> method = \"MM\"\n",
       "Residuals:\n",
       "   Min     1Q Median     3Q    Max \n",
       "-12865  -6293  -1800  17721  71017 \n",
       "\n",
       "Coefficients:\n",
       "              Estimate Std. Error t value Pr(>|t|)    \n",
       "(Intercept)  1.636e+04  3.806e+03   4.298 0.000151 ***\n",
       "spending     2.818e-02  7.987e-03   3.528 0.001292 ** \n",
       "consumption -2.793e-02  1.979e-02  -1.411 0.167921    \n",
       "netexport    2.573e-02  3.693e-02   0.697 0.490981    \n",
       "---\n",
       "Signif. codes:  0 '***' 0.001 '**' 0.01 '*' 0.05 '.' 0.1 ' ' 1\n",
       "\n",
       "Robust residual standard error: 10480 \n",
       "Multiple R-squared:  0.2332,\tAdjusted R-squared:  0.1613 \n",
       "Convergence in 12 IRWLS iterations\n",
       "\n",
       "Robustness weights: \n",
       " 2 observations c(21,27) are outliers with |weight| = 0 ( < 0.0028); \n",
       " 3 weights are ~= 1. The remaining 31 ones are summarized as\n",
       "    Min.  1st Qu.   Median     Mean  3rd Qu.     Max. \n",
       "0.008182 0.797100 0.936200 0.856400 0.989600 0.998800 \n",
       "Algorithmic parameters: \n",
       "       tuning.chi                bb        tuning.psi        refine.tol           rel.tol         scale.tol         solve.tol          zero.tol \n",
       "        1.548e+00         5.000e-01         4.685e+00         1.000e-07         1.000e-07         1.000e-10         1.000e-07         1.000e-10 \n",
       "      eps.outlier             eps.x warn.limit.reject warn.limit.meanrw \n",
       "        2.778e-03         2.243e-06         5.000e-01         5.000e-01 \n",
       "     nResample         max.it       best.r.s       k.fast.s          k.max    maxit.scale      trace.lev            mts     compute.rd fast.s.large.n \n",
       "           500             50              2              1            200            200              0           1000              0           2000 \n",
       "                  psi           subsampling                   cov compute.outlier.stats \n",
       "           \"bisquare\"         \"nonsingular\"         \".vcov.avar1\"                  \"SM\" \n",
       "seed : int(0) "
      ]
     },
     "metadata": {},
     "output_type": "display_data"
    }
   ],
   "source": [
    "fit_robust_woeuro <- lmrob(GDP~spending+consumption+netexport, data = data)\n",
    "summary(fit_robust_woeuro)"
   ]
  },
  {
   "cell_type": "markdown",
   "id": "1f4ba80a-fd9b-4500-a097-23875117157f",
   "metadata": {},
   "source": [
    "Dostali jsme víc horší model, který má velmi malé hodnoty R-squared a jen jeden významný komponent."
   ]
  },
  {
   "cell_type": "markdown",
   "id": "de975c5d-dcfa-49d6-8bc6-02ca8e980b8d",
   "metadata": {},
   "source": [
    "Zkusíme použít model robustni regrese se specifikovanou Huberovou funkcí."
   ]
  },
  {
   "cell_type": "code",
   "execution_count": 69,
   "id": "6349aed9-4e44-4681-a4a8-08cc31b75707",
   "metadata": {},
   "outputs": [
    {
     "data": {
      "text/plain": [
       "\n",
       "Call: rlm(formula = GDP ~ spending + consumption + netexport + Euro_Usage, \n",
       "    data = data, psi = psi.huber)\n",
       "Residuals:\n",
       "   Min     1Q Median     3Q    Max \n",
       "-15890 -10118  -3976  13002  66509 \n",
       "\n",
       "Coefficients:\n",
       "              Value      Std. Error t value   \n",
       "(Intercept)   19132.4494  4149.5318     4.6107\n",
       "spending          0.0339     0.0210     1.6173\n",
       "consumption      -0.0497     0.0512    -0.9705\n",
       "netexport         0.0590     0.0692     0.8524\n",
       "Euro_UsageYes  2004.0015  5536.1517     0.3620\n",
       "\n",
       "Residual standard error: 15790 on 31 degrees of freedom"
      ]
     },
     "metadata": {},
     "output_type": "display_data"
    }
   ],
   "source": [
    "fit_rlm=rlm(GDP~spending+consumption+netexport+Euro_Usage,data=data,psi=psi.huber)\n",
    "summary(fit_rlm)"
   ]
  },
  {
   "cell_type": "code",
   "execution_count": 70,
   "id": "5ca5135e-db52-44c0-86e9-567e9c5b69c4",
   "metadata": {},
   "outputs": [
    {
     "data": {
      "text/plain": [
       "\n",
       "\trobust F-test (as if non-random weights)\n",
       "\n",
       "data:  from rlm(formula = GDP ~ spending + consumption + netexport + Euro_Usage, from     data = data, psi = psi.huber)\n",
       "F = 2.6842, p-value = 0.1115\n",
       "alternative hypothesis: true spending is not equal to 0\n"
      ]
     },
     "metadata": {},
     "output_type": "display_data"
    },
    {
     "data": {
      "text/plain": [
       "\n",
       "\trobust F-test (as if non-random weights)\n",
       "\n",
       "data:  from rlm(formula = GDP ~ spending + consumption + netexport + Euro_Usage, from     data = data, psi = psi.huber)\n",
       "F = 0.96876, p-value = 0.3326\n",
       "alternative hypothesis: true consumption is not equal to 0\n"
      ]
     },
     "metadata": {},
     "output_type": "display_data"
    },
    {
     "data": {
      "text/plain": [
       "\n",
       "\trobust F-test (as if non-random weights)\n",
       "\n",
       "data:  from rlm(formula = GDP ~ spending + consumption + netexport + Euro_Usage, from     data = data, psi = psi.huber)\n",
       "F = 0.73435, p-value = 0.3981\n",
       "alternative hypothesis: true netexport is not equal to 0\n"
      ]
     },
     "metadata": {},
     "output_type": "display_data"
    }
   ],
   "source": [
    "f.robftest(fit_rlm,var=\"spending\")\n",
    "f.robftest(fit_rlm,var=\"consumption\")\n",
    "f.robftest(fit_rlm,var=\"netexport\")"
   ]
  },
  {
   "cell_type": "markdown",
   "id": "aeba8431-8c8e-4bbc-b04a-cfaec9b08f82",
   "metadata": {},
   "source": [
    "Z výsledků robustních testů vidíme, že všechny regresory nejsou signifikántní, proto budeme dál zkoumat modely."
   ]
  },
  {
   "cell_type": "markdown",
   "id": "36d64e8d-9c59-4a40-87ab-2ee5042e0e2a",
   "metadata": {},
   "source": [
    "Zkusím metodu step-wise, která bude na základě AIC vybírat nejlepší model."
   ]
  },
  {
   "cell_type": "code",
   "execution_count": 71,
   "id": "f7da5492-7072-4504-a54f-0031c6408ebe",
   "metadata": {},
   "outputs": [
    {
     "name": "stdout",
     "output_type": "stream",
     "text": [
      "Start:  AIC=720.31\n",
      "GDP ~ spending + netexport + Euro_Usage\n",
      "\n",
      "             Df Sum of Sq        RSS    AIC\n",
      "- Euro_Usage  1  22231651 1.4128e+10 718.37\n",
      "- netexport   1  62427100 1.4169e+10 718.47\n",
      "- spending    1 616733377 1.4723e+10 719.85\n",
      "<none>                    1.4106e+10 720.31\n",
      "\n",
      "Step:  AIC=718.37\n",
      "GDP ~ spending + netexport\n",
      "\n",
      "             Df Sum of Sq        RSS    AIC\n",
      "- netexport   1  66176125 1.4195e+10 716.53\n",
      "- spending    1 699080206 1.4828e+10 718.10\n",
      "<none>                    1.4128e+10 718.37\n",
      "+ Euro_Usage  1  22231651 1.4106e+10 720.31\n",
      "\n",
      "Step:  AIC=716.53\n",
      "GDP ~ spending\n",
      "\n",
      "             Df Sum of Sq        RSS    AIC\n",
      "- spending    1 687093715 1.4882e+10 716.24\n",
      "<none>                    1.4195e+10 716.53\n",
      "+ netexport   1  66176125 1.4128e+10 718.37\n",
      "+ Euro_Usage  1  25980676 1.4169e+10 718.47\n",
      "\n",
      "Step:  AIC=716.24\n",
      "GDP ~ 1\n",
      "\n",
      "             Df Sum of Sq        RSS    AIC\n",
      "<none>                    1.4882e+10 716.24\n",
      "+ spending    1 687093715 1.4195e+10 716.53\n",
      "+ Euro_Usage  1 110564026 1.4771e+10 717.97\n",
      "+ netexport   1  54189634 1.4828e+10 718.10\n"
     ]
    },
    {
     "data": {
      "text/plain": [
       "\n",
       "Call:\n",
       "lm(formula = GDP ~ 1, data = data)\n",
       "\n",
       "Residuals:\n",
       "   Min     1Q Median     3Q    Max \n",
       "-22274 -15186  -7989  11084  61966 \n",
       "\n",
       "Coefficients:\n",
       "            Estimate Std. Error t value Pr(>|t|)    \n",
       "(Intercept)    25574       3437   7.441 1.04e-08 ***\n",
       "---\n",
       "Signif. codes:  0 '***' 0.001 '**' 0.01 '*' 0.05 '.' 0.1 ' ' 1\n",
       "\n",
       "Residual standard error: 20620 on 35 degrees of freedom\n"
      ]
     },
     "metadata": {},
     "output_type": "display_data"
    }
   ],
   "source": [
    "stepwise_model <- stepAIC(lm(GDP ~ spending + netexport + Euro_Usage, data = data), direction = \"both\")\n",
    "summary(stepwise_model)"
   ]
  },
  {
   "cell_type": "markdown",
   "id": "ca351220-8a54-455b-ad9b-82ca3833cad8",
   "metadata": {},
   "source": [
    "Tato metoda říká, že nejlpeší je model, který obsahuje jen intercept. Zkoumáme jiné modely."
   ]
  },
  {
   "cell_type": "code",
   "execution_count": 72,
   "id": "1483133d-8b46-42aa-aae1-b98e84b47ac8",
   "metadata": {},
   "outputs": [
    {
     "data": {
      "text/plain": [
       "\n",
       "Call:\n",
       "lm(formula = GDP ~ spending * consumption * netexport * Euro_Usage, \n",
       "    data = data)\n",
       "\n",
       "Residuals:\n",
       "   Min     1Q Median     3Q    Max \n",
       "-19283  -6865  -2174   3378  63911 \n",
       "\n",
       "Coefficients:\n",
       "                                               Estimate Std. Error t value Pr(>|t|)\n",
       "(Intercept)                                   1.795e+04  1.456e+04   1.233    0.232\n",
       "spending                                      4.982e-01  4.108e-01   1.213    0.239\n",
       "consumption                                  -1.418e+00  1.623e+00  -0.874    0.393\n",
       "netexport                                     8.374e-01  2.167e+00   0.386    0.703\n",
       "Euro_UsageYes                                 5.106e+03  1.587e+04   0.322    0.751\n",
       "spending:consumption                          2.754e-06  3.947e-06   0.698    0.493\n",
       "spending:netexport                           -6.139e-06  2.886e-05  -0.213    0.834\n",
       "consumption:netexport                         5.327e-06  4.725e-06   1.127    0.273\n",
       "spending:Euro_UsageYes                       -7.911e-01  8.623e-01  -0.917    0.370\n",
       "consumption:Euro_UsageYes                     2.235e+00  2.548e+00   0.877    0.391\n",
       "netexport:Euro_UsageYes                      -8.680e-01  2.250e+00  -0.386    0.704\n",
       "spending:consumption:netexport                5.414e-11  2.032e-10   0.266    0.793\n",
       "spending:consumption:Euro_UsageYes           -2.822e-06  3.949e-06  -0.715    0.483\n",
       "spending:netexport:Euro_UsageYes              1.301e-05  3.417e-05   0.381    0.707\n",
       "consumption:netexport:Euro_UsageYes          -2.039e-05  4.292e-05  -0.475    0.640\n",
       "spending:consumption:netexport:Euro_UsageYes -5.501e-11  2.032e-10  -0.271    0.789\n",
       "\n",
       "Residual standard error: 18610 on 20 degrees of freedom\n",
       "Multiple R-squared:  0.5348,\tAdjusted R-squared:  0.1858 \n",
       "F-statistic: 1.533 on 15 and 20 DF,  p-value: 0.1841\n"
      ]
     },
     "metadata": {},
     "output_type": "display_data"
    }
   ],
   "source": [
    "model_int <- lm(GDP ~ spending*consumption*netexport*Euro_Usage, data=data)\n",
    "summary(model_int)"
   ]
  },
  {
   "cell_type": "code",
   "execution_count": 73,
   "id": "334959a8-66bc-4f3b-a556-523568716299",
   "metadata": {},
   "outputs": [
    {
     "data": {
      "text/html": [
       "<table class=\"dataframe\">\n",
       "<caption>A anova: 2 × 6</caption>\n",
       "<thead>\n",
       "\t<tr><th></th><th scope=col>Res.Df</th><th scope=col>RSS</th><th scope=col>Df</th><th scope=col>Sum of Sq</th><th scope=col>F</th><th scope=col>Pr(&gt;F)</th></tr>\n",
       "\t<tr><th></th><th scope=col>&lt;dbl&gt;</th><th scope=col>&lt;dbl&gt;</th><th scope=col>&lt;dbl&gt;</th><th scope=col>&lt;dbl&gt;</th><th scope=col>&lt;dbl&gt;</th><th scope=col>&lt;dbl&gt;</th></tr>\n",
       "</thead>\n",
       "<tbody>\n",
       "\t<tr><th scope=row>1</th><td>31</td><td>13516789518</td><td>NA</td><td>        NA</td><td>      NA</td><td>       NA</td></tr>\n",
       "\t<tr><th scope=row>2</th><td>20</td><td> 6923709169</td><td>11</td><td>6593080349</td><td>1.731358</td><td>0.1378688</td></tr>\n",
       "</tbody>\n",
       "</table>\n"
      ],
      "text/latex": [
       "A anova: 2 × 6\n",
       "\\begin{tabular}{r|llllll}\n",
       "  & Res.Df & RSS & Df & Sum of Sq & F & Pr(>F)\\\\\n",
       "  & <dbl> & <dbl> & <dbl> & <dbl> & <dbl> & <dbl>\\\\\n",
       "\\hline\n",
       "\t1 & 31 & 13516789518 & NA &         NA &       NA &        NA\\\\\n",
       "\t2 & 20 &  6923709169 & 11 & 6593080349 & 1.731358 & 0.1378688\\\\\n",
       "\\end{tabular}\n"
      ],
      "text/markdown": [
       "\n",
       "A anova: 2 × 6\n",
       "\n",
       "| <!--/--> | Res.Df &lt;dbl&gt; | RSS &lt;dbl&gt; | Df &lt;dbl&gt; | Sum of Sq &lt;dbl&gt; | F &lt;dbl&gt; | Pr(&gt;F) &lt;dbl&gt; |\n",
       "|---|---|---|---|---|---|---|\n",
       "| 1 | 31 | 13516789518 | NA |         NA |       NA |        NA |\n",
       "| 2 | 20 |  6923709169 | 11 | 6593080349 | 1.731358 | 0.1378688 |\n",
       "\n"
      ],
      "text/plain": [
       "  Res.Df RSS         Df Sum of Sq  F        Pr(>F)   \n",
       "1 31     13516789518 NA         NA       NA        NA\n",
       "2 20      6923709169 11 6593080349 1.731358 0.1378688"
      ]
     },
     "metadata": {},
     "output_type": "display_data"
    }
   ],
   "source": [
    "anova(model1, model_int)"
   ]
  },
  {
   "cell_type": "markdown",
   "id": "8fbb19e2-3852-4ca8-b55f-9d8a55598949",
   "metadata": {},
   "source": [
    "Vidíme, že podle p-hodnoty mezi modely není statisticky významný rozdíl."
   ]
  },
  {
   "cell_type": "markdown",
   "id": "654818e6-b343-45a4-8e7c-66e56732d159",
   "metadata": {},
   "source": [
    "Zkusíme zjistit, zda by nám logaritmická regrese nějak pomohla."
   ]
  },
  {
   "cell_type": "code",
   "execution_count": 74,
   "id": "3ba6853d-3e9e-445e-94ee-6eca289f8afa",
   "metadata": {},
   "outputs": [
    {
     "data": {
      "image/png": "[encoded data removed]",
      "text/plain": [
       "plot without title"
      ]
     },
     "metadata": {
      "image/png": {
       "height": 480,
       "width": 720
      }
     },
     "output_type": "display_data"
    }
   ],
   "source": [
    "boxcox(lm(GDP ~ spending + netexport + Euro_Usage,data=data))"
   ]
  },
  {
   "cell_type": "markdown",
   "id": "0f44bb8f-a3af-4442-95cf-cec944d060a2",
   "metadata": {},
   "source": [
    "Podle BoxCox vidím, že můžeme použít logaritm. Nejprve ho zkusím na lineární regresi."
   ]
  },
  {
   "cell_type": "code",
   "execution_count": 75,
   "id": "d81d0a83-a290-4265-94ff-e305d6622aa2",
   "metadata": {},
   "outputs": [
    {
     "data": {
      "text/plain": [
       "\n",
       "Call:\n",
       "lm(formula = log(GDP) ~ spending + netexport + Euro_Usage, data = data)\n",
       "\n",
       "Residuals:\n",
       "    Min      1Q  Median      3Q     Max \n",
       "-1.4020 -0.4619 -0.2088  0.5142  1.6173 \n",
       "\n",
       "Coefficients:\n",
       "               Estimate Std. Error t value Pr(>|t|)    \n",
       "(Intercept)   9.502e+00  2.058e-01  46.174   <2e-16 ***\n",
       "spending      8.430e-07  4.395e-07   1.918   0.0641 .  \n",
       "netexport     3.376e-07  2.460e-06   0.137   0.8917    \n",
       "Euro_UsageYes 3.054e-01  2.801e-01   1.090   0.2837    \n",
       "---\n",
       "Signif. codes:  0 '***' 0.001 '**' 0.01 '*' 0.05 '.' 0.1 ' ' 1\n",
       "\n",
       "Residual standard error: 0.8191 on 32 degrees of freedom\n",
       "Multiple R-squared:  0.1589,\tAdjusted R-squared:  0.08001 \n",
       "F-statistic: 2.015 on 3 and 32 DF,  p-value: 0.1316\n"
      ]
     },
     "metadata": {},
     "output_type": "display_data"
    }
   ],
   "source": [
    "model_log_lin <- lm(log(GDP) ~ spending + netexport + Euro_Usage, data=data)\n",
    "summary(model_log_lin)"
   ]
  },
  {
   "cell_type": "markdown",
   "id": "63bbb2c7-1f9f-49e9-930c-145ac11e772a",
   "metadata": {},
   "source": [
    "Vyhodíme nevýznamné regresory a podíváme se na zkrácený model."
   ]
  },
  {
   "cell_type": "code",
   "execution_count": 76,
   "id": "1b4aaad5-43ae-449e-9932-3d75761c26bf",
   "metadata": {},
   "outputs": [
    {
     "data": {
      "text/plain": [
       "\n",
       "Call:\n",
       "lm(formula = log(GDP) ~ spending, data = data)\n",
       "\n",
       "Residuals:\n",
       "    Min      1Q  Median      3Q     Max \n",
       "-1.5470 -0.4311 -0.0969  0.6614  1.7153 \n",
       "\n",
       "Coefficients:\n",
       "             Estimate Std. Error t value Pr(>|t|)    \n",
       "(Intercept) 9.646e+00  1.575e-01  61.251   <2e-16 ***\n",
       "spending    9.424e-07  4.244e-07   2.221   0.0331 *  \n",
       "---\n",
       "Signif. codes:  0 '***' 0.001 '**' 0.01 '*' 0.05 '.' 0.1 ' ' 1\n",
       "\n",
       "Residual standard error: 0.8098 on 34 degrees of freedom\n",
       "Multiple R-squared:  0.1267,\tAdjusted R-squared:  0.101 \n",
       "F-statistic: 4.932 on 1 and 34 DF,  p-value: 0.03314\n"
      ]
     },
     "metadata": {},
     "output_type": "display_data"
    }
   ],
   "source": [
    "model_log_lin_reduced <- lm(log(GDP) ~ spending, data=data)\n",
    "summary(model_log_lin_reduced)"
   ]
  },
  {
   "cell_type": "markdown",
   "id": "f4368d56-d791-40a7-85a8-62cf108cc89c",
   "metadata": {},
   "source": [
    "Tento model má velmi malé hodnoty Multiple R-squared (0.1267) a Adjusted R-squared (0.101). Koukneme na robustní regrese logaritmicky transformované vysvětlovaní proměnné."
   ]
  },
  {
   "cell_type": "code",
   "execution_count": 77,
   "id": "ff5a7835-f6c0-45d7-910a-15115a233eb4",
   "metadata": {},
   "outputs": [
    {
     "data": {
      "text/plain": [
       "\n",
       "Call:\n",
       "lmrob(formula = log(GDP) ~ spending + netexport + Euro_Usage, data = data)\n",
       " \\--> method = \"MM\"\n",
       "Residuals:\n",
       "    Min      1Q  Median      3Q     Max \n",
       "-1.3618 -0.3958 -0.2013  0.5422  1.6832 \n",
       "\n",
       "Coefficients:\n",
       "                Estimate Std. Error t value Pr(>|t|)    \n",
       "(Intercept)    9.461e+00  2.790e-01  33.911  < 2e-16 ***\n",
       "spending       8.160e-07  2.481e-07   3.289  0.00245 ** \n",
       "netexport     -1.550e-08  1.310e-06  -0.012  0.99063    \n",
       "Euro_UsageYes  3.390e-01  3.076e-01   1.102  0.27857    \n",
       "---\n",
       "Signif. codes:  0 '***' 0.001 '**' 0.01 '*' 0.05 '.' 0.1 ' ' 1\n",
       "\n",
       "Robust residual standard error: 0.7878 \n",
       "Multiple R-squared:  0.1609,\tAdjusted R-squared:  0.08224 \n",
       "Convergence in 16 IRWLS iterations\n",
       "\n",
       "Robustness weights: \n",
       " 2 weights are ~= 1. The remaining 34 ones are summarized as\n",
       "   Min. 1st Qu.  Median    Mean 3rd Qu.    Max. \n",
       " 0.6273  0.8494  0.9635  0.9124  0.9882  0.9977 \n",
       "Algorithmic parameters: \n",
       "       tuning.chi                bb        tuning.psi        refine.tol           rel.tol         scale.tol         solve.tol          zero.tol \n",
       "        1.548e+00         5.000e-01         4.685e+00         1.000e-07         1.000e-07         1.000e-10         1.000e-07         1.000e-10 \n",
       "      eps.outlier             eps.x warn.limit.reject warn.limit.meanrw \n",
       "        2.778e-03         2.243e-06         5.000e-01         5.000e-01 \n",
       "     nResample         max.it       best.r.s       k.fast.s          k.max    maxit.scale      trace.lev            mts     compute.rd fast.s.large.n \n",
       "           500             50              2              1            200            200              0           1000              0           2000 \n",
       "                  psi           subsampling                   cov compute.outlier.stats \n",
       "           \"bisquare\"         \"nonsingular\"         \".vcov.avar1\"                  \"SM\" \n",
       "seed : int(0) "
      ]
     },
     "metadata": {},
     "output_type": "display_data"
    }
   ],
   "source": [
    "model_log_rob <- lmrob(log(GDP)~spending+netexport+Euro_Usage, data = data)\n",
    "summary(model_log_rob)"
   ]
  },
  {
   "cell_type": "markdown",
   "id": "857c6cd1-4250-4814-8dc7-a5506756fcee",
   "metadata": {},
   "source": [
    "Zase vyhodíme nesignifikántní regresory."
   ]
  },
  {
   "cell_type": "code",
   "execution_count": 78,
   "id": "082afbda-95f2-4470-b94a-5bbeec38fd07",
   "metadata": {},
   "outputs": [
    {
     "data": {
      "text/plain": [
       "\n",
       "Call:\n",
       "lmrob(formula = log(GDP) ~ spending, data = data)\n",
       " \\--> method = \"MM\"\n",
       "Residuals:\n",
       "     Min       1Q   Median       3Q      Max \n",
       "-1.54150 -0.41824 -0.08392  0.67387  1.72130 \n",
       "\n",
       "Coefficients:\n",
       "             Estimate Std. Error t value Pr(>|t|)    \n",
       "(Intercept) 9.641e+00  1.737e-01  55.507  < 2e-16 ***\n",
       "spending    9.166e-07  2.448e-07   3.744  0.00067 ***\n",
       "---\n",
       "Signif. codes:  0 '***' 0.001 '**' 0.01 '*' 0.05 '.' 0.1 ' ' 1\n",
       "\n",
       "Robust residual standard error: 0.8504 \n",
       "Multiple R-squared:  0.1192,\tAdjusted R-squared:  0.09334 \n",
       "Convergence in 8 IRWLS iterations\n",
       "\n",
       "Robustness weights: \n",
       " 4 weights are ~= 1. The remaining 32 ones are summarized as\n",
       "   Min. 1st Qu.  Median    Mean 3rd Qu.    Max. \n",
       " 0.6615  0.8871  0.9503  0.9165  0.9847  0.9986 \n",
       "Algorithmic parameters: \n",
       "       tuning.chi                bb        tuning.psi        refine.tol           rel.tol         scale.tol         solve.tol          zero.tol \n",
       "        1.548e+00         5.000e-01         4.685e+00         1.000e-07         1.000e-07         1.000e-10         1.000e-07         1.000e-10 \n",
       "      eps.outlier             eps.x warn.limit.reject warn.limit.meanrw \n",
       "        2.778e-03         2.243e-06         5.000e-01         5.000e-01 \n",
       "     nResample         max.it       best.r.s       k.fast.s          k.max    maxit.scale      trace.lev            mts     compute.rd fast.s.large.n \n",
       "           500             50              2              1            200            200              0           1000              0           2000 \n",
       "                  psi           subsampling                   cov compute.outlier.stats \n",
       "           \"bisquare\"         \"nonsingular\"         \".vcov.avar1\"                  \"SM\" \n",
       "seed : int(0) "
      ]
     },
     "metadata": {},
     "output_type": "display_data"
    }
   ],
   "source": [
    "model_log_rob_reduced <- lmrob(log(GDP)~spending, data = data)\n",
    "summary(model_log_rob_reduced)"
   ]
  },
  {
   "cell_type": "markdown",
   "id": "e3299515-e0b1-44d0-9126-a5a7f817cadd",
   "metadata": {},
   "source": [
    "Tento model má následující hodnoty: Multiple R-squared = 0.1192, Adjusted R-squared = 0.09334."
   ]
  },
  {
   "cell_type": "markdown",
   "id": "cdb61340-9613-4424-b6be-7f44caab7785",
   "metadata": {},
   "source": [
    " Tedy nejelpším modelem obsahujícím jen významné regresory podle hodnot R-squared je následující:"
   ]
  },
  {
   "cell_type": "code",
   "execution_count": 79,
   "id": "3c29a3b9-28eb-4ddd-ae35-e966a00a70ed",
   "metadata": {},
   "outputs": [
    {
     "data": {
      "text/plain": [
       "\n",
       "Call:\n",
       "lm(formula = log(GDP) ~ spending, data = data)\n",
       "\n",
       "Residuals:\n",
       "    Min      1Q  Median      3Q     Max \n",
       "-1.5470 -0.4311 -0.0969  0.6614  1.7153 \n",
       "\n",
       "Coefficients:\n",
       "             Estimate Std. Error t value Pr(>|t|)    \n",
       "(Intercept) 9.646e+00  1.575e-01  61.251   <2e-16 ***\n",
       "spending    9.424e-07  4.244e-07   2.221   0.0331 *  \n",
       "---\n",
       "Signif. codes:  0 '***' 0.001 '**' 0.01 '*' 0.05 '.' 0.1 ' ' 1\n",
       "\n",
       "Residual standard error: 0.8098 on 34 degrees of freedom\n",
       "Multiple R-squared:  0.1267,\tAdjusted R-squared:  0.101 \n",
       "F-statistic: 4.932 on 1 and 34 DF,  p-value: 0.03314\n"
      ]
     },
     "metadata": {},
     "output_type": "display_data"
    }
   ],
   "source": [
    "final_model <- lm(log(GDP) ~ spending, data=data)\n",
    "summary(final_model)"
   ]
  },
  {
   "cell_type": "markdown",
   "id": "aa899960-be84-4df7-b2ae-eb00b23d0207",
   "metadata": {},
   "source": [
    "Podíváme se, zda tento model splnuje předpoklad normality, krerý náš první nejlepší model nesplnoval."
   ]
  },
  {
   "cell_type": "code",
   "execution_count": 80,
   "id": "fb0ae3f5-bafc-4b77-9fd2-262afd200771",
   "metadata": {},
   "outputs": [
    {
     "data": {
      "text/plain": [
       "\n",
       "\tShapiro-Wilk normality test\n",
       "\n",
       "data:  resid(final_model)\n",
       "W = 0.97826, p-value = 0.6863\n"
      ]
     },
     "metadata": {},
     "output_type": "display_data"
    },
    {
     "data": {
      "image/png": "[encoded data removed]",
      "text/plain": [
       "Plot with title \"Normal Q-Q Plot\""
      ]
     },
     "metadata": {
      "image/png": {
       "height": 480,
       "width": 720
      }
     },
     "output_type": "display_data"
    }
   ],
   "source": [
    "# Q-Q plot\n",
    "qqnorm(resid(final_model))\n",
    "qqline(resid(final_model))\n",
    "\n",
    "# Shapiro-Wilk test\n",
    "shapiro.test(resid(final_model))"
   ]
  },
  {
   "cell_type": "code",
   "execution_count": 81,
   "id": "69dfe35b-363d-4d60-b62d-bca2086c2f14",
   "metadata": {},
   "outputs": [
    {
     "data": {
      "image/png": "[encoded data removed]",
      "text/plain": [
       "Plot with title \"Histogram of Residuals\""
      ]
     },
     "metadata": {
      "image/png": {
       "height": 480,
       "width": 720
      }
     },
     "output_type": "display_data"
    }
   ],
   "source": [
    "hist(residuals(final_model), main = \"Histogram of Residuals\")"
   ]
  },
  {
   "cell_type": "markdown",
   "id": "7c7cce53-b0d2-422d-88fb-99fd35ad333a",
   "metadata": {},
   "source": [
    "Protože p-hodnota je 0,6863, což je významně více než 0.05 na hladině významnosti 5%, nulovou hypotézu nezamítáte. To znamená, že rezidua modelu final_model lze považovat za normálně rozdělená."
   ]
  },
  {
   "cell_type": "markdown",
   "id": "01cb2f35-7b66-480e-a441-5c39a5b0b9b6",
   "metadata": {},
   "source": [
    "### Interpretace výsledků"
   ]
  },
  {
   "cell_type": "code",
   "execution_count": 82,
   "id": "972561b3-2a67-435b-b2c8-af8ce9810ed8",
   "metadata": {},
   "outputs": [
    {
     "data": {
      "text/plain": [
       "\n",
       "Call:\n",
       "lm(formula = log(GDP) ~ spending, data = data)\n",
       "\n",
       "Residuals:\n",
       "    Min      1Q  Median      3Q     Max \n",
       "-1.5470 -0.4311 -0.0969  0.6614  1.7153 \n",
       "\n",
       "Coefficients:\n",
       "             Estimate Std. Error t value Pr(>|t|)    \n",
       "(Intercept) 9.646e+00  1.575e-01  61.251   <2e-16 ***\n",
       "spending    9.424e-07  4.244e-07   2.221   0.0331 *  \n",
       "---\n",
       "Signif. codes:  0 '***' 0.001 '**' 0.01 '*' 0.05 '.' 0.1 ' ' 1\n",
       "\n",
       "Residual standard error: 0.8098 on 34 degrees of freedom\n",
       "Multiple R-squared:  0.1267,\tAdjusted R-squared:  0.101 \n",
       "F-statistic: 4.932 on 1 and 34 DF,  p-value: 0.03314\n"
      ]
     },
     "metadata": {},
     "output_type": "display_data"
    }
   ],
   "source": [
    "summary(final_model)"
   ]
  },
  {
   "cell_type": "markdown",
   "id": "cd22bae7-bd68-4d33-acdd-8092c61ed22b",
   "metadata": {},
   "source": [
    "=====================================================================================\n",
    "\n",
    "1. Odhady regresních koeficientů:\n",
    "    * Intercept: Odhadovaná logaritmická hodnota GDP, když výdaje jsou 0, je přibližně 9.646. Podle p-hodnoty je statisticky významný.\n",
    "    * spending: Koeficinet pro spending je roven 9.424e-07. Při zvýšení výdajů se očekává zvýšení logaritmu GDP o 9.424e-07 jednotky.  Podle p-hodnoty je statisticky významný.\n",
    "\n",
    "2. Kvalita modelu:\n",
    "    * Rozptyl reziduí: Standardní chyba reziduí je přibližně 0.8098.\n",
    "    * Multiple R-squared a Adjusted R-squared: Obyčejný koeficient determinace je roven 0.1267. Adjustovaný koeficent determinace, který bere v úvahu počet prediktorů, je přibližně 0.101.\n",
    "      \n",
    "====================================================================================="
   ]
  },
  {
   "cell_type": "code",
   "execution_count": 83,
   "id": "3d9a039b-3987-4616-b20a-f4a4aa963b48",
   "metadata": {},
   "outputs": [
    {
     "name": "stderr",
     "output_type": "stream",
     "text": [
      "Warning message in predict.lm(final_model, interval = \"prediction\"):\n",
      "\"predictions on current data refer to _future_ responses\n",
      "\"\n"
     ]
    },
    {
     "data": {
      "text/html": [
       "<table class=\"dataframe\">\n",
       "<caption>A data.frame: 36 × 10</caption>\n",
       "<thead>\n",
       "\t<tr><th></th><th scope=col>geo</th><th scope=col>GDP</th><th scope=col>spending</th><th scope=col>consumption</th><th scope=col>netexport</th><th scope=col>Euro_Usage</th><th scope=col>log(data$GDP)</th><th scope=col>fit</th><th scope=col>lwr</th><th scope=col>upr</th></tr>\n",
       "\t<tr><th></th><th scope=col>&lt;chr&gt;</th><th scope=col>&lt;dbl&gt;</th><th scope=col>&lt;dbl&gt;</th><th scope=col>&lt;dbl&gt;</th><th scope=col>&lt;dbl&gt;</th><th scope=col>&lt;chr&gt;</th><th scope=col>&lt;dbl&gt;</th><th scope=col>&lt;dbl&gt;</th><th scope=col>&lt;dbl&gt;</th><th scope=col>&lt;dbl&gt;</th></tr>\n",
       "</thead>\n",
       "<tbody>\n",
       "\t<tr><th scope=row>1</th><td>AL</td><td> 3300</td><td>   2684.019</td><td>  7470.00</td><td>  -2265.70000</td><td>No </td><td> 8.101678</td><td> 9.648707</td><td>7.972487</td><td>11.32493</td></tr>\n",
       "\t<tr><th scope=row>2</th><td>AT</td><td>37820</td><td> 163191.900</td><td> 63286.70</td><td>  -9263.88850</td><td>Yes</td><td>10.540593</td><td> 9.799971</td><td>8.131484</td><td>11.46846</td></tr>\n",
       "\t<tr><th scope=row>3</th><td>BE</td><td>34770</td><td> 218102.100</td><td> 93853.40</td><td>   5301.09722</td><td>Yes</td><td>10.456510</td><td> 9.851719</td><td>8.183247</td><td>11.52019</td></tr>\n",
       "\t<tr><th scope=row>4</th><td>BG</td><td> 5780</td><td>  14476.000</td><td>  6672.60</td><td>  -4689.01172</td><td>No </td><td> 8.662159</td><td> 9.659820</td><td>7.984556</td><td>11.33508</td></tr>\n",
       "\t<tr><th scope=row>5</th><td>CH</td><td>66780</td><td> 174563.900</td><td> 60423.20</td><td>  13383.80000</td><td>No </td><td>11.109159</td><td> 9.810688</td><td>8.142315</td><td>11.47906</td></tr>\n",
       "\t<tr><th scope=row>6</th><td>CY</td><td>22570</td><td>   8205.400</td><td>  3657.60</td><td>  -4324.36607</td><td>Yes</td><td>10.024377</td><td> 9.653910</td><td>7.978145</td><td>11.32967</td></tr>\n",
       "\t<tr><th scope=row>7</th><td>CZ</td><td>15470</td><td>  72636.100</td><td> 31627.40</td><td>  12164.45475</td><td>No </td><td> 9.646658</td><td> 9.714630</td><td>8.043185</td><td>11.38608</td></tr>\n",
       "\t<tr><th scope=row>8</th><td>DE</td><td>34130</td><td>1233138.000</td><td>529210.00</td><td> 191672.38388</td><td>Yes</td><td>10.437932</td><td>10.808302</td><td>8.913400</td><td>12.70320</td></tr>\n",
       "\t<tr><th scope=row>9</th><td>DK</td><td>45530</td><td> 147540.500</td><td> 67390.50</td><td>  11882.66482</td><td>No </td><td>10.726127</td><td> 9.785221</td><td>8.116484</td><td>11.45396</td></tr>\n",
       "\t<tr><th scope=row>10</th><td>EE</td><td>13520</td><td>   7031.500</td><td>  3260.00</td><td>  -1555.87838</td><td>Yes</td><td> 9.511925</td><td> 9.652804</td><td>7.976943</td><td>11.32866</td></tr>\n",
       "\t<tr><th scope=row>11</th><td>EL</td><td>17060</td><td> 107688.000</td><td> 42009.00</td><td> -27353.00000</td><td>No </td><td> 9.744492</td><td> 9.747664</td><td>8.077796</td><td>11.41753</td></tr>\n",
       "\t<tr><th scope=row>12</th><td>ES</td><td>22050</td><td> 510092.000</td><td>205987.00</td><td> -32758.76852</td><td>Yes</td><td>10.001068</td><td>10.126894</td><td>8.436074</td><td>11.81772</td></tr>\n",
       "\t<tr><th scope=row>13</th><td>FI</td><td>37130</td><td> 111456.000</td><td> 48444.00</td><td>  -2639.24589</td><td>Yes</td><td>10.522181</td><td> 9.751215</td><td>8.081484</td><td>11.42095</td></tr>\n",
       "\t<tr><th scope=row>14</th><td>FR</td><td>31820</td><td>1208938.400</td><td>505817.90</td><td> -82274.90846</td><td>Yes</td><td>10.367850</td><td>10.785496</td><td>8.900401</td><td>12.67059</td></tr>\n",
       "\t<tr><th scope=row>15</th><td>HR</td><td>10480</td><td>  21061.100</td><td> 10195.90</td><td>  -6585.74531</td><td>No </td><td> 9.257224</td><td> 9.666025</td><td>7.991269</td><td>11.34078</td></tr>\n",
       "\t<tr><th scope=row>16</th><td>HU</td><td>10110</td><td>  49237.500</td><td> 20005.40</td><td>   6533.29601</td><td>No </td><td> 9.221280</td><td> 9.692579</td><td>8.019777</td><td>11.36538</td></tr>\n",
       "\t<tr><th scope=row>17</th><td>IE</td><td>38110</td><td>  74665.900</td><td> 31958.70</td><td>  37616.93667</td><td>Yes</td><td>10.548232</td><td> 9.716543</td><td>8.045204</td><td>11.38788</td></tr>\n",
       "\t<tr><th scope=row>18</th><td>IS</td><td>36500</td><td>   5479.600</td><td>  2842.00</td><td>    291.00000</td><td>No </td><td>10.505068</td><td> 9.651341</td><td>7.975354</td><td>11.32733</td></tr>\n",
       "\t<tr><th scope=row>19</th><td>IT</td><td>26990</td><td> 821764.000</td><td>321754.00</td><td>   9889.61100</td><td>Yes</td><td>10.203222</td><td>10.420618</td><td>8.665925</td><td>12.17531</td></tr>\n",
       "\t<tr><th scope=row>20</th><td>LT</td><td>11180</td><td>  12088.500</td><td>  5831.70</td><td>  -1831.64068</td><td>Yes</td><td> 9.321882</td><td> 9.657570</td><td>7.982117</td><td>11.33302</td></tr>\n",
       "\t<tr><th scope=row>21</th><td>LU</td><td>87540</td><td>  19453.800</td><td>  7590.30</td><td>  -6569.58234</td><td>Yes</td><td>11.379851</td><td> 9.664511</td><td>7.989632</td><td>11.33939</td></tr>\n",
       "\t<tr><th scope=row>22</th><td>LV</td><td>10870</td><td>   8576.300</td><td>  3826.20</td><td>  -2425.26898</td><td>Yes</td><td> 9.293762</td><td> 9.654260</td><td>7.978525</td><td>11.32999</td></tr>\n",
       "\t<tr><th scope=row>23</th><td>ME</td><td> 5130</td><td>   2963.100</td><td>  2630.00</td><td>  -1452.21000</td><td>Yes</td><td> 8.542861</td><td> 9.648970</td><td>7.972773</td><td>11.32517</td></tr>\n",
       "\t<tr><th scope=row>24</th><td>MK</td><td> 3930</td><td>   2770.000</td><td>  5601.52</td><td>   -896.00000</td><td>No </td><td> 8.276395</td><td> 9.648788</td><td>7.972575</td><td>11.32500</td></tr>\n",
       "\t<tr><th scope=row>25</th><td>MT</td><td>17540</td><td>   3103.800</td><td>  1451.60</td><td>  -1827.08590</td><td>Yes</td><td> 9.772239</td><td> 9.649102</td><td>7.972917</td><td>11.32529</td></tr>\n",
       "\t<tr><th scope=row>26</th><td>NL</td><td>38970</td><td> 307043.000</td><td>169945.00</td><td>  53274.41033</td><td>Yes</td><td>10.570547</td><td> 9.935538</td><td>8.264241</td><td>11.60684</td></tr>\n",
       "\t<tr><th scope=row>27</th><td>NO</td><td>79510</td><td> 171737.900</td><td> 82155.00</td><td>  57302.18000</td><td>No </td><td>11.283638</td><td> 9.808025</td><td>8.139629</td><td>11.47642</td></tr>\n",
       "\t<tr><th scope=row>28</th><td>PL</td><td>10000</td><td> 167380.700</td><td> 69847.30</td><td> -10651.73480</td><td>No </td><td> 9.210340</td><td> 9.803919</td><td>8.135480</td><td>11.47236</td></tr>\n",
       "\t<tr><th scope=row>29</th><td>PT</td><td>16010</td><td>  82277.800</td><td> 30857.80</td><td> -11161.06726</td><td>Yes</td><td> 9.680969</td><td> 9.723717</td><td>8.052760</td><td>11.39467</td></tr>\n",
       "\t<tr><th scope=row>30</th><td>RO</td><td> 6950</td><td>  50377.700</td><td> 19193.70</td><td>  -9624.69796</td><td>No </td><td> 8.846497</td><td> 9.693654</td><td>8.020924</td><td>11.36638</td></tr>\n",
       "\t<tr><th scope=row>31</th><td>RS</td><td> 4680</td><td>   6127.120</td><td> 25436.38</td><td>  12070.00000</td><td>No </td><td> 8.451053</td><td> 9.651952</td><td>7.976017</td><td>11.32789</td></tr>\n",
       "\t<tr><th scope=row>32</th><td>SE</td><td>44950</td><td> 219333.000</td><td>110735.30</td><td>   6155.94074</td><td>No </td><td>10.713306</td><td> 9.852879</td><td>8.184392</td><td>11.52137</td></tr>\n",
       "\t<tr><th scope=row>33</th><td>SI</td><td>17630</td><td>  17892.600</td><td>  7379.50</td><td>     99.57982</td><td>Yes</td><td> 9.777357</td><td> 9.663039</td><td>7.988041</td><td>11.33804</td></tr>\n",
       "\t<tr><th scope=row>34</th><td>SK</td><td>13620</td><td>  30276.400</td><td> 13125.90</td><td>   2540.35831</td><td>Yes</td><td> 9.519295</td><td> 9.674710</td><td>8.000631</td><td>11.34879</td></tr>\n",
       "\t<tr><th scope=row>35</th><td>TR</td><td> 9090</td><td>  16960.780</td><td>424018.00</td><td> 166840.00000</td><td>No </td><td> 9.114930</td><td> 9.662161</td><td>7.987091</td><td>11.33723</td></tr>\n",
       "\t<tr><th scope=row>36</th><td>UK</td><td>33140</td><td> 814962.000</td><td>143604.00</td><td>-173553.72211</td><td>No </td><td>10.408496</td><td>10.414208</td><td>8.661324</td><td>12.16709</td></tr>\n",
       "</tbody>\n",
       "</table>\n"
      ],
      "text/latex": [
       "A data.frame: 36 × 10\n",
       "\\begin{tabular}{r|llllllllll}\n",
       "  & geo & GDP & spending & consumption & netexport & Euro\\_Usage & log(data\\$GDP) & fit & lwr & upr\\\\\n",
       "  & <chr> & <dbl> & <dbl> & <dbl> & <dbl> & <chr> & <dbl> & <dbl> & <dbl> & <dbl>\\\\\n",
       "\\hline\n",
       "\t1 & AL &  3300 &    2684.019 &   7470.00 &   -2265.70000 & No  &  8.101678 &  9.648707 & 7.972487 & 11.32493\\\\\n",
       "\t2 & AT & 37820 &  163191.900 &  63286.70 &   -9263.88850 & Yes & 10.540593 &  9.799971 & 8.131484 & 11.46846\\\\\n",
       "\t3 & BE & 34770 &  218102.100 &  93853.40 &    5301.09722 & Yes & 10.456510 &  9.851719 & 8.183247 & 11.52019\\\\\n",
       "\t4 & BG &  5780 &   14476.000 &   6672.60 &   -4689.01172 & No  &  8.662159 &  9.659820 & 7.984556 & 11.33508\\\\\n",
       "\t5 & CH & 66780 &  174563.900 &  60423.20 &   13383.80000 & No  & 11.109159 &  9.810688 & 8.142315 & 11.47906\\\\\n",
       "\t6 & CY & 22570 &    8205.400 &   3657.60 &   -4324.36607 & Yes & 10.024377 &  9.653910 & 7.978145 & 11.32967\\\\\n",
       "\t7 & CZ & 15470 &   72636.100 &  31627.40 &   12164.45475 & No  &  9.646658 &  9.714630 & 8.043185 & 11.38608\\\\\n",
       "\t8 & DE & 34130 & 1233138.000 & 529210.00 &  191672.38388 & Yes & 10.437932 & 10.808302 & 8.913400 & 12.70320\\\\\n",
       "\t9 & DK & 45530 &  147540.500 &  67390.50 &   11882.66482 & No  & 10.726127 &  9.785221 & 8.116484 & 11.45396\\\\\n",
       "\t10 & EE & 13520 &    7031.500 &   3260.00 &   -1555.87838 & Yes &  9.511925 &  9.652804 & 7.976943 & 11.32866\\\\\n",
       "\t11 & EL & 17060 &  107688.000 &  42009.00 &  -27353.00000 & No  &  9.744492 &  9.747664 & 8.077796 & 11.41753\\\\\n",
       "\t12 & ES & 22050 &  510092.000 & 205987.00 &  -32758.76852 & Yes & 10.001068 & 10.126894 & 8.436074 & 11.81772\\\\\n",
       "\t13 & FI & 37130 &  111456.000 &  48444.00 &   -2639.24589 & Yes & 10.522181 &  9.751215 & 8.081484 & 11.42095\\\\\n",
       "\t14 & FR & 31820 & 1208938.400 & 505817.90 &  -82274.90846 & Yes & 10.367850 & 10.785496 & 8.900401 & 12.67059\\\\\n",
       "\t15 & HR & 10480 &   21061.100 &  10195.90 &   -6585.74531 & No  &  9.257224 &  9.666025 & 7.991269 & 11.34078\\\\\n",
       "\t16 & HU & 10110 &   49237.500 &  20005.40 &    6533.29601 & No  &  9.221280 &  9.692579 & 8.019777 & 11.36538\\\\\n",
       "\t17 & IE & 38110 &   74665.900 &  31958.70 &   37616.93667 & Yes & 10.548232 &  9.716543 & 8.045204 & 11.38788\\\\\n",
       "\t18 & IS & 36500 &    5479.600 &   2842.00 &     291.00000 & No  & 10.505068 &  9.651341 & 7.975354 & 11.32733\\\\\n",
       "\t19 & IT & 26990 &  821764.000 & 321754.00 &    9889.61100 & Yes & 10.203222 & 10.420618 & 8.665925 & 12.17531\\\\\n",
       "\t20 & LT & 11180 &   12088.500 &   5831.70 &   -1831.64068 & Yes &  9.321882 &  9.657570 & 7.982117 & 11.33302\\\\\n",
       "\t21 & LU & 87540 &   19453.800 &   7590.30 &   -6569.58234 & Yes & 11.379851 &  9.664511 & 7.989632 & 11.33939\\\\\n",
       "\t22 & LV & 10870 &    8576.300 &   3826.20 &   -2425.26898 & Yes &  9.293762 &  9.654260 & 7.978525 & 11.32999\\\\\n",
       "\t23 & ME &  5130 &    2963.100 &   2630.00 &   -1452.21000 & Yes &  8.542861 &  9.648970 & 7.972773 & 11.32517\\\\\n",
       "\t24 & MK &  3930 &    2770.000 &   5601.52 &    -896.00000 & No  &  8.276395 &  9.648788 & 7.972575 & 11.32500\\\\\n",
       "\t25 & MT & 17540 &    3103.800 &   1451.60 &   -1827.08590 & Yes &  9.772239 &  9.649102 & 7.972917 & 11.32529\\\\\n",
       "\t26 & NL & 38970 &  307043.000 & 169945.00 &   53274.41033 & Yes & 10.570547 &  9.935538 & 8.264241 & 11.60684\\\\\n",
       "\t27 & NO & 79510 &  171737.900 &  82155.00 &   57302.18000 & No  & 11.283638 &  9.808025 & 8.139629 & 11.47642\\\\\n",
       "\t28 & PL & 10000 &  167380.700 &  69847.30 &  -10651.73480 & No  &  9.210340 &  9.803919 & 8.135480 & 11.47236\\\\\n",
       "\t29 & PT & 16010 &   82277.800 &  30857.80 &  -11161.06726 & Yes &  9.680969 &  9.723717 & 8.052760 & 11.39467\\\\\n",
       "\t30 & RO &  6950 &   50377.700 &  19193.70 &   -9624.69796 & No  &  8.846497 &  9.693654 & 8.020924 & 11.36638\\\\\n",
       "\t31 & RS &  4680 &    6127.120 &  25436.38 &   12070.00000 & No  &  8.451053 &  9.651952 & 7.976017 & 11.32789\\\\\n",
       "\t32 & SE & 44950 &  219333.000 & 110735.30 &    6155.94074 & No  & 10.713306 &  9.852879 & 8.184392 & 11.52137\\\\\n",
       "\t33 & SI & 17630 &   17892.600 &   7379.50 &      99.57982 & Yes &  9.777357 &  9.663039 & 7.988041 & 11.33804\\\\\n",
       "\t34 & SK & 13620 &   30276.400 &  13125.90 &    2540.35831 & Yes &  9.519295 &  9.674710 & 8.000631 & 11.34879\\\\\n",
       "\t35 & TR &  9090 &   16960.780 & 424018.00 &  166840.00000 & No  &  9.114930 &  9.662161 & 7.987091 & 11.33723\\\\\n",
       "\t36 & UK & 33140 &  814962.000 & 143604.00 & -173553.72211 & No  & 10.408496 & 10.414208 & 8.661324 & 12.16709\\\\\n",
       "\\end{tabular}\n"
      ],
      "text/markdown": [
       "\n",
       "A data.frame: 36 × 10\n",
       "\n",
       "| <!--/--> | geo &lt;chr&gt; | GDP &lt;dbl&gt; | spending &lt;dbl&gt; | consumption &lt;dbl&gt; | netexport &lt;dbl&gt; | Euro_Usage &lt;chr&gt; | log(data$GDP) &lt;dbl&gt; | fit &lt;dbl&gt; | lwr &lt;dbl&gt; | upr &lt;dbl&gt; |\n",
       "|---|---|---|---|---|---|---|---|---|---|---|\n",
       "| 1 | AL |  3300 |    2684.019 |   7470.00 |   -2265.70000 | No  |  8.101678 |  9.648707 | 7.972487 | 11.32493 |\n",
       "| 2 | AT | 37820 |  163191.900 |  63286.70 |   -9263.88850 | Yes | 10.540593 |  9.799971 | 8.131484 | 11.46846 |\n",
       "| 3 | BE | 34770 |  218102.100 |  93853.40 |    5301.09722 | Yes | 10.456510 |  9.851719 | 8.183247 | 11.52019 |\n",
       "| 4 | BG |  5780 |   14476.000 |   6672.60 |   -4689.01172 | No  |  8.662159 |  9.659820 | 7.984556 | 11.33508 |\n",
       "| 5 | CH | 66780 |  174563.900 |  60423.20 |   13383.80000 | No  | 11.109159 |  9.810688 | 8.142315 | 11.47906 |\n",
       "| 6 | CY | 22570 |    8205.400 |   3657.60 |   -4324.36607 | Yes | 10.024377 |  9.653910 | 7.978145 | 11.32967 |\n",
       "| 7 | CZ | 15470 |   72636.100 |  31627.40 |   12164.45475 | No  |  9.646658 |  9.714630 | 8.043185 | 11.38608 |\n",
       "| 8 | DE | 34130 | 1233138.000 | 529210.00 |  191672.38388 | Yes | 10.437932 | 10.808302 | 8.913400 | 12.70320 |\n",
       "| 9 | DK | 45530 |  147540.500 |  67390.50 |   11882.66482 | No  | 10.726127 |  9.785221 | 8.116484 | 11.45396 |\n",
       "| 10 | EE | 13520 |    7031.500 |   3260.00 |   -1555.87838 | Yes |  9.511925 |  9.652804 | 7.976943 | 11.32866 |\n",
       "| 11 | EL | 17060 |  107688.000 |  42009.00 |  -27353.00000 | No  |  9.744492 |  9.747664 | 8.077796 | 11.41753 |\n",
       "| 12 | ES | 22050 |  510092.000 | 205987.00 |  -32758.76852 | Yes | 10.001068 | 10.126894 | 8.436074 | 11.81772 |\n",
       "| 13 | FI | 37130 |  111456.000 |  48444.00 |   -2639.24589 | Yes | 10.522181 |  9.751215 | 8.081484 | 11.42095 |\n",
       "| 14 | FR | 31820 | 1208938.400 | 505817.90 |  -82274.90846 | Yes | 10.367850 | 10.785496 | 8.900401 | 12.67059 |\n",
       "| 15 | HR | 10480 |   21061.100 |  10195.90 |   -6585.74531 | No  |  9.257224 |  9.666025 | 7.991269 | 11.34078 |\n",
       "| 16 | HU | 10110 |   49237.500 |  20005.40 |    6533.29601 | No  |  9.221280 |  9.692579 | 8.019777 | 11.36538 |\n",
       "| 17 | IE | 38110 |   74665.900 |  31958.70 |   37616.93667 | Yes | 10.548232 |  9.716543 | 8.045204 | 11.38788 |\n",
       "| 18 | IS | 36500 |    5479.600 |   2842.00 |     291.00000 | No  | 10.505068 |  9.651341 | 7.975354 | 11.32733 |\n",
       "| 19 | IT | 26990 |  821764.000 | 321754.00 |    9889.61100 | Yes | 10.203222 | 10.420618 | 8.665925 | 12.17531 |\n",
       "| 20 | LT | 11180 |   12088.500 |   5831.70 |   -1831.64068 | Yes |  9.321882 |  9.657570 | 7.982117 | 11.33302 |\n",
       "| 21 | LU | 87540 |   19453.800 |   7590.30 |   -6569.58234 | Yes | 11.379851 |  9.664511 | 7.989632 | 11.33939 |\n",
       "| 22 | LV | 10870 |    8576.300 |   3826.20 |   -2425.26898 | Yes |  9.293762 |  9.654260 | 7.978525 | 11.32999 |\n",
       "| 23 | ME |  5130 |    2963.100 |   2630.00 |   -1452.21000 | Yes |  8.542861 |  9.648970 | 7.972773 | 11.32517 |\n",
       "| 24 | MK |  3930 |    2770.000 |   5601.52 |    -896.00000 | No  |  8.276395 |  9.648788 | 7.972575 | 11.32500 |\n",
       "| 25 | MT | 17540 |    3103.800 |   1451.60 |   -1827.08590 | Yes |  9.772239 |  9.649102 | 7.972917 | 11.32529 |\n",
       "| 26 | NL | 38970 |  307043.000 | 169945.00 |   53274.41033 | Yes | 10.570547 |  9.935538 | 8.264241 | 11.60684 |\n",
       "| 27 | NO | 79510 |  171737.900 |  82155.00 |   57302.18000 | No  | 11.283638 |  9.808025 | 8.139629 | 11.47642 |\n",
       "| 28 | PL | 10000 |  167380.700 |  69847.30 |  -10651.73480 | No  |  9.210340 |  9.803919 | 8.135480 | 11.47236 |\n",
       "| 29 | PT | 16010 |   82277.800 |  30857.80 |  -11161.06726 | Yes |  9.680969 |  9.723717 | 8.052760 | 11.39467 |\n",
       "| 30 | RO |  6950 |   50377.700 |  19193.70 |   -9624.69796 | No  |  8.846497 |  9.693654 | 8.020924 | 11.36638 |\n",
       "| 31 | RS |  4680 |    6127.120 |  25436.38 |   12070.00000 | No  |  8.451053 |  9.651952 | 7.976017 | 11.32789 |\n",
       "| 32 | SE | 44950 |  219333.000 | 110735.30 |    6155.94074 | No  | 10.713306 |  9.852879 | 8.184392 | 11.52137 |\n",
       "| 33 | SI | 17630 |   17892.600 |   7379.50 |      99.57982 | Yes |  9.777357 |  9.663039 | 7.988041 | 11.33804 |\n",
       "| 34 | SK | 13620 |   30276.400 |  13125.90 |    2540.35831 | Yes |  9.519295 |  9.674710 | 8.000631 | 11.34879 |\n",
       "| 35 | TR |  9090 |   16960.780 | 424018.00 |  166840.00000 | No  |  9.114930 |  9.662161 | 7.987091 | 11.33723 |\n",
       "| 36 | UK | 33140 |  814962.000 | 143604.00 | -173553.72211 | No  | 10.408496 | 10.414208 | 8.661324 | 12.16709 |\n",
       "\n"
      ],
      "text/plain": [
       "   geo GDP   spending    consumption netexport     Euro_Usage log(data$GDP) fit       lwr      upr     \n",
       "1  AL   3300    2684.019   7470.00     -2265.70000 No          8.101678      9.648707 7.972487 11.32493\n",
       "2  AT  37820  163191.900  63286.70     -9263.88850 Yes        10.540593      9.799971 8.131484 11.46846\n",
       "3  BE  34770  218102.100  93853.40      5301.09722 Yes        10.456510      9.851719 8.183247 11.52019\n",
       "4  BG   5780   14476.000   6672.60     -4689.01172 No          8.662159      9.659820 7.984556 11.33508\n",
       "5  CH  66780  174563.900  60423.20     13383.80000 No         11.109159      9.810688 8.142315 11.47906\n",
       "6  CY  22570    8205.400   3657.60     -4324.36607 Yes        10.024377      9.653910 7.978145 11.32967\n",
       "7  CZ  15470   72636.100  31627.40     12164.45475 No          9.646658      9.714630 8.043185 11.38608\n",
       "8  DE  34130 1233138.000 529210.00    191672.38388 Yes        10.437932     10.808302 8.913400 12.70320\n",
       "9  DK  45530  147540.500  67390.50     11882.66482 No         10.726127      9.785221 8.116484 11.45396\n",
       "10 EE  13520    7031.500   3260.00     -1555.87838 Yes         9.511925      9.652804 7.976943 11.32866\n",
       "11 EL  17060  107688.000  42009.00    -27353.00000 No          9.744492      9.747664 8.077796 11.41753\n",
       "12 ES  22050  510092.000 205987.00    -32758.76852 Yes        10.001068     10.126894 8.436074 11.81772\n",
       "13 FI  37130  111456.000  48444.00     -2639.24589 Yes        10.522181      9.751215 8.081484 11.42095\n",
       "14 FR  31820 1208938.400 505817.90    -82274.90846 Yes        10.367850     10.785496 8.900401 12.67059\n",
       "15 HR  10480   21061.100  10195.90     -6585.74531 No          9.257224      9.666025 7.991269 11.34078\n",
       "16 HU  10110   49237.500  20005.40      6533.29601 No          9.221280      9.692579 8.019777 11.36538\n",
       "17 IE  38110   74665.900  31958.70     37616.93667 Yes        10.548232      9.716543 8.045204 11.38788\n",
       "18 IS  36500    5479.600   2842.00       291.00000 No         10.505068      9.651341 7.975354 11.32733\n",
       "19 IT  26990  821764.000 321754.00      9889.61100 Yes        10.203222     10.420618 8.665925 12.17531\n",
       "20 LT  11180   12088.500   5831.70     -1831.64068 Yes         9.321882      9.657570 7.982117 11.33302\n",
       "21 LU  87540   19453.800   7590.30     -6569.58234 Yes        11.379851      9.664511 7.989632 11.33939\n",
       "22 LV  10870    8576.300   3826.20     -2425.26898 Yes         9.293762      9.654260 7.978525 11.32999\n",
       "23 ME   5130    2963.100   2630.00     -1452.21000 Yes         8.542861      9.648970 7.972773 11.32517\n",
       "24 MK   3930    2770.000   5601.52      -896.00000 No          8.276395      9.648788 7.972575 11.32500\n",
       "25 MT  17540    3103.800   1451.60     -1827.08590 Yes         9.772239      9.649102 7.972917 11.32529\n",
       "26 NL  38970  307043.000 169945.00     53274.41033 Yes        10.570547      9.935538 8.264241 11.60684\n",
       "27 NO  79510  171737.900  82155.00     57302.18000 No         11.283638      9.808025 8.139629 11.47642\n",
       "28 PL  10000  167380.700  69847.30    -10651.73480 No          9.210340      9.803919 8.135480 11.47236\n",
       "29 PT  16010   82277.800  30857.80    -11161.06726 Yes         9.680969      9.723717 8.052760 11.39467\n",
       "30 RO   6950   50377.700  19193.70     -9624.69796 No          8.846497      9.693654 8.020924 11.36638\n",
       "31 RS   4680    6127.120  25436.38     12070.00000 No          8.451053      9.651952 7.976017 11.32789\n",
       "32 SE  44950  219333.000 110735.30      6155.94074 No         10.713306      9.852879 8.184392 11.52137\n",
       "33 SI  17630   17892.600   7379.50        99.57982 Yes         9.777357      9.663039 7.988041 11.33804\n",
       "34 SK  13620   30276.400  13125.90      2540.35831 Yes         9.519295      9.674710 8.000631 11.34879\n",
       "35 TR   9090   16960.780 424018.00    166840.00000 No          9.114930      9.662161 7.987091 11.33723\n",
       "36 UK  33140  814962.000 143604.00   -173553.72211 No         10.408496     10.414208 8.661324 12.16709"
      ]
     },
     "metadata": {},
     "output_type": "display_data"
    }
   ],
   "source": [
    "tmp <- predict(final_model, interval = \"prediction\")\n",
    "\n",
    "predict <- cbind(data, log(data$GDP))\n",
    "predict <- cbind(predict, tmp)\n",
    "predict"
   ]
  },
  {
   "cell_type": "markdown",
   "id": "e39ad021-d05e-432d-b158-34a306536db5",
   "metadata": {},
   "source": [
    "Predikované hodnoty jsou přibližně jako logaritmické hodnoty GDP."
   ]
  },
  {
   "cell_type": "code",
   "execution_count": null,
   "id": "1364aee0-7fdf-434f-b269-0e43d8063ce2",
   "metadata": {},
   "outputs": [],
   "source": []
  }
 ],
 "metadata": {
  "kernelspec": {
   "display_name": "R",
   "language": "R",
   "name": "ir"
  },
  "language_info": {
   "codemirror_mode": "r",
   "file_extension": ".r",
   "mimetype": "text/x-r-source",
   "name": "R",
   "pygments_lexer": "r",
   "version": "4.3.2"
  }
 },
 "nbformat": 4,
 "nbformat_minor": 5
}
