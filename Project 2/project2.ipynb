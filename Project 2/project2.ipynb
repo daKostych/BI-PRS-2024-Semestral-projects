{
 "cells": [
  {
   "cell_type": "code",
   "execution_count": 1,
   "id": "initial_id",
   "metadata": {
    "ExecuteTime": {
     "end_time": "2024-04-26T16:19:44.743408Z",
     "start_time": "2024-04-26T16:19:41.766568Z"
    }
   },
   "outputs": [
    {
     "name": "stderr",
     "output_type": "stream",
     "text": [
      "Warning message:\n",
      "\"package 'Sleuth2' was built under R version 4.3.3\"\n",
      "\n",
      "Attaching package: 'dplyr'\n",
      "\n",
      "\n",
      "The following objects are masked from 'package:stats':\n",
      "\n",
      "    filter, lag\n",
      "\n",
      "\n",
      "The following objects are masked from 'package:base':\n",
      "\n",
      "    intersect, setdiff, setequal, union\n",
      "\n",
      "\n",
      "Warning message:\n",
      "\"package 'gridExtra' was built under R version 4.3.3\"\n",
      "\n",
      "Attaching package: 'gridExtra'\n",
      "\n",
      "\n",
      "The following object is masked from 'package:dplyr':\n",
      "\n",
      "    combine\n",
      "\n",
      "\n",
      "Warning message:\n",
      "\"package 'olsrr' was built under R version 4.3.3\"\n",
      "\n",
      "Attaching package: 'olsrr'\n",
      "\n",
      "\n",
      "The following object is masked from 'package:datasets':\n",
      "\n",
      "    rivers\n",
      "\n",
      "\n",
      "Warning message:\n",
      "\"package 'lmtest' was built under R version 4.3.3\"\n",
      "Loading required package: zoo\n",
      "\n",
      "Warning message:\n",
      "\"package 'zoo' was built under R version 4.3.3\"\n",
      "\n",
      "Attaching package: 'zoo'\n",
      "\n",
      "\n",
      "The following objects are masked from 'package:base':\n",
      "\n",
      "    as.Date, as.Date.numeric\n",
      "\n",
      "\n",
      "Warning message:\n",
      "\"package 'car' was built under R version 4.3.3\"\n",
      "Loading required package: carData\n",
      "\n",
      "Warning message:\n",
      "\"package 'carData' was built under R version 4.3.3\"\n",
      "\n",
      "Attaching package: 'car'\n",
      "\n",
      "\n",
      "The following object is masked from 'package:dplyr':\n",
      "\n",
      "    recode\n",
      "\n",
      "\n"
     ]
    }
   ],
   "source": [
    "#.libPaths(\"/home/kostyadovnar/CVUT/BI-PRS/packages\")\n",
    "# .libPaths(\"/home/senyaaa/BI-PRS/packages\")\n",
    "#.libPaths(\"\")\n",
    "\n",
    "# paths(\"~/tmp/bi-prs/\")\n",
    "# install.packages('Sleuth2')\n",
    "#install.packages('lmtest')\n",
    "\n",
    "library(Sleuth2)\n",
    "library(dplyr)\n",
    "library(ggplot2)\n",
    "library(gridExtra)\n",
    "library(olsrr)\n",
    "library(lmtest)\n",
    "library(car)\n",
    "options(width=160, repr.plot.width=12, repr.plot.height=8) "
   ]
  },
  {
   "cell_type": "code",
   "execution_count": 2,
   "id": "763e6b6d-df17-4f39-8c48-03aaa6a594bb",
   "metadata": {
    "ExecuteTime": {
     "end_time": "2024-04-26T16:19:44.824475Z",
     "start_time": "2024-04-26T16:19:44.769546Z"
    }
   },
   "outputs": [
    {
     "name": "stdout",
     "output_type": "stream",
     "text": [
      "[1] 2\n"
     ]
    }
   ],
   "source": [
    "surname <- \"downar\"\n",
    "L <- nchar(surname)\n",
    "K <- 9\n",
    "M <- ((K + L) * 47) %% 11 + 1\n",
    "print(M)"
   ]
  },
  {
   "cell_type": "markdown",
   "id": "4a662a5b-2b25-456e-91be-1544696eb324",
   "metadata": {},
   "source": [
    "## Základní statistická šetření\n",
    "\n",
    "Stahneme potřebný dataset. "
   ]
  },
  {
   "cell_type": "code",
   "execution_count": 3,
   "id": "d1190968-9f31-486a-9ef3-d75db49abcbc",
   "metadata": {
    "ExecuteTime": {
     "end_time": "2024-04-26T16:19:45.005997Z",
     "start_time": "2024-04-26T16:19:44.835737Z"
    }
   },
   "outputs": [
    {
     "data": {
      "text/html": [
       "<table class=\"dataframe\">\n",
       "<caption>A data.frame: 29 × 4</caption>\n",
       "<thead>\n",
       "\t<tr><th></th><th scope=col>Country</th><th scope=col>Life</th><th scope=col>Income</th><th scope=col>Type</th></tr>\n",
       "\t<tr><th></th><th scope=col>&lt;chr&gt;</th><th scope=col>&lt;dbl&gt;</th><th scope=col>&lt;dbl&gt;</th><th scope=col>&lt;fct&gt;</th></tr>\n",
       "</thead>\n",
       "<tbody>\n",
       "\t<tr><th scope=row>1</th><td>Australia    </td><td>71.0</td><td>3426</td><td>Industrialized</td></tr>\n",
       "\t<tr><th scope=row>2</th><td>Austria      </td><td>70.4</td><td>3350</td><td>Industrialized</td></tr>\n",
       "\t<tr><th scope=row>3</th><td>Belgium      </td><td>70.6</td><td>3346</td><td>Industrialized</td></tr>\n",
       "\t<tr><th scope=row>4</th><td>Canada       </td><td>72.0</td><td>4751</td><td>Industrialized</td></tr>\n",
       "\t<tr><th scope=row>5</th><td>Denmark      </td><td>73.3</td><td>5029</td><td>Industrialized</td></tr>\n",
       "\t<tr><th scope=row>6</th><td>Finland      </td><td>69.8</td><td>3312</td><td>Industrialized</td></tr>\n",
       "\t<tr><th scope=row>7</th><td>France       </td><td>72.3</td><td>3403</td><td>Industrialized</td></tr>\n",
       "\t<tr><th scope=row>8</th><td>West_Germany </td><td>70.3</td><td>5040</td><td>Industrialized</td></tr>\n",
       "\t<tr><th scope=row>9</th><td>Ireland      </td><td>70.7</td><td>2009</td><td>Industrialized</td></tr>\n",
       "\t<tr><th scope=row>10</th><td>Italy        </td><td>70.6</td><td>2298</td><td>Industrialized</td></tr>\n",
       "\t<tr><th scope=row>11</th><td>Japan        </td><td>73.2</td><td>3292</td><td>Industrialized</td></tr>\n",
       "\t<tr><th scope=row>12</th><td>Netherlands  </td><td>73.8</td><td>4103</td><td>Industrialized</td></tr>\n",
       "\t<tr><th scope=row>13</th><td>NewZealand   </td><td>71.1</td><td>3723</td><td>Industrialized</td></tr>\n",
       "\t<tr><th scope=row>14</th><td>Norway       </td><td>73.9</td><td>4102</td><td>Industrialized</td></tr>\n",
       "\t<tr><th scope=row>15</th><td>Portugal     </td><td>68.1</td><td> 956</td><td>Industrialized</td></tr>\n",
       "\t<tr><th scope=row>16</th><td>South_Africa </td><td>68.2</td><td> NaN</td><td>Industrialized</td></tr>\n",
       "\t<tr><th scope=row>17</th><td>Sweden       </td><td>74.7</td><td>5596</td><td>Industrialized</td></tr>\n",
       "\t<tr><th scope=row>18</th><td>Switzerland  </td><td>72.1</td><td>2963</td><td>Industrialized</td></tr>\n",
       "\t<tr><th scope=row>19</th><td>Britain      </td><td>72.0</td><td>2503</td><td>Industrialized</td></tr>\n",
       "\t<tr><th scope=row>20</th><td>United_States</td><td>71.3</td><td>5523</td><td>Industrialized</td></tr>\n",
       "\t<tr><th scope=row>21</th><td>Algeria      </td><td>50.7</td><td> 430</td><td>Petroleum     </td></tr>\n",
       "\t<tr><th scope=row>22</th><td>Ecuador      </td><td>52.3</td><td> 360</td><td>Petroleum     </td></tr>\n",
       "\t<tr><th scope=row>23</th><td>Indonesia    </td><td>47.5</td><td> 110</td><td>Petroleum     </td></tr>\n",
       "\t<tr><th scope=row>24</th><td>Iran         </td><td>50.0</td><td>1280</td><td>Petroleum     </td></tr>\n",
       "\t<tr><th scope=row>25</th><td>Iraq         </td><td>51.6</td><td> 560</td><td>Petroleum     </td></tr>\n",
       "\t<tr><th scope=row>26</th><td>Libya        </td><td>52.1</td><td>3010</td><td>Petroleum     </td></tr>\n",
       "\t<tr><th scope=row>27</th><td>Nigeria      </td><td>36.9</td><td> 180</td><td>Petroleum     </td></tr>\n",
       "\t<tr><th scope=row>28</th><td>Saudi_Arabia </td><td>42.3</td><td>1530</td><td>Petroleum     </td></tr>\n",
       "\t<tr><th scope=row>29</th><td>Venezuela    </td><td>66.4</td><td>1240</td><td>Petroleum     </td></tr>\n",
       "</tbody>\n",
       "</table>\n"
      ],
      "text/latex": [
       "A data.frame: 29 × 4\n",
       "\\begin{tabular}{r|llll}\n",
       "  & Country & Life & Income & Type\\\\\n",
       "  & <chr> & <dbl> & <dbl> & <fct>\\\\\n",
       "\\hline\n",
       "\t1 & Australia     & 71.0 & 3426 & Industrialized\\\\\n",
       "\t2 & Austria       & 70.4 & 3350 & Industrialized\\\\\n",
       "\t3 & Belgium       & 70.6 & 3346 & Industrialized\\\\\n",
       "\t4 & Canada        & 72.0 & 4751 & Industrialized\\\\\n",
       "\t5 & Denmark       & 73.3 & 5029 & Industrialized\\\\\n",
       "\t6 & Finland       & 69.8 & 3312 & Industrialized\\\\\n",
       "\t7 & France        & 72.3 & 3403 & Industrialized\\\\\n",
       "\t8 & West\\_Germany  & 70.3 & 5040 & Industrialized\\\\\n",
       "\t9 & Ireland       & 70.7 & 2009 & Industrialized\\\\\n",
       "\t10 & Italy         & 70.6 & 2298 & Industrialized\\\\\n",
       "\t11 & Japan         & 73.2 & 3292 & Industrialized\\\\\n",
       "\t12 & Netherlands   & 73.8 & 4103 & Industrialized\\\\\n",
       "\t13 & NewZealand    & 71.1 & 3723 & Industrialized\\\\\n",
       "\t14 & Norway        & 73.9 & 4102 & Industrialized\\\\\n",
       "\t15 & Portugal      & 68.1 &  956 & Industrialized\\\\\n",
       "\t16 & South\\_Africa  & 68.2 &  NaN & Industrialized\\\\\n",
       "\t17 & Sweden        & 74.7 & 5596 & Industrialized\\\\\n",
       "\t18 & Switzerland   & 72.1 & 2963 & Industrialized\\\\\n",
       "\t19 & Britain       & 72.0 & 2503 & Industrialized\\\\\n",
       "\t20 & United\\_States & 71.3 & 5523 & Industrialized\\\\\n",
       "\t21 & Algeria       & 50.7 &  430 & Petroleum     \\\\\n",
       "\t22 & Ecuador       & 52.3 &  360 & Petroleum     \\\\\n",
       "\t23 & Indonesia     & 47.5 &  110 & Petroleum     \\\\\n",
       "\t24 & Iran          & 50.0 & 1280 & Petroleum     \\\\\n",
       "\t25 & Iraq          & 51.6 &  560 & Petroleum     \\\\\n",
       "\t26 & Libya         & 52.1 & 3010 & Petroleum     \\\\\n",
       "\t27 & Nigeria       & 36.9 &  180 & Petroleum     \\\\\n",
       "\t28 & Saudi\\_Arabia  & 42.3 & 1530 & Petroleum     \\\\\n",
       "\t29 & Venezuela     & 66.4 & 1240 & Petroleum     \\\\\n",
       "\\end{tabular}\n"
      ],
      "text/markdown": [
       "\n",
       "A data.frame: 29 × 4\n",
       "\n",
       "| <!--/--> | Country &lt;chr&gt; | Life &lt;dbl&gt; | Income &lt;dbl&gt; | Type &lt;fct&gt; |\n",
       "|---|---|---|---|---|\n",
       "| 1 | Australia     | 71.0 | 3426 | Industrialized |\n",
       "| 2 | Austria       | 70.4 | 3350 | Industrialized |\n",
       "| 3 | Belgium       | 70.6 | 3346 | Industrialized |\n",
       "| 4 | Canada        | 72.0 | 4751 | Industrialized |\n",
       "| 5 | Denmark       | 73.3 | 5029 | Industrialized |\n",
       "| 6 | Finland       | 69.8 | 3312 | Industrialized |\n",
       "| 7 | France        | 72.3 | 3403 | Industrialized |\n",
       "| 8 | West_Germany  | 70.3 | 5040 | Industrialized |\n",
       "| 9 | Ireland       | 70.7 | 2009 | Industrialized |\n",
       "| 10 | Italy         | 70.6 | 2298 | Industrialized |\n",
       "| 11 | Japan         | 73.2 | 3292 | Industrialized |\n",
       "| 12 | Netherlands   | 73.8 | 4103 | Industrialized |\n",
       "| 13 | NewZealand    | 71.1 | 3723 | Industrialized |\n",
       "| 14 | Norway        | 73.9 | 4102 | Industrialized |\n",
       "| 15 | Portugal      | 68.1 |  956 | Industrialized |\n",
       "| 16 | South_Africa  | 68.2 |  NaN | Industrialized |\n",
       "| 17 | Sweden        | 74.7 | 5596 | Industrialized |\n",
       "| 18 | Switzerland   | 72.1 | 2963 | Industrialized |\n",
       "| 19 | Britain       | 72.0 | 2503 | Industrialized |\n",
       "| 20 | United_States | 71.3 | 5523 | Industrialized |\n",
       "| 21 | Algeria       | 50.7 |  430 | Petroleum      |\n",
       "| 22 | Ecuador       | 52.3 |  360 | Petroleum      |\n",
       "| 23 | Indonesia     | 47.5 |  110 | Petroleum      |\n",
       "| 24 | Iran          | 50.0 | 1280 | Petroleum      |\n",
       "| 25 | Iraq          | 51.6 |  560 | Petroleum      |\n",
       "| 26 | Libya         | 52.1 | 3010 | Petroleum      |\n",
       "| 27 | Nigeria       | 36.9 |  180 | Petroleum      |\n",
       "| 28 | Saudi_Arabia  | 42.3 | 1530 | Petroleum      |\n",
       "| 29 | Venezuela     | 66.4 | 1240 | Petroleum      |\n",
       "\n"
      ],
      "text/plain": [
       "   Country       Life Income Type          \n",
       "1  Australia     71.0 3426   Industrialized\n",
       "2  Austria       70.4 3350   Industrialized\n",
       "3  Belgium       70.6 3346   Industrialized\n",
       "4  Canada        72.0 4751   Industrialized\n",
       "5  Denmark       73.3 5029   Industrialized\n",
       "6  Finland       69.8 3312   Industrialized\n",
       "7  France        72.3 3403   Industrialized\n",
       "8  West_Germany  70.3 5040   Industrialized\n",
       "9  Ireland       70.7 2009   Industrialized\n",
       "10 Italy         70.6 2298   Industrialized\n",
       "11 Japan         73.2 3292   Industrialized\n",
       "12 Netherlands   73.8 4103   Industrialized\n",
       "13 NewZealand    71.1 3723   Industrialized\n",
       "14 Norway        73.9 4102   Industrialized\n",
       "15 Portugal      68.1  956   Industrialized\n",
       "16 South_Africa  68.2  NaN   Industrialized\n",
       "17 Sweden        74.7 5596   Industrialized\n",
       "18 Switzerland   72.1 2963   Industrialized\n",
       "19 Britain       72.0 2503   Industrialized\n",
       "20 United_States 71.3 5523   Industrialized\n",
       "21 Algeria       50.7  430   Petroleum     \n",
       "22 Ecuador       52.3  360   Petroleum     \n",
       "23 Indonesia     47.5  110   Petroleum     \n",
       "24 Iran          50.0 1280   Petroleum     \n",
       "25 Iraq          51.6  560   Petroleum     \n",
       "26 Libya         52.1 3010   Petroleum     \n",
       "27 Nigeria       36.9  180   Petroleum     \n",
       "28 Saudi_Arabia  42.3 1530   Petroleum     \n",
       "29 Venezuela     66.4 1240   Petroleum     "
      ]
     },
     "metadata": {},
     "output_type": "display_data"
    }
   ],
   "source": [
    "data(\"ex0327\", package = \"Sleuth2\")\n",
    "\n",
    "data <- ex0327\n",
    "data"
   ]
  },
  {
   "cell_type": "markdown",
   "id": "447614c8-e2f5-4181-8d14-d54c59fe4fd5",
   "metadata": {},
   "source": [
    "### Stručný popis datasetu"
   ]
  },
  {
   "cell_type": "markdown",
   "id": "d1653be4-70b4-432c-924b-b943e52b68de",
   "metadata": {},
   "source": [
    "Datový soubor představuje sadu dat obsahující informace o různých zemích, jejichž průměrné délce života, HDP na osobu a kategorii rozvoje. V datovém souboru jsou zastoupeny 29 zemí, včetně průmyslově rozvinutých zemí a zemí, které jsou vývozci ropy. Každý řádek odpovídá jedné zemi a sloupce obsahují informace o jejich charakteristikách. Datový soubor také obsahuje chybějící hodnotu pro délku života v Jihoafrické republice."
   ]
  },
  {
   "cell_type": "markdown",
   "id": "0504ed3d-7670-4aef-9ddb-d9af507b9040",
   "metadata": {},
   "source": [
    "Význam jednotlivých atributů:\n",
    "* **Country**: vektor znaků označující zemi\n",
    "* **Life**: průměrná délka života (roky)\n",
    "* **Income**: příjmy v roce 1974 (americké dolary)\n",
    "* **Type**: proměnná typového faktoru s úrovněmi \"Industrialized \" a\"Petroleum\""
   ]
  },
  {
   "cell_type": "markdown",
   "id": "b9102dcf-8444-4b4c-aaba-d3c3bdf5cca0",
   "metadata": {},
   "source": [
    "Vzhledem k tomu, že Jihoafrická republika nemá hodnotu příjmu, naplníme ji hodnotou z cizího zdroje ([zdroj](https://www.macrotrends.net/global-metrics/countries/ZAF/south-africa/gdp-gross-domestic-product))."
   ]
  },
  {
   "cell_type": "code",
   "execution_count": 4,
   "id": "d4b915bf-3ab5-4402-8bd7-765a54048b0c",
   "metadata": {
    "ExecuteTime": {
     "end_time": "2024-04-26T16:19:45.153675Z",
     "start_time": "2024-04-26T16:19:45.017664Z"
    }
   },
   "outputs": [
    {
     "data": {
      "text/html": [
       "<table class=\"dataframe\">\n",
       "<caption>A data.frame: 29 × 4</caption>\n",
       "<thead>\n",
       "\t<tr><th></th><th scope=col>Country</th><th scope=col>Life</th><th scope=col>Income</th><th scope=col>Type</th></tr>\n",
       "\t<tr><th></th><th scope=col>&lt;chr&gt;</th><th scope=col>&lt;dbl&gt;</th><th scope=col>&lt;dbl&gt;</th><th scope=col>&lt;fct&gt;</th></tr>\n",
       "</thead>\n",
       "<tbody>\n",
       "\t<tr><th scope=row>1</th><td>Australia    </td><td>71.0</td><td>3426</td><td>Industrialized</td></tr>\n",
       "\t<tr><th scope=row>2</th><td>Austria      </td><td>70.4</td><td>3350</td><td>Industrialized</td></tr>\n",
       "\t<tr><th scope=row>3</th><td>Belgium      </td><td>70.6</td><td>3346</td><td>Industrialized</td></tr>\n",
       "\t<tr><th scope=row>4</th><td>Canada       </td><td>72.0</td><td>4751</td><td>Industrialized</td></tr>\n",
       "\t<tr><th scope=row>5</th><td>Denmark      </td><td>73.3</td><td>5029</td><td>Industrialized</td></tr>\n",
       "\t<tr><th scope=row>6</th><td>Finland      </td><td>69.8</td><td>3312</td><td>Industrialized</td></tr>\n",
       "\t<tr><th scope=row>7</th><td>France       </td><td>72.3</td><td>3403</td><td>Industrialized</td></tr>\n",
       "\t<tr><th scope=row>8</th><td>West_Germany </td><td>70.3</td><td>5040</td><td>Industrialized</td></tr>\n",
       "\t<tr><th scope=row>9</th><td>Ireland      </td><td>70.7</td><td>2009</td><td>Industrialized</td></tr>\n",
       "\t<tr><th scope=row>10</th><td>Italy        </td><td>70.6</td><td>2298</td><td>Industrialized</td></tr>\n",
       "\t<tr><th scope=row>11</th><td>Japan        </td><td>73.2</td><td>3292</td><td>Industrialized</td></tr>\n",
       "\t<tr><th scope=row>12</th><td>Netherlands  </td><td>73.8</td><td>4103</td><td>Industrialized</td></tr>\n",
       "\t<tr><th scope=row>13</th><td>NewZealand   </td><td>71.1</td><td>3723</td><td>Industrialized</td></tr>\n",
       "\t<tr><th scope=row>14</th><td>Norway       </td><td>73.9</td><td>4102</td><td>Industrialized</td></tr>\n",
       "\t<tr><th scope=row>15</th><td>Portugal     </td><td>68.1</td><td> 956</td><td>Industrialized</td></tr>\n",
       "\t<tr><th scope=row>16</th><td>South_Africa </td><td>68.2</td><td>1650</td><td>Industrialized</td></tr>\n",
       "\t<tr><th scope=row>17</th><td>Sweden       </td><td>74.7</td><td>5596</td><td>Industrialized</td></tr>\n",
       "\t<tr><th scope=row>18</th><td>Switzerland  </td><td>72.1</td><td>2963</td><td>Industrialized</td></tr>\n",
       "\t<tr><th scope=row>19</th><td>Britain      </td><td>72.0</td><td>2503</td><td>Industrialized</td></tr>\n",
       "\t<tr><th scope=row>20</th><td>United_States</td><td>71.3</td><td>5523</td><td>Industrialized</td></tr>\n",
       "\t<tr><th scope=row>21</th><td>Algeria      </td><td>50.7</td><td> 430</td><td>Petroleum     </td></tr>\n",
       "\t<tr><th scope=row>22</th><td>Ecuador      </td><td>52.3</td><td> 360</td><td>Petroleum     </td></tr>\n",
       "\t<tr><th scope=row>23</th><td>Indonesia    </td><td>47.5</td><td> 110</td><td>Petroleum     </td></tr>\n",
       "\t<tr><th scope=row>24</th><td>Iran         </td><td>50.0</td><td>1280</td><td>Petroleum     </td></tr>\n",
       "\t<tr><th scope=row>25</th><td>Iraq         </td><td>51.6</td><td> 560</td><td>Petroleum     </td></tr>\n",
       "\t<tr><th scope=row>26</th><td>Libya        </td><td>52.1</td><td>3010</td><td>Petroleum     </td></tr>\n",
       "\t<tr><th scope=row>27</th><td>Nigeria      </td><td>36.9</td><td> 180</td><td>Petroleum     </td></tr>\n",
       "\t<tr><th scope=row>28</th><td>Saudi_Arabia </td><td>42.3</td><td>1530</td><td>Petroleum     </td></tr>\n",
       "\t<tr><th scope=row>29</th><td>Venezuela    </td><td>66.4</td><td>1240</td><td>Petroleum     </td></tr>\n",
       "</tbody>\n",
       "</table>\n"
      ],
      "text/latex": [
       "A data.frame: 29 × 4\n",
       "\\begin{tabular}{r|llll}\n",
       "  & Country & Life & Income & Type\\\\\n",
       "  & <chr> & <dbl> & <dbl> & <fct>\\\\\n",
       "\\hline\n",
       "\t1 & Australia     & 71.0 & 3426 & Industrialized\\\\\n",
       "\t2 & Austria       & 70.4 & 3350 & Industrialized\\\\\n",
       "\t3 & Belgium       & 70.6 & 3346 & Industrialized\\\\\n",
       "\t4 & Canada        & 72.0 & 4751 & Industrialized\\\\\n",
       "\t5 & Denmark       & 73.3 & 5029 & Industrialized\\\\\n",
       "\t6 & Finland       & 69.8 & 3312 & Industrialized\\\\\n",
       "\t7 & France        & 72.3 & 3403 & Industrialized\\\\\n",
       "\t8 & West\\_Germany  & 70.3 & 5040 & Industrialized\\\\\n",
       "\t9 & Ireland       & 70.7 & 2009 & Industrialized\\\\\n",
       "\t10 & Italy         & 70.6 & 2298 & Industrialized\\\\\n",
       "\t11 & Japan         & 73.2 & 3292 & Industrialized\\\\\n",
       "\t12 & Netherlands   & 73.8 & 4103 & Industrialized\\\\\n",
       "\t13 & NewZealand    & 71.1 & 3723 & Industrialized\\\\\n",
       "\t14 & Norway        & 73.9 & 4102 & Industrialized\\\\\n",
       "\t15 & Portugal      & 68.1 &  956 & Industrialized\\\\\n",
       "\t16 & South\\_Africa  & 68.2 & 1650 & Industrialized\\\\\n",
       "\t17 & Sweden        & 74.7 & 5596 & Industrialized\\\\\n",
       "\t18 & Switzerland   & 72.1 & 2963 & Industrialized\\\\\n",
       "\t19 & Britain       & 72.0 & 2503 & Industrialized\\\\\n",
       "\t20 & United\\_States & 71.3 & 5523 & Industrialized\\\\\n",
       "\t21 & Algeria       & 50.7 &  430 & Petroleum     \\\\\n",
       "\t22 & Ecuador       & 52.3 &  360 & Petroleum     \\\\\n",
       "\t23 & Indonesia     & 47.5 &  110 & Petroleum     \\\\\n",
       "\t24 & Iran          & 50.0 & 1280 & Petroleum     \\\\\n",
       "\t25 & Iraq          & 51.6 &  560 & Petroleum     \\\\\n",
       "\t26 & Libya         & 52.1 & 3010 & Petroleum     \\\\\n",
       "\t27 & Nigeria       & 36.9 &  180 & Petroleum     \\\\\n",
       "\t28 & Saudi\\_Arabia  & 42.3 & 1530 & Petroleum     \\\\\n",
       "\t29 & Venezuela     & 66.4 & 1240 & Petroleum     \\\\\n",
       "\\end{tabular}\n"
      ],
      "text/markdown": [
       "\n",
       "A data.frame: 29 × 4\n",
       "\n",
       "| <!--/--> | Country &lt;chr&gt; | Life &lt;dbl&gt; | Income &lt;dbl&gt; | Type &lt;fct&gt; |\n",
       "|---|---|---|---|---|\n",
       "| 1 | Australia     | 71.0 | 3426 | Industrialized |\n",
       "| 2 | Austria       | 70.4 | 3350 | Industrialized |\n",
       "| 3 | Belgium       | 70.6 | 3346 | Industrialized |\n",
       "| 4 | Canada        | 72.0 | 4751 | Industrialized |\n",
       "| 5 | Denmark       | 73.3 | 5029 | Industrialized |\n",
       "| 6 | Finland       | 69.8 | 3312 | Industrialized |\n",
       "| 7 | France        | 72.3 | 3403 | Industrialized |\n",
       "| 8 | West_Germany  | 70.3 | 5040 | Industrialized |\n",
       "| 9 | Ireland       | 70.7 | 2009 | Industrialized |\n",
       "| 10 | Italy         | 70.6 | 2298 | Industrialized |\n",
       "| 11 | Japan         | 73.2 | 3292 | Industrialized |\n",
       "| 12 | Netherlands   | 73.8 | 4103 | Industrialized |\n",
       "| 13 | NewZealand    | 71.1 | 3723 | Industrialized |\n",
       "| 14 | Norway        | 73.9 | 4102 | Industrialized |\n",
       "| 15 | Portugal      | 68.1 |  956 | Industrialized |\n",
       "| 16 | South_Africa  | 68.2 | 1650 | Industrialized |\n",
       "| 17 | Sweden        | 74.7 | 5596 | Industrialized |\n",
       "| 18 | Switzerland   | 72.1 | 2963 | Industrialized |\n",
       "| 19 | Britain       | 72.0 | 2503 | Industrialized |\n",
       "| 20 | United_States | 71.3 | 5523 | Industrialized |\n",
       "| 21 | Algeria       | 50.7 |  430 | Petroleum      |\n",
       "| 22 | Ecuador       | 52.3 |  360 | Petroleum      |\n",
       "| 23 | Indonesia     | 47.5 |  110 | Petroleum      |\n",
       "| 24 | Iran          | 50.0 | 1280 | Petroleum      |\n",
       "| 25 | Iraq          | 51.6 |  560 | Petroleum      |\n",
       "| 26 | Libya         | 52.1 | 3010 | Petroleum      |\n",
       "| 27 | Nigeria       | 36.9 |  180 | Petroleum      |\n",
       "| 28 | Saudi_Arabia  | 42.3 | 1530 | Petroleum      |\n",
       "| 29 | Venezuela     | 66.4 | 1240 | Petroleum      |\n",
       "\n"
      ],
      "text/plain": [
       "   Country       Life Income Type          \n",
       "1  Australia     71.0 3426   Industrialized\n",
       "2  Austria       70.4 3350   Industrialized\n",
       "3  Belgium       70.6 3346   Industrialized\n",
       "4  Canada        72.0 4751   Industrialized\n",
       "5  Denmark       73.3 5029   Industrialized\n",
       "6  Finland       69.8 3312   Industrialized\n",
       "7  France        72.3 3403   Industrialized\n",
       "8  West_Germany  70.3 5040   Industrialized\n",
       "9  Ireland       70.7 2009   Industrialized\n",
       "10 Italy         70.6 2298   Industrialized\n",
       "11 Japan         73.2 3292   Industrialized\n",
       "12 Netherlands   73.8 4103   Industrialized\n",
       "13 NewZealand    71.1 3723   Industrialized\n",
       "14 Norway        73.9 4102   Industrialized\n",
       "15 Portugal      68.1  956   Industrialized\n",
       "16 South_Africa  68.2 1650   Industrialized\n",
       "17 Sweden        74.7 5596   Industrialized\n",
       "18 Switzerland   72.1 2963   Industrialized\n",
       "19 Britain       72.0 2503   Industrialized\n",
       "20 United_States 71.3 5523   Industrialized\n",
       "21 Algeria       50.7  430   Petroleum     \n",
       "22 Ecuador       52.3  360   Petroleum     \n",
       "23 Indonesia     47.5  110   Petroleum     \n",
       "24 Iran          50.0 1280   Petroleum     \n",
       "25 Iraq          51.6  560   Petroleum     \n",
       "26 Libya         52.1 3010   Petroleum     \n",
       "27 Nigeria       36.9  180   Petroleum     \n",
       "28 Saudi_Arabia  42.3 1530   Petroleum     \n",
       "29 Venezuela     66.4 1240   Petroleum     "
      ]
     },
     "metadata": {},
     "output_type": "display_data"
    }
   ],
   "source": [
    "# Nahradíme chybějící hodnotu pro příjem v Jižní Africe hodnotou z jiného zdroje\n",
    "data[16, \"Income\"] <- 1650\n",
    "data$Income <- round(data$Income)\n",
    "data"
   ]
  },
  {
   "cell_type": "markdown",
   "id": "b36005f3-80f9-4c4e-8e48-b88a8966ebc6",
   "metadata": {},
   "source": [
    "### Základní statistiky"
   ]
  },
  {
   "cell_type": "code",
   "execution_count": 5,
   "id": "ec60616f-8b79-4550-b1be-a5036225c70c",
   "metadata": {
    "ExecuteTime": {
     "end_time": "2024-04-26T16:19:45.399373Z",
     "start_time": "2024-04-26T16:19:45.165781Z"
    }
   },
   "outputs": [
    {
     "name": "stdout",
     "output_type": "stream",
     "text": [
      "           Statistic Life_Industr Life_Petrol Income_Industr Income_Petrol\n",
      "1               Mean        71.47       49.98        3518.75        966.67\n",
      "2             Median        71.20       50.70        3376.50        560.00\n",
      "3 Standard deviation         1.77        8.05        1267.27        924.64\n",
      "4            Minimum        68.10       36.90         956.00        110.00\n",
      "5            Maximum        74.70       66.40        5596.00       3010.00\n",
      "6       Observations        20.00        9.00          20.00          9.00\n"
     ]
    }
   ],
   "source": [
    "# Oddělení dat pro každý typ země\n",
    "industrialized_countries <- subset(data, Type == \"Industrialized\")\n",
    "petroleum_countries <- subset(data, Type == \"Petroleum\")\n",
    "\n",
    "# Základní statistiky pro průmyslově rozvinuté země - Life\n",
    "mean_industrialized_life <- mean(industrialized_countries$Life, na.rm = TRUE)\n",
    "median_industrialized_life <- median(industrialized_countries$Life, na.rm = TRUE)\n",
    "sd_industrialized_life <- sd(industrialized_countries$Life, na.rm = TRUE)\n",
    "min_industrialized_life <- min(industrialized_countries$Life, na.rm = TRUE)\n",
    "max_industrialized_life <- max(industrialized_countries$Life, na.rm = TRUE)\n",
    "count_industrialized_life <- length(industrialized_countries$Life)\n",
    "\n",
    "# Základní statistiky pro země závislé na ropě - Life\n",
    "mean_petroleum_life <- mean(petroleum_countries$Life, na.rm = TRUE)\n",
    "median_petroleum_life <- median(petroleum_countries$Life, na.rm = TRUE)\n",
    "sd_petroleum_life <- sd(petroleum_countries$Life, na.rm = TRUE)\n",
    "min_petroleum_life <- min(petroleum_countries$Life, na.rm = TRUE)\n",
    "max_petroleum_life <- max(petroleum_countries$Life, na.rm = TRUE)\n",
    "count_petroleum_life <- length(petroleum_countries$Life)\n",
    "\n",
    "# Základní statistiky pro průmyslově rozvinuté země - Income\n",
    "mean_industrialized_income <- mean(industrialized_countries$Income, na.rm = TRUE)\n",
    "median_industrialized_income <- median(industrialized_countries$Income, na.rm = TRUE)\n",
    "sd_industrialized_income <- sd(industrialized_countries$Income, na.rm = TRUE)\n",
    "min_industrialized_income <- min(industrialized_countries$Income, na.rm = TRUE)\n",
    "max_industrialized_income <- max(industrialized_countries$Income, na.rm = TRUE)\n",
    "count_industrialized_income <- length(industrialized_countries$Income)\n",
    "\n",
    "# Základní statistiky pro země závislé na ropě - Income\n",
    "mean_petroleum_income <- mean(petroleum_countries$Income, na.rm = TRUE)\n",
    "median_petroleum_income <- median(petroleum_countries$Income, na.rm = TRUE)\n",
    "sd_petroleum_income <- sd(petroleum_countries$Income, na.rm = TRUE)\n",
    "min_petroleum_income <- min(petroleum_countries$Income, na.rm = TRUE)\n",
    "max_petroleum_income <- max(petroleum_countries$Income, na.rm = TRUE)\n",
    "count_petroleum_income <- length(petroleum_countries$Income)\n",
    "\n",
    "# Vytvoření tabulky pro základní statistiky\n",
    "basic_stats <- data.frame(\n",
    "  Statistic = c(\"Mean\", \"Median\", \"Standard deviation\", \"Minimum\", \"Maximum\", \"Observations\"),\n",
    "  Life_Industr = c(mean_industrialized_life, median_industrialized_life, sd_industrialized_life, min_industrialized_life, max_industrialized_life, count_industrialized_life),\n",
    "  Life_Petrol = c(mean_petroleum_life, median_petroleum_life, sd_petroleum_life, min_petroleum_life, max_petroleum_life, count_petroleum_life),\n",
    "  Income_Industr = c(mean_industrialized_income, median_industrialized_income, sd_industrialized_income, min_industrialized_income, max_industrialized_income, count_industrialized_income),\n",
    "  Income_Petrol = c(mean_petroleum_income, median_petroleum_income, sd_petroleum_income, min_petroleum_income, max_petroleum_income, count_petroleum_income)  \n",
    ")\n",
    "\n",
    "# Okrouhlení číselných sloupců na 2 desetinná místa\n",
    "basic_stats <- basic_stats %>%\n",
    "  mutate_if(is.numeric, ~round(., digits = 2))\n",
    "\n",
    "# Výpis tabulky\n",
    "print(basic_stats)"
   ]
  },
  {
   "cell_type": "markdown",
   "id": "70eec1c9-0ce7-4b09-a49d-f2bcae21a9fc",
   "metadata": {},
   "source": [
    "* Průměr (Mean):\n",
    "    * Průměrná délka života v průmyslově rozvinutých zemích je vyšší než v zemích závislých na ropě. Tento rozdíl může být způsoben lepšími sociálními a zdravotními podmínkami, které existují v průmyslově rozvinutých zemích a umožňují obyvatelům žít déle.\n",
    "    * Průměrný příjem na obyvatele v průmyslově rozvinutých zemích je výrazně vyšší než v zemích závislých na ropě. To může být důsledek vyšší úrovně ekonomického rozvoje, většího zaměstnaností a vyšší produktivity práce v průmyslově rozvinutých zemích.\n",
    "\n",
    "\n",
    "* Medián (Median):\n",
    "    * Medián délky života a příjmu na obyvatele poskytuje informace o střední hodnotě v datasetu, které nejsou ovlivněny extrémními hodnotami. Různé hodnoty mediánu v průmyslově rozvinutých zemích a zemích závislých na ropě mohou být důsledkem rozdílů v distribuci dat a míře koncentrace hodnot kolem střední hodnoty.\n",
    "\n",
    "\n",
    "* Standardní odchylka (Standard deviation):\n",
    "    * Vyšší standardní odchylka délky života ve zemích závislých na ropě naznačuje větší variabilitu v tomto ukazateli mezi těmito zeměmi. To může být způsobeno různými socioekonomickými faktory, jako jsou dostupnost zdravotní péče, životní podmínky a infrastruktura.\n",
    "    * Standardní odchylka příjmu na obyvatele je vyšší průmyslově rozvinutých zemích, což může být důsledkem rozdílů v ekonomickém rozvoji, příjmové nerovnosti a diverzifikace ekonomiky."
   ]
  },
  {
   "cell_type": "code",
   "execution_count": 6,
   "id": "bab84782-28df-4799-812a-1da90630f600",
   "metadata": {
    "ExecuteTime": {
     "end_time": "2024-04-26T16:19:47.111629Z",
     "start_time": "2024-04-26T16:19:45.415476Z"
    }
   },
   "outputs": [
    {
     "name": "stderr",
     "output_type": "stream",
     "text": [
      "Warning message:\n",
      "\"\u001b[1m\u001b[22mThe `<scale>` argument of `guides()` cannot be `FALSE`. Use \"none\" instead as of ggplot2 3.3.4.\"\n"
     ]
    },
    {
     "data": {
      "image/png": "[encoded data removed]",
      "text/plain": [
       "plot without title"
      ]
     },
     "metadata": {
      "image/png": {
       "height": 480,
       "width": 720
      }
     },
     "output_type": "display_data"
    },
    {
     "data": {
      "image/png": "[encoded data removed]",
      "text/plain": [
       "plot without title"
      ]
     },
     "metadata": {
      "image/png": {
       "height": 480,
       "width": 720
      }
     },
     "output_type": "display_data"
    }
   ],
   "source": [
    "# Průměrná délka života v průmyslově rozvinutých zemích\n",
    "ggplot(industrialized_countries, aes(x = reorder(Country, Life), y = Life, fill = \"lightblue\")) +\n",
    "  geom_bar(stat = \"identity\") +\n",
    "  labs(title = \"Average life expectancy in industrialized countries\", x = \"Country\", y = \"Average life expectancy\") +\n",
    "  theme(axis.text.x = element_text(angle = 45, hjust = 1)) +\n",
    "  scale_fill_manual(values = \"lightblue\") +\n",
    "  guides(fill = FALSE)\n",
    "\n",
    "# Průměrná délka života ve zemích závislých na ropě\n",
    "ggplot(petroleum_countries, aes(x = reorder(Country, Life), y = Life, fill = \"lightgreen\")) +\n",
    "  geom_bar(stat = \"identity\") +\n",
    "  labs(title = \"Average life expectancy in petroleum-dependent countries\", x = \"Country\", y = \"Average life expectancy\") +\n",
    "  theme(axis.text.x = element_text(angle = 45, hjust = 1)) +\n",
    "  scale_fill_manual(values = \"coral1\") +\n",
    "  guides(fill = FALSE)"
   ]
  },
  {
   "cell_type": "markdown",
   "id": "75ffac0c-7fa8-4203-a92c-de1aa1b38ecb",
   "metadata": {},
   "source": [
    "* Můžeme si všimnout zajímavé skutečnosti: nejvyšší průměrná délka života mezi zeměmi typu **Petroleum** je pod nejhorším ukazatelem mezi zeměmi typu **Industrialized**."
   ]
  },
  {
   "cell_type": "code",
   "execution_count": 7,
   "id": "bc60cb56-a867-453f-8652-ec8b085cd05c",
   "metadata": {},
   "outputs": [
    {
     "data": {
      "image/png": "[encoded data removed]",
      "text/plain": [
       "plot without title"
      ]
     },
     "metadata": {
      "image/png": {
       "height": 480,
       "width": 720
      }
     },
     "output_type": "display_data"
    },
    {
     "data": {
      "image/png": "[encoded data removed]",
      "text/plain": [
       "plot without title"
      ]
     },
     "metadata": {
      "image/png": {
       "height": 480,
       "width": 720
      }
     },
     "output_type": "display_data"
    }
   ],
   "source": [
    "# Vytvořte histogram pro atribut \"Life\" (průmyslové země)\n",
    "ggplot(data = industrialized_countries, aes(x = Life)) +\n",
    "  geom_histogram(binwidth = 1, fill = \"lightblue\", color = \"black\") +\n",
    "  labs(title = \"Histogram of Life Expectancy (Industrialized countries)\",\n",
    "       x = \"Life Expectancy (years)\",\n",
    "       y = \"Frequency\") +\n",
    "  theme_minimal()\n",
    "\n",
    "# Vytvořte histogram pro atribut \"Life\" (země vyvážející ropu)\n",
    "ggplot(data = petroleum_countries, aes(x = Life)) +\n",
    "  geom_histogram(binwidth = 2, fill = \"coral1\", color = \"black\") +\n",
    "  labs(title = \"Histogram of Life Expectancy (Petroleum exporting countries)\",\n",
    "       x = \"Life Expectancy (years)\",\n",
    "       y = \"Frequency\") +\n",
    "  theme_minimal()"
   ]
  },
  {
   "cell_type": "markdown",
   "id": "628753d6-5ea4-4679-978b-29c9100c451f",
   "metadata": {},
   "source": [
    "Na základě údajů z histogramů lze předpokládat, že vysvětlená proměnná pro konkrétní typ země může mít normální rozdělení."
   ]
  },
  {
   "cell_type": "code",
   "execution_count": 8,
   "id": "92468cda-4403-4858-a3b4-cc20e93b7122",
   "metadata": {
    "ExecuteTime": {
     "end_time": "2024-04-26T16:19:47.835386Z",
     "start_time": "2024-04-26T16:19:47.124067Z"
    }
   },
   "outputs": [
    {
     "data": {
      "image/png": "[encoded data removed]",
      "text/plain": [
       "plot without title"
      ]
     },
     "metadata": {
      "image/png": {
       "height": 480,
       "width": 720
      }
     },
     "output_type": "display_data"
    }
   ],
   "source": [
    "# Boxplot příjmů na obyvatele\n",
    "ggplot(data, aes(x = Type, y = Income, fill = Type)) +\n",
    "  geom_boxplot() +\n",
    "  labs(title = \"Boxplot of Income per capita\",\n",
    "       x = \"Country Type\",\n",
    "       y = \"Income per capita\") +\n",
    "  scale_fill_manual(values = c(\"lightblue\", \"coral1\"), \n",
    "                    breaks = c(\"Industrialized\", \"Petroleum\"), \n",
    "                    labels = c(\"Industrialized\", \"Petroleum\")) + \n",
    "  theme_minimal()"
   ]
  },
  {
   "cell_type": "markdown",
   "id": "23835148-fa3d-4b22-842e-723634abfcb0",
   "metadata": {},
   "source": [
    "Tento graf opět ukazuje, jak silná je propast mezi průmyslově vyspělými zeměmi a zeměmi závislými na ropě."
   ]
  },
  {
   "cell_type": "code",
   "execution_count": 9,
   "id": "8065d7c3-c661-439b-a276-74d92f22ba0b",
   "metadata": {
    "ExecuteTime": {
     "end_time": "2024-04-26T16:19:48.760898Z",
     "start_time": "2024-04-26T16:19:47.846421Z"
    }
   },
   "outputs": [
    {
     "data": {
      "image/png": "[encoded data removed]",
      "text/plain": [
       "plot without title"
      ]
     },
     "metadata": {
      "image/png": {
       "height": 480,
       "width": 720
      }
     },
     "output_type": "display_data"
    }
   ],
   "source": [
    "# Scatterplot délky života versus příjmu na obyvatele\n",
    "ggplot(data, aes(x = Income, y = Life, color = Type)) +\n",
    "  geom_point() +\n",
    "  labs(title = \"Scatterplot of Life Expectancy versus Income per Capita\",\n",
    "       x = \"Income per Capita\",\n",
    "       y = \"Life Expectancy\",\n",
    "       color = \"Country Type\") +\n",
    "  scale_color_manual(values = c(\"Industrialized\" = \"lightblue\", \"Petroleum\" = \"coral1\")) +\n",
    "  theme_minimal()"
   ]
  },
  {
   "cell_type": "markdown",
   "id": "24a4aee1-fc29-46e1-92c3-cea962b52df2",
   "metadata": {},
   "source": [
    "Tento graf označuje závislost, která bude hlavním tématem v příštím úkolu."
   ]
  },
  {
   "cell_type": "markdown",
   "id": "2d94534e-e144-40c0-b6cc-c36021942d91",
   "metadata": {},
   "source": [
    "## Zkoumání numerického regresoru"
   ]
  },
  {
   "cell_type": "markdown",
   "id": "57183b87-5984-44d5-8966-e9a658197521",
   "metadata": {},
   "source": [
    "Vzhledem k tomu, že průměrný příjem je jediným numerickým atributem v našem datasetu, nemáme jinou možnost než si jej vybrat.\n",
    "\n",
    "Z předchozího grafu je patrné, že hodnota průměrné délky života roste s rostoucím průměrným příjmem, což je vcelku logické."
   ]
  },
  {
   "cell_type": "markdown",
   "id": "2cc89317-0169-4696-9492-60cdbfc5f88f",
   "metadata": {},
   "source": [
    "* Nyní pokusíme rovnou vložit regresní polynom do dat na obrázku.\n",
    "* Zkusíme více různých variant modelu."
   ]
  },
  {
   "cell_type": "code",
   "execution_count": 10,
   "id": "6f708a0a-4346-40ef-8b51-8953d4f9a65c",
   "metadata": {
    "ExecuteTime": {
     "end_time": "2024-04-26T16:19:50.887981Z",
     "start_time": "2024-04-26T16:19:48.773736Z"
    }
   },
   "outputs": [
    {
     "data": {
      "image/png": "[encoded data removed]",
      "text/plain": [
       "plot without title"
      ]
     },
     "metadata": {
      "image/png": {
       "height": 480,
       "width": 720
      }
     },
     "output_type": "display_data"
    }
   ],
   "source": [
    "# Life = Intercept + Income\n",
    "ggplot(data, aes(x=Income, y=Life)) +\n",
    "    geom_point() +\n",
    "    stat_smooth(method=\"lm\", formula=y~x)"
   ]
  },
  {
   "cell_type": "code",
   "execution_count": 11,
   "id": "8066d8b7-f947-4217-8f30-e85a31d2eea6",
   "metadata": {
    "ExecuteTime": {
     "end_time": "2024-04-26T16:19:51.416290Z",
     "start_time": "2024-04-26T16:19:50.898099Z"
    }
   },
   "outputs": [
    {
     "data": {
      "image/png": "[encoded data removed]",
      "text/plain": [
       "plot without title"
      ]
     },
     "metadata": {
      "image/png": {
       "height": 480,
       "width": 720
      }
     },
     "output_type": "display_data"
    }
   ],
   "source": [
    "# Life = Intercept + Income + Income^2\n",
    "ggplot(data, aes(x=Income, y=Life)) +\n",
    "    geom_point() +\n",
    "    stat_smooth(method=\"lm\", formula=y~x + I(x^2))"
   ]
  },
  {
   "cell_type": "code",
   "execution_count": 12,
   "id": "7e9e017f-54f9-44e5-916e-e818a9c58f36",
   "metadata": {
    "ExecuteTime": {
     "end_time": "2024-04-26T16:19:51.986495Z",
     "start_time": "2024-04-26T16:19:51.422936Z"
    }
   },
   "outputs": [
    {
     "data": {
      "image/png": "[encoded data removed]",
      "text/plain": [
       "plot without title"
      ]
     },
     "metadata": {
      "image/png": {
       "height": 480,
       "width": 720
      }
     },
     "output_type": "display_data"
    }
   ],
   "source": [
    "# Life = Intercept + sqrt(Income)\n",
    "ggplot(data, aes(x=Income, y=Life)) +\n",
    "    geom_point() +\n",
    "    stat_smooth(method=\"lm\", formula=y~sqrt(x))"
   ]
  },
  {
   "cell_type": "code",
   "execution_count": 13,
   "id": "3a384f91-8e91-4ac7-aee5-0048907f7783",
   "metadata": {
    "ExecuteTime": {
     "end_time": "2024-04-26T16:19:52.556462Z",
     "start_time": "2024-04-26T16:19:51.996025Z"
    }
   },
   "outputs": [
    {
     "data": {
      "image/png": "[encoded data removed]",
      "text/plain": [
       "plot without title"
      ]
     },
     "metadata": {
      "image/png": {
       "height": 480,
       "width": 720
      }
     },
     "output_type": "display_data"
    }
   ],
   "source": [
    "# Life = Intercept + Income + Income^2 + Income^3\n",
    "ggplot(data, aes(x=Income, y=Life)) +\n",
    "    geom_point() +\n",
    "    stat_smooth(method=\"lm\", formula=y~x + I(x^2) + I(x^3))"
   ]
  },
  {
   "cell_type": "markdown",
   "id": "5de1d8ae-4b6f-4dab-8648-c9eb6256e31c",
   "metadata": {},
   "source": [
    "* Poslední možnost vypadá lépe než všechny ostatní, protože poměrně přirozeně naznačuje závislost mezi průměrným příjmem a průměrnou délkou života.\n",
    "* Poukazuje na to, jak s rostoucím průměrným příjmem roste průměrná délka života.\n",
    "* Na základě těchto pozorování lze usoudit, že graf prokazuje pozitivní vztah mezi příjmem a délkou života.\n",
    "* Jak ukazuje graf, s rostoucím příjmem se průměrná délka života zvyšuje. Tento trend je očekávaný, protože vyšší příjem obvykle umožňuje lidem život v lepších podmínkách, což vede k delšímu životu.\n",
    "* Přímka však neroste příliš rychle, což zas odpovídá realitě (lidé bohužel nebo naštěstí nežijí 150 let)."
   ]
  },
  {
   "cell_type": "markdown",
   "id": "1af1cd20-dc79-4d80-b3b4-675b567b2972",
   "metadata": {},
   "source": [
    "Nyní můžeme nafitovat model (odhadnout parametry) a připravit predikce, abychom v budoucnu vykreslili predikční interval modelu."
   ]
  },
  {
   "cell_type": "code",
   "execution_count": 14,
   "id": "7931d52e-ee4f-4b8e-af15-aedb11532cc1",
   "metadata": {
    "ExecuteTime": {
     "end_time": "2024-04-26T16:19:52.700040Z",
     "start_time": "2024-04-26T16:19:52.567796Z"
    },
    "scrolled": true
   },
   "outputs": [
    {
     "name": "stderr",
     "output_type": "stream",
     "text": [
      "Warning message in predict.lm(fit, interval = \"prediction\"):\n",
      "\"predictions on current data refer to _future_ responses\n",
      "\"\n"
     ]
    },
    {
     "data": {
      "text/html": [
       "<table class=\"dataframe\">\n",
       "<caption>A data.frame: 29 × 6</caption>\n",
       "<thead>\n",
       "\t<tr><th></th><th scope=col>Country</th><th scope=col>Life</th><th scope=col>Income</th><th scope=col>fit</th><th scope=col>lwr</th><th scope=col>upr</th></tr>\n",
       "\t<tr><th></th><th scope=col>&lt;chr&gt;</th><th scope=col>&lt;dbl&gt;</th><th scope=col>&lt;dbl&gt;</th><th scope=col>&lt;dbl&gt;</th><th scope=col>&lt;dbl&gt;</th><th scope=col>&lt;dbl&gt;</th></tr>\n",
       "</thead>\n",
       "<tbody>\n",
       "\t<tr><th scope=row>1</th><td>Australia    </td><td>71.0</td><td>3426</td><td>70.54741</td><td>55.68414</td><td>85.41068</td></tr>\n",
       "\t<tr><th scope=row>2</th><td>Austria      </td><td>70.4</td><td>3350</td><td>70.39145</td><td>55.55013</td><td>85.23278</td></tr>\n",
       "\t<tr><th scope=row>3</th><td>Belgium      </td><td>70.6</td><td>3346</td><td>70.38294</td><td>55.54270</td><td>85.22319</td></tr>\n",
       "\t<tr><th scope=row>4</th><td>Canada       </td><td>72.0</td><td>4751</td><td>72.17383</td><td>57.04672</td><td>87.30094</td></tr>\n",
       "\t<tr><th scope=row>5</th><td>Denmark      </td><td>73.3</td><td>5029</td><td>72.44138</td><td>57.18474</td><td>87.69801</td></tr>\n",
       "\t<tr><th scope=row>6</th><td>Finland      </td><td>69.8</td><td>3312</td><td>70.30936</td><td>55.47789</td><td>85.14082</td></tr>\n",
       "\t<tr><th scope=row>7</th><td>France       </td><td>72.3</td><td>3403</td><td>70.50134</td><td>55.64501</td><td>85.35768</td></tr>\n",
       "\t<tr><th scope=row>8</th><td>West_Germany </td><td>70.3</td><td>5040</td><td>72.45273</td><td>57.18582</td><td>87.71964</td></tr>\n",
       "\t<tr><th scope=row>9</th><td>Ireland      </td><td>70.7</td><td>2009</td><td>65.20809</td><td>50.10936</td><td>80.30683</td></tr>\n",
       "\t<tr><th scope=row>10</th><td>Italy        </td><td>70.6</td><td>2298</td><td>66.80065</td><td>51.82865</td><td>81.77264</td></tr>\n",
       "\t<tr><th scope=row>11</th><td>Japan        </td><td>73.2</td><td>3292</td><td>70.26500</td><td>55.43839</td><td>85.09162</td></tr>\n",
       "\t<tr><th scope=row>12</th><td>Netherlands  </td><td>73.8</td><td>4103</td><td>71.55336</td><td>56.47803</td><td>86.62868</td></tr>\n",
       "\t<tr><th scope=row>13</th><td>NewZealand   </td><td>71.1</td><td>3723</td><td>71.06297</td><td>56.09819</td><td>86.02774</td></tr>\n",
       "\t<tr><th scope=row>14</th><td>Norway       </td><td>73.9</td><td>4102</td><td>71.55225</td><td>56.47713</td><td>86.62737</td></tr>\n",
       "\t<tr><th scope=row>15</th><td>Portugal     </td><td>68.1</td><td> 956</td><td>56.34278</td><td>41.29168</td><td>71.39389</td></tr>\n",
       "\t<tr><th scope=row>16</th><td>South_Africa </td><td>68.2</td><td>1650</td><td>62.76631</td><td>47.56966</td><td>77.96296</td></tr>\n",
       "\t<tr><th scope=row>17</th><td>Sweden       </td><td>74.7</td><td>5596</td><td>73.16986</td><td>56.21634</td><td>90.12338</td></tr>\n",
       "\t<tr><th scope=row>18</th><td>Switzerland  </td><td>72.1</td><td>2963</td><td>69.41111</td><td>54.62238</td><td>84.19984</td></tr>\n",
       "\t<tr><th scope=row>19</th><td>Britain      </td><td>72.0</td><td>2503</td><td>67.75031</td><td>52.86404</td><td>82.63659</td></tr>\n",
       "\t<tr><th scope=row>20</th><td>United_States</td><td>71.3</td><td>5523</td><td>73.05529</td><td>56.50429</td><td>89.60630</td></tr>\n",
       "\t<tr><th scope=row>21</th><td>Algeria      </td><td>50.7</td><td> 430</td><td>49.72323</td><td>34.44733</td><td>64.99913</td></tr>\n",
       "\t<tr><th scope=row>22</th><td>Ecuador      </td><td>52.3</td><td> 360</td><td>48.71490</td><td>33.28812</td><td>64.14169</td></tr>\n",
       "\t<tr><th scope=row>23</th><td>Indonesia    </td><td>47.5</td><td> 110</td><td>44.85236</td><td>28.44303</td><td>61.26169</td></tr>\n",
       "\t<tr><th scope=row>24</th><td>Iran         </td><td>50.0</td><td>1280</td><td>59.64309</td><td>44.48009</td><td>74.80608</td></tr>\n",
       "\t<tr><th scope=row>25</th><td>Iraq         </td><td>51.6</td><td> 560</td><td>51.51386</td><td>36.41345</td><td>66.61426</td></tr>\n",
       "\t<tr><th scope=row>26</th><td>Libya        </td><td>52.1</td><td>3010</td><td>69.54845</td><td>54.75972</td><td>84.33718</td></tr>\n",
       "\t<tr><th scope=row>27</th><td>Nigeria      </td><td>36.9</td><td> 180</td><td>45.97583</td><td>29.92224</td><td>62.02942</td></tr>\n",
       "\t<tr><th scope=row>28</th><td>Saudi_Arabia </td><td>42.3</td><td>1530</td><td>61.82446</td><td>46.62244</td><td>77.02648</td></tr>\n",
       "\t<tr><th scope=row>29</th><td>Venezuela    </td><td>66.4</td><td>1240</td><td>59.26538</td><td>44.11415</td><td>74.41661</td></tr>\n",
       "</tbody>\n",
       "</table>\n"
      ],
      "text/latex": [
       "A data.frame: 29 × 6\n",
       "\\begin{tabular}{r|llllll}\n",
       "  & Country & Life & Income & fit & lwr & upr\\\\\n",
       "  & <chr> & <dbl> & <dbl> & <dbl> & <dbl> & <dbl>\\\\\n",
       "\\hline\n",
       "\t1 & Australia     & 71.0 & 3426 & 70.54741 & 55.68414 & 85.41068\\\\\n",
       "\t2 & Austria       & 70.4 & 3350 & 70.39145 & 55.55013 & 85.23278\\\\\n",
       "\t3 & Belgium       & 70.6 & 3346 & 70.38294 & 55.54270 & 85.22319\\\\\n",
       "\t4 & Canada        & 72.0 & 4751 & 72.17383 & 57.04672 & 87.30094\\\\\n",
       "\t5 & Denmark       & 73.3 & 5029 & 72.44138 & 57.18474 & 87.69801\\\\\n",
       "\t6 & Finland       & 69.8 & 3312 & 70.30936 & 55.47789 & 85.14082\\\\\n",
       "\t7 & France        & 72.3 & 3403 & 70.50134 & 55.64501 & 85.35768\\\\\n",
       "\t8 & West\\_Germany  & 70.3 & 5040 & 72.45273 & 57.18582 & 87.71964\\\\\n",
       "\t9 & Ireland       & 70.7 & 2009 & 65.20809 & 50.10936 & 80.30683\\\\\n",
       "\t10 & Italy         & 70.6 & 2298 & 66.80065 & 51.82865 & 81.77264\\\\\n",
       "\t11 & Japan         & 73.2 & 3292 & 70.26500 & 55.43839 & 85.09162\\\\\n",
       "\t12 & Netherlands   & 73.8 & 4103 & 71.55336 & 56.47803 & 86.62868\\\\\n",
       "\t13 & NewZealand    & 71.1 & 3723 & 71.06297 & 56.09819 & 86.02774\\\\\n",
       "\t14 & Norway        & 73.9 & 4102 & 71.55225 & 56.47713 & 86.62737\\\\\n",
       "\t15 & Portugal      & 68.1 &  956 & 56.34278 & 41.29168 & 71.39389\\\\\n",
       "\t16 & South\\_Africa  & 68.2 & 1650 & 62.76631 & 47.56966 & 77.96296\\\\\n",
       "\t17 & Sweden        & 74.7 & 5596 & 73.16986 & 56.21634 & 90.12338\\\\\n",
       "\t18 & Switzerland   & 72.1 & 2963 & 69.41111 & 54.62238 & 84.19984\\\\\n",
       "\t19 & Britain       & 72.0 & 2503 & 67.75031 & 52.86404 & 82.63659\\\\\n",
       "\t20 & United\\_States & 71.3 & 5523 & 73.05529 & 56.50429 & 89.60630\\\\\n",
       "\t21 & Algeria       & 50.7 &  430 & 49.72323 & 34.44733 & 64.99913\\\\\n",
       "\t22 & Ecuador       & 52.3 &  360 & 48.71490 & 33.28812 & 64.14169\\\\\n",
       "\t23 & Indonesia     & 47.5 &  110 & 44.85236 & 28.44303 & 61.26169\\\\\n",
       "\t24 & Iran          & 50.0 & 1280 & 59.64309 & 44.48009 & 74.80608\\\\\n",
       "\t25 & Iraq          & 51.6 &  560 & 51.51386 & 36.41345 & 66.61426\\\\\n",
       "\t26 & Libya         & 52.1 & 3010 & 69.54845 & 54.75972 & 84.33718\\\\\n",
       "\t27 & Nigeria       & 36.9 &  180 & 45.97583 & 29.92224 & 62.02942\\\\\n",
       "\t28 & Saudi\\_Arabia  & 42.3 & 1530 & 61.82446 & 46.62244 & 77.02648\\\\\n",
       "\t29 & Venezuela     & 66.4 & 1240 & 59.26538 & 44.11415 & 74.41661\\\\\n",
       "\\end{tabular}\n"
      ],
      "text/markdown": [
       "\n",
       "A data.frame: 29 × 6\n",
       "\n",
       "| <!--/--> | Country &lt;chr&gt; | Life &lt;dbl&gt; | Income &lt;dbl&gt; | fit &lt;dbl&gt; | lwr &lt;dbl&gt; | upr &lt;dbl&gt; |\n",
       "|---|---|---|---|---|---|---|\n",
       "| 1 | Australia     | 71.0 | 3426 | 70.54741 | 55.68414 | 85.41068 |\n",
       "| 2 | Austria       | 70.4 | 3350 | 70.39145 | 55.55013 | 85.23278 |\n",
       "| 3 | Belgium       | 70.6 | 3346 | 70.38294 | 55.54270 | 85.22319 |\n",
       "| 4 | Canada        | 72.0 | 4751 | 72.17383 | 57.04672 | 87.30094 |\n",
       "| 5 | Denmark       | 73.3 | 5029 | 72.44138 | 57.18474 | 87.69801 |\n",
       "| 6 | Finland       | 69.8 | 3312 | 70.30936 | 55.47789 | 85.14082 |\n",
       "| 7 | France        | 72.3 | 3403 | 70.50134 | 55.64501 | 85.35768 |\n",
       "| 8 | West_Germany  | 70.3 | 5040 | 72.45273 | 57.18582 | 87.71964 |\n",
       "| 9 | Ireland       | 70.7 | 2009 | 65.20809 | 50.10936 | 80.30683 |\n",
       "| 10 | Italy         | 70.6 | 2298 | 66.80065 | 51.82865 | 81.77264 |\n",
       "| 11 | Japan         | 73.2 | 3292 | 70.26500 | 55.43839 | 85.09162 |\n",
       "| 12 | Netherlands   | 73.8 | 4103 | 71.55336 | 56.47803 | 86.62868 |\n",
       "| 13 | NewZealand    | 71.1 | 3723 | 71.06297 | 56.09819 | 86.02774 |\n",
       "| 14 | Norway        | 73.9 | 4102 | 71.55225 | 56.47713 | 86.62737 |\n",
       "| 15 | Portugal      | 68.1 |  956 | 56.34278 | 41.29168 | 71.39389 |\n",
       "| 16 | South_Africa  | 68.2 | 1650 | 62.76631 | 47.56966 | 77.96296 |\n",
       "| 17 | Sweden        | 74.7 | 5596 | 73.16986 | 56.21634 | 90.12338 |\n",
       "| 18 | Switzerland   | 72.1 | 2963 | 69.41111 | 54.62238 | 84.19984 |\n",
       "| 19 | Britain       | 72.0 | 2503 | 67.75031 | 52.86404 | 82.63659 |\n",
       "| 20 | United_States | 71.3 | 5523 | 73.05529 | 56.50429 | 89.60630 |\n",
       "| 21 | Algeria       | 50.7 |  430 | 49.72323 | 34.44733 | 64.99913 |\n",
       "| 22 | Ecuador       | 52.3 |  360 | 48.71490 | 33.28812 | 64.14169 |\n",
       "| 23 | Indonesia     | 47.5 |  110 | 44.85236 | 28.44303 | 61.26169 |\n",
       "| 24 | Iran          | 50.0 | 1280 | 59.64309 | 44.48009 | 74.80608 |\n",
       "| 25 | Iraq          | 51.6 |  560 | 51.51386 | 36.41345 | 66.61426 |\n",
       "| 26 | Libya         | 52.1 | 3010 | 69.54845 | 54.75972 | 84.33718 |\n",
       "| 27 | Nigeria       | 36.9 |  180 | 45.97583 | 29.92224 | 62.02942 |\n",
       "| 28 | Saudi_Arabia  | 42.3 | 1530 | 61.82446 | 46.62244 | 77.02648 |\n",
       "| 29 | Venezuela     | 66.4 | 1240 | 59.26538 | 44.11415 | 74.41661 |\n",
       "\n"
      ],
      "text/plain": [
       "   Country       Life Income fit      lwr      upr     \n",
       "1  Australia     71.0 3426   70.54741 55.68414 85.41068\n",
       "2  Austria       70.4 3350   70.39145 55.55013 85.23278\n",
       "3  Belgium       70.6 3346   70.38294 55.54270 85.22319\n",
       "4  Canada        72.0 4751   72.17383 57.04672 87.30094\n",
       "5  Denmark       73.3 5029   72.44138 57.18474 87.69801\n",
       "6  Finland       69.8 3312   70.30936 55.47789 85.14082\n",
       "7  France        72.3 3403   70.50134 55.64501 85.35768\n",
       "8  West_Germany  70.3 5040   72.45273 57.18582 87.71964\n",
       "9  Ireland       70.7 2009   65.20809 50.10936 80.30683\n",
       "10 Italy         70.6 2298   66.80065 51.82865 81.77264\n",
       "11 Japan         73.2 3292   70.26500 55.43839 85.09162\n",
       "12 Netherlands   73.8 4103   71.55336 56.47803 86.62868\n",
       "13 NewZealand    71.1 3723   71.06297 56.09819 86.02774\n",
       "14 Norway        73.9 4102   71.55225 56.47713 86.62737\n",
       "15 Portugal      68.1  956   56.34278 41.29168 71.39389\n",
       "16 South_Africa  68.2 1650   62.76631 47.56966 77.96296\n",
       "17 Sweden        74.7 5596   73.16986 56.21634 90.12338\n",
       "18 Switzerland   72.1 2963   69.41111 54.62238 84.19984\n",
       "19 Britain       72.0 2503   67.75031 52.86404 82.63659\n",
       "20 United_States 71.3 5523   73.05529 56.50429 89.60630\n",
       "21 Algeria       50.7  430   49.72323 34.44733 64.99913\n",
       "22 Ecuador       52.3  360   48.71490 33.28812 64.14169\n",
       "23 Indonesia     47.5  110   44.85236 28.44303 61.26169\n",
       "24 Iran          50.0 1280   59.64309 44.48009 74.80608\n",
       "25 Iraq          51.6  560   51.51386 36.41345 66.61426\n",
       "26 Libya         52.1 3010   69.54845 54.75972 84.33718\n",
       "27 Nigeria       36.9  180   45.97583 29.92224 62.02942\n",
       "28 Saudi_Arabia  42.3 1530   61.82446 46.62244 77.02648\n",
       "29 Venezuela     66.4 1240   59.26538 44.11415 74.41661"
      ]
     },
     "metadata": {},
     "output_type": "display_data"
    }
   ],
   "source": [
    "fit <- lm(Life ~ Income + I(Income^2) + I(Income^3), data=data)\n",
    "tmp <- predict(fit, interval=\"prediction\")\n",
    "predict <- cbind(data, tmp)\n",
    "predict$Type = NULL\n",
    "predict"
   ]
  },
  {
   "cell_type": "code",
   "execution_count": 15,
   "id": "22167429-4280-42ed-8d70-f8b655ea91f5",
   "metadata": {
    "ExecuteTime": {
     "end_time": "2024-04-26T16:19:53.125153Z",
     "start_time": "2024-04-26T16:19:52.711143Z"
    }
   },
   "outputs": [
    {
     "data": {
      "image/png": "[encoded data removed]",
      "text/plain": [
       "plot without title"
      ]
     },
     "metadata": {
      "image/png": {
       "height": 480,
       "width": 720
      }
     },
     "output_type": "display_data"
    }
   ],
   "source": [
    "# Calculate distances from each point to the regression line\n",
    "predict <- predict %>%\n",
    "  mutate(residual = Life - fit)\n",
    "\n",
    "# Sort points by decreasing distance\n",
    "predict <- predict %>%\n",
    "  arrange(desc(abs(residual)))\n",
    "\n",
    "# Select top 3 outliers with largest distances\n",
    "top_3_outliers <- head(predict, 3)\n",
    "\n",
    "# Create the plot with points and model lines\n",
    "ggplot(predict, aes(x = Income, y = Life)) +\n",
    "  geom_point() +\n",
    "  geom_line(aes(y = fit), color = \"blue\") +\n",
    "  geom_line(aes(y = lwr), color = \"red\", linetype = \"dashed\") +\n",
    "  geom_line(aes(y = upr), color = \"red\", linetype = \"dashed\") +\n",
    "  # Add labels to the selected points\n",
    "  geom_text(data = top_3_outliers, aes(label = Country), hjust = -0.2, vjust = -0.5, size = 3, color = \"black\") +\n",
    "  labs(title = \"Regression with Outliers\", x = \"Income\", y = \"Life\")\n"
   ]
  },
  {
   "cell_type": "markdown",
   "id": "93f6dfb3-c9b8-438f-9b26-efa52df922cf",
   "metadata": {},
   "source": [
    "* Z grafu vyplývá, že poměrně hodně bodů leží relativně daleko od přímky, což nám nehraje do karet.\n",
    "* Také na grafu jsou podepsány země, které jsou nejdále od přímky (Portugal, Libya, Saudi Arabia). "
   ]
  },
  {
   "cell_type": "code",
   "execution_count": 16,
   "id": "a80e9aff-40ca-435f-88b8-08614ef3f91b",
   "metadata": {
    "ExecuteTime": {
     "end_time": "2024-04-26T16:19:53.289007Z",
     "start_time": "2024-04-26T16:19:53.135806Z"
    }
   },
   "outputs": [
    {
     "data": {
      "image/png": "[encoded data removed]",
      "text/plain": [
       "Plot with title \"\""
      ]
     },
     "metadata": {
      "image/png": {
       "height": 480,
       "width": 720
      }
     },
     "output_type": "display_data"
    }
   ],
   "source": [
    "plot(fit, which=4, col=c(\"blue\"))"
   ]
  },
  {
   "cell_type": "markdown",
   "id": "5bcae934-a2eb-4837-b220-c78296970b69",
   "metadata": {},
   "source": [
    "* Tento graf popisuje Cookovou vzdálenost, která indikuje míru vlivu jednotlivých pozorování na hodnoty odhadů parametrů modelu.\n",
    "* Vyjadřuje také outlaery, které silně ovlivňují hodnoty parametrů modelu (\"silně táhnou přímku směrem k sobě\") a tím mohou výrazně zhoršit model. "
   ]
  },
  {
   "cell_type": "code",
   "execution_count": 17,
   "id": "4512aa30-dc95-44bc-9722-76dfec471049",
   "metadata": {
    "ExecuteTime": {
     "end_time": "2024-04-26T16:19:53.388763Z",
     "start_time": "2024-04-26T16:19:53.298778Z"
    }
   },
   "outputs": [
    {
     "data": {
      "text/plain": [
       "\n",
       "Call:\n",
       "lm(formula = Life ~ Income + I(Income^2) + I(Income^3), data = data)\n",
       "\n",
       "Residuals:\n",
       "     Min       1Q   Median       3Q      Max \n",
       "-19.5245  -0.1738   0.9768   2.9350  11.7572 \n",
       "\n",
       "Coefficients:\n",
       "              Estimate Std. Error t value Pr(>|t|)    \n",
       "(Intercept)  4.302e+01  4.574e+00   9.406 1.09e-09 ***\n",
       "Income       1.705e-02  7.685e-03   2.218   0.0359 *  \n",
       "I(Income^2) -3.494e-06  3.202e-06  -1.091   0.2857    \n",
       "I(Income^3)  2.520e-10  3.674e-10   0.686   0.4991    \n",
       "---\n",
       "Signif. codes:  0 '***' 0.001 '**' 0.01 '*' 0.05 '.' 0.1 ' ' 1\n",
       "\n",
       "Residual standard error: 6.94 on 25 degrees of freedom\n",
       "Multiple R-squared:  0.6505,\tAdjusted R-squared:  0.6086 \n",
       "F-statistic: 15.51 on 3 and 25 DF,  p-value: 6.628e-06\n"
      ]
     },
     "metadata": {},
     "output_type": "display_data"
    }
   ],
   "source": [
    "summary(fit)"
   ]
  },
  {
   "cell_type": "markdown",
   "id": "42c05aa2-2209-4fe6-9a31-c8809f02af51",
   "metadata": {},
   "source": [
    "=====================================================================================\n",
    "1. Odhady regresních koeficientů:\n",
    "    * Intercept ((Intercept)): Odhadovaná hodnota délky života, když příjem na obyvatele = 0, je přibližně 43.02.\n",
    "    * Příjem na obyvatele (Income): S p-hodnotou koeficientu příjmu (p = 0,036), která je nižší než konvenční úroveň významnosti (0,05), existuje statisticky významný vztah mezi příjmem na obyvatele a očekávanou délkou života.\n",
    "    * Kvadratický člen příjmu (I(Income^2)): Koeficient kvadratického členu příjmu není statisticky významný (p = 0.29), což naznačuje, že kvadratický vliv příjmu na délku života není podstatný.\n",
    "    * Kubický člen příjmu (I(Income^3)): Koeficient kubického členu příjmu také není statisticky významný (p = 0.50), což naznačuje, že kubický vliv příjmu na délku života není podstatný.\n",
    "\n",
    "2. Kvalita modelu:\n",
    "    * Rozptyl reziduí: Standardní chyba reziduí je přibližně 6.94.\n",
    "    * R-squared a Adjusted R-squared: Model vysvětluje přibližně 65.05% variace v délce života. Adjusted R-squared, který bere v úvahu počet prediktorů, je přibližně 60.86%.\n",
    "    * F-statistic: F-statistika pro celkový model je 15.51 s p-hodnotou 6.628e-06, což naznačuje, že aspoň jeden z regresních koeficientů není nulový.\n",
    "\n",
    "3. Statistická významnost:\n",
    "    * Intercept a příjem na obyvatele jsou statisticky významné na hladině významnosti 0.05.\n",
    "    * Kvadratický a kubický člen příjmu nejsou statisticky významné na hladině významnosti 0.05."
   ]
  },
  {
   "cell_type": "code",
   "execution_count": 18,
   "id": "dfde94b3-a5d7-49b6-8213-31357dfcabd3",
   "metadata": {
    "ExecuteTime": {
     "end_time": "2024-04-26T16:19:53.454727Z",
     "start_time": "2024-04-26T16:19:53.399069Z"
    }
   },
   "outputs": [
    {
     "data": {
      "text/plain": [
       "\n",
       "Call:\n",
       "lm(formula = Life ~ Income + I(Income^2), data = data)\n",
       "\n",
       "Residuals:\n",
       "     Min       1Q   Median       3Q      Max \n",
       "-18.2607  -0.8426   0.6428   3.0196  12.6206 \n",
       "\n",
       "Coefficients:\n",
       "              Estimate Std. Error t value Pr(>|t|)    \n",
       "(Intercept)  4.508e+01  3.413e+00  13.210 4.84e-13 ***\n",
       "Income       1.214e-02  2.792e-03   4.349 0.000187 ***\n",
       "I(Income^2) -1.324e-06  4.907e-07  -2.697 0.012110 *  \n",
       "---\n",
       "Signif. codes:  0 '***' 0.001 '**' 0.01 '*' 0.05 '.' 0.1 ' ' 1\n",
       "\n",
       "Residual standard error: 6.869 on 26 degrees of freedom\n",
       "Multiple R-squared:  0.6439,\tAdjusted R-squared:  0.6166 \n",
       "F-statistic: 23.51 on 2 and 26 DF,  p-value: 1.478e-06\n"
      ]
     },
     "metadata": {},
     "output_type": "display_data"
    }
   ],
   "source": [
    "fit <- lm(Life ~ Income + I(Income^2), data=data)\n",
    "summary(fit)"
   ]
  },
  {
   "cell_type": "markdown",
   "id": "94a3fdb9-e2c7-4112-b8a3-6fd826d197b1",
   "metadata": {},
   "source": [
    "=====================================================================================\n",
    "\n",
    "Po odstranění kubického členu z modelu došlo ke změně výsledků následovně:\n",
    "\n",
    "* Koeficienty: Koeficienty pro Příjem a Příjem^2 zůstaly v modelu. Nicméně koeficient pro Příjem^2 se stal statisticky významným (p = 0.012), zatímco koeficient pro Příjem zůstal významný (p = 0.0002).\n",
    "\n",
    "* Hodnota R-kvadrátu: Hodnota R-kvadrátu zůstala téměř nezměněna (0.6439 po odstranění kubického členu ve srovnání s 0.6505 před odstraněním).\n",
    "\n",
    "* F-statistika a p-hodnota: Hodnota F-statistiky se zvýšila, což naznačuje, že model je významnější.\n",
    "\n",
    "Tím, že jsme se zbavili kubického člena, jsme model trochu vylepšili, ale stále nemohu nazvat tento model v našem případě opravdu dobrým. Chyby předpovědi jsou dostatečně velké, dataset má málo dat a jsou přítomny outliery, takže je třeba ještě zapracovat pro získání lepšího modelu."
   ]
  },
  {
   "cell_type": "markdown",
   "id": "0a4cde86-bb29-4b6e-984b-7806d0ec5884",
   "metadata": {},
   "source": [
    "## Zkoumání kategorického regresoru"
   ]
  },
  {
   "cell_type": "markdown",
   "id": "37dcfc40-f38d-4196-ba76-b88aa8a01074",
   "metadata": {},
   "source": [
    "Vykresleme histogram pro Life dohromady i zvlášť v závislosti na jednotlivých typech zemí.\n",
    "\n",
    "Stejně jak u boxplotu vidíme silnou je propast mezi průmyslově vyspělými zeměmi a zeměmi závislými na ropě."
   ]
  },
  {
   "cell_type": "code",
   "execution_count": 19,
   "id": "841c539a-9021-47a0-bae5-6d784c022170",
   "metadata": {
    "ExecuteTime": {
     "end_time": "2024-04-26T16:19:53.649882Z",
     "start_time": "2024-04-26T16:19:53.467745Z"
    }
   },
   "outputs": [
    {
     "data": {
      "image/png": "[encoded data removed]",
      "text/plain": [
       "Plot with title \"Petroleum country\""
      ]
     },
     "metadata": {
      "image/png": {
       "height": 480,
       "width": 720
      }
     },
     "output_type": "display_data"
    }
   ],
   "source": [
    "par(mfrow=c(1,3)) \n",
    "hist(data$Life,prob=T,xlim=c(30,80),cex.main=1.5)\n",
    "hist(subset(data$Life,data$Type=='Industrialized'),prob=T,col=\"red\",xlim=c(60,80),main='Industrialized country',cex.main=1.5)\n",
    "hist(subset(data$Life,data$Type=='Petroleum'),prob=T,col=\"green\",xlim=c(30,80),main='Petroleum country',cex.main=1.5)"
   ]
  },
  {
   "cell_type": "markdown",
   "id": "b695781f-cb0f-4f33-b7f5-835126fa6cd8",
   "metadata": {},
   "source": [
    "#### Model\n",
    "\n",
    "##### Interpretace regresních koeficientů:\n",
    "* Intercept: když je země typu Industrialized, očekáváme průměrnou délku života 71.47 let.\n",
    "* TypePetroleum: když se změní typ země z Industrialized na Petroleum, očekáváme, že průměrná délka života klesne o 21.49 let."
   ]
  },
  {
   "cell_type": "code",
   "execution_count": 20,
   "id": "4f1721a4-80a7-4288-bd6c-b2244c5e3872",
   "metadata": {
    "ExecuteTime": {
     "end_time": "2024-04-26T16:19:53.694334Z",
     "start_time": "2024-04-26T16:19:53.658051Z"
    }
   },
   "outputs": [
    {
     "data": {
      "text/plain": [
       "\n",
       "Call:\n",
       "lm(formula = Life ~ Type, data = data)\n",
       "\n",
       "Coefficients:\n",
       "  (Intercept)  TypePetroleum  \n",
       "        71.47         -21.49  \n"
      ]
     },
     "metadata": {},
     "output_type": "display_data"
    }
   ],
   "source": [
    "fitCountryType <- lm(Life ~ Type, data=data)\n",
    "fitCountryType"
   ]
  },
  {
   "cell_type": "markdown",
   "id": "45b51003-4e12-495f-aa21-fb0e06f6e326",
   "metadata": {},
   "source": [
    "##### Testy předpokladů\n",
    "\n",
    "Aby fungovaly metody analýzy rozptylu, musíme ověřit:\n",
    "\n",
    " * Normalitu odchylek.\n",
    " * Shodu rozptylů odchylek napříč kategoriemi\n",
    "\n",
    "Na první pohled histogramu odchýlek bych si troufnul řicí, že nejsou normálně rozdělené. Ověříme to Shapiro-Wilkovým testem. p-hodnota < 0.05, normalitu zamítáme.\n",
    "\n",
    "Nesplnění předpokladů normálního rozdělení reziduí může zpochybnit výsledky analýzy rozptylu a může vést k nepřesným závěrům"
   ]
  },
  {
   "cell_type": "code",
   "execution_count": 21,
   "id": "761dad39-2e09-416c-b641-91b13a0bd359",
   "metadata": {
    "ExecuteTime": {
     "end_time": "2024-04-26T16:19:53.841984Z",
     "start_time": "2024-04-26T16:19:53.702146Z"
    }
   },
   "outputs": [
    {
     "data": {
      "image/png": "[encoded data removed]",
      "text/plain": [
       "Plot with title \"Histogram of fitCountryType$resid\""
      ]
     },
     "metadata": {
      "image/png": {
       "height": 480,
       "width": 720
      }
     },
     "output_type": "display_data"
    }
   ],
   "source": [
    "hist(fitCountryType$resid,prob=T)"
   ]
  },
  {
   "cell_type": "code",
   "execution_count": 22,
   "id": "27f91426-9eb0-466f-9ab8-25141a77dff1",
   "metadata": {
    "ExecuteTime": {
     "end_time": "2024-04-26T16:19:53.891345Z",
     "start_time": "2024-04-26T16:19:53.850368Z"
    }
   },
   "outputs": [
    {
     "data": {
      "text/plain": [
       "\n",
       "\tShapiro-Wilk normality test\n",
       "\n",
       "data:  fitCountryType$resid\n",
       "W = 0.78123, p-value = 3.918e-05\n"
      ]
     },
     "metadata": {},
     "output_type": "display_data"
    }
   ],
   "source": [
    "shapiro.test(fitCountryType$resid)"
   ]
  },
  {
   "cell_type": "markdown",
   "id": "5b39449f-ec68-489e-8f39-88a2201a6f7f",
   "metadata": {},
   "source": [
    "#### Robustní model "
   ]
  },
  {
   "cell_type": "markdown",
   "id": "229d0041-6eda-42c9-a217-612049768b33",
   "metadata": {},
   "source": [
    "Pro provedení robustní analýzy rozptylu lmrob() z balíčku robustbase. Tato funkce umožňuje odolnou analýzu lineární regrese, která je méně citlivá na odlehlá pozorování a nesplnění předpokladů o normálním rozdělení reziduí.\n",
    "\n",
    "Interpretace koeficientů je stejná. Hodnota interceptu a TypePetroleum se mírně liší mezi LM a LMRob, ale rozdíl není velký.\n",
    "\n",
    "Ověříme předpoklady zase stejným testem, kde opět zamítáme normalitu."
   ]
  },
  {
   "cell_type": "code",
   "execution_count": 23,
   "id": "564fca9b-0467-4183-9c1d-387dc31c1733",
   "metadata": {
    "ExecuteTime": {
     "end_time": "2024-04-26T16:19:54.140484Z",
     "start_time": "2024-04-26T16:19:53.901428Z"
    }
   },
   "outputs": [
    {
     "name": "stderr",
     "output_type": "stream",
     "text": [
      "Warning message:\n",
      "\"package 'robustbase' was built under R version 4.3.3\"\n"
     ]
    },
    {
     "data": {
      "text/plain": [
       "\n",
       "Call:\n",
       "lmrob(formula = Life ~ Type, data = data)\n",
       " \\--> method = \"MM\"\n",
       "Coefficients:\n",
       "  (Intercept)  TypePetroleum  \n",
       "        71.48         -20.79  \n"
      ]
     },
     "metadata": {},
     "output_type": "display_data"
    }
   ],
   "source": [
    "# install.packages(\"robustbase\")\n",
    "library(robustbase)\n",
    "\n",
    "fitCountryType_robust <- lmrob(Life ~ Type, data = data)\n",
    "fitCountryType_robust"
   ]
  },
  {
   "cell_type": "code",
   "execution_count": 24,
   "id": "fff3df4b-bf4a-4c20-bc96-2e191552d0c1",
   "metadata": {
    "ExecuteTime": {
     "end_time": "2024-04-26T16:19:54.263453Z",
     "start_time": "2024-04-26T16:19:54.149096Z"
    }
   },
   "outputs": [
    {
     "data": {
      "image/png": "[encoded data removed]",
      "text/plain": [
       "Plot with title \"Histogram of fitCountryType_robust$resid\""
      ]
     },
     "metadata": {
      "image/png": {
       "height": 480,
       "width": 720
      }
     },
     "output_type": "display_data"
    }
   ],
   "source": [
    "hist(fitCountryType_robust$resid,prob=T)"
   ]
  },
  {
   "cell_type": "code",
   "execution_count": 25,
   "id": "6c6e06ff-24e3-47cf-bc8d-1d26adaf30e6",
   "metadata": {
    "ExecuteTime": {
     "end_time": "2024-04-26T16:19:54.302174Z",
     "start_time": "2024-04-26T16:19:54.272700Z"
    }
   },
   "outputs": [
    {
     "data": {
      "text/plain": [
       "\n",
       "\tShapiro-Wilk normality test\n",
       "\n",
       "data:  fitCountryType_robust$resid\n",
       "W = 0.78061, p-value = 3.824e-05\n"
      ]
     },
     "metadata": {},
     "output_type": "display_data"
    }
   ],
   "source": [
    "shapiro.test(fitCountryType_robust$resid)"
   ]
  },
  {
   "cell_type": "markdown",
   "id": "2a81be71-6e1a-4ce5-9f66-ebd63ce650e5",
   "metadata": {},
   "source": [
    "### Srovnání dvou modelů pomocí Wilcoxonova testu\n",
    "\n",
    "Tento test poskytuje informace o statistické signifikanci rozdílu mezi rezidui dvou modelů.\n",
    "\n",
    "Nulová hypotéza je posun mezi polohami reziduí je roven nule.\n",
    "Alternativní hypotéza je skutečný posun mezi polohami reziduí není roven nule.\n",
    " \n",
    "P-hodnota je 0.6297, to znamená, že není dostatečně silný důkaz na to, abychom tvrdili, že existuje statisticky významný rozdíl mezi rezidui obou modelů."
   ]
  },
  {
   "cell_type": "code",
   "execution_count": 26,
   "id": "3b72ac48-602f-4e18-80d2-7fb000a3a593",
   "metadata": {},
   "outputs": [
    {
     "name": "stderr",
     "output_type": "stream",
     "text": [
      "Warning message in wilcox.test.default(fitCountryType$residuals, fitCountryType_robust$residuals):\n",
      "\"cannot compute exact p-value with ties\"\n"
     ]
    },
    {
     "data": {
      "text/plain": [
       "\n",
       "\tWilcoxon rank sum test with continuity correction\n",
       "\n",
       "data:  fitCountryType$residuals and fitCountryType_robust$residuals\n",
       "W = 452, p-value = 0.6297\n",
       "alternative hypothesis: true location shift is not equal to 0\n"
      ]
     },
     "metadata": {},
     "output_type": "display_data"
    }
   ],
   "source": [
    "wilcox.test(fitCountryType$residuals, fitCountryType_robust$residuals)"
   ]
  },
  {
   "cell_type": "code",
   "execution_count": 27,
   "id": "f08bedb7-9f17-409f-a8f6-2f070c3a6756",
   "metadata": {
    "ExecuteTime": {
     "end_time": "2024-04-26T16:19:54.340138Z",
     "start_time": "2024-04-26T16:19:54.309111Z"
    }
   },
   "outputs": [
    {
     "data": {
      "text/plain": [
       "\n",
       "Call:\n",
       "lm(formula = Life ~ Type, data = data)\n",
       "\n",
       "Residuals:\n",
       "     Min       1Q   Median       3Q      Max \n",
       "-13.0778  -1.0700   0.0222   1.7300  16.4222 \n",
       "\n",
       "Coefficients:\n",
       "              Estimate Std. Error t value Pr(>|t|)    \n",
       "(Intercept)     71.470      1.035   69.05  < 2e-16 ***\n",
       "TypePetroleum  -21.492      1.858  -11.57 5.71e-12 ***\n",
       "---\n",
       "Signif. codes:  0 '***' 0.001 '**' 0.01 '*' 0.05 '.' 0.1 ' ' 1\n",
       "\n",
       "Residual standard error: 4.629 on 27 degrees of freedom\n",
       "Multiple R-squared:  0.8321,\tAdjusted R-squared:  0.8259 \n",
       "F-statistic: 133.8 on 1 and 27 DF,  p-value: 5.713e-12\n"
      ]
     },
     "metadata": {},
     "output_type": "display_data"
    }
   ],
   "source": [
    "summary(fitCountryType)"
   ]
  },
  {
   "cell_type": "markdown",
   "id": "00f52f39-271d-400e-8164-342556c4340b",
   "metadata": {},
   "source": [
    "=====================================================================================\n",
    "\n",
    "* Koeficient determinace je 0.8321. To znamená, že 83.21% variability vysvětlované proměnné je vysvětleno modelem. Model dobře vysvětluje variabilitu vysvětlované proměnné\n",
    "* Koeficient pro intercept (71.47) je statisticky významný (p < 2 * 10^-16), což naznačuje, že průměrná délka života je statisticky odlišná od nuly pro země typu Industrialized, což je takové logické\n",
    "* Koeficient pro typ země Petroleum (-21.49) je také statisticky významný (p = 5.71 * 10^-12), což naznačuje, že existuje statisticky významný rozdíl ve střední délce života mezi zeměmi typu Industrialized a Petroleum. Danou informaci jsme mohli vidět i na histogramech/boxplotech výše.\n",
    "* Hodnota F-statistiky je 133.8 s p-hodnotou 5.713e-12. Tento výsledek ukazuje, že model je statisticky významný"
   ]
  },
  {
   "cell_type": "code",
   "execution_count": 28,
   "id": "ede6109e-b678-4bea-b5c1-53d7a245b159",
   "metadata": {
    "ExecuteTime": {
     "end_time": "2024-04-26T16:19:54.395814Z",
     "start_time": "2024-04-26T16:19:54.346581Z"
    }
   },
   "outputs": [
    {
     "data": {
      "text/plain": [
       "\n",
       "Call:\n",
       "lmrob(formula = Life ~ Type, data = data)\n",
       " \\--> method = \"MM\"\n",
       "Residuals:\n",
       "     Min       1Q   Median       3Q      Max \n",
       "-13.7950  -1.0804  -0.1803   1.4050  15.7050 \n",
       "\n",
       "Coefficients:\n",
       "              Estimate Std. Error t value Pr(>|t|)    \n",
       "(Intercept)    71.4804     0.3984  179.42   <2e-16 ***\n",
       "TypePetroleum -20.7853     1.1188  -18.58   <2e-16 ***\n",
       "---\n",
       "Signif. codes:  0 '***' 0.001 '**' 0.01 '*' 0.05 '.' 0.1 ' ' 1\n",
       "\n",
       "Robust residual standard error: 2.071 \n",
       "Multiple R-squared:  0.9581,\tAdjusted R-squared:  0.9566 \n",
       "Convergence in 9 IRWLS iterations\n",
       "\n",
       "Robustness weights: \n",
       " 2 observations c(27,29) are outliers with |weight| = 0 ( < 0.0034); \n",
       " 2 weights are ~= 1. The remaining 25 ones are summarized as\n",
       "   Min. 1st Qu.  Median    Mean 3rd Qu.    Max. \n",
       "0.06331 0.88900 0.97060 0.90080 0.98710 0.99690 \n",
       "Algorithmic parameters: \n",
       "       tuning.chi                bb        tuning.psi        refine.tol           rel.tol         scale.tol         solve.tol          zero.tol \n",
       "        1.548e+00         5.000e-01         4.685e+00         1.000e-07         1.000e-07         1.000e-10         1.000e-07         1.000e-10 \n",
       "      eps.outlier             eps.x warn.limit.reject warn.limit.meanrw \n",
       "        3.448e-03         1.819e-12         5.000e-01         5.000e-01 \n",
       "     nResample         max.it       best.r.s       k.fast.s          k.max    maxit.scale      trace.lev            mts     compute.rd fast.s.large.n \n",
       "           500             50              2              1            200            200              0           1000              0           2000 \n",
       "                  psi           subsampling                   cov compute.outlier.stats \n",
       "           \"bisquare\"         \"nonsingular\"         \".vcov.avar1\"                  \"SM\" \n",
       "seed : int(0) "
      ]
     },
     "metadata": {},
     "output_type": "display_data"
    }
   ],
   "source": [
    "summary(fitCountryType_robust)"
   ]
  },
  {
   "cell_type": "markdown",
   "id": "e4e52193-2234-4832-893f-648b69d9279a",
   "metadata": {},
   "source": [
    "=====================================================================================\n",
    "\n",
    "##### Srovnání s předchozím modelem\n",
    "* Robustní model má vyšší R-squared, což naznačuje, že robustní model lépe vysvětluje variabilitu vysvětlované proměnné.\n",
    "* V obou modelech jsou koeficienty statisticky významné a mají podobnou úroveň významnosti.\n",
    "* Robustní model má nižší standardní chybu reziduí, což naznačuje, že je robustnější vůči odlehlým pozorováním, což jsme očekávali od daného modelu\n",
    "* vysoké Adjusted R-squared a F-statistiky, což naznačuje, že jsou oba modely statisticky významné."
   ]
  },
  {
   "cell_type": "markdown",
   "id": "47217bf1-11c9-4c6f-b6a5-9be1114e3583",
   "metadata": {},
   "source": [
    "## Model obsahující oba regresory z předchozích bodů včetně jejich interakce\n",
    "\n",
    "Uvažujme následující model:\n",
    " $$y = \\hat\\beta_0 + \\hat\\beta_1\\cdot TypePetroleum + \\hat\\beta_2 \\cdot Income + \\hat\\beta_3 \\cdot TypePetroleum\\cdot Income$$ \n",
    "\n",
    "##### Interpretace regresních koeficientů:\n",
    "* Intercept: 68.83 let. To znamená, že odhadnutá průměrná délka života pro zemi typu Industrialized při nulové hodnotě příjmů je přibližně 68.83 let\n",
    "* TypePetroleum: rozdíl v průměrné délce života mezi zeměmi typu Petroleum a Industrialized při nulové hodnotě příjmů. To znamená, že průměrná délka života pro zemi typu Petroleum je o 20.4 let nižší než pro zemi typu Industrialized při nulové hodnotě příjmů.\n",
    "* Income: změna v průměrné délce života pro každý jednotkový nárůst příjmu. To znamená, že každý $ příjmu je spojen s nárůstem průměrné délky života o 0.0008856 roku\n",
    "* TypePetroleum:Income: změna příjmu promítá do změny ve vztahu mezi průměrnou délkou života a typem země. V našem případě vliv příjmu na průměrnou délku života se liší mezi zeměmi typu \"Petroleum\" a \"Industrialized\"."
   ]
  },
  {
   "cell_type": "code",
   "execution_count": 29,
   "id": "ad58b47f-f55c-41a4-bf50-a9198b2b9b4b",
   "metadata": {
    "ExecuteTime": {
     "end_time": "2024-04-26T16:19:54.433571Z",
     "start_time": "2024-04-26T16:19:54.402879Z"
    }
   },
   "outputs": [
    {
     "data": {
      "text/plain": [
       "\n",
       "Call:\n",
       "lm(formula = Life ~ Type * Income, data = data)\n",
       "\n",
       "Coefficients:\n",
       "         (Intercept)         TypePetroleum                Income  TypePetroleum:Income  \n",
       "           6.835e+01            -2.042e+01             8.856e-04             1.229e-03  \n"
      ]
     },
     "metadata": {},
     "output_type": "display_data"
    }
   ],
   "source": [
    "fitInteraction <- lm(Life ~ Type * Income, data = data)\n",
    "fitInteraction"
   ]
  },
  {
   "cell_type": "code",
   "execution_count": 30,
   "id": "943375ef-7894-4bf2-b1b4-0eb38af1dd49",
   "metadata": {
    "ExecuteTime": {
     "end_time": "2024-04-26T16:19:54.471355Z",
     "start_time": "2024-04-26T16:19:54.440507Z"
    }
   },
   "outputs": [
    {
     "data": {
      "text/plain": [
       "\n",
       "Call:\n",
       "lm(formula = Life ~ Type * Income, data = data)\n",
       "\n",
       "Residuals:\n",
       "     Min       1Q   Median       3Q      Max \n",
       "-11.4145  -1.1003  -0.3879   1.4296  15.8443 \n",
       "\n",
       "Coefficients:\n",
       "                       Estimate Std. Error t value Pr(>|t|)    \n",
       "(Intercept)           6.835e+01  3.091e+00  22.116  < 2e-16 ***\n",
       "TypePetroleum        -2.042e+01  3.840e+00  -5.318 1.64e-05 ***\n",
       "Income                8.856e-04  8.288e-04   1.069    0.295    \n",
       "TypePetroleum:Income  1.229e-03  1.937e-03   0.634    0.532    \n",
       "---\n",
       "Signif. codes:  0 '***' 0.001 '**' 0.01 '*' 0.05 '.' 0.1 ' ' 1\n",
       "\n",
       "Residual standard error: 4.578 on 25 degrees of freedom\n",
       "Multiple R-squared:  0.8479,\tAdjusted R-squared:  0.8297 \n",
       "F-statistic: 46.47 on 3 and 25 DF,  p-value: 2.27e-10\n"
      ]
     },
     "metadata": {},
     "output_type": "display_data"
    }
   ],
   "source": [
    "summary(fitInteraction)"
   ]
  },
  {
   "cell_type": "markdown",
   "id": "80173954-eee2-479f-bf48-5a7afb5fb9d8",
   "metadata": {},
   "source": [
    "=====================================================================================\n",
    "\n",
    "* Intercept je statisticky významný. Průměrná délka života při nulové hodnotě příjmů je statisticky odlišná od nuly.\n",
    "* Koeficient pro typ země Petroleum je také statisticky významný.\n",
    "* Koeficient Income není statisticky významný (p = 0.295). To naznačuje, že v tomto modelu není dostatečná evidence pro to, že příjem má vliv na průměrnou délku života.\n",
    "* Koeficient interakce TypePetroleum:Income také není statisticky významný (p = 0.532)\n",
    "* R-squared je 0.8479, což naznačuje, že 84.79% variability vysvětlované proměnné je vysvětleno modelovými proměnnými. Robustní model s kategorickým příznakem měl R-squared mnohem vyšší\n",
    "* F-statistika má hodnotu 46.47 s p-hodnotou 2.27e-10, což naznačuje, že celkový model je statisticky významný, alespoň jeden z regresorů je významný ( Intercept a TypePetroleum)\n",
    "\n",
    "### Zobrazení regresní závislosti\n",
    "Ideálně bychom chtěli vidět, že body v scatterplotu jsou rovnoměrně rozptýleny kolem horizontální čáry nulových reziduí a histogram by měl být přibližně normální, což v našem případě se bohužel nestalo."
   ]
  },
  {
   "cell_type": "code",
   "execution_count": 31,
   "id": "4062085c-cde6-491a-8cfc-8883006e38d4",
   "metadata": {
    "ExecuteTime": {
     "end_time": "2024-04-26T16:19:54.676671Z",
     "start_time": "2024-04-26T16:19:54.478054Z"
    }
   },
   "outputs": [
    {
     "data": {
      "image/png": "[encoded data removed]",
      "text/plain": [
       "Plot with title \"Scatterplot reziduí\""
      ]
     },
     "metadata": {
      "image/png": {
       "height": 480,
       "width": 720
      }
     },
     "output_type": "display_data"
    },
    {
     "data": {
      "image/png": "[encoded data removed]",
      "text/plain": [
       "Plot with title \"Histogram reziduí\""
      ]
     },
     "metadata": {
      "image/png": {
       "height": 480,
       "width": 720
      }
     },
     "output_type": "display_data"
    }
   ],
   "source": [
    "plot(fitInteraction$fitted.values, fitInteraction$residuals, \n",
    "     xlab = \"Předpovídané hodnoty\", ylab = \"Rezidua\",\n",
    "     main = \"Scatterplot reziduí\")\n",
    "abline(h = 0, col = \"red\", lty = 2)\n",
    "\n",
    "hist(fitInteraction$residuals, \n",
    "     main = \"Histogram reziduí\",\n",
    "     xlab = \"Rezidua\")"
   ]
  },
  {
   "cell_type": "markdown",
   "id": "cad12f36-09d6-420b-adae-5d2089a4f4ee",
   "metadata": {},
   "source": [
    "Podle mého názoru predikce tohoto modelu se mi nezdá tak špatná. Výjimkou tvoří outliery, kde chyba je mnohem horší. "
   ]
  },
  {
   "cell_type": "code",
   "execution_count": 32,
   "id": "5787ee0b-3598-424b-ba4b-b0f84667a3be",
   "metadata": {
    "ExecuteTime": {
     "end_time": "2024-04-26T16:19:54.764307Z",
     "start_time": "2024-04-26T16:19:54.684701Z"
    }
   },
   "outputs": [
    {
     "name": "stderr",
     "output_type": "stream",
     "text": [
      "Warning message in predict.lm(fitInteraction, interval = \"prediction\"):\n",
      "\"predictions on current data refer to _future_ responses\n",
      "\"\n"
     ]
    },
    {
     "data": {
      "text/html": [
       "<table class=\"dataframe\">\n",
       "<caption>A data.frame: 29 × 7</caption>\n",
       "<thead>\n",
       "\t<tr><th></th><th scope=col>Country</th><th scope=col>Life</th><th scope=col>Income</th><th scope=col>Type</th><th scope=col>fit</th><th scope=col>lwr</th><th scope=col>upr</th></tr>\n",
       "\t<tr><th></th><th scope=col>&lt;chr&gt;</th><th scope=col>&lt;dbl&gt;</th><th scope=col>&lt;dbl&gt;</th><th scope=col>&lt;fct&gt;</th><th scope=col>&lt;dbl&gt;</th><th scope=col>&lt;dbl&gt;</th><th scope=col>&lt;dbl&gt;</th></tr>\n",
       "</thead>\n",
       "<tbody>\n",
       "\t<tr><th scope=row>1</th><td>Australia    </td><td>71.0</td><td>3426</td><td>Industrialized</td><td>71.38786</td><td>61.72519</td><td>81.05053</td></tr>\n",
       "\t<tr><th scope=row>2</th><td>Austria      </td><td>70.4</td><td>3350</td><td>Industrialized</td><td>71.32055</td><td>61.65489</td><td>80.98621</td></tr>\n",
       "\t<tr><th scope=row>3</th><td>Belgium      </td><td>70.6</td><td>3346</td><td>Industrialized</td><td>71.31701</td><td>61.65114</td><td>80.98288</td></tr>\n",
       "\t<tr><th scope=row>4</th><td>Canada       </td><td>72.0</td><td>4751</td><td>Industrialized</td><td>72.56132</td><td>62.67366</td><td>82.44899</td></tr>\n",
       "\t<tr><th scope=row>5</th><td>Denmark      </td><td>73.3</td><td>5029</td><td>Industrialized</td><td>72.80753</td><td>62.80817</td><td>82.80688</td></tr>\n",
       "\t<tr><th scope=row>6</th><td>Finland      </td><td>69.8</td><td>3312</td><td>Industrialized</td><td>71.28690</td><td>61.61908</td><td>80.95471</td></tr>\n",
       "\t<tr><th scope=row>7</th><td>France       </td><td>72.3</td><td>3403</td><td>Industrialized</td><td>71.36749</td><td>61.70410</td><td>81.03088</td></tr>\n",
       "\t<tr><th scope=row>8</th><td>West_Germany </td><td>70.3</td><td>5040</td><td>Industrialized</td><td>72.81727</td><td>62.81306</td><td>82.82148</td></tr>\n",
       "\t<tr><th scope=row>9</th><td>Ireland      </td><td>70.7</td><td>2009</td><td>Industrialized</td><td>70.13292</td><td>60.13378</td><td>80.13205</td></tr>\n",
       "\t<tr><th scope=row>10</th><td>Italy        </td><td>70.6</td><td>2298</td><td>Industrialized</td><td>70.38886</td><td>60.50536</td><td>80.27237</td></tr>\n",
       "\t<tr><th scope=row>11</th><td>Japan        </td><td>73.2</td><td>3292</td><td>Industrialized</td><td>71.26918</td><td>61.60006</td><td>80.93830</td></tr>\n",
       "\t<tr><th scope=row>12</th><td>Netherlands  </td><td>73.8</td><td>4103</td><td>Industrialized</td><td>71.98743</td><td>62.27473</td><td>81.70013</td></tr>\n",
       "\t<tr><th scope=row>13</th><td>NewZealand   </td><td>71.1</td><td>3723</td><td>Industrialized</td><td>71.65089</td><td>61.98323</td><td>81.31855</td></tr>\n",
       "\t<tr><th scope=row>14</th><td>Norway       </td><td>73.9</td><td>4102</td><td>Industrialized</td><td>71.98655</td><td>62.27402</td><td>81.69907</td></tr>\n",
       "\t<tr><th scope=row>15</th><td>Portugal     </td><td>68.1</td><td> 956</td><td>Industrialized</td><td>69.20035</td><td>58.59486</td><td>79.80583</td></tr>\n",
       "\t<tr><th scope=row>16</th><td>South_Africa </td><td>68.2</td><td>1650</td><td>Industrialized</td><td>69.81497</td><td>59.64068</td><td>79.98927</td></tr>\n",
       "\t<tr><th scope=row>17</th><td>Sweden       </td><td>74.7</td><td>5596</td><td>Industrialized</td><td>73.30968</td><td>63.01826</td><td>83.60110</td></tr>\n",
       "\t<tr><th scope=row>18</th><td>Switzerland  </td><td>72.1</td><td>2963</td><td>Industrialized</td><td>70.97781</td><td>61.26998</td><td>80.68564</td></tr>\n",
       "\t<tr><th scope=row>19</th><td>Britain      </td><td>72.0</td><td>2503</td><td>Industrialized</td><td>70.57042</td><td>60.75472</td><td>80.38612</td></tr>\n",
       "\t<tr><th scope=row>20</th><td>United_States</td><td>71.3</td><td>5523</td><td>Industrialized</td><td>73.24503</td><td>62.99587</td><td>83.49419</td></tr>\n",
       "\t<tr><th scope=row>21</th><td>Algeria      </td><td>50.7</td><td> 430</td><td>Petroleum     </td><td>48.84307</td><td>38.71795</td><td>58.96820</td></tr>\n",
       "\t<tr><th scope=row>22</th><td>Ecuador      </td><td>52.3</td><td> 360</td><td>Petroleum     </td><td>48.69507</td><td>38.51871</td><td>58.87143</td></tr>\n",
       "\t<tr><th scope=row>23</th><td>Indonesia    </td><td>47.5</td><td> 110</td><td>Petroleum     </td><td>48.16648</td><td>37.75912</td><td>58.57385</td></tr>\n",
       "\t<tr><th scope=row>24</th><td>Iran         </td><td>50.0</td><td>1280</td><td>Petroleum     </td><td>50.64028</td><td>40.63774</td><td>60.64281</td></tr>\n",
       "\t<tr><th scope=row>25</th><td>Iraq         </td><td>51.6</td><td> 560</td><td>Petroleum     </td><td>49.11794</td><td>39.07184</td><td>59.16404</td></tr>\n",
       "\t<tr><th scope=row>26</th><td>Libya        </td><td>52.1</td><td>3010</td><td>Petroleum     </td><td>54.29811</td><td>41.92710</td><td>66.66911</td></tr>\n",
       "\t<tr><th scope=row>27</th><td>Nigeria      </td><td>36.9</td><td> 180</td><td>Petroleum     </td><td>48.31449</td><td>37.97920</td><td>58.64977</td></tr>\n",
       "\t<tr><th scope=row>28</th><td>Saudi_Arabia </td><td>42.3</td><td>1530</td><td>Petroleum     </td><td>51.16886</td><td>41.02493</td><td>61.31280</td></tr>\n",
       "\t<tr><th scope=row>29</th><td>Venezuela    </td><td>66.4</td><td>1240</td><td>Petroleum     </td><td>50.55570</td><td>40.56842</td><td>60.54298</td></tr>\n",
       "</tbody>\n",
       "</table>\n"
      ],
      "text/latex": [
       "A data.frame: 29 × 7\n",
       "\\begin{tabular}{r|lllllll}\n",
       "  & Country & Life & Income & Type & fit & lwr & upr\\\\\n",
       "  & <chr> & <dbl> & <dbl> & <fct> & <dbl> & <dbl> & <dbl>\\\\\n",
       "\\hline\n",
       "\t1 & Australia     & 71.0 & 3426 & Industrialized & 71.38786 & 61.72519 & 81.05053\\\\\n",
       "\t2 & Austria       & 70.4 & 3350 & Industrialized & 71.32055 & 61.65489 & 80.98621\\\\\n",
       "\t3 & Belgium       & 70.6 & 3346 & Industrialized & 71.31701 & 61.65114 & 80.98288\\\\\n",
       "\t4 & Canada        & 72.0 & 4751 & Industrialized & 72.56132 & 62.67366 & 82.44899\\\\\n",
       "\t5 & Denmark       & 73.3 & 5029 & Industrialized & 72.80753 & 62.80817 & 82.80688\\\\\n",
       "\t6 & Finland       & 69.8 & 3312 & Industrialized & 71.28690 & 61.61908 & 80.95471\\\\\n",
       "\t7 & France        & 72.3 & 3403 & Industrialized & 71.36749 & 61.70410 & 81.03088\\\\\n",
       "\t8 & West\\_Germany  & 70.3 & 5040 & Industrialized & 72.81727 & 62.81306 & 82.82148\\\\\n",
       "\t9 & Ireland       & 70.7 & 2009 & Industrialized & 70.13292 & 60.13378 & 80.13205\\\\\n",
       "\t10 & Italy         & 70.6 & 2298 & Industrialized & 70.38886 & 60.50536 & 80.27237\\\\\n",
       "\t11 & Japan         & 73.2 & 3292 & Industrialized & 71.26918 & 61.60006 & 80.93830\\\\\n",
       "\t12 & Netherlands   & 73.8 & 4103 & Industrialized & 71.98743 & 62.27473 & 81.70013\\\\\n",
       "\t13 & NewZealand    & 71.1 & 3723 & Industrialized & 71.65089 & 61.98323 & 81.31855\\\\\n",
       "\t14 & Norway        & 73.9 & 4102 & Industrialized & 71.98655 & 62.27402 & 81.69907\\\\\n",
       "\t15 & Portugal      & 68.1 &  956 & Industrialized & 69.20035 & 58.59486 & 79.80583\\\\\n",
       "\t16 & South\\_Africa  & 68.2 & 1650 & Industrialized & 69.81497 & 59.64068 & 79.98927\\\\\n",
       "\t17 & Sweden        & 74.7 & 5596 & Industrialized & 73.30968 & 63.01826 & 83.60110\\\\\n",
       "\t18 & Switzerland   & 72.1 & 2963 & Industrialized & 70.97781 & 61.26998 & 80.68564\\\\\n",
       "\t19 & Britain       & 72.0 & 2503 & Industrialized & 70.57042 & 60.75472 & 80.38612\\\\\n",
       "\t20 & United\\_States & 71.3 & 5523 & Industrialized & 73.24503 & 62.99587 & 83.49419\\\\\n",
       "\t21 & Algeria       & 50.7 &  430 & Petroleum      & 48.84307 & 38.71795 & 58.96820\\\\\n",
       "\t22 & Ecuador       & 52.3 &  360 & Petroleum      & 48.69507 & 38.51871 & 58.87143\\\\\n",
       "\t23 & Indonesia     & 47.5 &  110 & Petroleum      & 48.16648 & 37.75912 & 58.57385\\\\\n",
       "\t24 & Iran          & 50.0 & 1280 & Petroleum      & 50.64028 & 40.63774 & 60.64281\\\\\n",
       "\t25 & Iraq          & 51.6 &  560 & Petroleum      & 49.11794 & 39.07184 & 59.16404\\\\\n",
       "\t26 & Libya         & 52.1 & 3010 & Petroleum      & 54.29811 & 41.92710 & 66.66911\\\\\n",
       "\t27 & Nigeria       & 36.9 &  180 & Petroleum      & 48.31449 & 37.97920 & 58.64977\\\\\n",
       "\t28 & Saudi\\_Arabia  & 42.3 & 1530 & Petroleum      & 51.16886 & 41.02493 & 61.31280\\\\\n",
       "\t29 & Venezuela     & 66.4 & 1240 & Petroleum      & 50.55570 & 40.56842 & 60.54298\\\\\n",
       "\\end{tabular}\n"
      ],
      "text/markdown": [
       "\n",
       "A data.frame: 29 × 7\n",
       "\n",
       "| <!--/--> | Country &lt;chr&gt; | Life &lt;dbl&gt; | Income &lt;dbl&gt; | Type &lt;fct&gt; | fit &lt;dbl&gt; | lwr &lt;dbl&gt; | upr &lt;dbl&gt; |\n",
       "|---|---|---|---|---|---|---|---|\n",
       "| 1 | Australia     | 71.0 | 3426 | Industrialized | 71.38786 | 61.72519 | 81.05053 |\n",
       "| 2 | Austria       | 70.4 | 3350 | Industrialized | 71.32055 | 61.65489 | 80.98621 |\n",
       "| 3 | Belgium       | 70.6 | 3346 | Industrialized | 71.31701 | 61.65114 | 80.98288 |\n",
       "| 4 | Canada        | 72.0 | 4751 | Industrialized | 72.56132 | 62.67366 | 82.44899 |\n",
       "| 5 | Denmark       | 73.3 | 5029 | Industrialized | 72.80753 | 62.80817 | 82.80688 |\n",
       "| 6 | Finland       | 69.8 | 3312 | Industrialized | 71.28690 | 61.61908 | 80.95471 |\n",
       "| 7 | France        | 72.3 | 3403 | Industrialized | 71.36749 | 61.70410 | 81.03088 |\n",
       "| 8 | West_Germany  | 70.3 | 5040 | Industrialized | 72.81727 | 62.81306 | 82.82148 |\n",
       "| 9 | Ireland       | 70.7 | 2009 | Industrialized | 70.13292 | 60.13378 | 80.13205 |\n",
       "| 10 | Italy         | 70.6 | 2298 | Industrialized | 70.38886 | 60.50536 | 80.27237 |\n",
       "| 11 | Japan         | 73.2 | 3292 | Industrialized | 71.26918 | 61.60006 | 80.93830 |\n",
       "| 12 | Netherlands   | 73.8 | 4103 | Industrialized | 71.98743 | 62.27473 | 81.70013 |\n",
       "| 13 | NewZealand    | 71.1 | 3723 | Industrialized | 71.65089 | 61.98323 | 81.31855 |\n",
       "| 14 | Norway        | 73.9 | 4102 | Industrialized | 71.98655 | 62.27402 | 81.69907 |\n",
       "| 15 | Portugal      | 68.1 |  956 | Industrialized | 69.20035 | 58.59486 | 79.80583 |\n",
       "| 16 | South_Africa  | 68.2 | 1650 | Industrialized | 69.81497 | 59.64068 | 79.98927 |\n",
       "| 17 | Sweden        | 74.7 | 5596 | Industrialized | 73.30968 | 63.01826 | 83.60110 |\n",
       "| 18 | Switzerland   | 72.1 | 2963 | Industrialized | 70.97781 | 61.26998 | 80.68564 |\n",
       "| 19 | Britain       | 72.0 | 2503 | Industrialized | 70.57042 | 60.75472 | 80.38612 |\n",
       "| 20 | United_States | 71.3 | 5523 | Industrialized | 73.24503 | 62.99587 | 83.49419 |\n",
       "| 21 | Algeria       | 50.7 |  430 | Petroleum      | 48.84307 | 38.71795 | 58.96820 |\n",
       "| 22 | Ecuador       | 52.3 |  360 | Petroleum      | 48.69507 | 38.51871 | 58.87143 |\n",
       "| 23 | Indonesia     | 47.5 |  110 | Petroleum      | 48.16648 | 37.75912 | 58.57385 |\n",
       "| 24 | Iran          | 50.0 | 1280 | Petroleum      | 50.64028 | 40.63774 | 60.64281 |\n",
       "| 25 | Iraq          | 51.6 |  560 | Petroleum      | 49.11794 | 39.07184 | 59.16404 |\n",
       "| 26 | Libya         | 52.1 | 3010 | Petroleum      | 54.29811 | 41.92710 | 66.66911 |\n",
       "| 27 | Nigeria       | 36.9 |  180 | Petroleum      | 48.31449 | 37.97920 | 58.64977 |\n",
       "| 28 | Saudi_Arabia  | 42.3 | 1530 | Petroleum      | 51.16886 | 41.02493 | 61.31280 |\n",
       "| 29 | Venezuela     | 66.4 | 1240 | Petroleum      | 50.55570 | 40.56842 | 60.54298 |\n",
       "\n"
      ],
      "text/plain": [
       "   Country       Life Income Type           fit      lwr      upr     \n",
       "1  Australia     71.0 3426   Industrialized 71.38786 61.72519 81.05053\n",
       "2  Austria       70.4 3350   Industrialized 71.32055 61.65489 80.98621\n",
       "3  Belgium       70.6 3346   Industrialized 71.31701 61.65114 80.98288\n",
       "4  Canada        72.0 4751   Industrialized 72.56132 62.67366 82.44899\n",
       "5  Denmark       73.3 5029   Industrialized 72.80753 62.80817 82.80688\n",
       "6  Finland       69.8 3312   Industrialized 71.28690 61.61908 80.95471\n",
       "7  France        72.3 3403   Industrialized 71.36749 61.70410 81.03088\n",
       "8  West_Germany  70.3 5040   Industrialized 72.81727 62.81306 82.82148\n",
       "9  Ireland       70.7 2009   Industrialized 70.13292 60.13378 80.13205\n",
       "10 Italy         70.6 2298   Industrialized 70.38886 60.50536 80.27237\n",
       "11 Japan         73.2 3292   Industrialized 71.26918 61.60006 80.93830\n",
       "12 Netherlands   73.8 4103   Industrialized 71.98743 62.27473 81.70013\n",
       "13 NewZealand    71.1 3723   Industrialized 71.65089 61.98323 81.31855\n",
       "14 Norway        73.9 4102   Industrialized 71.98655 62.27402 81.69907\n",
       "15 Portugal      68.1  956   Industrialized 69.20035 58.59486 79.80583\n",
       "16 South_Africa  68.2 1650   Industrialized 69.81497 59.64068 79.98927\n",
       "17 Sweden        74.7 5596   Industrialized 73.30968 63.01826 83.60110\n",
       "18 Switzerland   72.1 2963   Industrialized 70.97781 61.26998 80.68564\n",
       "19 Britain       72.0 2503   Industrialized 70.57042 60.75472 80.38612\n",
       "20 United_States 71.3 5523   Industrialized 73.24503 62.99587 83.49419\n",
       "21 Algeria       50.7  430   Petroleum      48.84307 38.71795 58.96820\n",
       "22 Ecuador       52.3  360   Petroleum      48.69507 38.51871 58.87143\n",
       "23 Indonesia     47.5  110   Petroleum      48.16648 37.75912 58.57385\n",
       "24 Iran          50.0 1280   Petroleum      50.64028 40.63774 60.64281\n",
       "25 Iraq          51.6  560   Petroleum      49.11794 39.07184 59.16404\n",
       "26 Libya         52.1 3010   Petroleum      54.29811 41.92710 66.66911\n",
       "27 Nigeria       36.9  180   Petroleum      48.31449 37.97920 58.64977\n",
       "28 Saudi_Arabia  42.3 1530   Petroleum      51.16886 41.02493 61.31280\n",
       "29 Venezuela     66.4 1240   Petroleum      50.55570 40.56842 60.54298"
      ]
     },
     "metadata": {},
     "output_type": "display_data"
    }
   ],
   "source": [
    "tmp <- predict(fitInteraction, interval=\"prediction\")\n",
    "predict <- cbind(data, tmp)\n",
    "predict"
   ]
  },
  {
   "cell_type": "code",
   "execution_count": 33,
   "id": "409677e5-85fe-49cb-b681-bd93d36c0542",
   "metadata": {
    "ExecuteTime": {
     "end_time": "2024-04-26T16:19:55.129599Z",
     "start_time": "2024-04-26T16:19:54.770922Z"
    }
   },
   "outputs": [
    {
     "data": {
      "image/png": "[encoded data removed]",
      "text/plain": [
       "plot without title"
      ]
     },
     "metadata": {
      "image/png": {
       "height": 480,
       "width": 720
      }
     },
     "output_type": "display_data"
    }
   ],
   "source": [
    "# Calculate distances from each point to the regression line\n",
    "predict <- predict %>%\n",
    "  mutate(residual = Life - fit)\n",
    "\n",
    "# Sort points by decreasing distance\n",
    "predict <- predict %>%\n",
    "  arrange(desc(abs(residual)))\n",
    "\n",
    "# Select top 3 outliers with largest distances\n",
    "top_3_outliers <- head(predict, 3)\n",
    "\n",
    "# Create the plot with points and model lines\n",
    "ggplot(predict, aes(x = Income, y = Life, color = Type)) +\n",
    "  geom_point() +\n",
    "  geom_line(aes(y = fit)) +\n",
    "  geom_line(aes(y = lwr), linetype = \"dashed\") +\n",
    "  geom_line(aes(y = upr), linetype = \"dashed\") +\n",
    "  geom_text(data = top_3_outliers, aes(label = Country), hjust = -0.2, vjust = -0.5, size = 3, color = \"black\") +\n",
    "  labs(title = \"Regression with Outliers\", x = \"Income\", y = \"Life\")"
   ]
  },
  {
   "cell_type": "markdown",
   "id": "47eb9fd8-aa74-450e-a333-ca6ff5014e39",
   "metadata": {},
   "source": [
    "## Model s předchozími dvěma regresory a jedním dalším ze zkoumaného datového souboru."
   ]
  },
  {
   "cell_type": "markdown",
   "id": "6fad5968-229c-491a-b686-3a07b8c78d16",
   "metadata": {},
   "source": [
    "Po zkoumání dvou regresorů kolegy vidím, že zbývá mi jen sloupec Country. Ale nemůžu ho přímo použít, protože je unikátní pro každý řádek datasetu. Proto musím udělat nějaké manipulace s ním pro vytvoření vhodné proměnné. Já jsem rozhodl udělat nový sloupec In_Europe, kde 1 - země se nachází v Evropě, 0 - země se nenachází v Evropě."
   ]
  },
  {
   "cell_type": "code",
   "execution_count": 34,
   "id": "789ef413-15b6-445f-a718-59e822ef795e",
   "metadata": {
    "ExecuteTime": {
     "end_time": "2024-04-26T16:19:55.172899Z",
     "start_time": "2024-04-26T16:19:55.136157Z"
    }
   },
   "outputs": [],
   "source": [
    "europe_vector <- data$Country %in% c(\"Austria\", \"Belgium\", \"Denmark\", \"Finland\", \"France\", \n",
    "                                     \"West_Germany\", \"Ireland\", \"Italy\", \"Netherlands\", \"Norway\", \n",
    "                                     \"Portugal\", \"Sweden\", \"Switzerland\", \"Britain\")\n",
    "data <- mutate(data, In_Europe = ifelse(europe_vector, 1, 0))"
   ]
  },
  {
   "cell_type": "code",
   "execution_count": 35,
   "id": "714666d1-c598-498c-a5e2-cdc2a0c6acf0",
   "metadata": {
    "ExecuteTime": {
     "end_time": "2024-04-26T16:19:55.273313Z",
     "start_time": "2024-04-26T16:19:55.181189Z"
    }
   },
   "outputs": [
    {
     "data": {
      "text/html": [
       "<table class=\"dataframe\">\n",
       "<caption>A data.frame: 29 × 5</caption>\n",
       "<thead>\n",
       "\t<tr><th></th><th scope=col>Country</th><th scope=col>Life</th><th scope=col>Income</th><th scope=col>Type</th><th scope=col>In_Europe</th></tr>\n",
       "\t<tr><th></th><th scope=col>&lt;chr&gt;</th><th scope=col>&lt;dbl&gt;</th><th scope=col>&lt;dbl&gt;</th><th scope=col>&lt;fct&gt;</th><th scope=col>&lt;dbl&gt;</th></tr>\n",
       "</thead>\n",
       "<tbody>\n",
       "\t<tr><th scope=row>1</th><td>Australia    </td><td>71.0</td><td>3426</td><td>Industrialized</td><td>0</td></tr>\n",
       "\t<tr><th scope=row>2</th><td>Austria      </td><td>70.4</td><td>3350</td><td>Industrialized</td><td>1</td></tr>\n",
       "\t<tr><th scope=row>3</th><td>Belgium      </td><td>70.6</td><td>3346</td><td>Industrialized</td><td>1</td></tr>\n",
       "\t<tr><th scope=row>4</th><td>Canada       </td><td>72.0</td><td>4751</td><td>Industrialized</td><td>0</td></tr>\n",
       "\t<tr><th scope=row>5</th><td>Denmark      </td><td>73.3</td><td>5029</td><td>Industrialized</td><td>1</td></tr>\n",
       "\t<tr><th scope=row>6</th><td>Finland      </td><td>69.8</td><td>3312</td><td>Industrialized</td><td>1</td></tr>\n",
       "\t<tr><th scope=row>7</th><td>France       </td><td>72.3</td><td>3403</td><td>Industrialized</td><td>1</td></tr>\n",
       "\t<tr><th scope=row>8</th><td>West_Germany </td><td>70.3</td><td>5040</td><td>Industrialized</td><td>1</td></tr>\n",
       "\t<tr><th scope=row>9</th><td>Ireland      </td><td>70.7</td><td>2009</td><td>Industrialized</td><td>1</td></tr>\n",
       "\t<tr><th scope=row>10</th><td>Italy        </td><td>70.6</td><td>2298</td><td>Industrialized</td><td>1</td></tr>\n",
       "\t<tr><th scope=row>11</th><td>Japan        </td><td>73.2</td><td>3292</td><td>Industrialized</td><td>0</td></tr>\n",
       "\t<tr><th scope=row>12</th><td>Netherlands  </td><td>73.8</td><td>4103</td><td>Industrialized</td><td>1</td></tr>\n",
       "\t<tr><th scope=row>13</th><td>NewZealand   </td><td>71.1</td><td>3723</td><td>Industrialized</td><td>0</td></tr>\n",
       "\t<tr><th scope=row>14</th><td>Norway       </td><td>73.9</td><td>4102</td><td>Industrialized</td><td>1</td></tr>\n",
       "\t<tr><th scope=row>15</th><td>Portugal     </td><td>68.1</td><td> 956</td><td>Industrialized</td><td>1</td></tr>\n",
       "\t<tr><th scope=row>16</th><td>South_Africa </td><td>68.2</td><td>1650</td><td>Industrialized</td><td>0</td></tr>\n",
       "\t<tr><th scope=row>17</th><td>Sweden       </td><td>74.7</td><td>5596</td><td>Industrialized</td><td>1</td></tr>\n",
       "\t<tr><th scope=row>18</th><td>Switzerland  </td><td>72.1</td><td>2963</td><td>Industrialized</td><td>1</td></tr>\n",
       "\t<tr><th scope=row>19</th><td>Britain      </td><td>72.0</td><td>2503</td><td>Industrialized</td><td>1</td></tr>\n",
       "\t<tr><th scope=row>20</th><td>United_States</td><td>71.3</td><td>5523</td><td>Industrialized</td><td>0</td></tr>\n",
       "\t<tr><th scope=row>21</th><td>Algeria      </td><td>50.7</td><td> 430</td><td>Petroleum     </td><td>0</td></tr>\n",
       "\t<tr><th scope=row>22</th><td>Ecuador      </td><td>52.3</td><td> 360</td><td>Petroleum     </td><td>0</td></tr>\n",
       "\t<tr><th scope=row>23</th><td>Indonesia    </td><td>47.5</td><td> 110</td><td>Petroleum     </td><td>0</td></tr>\n",
       "\t<tr><th scope=row>24</th><td>Iran         </td><td>50.0</td><td>1280</td><td>Petroleum     </td><td>0</td></tr>\n",
       "\t<tr><th scope=row>25</th><td>Iraq         </td><td>51.6</td><td> 560</td><td>Petroleum     </td><td>0</td></tr>\n",
       "\t<tr><th scope=row>26</th><td>Libya        </td><td>52.1</td><td>3010</td><td>Petroleum     </td><td>0</td></tr>\n",
       "\t<tr><th scope=row>27</th><td>Nigeria      </td><td>36.9</td><td> 180</td><td>Petroleum     </td><td>0</td></tr>\n",
       "\t<tr><th scope=row>28</th><td>Saudi_Arabia </td><td>42.3</td><td>1530</td><td>Petroleum     </td><td>0</td></tr>\n",
       "\t<tr><th scope=row>29</th><td>Venezuela    </td><td>66.4</td><td>1240</td><td>Petroleum     </td><td>0</td></tr>\n",
       "</tbody>\n",
       "</table>\n"
      ],
      "text/latex": [
       "A data.frame: 29 × 5\n",
       "\\begin{tabular}{r|lllll}\n",
       "  & Country & Life & Income & Type & In\\_Europe\\\\\n",
       "  & <chr> & <dbl> & <dbl> & <fct> & <dbl>\\\\\n",
       "\\hline\n",
       "\t1 & Australia     & 71.0 & 3426 & Industrialized & 0\\\\\n",
       "\t2 & Austria       & 70.4 & 3350 & Industrialized & 1\\\\\n",
       "\t3 & Belgium       & 70.6 & 3346 & Industrialized & 1\\\\\n",
       "\t4 & Canada        & 72.0 & 4751 & Industrialized & 0\\\\\n",
       "\t5 & Denmark       & 73.3 & 5029 & Industrialized & 1\\\\\n",
       "\t6 & Finland       & 69.8 & 3312 & Industrialized & 1\\\\\n",
       "\t7 & France        & 72.3 & 3403 & Industrialized & 1\\\\\n",
       "\t8 & West\\_Germany  & 70.3 & 5040 & Industrialized & 1\\\\\n",
       "\t9 & Ireland       & 70.7 & 2009 & Industrialized & 1\\\\\n",
       "\t10 & Italy         & 70.6 & 2298 & Industrialized & 1\\\\\n",
       "\t11 & Japan         & 73.2 & 3292 & Industrialized & 0\\\\\n",
       "\t12 & Netherlands   & 73.8 & 4103 & Industrialized & 1\\\\\n",
       "\t13 & NewZealand    & 71.1 & 3723 & Industrialized & 0\\\\\n",
       "\t14 & Norway        & 73.9 & 4102 & Industrialized & 1\\\\\n",
       "\t15 & Portugal      & 68.1 &  956 & Industrialized & 1\\\\\n",
       "\t16 & South\\_Africa  & 68.2 & 1650 & Industrialized & 0\\\\\n",
       "\t17 & Sweden        & 74.7 & 5596 & Industrialized & 1\\\\\n",
       "\t18 & Switzerland   & 72.1 & 2963 & Industrialized & 1\\\\\n",
       "\t19 & Britain       & 72.0 & 2503 & Industrialized & 1\\\\\n",
       "\t20 & United\\_States & 71.3 & 5523 & Industrialized & 0\\\\\n",
       "\t21 & Algeria       & 50.7 &  430 & Petroleum      & 0\\\\\n",
       "\t22 & Ecuador       & 52.3 &  360 & Petroleum      & 0\\\\\n",
       "\t23 & Indonesia     & 47.5 &  110 & Petroleum      & 0\\\\\n",
       "\t24 & Iran          & 50.0 & 1280 & Petroleum      & 0\\\\\n",
       "\t25 & Iraq          & 51.6 &  560 & Petroleum      & 0\\\\\n",
       "\t26 & Libya         & 52.1 & 3010 & Petroleum      & 0\\\\\n",
       "\t27 & Nigeria       & 36.9 &  180 & Petroleum      & 0\\\\\n",
       "\t28 & Saudi\\_Arabia  & 42.3 & 1530 & Petroleum      & 0\\\\\n",
       "\t29 & Venezuela     & 66.4 & 1240 & Petroleum      & 0\\\\\n",
       "\\end{tabular}\n"
      ],
      "text/markdown": [
       "\n",
       "A data.frame: 29 × 5\n",
       "\n",
       "| <!--/--> | Country &lt;chr&gt; | Life &lt;dbl&gt; | Income &lt;dbl&gt; | Type &lt;fct&gt; | In_Europe &lt;dbl&gt; |\n",
       "|---|---|---|---|---|---|\n",
       "| 1 | Australia     | 71.0 | 3426 | Industrialized | 0 |\n",
       "| 2 | Austria       | 70.4 | 3350 | Industrialized | 1 |\n",
       "| 3 | Belgium       | 70.6 | 3346 | Industrialized | 1 |\n",
       "| 4 | Canada        | 72.0 | 4751 | Industrialized | 0 |\n",
       "| 5 | Denmark       | 73.3 | 5029 | Industrialized | 1 |\n",
       "| 6 | Finland       | 69.8 | 3312 | Industrialized | 1 |\n",
       "| 7 | France        | 72.3 | 3403 | Industrialized | 1 |\n",
       "| 8 | West_Germany  | 70.3 | 5040 | Industrialized | 1 |\n",
       "| 9 | Ireland       | 70.7 | 2009 | Industrialized | 1 |\n",
       "| 10 | Italy         | 70.6 | 2298 | Industrialized | 1 |\n",
       "| 11 | Japan         | 73.2 | 3292 | Industrialized | 0 |\n",
       "| 12 | Netherlands   | 73.8 | 4103 | Industrialized | 1 |\n",
       "| 13 | NewZealand    | 71.1 | 3723 | Industrialized | 0 |\n",
       "| 14 | Norway        | 73.9 | 4102 | Industrialized | 1 |\n",
       "| 15 | Portugal      | 68.1 |  956 | Industrialized | 1 |\n",
       "| 16 | South_Africa  | 68.2 | 1650 | Industrialized | 0 |\n",
       "| 17 | Sweden        | 74.7 | 5596 | Industrialized | 1 |\n",
       "| 18 | Switzerland   | 72.1 | 2963 | Industrialized | 1 |\n",
       "| 19 | Britain       | 72.0 | 2503 | Industrialized | 1 |\n",
       "| 20 | United_States | 71.3 | 5523 | Industrialized | 0 |\n",
       "| 21 | Algeria       | 50.7 |  430 | Petroleum      | 0 |\n",
       "| 22 | Ecuador       | 52.3 |  360 | Petroleum      | 0 |\n",
       "| 23 | Indonesia     | 47.5 |  110 | Petroleum      | 0 |\n",
       "| 24 | Iran          | 50.0 | 1280 | Petroleum      | 0 |\n",
       "| 25 | Iraq          | 51.6 |  560 | Petroleum      | 0 |\n",
       "| 26 | Libya         | 52.1 | 3010 | Petroleum      | 0 |\n",
       "| 27 | Nigeria       | 36.9 |  180 | Petroleum      | 0 |\n",
       "| 28 | Saudi_Arabia  | 42.3 | 1530 | Petroleum      | 0 |\n",
       "| 29 | Venezuela     | 66.4 | 1240 | Petroleum      | 0 |\n",
       "\n"
      ],
      "text/plain": [
       "   Country       Life Income Type           In_Europe\n",
       "1  Australia     71.0 3426   Industrialized 0        \n",
       "2  Austria       70.4 3350   Industrialized 1        \n",
       "3  Belgium       70.6 3346   Industrialized 1        \n",
       "4  Canada        72.0 4751   Industrialized 0        \n",
       "5  Denmark       73.3 5029   Industrialized 1        \n",
       "6  Finland       69.8 3312   Industrialized 1        \n",
       "7  France        72.3 3403   Industrialized 1        \n",
       "8  West_Germany  70.3 5040   Industrialized 1        \n",
       "9  Ireland       70.7 2009   Industrialized 1        \n",
       "10 Italy         70.6 2298   Industrialized 1        \n",
       "11 Japan         73.2 3292   Industrialized 0        \n",
       "12 Netherlands   73.8 4103   Industrialized 1        \n",
       "13 NewZealand    71.1 3723   Industrialized 0        \n",
       "14 Norway        73.9 4102   Industrialized 1        \n",
       "15 Portugal      68.1  956   Industrialized 1        \n",
       "16 South_Africa  68.2 1650   Industrialized 0        \n",
       "17 Sweden        74.7 5596   Industrialized 1        \n",
       "18 Switzerland   72.1 2963   Industrialized 1        \n",
       "19 Britain       72.0 2503   Industrialized 1        \n",
       "20 United_States 71.3 5523   Industrialized 0        \n",
       "21 Algeria       50.7  430   Petroleum      0        \n",
       "22 Ecuador       52.3  360   Petroleum      0        \n",
       "23 Indonesia     47.5  110   Petroleum      0        \n",
       "24 Iran          50.0 1280   Petroleum      0        \n",
       "25 Iraq          51.6  560   Petroleum      0        \n",
       "26 Libya         52.1 3010   Petroleum      0        \n",
       "27 Nigeria       36.9  180   Petroleum      0        \n",
       "28 Saudi_Arabia  42.3 1530   Petroleum      0        \n",
       "29 Venezuela     66.4 1240   Petroleum      0        "
      ]
     },
     "metadata": {},
     "output_type": "display_data"
    }
   ],
   "source": [
    "data"
   ]
  },
  {
   "cell_type": "markdown",
   "id": "f12195a2-0378-4362-af1b-b277b83daf60",
   "metadata": {},
   "source": [
    "Ted začnu zkoumat, jaké regrsory jsou signifikántní pro regresní model."
   ]
  },
  {
   "cell_type": "markdown",
   "id": "82a63720-3626-4be5-9355-f3f57ba75137",
   "metadata": {},
   "source": [
    "Nejprve, udělám model, který bude obsahovat všechny regrsory bez interakcí:\n",
    "\n",
    "\n",
    "$$\\text{Life}_i=\\beta_0+\\text{Income}_i\\cdot\\beta_\\text{Income}+ \\text{Type}_i\\cdot\\beta_\\text{Type}+\\text{InEurope}_i\\cdot\\beta_\\text{InEurope}+\\epsilon_i$$"
   ]
  },
  {
   "cell_type": "code",
   "execution_count": 36,
   "id": "8cb76e97-d246-4c6b-a0f0-733802fcaa03",
   "metadata": {
    "ExecuteTime": {
     "end_time": "2024-04-26T16:19:55.325331Z",
     "start_time": "2024-04-26T16:19:55.281873Z"
    }
   },
   "outputs": [
    {
     "data": {
      "text/plain": [
       "\n",
       "Call:\n",
       "lm(formula = Life ~ Income + Type + In_Europe, data = data)\n",
       "\n",
       "Residuals:\n",
       "     Min       1Q   Median       3Q      Max \n",
       "-12.1824  -0.9195  -0.0282   1.3330  16.1111 \n",
       "\n",
       "Coefficients:\n",
       "                Estimate Std. Error t value Pr(>|t|)    \n",
       "(Intercept)    6.689e+01  3.390e+00  19.734  < 2e-16 ***\n",
       "Income         1.138e-03  7.569e-04   1.504    0.145    \n",
       "TypePetroleum -1.801e+01  3.202e+00  -5.626 7.45e-06 ***\n",
       "In_Europe      8.204e-01  2.257e+00   0.363    0.719    \n",
       "---\n",
       "Signif. codes:  0 '***' 0.001 '**' 0.01 '*' 0.05 '.' 0.1 ' ' 1\n",
       "\n",
       "Residual standard error: 4.603 on 25 degrees of freedom\n",
       "Multiple R-squared:  0.8463,\tAdjusted R-squared:  0.8279 \n",
       "F-statistic: 45.88 on 3 and 25 DF,  p-value: 2.593e-10\n"
      ]
     },
     "metadata": {},
     "output_type": "display_data"
    }
   ],
   "source": [
    "fit_all <- lm(Life ~ Income + Type + In_Europe, data = data)\n",
    "summary(fit_all)"
   ]
  },
  {
   "cell_type": "markdown",
   "id": "83130302-46b7-4003-86ff-d2575ba8515c",
   "metadata": {},
   "source": [
    "Vidím, že kromě absolutního členu a regresoru TypePetroleum jsou všechny ostatní regresory nevýznamné.\n",
    "\n",
    "Nevýznamnost musím interpretovat z hlediska každého z regresorů zvlášť - když ho z původního modelu vynechám, nic významného se nestane.\n",
    "Nevím, co se stane, kdybych vynechal všechny nevýznamné regresory dohromady. Proto musím porovnat původní model obsahující všechny regresory s modely obshaujícími nějaké interakce mezi regresory a s podmodely s vynechanými regresory."
   ]
  },
  {
   "cell_type": "markdown",
   "id": "618afe58-57f7-4b90-8295-1070a0ff3d95",
   "metadata": {},
   "source": [
    "Především, ověrme zda tady jednotlivé regresory modelu jsou závislé na všech ostatních. Udělám to pomocí faktoru zvětšení rozptylu VIF:"
   ]
  },
  {
   "cell_type": "code",
   "execution_count": 37,
   "id": "12e186bf-8e0c-43ae-8a3e-51bea8b479b9",
   "metadata": {
    "ExecuteTime": {
     "end_time": "2024-04-26T16:19:55.380640Z",
     "start_time": "2024-04-26T16:19:55.333357Z"
    }
   },
   "outputs": [
    {
     "data": {
      "text/html": [
       "<style>\n",
       ".dl-inline {width: auto; margin:0; padding: 0}\n",
       ".dl-inline>dt, .dl-inline>dd {float: none; width: auto; display: inline-block}\n",
       ".dl-inline>dt::after {content: \":\\0020\"; padding-right: .5ex}\n",
       ".dl-inline>dt:not(:first-of-type) {padding-left: .5ex}\n",
       "</style><dl class=dl-inline><dt>Income</dt><dd>2.103</dd><dt>Type</dt><dd>3.004</dd><dt>In_Europe</dt><dd>1.742</dd></dl>\n"
      ],
      "text/latex": [
       "\\begin{description*}\n",
       "\\item[Income] 2.103\n",
       "\\item[Type] 3.004\n",
       "\\item[In\\textbackslash{}\\_Europe] 1.742\n",
       "\\end{description*}\n"
      ],
      "text/markdown": [
       "Income\n",
       ":   2.103Type\n",
       ":   3.004In_Europe\n",
       ":   1.742\n",
       "\n"
      ],
      "text/plain": [
       "   Income      Type In_Europe \n",
       "    2.103     3.004     1.742 "
      ]
     },
     "metadata": {},
     "output_type": "display_data"
    }
   ],
   "source": [
    "library(car)\n",
    "round(vif(fit_all),3)"
   ]
  },
  {
   "cell_type": "markdown",
   "id": "1a1681a7-3e36-497c-ae22-83f0f50fa743",
   "metadata": {},
   "source": [
    "Vidím, že všechny regresory má VIF menší než 5, proto můžeme je nechat."
   ]
  },
  {
   "cell_type": "markdown",
   "id": "d6a6b8a9-14da-45c7-ac8d-36ed9cca828b",
   "metadata": {},
   "source": [
    "Zkusím v širším modelu fit_all přidat i interakce mezi všechny regresory a otestovat, jestli přináší významné zlepšení predikce."
   ]
  },
  {
   "cell_type": "code",
   "execution_count": 38,
   "id": "9e32f5de-552b-41ef-ad70-070896f733f0",
   "metadata": {
    "ExecuteTime": {
     "end_time": "2024-04-26T16:19:55.461102Z",
     "start_time": "2024-04-26T16:19:55.388339Z"
    }
   },
   "outputs": [
    {
     "data": {
      "text/plain": [
       "\n",
       "Call:\n",
       "lm(formula = Life ~ Income * Type * In_Europe, data = data)\n",
       "\n",
       "Residuals:\n",
       "    Min      1Q  Median      3Q     Max \n",
       "-11.415  -1.133   0.091   1.309  15.844 \n",
       "\n",
       "Coefficients: (2 not defined because of singularities)\n",
       "                                 Estimate Std. Error t value Pr(>|t|)    \n",
       "(Intercept)                     6.843e+01  6.267e+00  10.920 1.42e-10 ***\n",
       "Income                          7.240e-04  1.598e-03   0.453  0.65482    \n",
       "TypePetroleum                  -2.050e+01  6.700e+00  -3.060  0.00555 ** \n",
       "In_Europe                      -2.388e-01  7.309e+00  -0.033  0.97422    \n",
       "Income:TypePetroleum            1.390e-03  2.422e-03   0.574  0.57156    \n",
       "Income:In_Europe                2.729e-04  1.903e-03   0.143  0.88722    \n",
       "TypePetroleum:In_Europe                NA         NA      NA       NA    \n",
       "Income:TypePetroleum:In_Europe         NA         NA      NA       NA    \n",
       "---\n",
       "Signif. codes:  0 '***' 0.001 '**' 0.01 '*' 0.05 '.' 0.1 ' ' 1\n",
       "\n",
       "Residual standard error: 4.76 on 23 degrees of freedom\n",
       "Multiple R-squared:  0.8488,\tAdjusted R-squared:  0.8159 \n",
       "F-statistic: 25.81 on 5 and 23 DF,  p-value: 1.007e-08\n"
      ]
     },
     "metadata": {},
     "output_type": "display_data"
    },
    {
     "data": {
      "text/html": [
       "0.846297427181002"
      ],
      "text/latex": [
       "0.846297427181002"
      ],
      "text/markdown": [
       "0.846297427181002"
      ],
      "text/plain": [
       "[1] 0.8462974"
      ]
     },
     "metadata": {},
     "output_type": "display_data"
    },
    {
     "data": {
      "text/html": [
       "0.827853118442723"
      ],
      "text/latex": [
       "0.827853118442723"
      ],
      "text/markdown": [
       "0.827853118442723"
      ],
      "text/plain": [
       "[1] 0.8278531"
      ]
     },
     "metadata": {},
     "output_type": "display_data"
    },
    {
     "data": {
      "text/html": [
       "0.848753767056931"
      ],
      "text/latex": [
       "0.848753767056931"
      ],
      "text/markdown": [
       "0.848753767056931"
      ],
      "text/plain": [
       "[1] 0.8487538"
      ]
     },
     "metadata": {},
     "output_type": "display_data"
    },
    {
     "data": {
      "text/html": [
       "0.815874151199742"
      ],
      "text/latex": [
       "0.815874151199742"
      ],
      "text/markdown": [
       "0.815874151199742"
      ],
      "text/plain": [
       "[1] 0.8158742"
      ]
     },
     "metadata": {},
     "output_type": "display_data"
    }
   ],
   "source": [
    "fit_int=lm(Life ~ Income * Type * In_Europe, data=data)\n",
    "summary(fit_int)\n",
    "\n",
    "summary(fit_all)$r.squared\n",
    "summary(fit_all)$adj.r.squared\n",
    "\n",
    "summary(fit_int)$r.squared\n",
    "summary(fit_int)$adj.r.squared"
   ]
  },
  {
   "cell_type": "markdown",
   "id": "5e56e8da-c7e2-4bcb-bbee-28a03632c605",
   "metadata": {},
   "source": [
    "Vidím, že jen intercept a TypePetroleum jsou významné regresory. Je vidět, že u některých kombinací interakcí už v datech není dostatek pozorování, aby bylo možné odhadnout parametry, proto zkusím otestovat modely s interakcemi mezi jednotlivými regresory. \n",
    "Obyčejný koeficent determinace Multiple R-Squared je skoro stejný, ale adjustovaný Adjusted R-Squared je o něco horší u modelu s interakcemi."
   ]
  },
  {
   "cell_type": "code",
   "execution_count": 39,
   "id": "592cc785-55f2-47a8-a9f2-e3f0b800c906",
   "metadata": {
    "ExecuteTime": {
     "end_time": "2024-04-26T16:19:57.293787Z",
     "start_time": "2024-04-26T16:19:57.212755Z"
    }
   },
   "outputs": [
    {
     "data": {
      "text/html": [
       "<table class=\"dataframe\">\n",
       "<caption>A anova: 2 × 6</caption>\n",
       "<thead>\n",
       "\t<tr><th></th><th scope=col>Res.Df</th><th scope=col>RSS</th><th scope=col>Df</th><th scope=col>Sum of Sq</th><th scope=col>F</th><th scope=col>Pr(&gt;F)</th></tr>\n",
       "\t<tr><th></th><th scope=col>&lt;dbl&gt;</th><th scope=col>&lt;dbl&gt;</th><th scope=col>&lt;dbl&gt;</th><th scope=col>&lt;dbl&gt;</th><th scope=col>&lt;dbl&gt;</th><th scope=col>&lt;dbl&gt;</th></tr>\n",
       "</thead>\n",
       "<tbody>\n",
       "\t<tr><th scope=row>1</th><td>23</td><td>521.1219</td><td>NA</td><td>       NA</td><td>       NA</td><td>       NA</td></tr>\n",
       "\t<tr><th scope=row>2</th><td>25</td><td>529.5853</td><td>-2</td><td>-8.463368</td><td>0.1867677</td><td>0.8308822</td></tr>\n",
       "</tbody>\n",
       "</table>\n"
      ],
      "text/latex": [
       "A anova: 2 × 6\n",
       "\\begin{tabular}{r|llllll}\n",
       "  & Res.Df & RSS & Df & Sum of Sq & F & Pr(>F)\\\\\n",
       "  & <dbl> & <dbl> & <dbl> & <dbl> & <dbl> & <dbl>\\\\\n",
       "\\hline\n",
       "\t1 & 23 & 521.1219 & NA &        NA &        NA &        NA\\\\\n",
       "\t2 & 25 & 529.5853 & -2 & -8.463368 & 0.1867677 & 0.8308822\\\\\n",
       "\\end{tabular}\n"
      ],
      "text/markdown": [
       "\n",
       "A anova: 2 × 6\n",
       "\n",
       "| <!--/--> | Res.Df &lt;dbl&gt; | RSS &lt;dbl&gt; | Df &lt;dbl&gt; | Sum of Sq &lt;dbl&gt; | F &lt;dbl&gt; | Pr(&gt;F) &lt;dbl&gt; |\n",
       "|---|---|---|---|---|---|---|\n",
       "| 1 | 23 | 521.1219 | NA |        NA |        NA |        NA |\n",
       "| 2 | 25 | 529.5853 | -2 | -8.463368 | 0.1867677 | 0.8308822 |\n",
       "\n"
      ],
      "text/plain": [
       "  Res.Df RSS      Df Sum of Sq F         Pr(>F)   \n",
       "1 23     521.1219 NA        NA        NA        NA\n",
       "2 25     529.5853 -2 -8.463368 0.1867677 0.8308822"
      ]
     },
     "metadata": {},
     "output_type": "display_data"
    }
   ],
   "source": [
    "anova(fit_int, fit_all)"
   ]
  },
  {
   "cell_type": "markdown",
   "id": "4db97382-69f9-4583-a564-79b2b757f0d6",
   "metadata": {},
   "source": [
    "p-hodnota hypotézy H0 je rovna 0.8308822, tedy nezamítáme nulovou hypotézu. Z analýzy rozpytlů vidím, že není žádný rozdíl mezi modely fit_all a fit_int."
   ]
  },
  {
   "cell_type": "markdown",
   "id": "c1c44c83-fa9d-4c2d-ade4-e73fa13d3445",
   "metadata": {},
   "source": [
    "Uvažuju podmodel zahrnující jen regresory Income a Type:\n",
    "\n",
    "$$\\text{Life}_i=\\beta_0+\\text{InEurope}_i\\cdot\\beta_\\text{InEurope}+ \\text{Type}_i\\cdot\\beta_\\text{Type}+\\epsilon_i$$"
   ]
  },
  {
   "cell_type": "code",
   "execution_count": 40,
   "id": "9d67e696-bced-413f-a4e2-1ecddac1d9b3",
   "metadata": {
    "ExecuteTime": {
     "end_time": "2024-04-26T16:19:59.152255Z",
     "start_time": "2024-04-26T16:19:59.080580Z"
    }
   },
   "outputs": [
    {
     "data": {
      "text/plain": [
       "\n",
       "Call:\n",
       "lm(formula = Life ~ In_Europe + Type, data = data)\n",
       "\n",
       "Residuals:\n",
       "     Min       1Q   Median       3Q      Max \n",
       "-13.0778  -1.2143   0.1667   1.6857  16.4222 \n",
       "\n",
       "Coefficients:\n",
       "              Estimate Std. Error t value Pr(>|t|)    \n",
       "(Intercept)     71.133      1.924  36.971  < 2e-16 ***\n",
       "In_Europe        0.481      2.300   0.209    0.836    \n",
       "TypePetroleum  -21.156      2.484  -8.517 5.36e-09 ***\n",
       "---\n",
       "Signif. codes:  0 '***' 0.001 '**' 0.01 '*' 0.05 '.' 0.1 ' ' 1\n",
       "\n",
       "Residual standard error: 4.713 on 26 degrees of freedom\n",
       "Multiple R-squared:  0.8324,\tAdjusted R-squared:  0.8195 \n",
       "F-statistic: 64.56 on 2 and 26 DF,  p-value: 8.236e-11\n"
      ]
     },
     "metadata": {},
     "output_type": "display_data"
    },
    {
     "data": {
      "text/html": [
       "0.846297427181002"
      ],
      "text/latex": [
       "0.846297427181002"
      ],
      "text/markdown": [
       "0.846297427181002"
      ],
      "text/plain": [
       "[1] 0.8462974"
      ]
     },
     "metadata": {},
     "output_type": "display_data"
    },
    {
     "data": {
      "text/html": [
       "0.827853118442723"
      ],
      "text/latex": [
       "0.827853118442723"
      ],
      "text/markdown": [
       "0.827853118442723"
      ],
      "text/plain": [
       "[1] 0.8278531"
      ]
     },
     "metadata": {},
     "output_type": "display_data"
    },
    {
     "data": {
      "text/html": [
       "0.83239509636742"
      ],
      "text/latex": [
       "0.83239509636742"
      ],
      "text/markdown": [
       "0.83239509636742"
      ],
      "text/plain": [
       "[1] 0.8323951"
      ]
     },
     "metadata": {},
     "output_type": "display_data"
    },
    {
     "data": {
      "text/html": [
       "0.819502411472606"
      ],
      "text/latex": [
       "0.819502411472606"
      ],
      "text/markdown": [
       "0.819502411472606"
      ],
      "text/plain": [
       "[1] 0.8195024"
      ]
     },
     "metadata": {},
     "output_type": "display_data"
    }
   ],
   "source": [
    "fit_type_europe <- lm(Life ~ In_Europe + Type, data = data)\n",
    "summary(fit_type_europe)\n",
    "\n",
    "summary(fit_all)$r.squared\n",
    "summary(fit_all)$adj.r.squared\n",
    "\n",
    "summary(fit_type_europe)$r.squared\n",
    "summary(fit_type_europe)$adj.r.squared"
   ]
  },
  {
   "cell_type": "markdown",
   "id": "988e5974-6357-4bea-9605-9527a7df444c",
   "metadata": {},
   "source": [
    "Vidím, že signifikántí regresory jsou jen Intercept a TypePetroleum. Multiple R-Sqaured a Adjusted R-Squared jsou horší než u půvdoního modelu"
   ]
  },
  {
   "cell_type": "code",
   "execution_count": 41,
   "id": "5dcb220f-ad75-4bc0-8552-04fe1759d537",
   "metadata": {
    "ExecuteTime": {
     "end_time": "2024-04-26T16:19:59.520071Z",
     "start_time": "2024-04-26T16:19:59.472495Z"
    }
   },
   "outputs": [
    {
     "data": {
      "text/html": [
       "<table class=\"dataframe\">\n",
       "<caption>A anova: 2 × 6</caption>\n",
       "<thead>\n",
       "\t<tr><th></th><th scope=col>Res.Df</th><th scope=col>RSS</th><th scope=col>Df</th><th scope=col>Sum of Sq</th><th scope=col>F</th><th scope=col>Pr(&gt;F)</th></tr>\n",
       "\t<tr><th></th><th scope=col>&lt;dbl&gt;</th><th scope=col>&lt;dbl&gt;</th><th scope=col>&lt;dbl&gt;</th><th scope=col>&lt;dbl&gt;</th><th scope=col>&lt;dbl&gt;</th><th scope=col>&lt;dbl&gt;</th></tr>\n",
       "</thead>\n",
       "<tbody>\n",
       "\t<tr><th scope=row>1</th><td>26</td><td>577.4861</td><td>NA</td><td>      NA</td><td>      NA</td><td>       NA</td></tr>\n",
       "\t<tr><th scope=row>2</th><td>25</td><td>529.5853</td><td> 1</td><td>47.90076</td><td>2.261239</td><td>0.1451769</td></tr>\n",
       "</tbody>\n",
       "</table>\n"
      ],
      "text/latex": [
       "A anova: 2 × 6\n",
       "\\begin{tabular}{r|llllll}\n",
       "  & Res.Df & RSS & Df & Sum of Sq & F & Pr(>F)\\\\\n",
       "  & <dbl> & <dbl> & <dbl> & <dbl> & <dbl> & <dbl>\\\\\n",
       "\\hline\n",
       "\t1 & 26 & 577.4861 & NA &       NA &       NA &        NA\\\\\n",
       "\t2 & 25 & 529.5853 &  1 & 47.90076 & 2.261239 & 0.1451769\\\\\n",
       "\\end{tabular}\n"
      ],
      "text/markdown": [
       "\n",
       "A anova: 2 × 6\n",
       "\n",
       "| <!--/--> | Res.Df &lt;dbl&gt; | RSS &lt;dbl&gt; | Df &lt;dbl&gt; | Sum of Sq &lt;dbl&gt; | F &lt;dbl&gt; | Pr(&gt;F) &lt;dbl&gt; |\n",
       "|---|---|---|---|---|---|---|\n",
       "| 1 | 26 | 577.4861 | NA |       NA |       NA |        NA |\n",
       "| 2 | 25 | 529.5853 |  1 | 47.90076 | 2.261239 | 0.1451769 |\n",
       "\n"
      ],
      "text/plain": [
       "  Res.Df RSS      Df Sum of Sq F        Pr(>F)   \n",
       "1 26     577.4861 NA       NA        NA        NA\n",
       "2 25     529.5853  1 47.90076  2.261239 0.1451769"
      ]
     },
     "metadata": {},
     "output_type": "display_data"
    }
   ],
   "source": [
    "anova(fit_type_europe, fit_all)"
   ]
  },
  {
   "cell_type": "markdown",
   "id": "fdfd6f44-3663-4fd3-a116-e626777ce509",
   "metadata": {},
   "source": [
    "p-hodnota je 0.1451769, tedy nulovost nezamítáme. Z testu vidím, že není statisticky významný rozdíl mezi šírším modelem a podmodelem."
   ]
  },
  {
   "cell_type": "markdown",
   "id": "1469765f-5192-45c5-b38f-dd4af745c684",
   "metadata": {},
   "source": [
    "Ted zkusím podmodel s regrosory Income a Type:\n",
    "\n",
    "$$\\text{Life}_i=\\beta_0+\\text{Income}_i\\cdot\\beta_\\text{Income}+ \\text{Type}_i\\cdot\\beta_\\text{Type}+\\epsilon_i$$"
   ]
  },
  {
   "cell_type": "code",
   "execution_count": 42,
   "id": "2aa974dc-2706-487a-b597-eed3291075d4",
   "metadata": {
    "ExecuteTime": {
     "end_time": "2024-04-26T16:19:59.961690Z",
     "start_time": "2024-04-26T16:19:59.889405Z"
    }
   },
   "outputs": [
    {
     "data": {
      "text/plain": [
       "\n",
       "Call:\n",
       "lm(formula = Life ~ Income + Type, data = data)\n",
       "\n",
       "Residuals:\n",
       "     Min       1Q   Median       3Q      Max \n",
       "-12.2041  -0.8826  -0.1471   1.3183  16.1187 \n",
       "\n",
       "Coefficients:\n",
       "                Estimate Std. Error t value Pr(>|t|)    \n",
       "(Intercept)    6.756e+01  2.795e+00  24.174  < 2e-16 ***\n",
       "Income         1.111e-03  7.404e-04   1.500    0.146    \n",
       "TypePetroleum -1.866e+01  2.621e+00  -7.119 1.47e-07 ***\n",
       "---\n",
       "Signif. codes:  0 '***' 0.001 '**' 0.01 '*' 0.05 '.' 0.1 ' ' 1\n",
       "\n",
       "Residual standard error: 4.525 on 26 degrees of freedom\n",
       "Multiple R-squared:  0.8455,\tAdjusted R-squared:  0.8336 \n",
       "F-statistic: 71.13 on 2 and 26 DF,  p-value: 2.862e-11\n"
      ]
     },
     "metadata": {},
     "output_type": "display_data"
    },
    {
     "data": {
      "text/html": [
       "0.846297427181002"
      ],
      "text/latex": [
       "0.846297427181002"
      ],
      "text/markdown": [
       "0.846297427181002"
      ],
      "text/plain": [
       "[1] 0.8462974"
      ]
     },
     "metadata": {},
     "output_type": "display_data"
    },
    {
     "data": {
      "text/html": [
       "0.827853118442723"
      ],
      "text/latex": [
       "0.827853118442723"
      ],
      "text/markdown": [
       "0.827853118442723"
      ],
      "text/plain": [
       "[1] 0.8278531"
      ]
     },
     "metadata": {},
     "output_type": "display_data"
    },
    {
     "data": {
      "text/html": [
       "0.845485272793376"
      ],
      "text/latex": [
       "0.845485272793376"
      ],
      "text/markdown": [
       "0.845485272793376"
      ],
      "text/plain": [
       "[1] 0.8454853"
      ]
     },
     "metadata": {},
     "output_type": "display_data"
    },
    {
     "data": {
      "text/html": [
       "0.833599524546712"
      ],
      "text/latex": [
       "0.833599524546712"
      ],
      "text/markdown": [
       "0.833599524546712"
      ],
      "text/plain": [
       "[1] 0.8335995"
      ]
     },
     "metadata": {},
     "output_type": "display_data"
    }
   ],
   "source": [
    "fit_type_income <- lm(Life ~ Income + Type, data = data)\n",
    "summary(fit_type_income)\n",
    "\n",
    "summary(fit_all)$r.squared\n",
    "summary(fit_all)$adj.r.squared\n",
    "\n",
    "summary(fit_type_income)$r.squared\n",
    "summary(fit_type_income)$adj.r.squared"
   ]
  },
  {
   "cell_type": "markdown",
   "id": "33b85b77-b98e-4ece-84ef-f15643ba0154",
   "metadata": {},
   "source": [
    "Zase vidím, že intercept a Type jsou významné komponenty. Multiple R-Squared koeficient je trochu horší než u původního modelu, ale je Adjusted R-Squared o něco vyšší."
   ]
  },
  {
   "cell_type": "code",
   "execution_count": 43,
   "id": "ee6236c5-4716-4c9b-9a3c-6372afbd383e",
   "metadata": {
    "ExecuteTime": {
     "end_time": "2024-04-26T16:20:00.482487Z",
     "start_time": "2024-04-26T16:20:00.428612Z"
    }
   },
   "outputs": [
    {
     "data": {
      "text/html": [
       "<table class=\"dataframe\">\n",
       "<caption>A anova: 2 × 6</caption>\n",
       "<thead>\n",
       "\t<tr><th></th><th scope=col>Res.Df</th><th scope=col>RSS</th><th scope=col>Df</th><th scope=col>Sum of Sq</th><th scope=col>F</th><th scope=col>Pr(&gt;F)</th></tr>\n",
       "\t<tr><th></th><th scope=col>&lt;dbl&gt;</th><th scope=col>&lt;dbl&gt;</th><th scope=col>&lt;dbl&gt;</th><th scope=col>&lt;dbl&gt;</th><th scope=col>&lt;dbl&gt;</th><th scope=col>&lt;dbl&gt;</th></tr>\n",
       "</thead>\n",
       "<tbody>\n",
       "\t<tr><th scope=row>1</th><td>26</td><td>532.3836</td><td>NA</td><td>      NA</td><td>       NA</td><td>       NA</td></tr>\n",
       "\t<tr><th scope=row>2</th><td>25</td><td>529.5853</td><td> 1</td><td>2.798294</td><td>0.1320984</td><td>0.7193216</td></tr>\n",
       "</tbody>\n",
       "</table>\n"
      ],
      "text/latex": [
       "A anova: 2 × 6\n",
       "\\begin{tabular}{r|llllll}\n",
       "  & Res.Df & RSS & Df & Sum of Sq & F & Pr(>F)\\\\\n",
       "  & <dbl> & <dbl> & <dbl> & <dbl> & <dbl> & <dbl>\\\\\n",
       "\\hline\n",
       "\t1 & 26 & 532.3836 & NA &       NA &        NA &        NA\\\\\n",
       "\t2 & 25 & 529.5853 &  1 & 2.798294 & 0.1320984 & 0.7193216\\\\\n",
       "\\end{tabular}\n"
      ],
      "text/markdown": [
       "\n",
       "A anova: 2 × 6\n",
       "\n",
       "| <!--/--> | Res.Df &lt;dbl&gt; | RSS &lt;dbl&gt; | Df &lt;dbl&gt; | Sum of Sq &lt;dbl&gt; | F &lt;dbl&gt; | Pr(&gt;F) &lt;dbl&gt; |\n",
       "|---|---|---|---|---|---|---|\n",
       "| 1 | 26 | 532.3836 | NA |       NA |        NA |        NA |\n",
       "| 2 | 25 | 529.5853 |  1 | 2.798294 | 0.1320984 | 0.7193216 |\n",
       "\n"
      ],
      "text/plain": [
       "  Res.Df RSS      Df Sum of Sq F         Pr(>F)   \n",
       "1 26     532.3836 NA       NA         NA        NA\n",
       "2 25     529.5853  1 2.798294  0.1320984 0.7193216"
      ]
     },
     "metadata": {},
     "output_type": "display_data"
    }
   ],
   "source": [
    "anova(fit_type_income, fit_all)"
   ]
  },
  {
   "cell_type": "markdown",
   "id": "568f3cf5-e6ee-4bb0-a607-6d7636c02483",
   "metadata": {},
   "source": [
    "Podle p-hodnoty F-testu opět není mezi modely statisticky výzmanmý rozdíl."
   ]
  },
  {
   "cell_type": "markdown",
   "id": "781deb69-f6aa-4449-95c3-47deacec0fa3",
   "metadata": {},
   "source": [
    "Zkusím ted, podmodel obsahující regresory InEurope a Income: \n",
    "\n",
    "$$\\text{Life}_i=\\beta_0+\\text{InEurope}_i\\cdot\\beta_\\text{InEurope}+ \\text{Income}_i\\cdot\\beta_\\text{Income}+\\epsilon_i$$"
   ]
  },
  {
   "cell_type": "code",
   "execution_count": 44,
   "id": "d08a1c61-b2ea-465b-ad45-327a445085bb",
   "metadata": {
    "ExecuteTime": {
     "end_time": "2024-04-26T16:20:01.000283Z",
     "start_time": "2024-04-26T16:20:00.886434Z"
    }
   },
   "outputs": [
    {
     "data": {
      "text/plain": [
       "\n",
       "Call:\n",
       "lm(formula = Life ~ In_Europe + Income, data = data)\n",
       "\n",
       "Residuals:\n",
       "     Min       1Q   Median       3Q      Max \n",
       "-14.1323  -3.2581  -0.4535   4.0143  11.4092 \n",
       "\n",
       "Coefficients:\n",
       "             Estimate Std. Error t value Pr(>|t|)    \n",
       "(Intercept) 5.033e+01  2.480e+00  20.293  < 2e-16 ***\n",
       "In_Europe   7.853e+00  2.774e+00   2.831  0.00884 ** \n",
       "Income      3.917e-03  8.465e-04   4.628 8.98e-05 ***\n",
       "---\n",
       "Signif. codes:  0 '***' 0.001 '**' 0.01 '*' 0.05 '.' 0.1 ' ' 1\n",
       "\n",
       "Residual standard error: 6.794 on 26 degrees of freedom\n",
       "Multiple R-squared:  0.6517,\tAdjusted R-squared:  0.6249 \n",
       "F-statistic: 24.32 on 2 and 26 DF,  p-value: 1.111e-06\n"
      ]
     },
     "metadata": {},
     "output_type": "display_data"
    },
    {
     "data": {
      "text/html": [
       "0.846297427181002"
      ],
      "text/latex": [
       "0.846297427181002"
      ],
      "text/markdown": [
       "0.846297427181002"
      ],
      "text/plain": [
       "[1] 0.8462974"
      ]
     },
     "metadata": {},
     "output_type": "display_data"
    },
    {
     "data": {
      "text/html": [
       "0.827853118442723"
      ],
      "text/latex": [
       "0.827853118442723"
      ],
      "text/markdown": [
       "0.827853118442723"
      ],
      "text/plain": [
       "[1] 0.8278531"
      ]
     },
     "metadata": {},
     "output_type": "display_data"
    },
    {
     "data": {
      "text/html": [
       "0.65168014478542"
      ],
      "text/latex": [
       "0.65168014478542"
      ],
      "text/markdown": [
       "0.65168014478542"
      ],
      "text/plain": [
       "[1] 0.6516801"
      ]
     },
     "metadata": {},
     "output_type": "display_data"
    },
    {
     "data": {
      "text/html": [
       "0.624886309768914"
      ],
      "text/latex": [
       "0.624886309768914"
      ],
      "text/markdown": [
       "0.624886309768914"
      ],
      "text/plain": [
       "[1] 0.6248863"
      ]
     },
     "metadata": {},
     "output_type": "display_data"
    }
   ],
   "source": [
    "fit_income_europe <- lm(Life ~ In_Europe + Income, data = data)\n",
    "summary(fit_income_europe)\n",
    "\n",
    "summary(fit_all)$r.squared\n",
    "summary(fit_all)$adj.r.squared\n",
    "\n",
    "summary(fit_income_europe)$r.squared\n",
    "summary(fit_income_europe)$adj.r.squared"
   ]
  },
  {
   "cell_type": "markdown",
   "id": "990dc6e9-6875-423d-bc9e-c278aa737963",
   "metadata": {},
   "source": [
    "Jak to bylo očekávané, obyčejný a adjustovaný koeficeinty determinace jsou mnohem horší než u původního šíršího modelu, protože zvolený podmodel neobsahuje signifikantní regresor - TypePetroleum."
   ]
  },
  {
   "cell_type": "code",
   "execution_count": 45,
   "id": "95366fa0-6865-4a35-85cf-52d4fd538089",
   "metadata": {
    "ExecuteTime": {
     "end_time": "2024-04-26T16:20:01.586986Z",
     "start_time": "2024-04-26T16:20:01.549830Z"
    }
   },
   "outputs": [
    {
     "data": {
      "text/html": [
       "<table class=\"dataframe\">\n",
       "<caption>A anova: 2 × 6</caption>\n",
       "<thead>\n",
       "\t<tr><th></th><th scope=col>Res.Df</th><th scope=col>RSS</th><th scope=col>Df</th><th scope=col>Sum of Sq</th><th scope=col>F</th><th scope=col>Pr(&gt;F)</th></tr>\n",
       "\t<tr><th></th><th scope=col>&lt;dbl&gt;</th><th scope=col>&lt;dbl&gt;</th><th scope=col>&lt;dbl&gt;</th><th scope=col>&lt;dbl&gt;</th><th scope=col>&lt;dbl&gt;</th><th scope=col>&lt;dbl&gt;</th></tr>\n",
       "</thead>\n",
       "<tbody>\n",
       "\t<tr><th scope=row>1</th><td>26</td><td>1200.1431</td><td>NA</td><td>      NA</td><td>      NA</td><td>          NA</td></tr>\n",
       "\t<tr><th scope=row>2</th><td>25</td><td> 529.5853</td><td> 1</td><td>670.5578</td><td>31.65485</td><td>7.445109e-06</td></tr>\n",
       "</tbody>\n",
       "</table>\n"
      ],
      "text/latex": [
       "A anova: 2 × 6\n",
       "\\begin{tabular}{r|llllll}\n",
       "  & Res.Df & RSS & Df & Sum of Sq & F & Pr(>F)\\\\\n",
       "  & <dbl> & <dbl> & <dbl> & <dbl> & <dbl> & <dbl>\\\\\n",
       "\\hline\n",
       "\t1 & 26 & 1200.1431 & NA &       NA &       NA &           NA\\\\\n",
       "\t2 & 25 &  529.5853 &  1 & 670.5578 & 31.65485 & 7.445109e-06\\\\\n",
       "\\end{tabular}\n"
      ],
      "text/markdown": [
       "\n",
       "A anova: 2 × 6\n",
       "\n",
       "| <!--/--> | Res.Df &lt;dbl&gt; | RSS &lt;dbl&gt; | Df &lt;dbl&gt; | Sum of Sq &lt;dbl&gt; | F &lt;dbl&gt; | Pr(&gt;F) &lt;dbl&gt; |\n",
       "|---|---|---|---|---|---|---|\n",
       "| 1 | 26 | 1200.1431 | NA |       NA |       NA |           NA |\n",
       "| 2 | 25 |  529.5853 |  1 | 670.5578 | 31.65485 | 7.445109e-06 |\n",
       "\n"
      ],
      "text/plain": [
       "  Res.Df RSS       Df Sum of Sq F        Pr(>F)      \n",
       "1 26     1200.1431 NA       NA        NA           NA\n",
       "2 25      529.5853  1 670.5578  31.65485 7.445109e-06"
      ]
     },
     "metadata": {},
     "output_type": "display_data"
    }
   ],
   "source": [
    "anova(fit_income_europe, fit_all)"
   ]
  },
  {
   "cell_type": "markdown",
   "id": "cbc8d0bc-ee01-4496-9c01-3e97e0a048df",
   "metadata": {},
   "source": [
    "Jak ukazuje test na analýzu rozptylů, p-hodnota je rovna 7.445109e-06. Tedy, je mezi modely významný statisticky rozdíl.\n",
    "\n",
    "Odebráním proměnné TypePetroleum se model významně zhoršil."
   ]
  },
  {
   "cell_type": "markdown",
   "id": "7562e8b5-3477-4543-b1ca-075e08129c60",
   "metadata": {},
   "source": [
    "Ted zkusím podmodel obsahující pouze jeden signifikántní regresor - TypePetroleum:\n",
    "\n",
    "$$\\text{Life}_i=\\beta_0+\\text{Type}_i\\cdot\\beta_\\text{Type}+\\epsilon_i$$"
   ]
  },
  {
   "cell_type": "code",
   "execution_count": 46,
   "id": "939899cb-6dd2-4bed-bdb4-3e29421c1e04",
   "metadata": {
    "ExecuteTime": {
     "end_time": "2024-04-26T16:20:02.148361Z",
     "start_time": "2024-04-26T16:20:02.066962Z"
    }
   },
   "outputs": [
    {
     "data": {
      "text/plain": [
       "\n",
       "Call:\n",
       "lm(formula = Life ~ Type, data = data)\n",
       "\n",
       "Residuals:\n",
       "     Min       1Q   Median       3Q      Max \n",
       "-13.0778  -1.0700   0.0222   1.7300  16.4222 \n",
       "\n",
       "Coefficients:\n",
       "              Estimate Std. Error t value Pr(>|t|)    \n",
       "(Intercept)     71.470      1.035   69.05  < 2e-16 ***\n",
       "TypePetroleum  -21.492      1.858  -11.57 5.71e-12 ***\n",
       "---\n",
       "Signif. codes:  0 '***' 0.001 '**' 0.01 '*' 0.05 '.' 0.1 ' ' 1\n",
       "\n",
       "Residual standard error: 4.629 on 27 degrees of freedom\n",
       "Multiple R-squared:  0.8321,\tAdjusted R-squared:  0.8259 \n",
       "F-statistic: 133.8 on 1 and 27 DF,  p-value: 5.713e-12\n"
      ]
     },
     "metadata": {},
     "output_type": "display_data"
    },
    {
     "data": {
      "text/html": [
       "0.846297427181002"
      ],
      "text/latex": [
       "0.846297427181002"
      ],
      "text/markdown": [
       "0.846297427181002"
      ],
      "text/plain": [
       "[1] 0.8462974"
      ]
     },
     "metadata": {},
     "output_type": "display_data"
    },
    {
     "data": {
      "text/html": [
       "0.827853118442723"
      ],
      "text/latex": [
       "0.827853118442723"
      ],
      "text/markdown": [
       "0.827853118442723"
      ],
      "text/plain": [
       "[1] 0.8278531"
      ]
     },
     "metadata": {},
     "output_type": "display_data"
    },
    {
     "data": {
      "text/html": [
       "0.832113127714923"
      ],
      "text/latex": [
       "0.832113127714923"
      ],
      "text/markdown": [
       "0.832113127714923"
      ],
      "text/plain": [
       "[1] 0.8321131"
      ]
     },
     "metadata": {},
     "output_type": "display_data"
    },
    {
     "data": {
      "text/html": [
       "0.825895095408068"
      ],
      "text/latex": [
       "0.825895095408068"
      ],
      "text/markdown": [
       "0.825895095408068"
      ],
      "text/plain": [
       "[1] 0.8258951"
      ]
     },
     "metadata": {},
     "output_type": "display_data"
    }
   ],
   "source": [
    "fit_type <- lm(Life ~ Type, data = data)\n",
    "summary(fit_type)\n",
    "\n",
    "summary(fit_all)$r.squared\n",
    "summary(fit_all)$adj.r.squared\n",
    "\n",
    "summary(fit_type)$r.squared\n",
    "summary(fit_type)$adj.r.squared"
   ]
  },
  {
   "cell_type": "markdown",
   "id": "e92d45be-f031-4b9e-9cde-5e529c6ffddc",
   "metadata": {},
   "source": [
    "Podmodel založený pouze na jedné významné proměnné má trochu horší Multiple R-Squared a Adjusted R-Squared."
   ]
  },
  {
   "cell_type": "code",
   "execution_count": 47,
   "id": "f628d35c-63ac-43e8-a87f-9c2cb31b7a5a",
   "metadata": {
    "ExecuteTime": {
     "end_time": "2024-04-26T16:20:02.520838Z",
     "start_time": "2024-04-26T16:20:02.482999Z"
    }
   },
   "outputs": [
    {
     "data": {
      "text/html": [
       "<table class=\"dataframe\">\n",
       "<caption>A anova: 2 × 6</caption>\n",
       "<thead>\n",
       "\t<tr><th></th><th scope=col>Res.Df</th><th scope=col>RSS</th><th scope=col>Df</th><th scope=col>Sum of Sq</th><th scope=col>F</th><th scope=col>Pr(&gt;F)</th></tr>\n",
       "\t<tr><th></th><th scope=col>&lt;dbl&gt;</th><th scope=col>&lt;dbl&gt;</th><th scope=col>&lt;dbl&gt;</th><th scope=col>&lt;dbl&gt;</th><th scope=col>&lt;dbl&gt;</th><th scope=col>&lt;dbl&gt;</th></tr>\n",
       "</thead>\n",
       "<tbody>\n",
       "\t<tr><th scope=row>1</th><td>27</td><td>578.4576</td><td>NA</td><td>      NA</td><td>      NA</td><td>       NA</td></tr>\n",
       "\t<tr><th scope=row>2</th><td>25</td><td>529.5853</td><td> 2</td><td>48.87229</td><td>1.153551</td><td>0.3317455</td></tr>\n",
       "</tbody>\n",
       "</table>\n"
      ],
      "text/latex": [
       "A anova: 2 × 6\n",
       "\\begin{tabular}{r|llllll}\n",
       "  & Res.Df & RSS & Df & Sum of Sq & F & Pr(>F)\\\\\n",
       "  & <dbl> & <dbl> & <dbl> & <dbl> & <dbl> & <dbl>\\\\\n",
       "\\hline\n",
       "\t1 & 27 & 578.4576 & NA &       NA &       NA &        NA\\\\\n",
       "\t2 & 25 & 529.5853 &  2 & 48.87229 & 1.153551 & 0.3317455\\\\\n",
       "\\end{tabular}\n"
      ],
      "text/markdown": [
       "\n",
       "A anova: 2 × 6\n",
       "\n",
       "| <!--/--> | Res.Df &lt;dbl&gt; | RSS &lt;dbl&gt; | Df &lt;dbl&gt; | Sum of Sq &lt;dbl&gt; | F &lt;dbl&gt; | Pr(&gt;F) &lt;dbl&gt; |\n",
       "|---|---|---|---|---|---|---|\n",
       "| 1 | 27 | 578.4576 | NA |       NA |       NA |        NA |\n",
       "| 2 | 25 | 529.5853 |  2 | 48.87229 | 1.153551 | 0.3317455 |\n",
       "\n"
      ],
      "text/plain": [
       "  Res.Df RSS      Df Sum of Sq F        Pr(>F)   \n",
       "1 27     578.4576 NA       NA        NA        NA\n",
       "2 25     529.5853  2 48.87229  1.153551 0.3317455"
      ]
     },
     "metadata": {},
     "output_type": "display_data"
    }
   ],
   "source": [
    "anova(fit_type, fit_all)"
   ]
  },
  {
   "cell_type": "markdown",
   "id": "ba5eb03c-99e4-4be4-8090-cf5f0c76a6a5",
   "metadata": {},
   "source": [
    "Podle p-hodnoty testu nezamítáme nenulovost hypotézy. Tedy, není mezi modely statisticky významný rozdíl."
   ]
  },
  {
   "cell_type": "markdown",
   "id": "ba456ce3-5568-4ca9-96df-156ffecdee57",
   "metadata": {},
   "source": [
    "Porovnám Akaikeho a Bayesovské informační kritéria předchozích modelů."
   ]
  },
  {
   "cell_type": "code",
   "execution_count": 48,
   "id": "b0fa26ba-6b63-46f0-aac2-7e1d655e7468",
   "metadata": {
    "ExecuteTime": {
     "end_time": "2024-04-26T16:20:02.853677Z",
     "start_time": "2024-04-26T16:20:02.786215Z"
    }
   },
   "outputs": [
    {
     "data": {
      "text/html": [
       "176.53758905663"
      ],
      "text/latex": [
       "176.53758905663"
      ],
      "text/markdown": [
       "176.53758905663"
      ],
      "text/plain": [
       "[1] 176.5376"
      ]
     },
     "metadata": {},
     "output_type": "display_data"
    },
    {
     "data": {
      "text/html": [
       "180.070393280093"
      ],
      "text/latex": [
       "180.070393280093"
      ],
      "text/markdown": [
       "180.070393280093"
      ],
      "text/plain": [
       "[1] 180.0704"
      ]
     },
     "metadata": {},
     "output_type": "display_data"
    },
    {
     "data": {
      "text/html": [
       "177.048700678911"
      ],
      "text/latex": [
       "177.048700678911"
      ],
      "text/markdown": [
       "177.048700678911"
      ],
      "text/plain": [
       "[1] 177.0487"
      ]
     },
     "metadata": {},
     "output_type": "display_data"
    },
    {
     "data": {
      "text/html": [
       "174.690419749454"
      ],
      "text/latex": [
       "174.690419749454"
      ],
      "text/markdown": [
       "174.690419749454"
      ],
      "text/plain": [
       "[1] 174.6904"
      ]
     },
     "metadata": {},
     "output_type": "display_data"
    },
    {
     "data": {
      "text/html": [
       "198.262541030085"
      ],
      "text/latex": [
       "198.262541030085"
      ],
      "text/markdown": [
       "198.262541030085"
      ],
      "text/plain": [
       "[1] 198.2625"
      ]
     },
     "metadata": {},
     "output_type": "display_data"
    },
    {
     "data": {
      "text/html": [
       "175.097447583812"
      ],
      "text/latex": [
       "175.097447583812"
      ],
      "text/markdown": [
       "175.097447583812"
      ],
      "text/plain": [
       "[1] 175.0974"
      ]
     },
     "metadata": {},
     "output_type": "display_data"
    }
   ],
   "source": [
    "AIC(fit_all)\n",
    "AIC(fit_int)\n",
    "AIC(fit_type_europe)\n",
    "AIC(fit_type_income)\n",
    "AIC(fit_income_europe)\n",
    "AIC(fit_type)"
   ]
  },
  {
   "cell_type": "code",
   "execution_count": 49,
   "id": "aa5b53fe-b668-4eb9-9c0b-23ffdb0f5931",
   "metadata": {
    "ExecuteTime": {
     "end_time": "2024-04-26T16:20:03.460805Z",
     "start_time": "2024-04-26T16:20:03.386828Z"
    }
   },
   "outputs": [
    {
     "data": {
      "text/html": [
       "183.374068206562"
      ],
      "text/latex": [
       "183.374068206562"
      ],
      "text/markdown": [
       "183.374068206562"
      ],
      "text/plain": [
       "[1] 183.3741"
      ]
     },
     "metadata": {},
     "output_type": "display_data"
    },
    {
     "data": {
      "text/html": [
       "189.641464089998"
      ],
      "text/latex": [
       "189.641464089998"
      ],
      "text/markdown": [
       "189.641464089998"
      ],
      "text/plain": [
       "[1] 189.6415"
      ]
     },
     "metadata": {},
     "output_type": "display_data"
    },
    {
     "data": {
      "text/html": [
       "182.517883998857"
      ],
      "text/latex": [
       "182.517883998857"
      ],
      "text/markdown": [
       "182.517883998857"
      ],
      "text/plain": [
       "[1] 182.5179"
      ]
     },
     "metadata": {},
     "output_type": "display_data"
    },
    {
     "data": {
      "text/html": [
       "180.1596030694"
      ],
      "text/latex": [
       "180.1596030694"
      ],
      "text/markdown": [
       "180.1596030694"
      ],
      "text/plain": [
       "[1] 180.1596"
      ]
     },
     "metadata": {},
     "output_type": "display_data"
    },
    {
     "data": {
      "text/html": [
       "203.731724350031"
      ],
      "text/latex": [
       "203.731724350031"
      ],
      "text/markdown": [
       "203.731724350031"
      ],
      "text/plain": [
       "[1] 203.7317"
      ]
     },
     "metadata": {},
     "output_type": "display_data"
    },
    {
     "data": {
      "text/html": [
       "179.199335073771"
      ],
      "text/latex": [
       "179.199335073771"
      ],
      "text/markdown": [
       "179.199335073771"
      ],
      "text/plain": [
       "[1] 179.1993"
      ]
     },
     "metadata": {},
     "output_type": "display_data"
    }
   ],
   "source": [
    "BIC(fit_all)\n",
    "BIC(fit_int)\n",
    "BIC(fit_type_europe)\n",
    "BIC(fit_type_income)\n",
    "BIC(fit_income_europe)\n",
    "BIC(fit_type)"
   ]
  },
  {
   "cell_type": "markdown",
   "id": "aa36df2b-cda7-42cc-a871-e561bf6e661b",
   "metadata": {},
   "source": [
    "Podle Akaikeho informačního kritéria je nejšikovnější model obsahující regresory Type a Income. Ale podle Bayesovskeho kritéria je takovým modelem model jen s jedním signifikántím regresorem - Type. \n",
    "\n",
    "BIC penalizuje silněji složitější modely, preferuje jednoduchost modelů. AIC preferuje výslednou přesnost modelů navzdory složitosti modelů. \n",
    "Regresor Income není signifikántím regresorem a AIC hodnota modelu s významným regresorem je trochu horší než AIC hodnota modelu s regresorem Income, proto můžu vybrat model fit_type."
   ]
  },
  {
   "cell_type": "markdown",
   "id": "b2405df2-e067-4ee2-bc9e-34eeb8004ba4",
   "metadata": {},
   "source": [
    "Ted zkusím seknvencně přidávat jednotlivě komponety do modelu. Začnu u modelu očekávané délky života pouze s absolutním členem a uvidím co z toho vyjde."
   ]
  },
  {
   "cell_type": "code",
   "execution_count": 50,
   "id": "76ace645-40ad-4dca-90a6-46d77a16e0cb",
   "metadata": {
    "ExecuteTime": {
     "end_time": "2024-04-26T16:20:03.791167Z",
     "start_time": "2024-04-26T16:20:03.735693Z"
    }
   },
   "outputs": [
    {
     "data": {
      "text/html": [
       "<table class=\"dataframe\">\n",
       "<caption>A anova: 4 × 6</caption>\n",
       "<thead>\n",
       "\t<tr><th></th><th scope=col>Df</th><th scope=col>Sum of Sq</th><th scope=col>RSS</th><th scope=col>AIC</th><th scope=col>F value</th><th scope=col>Pr(&gt;F)</th></tr>\n",
       "\t<tr><th></th><th scope=col>&lt;dbl&gt;</th><th scope=col>&lt;dbl&gt;</th><th scope=col>&lt;dbl&gt;</th><th scope=col>&lt;dbl&gt;</th><th scope=col>&lt;dbl&gt;</th><th scope=col>&lt;dbl&gt;</th></tr>\n",
       "</thead>\n",
       "<tbody>\n",
       "\t<tr><th scope=row>&lt;none&gt;</th><td>NA</td><td>      NA</td><td>3445.5201</td><td>140.54849</td><td>       NA</td><td>          NA</td></tr>\n",
       "\t<tr><th scope=row>Type</th><td> 1</td><td>2867.062</td><td> 578.4576</td><td> 90.79901</td><td>133.82258</td><td>5.713448e-12</td></tr>\n",
       "\t<tr><th scope=row>Income</th><td> 1</td><td>1875.471</td><td>1570.0491</td><td>119.75542</td><td> 32.25232</td><td>4.947756e-06</td></tr>\n",
       "\t<tr><th scope=row>In_Europe</th><td> 1</td><td>1256.827</td><td>2188.6931</td><td>129.38916</td><td> 15.50438</td><td>5.219398e-04</td></tr>\n",
       "</tbody>\n",
       "</table>\n"
      ],
      "text/latex": [
       "A anova: 4 × 6\n",
       "\\begin{tabular}{r|llllll}\n",
       "  & Df & Sum of Sq & RSS & AIC & F value & Pr(>F)\\\\\n",
       "  & <dbl> & <dbl> & <dbl> & <dbl> & <dbl> & <dbl>\\\\\n",
       "\\hline\n",
       "\t<none> & NA &       NA & 3445.5201 & 140.54849 &        NA &           NA\\\\\n",
       "\tType &  1 & 2867.062 &  578.4576 &  90.79901 & 133.82258 & 5.713448e-12\\\\\n",
       "\tIncome &  1 & 1875.471 & 1570.0491 & 119.75542 &  32.25232 & 4.947756e-06\\\\\n",
       "\tIn\\_Europe &  1 & 1256.827 & 2188.6931 & 129.38916 &  15.50438 & 5.219398e-04\\\\\n",
       "\\end{tabular}\n"
      ],
      "text/markdown": [
       "\n",
       "A anova: 4 × 6\n",
       "\n",
       "| <!--/--> | Df &lt;dbl&gt; | Sum of Sq &lt;dbl&gt; | RSS &lt;dbl&gt; | AIC &lt;dbl&gt; | F value &lt;dbl&gt; | Pr(&gt;F) &lt;dbl&gt; |\n",
       "|---|---|---|---|---|---|---|\n",
       "| &lt;none&gt; | NA |       NA | 3445.5201 | 140.54849 |        NA |           NA |\n",
       "| Type |  1 | 2867.062 |  578.4576 |  90.79901 | 133.82258 | 5.713448e-12 |\n",
       "| Income |  1 | 1875.471 | 1570.0491 | 119.75542 |  32.25232 | 4.947756e-06 |\n",
       "| In_Europe |  1 | 1256.827 | 2188.6931 | 129.38916 |  15.50438 | 5.219398e-04 |\n",
       "\n"
      ],
      "text/plain": [
       "          Df Sum of Sq RSS       AIC       F value   Pr(>F)      \n",
       "<none>    NA       NA  3445.5201 140.54849        NA           NA\n",
       "Type       1 2867.062   578.4576  90.79901 133.82258 5.713448e-12\n",
       "Income     1 1875.471  1570.0491 119.75542  32.25232 4.947756e-06\n",
       "In_Europe  1 1256.827  2188.6931 129.38916  15.50438 5.219398e-04"
      ]
     },
     "metadata": {},
     "output_type": "display_data"
    }
   ],
   "source": [
    "add1(lm(Life~1, data=data),~Type+Income+In_Europe,test=\"F\")"
   ]
  },
  {
   "cell_type": "markdown",
   "id": "1f4875ee-4d10-41b8-b939-62d9b67e7539",
   "metadata": {},
   "source": [
    "Vidím, že týp země má významný vliv na očekávanou délku života."
   ]
  },
  {
   "cell_type": "markdown",
   "id": "50ee64f9-0c55-49b4-879e-91b45b0f1043",
   "metadata": {},
   "source": [
    "Podívám se na to, co se stane, pokud budu odstraňovat jednotlivé regresory ze složitějšího a šíršího modelu."
   ]
  },
  {
   "cell_type": "code",
   "execution_count": 51,
   "id": "9b1f88d7-587e-4b32-a1b9-cad48bcb3ebc",
   "metadata": {
    "ExecuteTime": {
     "end_time": "2024-04-26T16:20:04.596242Z",
     "start_time": "2024-04-26T16:20:04.515265Z"
    }
   },
   "outputs": [
    {
     "data": {
      "text/html": [
       "<table class=\"dataframe\">\n",
       "<caption>A anova: 4 × 6</caption>\n",
       "<thead>\n",
       "\t<tr><th></th><th scope=col>Df</th><th scope=col>Sum of Sq</th><th scope=col>RSS</th><th scope=col>AIC</th><th scope=col>F value</th><th scope=col>Pr(&gt;F)</th></tr>\n",
       "\t<tr><th></th><th scope=col>&lt;dbl&gt;</th><th scope=col>&lt;dbl&gt;</th><th scope=col>&lt;dbl&gt;</th><th scope=col>&lt;dbl&gt;</th><th scope=col>&lt;dbl&gt;</th><th scope=col>&lt;dbl&gt;</th></tr>\n",
       "</thead>\n",
       "<tbody>\n",
       "\t<tr><th scope=row>&lt;none&gt;</th><td>NA</td><td>        NA</td><td> 529.5853</td><td> 92.23915</td><td>        NA</td><td>          NA</td></tr>\n",
       "\t<tr><th scope=row>Type</th><td> 1</td><td>670.557754</td><td>1200.1431</td><td>113.96411</td><td>31.6548511</td><td>7.445109e-06</td></tr>\n",
       "\t<tr><th scope=row>Income</th><td> 1</td><td> 47.900760</td><td> 577.4861</td><td> 92.75027</td><td> 2.2612391</td><td>1.451769e-01</td></tr>\n",
       "\t<tr><th scope=row>In_Europe</th><td> 1</td><td>  2.798294</td><td> 532.3836</td><td> 90.39198</td><td> 0.1320984</td><td>7.193216e-01</td></tr>\n",
       "</tbody>\n",
       "</table>\n"
      ],
      "text/latex": [
       "A anova: 4 × 6\n",
       "\\begin{tabular}{r|llllll}\n",
       "  & Df & Sum of Sq & RSS & AIC & F value & Pr(>F)\\\\\n",
       "  & <dbl> & <dbl> & <dbl> & <dbl> & <dbl> & <dbl>\\\\\n",
       "\\hline\n",
       "\t<none> & NA &         NA &  529.5853 &  92.23915 &         NA &           NA\\\\\n",
       "\tType &  1 & 670.557754 & 1200.1431 & 113.96411 & 31.6548511 & 7.445109e-06\\\\\n",
       "\tIncome &  1 &  47.900760 &  577.4861 &  92.75027 &  2.2612391 & 1.451769e-01\\\\\n",
       "\tIn\\_Europe &  1 &   2.798294 &  532.3836 &  90.39198 &  0.1320984 & 7.193216e-01\\\\\n",
       "\\end{tabular}\n"
      ],
      "text/markdown": [
       "\n",
       "A anova: 4 × 6\n",
       "\n",
       "| <!--/--> | Df &lt;dbl&gt; | Sum of Sq &lt;dbl&gt; | RSS &lt;dbl&gt; | AIC &lt;dbl&gt; | F value &lt;dbl&gt; | Pr(&gt;F) &lt;dbl&gt; |\n",
       "|---|---|---|---|---|---|---|\n",
       "| &lt;none&gt; | NA |         NA |  529.5853 |  92.23915 |         NA |           NA |\n",
       "| Type |  1 | 670.557754 | 1200.1431 | 113.96411 | 31.6548511 | 7.445109e-06 |\n",
       "| Income |  1 |  47.900760 |  577.4861 |  92.75027 |  2.2612391 | 1.451769e-01 |\n",
       "| In_Europe |  1 |   2.798294 |  532.3836 |  90.39198 |  0.1320984 | 7.193216e-01 |\n",
       "\n"
      ],
      "text/plain": [
       "          Df Sum of Sq  RSS       AIC       F value    Pr(>F)      \n",
       "<none>    NA         NA  529.5853  92.23915         NA           NA\n",
       "Type       1 670.557754 1200.1431 113.96411 31.6548511 7.445109e-06\n",
       "Income     1  47.900760  577.4861  92.75027  2.2612391 1.451769e-01\n",
       "In_Europe  1   2.798294  532.3836  90.39198  0.1320984 7.193216e-01"
      ]
     },
     "metadata": {},
     "output_type": "display_data"
    }
   ],
   "source": [
    "drop1(lm(Life~Type+Income+In_Europe, data=data),test=\"F\")"
   ]
  },
  {
   "cell_type": "markdown",
   "id": "3c4bfafc-cdef-42c0-8d97-fce290f2c186",
   "metadata": {},
   "source": [
    "Opět vidím, že týp země má velký vliv na délku života. Odebráním proměnné Type jsem signifikántně zhoršil model, ale odebráním proměnných Income a InEurope se model skoro nezměnil."
   ]
  },
  {
   "cell_type": "markdown",
   "id": "e1e7320a-b233-4cb3-b700-1d6cd13766e9",
   "metadata": {},
   "source": [
    "Nejlepší regresní model je model založený na jedné proměnné Type, který je jediným významným komponentem mezi ostatními. Ale pro určení nejlepšího finálního modelu prozkoumáme ostatní druhy regrese."
   ]
  },
  {
   "cell_type": "markdown",
   "id": "9eb6e21a-6b19-4154-97d3-220fa1c80b0f",
   "metadata": {},
   "source": [
    "Nejprve zkusíme nafitovat model robustní regrese, protože mám odlehlá pozorování v našem datasetu. Robustní regrese je méně citlivá na outliery. Podívám se, zda robustní regrese nějak zlepší či zhorší model."
   ]
  },
  {
   "cell_type": "code",
   "execution_count": 52,
   "id": "68f8c2cb-ad52-4744-b16e-6de1488048ee",
   "metadata": {
    "ExecuteTime": {
     "end_time": "2024-04-26T16:20:05.337923Z",
     "start_time": "2024-04-26T16:20:05.216756Z"
    }
   },
   "outputs": [
    {
     "data": {
      "text/plain": [
       "\n",
       "Call:\n",
       "lmrob(formula = Life ~ Type + Income + In_Europe, data = data)\n",
       " \\--> method = \"MM\"\n",
       "Residuals:\n",
       "      Min        1Q    Median        3Q       Max \n",
       "-13.11864  -1.17719   0.01893   1.10625  15.42965 \n",
       "\n",
       "Coefficients:\n",
       "                Estimate Std. Error t value Pr(>|t|)    \n",
       "(Intercept)    6.774e+01  1.039e+00  65.211  < 2e-16 ***\n",
       "TypePetroleum -1.788e+01  9.324e-01 -19.177  < 2e-16 ***\n",
       "Income         8.978e-04  2.310e-04   3.887 0.000662 ***\n",
       "In_Europe      8.310e-01  6.689e-01   1.242 0.225633    \n",
       "---\n",
       "Signif. codes:  0 '***' 0.001 '**' 0.01 '*' 0.05 '.' 0.1 ' ' 1\n",
       "\n",
       "Robust residual standard error: 1.892 \n",
       "Multiple R-squared:  0.9741,\tAdjusted R-squared:  0.971 \n",
       "Convergence in 8 IRWLS iterations\n",
       "\n",
       "Robustness weights: \n",
       " 3 observations c(27,28,29) are outliers with |weight| = 0 ( < 0.0034); \n",
       " 4 weights are ~= 1. The remaining 22 ones are summarized as\n",
       "   Min. 1st Qu.  Median    Mean 3rd Qu.    Max. \n",
       " 0.8111  0.9341  0.9649  0.9473  0.9796  0.9988 \n",
       "Algorithmic parameters: \n",
       "       tuning.chi                bb        tuning.psi        refine.tol           rel.tol         scale.tol         solve.tol          zero.tol \n",
       "        1.548e+00         5.000e-01         4.685e+00         1.000e-07         1.000e-07         1.000e-10         1.000e-07         1.000e-10 \n",
       "      eps.outlier             eps.x warn.limit.reject warn.limit.meanrw \n",
       "        3.448e-03         1.018e-08         5.000e-01         5.000e-01 \n",
       "     nResample         max.it       best.r.s       k.fast.s          k.max    maxit.scale      trace.lev            mts     compute.rd fast.s.large.n \n",
       "           500             50              2              1            200            200              0           1000              0           2000 \n",
       "                  psi           subsampling                   cov compute.outlier.stats \n",
       "           \"bisquare\"         \"nonsingular\"         \".vcov.avar1\"                  \"SM\" \n",
       "seed : int(0) "
      ]
     },
     "metadata": {},
     "output_type": "display_data"
    },
    {
     "data": {
      "text/html": [
       "0.846297427181002"
      ],
      "text/latex": [
       "0.846297427181002"
      ],
      "text/markdown": [
       "0.846297427181002"
      ],
      "text/plain": [
       "[1] 0.8462974"
      ]
     },
     "metadata": {},
     "output_type": "display_data"
    },
    {
     "data": {
      "text/html": [
       "0.827853118442723"
      ],
      "text/latex": [
       "0.827853118442723"
      ],
      "text/markdown": [
       "0.827853118442723"
      ],
      "text/plain": [
       "[1] 0.8278531"
      ]
     },
     "metadata": {},
     "output_type": "display_data"
    },
    {
     "data": {
      "text/html": [
       "0.974092185897446"
      ],
      "text/latex": [
       "0.974092185897446"
      ],
      "text/markdown": [
       "0.974092185897446"
      ],
      "text/plain": [
       "[1] 0.9740922"
      ]
     },
     "metadata": {},
     "output_type": "display_data"
    },
    {
     "data": {
      "text/html": [
       "0.97098324820514"
      ],
      "text/latex": [
       "0.97098324820514"
      ],
      "text/markdown": [
       "0.97098324820514"
      ],
      "text/plain": [
       "[1] 0.9709832"
      ]
     },
     "metadata": {},
     "output_type": "display_data"
    }
   ],
   "source": [
    "fit_robust <- lmrob(Life ~ Type + Income + In_Europe, data = data)\n",
    "summary(fit_robust)\n",
    "\n",
    "summary(fit_all)$r.squared\n",
    "summary(fit_all)$adj.r.squared\n",
    "\n",
    "summary(fit_robust)$r.squared\n",
    "summary(fit_robust)$adj.r.squared"
   ]
  },
  {
   "cell_type": "markdown",
   "id": "d1ec0c52-1873-4605-bdf9-904810535f0e",
   "metadata": {},
   "source": [
    "Vidím, že jsem dostal pomocí robustní regrese model, který má koeficienty determinace mnohem lepší než model lineární regrese, skoro dokonalé. Podle robustní regrese mám dva významné komponenty - Type a Income. Zkusím tedy robustní regrese na dvou významných regresorech."
   ]
  },
  {
   "cell_type": "code",
   "execution_count": 53,
   "id": "fbeeba35-0964-499c-a07e-0e97cf211b2b",
   "metadata": {
    "ExecuteTime": {
     "end_time": "2024-04-26T16:20:05.531466Z",
     "start_time": "2024-04-26T16:20:05.407704Z"
    }
   },
   "outputs": [
    {
     "name": "stderr",
     "output_type": "stream",
     "text": [
      "Warning message in lmrob.S(x, y, control = control):\n",
      "\"S refinements did not converge (to refine.tol=1e-07) in 200 (= k.max) steps\"\n",
      "Warning message in lmrob.fit(x, y, control, init = init):\n",
      "\"initial estim. 'init' not converged -- will be return()ed basically unchanged\"\n"
     ]
    },
    {
     "data": {
      "text/plain": [
       "\n",
       "Call:\n",
       "lmrob(formula = Life ~ Type + Income, data = data)\n",
       " \\--> method = \"S\"\n",
       "Residuals:\n",
       "     Min       1Q   Median       3Q      Max \n",
       "-13.2724  -1.2309  -0.5243   1.0619  15.2076 \n",
       "\n",
       "Algorithm did not converge\n",
       "\n",
       "Coefficients of the *initial* S-estimator:\n",
       "                Estimate Std. Error t value Pr(>|t|)\n",
       "(Intercept)    68.228228         NA      NA       NA\n",
       "TypePetroleum -18.228194         NA      NA       NA\n",
       "Income          0.000962         NA      NA       NA\n",
       "\n",
       "Robustness weights: \n",
       " 3 observations c(27,28,29) are outliers with |weight| = 0 ( < 0.0034); \n",
       " The remaining 26 ones are summarized as\n",
       "   Min. 1st Qu.  Median    Mean 3rd Qu.    Max. \n",
       "0.06189 0.55320 0.79440 0.69660 0.88030 0.99490 \n",
       "Algorithmic parameters: \n",
       "       tuning.chi                bb        tuning.psi        refine.tol           rel.tol         scale.tol         solve.tol          zero.tol \n",
       "        1.548e+00         5.000e-01         4.685e+00         1.000e-07         1.000e-07         1.000e-10         1.000e-07         1.000e-10 \n",
       "      eps.outlier             eps.x warn.limit.reject warn.limit.meanrw \n",
       "        3.448e-03         1.018e-08         5.000e-01         5.000e-01 \n",
       "     nResample         max.it       best.r.s       k.fast.s          k.max    maxit.scale      trace.lev            mts     compute.rd fast.s.large.n \n",
       "           500             50              2              1            200            200              0           1000              0           2000 \n",
       "                  psi           subsampling                   cov compute.outlier.stats \n",
       "           \"bisquare\"         \"nonsingular\"         \".vcov.avar1\"                  \"SM\" \n",
       "seed : int(0) "
      ]
     },
     "metadata": {},
     "output_type": "display_data"
    },
    {
     "data": {
      "text/html": [
       "0.974092185897446"
      ],
      "text/latex": [
       "0.974092185897446"
      ],
      "text/markdown": [
       "0.974092185897446"
      ],
      "text/plain": [
       "[1] 0.9740922"
      ]
     },
     "metadata": {},
     "output_type": "display_data"
    },
    {
     "data": {
      "text/html": [
       "0.97098324820514"
      ],
      "text/latex": [
       "0.97098324820514"
      ],
      "text/markdown": [
       "0.97098324820514"
      ],
      "text/plain": [
       "[1] 0.9709832"
      ]
     },
     "metadata": {},
     "output_type": "display_data"
    },
    {
     "data": {
      "text/html": [
       "0.980083104990558"
      ],
      "text/latex": [
       "0.980083104990558"
      ],
      "text/markdown": [
       "0.980083104990558"
      ],
      "text/plain": [
       "[1] 0.9800831"
      ]
     },
     "metadata": {},
     "output_type": "display_data"
    },
    {
     "data": {
      "text/html": [
       "0.978551036143678"
      ],
      "text/latex": [
       "0.978551036143678"
      ],
      "text/markdown": [
       "0.978551036143678"
      ],
      "text/plain": [
       "[1] 0.978551"
      ]
     },
     "metadata": {},
     "output_type": "display_data"
    }
   ],
   "source": [
    "fit_type_income_robust <- lmrob(Life ~ Type + Income, data = data)\n",
    "summary(fit_type_income_robust)\n",
    "\n",
    "summary(fit_robust)$r.squared\n",
    "summary(fit_robust)$adj.r.squared\n",
    "\n",
    "summary(fit_type_income_robust)$r.squared\n",
    "summary(fit_type_income_robust)$adj.r.squared"
   ]
  },
  {
   "cell_type": "markdown",
   "id": "efafb4cf-3a01-46dd-af35-9e86396a4dd8",
   "metadata": {},
   "source": [
    "Koeficienty determinace se trochu zhoršili, ale dle zadání musím zvolit model jen s signifikántními regresory. Přestože koeficienty se zmenšili, oni jsou velmi dobré."
   ]
  },
  {
   "cell_type": "markdown",
   "id": "c4b405ca-cff5-459a-bc1d-e8259b30393d",
   "metadata": {},
   "source": [
    "Ted zkusím model logaritmické regrese."
   ]
  },
  {
   "cell_type": "code",
   "execution_count": 54,
   "id": "c14ac43d-f744-479a-87bc-8b6074522368",
   "metadata": {
    "ExecuteTime": {
     "end_time": "2024-04-26T16:20:06.171499Z",
     "start_time": "2024-04-26T16:20:06.059114Z"
    }
   },
   "outputs": [
    {
     "data": {
      "text/plain": [
       "\n",
       "Call:\n",
       "lm(formula = log(Life) ~ Type + Income + In_Europe, data = data)\n",
       "\n",
       "Residuals:\n",
       "      Min        1Q    Median        3Q       Max \n",
       "-0.277203 -0.012395  0.003987  0.017786  0.290471 \n",
       "\n",
       "Coefficients:\n",
       "                Estimate Std. Error t value Pr(>|t|)    \n",
       "(Intercept)    4.195e+00  6.679e-02  62.805  < 2e-16 ***\n",
       "TypePetroleum -3.126e-01  6.308e-02  -4.955 4.18e-05 ***\n",
       "Income         1.869e-05  1.491e-05   1.253    0.222    \n",
       "In_Europe      1.223e-02  4.447e-02   0.275    0.786    \n",
       "---\n",
       "Signif. codes:  0 '***' 0.001 '**' 0.01 '*' 0.05 '.' 0.1 ' ' 1\n",
       "\n",
       "Residual standard error: 0.09069 on 25 degrees of freedom\n",
       "Multiple R-squared:  0.8066,\tAdjusted R-squared:  0.7834 \n",
       "F-statistic: 34.76 on 3 and 25 DF,  p-value: 4.474e-09\n"
      ]
     },
     "metadata": {},
     "output_type": "display_data"
    },
    {
     "data": {
      "text/html": [
       "0.832113127714923"
      ],
      "text/latex": [
       "0.832113127714923"
      ],
      "text/markdown": [
       "0.832113127714923"
      ],
      "text/plain": [
       "[1] 0.8321131"
      ]
     },
     "metadata": {},
     "output_type": "display_data"
    },
    {
     "data": {
      "text/html": [
       "0.825895095408068"
      ],
      "text/latex": [
       "0.825895095408068"
      ],
      "text/markdown": [
       "0.825895095408068"
      ],
      "text/plain": [
       "[1] 0.8258951"
      ]
     },
     "metadata": {},
     "output_type": "display_data"
    },
    {
     "data": {
      "text/html": [
       "0.806626880212142"
      ],
      "text/latex": [
       "0.806626880212142"
      ],
      "text/markdown": [
       "0.806626880212142"
      ],
      "text/plain": [
       "[1] 0.8066269"
      ]
     },
     "metadata": {},
     "output_type": "display_data"
    },
    {
     "data": {
      "text/html": [
       "0.783422105837599"
      ],
      "text/latex": [
       "0.783422105837599"
      ],
      "text/markdown": [
       "0.783422105837599"
      ],
      "text/plain": [
       "[1] 0.7834221"
      ]
     },
     "metadata": {},
     "output_type": "display_data"
    }
   ],
   "source": [
    "fit_type_log=lm(log(Life) ~ Type + Income + In_Europe,data=data)\n",
    "summary(fit_type_log)\n",
    "\n",
    "summary(fit_type)$r.squared\n",
    "summary(fit_type)$adj.r.squared\n",
    "\n",
    "summary(fit_type_log)$r.squared\n",
    "summary(fit_type_log)$adj.r.squared"
   ]
  },
  {
   "cell_type": "markdown",
   "id": "8209e00c-81a1-4763-a9fa-2c38e907626b",
   "metadata": {},
   "source": [
    "Logaritmická regrese ale zhoršila model, koeficienty determinace se zmenšili."
   ]
  },
  {
   "cell_type": "markdown",
   "id": "379d9256-104a-494b-917a-1795279b59ee",
   "metadata": {},
   "source": [
    "Na základě všech výše uvedených porovnání, konečně můžu udělat závěr, že ze všech prozkoumaných modelů finálním modelem můžu zvolit model robustní regrese na záklaldě dvou významných regresorů - Type a Income."
   ]
  },
  {
   "cell_type": "code",
   "execution_count": 55,
   "id": "8e0b6cc0-15b0-438a-8b1b-5dd0c3b6b942",
   "metadata": {
    "ExecuteTime": {
     "end_time": "2024-04-26T16:20:06.787388Z",
     "start_time": "2024-04-26T16:20:06.713269Z"
    }
   },
   "outputs": [
    {
     "data": {
      "text/plain": [
       "\n",
       "Call:\n",
       "lmrob(formula = Life ~ Type + Income, data = data)\n",
       " \\--> method = \"MM\"\n",
       "Residuals:\n",
       "     Min       1Q   Median       3Q      Max \n",
       "-13.1049  -1.1810  -0.3274   1.2698  15.4877 \n",
       "\n",
       "Coefficients:\n",
       "                Estimate Std. Error t value Pr(>|t|)    \n",
       "(Intercept)    6.846e+01  8.475e-01  80.783  < 2e-16 ***\n",
       "TypePetroleum -1.861e+01  8.633e-01 -21.560  < 2e-16 ***\n",
       "Income         8.560e-04  2.496e-04   3.429  0.00203 ** \n",
       "---\n",
       "Signif. codes:  0 '***' 0.001 '**' 0.01 '*' 0.05 '.' 0.1 ' ' 1\n",
       "\n",
       "Robust residual standard error: 2.071 \n",
       "Multiple R-squared:  0.9711,\tAdjusted R-squared:  0.9689 \n",
       "Convergence in 7 IRWLS iterations\n",
       "\n",
       "Robustness weights: \n",
       " 2 observations c(27,29) are outliers with |weight| = 0 ( < 0.0034); \n",
       " one weight is ~= 1. The remaining 26 ones are summarized as\n",
       "   Min. 1st Qu.  Median    Mean 3rd Qu.    Max. \n",
       "0.02746 0.92670 0.96830 0.92320 0.99240 0.99770 \n",
       "Algorithmic parameters: \n",
       "       tuning.chi                bb        tuning.psi        refine.tol           rel.tol         scale.tol         solve.tol          zero.tol \n",
       "        1.548e+00         5.000e-01         4.685e+00         1.000e-07         1.000e-07         1.000e-10         1.000e-07         1.000e-10 \n",
       "      eps.outlier             eps.x warn.limit.reject warn.limit.meanrw \n",
       "        3.448e-03         1.018e-08         5.000e-01         5.000e-01 \n",
       "     nResample         max.it       best.r.s       k.fast.s          k.max    maxit.scale      trace.lev            mts     compute.rd fast.s.large.n \n",
       "           500             50              2              1            200            200              0           1000              0           2000 \n",
       "                  psi           subsampling                   cov compute.outlier.stats \n",
       "           \"bisquare\"         \"nonsingular\"         \".vcov.avar1\"                  \"SM\" \n",
       "seed : int(0) "
      ]
     },
     "metadata": {},
     "output_type": "display_data"
    }
   ],
   "source": [
    "final_model <- lmrob(Life ~ Type + Income, data = data)\n",
    "summary(final_model)"
   ]
  },
  {
   "cell_type": "markdown",
   "id": "d469de93-bf6f-4afd-b6d5-c70108100bbb",
   "metadata": {},
   "source": [
    "=====================================================================================\n",
    "\n",
    "1. Odhady regresních koeficientů:\n",
    "    * Intercept: Odhadovaná hodnota délky života, když příjem na obyvatele a chybí týp země jsou 0, je přibližně 68 let. Podle p-hodnoty je statisticky významný.\n",
    "    * TypePetroleum: Koeficinet pro TypePetroleum je roven -18, což znamená, pokud je země vývozce ropy, tak sníží délka života o 18 let, jinak délka života se nezmění. Podle p-hodnoty je statisticky významný.\n",
    "    * Income: Koeficinet pro Income je roven přibližně 8.56x10^-4. Tedy na každý dolar příjmu připadá plus 8.56x10^-4 let. Podle p-hodnoty je statisticky významný.\n",
    "\n",
    "2. Kvalita modelu:\n",
    "    * Robustní rozptyl reziduí: Standardní chyba reziduí je přibližně 2.071.\n",
    "    * Multiple R-squared a Adjusted R-squared: Obyčejný koeficient determinace je roven 0.9711. Model vysvětluje přibližně 97.11% variance v délce života. Adjustovaný koeficent determinace, který bere v úvahu počet prediktorů, je přibližně 96.89%.\n",
    "      \n",
    "====================================================================================="
   ]
  },
  {
   "cell_type": "markdown",
   "id": "ef506ff3-374b-4db1-834c-78108fdceb1e",
   "metadata": {},
   "source": [
    "Uděláme predikce pomocí finálního modelu."
   ]
  },
  {
   "cell_type": "code",
   "execution_count": 56,
   "id": "764bde96-20f8-46ef-ab82-080611b91e54",
   "metadata": {
    "ExecuteTime": {
     "end_time": "2024-04-26T16:20:07.117758Z",
     "start_time": "2024-04-26T16:20:07.028968Z"
    }
   },
   "outputs": [
    {
     "name": "stderr",
     "output_type": "stream",
     "text": [
      "Warning message in predict.lmrob(final_model, interval = \"prediction\"):\n",
      "\"Predictions on current data refer to _future_ responses\"\n"
     ]
    },
    {
     "data": {
      "text/html": [
       "<table class=\"dataframe\">\n",
       "<caption>A data.frame: 29 × 8</caption>\n",
       "<thead>\n",
       "\t<tr><th></th><th scope=col>Country</th><th scope=col>Life</th><th scope=col>Income</th><th scope=col>Type</th><th scope=col>In_Europe</th><th scope=col>fit</th><th scope=col>lwr</th><th scope=col>upr</th></tr>\n",
       "\t<tr><th></th><th scope=col>&lt;chr&gt;</th><th scope=col>&lt;dbl&gt;</th><th scope=col>&lt;dbl&gt;</th><th scope=col>&lt;fct&gt;</th><th scope=col>&lt;dbl&gt;</th><th scope=col>&lt;dbl&gt;</th><th scope=col>&lt;dbl&gt;</th><th scope=col>&lt;dbl&gt;</th></tr>\n",
       "</thead>\n",
       "<tbody>\n",
       "\t<tr><th scope=row>1</th><td>Australia    </td><td>71.0</td><td>3426</td><td>Industrialized</td><td>0</td><td>71.39537</td><td>67.09158</td><td>75.69915</td></tr>\n",
       "\t<tr><th scope=row>2</th><td>Austria      </td><td>70.4</td><td>3350</td><td>Industrialized</td><td>1</td><td>71.33031</td><td>67.02755</td><td>75.63307</td></tr>\n",
       "\t<tr><th scope=row>3</th><td>Belgium      </td><td>70.6</td><td>3346</td><td>Industrialized</td><td>1</td><td>71.32689</td><td>67.02417</td><td>75.62960</td></tr>\n",
       "\t<tr><th scope=row>4</th><td>Canada       </td><td>72.0</td><td>4751</td><td>Industrialized</td><td>0</td><td>72.52957</td><td>68.15188</td><td>76.90726</td></tr>\n",
       "\t<tr><th scope=row>5</th><td>Denmark      </td><td>73.3</td><td>5029</td><td>Industrialized</td><td>1</td><td>72.76754</td><td>68.36116</td><td>77.17392</td></tr>\n",
       "\t<tr><th scope=row>6</th><td>Finland      </td><td>69.8</td><td>3312</td><td>Industrialized</td><td>1</td><td>71.29778</td><td>66.99540</td><td>75.60017</td></tr>\n",
       "\t<tr><th scope=row>7</th><td>France       </td><td>72.3</td><td>3403</td><td>Industrialized</td><td>1</td><td>71.37568</td><td>67.07224</td><td>75.67911</td></tr>\n",
       "\t<tr><th scope=row>8</th><td>West_Germany </td><td>70.3</td><td>5040</td><td>Industrialized</td><td>1</td><td>72.77695</td><td>68.36935</td><td>77.18456</td></tr>\n",
       "\t<tr><th scope=row>9</th><td>Ireland      </td><td>70.7</td><td>2009</td><td>Industrialized</td><td>1</td><td>70.18241</td><td>65.83967</td><td>74.52514</td></tr>\n",
       "\t<tr><th scope=row>10</th><td>Italy        </td><td>70.6</td><td>2298</td><td>Industrialized</td><td>1</td><td>70.42979</td><td>66.10489</td><td>74.75470</td></tr>\n",
       "\t<tr><th scope=row>11</th><td>Japan        </td><td>73.2</td><td>3292</td><td>Industrialized</td><td>0</td><td>71.28066</td><td>66.97844</td><td>75.58288</td></tr>\n",
       "\t<tr><th scope=row>12</th><td>Netherlands  </td><td>73.8</td><td>4103</td><td>Industrialized</td><td>1</td><td>71.97488</td><td>67.64650</td><td>76.30326</td></tr>\n",
       "\t<tr><th scope=row>13</th><td>NewZealand   </td><td>71.1</td><td>3723</td><td>Industrialized</td><td>0</td><td>71.64960</td><td>67.33845</td><td>75.96074</td></tr>\n",
       "\t<tr><th scope=row>14</th><td>Norway       </td><td>73.9</td><td>4102</td><td>Industrialized</td><td>1</td><td>71.97402</td><td>67.64570</td><td>76.30235</td></tr>\n",
       "\t<tr><th scope=row>15</th><td>Portugal     </td><td>68.1</td><td> 956</td><td>Industrialized</td><td>1</td><td>69.28104</td><td>64.83194</td><td>73.73014</td></tr>\n",
       "\t<tr><th scope=row>16</th><td>South_Africa </td><td>68.2</td><td>1650</td><td>Industrialized</td><td>0</td><td>69.87510</td><td>65.50331</td><td>74.24690</td></tr>\n",
       "\t<tr><th scope=row>17</th><td>Sweden       </td><td>74.7</td><td>5596</td><td>Industrialized</td><td>1</td><td>73.25289</td><td>68.77447</td><td>77.73131</td></tr>\n",
       "\t<tr><th scope=row>18</th><td>Switzerland  </td><td>72.1</td><td>2963</td><td>Industrialized</td><td>1</td><td>70.99904</td><td>66.69598</td><td>75.30209</td></tr>\n",
       "\t<tr><th scope=row>19</th><td>Britain      </td><td>72.0</td><td>2503</td><td>Industrialized</td><td>1</td><td>70.60527</td><td>66.28997</td><td>74.92058</td></tr>\n",
       "\t<tr><th scope=row>20</th><td>United_States</td><td>71.3</td><td>5523</td><td>Industrialized</td><td>0</td><td>73.19040</td><td>68.72226</td><td>77.65855</td></tr>\n",
       "\t<tr><th scope=row>21</th><td>Algeria      </td><td>50.7</td><td> 430</td><td>Petroleum     </td><td>0</td><td>50.21893</td><td>45.66475</td><td>54.77312</td></tr>\n",
       "\t<tr><th scope=row>22</th><td>Ecuador      </td><td>52.3</td><td> 360</td><td>Petroleum     </td><td>0</td><td>50.15901</td><td>45.59997</td><td>54.71806</td></tr>\n",
       "\t<tr><th scope=row>23</th><td>Indonesia    </td><td>47.5</td><td> 110</td><td>Petroleum     </td><td>0</td><td>49.94501</td><td>45.36633</td><td>54.52370</td></tr>\n",
       "\t<tr><th scope=row>24</th><td>Iran         </td><td>50.0</td><td>1280</td><td>Petroleum     </td><td>0</td><td>50.94654</td><td>46.42902</td><td>55.46405</td></tr>\n",
       "\t<tr><th scope=row>25</th><td>Iraq         </td><td>51.6</td><td> 560</td><td>Petroleum     </td><td>0</td><td>50.33022</td><td>45.78433</td><td>54.87610</td></tr>\n",
       "\t<tr><th scope=row>26</th><td>Libya        </td><td>52.1</td><td>3010</td><td>Petroleum     </td><td>0</td><td>52.42742</td><td>47.85509</td><td>56.99975</td></tr>\n",
       "\t<tr><th scope=row>27</th><td>Nigeria      </td><td>36.9</td><td> 180</td><td>Petroleum     </td><td>0</td><td>50.00493</td><td>45.43210</td><td>54.57777</td></tr>\n",
       "\t<tr><th scope=row>28</th><td>Saudi_Arabia </td><td>42.3</td><td>1530</td><td>Petroleum     </td><td>0</td><td>51.16054</td><td>46.64584</td><td>55.67524</td></tr>\n",
       "\t<tr><th scope=row>29</th><td>Venezuela    </td><td>66.4</td><td>1240</td><td>Petroleum     </td><td>0</td><td>50.91230</td><td>46.39399</td><td>55.43060</td></tr>\n",
       "</tbody>\n",
       "</table>\n"
      ],
      "text/latex": [
       "A data.frame: 29 × 8\n",
       "\\begin{tabular}{r|llllllll}\n",
       "  & Country & Life & Income & Type & In\\_Europe & fit & lwr & upr\\\\\n",
       "  & <chr> & <dbl> & <dbl> & <fct> & <dbl> & <dbl> & <dbl> & <dbl>\\\\\n",
       "\\hline\n",
       "\t1 & Australia     & 71.0 & 3426 & Industrialized & 0 & 71.39537 & 67.09158 & 75.69915\\\\\n",
       "\t2 & Austria       & 70.4 & 3350 & Industrialized & 1 & 71.33031 & 67.02755 & 75.63307\\\\\n",
       "\t3 & Belgium       & 70.6 & 3346 & Industrialized & 1 & 71.32689 & 67.02417 & 75.62960\\\\\n",
       "\t4 & Canada        & 72.0 & 4751 & Industrialized & 0 & 72.52957 & 68.15188 & 76.90726\\\\\n",
       "\t5 & Denmark       & 73.3 & 5029 & Industrialized & 1 & 72.76754 & 68.36116 & 77.17392\\\\\n",
       "\t6 & Finland       & 69.8 & 3312 & Industrialized & 1 & 71.29778 & 66.99540 & 75.60017\\\\\n",
       "\t7 & France        & 72.3 & 3403 & Industrialized & 1 & 71.37568 & 67.07224 & 75.67911\\\\\n",
       "\t8 & West\\_Germany  & 70.3 & 5040 & Industrialized & 1 & 72.77695 & 68.36935 & 77.18456\\\\\n",
       "\t9 & Ireland       & 70.7 & 2009 & Industrialized & 1 & 70.18241 & 65.83967 & 74.52514\\\\\n",
       "\t10 & Italy         & 70.6 & 2298 & Industrialized & 1 & 70.42979 & 66.10489 & 74.75470\\\\\n",
       "\t11 & Japan         & 73.2 & 3292 & Industrialized & 0 & 71.28066 & 66.97844 & 75.58288\\\\\n",
       "\t12 & Netherlands   & 73.8 & 4103 & Industrialized & 1 & 71.97488 & 67.64650 & 76.30326\\\\\n",
       "\t13 & NewZealand    & 71.1 & 3723 & Industrialized & 0 & 71.64960 & 67.33845 & 75.96074\\\\\n",
       "\t14 & Norway        & 73.9 & 4102 & Industrialized & 1 & 71.97402 & 67.64570 & 76.30235\\\\\n",
       "\t15 & Portugal      & 68.1 &  956 & Industrialized & 1 & 69.28104 & 64.83194 & 73.73014\\\\\n",
       "\t16 & South\\_Africa  & 68.2 & 1650 & Industrialized & 0 & 69.87510 & 65.50331 & 74.24690\\\\\n",
       "\t17 & Sweden        & 74.7 & 5596 & Industrialized & 1 & 73.25289 & 68.77447 & 77.73131\\\\\n",
       "\t18 & Switzerland   & 72.1 & 2963 & Industrialized & 1 & 70.99904 & 66.69598 & 75.30209\\\\\n",
       "\t19 & Britain       & 72.0 & 2503 & Industrialized & 1 & 70.60527 & 66.28997 & 74.92058\\\\\n",
       "\t20 & United\\_States & 71.3 & 5523 & Industrialized & 0 & 73.19040 & 68.72226 & 77.65855\\\\\n",
       "\t21 & Algeria       & 50.7 &  430 & Petroleum      & 0 & 50.21893 & 45.66475 & 54.77312\\\\\n",
       "\t22 & Ecuador       & 52.3 &  360 & Petroleum      & 0 & 50.15901 & 45.59997 & 54.71806\\\\\n",
       "\t23 & Indonesia     & 47.5 &  110 & Petroleum      & 0 & 49.94501 & 45.36633 & 54.52370\\\\\n",
       "\t24 & Iran          & 50.0 & 1280 & Petroleum      & 0 & 50.94654 & 46.42902 & 55.46405\\\\\n",
       "\t25 & Iraq          & 51.6 &  560 & Petroleum      & 0 & 50.33022 & 45.78433 & 54.87610\\\\\n",
       "\t26 & Libya         & 52.1 & 3010 & Petroleum      & 0 & 52.42742 & 47.85509 & 56.99975\\\\\n",
       "\t27 & Nigeria       & 36.9 &  180 & Petroleum      & 0 & 50.00493 & 45.43210 & 54.57777\\\\\n",
       "\t28 & Saudi\\_Arabia  & 42.3 & 1530 & Petroleum      & 0 & 51.16054 & 46.64584 & 55.67524\\\\\n",
       "\t29 & Venezuela     & 66.4 & 1240 & Petroleum      & 0 & 50.91230 & 46.39399 & 55.43060\\\\\n",
       "\\end{tabular}\n"
      ],
      "text/markdown": [
       "\n",
       "A data.frame: 29 × 8\n",
       "\n",
       "| <!--/--> | Country &lt;chr&gt; | Life &lt;dbl&gt; | Income &lt;dbl&gt; | Type &lt;fct&gt; | In_Europe &lt;dbl&gt; | fit &lt;dbl&gt; | lwr &lt;dbl&gt; | upr &lt;dbl&gt; |\n",
       "|---|---|---|---|---|---|---|---|---|\n",
       "| 1 | Australia     | 71.0 | 3426 | Industrialized | 0 | 71.39537 | 67.09158 | 75.69915 |\n",
       "| 2 | Austria       | 70.4 | 3350 | Industrialized | 1 | 71.33031 | 67.02755 | 75.63307 |\n",
       "| 3 | Belgium       | 70.6 | 3346 | Industrialized | 1 | 71.32689 | 67.02417 | 75.62960 |\n",
       "| 4 | Canada        | 72.0 | 4751 | Industrialized | 0 | 72.52957 | 68.15188 | 76.90726 |\n",
       "| 5 | Denmark       | 73.3 | 5029 | Industrialized | 1 | 72.76754 | 68.36116 | 77.17392 |\n",
       "| 6 | Finland       | 69.8 | 3312 | Industrialized | 1 | 71.29778 | 66.99540 | 75.60017 |\n",
       "| 7 | France        | 72.3 | 3403 | Industrialized | 1 | 71.37568 | 67.07224 | 75.67911 |\n",
       "| 8 | West_Germany  | 70.3 | 5040 | Industrialized | 1 | 72.77695 | 68.36935 | 77.18456 |\n",
       "| 9 | Ireland       | 70.7 | 2009 | Industrialized | 1 | 70.18241 | 65.83967 | 74.52514 |\n",
       "| 10 | Italy         | 70.6 | 2298 | Industrialized | 1 | 70.42979 | 66.10489 | 74.75470 |\n",
       "| 11 | Japan         | 73.2 | 3292 | Industrialized | 0 | 71.28066 | 66.97844 | 75.58288 |\n",
       "| 12 | Netherlands   | 73.8 | 4103 | Industrialized | 1 | 71.97488 | 67.64650 | 76.30326 |\n",
       "| 13 | NewZealand    | 71.1 | 3723 | Industrialized | 0 | 71.64960 | 67.33845 | 75.96074 |\n",
       "| 14 | Norway        | 73.9 | 4102 | Industrialized | 1 | 71.97402 | 67.64570 | 76.30235 |\n",
       "| 15 | Portugal      | 68.1 |  956 | Industrialized | 1 | 69.28104 | 64.83194 | 73.73014 |\n",
       "| 16 | South_Africa  | 68.2 | 1650 | Industrialized | 0 | 69.87510 | 65.50331 | 74.24690 |\n",
       "| 17 | Sweden        | 74.7 | 5596 | Industrialized | 1 | 73.25289 | 68.77447 | 77.73131 |\n",
       "| 18 | Switzerland   | 72.1 | 2963 | Industrialized | 1 | 70.99904 | 66.69598 | 75.30209 |\n",
       "| 19 | Britain       | 72.0 | 2503 | Industrialized | 1 | 70.60527 | 66.28997 | 74.92058 |\n",
       "| 20 | United_States | 71.3 | 5523 | Industrialized | 0 | 73.19040 | 68.72226 | 77.65855 |\n",
       "| 21 | Algeria       | 50.7 |  430 | Petroleum      | 0 | 50.21893 | 45.66475 | 54.77312 |\n",
       "| 22 | Ecuador       | 52.3 |  360 | Petroleum      | 0 | 50.15901 | 45.59997 | 54.71806 |\n",
       "| 23 | Indonesia     | 47.5 |  110 | Petroleum      | 0 | 49.94501 | 45.36633 | 54.52370 |\n",
       "| 24 | Iran          | 50.0 | 1280 | Petroleum      | 0 | 50.94654 | 46.42902 | 55.46405 |\n",
       "| 25 | Iraq          | 51.6 |  560 | Petroleum      | 0 | 50.33022 | 45.78433 | 54.87610 |\n",
       "| 26 | Libya         | 52.1 | 3010 | Petroleum      | 0 | 52.42742 | 47.85509 | 56.99975 |\n",
       "| 27 | Nigeria       | 36.9 |  180 | Petroleum      | 0 | 50.00493 | 45.43210 | 54.57777 |\n",
       "| 28 | Saudi_Arabia  | 42.3 | 1530 | Petroleum      | 0 | 51.16054 | 46.64584 | 55.67524 |\n",
       "| 29 | Venezuela     | 66.4 | 1240 | Petroleum      | 0 | 50.91230 | 46.39399 | 55.43060 |\n",
       "\n"
      ],
      "text/plain": [
       "   Country       Life Income Type           In_Europe fit      lwr      upr     \n",
       "1  Australia     71.0 3426   Industrialized 0         71.39537 67.09158 75.69915\n",
       "2  Austria       70.4 3350   Industrialized 1         71.33031 67.02755 75.63307\n",
       "3  Belgium       70.6 3346   Industrialized 1         71.32689 67.02417 75.62960\n",
       "4  Canada        72.0 4751   Industrialized 0         72.52957 68.15188 76.90726\n",
       "5  Denmark       73.3 5029   Industrialized 1         72.76754 68.36116 77.17392\n",
       "6  Finland       69.8 3312   Industrialized 1         71.29778 66.99540 75.60017\n",
       "7  France        72.3 3403   Industrialized 1         71.37568 67.07224 75.67911\n",
       "8  West_Germany  70.3 5040   Industrialized 1         72.77695 68.36935 77.18456\n",
       "9  Ireland       70.7 2009   Industrialized 1         70.18241 65.83967 74.52514\n",
       "10 Italy         70.6 2298   Industrialized 1         70.42979 66.10489 74.75470\n",
       "11 Japan         73.2 3292   Industrialized 0         71.28066 66.97844 75.58288\n",
       "12 Netherlands   73.8 4103   Industrialized 1         71.97488 67.64650 76.30326\n",
       "13 NewZealand    71.1 3723   Industrialized 0         71.64960 67.33845 75.96074\n",
       "14 Norway        73.9 4102   Industrialized 1         71.97402 67.64570 76.30235\n",
       "15 Portugal      68.1  956   Industrialized 1         69.28104 64.83194 73.73014\n",
       "16 South_Africa  68.2 1650   Industrialized 0         69.87510 65.50331 74.24690\n",
       "17 Sweden        74.7 5596   Industrialized 1         73.25289 68.77447 77.73131\n",
       "18 Switzerland   72.1 2963   Industrialized 1         70.99904 66.69598 75.30209\n",
       "19 Britain       72.0 2503   Industrialized 1         70.60527 66.28997 74.92058\n",
       "20 United_States 71.3 5523   Industrialized 0         73.19040 68.72226 77.65855\n",
       "21 Algeria       50.7  430   Petroleum      0         50.21893 45.66475 54.77312\n",
       "22 Ecuador       52.3  360   Petroleum      0         50.15901 45.59997 54.71806\n",
       "23 Indonesia     47.5  110   Petroleum      0         49.94501 45.36633 54.52370\n",
       "24 Iran          50.0 1280   Petroleum      0         50.94654 46.42902 55.46405\n",
       "25 Iraq          51.6  560   Petroleum      0         50.33022 45.78433 54.87610\n",
       "26 Libya         52.1 3010   Petroleum      0         52.42742 47.85509 56.99975\n",
       "27 Nigeria       36.9  180   Petroleum      0         50.00493 45.43210 54.57777\n",
       "28 Saudi_Arabia  42.3 1530   Petroleum      0         51.16054 46.64584 55.67524\n",
       "29 Venezuela     66.4 1240   Petroleum      0         50.91230 46.39399 55.43060"
      ]
     },
     "metadata": {},
     "output_type": "display_data"
    }
   ],
   "source": [
    "tmp <- predict(final_model, interval=\"prediction\")\n",
    "predict <- cbind(data, tmp)\n",
    "predict"
   ]
  },
  {
   "cell_type": "markdown",
   "id": "b48ac65e-9d2d-43a7-90c5-cbb0789edfb9",
   "metadata": {},
   "source": [
    "Podle mého názoru náš finální model není tak špatný, skoro všechny body jsou přibližně predikovany správně, ale vyjímkou jsou outliery, i přesto náš finální model je modelem robustní regrese."
   ]
  },
  {
   "cell_type": "markdown",
   "id": "fe6184b8-cae3-486e-9cef-d985595f50ef",
   "metadata": {},
   "source": [
    "## Ověření předpokladů finálního modelu"
   ]
  },
  {
   "cell_type": "markdown",
   "id": "c788810e-6dbc-4922-831a-e0eb0240fb07",
   "metadata": {},
   "source": [
    "Náš finální model je model robustní regrese. Předpoklady robustního regresního modelu jsou linearita, normalita reziduí, homoskedasticita, multikolinearita."
   ]
  },
  {
   "cell_type": "markdown",
   "id": "bb7c8456-51da-4d2f-b049-148e0a5b784c",
   "metadata": {},
   "source": [
    "### Ověření normality"
   ]
  },
  {
   "cell_type": "code",
   "execution_count": 57,
   "id": "278433f5-1d16-429a-baba-ed1b0c38279c",
   "metadata": {},
   "outputs": [
    {
     "data": {
      "text/plain": [
       "\n",
       "\tShapiro-Wilk normality test\n",
       "\n",
       "data:  residuals(final_model)\n",
       "W = 0.73398, p-value = 6.718e-06\n"
      ]
     },
     "metadata": {},
     "output_type": "display_data"
    }
   ],
   "source": [
    "shapiro.test(residuals(final_model))"
   ]
  },
  {
   "cell_type": "markdown",
   "id": "10d686a3-f066-4ee8-8cb4-3fa3f1933cf4",
   "metadata": {},
   "source": [
    "V našem případě je p-hodnota je 6.718e-06 (což je velmi blízko nule). To naznačuje, že rezidua našeho konečného modelu nejsou normálně rozdělena."
   ]
  },
  {
   "cell_type": "code",
   "execution_count": 58,
   "id": "4bdfbcfb-1f5a-49d0-bae7-7996a404dc54",
   "metadata": {},
   "outputs": [
    {
     "data": {
      "image/png": "[encoded data removed]",
      "text/plain": [
       "Plot with title \"Normal Q-Q Plot\""
      ]
     },
     "metadata": {
      "image/png": {
       "height": 480,
       "width": 720
      }
     },
     "output_type": "display_data"
    }
   ],
   "source": [
    "qqnorm(residuals(final_model))\n",
    "qqline(residuals(final_model))"
   ]
  },
  {
   "cell_type": "markdown",
   "id": "58e6f66c-189e-48b0-b66a-a21e5e767b25",
   "metadata": {},
   "source": [
    "Většina bodů leží na přímce na Q-Q plotu, ale problémem jsou stále odlehlé hodnoty."
   ]
  },
  {
   "cell_type": "code",
   "execution_count": 59,
   "id": "c5d6a855-6120-4e17-8f2d-e34786a6dd0b",
   "metadata": {},
   "outputs": [
    {
     "data": {
      "image/png": "[encoded data removed]",
      "text/plain": [
       "Plot with title \"Histogram of Residuals\""
      ]
     },
     "metadata": {
      "image/png": {
       "height": 480,
       "width": 720
      }
     },
     "output_type": "display_data"
    }
   ],
   "source": [
    "hist(residuals(final_model), main = \"Histogram of Residuals\")"
   ]
  },
  {
   "cell_type": "markdown",
   "id": "c8408b96-8a46-4bd2-90ca-cff4d133de37",
   "metadata": {},
   "source": [
    "Ideálně by histogram měl být přibližně normální, což v našem případě se bohužel nestalo. Vizulálně výpadá jako Gaussian, ale s mezerami. "
   ]
  },
  {
   "cell_type": "markdown",
   "id": "888693cd-be86-417f-9287-dcaaa5a717f3",
   "metadata": {},
   "source": [
    "### Ověření linearity"
   ]
  },
  {
   "cell_type": "code",
   "execution_count": 60,
   "id": "068bd0fc-33d1-4de7-b9dc-5e6a327c15b2",
   "metadata": {
    "ExecuteTime": {
     "end_time": "2024-04-26T16:20:08.429440Z",
     "start_time": "2024-04-26T16:20:08.283382Z"
    }
   },
   "outputs": [
    {
     "data": {
      "image/png": "[encoded data removed]",
      "text/plain": [
       "Plot with title \"Residuals vs Fitted Values\""
      ]
     },
     "metadata": {
      "image/png": {
       "height": 480,
       "width": 720
      }
     },
     "output_type": "display_data"
    }
   ],
   "source": [
    "plot(fitted(final_model), residuals(final_model), main = \"Residuals vs Fitted Values\")\n",
    "abline(h = 0, col = \"red\")"
   ]
  },
  {
   "cell_type": "markdown",
   "id": "10530fa0-229d-4e6c-a215-e6b5b37b58ab",
   "metadata": {},
   "source": [
    "Ideálně bylo by, pokud by body v scatterplotu byly rovnoměrně rozptýleny kolem horizontální čáry nulových reziduí. Ale vidím z plotu, že červená přímka ideálně rovně leží."
   ]
  },
  {
   "cell_type": "markdown",
   "id": "12a4c6c1-7990-461f-8cda-70d8ddcbdc9a",
   "metadata": {},
   "source": [
    "### Ověření homoskedasticity"
   ]
  },
  {
   "cell_type": "code",
   "execution_count": 61,
   "id": "e239eb45-6413-483f-88f1-dafd1f8ba8bf",
   "metadata": {
    "ExecuteTime": {
     "end_time": "2024-04-26T16:20:08.732045Z",
     "start_time": "2024-04-26T16:20:08.688577Z"
    }
   },
   "outputs": [
    {
     "data": {
      "text/plain": [
       "\n",
       "\tstudentized Breusch-Pagan test\n",
       "\n",
       "data:  final_model\n",
       "BP = 5.9893, df = 2, p-value = 0.05005\n"
      ]
     },
     "metadata": {},
     "output_type": "display_data"
    }
   ],
   "source": [
    "bptest(final_model)"
   ]
  },
  {
   "cell_type": "markdown",
   "id": "977437f6-fd54-4b0a-8f3e-ac57a2576851",
   "metadata": {},
   "source": [
    "Protože p-hodnota (0.05005) je vyšší než 0.05 na hladině významnosti 5%, nulovou hypotézu o homoskedasticitě nezamítáme. To naznačuje, že neexistuje silný důkaz pro závěr, že rozptyl reziduí není konstantní na všech úrovních nezávislých proměnných. Stojí však za povšimnutí, že p-hodnota se blíží 0.05, což naznačuje hraniční významnost. "
   ]
  },
  {
   "cell_type": "markdown",
   "id": "03ffa6f9-d820-4e64-826b-f0df74e3227b",
   "metadata": {},
   "source": [
    "### Ověření multikolinearity"
   ]
  },
  {
   "cell_type": "code",
   "execution_count": 62,
   "id": "72e540e4-be71-4f57-b8a2-46d4f2e8a6e7",
   "metadata": {
    "ExecuteTime": {
     "end_time": "2024-04-26T16:20:11.014Z",
     "start_time": "2024-04-26T16:20:10.943341Z"
    }
   },
   "outputs": [
    {
     "data": {
      "text/html": [
       "<style>\n",
       ".dl-inline {width: auto; margin:0; padding: 0}\n",
       ".dl-inline>dt, .dl-inline>dd {float: none; width: auto; display: inline-block}\n",
       ".dl-inline>dt::after {content: \":\\0020\"; padding-right: .5ex}\n",
       ".dl-inline>dt:not(:first-of-type) {padding-left: .5ex}\n",
       "</style><dl class=dl-inline><dt>Type</dt><dd>1.25996575633975</dd><dt>Income</dt><dd>1.25996575633975</dd></dl>\n"
      ],
      "text/latex": [
       "\\begin{description*}\n",
       "\\item[Type] 1.25996575633975\n",
       "\\item[Income] 1.25996575633975\n",
       "\\end{description*}\n"
      ],
      "text/markdown": [
       "Type\n",
       ":   1.25996575633975Income\n",
       ":   1.25996575633975\n",
       "\n"
      ],
      "text/plain": [
       "    Type   Income \n",
       "1.259966 1.259966 "
      ]
     },
     "metadata": {},
     "output_type": "display_data"
    }
   ],
   "source": [
    "vif(final_model)"
   ]
  },
  {
   "cell_type": "markdown",
   "id": "bf27a63c-f46a-4bce-830e-7b87cc312228",
   "metadata": {},
   "source": [
    "Ve našem případě mají obě predikční proměnné hodnotu VIF přibližně 1,26. Tyto hodnoty jsou hluboko pod prahovou hodnotou 5, což naznačuje, že multikolinearita není ve našem modelu významným problémem.\n",
    "\n",
    "Nízké hodnoty VIF naznačují, že predikční proměnné nejsou vzájemně vysoce korelované, což je žádoucí pro interpretaci jednotlivých účinků jednotlivých prediktorů na proměnnou odezvy."
   ]
  },
  {
   "cell_type": "markdown",
   "id": "2be8cf9e-10c3-41a5-bf7c-52c4d10b9a22",
   "metadata": {},
   "source": [
    "### Ověření nezávislosti reziduí"
   ]
  },
  {
   "cell_type": "code",
   "execution_count": 63,
   "id": "d1baaec8-c397-4433-b3a1-51986481e2bb",
   "metadata": {},
   "outputs": [
    {
     "data": {
      "text/plain": [
       "\n",
       "\tDurbin-Watson test\n",
       "\n",
       "data:  final_model\n",
       "DW = 1.6622, p-value = 0.1384\n",
       "alternative hypothesis: true autocorrelation is greater than 0\n"
      ]
     },
     "metadata": {},
     "output_type": "display_data"
    }
   ],
   "source": [
    "dw_test <- dwtest(final_model)\n",
    "dw_test"
   ]
  },
  {
   "cell_type": "markdown",
   "id": "db4189e2-41f2-450f-a1fe-2767ff7b3984",
   "metadata": {},
   "source": [
    "S p-hodnotou 0,1384 při hladině významnosti 0,05 se nám nepodařilo zamítnout nulovou hypotézu o neexistenci autokorelace. DW hodnota se rovna 1.6. Hodnota blízká 2 naznačuje absenci autokorelace, zatímco hodnoty výrazně odlišné od 2 naznačují přítomnost autokorelace."
   ]
  },
  {
   "cell_type": "markdown",
   "id": "0803db87-42e0-42d4-91c6-9dc75bbe1399",
   "metadata": {},
   "source": [
    "Všechny tyto testy lze provést bez splnění předpokladu normality, ale musíme správně interpretovat. Náš finální model nesplnuje všechny testy, proto nemůžeme mu důvěřovat na 100%."
   ]
  },
  {
   "cell_type": "code",
   "execution_count": null,
   "id": "c1e4204c-5442-4e30-907b-ed8b9856dd96",
   "metadata": {},
   "outputs": [],
   "source": []
  }
 ],
 "metadata": {
  "kernelspec": {
   "display_name": "R",
   "language": "R",
   "name": "ir"
  },
  "language_info": {
   "codemirror_mode": "r",
   "file_extension": ".r",
   "mimetype": "text/x-r-source",
   "name": "R",
   "pygments_lexer": "r",
   "version": "4.3.2"
  }
 },
 "nbformat": 4,
 "nbformat_minor": 5
}
