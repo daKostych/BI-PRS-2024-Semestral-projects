{
 "cells": [
  {
   "cell_type": "code",
   "execution_count": 1,
   "id": "initial_id",
   "metadata": {
    "ExecuteTime": {
     "end_time": "2024-04-26T16:19:44.743408Z",
     "start_time": "2024-04-26T16:19:41.766568Z"
    }
   },
   "outputs": [
    {
     "name": "stderr",
     "output_type": "stream",
     "text": [
      "Warning message:\n",
      "\"package 'Sleuth2' was built under R version 4.3.3\"\n",
      "\n",
      "Attaching package: 'dplyr'\n",
      "\n",
      "\n",
      "The following objects are masked from 'package:stats':\n",
      "\n",
      "    filter, lag\n",
      "\n",
      "\n",
      "The following objects are masked from 'package:base':\n",
      "\n",
      "    intersect, setdiff, setequal, union\n",
      "\n",
      "\n",
      "Warning message:\n",
      "\"package 'gridExtra' was built under R version 4.3.3\"\n",
      "\n",
      "Attaching package: 'gridExtra'\n",
      "\n",
      "\n",
      "The following object is masked from 'package:dplyr':\n",
      "\n",
      "    combine\n",
      "\n",
      "\n",
      "Warning message:\n",
      "\"package 'olsrr' was built under R version 4.3.3\"\n",
      "\n",
      "Attaching package: 'olsrr'\n",
      "\n",
      "\n",
      "The following object is masked from 'package:datasets':\n",
      "\n",
      "    rivers\n",
      "\n",
      "\n",
      "Warning message:\n",
      "\"package 'lmtest' was built under R version 4.3.3\"\n",
      "Loading required package: zoo\n",
      "\n",
      "Warning message:\n",
      "\"package 'zoo' was built under R version 4.3.3\"\n",
      "\n",
      "Attaching package: 'zoo'\n",
      "\n",
      "\n",
      "The following objects are masked from 'package:base':\n",
      "\n",
      "    as.Date, as.Date.numeric\n",
      "\n",
      "\n",
      "Warning message:\n",
      "\"package 'car' was built under R version 4.3.3\"\n",
      "Loading required package: carData\n",
      "\n",
      "Warning message:\n",
      "\"package 'carData' was built under R version 4.3.3\"\n",
      "\n",
      "Attaching package: 'car'\n",
      "\n",
      "\n",
      "The following object is masked from 'package:dplyr':\n",
      "\n",
      "    recode\n",
      "\n",
      "\n"
     ]
    }
   ],
   "source": [
    "#.libPaths(\"/home/kostyadovnar/CVUT/BI-PRS/packages\")\n",
    "# .libPaths(\"/home/senyaaa/BI-PRS/packages\")\n",
    "#.libPaths(\"\")\n",
    "\n",
    "# paths(\"~/tmp/bi-prs/\")\n",
    "# install.packages('Sleuth2')\n",
    "# install.packages('lmtest')\n",
    "\n",
    "library(Sleuth2)\n",
    "library(dplyr)\n",
    "library(ggplot2)\n",
    "library(gridExtra)\n",
    "library(olsrr)\n",
    "library(lmtest)\n",
    "library(car)\n",
    "options(width=160, repr.plot.width=12, repr.plot.height=8) "
   ]
  },
  {
   "cell_type": "code",
   "execution_count": 2,
   "id": "763e6b6d-df17-4f39-8c48-03aaa6a594bb",
   "metadata": {
    "ExecuteTime": {
     "end_time": "2024-04-26T16:19:44.824475Z",
     "start_time": "2024-04-26T16:19:44.769546Z"
    }
   },
   "outputs": [
    {
     "name": "stdout",
     "output_type": "stream",
     "text": [
      "[1] 2\n"
     ]
    }
   ],
   "source": [
    "surname <- \"downar\"\n",
    "L <- nchar(surname)\n",
    "K <- 9\n",
    "M <- ((K + L) * 47) %% 11 + 1\n",
    "print(M)"
   ]
  },
  {
   "cell_type": "markdown",
   "id": "4a662a5b-2b25-456e-91be-1544696eb324",
   "metadata": {},
   "source": [
    "## Základní statistická šetření\n",
    "\n",
    "Stahneme potřebný dataset. "
   ]
  },
  {
   "cell_type": "code",
   "execution_count": 3,
   "id": "d1190968-9f31-486a-9ef3-d75db49abcbc",
   "metadata": {
    "ExecuteTime": {
     "end_time": "2024-04-26T16:19:45.005997Z",
     "start_time": "2024-04-26T16:19:44.835737Z"
    }
   },
   "outputs": [
    {
     "data": {
      "text/html": [
       "<table class=\"dataframe\">\n",
       "<caption>A data.frame: 29 × 4</caption>\n",
       "<thead>\n",
       "\t<tr><th></th><th scope=col>Country</th><th scope=col>Life</th><th scope=col>Income</th><th scope=col>Type</th></tr>\n",
       "\t<tr><th></th><th scope=col>&lt;chr&gt;</th><th scope=col>&lt;dbl&gt;</th><th scope=col>&lt;dbl&gt;</th><th scope=col>&lt;fct&gt;</th></tr>\n",
       "</thead>\n",
       "<tbody>\n",
       "\t<tr><th scope=row>1</th><td>Australia    </td><td>71.0</td><td>3426</td><td>Industrialized</td></tr>\n",
       "\t<tr><th scope=row>2</th><td>Austria      </td><td>70.4</td><td>3350</td><td>Industrialized</td></tr>\n",
       "\t<tr><th scope=row>3</th><td>Belgium      </td><td>70.6</td><td>3346</td><td>Industrialized</td></tr>\n",
       "\t<tr><th scope=row>4</th><td>Canada       </td><td>72.0</td><td>4751</td><td>Industrialized</td></tr>\n",
       "\t<tr><th scope=row>5</th><td>Denmark      </td><td>73.3</td><td>5029</td><td>Industrialized</td></tr>\n",
       "\t<tr><th scope=row>6</th><td>Finland      </td><td>69.8</td><td>3312</td><td>Industrialized</td></tr>\n",
       "\t<tr><th scope=row>7</th><td>France       </td><td>72.3</td><td>3403</td><td>Industrialized</td></tr>\n",
       "\t<tr><th scope=row>8</th><td>West_Germany </td><td>70.3</td><td>5040</td><td>Industrialized</td></tr>\n",
       "\t<tr><th scope=row>9</th><td>Ireland      </td><td>70.7</td><td>2009</td><td>Industrialized</td></tr>\n",
       "\t<tr><th scope=row>10</th><td>Italy        </td><td>70.6</td><td>2298</td><td>Industrialized</td></tr>\n",
       "\t<tr><th scope=row>11</th><td>Japan        </td><td>73.2</td><td>3292</td><td>Industrialized</td></tr>\n",
       "\t<tr><th scope=row>12</th><td>Netherlands  </td><td>73.8</td><td>4103</td><td>Industrialized</td></tr>\n",
       "\t<tr><th scope=row>13</th><td>NewZealand   </td><td>71.1</td><td>3723</td><td>Industrialized</td></tr>\n",
       "\t<tr><th scope=row>14</th><td>Norway       </td><td>73.9</td><td>4102</td><td>Industrialized</td></tr>\n",
       "\t<tr><th scope=row>15</th><td>Portugal     </td><td>68.1</td><td> 956</td><td>Industrialized</td></tr>\n",
       "\t<tr><th scope=row>16</th><td>South_Africa </td><td>68.2</td><td> NaN</td><td>Industrialized</td></tr>\n",
       "\t<tr><th scope=row>17</th><td>Sweden       </td><td>74.7</td><td>5596</td><td>Industrialized</td></tr>\n",
       "\t<tr><th scope=row>18</th><td>Switzerland  </td><td>72.1</td><td>2963</td><td>Industrialized</td></tr>\n",
       "\t<tr><th scope=row>19</th><td>Britain      </td><td>72.0</td><td>2503</td><td>Industrialized</td></tr>\n",
       "\t<tr><th scope=row>20</th><td>United_States</td><td>71.3</td><td>5523</td><td>Industrialized</td></tr>\n",
       "\t<tr><th scope=row>21</th><td>Algeria      </td><td>50.7</td><td> 430</td><td>Petroleum     </td></tr>\n",
       "\t<tr><th scope=row>22</th><td>Ecuador      </td><td>52.3</td><td> 360</td><td>Petroleum     </td></tr>\n",
       "\t<tr><th scope=row>23</th><td>Indonesia    </td><td>47.5</td><td> 110</td><td>Petroleum     </td></tr>\n",
       "\t<tr><th scope=row>24</th><td>Iran         </td><td>50.0</td><td>1280</td><td>Petroleum     </td></tr>\n",
       "\t<tr><th scope=row>25</th><td>Iraq         </td><td>51.6</td><td> 560</td><td>Petroleum     </td></tr>\n",
       "\t<tr><th scope=row>26</th><td>Libya        </td><td>52.1</td><td>3010</td><td>Petroleum     </td></tr>\n",
       "\t<tr><th scope=row>27</th><td>Nigeria      </td><td>36.9</td><td> 180</td><td>Petroleum     </td></tr>\n",
       "\t<tr><th scope=row>28</th><td>Saudi_Arabia </td><td>42.3</td><td>1530</td><td>Petroleum     </td></tr>\n",
       "\t<tr><th scope=row>29</th><td>Venezuela    </td><td>66.4</td><td>1240</td><td>Petroleum     </td></tr>\n",
       "</tbody>\n",
       "</table>\n"
      ],
      "text/latex": [
       "A data.frame: 29 × 4\n",
       "\\begin{tabular}{r|llll}\n",
       "  & Country & Life & Income & Type\\\\\n",
       "  & <chr> & <dbl> & <dbl> & <fct>\\\\\n",
       "\\hline\n",
       "\t1 & Australia     & 71.0 & 3426 & Industrialized\\\\\n",
       "\t2 & Austria       & 70.4 & 3350 & Industrialized\\\\\n",
       "\t3 & Belgium       & 70.6 & 3346 & Industrialized\\\\\n",
       "\t4 & Canada        & 72.0 & 4751 & Industrialized\\\\\n",
       "\t5 & Denmark       & 73.3 & 5029 & Industrialized\\\\\n",
       "\t6 & Finland       & 69.8 & 3312 & Industrialized\\\\\n",
       "\t7 & France        & 72.3 & 3403 & Industrialized\\\\\n",
       "\t8 & West\\_Germany  & 70.3 & 5040 & Industrialized\\\\\n",
       "\t9 & Ireland       & 70.7 & 2009 & Industrialized\\\\\n",
       "\t10 & Italy         & 70.6 & 2298 & Industrialized\\\\\n",
       "\t11 & Japan         & 73.2 & 3292 & Industrialized\\\\\n",
       "\t12 & Netherlands   & 73.8 & 4103 & Industrialized\\\\\n",
       "\t13 & NewZealand    & 71.1 & 3723 & Industrialized\\\\\n",
       "\t14 & Norway        & 73.9 & 4102 & Industrialized\\\\\n",
       "\t15 & Portugal      & 68.1 &  956 & Industrialized\\\\\n",
       "\t16 & South\\_Africa  & 68.2 &  NaN & Industrialized\\\\\n",
       "\t17 & Sweden        & 74.7 & 5596 & Industrialized\\\\\n",
       "\t18 & Switzerland   & 72.1 & 2963 & Industrialized\\\\\n",
       "\t19 & Britain       & 72.0 & 2503 & Industrialized\\\\\n",
       "\t20 & United\\_States & 71.3 & 5523 & Industrialized\\\\\n",
       "\t21 & Algeria       & 50.7 &  430 & Petroleum     \\\\\n",
       "\t22 & Ecuador       & 52.3 &  360 & Petroleum     \\\\\n",
       "\t23 & Indonesia     & 47.5 &  110 & Petroleum     \\\\\n",
       "\t24 & Iran          & 50.0 & 1280 & Petroleum     \\\\\n",
       "\t25 & Iraq          & 51.6 &  560 & Petroleum     \\\\\n",
       "\t26 & Libya         & 52.1 & 3010 & Petroleum     \\\\\n",
       "\t27 & Nigeria       & 36.9 &  180 & Petroleum     \\\\\n",
       "\t28 & Saudi\\_Arabia  & 42.3 & 1530 & Petroleum     \\\\\n",
       "\t29 & Venezuela     & 66.4 & 1240 & Petroleum     \\\\\n",
       "\\end{tabular}\n"
      ],
      "text/markdown": [
       "\n",
       "A data.frame: 29 × 4\n",
       "\n",
       "| <!--/--> | Country &lt;chr&gt; | Life &lt;dbl&gt; | Income &lt;dbl&gt; | Type &lt;fct&gt; |\n",
       "|---|---|---|---|---|\n",
       "| 1 | Australia     | 71.0 | 3426 | Industrialized |\n",
       "| 2 | Austria       | 70.4 | 3350 | Industrialized |\n",
       "| 3 | Belgium       | 70.6 | 3346 | Industrialized |\n",
       "| 4 | Canada        | 72.0 | 4751 | Industrialized |\n",
       "| 5 | Denmark       | 73.3 | 5029 | Industrialized |\n",
       "| 6 | Finland       | 69.8 | 3312 | Industrialized |\n",
       "| 7 | France        | 72.3 | 3403 | Industrialized |\n",
       "| 8 | West_Germany  | 70.3 | 5040 | Industrialized |\n",
       "| 9 | Ireland       | 70.7 | 2009 | Industrialized |\n",
       "| 10 | Italy         | 70.6 | 2298 | Industrialized |\n",
       "| 11 | Japan         | 73.2 | 3292 | Industrialized |\n",
       "| 12 | Netherlands   | 73.8 | 4103 | Industrialized |\n",
       "| 13 | NewZealand    | 71.1 | 3723 | Industrialized |\n",
       "| 14 | Norway        | 73.9 | 4102 | Industrialized |\n",
       "| 15 | Portugal      | 68.1 |  956 | Industrialized |\n",
       "| 16 | South_Africa  | 68.2 |  NaN | Industrialized |\n",
       "| 17 | Sweden        | 74.7 | 5596 | Industrialized |\n",
       "| 18 | Switzerland   | 72.1 | 2963 | Industrialized |\n",
       "| 19 | Britain       | 72.0 | 2503 | Industrialized |\n",
       "| 20 | United_States | 71.3 | 5523 | Industrialized |\n",
       "| 21 | Algeria       | 50.7 |  430 | Petroleum      |\n",
       "| 22 | Ecuador       | 52.3 |  360 | Petroleum      |\n",
       "| 23 | Indonesia     | 47.5 |  110 | Petroleum      |\n",
       "| 24 | Iran          | 50.0 | 1280 | Petroleum      |\n",
       "| 25 | Iraq          | 51.6 |  560 | Petroleum      |\n",
       "| 26 | Libya         | 52.1 | 3010 | Petroleum      |\n",
       "| 27 | Nigeria       | 36.9 |  180 | Petroleum      |\n",
       "| 28 | Saudi_Arabia  | 42.3 | 1530 | Petroleum      |\n",
       "| 29 | Venezuela     | 66.4 | 1240 | Petroleum      |\n",
       "\n"
      ],
      "text/plain": [
       "   Country       Life Income Type          \n",
       "1  Australia     71.0 3426   Industrialized\n",
       "2  Austria       70.4 3350   Industrialized\n",
       "3  Belgium       70.6 3346   Industrialized\n",
       "4  Canada        72.0 4751   Industrialized\n",
       "5  Denmark       73.3 5029   Industrialized\n",
       "6  Finland       69.8 3312   Industrialized\n",
       "7  France        72.3 3403   Industrialized\n",
       "8  West_Germany  70.3 5040   Industrialized\n",
       "9  Ireland       70.7 2009   Industrialized\n",
       "10 Italy         70.6 2298   Industrialized\n",
       "11 Japan         73.2 3292   Industrialized\n",
       "12 Netherlands   73.8 4103   Industrialized\n",
       "13 NewZealand    71.1 3723   Industrialized\n",
       "14 Norway        73.9 4102   Industrialized\n",
       "15 Portugal      68.1  956   Industrialized\n",
       "16 South_Africa  68.2  NaN   Industrialized\n",
       "17 Sweden        74.7 5596   Industrialized\n",
       "18 Switzerland   72.1 2963   Industrialized\n",
       "19 Britain       72.0 2503   Industrialized\n",
       "20 United_States 71.3 5523   Industrialized\n",
       "21 Algeria       50.7  430   Petroleum     \n",
       "22 Ecuador       52.3  360   Petroleum     \n",
       "23 Indonesia     47.5  110   Petroleum     \n",
       "24 Iran          50.0 1280   Petroleum     \n",
       "25 Iraq          51.6  560   Petroleum     \n",
       "26 Libya         52.1 3010   Petroleum     \n",
       "27 Nigeria       36.9  180   Petroleum     \n",
       "28 Saudi_Arabia  42.3 1530   Petroleum     \n",
       "29 Venezuela     66.4 1240   Petroleum     "
      ]
     },
     "metadata": {},
     "output_type": "display_data"
    }
   ],
   "source": [
    "data(\"ex0327\", package = \"Sleuth2\")\n",
    "\n",
    "data <- ex0327\n",
    "data"
   ]
  },
  {
   "cell_type": "markdown",
   "id": "447614c8-e2f5-4181-8d14-d54c59fe4fd5",
   "metadata": {},
   "source": [
    "### Stručný popis datasetu"
   ]
  },
  {
   "cell_type": "markdown",
   "id": "d1653be4-70b4-432c-924b-b943e52b68de",
   "metadata": {},
   "source": [
    "Datový soubor představuje sadu dat obsahující informace o různých zemích, jejichž průměrné délce života, HDP na osobu a kategorii rozvoje. V datovém souboru jsou zastoupeny 29 zemí, včetně průmyslově rozvinutých zemí a zemí, které jsou vývozci ropy. Každý řádek odpovídá jedné zemi a sloupce obsahují informace o jejich charakteristikách. Datový soubor také obsahuje chybějící hodnotu pro délku života v Jihoafrické republice."
   ]
  },
  {
   "cell_type": "markdown",
   "id": "0504ed3d-7670-4aef-9ddb-d9af507b9040",
   "metadata": {},
   "source": [
    "Význam jednotlivých atributů:\n",
    "* **Country**: vektor znaků označující zemi\n",
    "* **Life**: průměrná délka života (roky)\n",
    "* **Income**: příjmy v roce 1974 (americké dolary)\n",
    "* **Type**: proměnná typového faktoru s úrovněmi \"Industrialized \" a\"Petroleum\""
   ]
  },
  {
   "cell_type": "markdown",
   "id": "b9102dcf-8444-4b4c-aaba-d3c3bdf5cca0",
   "metadata": {},
   "source": [
    "Vzhledem k tomu, že Jihoafrická republika nemá hodnotu příjmu, naplníme ji průměrnou hodnotou příjmů zemí stejného typu."
   ]
  },
  {
   "cell_type": "code",
   "execution_count": 4,
   "id": "d4b915bf-3ab5-4402-8bd7-765a54048b0c",
   "metadata": {
    "ExecuteTime": {
     "end_time": "2024-04-26T16:19:45.153675Z",
     "start_time": "2024-04-26T16:19:45.017664Z"
    }
   },
   "outputs": [
    {
     "data": {
      "text/html": [
       "<table class=\"dataframe\">\n",
       "<caption>A data.frame: 29 × 4</caption>\n",
       "<thead>\n",
       "\t<tr><th></th><th scope=col>Country</th><th scope=col>Life</th><th scope=col>Income</th><th scope=col>Type</th></tr>\n",
       "\t<tr><th></th><th scope=col>&lt;chr&gt;</th><th scope=col>&lt;dbl&gt;</th><th scope=col>&lt;dbl&gt;</th><th scope=col>&lt;fct&gt;</th></tr>\n",
       "</thead>\n",
       "<tbody>\n",
       "\t<tr><th scope=row>1</th><td>Australia    </td><td>71.0</td><td>3426</td><td>Industrialized</td></tr>\n",
       "\t<tr><th scope=row>2</th><td>Austria      </td><td>70.4</td><td>3350</td><td>Industrialized</td></tr>\n",
       "\t<tr><th scope=row>3</th><td>Belgium      </td><td>70.6</td><td>3346</td><td>Industrialized</td></tr>\n",
       "\t<tr><th scope=row>4</th><td>Canada       </td><td>72.0</td><td>4751</td><td>Industrialized</td></tr>\n",
       "\t<tr><th scope=row>5</th><td>Denmark      </td><td>73.3</td><td>5029</td><td>Industrialized</td></tr>\n",
       "\t<tr><th scope=row>6</th><td>Finland      </td><td>69.8</td><td>3312</td><td>Industrialized</td></tr>\n",
       "\t<tr><th scope=row>7</th><td>France       </td><td>72.3</td><td>3403</td><td>Industrialized</td></tr>\n",
       "\t<tr><th scope=row>8</th><td>West_Germany </td><td>70.3</td><td>5040</td><td>Industrialized</td></tr>\n",
       "\t<tr><th scope=row>9</th><td>Ireland      </td><td>70.7</td><td>2009</td><td>Industrialized</td></tr>\n",
       "\t<tr><th scope=row>10</th><td>Italy        </td><td>70.6</td><td>2298</td><td>Industrialized</td></tr>\n",
       "\t<tr><th scope=row>11</th><td>Japan        </td><td>73.2</td><td>3292</td><td>Industrialized</td></tr>\n",
       "\t<tr><th scope=row>12</th><td>Netherlands  </td><td>73.8</td><td>4103</td><td>Industrialized</td></tr>\n",
       "\t<tr><th scope=row>13</th><td>NewZealand   </td><td>71.1</td><td>3723</td><td>Industrialized</td></tr>\n",
       "\t<tr><th scope=row>14</th><td>Norway       </td><td>73.9</td><td>4102</td><td>Industrialized</td></tr>\n",
       "\t<tr><th scope=row>15</th><td>Portugal     </td><td>68.1</td><td> 956</td><td>Industrialized</td></tr>\n",
       "\t<tr><th scope=row>16</th><td>South_Africa </td><td>68.2</td><td>3617</td><td>Industrialized</td></tr>\n",
       "\t<tr><th scope=row>17</th><td>Sweden       </td><td>74.7</td><td>5596</td><td>Industrialized</td></tr>\n",
       "\t<tr><th scope=row>18</th><td>Switzerland  </td><td>72.1</td><td>2963</td><td>Industrialized</td></tr>\n",
       "\t<tr><th scope=row>19</th><td>Britain      </td><td>72.0</td><td>2503</td><td>Industrialized</td></tr>\n",
       "\t<tr><th scope=row>20</th><td>United_States</td><td>71.3</td><td>5523</td><td>Industrialized</td></tr>\n",
       "\t<tr><th scope=row>21</th><td>Algeria      </td><td>50.7</td><td> 430</td><td>Petroleum     </td></tr>\n",
       "\t<tr><th scope=row>22</th><td>Ecuador      </td><td>52.3</td><td> 360</td><td>Petroleum     </td></tr>\n",
       "\t<tr><th scope=row>23</th><td>Indonesia    </td><td>47.5</td><td> 110</td><td>Petroleum     </td></tr>\n",
       "\t<tr><th scope=row>24</th><td>Iran         </td><td>50.0</td><td>1280</td><td>Petroleum     </td></tr>\n",
       "\t<tr><th scope=row>25</th><td>Iraq         </td><td>51.6</td><td> 560</td><td>Petroleum     </td></tr>\n",
       "\t<tr><th scope=row>26</th><td>Libya        </td><td>52.1</td><td>3010</td><td>Petroleum     </td></tr>\n",
       "\t<tr><th scope=row>27</th><td>Nigeria      </td><td>36.9</td><td> 180</td><td>Petroleum     </td></tr>\n",
       "\t<tr><th scope=row>28</th><td>Saudi_Arabia </td><td>42.3</td><td>1530</td><td>Petroleum     </td></tr>\n",
       "\t<tr><th scope=row>29</th><td>Venezuela    </td><td>66.4</td><td>1240</td><td>Petroleum     </td></tr>\n",
       "</tbody>\n",
       "</table>\n"
      ],
      "text/latex": [
       "A data.frame: 29 × 4\n",
       "\\begin{tabular}{r|llll}\n",
       "  & Country & Life & Income & Type\\\\\n",
       "  & <chr> & <dbl> & <dbl> & <fct>\\\\\n",
       "\\hline\n",
       "\t1 & Australia     & 71.0 & 3426 & Industrialized\\\\\n",
       "\t2 & Austria       & 70.4 & 3350 & Industrialized\\\\\n",
       "\t3 & Belgium       & 70.6 & 3346 & Industrialized\\\\\n",
       "\t4 & Canada        & 72.0 & 4751 & Industrialized\\\\\n",
       "\t5 & Denmark       & 73.3 & 5029 & Industrialized\\\\\n",
       "\t6 & Finland       & 69.8 & 3312 & Industrialized\\\\\n",
       "\t7 & France        & 72.3 & 3403 & Industrialized\\\\\n",
       "\t8 & West\\_Germany  & 70.3 & 5040 & Industrialized\\\\\n",
       "\t9 & Ireland       & 70.7 & 2009 & Industrialized\\\\\n",
       "\t10 & Italy         & 70.6 & 2298 & Industrialized\\\\\n",
       "\t11 & Japan         & 73.2 & 3292 & Industrialized\\\\\n",
       "\t12 & Netherlands   & 73.8 & 4103 & Industrialized\\\\\n",
       "\t13 & NewZealand    & 71.1 & 3723 & Industrialized\\\\\n",
       "\t14 & Norway        & 73.9 & 4102 & Industrialized\\\\\n",
       "\t15 & Portugal      & 68.1 &  956 & Industrialized\\\\\n",
       "\t16 & South\\_Africa  & 68.2 & 3617 & Industrialized\\\\\n",
       "\t17 & Sweden        & 74.7 & 5596 & Industrialized\\\\\n",
       "\t18 & Switzerland   & 72.1 & 2963 & Industrialized\\\\\n",
       "\t19 & Britain       & 72.0 & 2503 & Industrialized\\\\\n",
       "\t20 & United\\_States & 71.3 & 5523 & Industrialized\\\\\n",
       "\t21 & Algeria       & 50.7 &  430 & Petroleum     \\\\\n",
       "\t22 & Ecuador       & 52.3 &  360 & Petroleum     \\\\\n",
       "\t23 & Indonesia     & 47.5 &  110 & Petroleum     \\\\\n",
       "\t24 & Iran          & 50.0 & 1280 & Petroleum     \\\\\n",
       "\t25 & Iraq          & 51.6 &  560 & Petroleum     \\\\\n",
       "\t26 & Libya         & 52.1 & 3010 & Petroleum     \\\\\n",
       "\t27 & Nigeria       & 36.9 &  180 & Petroleum     \\\\\n",
       "\t28 & Saudi\\_Arabia  & 42.3 & 1530 & Petroleum     \\\\\n",
       "\t29 & Venezuela     & 66.4 & 1240 & Petroleum     \\\\\n",
       "\\end{tabular}\n"
      ],
      "text/markdown": [
       "\n",
       "A data.frame: 29 × 4\n",
       "\n",
       "| <!--/--> | Country &lt;chr&gt; | Life &lt;dbl&gt; | Income &lt;dbl&gt; | Type &lt;fct&gt; |\n",
       "|---|---|---|---|---|\n",
       "| 1 | Australia     | 71.0 | 3426 | Industrialized |\n",
       "| 2 | Austria       | 70.4 | 3350 | Industrialized |\n",
       "| 3 | Belgium       | 70.6 | 3346 | Industrialized |\n",
       "| 4 | Canada        | 72.0 | 4751 | Industrialized |\n",
       "| 5 | Denmark       | 73.3 | 5029 | Industrialized |\n",
       "| 6 | Finland       | 69.8 | 3312 | Industrialized |\n",
       "| 7 | France        | 72.3 | 3403 | Industrialized |\n",
       "| 8 | West_Germany  | 70.3 | 5040 | Industrialized |\n",
       "| 9 | Ireland       | 70.7 | 2009 | Industrialized |\n",
       "| 10 | Italy         | 70.6 | 2298 | Industrialized |\n",
       "| 11 | Japan         | 73.2 | 3292 | Industrialized |\n",
       "| 12 | Netherlands   | 73.8 | 4103 | Industrialized |\n",
       "| 13 | NewZealand    | 71.1 | 3723 | Industrialized |\n",
       "| 14 | Norway        | 73.9 | 4102 | Industrialized |\n",
       "| 15 | Portugal      | 68.1 |  956 | Industrialized |\n",
       "| 16 | South_Africa  | 68.2 | 3617 | Industrialized |\n",
       "| 17 | Sweden        | 74.7 | 5596 | Industrialized |\n",
       "| 18 | Switzerland   | 72.1 | 2963 | Industrialized |\n",
       "| 19 | Britain       | 72.0 | 2503 | Industrialized |\n",
       "| 20 | United_States | 71.3 | 5523 | Industrialized |\n",
       "| 21 | Algeria       | 50.7 |  430 | Petroleum      |\n",
       "| 22 | Ecuador       | 52.3 |  360 | Petroleum      |\n",
       "| 23 | Indonesia     | 47.5 |  110 | Petroleum      |\n",
       "| 24 | Iran          | 50.0 | 1280 | Petroleum      |\n",
       "| 25 | Iraq          | 51.6 |  560 | Petroleum      |\n",
       "| 26 | Libya         | 52.1 | 3010 | Petroleum      |\n",
       "| 27 | Nigeria       | 36.9 |  180 | Petroleum      |\n",
       "| 28 | Saudi_Arabia  | 42.3 | 1530 | Petroleum      |\n",
       "| 29 | Venezuela     | 66.4 | 1240 | Petroleum      |\n",
       "\n"
      ],
      "text/plain": [
       "   Country       Life Income Type          \n",
       "1  Australia     71.0 3426   Industrialized\n",
       "2  Austria       70.4 3350   Industrialized\n",
       "3  Belgium       70.6 3346   Industrialized\n",
       "4  Canada        72.0 4751   Industrialized\n",
       "5  Denmark       73.3 5029   Industrialized\n",
       "6  Finland       69.8 3312   Industrialized\n",
       "7  France        72.3 3403   Industrialized\n",
       "8  West_Germany  70.3 5040   Industrialized\n",
       "9  Ireland       70.7 2009   Industrialized\n",
       "10 Italy         70.6 2298   Industrialized\n",
       "11 Japan         73.2 3292   Industrialized\n",
       "12 Netherlands   73.8 4103   Industrialized\n",
       "13 NewZealand    71.1 3723   Industrialized\n",
       "14 Norway        73.9 4102   Industrialized\n",
       "15 Portugal      68.1  956   Industrialized\n",
       "16 South_Africa  68.2 3617   Industrialized\n",
       "17 Sweden        74.7 5596   Industrialized\n",
       "18 Switzerland   72.1 2963   Industrialized\n",
       "19 Britain       72.0 2503   Industrialized\n",
       "20 United_States 71.3 5523   Industrialized\n",
       "21 Algeria       50.7  430   Petroleum     \n",
       "22 Ecuador       52.3  360   Petroleum     \n",
       "23 Indonesia     47.5  110   Petroleum     \n",
       "24 Iran          50.0 1280   Petroleum     \n",
       "25 Iraq          51.6  560   Petroleum     \n",
       "26 Libya         52.1 3010   Petroleum     \n",
       "27 Nigeria       36.9  180   Petroleum     \n",
       "28 Saudi_Arabia  42.3 1530   Petroleum     \n",
       "29 Venezuela     66.4 1240   Petroleum     "
      ]
     },
     "metadata": {},
     "output_type": "display_data"
    }
   ],
   "source": [
    "# Vybereme země se stejným typem jako Jižní Afrika\n",
    "same_type_countries <- subset(data, Type == \"Industrialized\" & !is.na(Income))\n",
    "\n",
    "# Vypočteme průměrnou hodnotu příjmu pro tyto země\n",
    "mean_income <- mean(same_type_countries$Income, na.rm = TRUE)\n",
    "\n",
    "# Nahradíme chybějící hodnotu pro příjem v Jižní Africe průměrem\n",
    "data[16, \"Income\"] <- mean_income\n",
    "data$Income <- round(data$Income)\n",
    "data"
   ]
  },
  {
   "cell_type": "markdown",
   "id": "b36005f3-80f9-4c4e-8e48-b88a8966ebc6",
   "metadata": {},
   "source": [
    "### Základní statistiky"
   ]
  },
  {
   "cell_type": "code",
   "execution_count": 5,
   "id": "ec60616f-8b79-4550-b1be-a5036225c70c",
   "metadata": {
    "ExecuteTime": {
     "end_time": "2024-04-26T16:19:45.399373Z",
     "start_time": "2024-04-26T16:19:45.165781Z"
    }
   },
   "outputs": [
    {
     "name": "stdout",
     "output_type": "stream",
     "text": [
      "           Statistic Life_Industr Life_Petrol Income_Industr Income_Petrol\n",
      "1               Mean        71.47       49.98        3617.10        966.67\n",
      "2             Median        71.20       50.70        3414.50        560.00\n",
      "3 Standard deviation         1.77        8.05        1188.48        924.64\n",
      "4            Minimum        68.10       36.90         956.00        110.00\n",
      "5            Maximum        74.70       66.40        5596.00       3010.00\n",
      "6       Observations        20.00        9.00          20.00          9.00\n"
     ]
    }
   ],
   "source": [
    "# Oddělení dat pro každý typ země\n",
    "industrialized_countries <- subset(data, Type == \"Industrialized\")\n",
    "petroleum_countries <- subset(data, Type == \"Petroleum\")\n",
    "\n",
    "# Základní statistiky pro průmyslově rozvinuté země - Life\n",
    "mean_industrialized_life <- mean(industrialized_countries$Life, na.rm = TRUE)\n",
    "median_industrialized_life <- median(industrialized_countries$Life, na.rm = TRUE)\n",
    "sd_industrialized_life <- sd(industrialized_countries$Life, na.rm = TRUE)\n",
    "min_industrialized_life <- min(industrialized_countries$Life, na.rm = TRUE)\n",
    "max_industrialized_life <- max(industrialized_countries$Life, na.rm = TRUE)\n",
    "count_industrialized_life <- length(industrialized_countries$Life)\n",
    "\n",
    "# Základní statistiky pro země závislé na ropě - Life\n",
    "mean_petroleum_life <- mean(petroleum_countries$Life, na.rm = TRUE)\n",
    "median_petroleum_life <- median(petroleum_countries$Life, na.rm = TRUE)\n",
    "sd_petroleum_life <- sd(petroleum_countries$Life, na.rm = TRUE)\n",
    "min_petroleum_life <- min(petroleum_countries$Life, na.rm = TRUE)\n",
    "max_petroleum_life <- max(petroleum_countries$Life, na.rm = TRUE)\n",
    "count_petroleum_life <- length(petroleum_countries$Life)\n",
    "\n",
    "# Základní statistiky pro průmyslově rozvinuté země - Income\n",
    "mean_industrialized_income <- mean(industrialized_countries$Income, na.rm = TRUE)\n",
    "median_industrialized_income <- median(industrialized_countries$Income, na.rm = TRUE)\n",
    "sd_industrialized_income <- sd(industrialized_countries$Income, na.rm = TRUE)\n",
    "min_industrialized_income <- min(industrialized_countries$Income, na.rm = TRUE)\n",
    "max_industrialized_income <- max(industrialized_countries$Income, na.rm = TRUE)\n",
    "count_industrialized_income <- length(industrialized_countries$Income)\n",
    "\n",
    "# Základní statistiky pro země závislé na ropě - Income\n",
    "mean_petroleum_income <- mean(petroleum_countries$Income, na.rm = TRUE)\n",
    "median_petroleum_income <- median(petroleum_countries$Income, na.rm = TRUE)\n",
    "sd_petroleum_income <- sd(petroleum_countries$Income, na.rm = TRUE)\n",
    "min_petroleum_income <- min(petroleum_countries$Income, na.rm = TRUE)\n",
    "max_petroleum_income <- max(petroleum_countries$Income, na.rm = TRUE)\n",
    "count_petroleum_income <- length(petroleum_countries$Income)\n",
    "\n",
    "# Vytvoření tabulky pro základní statistiky\n",
    "basic_stats <- data.frame(\n",
    "  Statistic = c(\"Mean\", \"Median\", \"Standard deviation\", \"Minimum\", \"Maximum\", \"Observations\"),\n",
    "  Life_Industr = c(mean_industrialized_life, median_industrialized_life, sd_industrialized_life, min_industrialized_life, max_industrialized_life, count_industrialized_life),\n",
    "  Life_Petrol = c(mean_petroleum_life, median_petroleum_life, sd_petroleum_life, min_petroleum_life, max_petroleum_life, count_petroleum_life),\n",
    "  Income_Industr = c(mean_industrialized_income, median_industrialized_income, sd_industrialized_income, min_industrialized_income, max_industrialized_income, count_industrialized_income),\n",
    "  Income_Petrol = c(mean_petroleum_income, median_petroleum_income, sd_petroleum_income, min_petroleum_income, max_petroleum_income, count_petroleum_income)  \n",
    ")\n",
    "\n",
    "# Okrouhlení číselných sloupců na 2 desetinná místa\n",
    "basic_stats <- basic_stats %>%\n",
    "  mutate_if(is.numeric, ~round(., digits = 2))\n",
    "\n",
    "# Výpis tabulky\n",
    "print(basic_stats)"
   ]
  },
  {
   "cell_type": "markdown",
   "id": "70eec1c9-0ce7-4b09-a49d-f2bcae21a9fc",
   "metadata": {},
   "source": [
    "* Průměr (Mean):\n",
    "    * Průměrná délka života v průmyslově rozvinutých zemích je vyšší než v zemích závislých na ropě. Tento rozdíl může být způsoben lepšími sociálními a zdravotními podmínkami, které existují v průmyslově rozvinutých zemích a umožňují obyvatelům žít déle.\n",
    "    * Průměrný příjem na obyvatele v průmyslově rozvinutých zemích je výrazně vyšší než v zemích závislých na ropě. To může být důsledek vyšší úrovně ekonomického rozvoje, většího zaměstnaností a vyšší produktivity práce v průmyslově rozvinutých zemích.\n",
    "\n",
    "\n",
    "* Medián (Median):\n",
    "    * Medián délky života a příjmu na obyvatele poskytuje informace o střední hodnotě v datasetu, které nejsou ovlivněny extrémními hodnotami. Různé hodnoty mediánu v průmyslově rozvinutých zemích a zemích závislých na ropě mohou být důsledkem rozdílů v distribuci dat a míře koncentrace hodnot kolem střední hodnoty.\n",
    "\n",
    "\n",
    "* Standardní odchylka (Standard deviation):\n",
    "    * Vyšší standardní odchylka délky života ve zemích závislých na ropě naznačuje větší variabilitu v tomto ukazateli mezi těmito zeměmi. To může být způsobeno různými socioekonomickými faktory, jako jsou dostupnost zdravotní péče, životní podmínky a infrastruktura.\n",
    "    * Standardní odchylka příjmu na obyvatele je vyšší průmyslově rozvinutých zemích, což může být důsledkem rozdílů v ekonomickém rozvoji, příjmové nerovnosti a diverzifikace ekonomiky."
   ]
  },
  {
   "cell_type": "code",
   "execution_count": 6,
   "id": "bab84782-28df-4799-812a-1da90630f600",
   "metadata": {
    "ExecuteTime": {
     "end_time": "2024-04-26T16:19:47.111629Z",
     "start_time": "2024-04-26T16:19:45.415476Z"
    }
   },
   "outputs": [
    {
     "name": "stderr",
     "output_type": "stream",
     "text": [
      "Warning message:\n",
      "\"\u001b[1m\u001b[22mThe `<scale>` argument of `guides()` cannot be `FALSE`. Use \"none\" instead as of ggplot2 3.3.4.\"\n"
     ]
    },
    {
     "data": {
      "image/png": "[encoded data removed]",
      "text/plain": [
       "plot without title"
      ]
     },
     "metadata": {
      "image/png": {
       "height": 480,
       "width": 720
      }
     },
     "output_type": "display_data"
    },
    {
     "data": {
      "image/png": "[encoded data removed]",
      "text/plain": [
       "plot without title"
      ]
     },
     "metadata": {
      "image/png": {
       "height": 480,
       "width": 720
      }
     },
     "output_type": "display_data"
    }
   ],
   "source": [
    "# Průměrná délka života v průmyslově rozvinutých zemích\n",
    "ggplot(industrialized_countries, aes(x = reorder(Country, Life), y = Life, fill = \"lightblue\")) +\n",
    "  geom_bar(stat = \"identity\") +\n",
    "  labs(title = \"Average life expectancy in industrialized countries\", x = \"Country\", y = \"Average life expectancy\") +\n",
    "  theme(axis.text.x = element_text(angle = 45, hjust = 1)) +\n",
    "  scale_fill_manual(values = \"lightblue\") +\n",
    "  guides(fill = FALSE)\n",
    "\n",
    "# Průměrná délka života ve zemích závislých na ropě\n",
    "ggplot(petroleum_countries, aes(x = reorder(Country, Life), y = Life, fill = \"lightgreen\")) +\n",
    "  geom_bar(stat = \"identity\") +\n",
    "  labs(title = \"Average life expectancy in petroleum-dependent countries\", x = \"Country\", y = \"Average life expectancy\") +\n",
    "  theme(axis.text.x = element_text(angle = 45, hjust = 1)) +\n",
    "  scale_fill_manual(values = \"coral1\") +\n",
    "  guides(fill = FALSE)"
   ]
  },
  {
   "cell_type": "markdown",
   "id": "75ffac0c-7fa8-4203-a92c-de1aa1b38ecb",
   "metadata": {},
   "source": [
    "* Můžeme si všimnout zajímavé skutečnosti: nejvyšší průměrná délka života mezi zeměmi typu **Petroleum** je pod nejhorším ukazatelem mezi zeměmi typu **Industrialized**."
   ]
  },
  {
   "cell_type": "code",
   "execution_count": 7,
   "id": "92468cda-4403-4858-a3b4-cc20e93b7122",
   "metadata": {
    "ExecuteTime": {
     "end_time": "2024-04-26T16:19:47.835386Z",
     "start_time": "2024-04-26T16:19:47.124067Z"
    }
   },
   "outputs": [
    {
     "data": {
      "image/png": "[encoded data removed]",
      "text/plain": [
       "plot without title"
      ]
     },
     "metadata": {
      "image/png": {
       "height": 480,
       "width": 720
      }
     },
     "output_type": "display_data"
    }
   ],
   "source": [
    "# Boxplot příjmů na obyvatele\n",
    "ggplot(data, aes(x = Type, y = Income, fill = Type)) +\n",
    "  geom_boxplot() +\n",
    "  labs(title = \"Boxplot of Income per capita\",\n",
    "       x = \"Country Type\",\n",
    "       y = \"Income per capita\") +\n",
    "  scale_fill_manual(values = c(\"lightblue\", \"coral1\"), \n",
    "                    breaks = c(\"Industrialized\", \"Petroleum\"), \n",
    "                    labels = c(\"Industrialized\", \"Petroleum\")) + \n",
    "  theme_minimal()"
   ]
  },
  {
   "cell_type": "markdown",
   "id": "23835148-fa3d-4b22-842e-723634abfcb0",
   "metadata": {},
   "source": [
    "Tento graf opět ukazuje, jak silná je propast mezi průmyslově vyspělými zeměmi a zeměmi závislými na ropě."
   ]
  },
  {
   "cell_type": "code",
   "execution_count": 8,
   "id": "8065d7c3-c661-439b-a276-74d92f22ba0b",
   "metadata": {
    "ExecuteTime": {
     "end_time": "2024-04-26T16:19:48.760898Z",
     "start_time": "2024-04-26T16:19:47.846421Z"
    }
   },
   "outputs": [
    {
     "data": {
      "image/png": "[encoded data removed]",
      "text/plain": [
       "plot without title"
      ]
     },
     "metadata": {
      "image/png": {
       "height": 480,
       "width": 720
      }
     },
     "output_type": "display_data"
    }
   ],
   "source": [
    "# Scatterplot délky života versus příjmu na obyvatele\n",
    "ggplot(data, aes(x = Income, y = Life, color = Type)) +\n",
    "  geom_point() +\n",
    "  labs(title = \"Scatterplot of Life Expectancy versus Income per Capita\",\n",
    "       x = \"Income per Capita\",\n",
    "       y = \"Life Expectancy\",\n",
    "       color = \"Country Type\") +\n",
    "  scale_color_manual(values = c(\"Industrialized\" = \"lightblue\", \"Petroleum\" = \"coral1\")) +\n",
    "  theme_minimal()"
   ]
  },
  {
   "cell_type": "markdown",
   "id": "24a4aee1-fc29-46e1-92c3-cea962b52df2",
   "metadata": {},
   "source": [
    "Tento graf označuje závislost, která bude hlavním tématem v příštím úkolu."
   ]
  },
  {
   "cell_type": "markdown",
   "id": "2d94534e-e144-40c0-b6cc-c36021942d91",
   "metadata": {},
   "source": [
    "## Zkoumání numerického regresoru"
   ]
  },
  {
   "cell_type": "markdown",
   "id": "57183b87-5984-44d5-8966-e9a658197521",
   "metadata": {},
   "source": [
    "Vzhledem k tomu, že průměrný příjem je jediným numerickým atributem v našem datasetu, nemáme jinou možnost než si jej vybrat.\n",
    "\n",
    "Z předchozího grafu je patrné, že hodnota průměrné délky života roste s rostoucím průměrným příjmem, což je vcelku logické."
   ]
  },
  {
   "cell_type": "markdown",
   "id": "2cc89317-0169-4696-9492-60cdbfc5f88f",
   "metadata": {},
   "source": [
    "* Nyní pokusíme rovnou vložit regresní polynom do dat na obrázku.\n",
    "* Zkusíme více různých variant modelu."
   ]
  },
  {
   "cell_type": "code",
   "execution_count": 9,
   "id": "6f708a0a-4346-40ef-8b51-8953d4f9a65c",
   "metadata": {
    "ExecuteTime": {
     "end_time": "2024-04-26T16:19:50.887981Z",
     "start_time": "2024-04-26T16:19:48.773736Z"
    }
   },
   "outputs": [
    {
     "data": {
      "image/png": "[encoded data removed]",
      "text/plain": [
       "plot without title"
      ]
     },
     "metadata": {
      "image/png": {
       "height": 480,
       "width": 720
      }
     },
     "output_type": "display_data"
    }
   ],
   "source": [
    "# Life = Intercept + Income\n",
    "ggplot(data, aes(x=Income, y=Life)) +\n",
    "    geom_point() +\n",
    "    stat_smooth(method=\"lm\", formula=y~x)"
   ]
  },
  {
   "cell_type": "code",
   "execution_count": 10,
   "id": "8066d8b7-f947-4217-8f30-e85a31d2eea6",
   "metadata": {
    "ExecuteTime": {
     "end_time": "2024-04-26T16:19:51.416290Z",
     "start_time": "2024-04-26T16:19:50.898099Z"
    }
   },
   "outputs": [
    {
     "data": {
      "image/png": "[encoded data removed]",
      "text/plain": [
       "plot without title"
      ]
     },
     "metadata": {
      "image/png": {
       "height": 480,
       "width": 720
      }
     },
     "output_type": "display_data"
    }
   ],
   "source": [
    "# Life = Intercept + Income + Income^2\n",
    "ggplot(data, aes(x=Income, y=Life)) +\n",
    "    geom_point() +\n",
    "    stat_smooth(method=\"lm\", formula=y~x + I(x^2))"
   ]
  },
  {
   "cell_type": "code",
   "execution_count": 11,
   "id": "7e9e017f-54f9-44e5-916e-e818a9c58f36",
   "metadata": {
    "ExecuteTime": {
     "end_time": "2024-04-26T16:19:51.986495Z",
     "start_time": "2024-04-26T16:19:51.422936Z"
    }
   },
   "outputs": [
    {
     "data": {
      "image/png": "[encoded data removed]",
      "text/plain": [
       "plot without title"
      ]
     },
     "metadata": {
      "image/png": {
       "height": 480,
       "width": 720
      }
     },
     "output_type": "display_data"
    }
   ],
   "source": [
    "# Life = Intercept + sqrt(Income)\n",
    "ggplot(data, aes(x=Income, y=Life)) +\n",
    "    geom_point() +\n",
    "    stat_smooth(method=\"lm\", formula=y~sqrt(x))"
   ]
  },
  {
   "cell_type": "code",
   "execution_count": 12,
   "id": "3a384f91-8e91-4ac7-aee5-0048907f7783",
   "metadata": {
    "ExecuteTime": {
     "end_time": "2024-04-26T16:19:52.556462Z",
     "start_time": "2024-04-26T16:19:51.996025Z"
    }
   },
   "outputs": [
    {
     "data": {
      "image/png": "[encoded data removed]",
      "text/plain": [
       "plot without title"
      ]
     },
     "metadata": {
      "image/png": {
       "height": 480,
       "width": 720
      }
     },
     "output_type": "display_data"
    }
   ],
   "source": [
    "# Life = Intercept + Income + Income^2 + Income^3\n",
    "ggplot(data, aes(x=Income, y=Life)) +\n",
    "    geom_point() +\n",
    "    stat_smooth(method=\"lm\", formula=y~x + I(x^2) + I(x^3))"
   ]
  },
  {
   "cell_type": "markdown",
   "id": "5de1d8ae-4b6f-4dab-8648-c9eb6256e31c",
   "metadata": {},
   "source": [
    "* Poslední možnost vypadá lépe než všechny ostatní, protože poměrně přirozeně naznačuje závislost mezi průměrným příjmem a průměrnou délkou života.\n",
    "* Poukazuje na to, jak s rostoucím průměrným příjmem roste průměrná délka života.\n",
    "* Na základě těchto pozorování lze usoudit, že graf prokazuje pozitivní vztah mezi příjmem a délkou života.\n",
    "* Jak ukazuje graf, s rostoucím příjmem se průměrná délka života zvyšuje. Tento trend je očekávaný, protože vyšší příjem obvykle umožňuje lidem život v lepších podmínkách, což vede k delšímu životu.\n",
    "* Přímka však neroste příliš rychle, což zas odpovídá realitě (lidé bohužel nebo naštěstí nežijí 150 let)."
   ]
  },
  {
   "cell_type": "markdown",
   "id": "1af1cd20-dc79-4d80-b3b4-675b567b2972",
   "metadata": {},
   "source": [
    "Nyní můžeme nafitovat model (odhadnout parametry) a připravit predikce, abychom v budoucnu vykreslili predikční interval modelu."
   ]
  },
  {
   "cell_type": "code",
   "execution_count": 13,
   "id": "7931d52e-ee4f-4b8e-af15-aedb11532cc1",
   "metadata": {
    "ExecuteTime": {
     "end_time": "2024-04-26T16:19:52.700040Z",
     "start_time": "2024-04-26T16:19:52.567796Z"
    },
    "scrolled": true
   },
   "outputs": [
    {
     "name": "stderr",
     "output_type": "stream",
     "text": [
      "Warning message in predict.lm(fit, interval = \"prediction\"):\n",
      "\"predictions on current data refer to _future_ responses\n",
      "\"\n"
     ]
    },
    {
     "data": {
      "text/html": [
       "<table class=\"dataframe\">\n",
       "<caption>A data.frame: 29 × 6</caption>\n",
       "<thead>\n",
       "\t<tr><th></th><th scope=col>Country</th><th scope=col>Life</th><th scope=col>Income</th><th scope=col>fit</th><th scope=col>lwr</th><th scope=col>upr</th></tr>\n",
       "\t<tr><th></th><th scope=col>&lt;chr&gt;</th><th scope=col>&lt;dbl&gt;</th><th scope=col>&lt;dbl&gt;</th><th scope=col>&lt;dbl&gt;</th><th scope=col>&lt;dbl&gt;</th><th scope=col>&lt;dbl&gt;</th></tr>\n",
       "</thead>\n",
       "<tbody>\n",
       "\t<tr><th scope=row>1</th><td>Australia    </td><td>71.0</td><td>3426</td><td>70.28096</td><td>55.62989</td><td>84.93204</td></tr>\n",
       "\t<tr><th scope=row>2</th><td>Austria      </td><td>70.4</td><td>3350</td><td>70.09151</td><td>55.45792</td><td>84.72509</td></tr>\n",
       "\t<tr><th scope=row>3</th><td>Belgium      </td><td>70.6</td><td>3346</td><td>70.08123</td><td>55.44846</td><td>84.71400</td></tr>\n",
       "\t<tr><th scope=row>4</th><td>Canada       </td><td>72.0</td><td>4751</td><td>72.27512</td><td>57.33378</td><td>87.21646</td></tr>\n",
       "\t<tr><th scope=row>5</th><td>Denmark      </td><td>73.3</td><td>5029</td><td>72.51945</td><td>57.44016</td><td>87.59875</td></tr>\n",
       "\t<tr><th scope=row>6</th><td>Finland      </td><td>69.8</td><td>3312</td><td>69.99256</td><td>55.36628</td><td>84.61884</td></tr>\n",
       "\t<tr><th scope=row>7</th><td>France       </td><td>72.3</td><td>3403</td><td>70.22479</td><td>55.57939</td><td>84.87020</td></tr>\n",
       "\t<tr><th scope=row>8</th><td>West_Germany </td><td>70.3</td><td>5040</td><td>72.52884</td><td>57.43910</td><td>87.61858</td></tr>\n",
       "\t<tr><th scope=row>9</th><td>Ireland      </td><td>70.7</td><td>2009</td><td>64.43315</td><td>49.39432</td><td>79.47197</td></tr>\n",
       "\t<tr><th scope=row>10</th><td>Italy        </td><td>70.6</td><td>2298</td><td>66.08729</td><td>51.20441</td><td>80.97018</td></tr>\n",
       "\t<tr><th scope=row>11</th><td>Japan        </td><td>73.2</td><td>3292</td><td>69.93932</td><td>55.31647</td><td>84.56218</td></tr>\n",
       "\t<tr><th scope=row>12</th><td>Netherlands  </td><td>73.8</td><td>4103</td><td>71.54730</td><td>56.68781</td><td>86.40679</td></tr>\n",
       "\t<tr><th scope=row>13</th><td>NewZealand   </td><td>71.1</td><td>3723</td><td>70.92189</td><td>56.17842</td><td>85.66536</td></tr>\n",
       "\t<tr><th scope=row>14</th><td>Norway       </td><td>73.9</td><td>4102</td><td>71.54589</td><td>56.68663</td><td>86.40515</td></tr>\n",
       "\t<tr><th scope=row>15</th><td>Portugal     </td><td>68.1</td><td> 956</td><td>55.75202</td><td>40.79208</td><td>70.71196</td></tr>\n",
       "\t<tr><th scope=row>16</th><td>South_Africa </td><td>68.2</td><td>3617</td><td>70.71030</td><td>56.00258</td><td>85.41802</td></tr>\n",
       "\t<tr><th scope=row>17</th><td>Sweden       </td><td>74.7</td><td>5596</td><td>73.02535</td><td>56.26217</td><td>89.78853</td></tr>\n",
       "\t<tr><th scope=row>18</th><td>Switzerland  </td><td>72.1</td><td>2963</td><td>68.94047</td><td>54.32447</td><td>83.55647</td></tr>\n",
       "\t<tr><th scope=row>19</th><td>Britain      </td><td>72.0</td><td>2503</td><td>67.09978</td><td>52.32818</td><td>81.87139</td></tr>\n",
       "\t<tr><th scope=row>20</th><td>United_States</td><td>71.3</td><td>5523</td><td>72.95444</td><td>56.58971</td><td>89.31916</td></tr>\n",
       "\t<tr><th scope=row>21</th><td>Algeria      </td><td>50.7</td><td> 430</td><td>49.56510</td><td>34.45634</td><td>64.67386</td></tr>\n",
       "\t<tr><th scope=row>22</th><td>Ecuador      </td><td>52.3</td><td> 360</td><td>48.63591</td><td>33.38226</td><td>63.88956</td></tr>\n",
       "\t<tr><th scope=row>23</th><td>Indonesia    </td><td>47.5</td><td> 110</td><td>45.10175</td><td>28.86406</td><td>61.33943</td></tr>\n",
       "\t<tr><th scope=row>24</th><td>Iran         </td><td>50.0</td><td>1280</td><td>58.91178</td><td>43.80387</td><td>74.01970</td></tr>\n",
       "\t<tr><th scope=row>25</th><td>Iraq         </td><td>51.6</td><td> 560</td><td>51.22286</td><td>36.27375</td><td>66.17196</td></tr>\n",
       "\t<tr><th scope=row>26</th><td>Libya        </td><td>52.1</td><td>3010</td><td>69.09812</td><td>54.48733</td><td>83.70890</td></tr>\n",
       "\t<tr><th scope=row>27</th><td>Nigeria      </td><td>36.9</td><td> 180</td><td>46.12586</td><td>30.24862</td><td>62.00310</td></tr>\n",
       "\t<tr><th scope=row>28</th><td>Saudi_Arabia </td><td>42.3</td><td>1530</td><td>61.04012</td><td>45.88140</td><td>76.19884</td></tr>\n",
       "\t<tr><th scope=row>29</th><td>Venezuela    </td><td>66.4</td><td>1240</td><td>58.54683</td><td>43.45394</td><td>73.63972</td></tr>\n",
       "</tbody>\n",
       "</table>\n"
      ],
      "text/latex": [
       "A data.frame: 29 × 6\n",
       "\\begin{tabular}{r|llllll}\n",
       "  & Country & Life & Income & fit & lwr & upr\\\\\n",
       "  & <chr> & <dbl> & <dbl> & <dbl> & <dbl> & <dbl>\\\\\n",
       "\\hline\n",
       "\t1 & Australia     & 71.0 & 3426 & 70.28096 & 55.62989 & 84.93204\\\\\n",
       "\t2 & Austria       & 70.4 & 3350 & 70.09151 & 55.45792 & 84.72509\\\\\n",
       "\t3 & Belgium       & 70.6 & 3346 & 70.08123 & 55.44846 & 84.71400\\\\\n",
       "\t4 & Canada        & 72.0 & 4751 & 72.27512 & 57.33378 & 87.21646\\\\\n",
       "\t5 & Denmark       & 73.3 & 5029 & 72.51945 & 57.44016 & 87.59875\\\\\n",
       "\t6 & Finland       & 69.8 & 3312 & 69.99256 & 55.36628 & 84.61884\\\\\n",
       "\t7 & France        & 72.3 & 3403 & 70.22479 & 55.57939 & 84.87020\\\\\n",
       "\t8 & West\\_Germany  & 70.3 & 5040 & 72.52884 & 57.43910 & 87.61858\\\\\n",
       "\t9 & Ireland       & 70.7 & 2009 & 64.43315 & 49.39432 & 79.47197\\\\\n",
       "\t10 & Italy         & 70.6 & 2298 & 66.08729 & 51.20441 & 80.97018\\\\\n",
       "\t11 & Japan         & 73.2 & 3292 & 69.93932 & 55.31647 & 84.56218\\\\\n",
       "\t12 & Netherlands   & 73.8 & 4103 & 71.54730 & 56.68781 & 86.40679\\\\\n",
       "\t13 & NewZealand    & 71.1 & 3723 & 70.92189 & 56.17842 & 85.66536\\\\\n",
       "\t14 & Norway        & 73.9 & 4102 & 71.54589 & 56.68663 & 86.40515\\\\\n",
       "\t15 & Portugal      & 68.1 &  956 & 55.75202 & 40.79208 & 70.71196\\\\\n",
       "\t16 & South\\_Africa  & 68.2 & 3617 & 70.71030 & 56.00258 & 85.41802\\\\\n",
       "\t17 & Sweden        & 74.7 & 5596 & 73.02535 & 56.26217 & 89.78853\\\\\n",
       "\t18 & Switzerland   & 72.1 & 2963 & 68.94047 & 54.32447 & 83.55647\\\\\n",
       "\t19 & Britain       & 72.0 & 2503 & 67.09978 & 52.32818 & 81.87139\\\\\n",
       "\t20 & United\\_States & 71.3 & 5523 & 72.95444 & 56.58971 & 89.31916\\\\\n",
       "\t21 & Algeria       & 50.7 &  430 & 49.56510 & 34.45634 & 64.67386\\\\\n",
       "\t22 & Ecuador       & 52.3 &  360 & 48.63591 & 33.38226 & 63.88956\\\\\n",
       "\t23 & Indonesia     & 47.5 &  110 & 45.10175 & 28.86406 & 61.33943\\\\\n",
       "\t24 & Iran          & 50.0 & 1280 & 58.91178 & 43.80387 & 74.01970\\\\\n",
       "\t25 & Iraq          & 51.6 &  560 & 51.22286 & 36.27375 & 66.17196\\\\\n",
       "\t26 & Libya         & 52.1 & 3010 & 69.09812 & 54.48733 & 83.70890\\\\\n",
       "\t27 & Nigeria       & 36.9 &  180 & 46.12586 & 30.24862 & 62.00310\\\\\n",
       "\t28 & Saudi\\_Arabia  & 42.3 & 1530 & 61.04012 & 45.88140 & 76.19884\\\\\n",
       "\t29 & Venezuela     & 66.4 & 1240 & 58.54683 & 43.45394 & 73.63972\\\\\n",
       "\\end{tabular}\n"
      ],
      "text/markdown": [
       "\n",
       "A data.frame: 29 × 6\n",
       "\n",
       "| <!--/--> | Country &lt;chr&gt; | Life &lt;dbl&gt; | Income &lt;dbl&gt; | fit &lt;dbl&gt; | lwr &lt;dbl&gt; | upr &lt;dbl&gt; |\n",
       "|---|---|---|---|---|---|---|\n",
       "| 1 | Australia     | 71.0 | 3426 | 70.28096 | 55.62989 | 84.93204 |\n",
       "| 2 | Austria       | 70.4 | 3350 | 70.09151 | 55.45792 | 84.72509 |\n",
       "| 3 | Belgium       | 70.6 | 3346 | 70.08123 | 55.44846 | 84.71400 |\n",
       "| 4 | Canada        | 72.0 | 4751 | 72.27512 | 57.33378 | 87.21646 |\n",
       "| 5 | Denmark       | 73.3 | 5029 | 72.51945 | 57.44016 | 87.59875 |\n",
       "| 6 | Finland       | 69.8 | 3312 | 69.99256 | 55.36628 | 84.61884 |\n",
       "| 7 | France        | 72.3 | 3403 | 70.22479 | 55.57939 | 84.87020 |\n",
       "| 8 | West_Germany  | 70.3 | 5040 | 72.52884 | 57.43910 | 87.61858 |\n",
       "| 9 | Ireland       | 70.7 | 2009 | 64.43315 | 49.39432 | 79.47197 |\n",
       "| 10 | Italy         | 70.6 | 2298 | 66.08729 | 51.20441 | 80.97018 |\n",
       "| 11 | Japan         | 73.2 | 3292 | 69.93932 | 55.31647 | 84.56218 |\n",
       "| 12 | Netherlands   | 73.8 | 4103 | 71.54730 | 56.68781 | 86.40679 |\n",
       "| 13 | NewZealand    | 71.1 | 3723 | 70.92189 | 56.17842 | 85.66536 |\n",
       "| 14 | Norway        | 73.9 | 4102 | 71.54589 | 56.68663 | 86.40515 |\n",
       "| 15 | Portugal      | 68.1 |  956 | 55.75202 | 40.79208 | 70.71196 |\n",
       "| 16 | South_Africa  | 68.2 | 3617 | 70.71030 | 56.00258 | 85.41802 |\n",
       "| 17 | Sweden        | 74.7 | 5596 | 73.02535 | 56.26217 | 89.78853 |\n",
       "| 18 | Switzerland   | 72.1 | 2963 | 68.94047 | 54.32447 | 83.55647 |\n",
       "| 19 | Britain       | 72.0 | 2503 | 67.09978 | 52.32818 | 81.87139 |\n",
       "| 20 | United_States | 71.3 | 5523 | 72.95444 | 56.58971 | 89.31916 |\n",
       "| 21 | Algeria       | 50.7 |  430 | 49.56510 | 34.45634 | 64.67386 |\n",
       "| 22 | Ecuador       | 52.3 |  360 | 48.63591 | 33.38226 | 63.88956 |\n",
       "| 23 | Indonesia     | 47.5 |  110 | 45.10175 | 28.86406 | 61.33943 |\n",
       "| 24 | Iran          | 50.0 | 1280 | 58.91178 | 43.80387 | 74.01970 |\n",
       "| 25 | Iraq          | 51.6 |  560 | 51.22286 | 36.27375 | 66.17196 |\n",
       "| 26 | Libya         | 52.1 | 3010 | 69.09812 | 54.48733 | 83.70890 |\n",
       "| 27 | Nigeria       | 36.9 |  180 | 46.12586 | 30.24862 | 62.00310 |\n",
       "| 28 | Saudi_Arabia  | 42.3 | 1530 | 61.04012 | 45.88140 | 76.19884 |\n",
       "| 29 | Venezuela     | 66.4 | 1240 | 58.54683 | 43.45394 | 73.63972 |\n",
       "\n"
      ],
      "text/plain": [
       "   Country       Life Income fit      lwr      upr     \n",
       "1  Australia     71.0 3426   70.28096 55.62989 84.93204\n",
       "2  Austria       70.4 3350   70.09151 55.45792 84.72509\n",
       "3  Belgium       70.6 3346   70.08123 55.44846 84.71400\n",
       "4  Canada        72.0 4751   72.27512 57.33378 87.21646\n",
       "5  Denmark       73.3 5029   72.51945 57.44016 87.59875\n",
       "6  Finland       69.8 3312   69.99256 55.36628 84.61884\n",
       "7  France        72.3 3403   70.22479 55.57939 84.87020\n",
       "8  West_Germany  70.3 5040   72.52884 57.43910 87.61858\n",
       "9  Ireland       70.7 2009   64.43315 49.39432 79.47197\n",
       "10 Italy         70.6 2298   66.08729 51.20441 80.97018\n",
       "11 Japan         73.2 3292   69.93932 55.31647 84.56218\n",
       "12 Netherlands   73.8 4103   71.54730 56.68781 86.40679\n",
       "13 NewZealand    71.1 3723   70.92189 56.17842 85.66536\n",
       "14 Norway        73.9 4102   71.54589 56.68663 86.40515\n",
       "15 Portugal      68.1  956   55.75202 40.79208 70.71196\n",
       "16 South_Africa  68.2 3617   70.71030 56.00258 85.41802\n",
       "17 Sweden        74.7 5596   73.02535 56.26217 89.78853\n",
       "18 Switzerland   72.1 2963   68.94047 54.32447 83.55647\n",
       "19 Britain       72.0 2503   67.09978 52.32818 81.87139\n",
       "20 United_States 71.3 5523   72.95444 56.58971 89.31916\n",
       "21 Algeria       50.7  430   49.56510 34.45634 64.67386\n",
       "22 Ecuador       52.3  360   48.63591 33.38226 63.88956\n",
       "23 Indonesia     47.5  110   45.10175 28.86406 61.33943\n",
       "24 Iran          50.0 1280   58.91178 43.80387 74.01970\n",
       "25 Iraq          51.6  560   51.22286 36.27375 66.17196\n",
       "26 Libya         52.1 3010   69.09812 54.48733 83.70890\n",
       "27 Nigeria       36.9  180   46.12586 30.24862 62.00310\n",
       "28 Saudi_Arabia  42.3 1530   61.04012 45.88140 76.19884\n",
       "29 Venezuela     66.4 1240   58.54683 43.45394 73.63972"
      ]
     },
     "metadata": {},
     "output_type": "display_data"
    }
   ],
   "source": [
    "fit <- lm(Life ~ Income + I(Income^2) + I(Income^3), data=data)\n",
    "tmp <- predict(fit, interval=\"prediction\")\n",
    "predict <- cbind(data, tmp)\n",
    "predict$Type = NULL\n",
    "predict"
   ]
  },
  {
   "cell_type": "code",
   "execution_count": 14,
   "id": "22167429-4280-42ed-8d70-f8b655ea91f5",
   "metadata": {
    "ExecuteTime": {
     "end_time": "2024-04-26T16:19:53.125153Z",
     "start_time": "2024-04-26T16:19:52.711143Z"
    }
   },
   "outputs": [
    {
     "data": {
      "image/png": "[encoded data removed]",
      "text/plain": [
       "plot without title"
      ]
     },
     "metadata": {
      "image/png": {
       "height": 480,
       "width": 720
      }
     },
     "output_type": "display_data"
    }
   ],
   "source": [
    "# Calculate distances from each point to the regression line\n",
    "predict <- predict %>%\n",
    "  mutate(residual = Life - fit)\n",
    "\n",
    "# Sort points by decreasing distance\n",
    "predict <- predict %>%\n",
    "  arrange(desc(abs(residual)))\n",
    "\n",
    "# Select top 3 outliers with largest distances\n",
    "top_3_outliers <- head(predict, 3)\n",
    "\n",
    "# Create the plot with points and model lines\n",
    "ggplot(predict, aes(x = Income, y = Life)) +\n",
    "  geom_point() +\n",
    "  geom_line(aes(y = fit), color = \"blue\") +\n",
    "  geom_line(aes(y = lwr), color = \"red\", linetype = \"dashed\") +\n",
    "  geom_line(aes(y = upr), color = \"red\", linetype = \"dashed\") +\n",
    "  # Add labels to the selected points\n",
    "  geom_text(data = top_3_outliers, aes(label = Country), hjust = -0.2, vjust = -0.5, size = 3, color = \"black\") +\n",
    "  labs(title = \"Regression with Outliers\", x = \"Income\", y = \"Life\")\n"
   ]
  },
  {
   "cell_type": "markdown",
   "id": "93f6dfb3-c9b8-438f-9b26-efa52df922cf",
   "metadata": {},
   "source": [
    "* Z grafu vyplývá, že poměrně hodně bodů leží relativně daleko od přímky, což nám nehraje do karet.\n",
    "* Také na grafu jsou podepsány země, které jsou nejdále od přímky (Portugal, Libya, Saudi Arabia). "
   ]
  },
  {
   "cell_type": "code",
   "execution_count": 15,
   "id": "a80e9aff-40ca-435f-88b8-08614ef3f91b",
   "metadata": {
    "ExecuteTime": {
     "end_time": "2024-04-26T16:19:53.289007Z",
     "start_time": "2024-04-26T16:19:53.135806Z"
    }
   },
   "outputs": [
    {
     "data": {
      "image/png": "[encoded data removed]",
      "text/plain": [
       "Plot with title \"\""
      ]
     },
     "metadata": {
      "image/png": {
       "height": 480,
       "width": 720
      }
     },
     "output_type": "display_data"
    }
   ],
   "source": [
    "plot(fit, which=4, col=c(\"blue\"))"
   ]
  },
  {
   "cell_type": "markdown",
   "id": "5bcae934-a2eb-4837-b220-c78296970b69",
   "metadata": {},
   "source": [
    "* Tento graf popisuje Cookovou vzdálenost, která indikuje míru vlivu jednotlivých pozorování na hodnoty odhadů parametrů modelu.\n",
    "* Vyjadřuje také outlaery, které silně ovlivňují hodnoty parametrů modelu (\"silně táhnou přímku směrem k sobě\") a tím mohou výrazně zhoršit model. "
   ]
  },
  {
   "cell_type": "code",
   "execution_count": 16,
   "id": "4512aa30-dc95-44bc-9722-76dfec471049",
   "metadata": {
    "ExecuteTime": {
     "end_time": "2024-04-26T16:19:53.388763Z",
     "start_time": "2024-04-26T16:19:53.298778Z"
    }
   },
   "outputs": [
    {
     "data": {
      "text/plain": [
       "\n",
       "Call:\n",
       "lm(formula = Life ~ Income + I(Income^2) + I(Income^3), data = data)\n",
       "\n",
       "Residuals:\n",
       "     Min       1Q   Median       3Q      Max \n",
       "-18.7401  -0.2751   0.7805   3.1595  12.3480 \n",
       "\n",
       "Coefficients:\n",
       "              Estimate Std. Error t value Pr(>|t|)    \n",
       "(Intercept)  4.344e+01  4.555e+00   9.537 8.28e-10 ***\n",
       "Income       1.545e-02  7.879e-03   1.961   0.0611 .  \n",
       "I(Income^2) -2.864e-06  3.273e-06  -0.875   0.3900    \n",
       "I(Income^3)  1.873e-10  3.729e-10   0.502   0.6199    \n",
       "---\n",
       "Signif. codes:  0 '***' 0.001 '**' 0.01 '*' 0.05 '.' 0.1 ' ' 1\n",
       "\n",
       "Residual standard error: 6.862 on 25 degrees of freedom\n",
       "Multiple R-squared:  0.6584,\tAdjusted R-squared:  0.6174 \n",
       "F-statistic: 16.06 on 3 and 25 DF,  p-value: 5.014e-06\n"
      ]
     },
     "metadata": {},
     "output_type": "display_data"
    }
   ],
   "source": [
    "summary(fit)"
   ]
  },
  {
   "cell_type": "markdown",
   "id": "42c05aa2-2209-4fe6-9a31-c8809f02af51",
   "metadata": {},
   "source": [
    "=====================================================================================\n",
    "1. Odhady regresních koeficientů:\n",
    "    * Intercept ((Intercept)): Odhadovaná hodnota délky života, když příjem na obyvatele = 0, je přibližně 43.44.\n",
    "    * Příjem na obyvatele (Income): Přestože je mírně nad konvenční úrovní významnosti 0,05, p-hodnota pro koeficient příjmu naznačuje mezní úroveň významnosti (p = 0,0611). To znamená, že může existovat slabý vztah mezi příjmem na obyvatele a očekávanou délkou života, i když není dostatečně silný, aby byl konvenčními standardy považován za statisticky významný. Stojí za to další zkoumání, abychom zjistili, zda tento vztah platí v různých kontextech nebo s většími velikostmi vzorků.\n",
    "    * Kvadratický člen příjmu (I(Income^2)): Koeficient kvadratického členu příjmu není statisticky významný (p = 0.39), což naznačuje, že kvadratický vliv příjmu na délku života není podstatný.\n",
    "    * Kubický člen příjmu (I(Income^3)): Koeficient kubického členu příjmu také není statisticky významný (p = 0.62), což naznačuje, že kubický vliv příjmu na délku života není podstatný.\n",
    "\n",
    "2. Kvalita modelu:\n",
    "    * Rozptyl reziduí: Standardní chyba reziduí je přibližně 6.862.\n",
    "    * R-squared a Adjusted R-squared: Model vysvětluje přibližně 65.84% variace v délce života. Adjusted R-squared, který bere v úvahu počet prediktorů, je přibližně 61.74%.\n",
    "    * F-statistic: F-statistika pro celkový model je 16.06 s p-hodnotou 5.014e-06, což naznačuje, že aspoň jeden z regresních koeficientů není nulový.\n",
    "\n",
    "3. Statistická významnost:\n",
    "    * Intercept a příjem na obyvatele jsou statisticky významné na hladině významnosti 0.05.\n",
    "    * Kvadratický a kubický člen příjmu nejsou statisticky významné na hladině významnosti 0.05."
   ]
  },
  {
   "cell_type": "code",
   "execution_count": 17,
   "id": "dfde94b3-a5d7-49b6-8213-31357dfcabd3",
   "metadata": {
    "ExecuteTime": {
     "end_time": "2024-04-26T16:19:53.454727Z",
     "start_time": "2024-04-26T16:19:53.399069Z"
    }
   },
   "outputs": [
    {
     "data": {
      "text/plain": [
       "\n",
       "Call:\n",
       "lm(formula = Life ~ Income + I(Income^2), data = data)\n",
       "\n",
       "Residuals:\n",
       "     Min       1Q   Median       3Q      Max \n",
       "-17.7228  -0.7359   0.6097   3.0079  13.0505 \n",
       "\n",
       "Coefficients:\n",
       "              Estimate Std. Error t value Pr(>|t|)    \n",
       "(Intercept)  4.495e+01  3.357e+00  13.390 3.56e-13 ***\n",
       "Income       1.174e-02  2.722e-03   4.314 0.000206 ***\n",
       "I(Income^2) -1.238e-06  4.817e-07  -2.571 0.016207 *  \n",
       "---\n",
       "Signif. codes:  0 '***' 0.001 '**' 0.01 '*' 0.05 '.' 0.1 ' ' 1\n",
       "\n",
       "Residual standard error: 6.762 on 26 degrees of freedom\n",
       "Multiple R-squared:  0.6549,\tAdjusted R-squared:  0.6284 \n",
       "F-statistic: 24.67 on 2 and 26 DF,  p-value: 9.833e-07\n"
      ]
     },
     "metadata": {},
     "output_type": "display_data"
    }
   ],
   "source": [
    "fit <- lm(Life ~ Income + I(Income^2), data=data)\n",
    "summary(fit)"
   ]
  },
  {
   "cell_type": "markdown",
   "id": "94a3fdb9-e2c7-4112-b8a3-6fd826d197b1",
   "metadata": {},
   "source": [
    "=====================================================================================\n",
    "\n",
    "Po odstranění kubického členu z modelu došlo ke změně výsledků následovně:\n",
    "\n",
    "* Koeficienty: Koeficienty pro Příjem a Příjem^2 zůstaly v modelu. Nicméně koeficient pro Příjem^2 se stal statisticky významným (p = 0.0162), zatímco koeficient pro Příjem zůstal významný (p = 0.0002).\n",
    "\n",
    "* Hodnota R-kvadrátu: Hodnota R-kvadrátu zůstala téměř nezměněna (0.6549 po odstranění kubického členu ve srovnání s 0.6584 před odstraněním).\n",
    "\n",
    "* F-statistika a p-hodnota: Hodnota F-statistiky se zvýšila a související p-hodnota se snížila, což naznačuje, že model je významnější (p-value: 9.833e-07 po odstranění kubického členu ve srovnání s 5.014e-06 před odstraněním).\n",
    "\n",
    "Tím, že jsme se zbavili kubického člena, jsme model trochu vylepšili, ale stále nemohu otočit jazyk, abych tento model nazval v našem případě opravdu dobrým. Chyby předpovědi jsou dostatečně velké, dataset má málo dat a jsou přítomny outliery, takže je třeba ještě zapracovat pro získání lepšího modelu."
   ]
  },
  {
   "cell_type": "markdown",
   "id": "0a4cde86-bb29-4b6e-984b-7806d0ec5884",
   "metadata": {},
   "source": [
    "## Zkoumání kategorického regresoru"
   ]
  },
  {
   "cell_type": "markdown",
   "id": "37dcfc40-f38d-4196-ba76-b88aa8a01074",
   "metadata": {},
   "source": [
    "Vykresleme histogram pro Life dohromady i zvlášť v závislosti na jednotlivých typech zemí.\n",
    "\n",
    "Stejně jak u boxplotu vidíme silnou je propast mezi průmyslově vyspělými zeměmi a zeměmi závislými na ropě."
   ]
  },
  {
   "cell_type": "code",
   "execution_count": 18,
   "id": "841c539a-9021-47a0-bae5-6d784c022170",
   "metadata": {
    "ExecuteTime": {
     "end_time": "2024-04-26T16:19:53.649882Z",
     "start_time": "2024-04-26T16:19:53.467745Z"
    }
   },
   "outputs": [
    {
     "data": {
      "image/png": "[encoded data removed]",
      "text/plain": [
       "Plot with title \"Petroleum country\""
      ]
     },
     "metadata": {
      "image/png": {
       "height": 480,
       "width": 720
      }
     },
     "output_type": "display_data"
    }
   ],
   "source": [
    "par(mfrow=c(1,3)) \n",
    "hist(data$Life,prob=T,xlim=c(30,80),cex.main=1.5)\n",
    "hist(subset(data$Life,data$Type=='Industrialized'),prob=T,col=\"red\",xlim=c(60,80),main='Industrialized country',cex.main=1.5)\n",
    "hist(subset(data$Life,data$Type=='Petroleum'),prob=T,col=\"green\",xlim=c(30,80),main='Petroleum country',cex.main=1.5)"
   ]
  },
  {
   "cell_type": "markdown",
   "id": "b695781f-cb0f-4f33-b7f5-835126fa6cd8",
   "metadata": {},
   "source": [
    "#### Model\n",
    "\n",
    "##### Interpretace regresních koeficientů:\n",
    "* Intercept: když je země typu Industrialized, očekáváme průměrnou délku života 71.47 let.\n",
    "* TypePetroleum: když se změní typ země z Industrialized na Petroleum, očekáváme, že průměrná délka života klesne o 21.49 let."
   ]
  },
  {
   "cell_type": "code",
   "execution_count": 19,
   "id": "4f1721a4-80a7-4288-bd6c-b2244c5e3872",
   "metadata": {
    "ExecuteTime": {
     "end_time": "2024-04-26T16:19:53.694334Z",
     "start_time": "2024-04-26T16:19:53.658051Z"
    }
   },
   "outputs": [
    {
     "data": {
      "text/plain": [
       "\n",
       "Call:\n",
       "lm(formula = Life ~ Type, data = data)\n",
       "\n",
       "Coefficients:\n",
       "  (Intercept)  TypePetroleum  \n",
       "        71.47         -21.49  \n"
      ]
     },
     "metadata": {},
     "output_type": "display_data"
    }
   ],
   "source": [
    "fitCountryType <- lm(Life ~ Type, data=data)\n",
    "fitCountryType"
   ]
  },
  {
   "cell_type": "markdown",
   "id": "45b51003-4e12-495f-aa21-fb0e06f6e326",
   "metadata": {},
   "source": [
    "##### Testy předpokladů\n",
    "\n",
    "Aby fungovaly metody analýzy rozptylu, musíme ověřit:\n",
    "\n",
    " * Normalitu odchylek.\n",
    " * Shodu rozptylů odchylek napříč kategoriemi\n",
    "\n",
    "Na první pohled histogramu odchýlek bych si troufnul řicí, že nejsou normálně rozdělené. Ověříme to Shapiro-Wilkovým testem. p-hodnota < 0.05, normalitu zamítáme.\n",
    "\n",
    "Nesplnění předpokladů normálního rozdělení reziduí může zpochybnit výsledky analýzy rozptylu a může vést k nepřesným závěrům"
   ]
  },
  {
   "cell_type": "code",
   "execution_count": 20,
   "id": "761dad39-2e09-416c-b641-91b13a0bd359",
   "metadata": {
    "ExecuteTime": {
     "end_time": "2024-04-26T16:19:53.841984Z",
     "start_time": "2024-04-26T16:19:53.702146Z"
    }
   },
   "outputs": [
    {
     "data": {
      "image/png": "[encoded data removed]",
      "text/plain": [
       "Plot with title \"Histogram of fitCountryType$resid\""
      ]
     },
     "metadata": {
      "image/png": {
       "height": 480,
       "width": 720
      }
     },
     "output_type": "display_data"
    }
   ],
   "source": [
    "hist(fitCountryType$resid,prob=T)"
   ]
  },
  {
   "cell_type": "code",
   "execution_count": 21,
   "id": "27f91426-9eb0-466f-9ab8-25141a77dff1",
   "metadata": {
    "ExecuteTime": {
     "end_time": "2024-04-26T16:19:53.891345Z",
     "start_time": "2024-04-26T16:19:53.850368Z"
    }
   },
   "outputs": [
    {
     "data": {
      "text/plain": [
       "\n",
       "\tShapiro-Wilk normality test\n",
       "\n",
       "data:  fitCountryType$resid\n",
       "W = 0.78123, p-value = 3.918e-05\n"
      ]
     },
     "metadata": {},
     "output_type": "display_data"
    }
   ],
   "source": [
    "shapiro.test(fitCountryType$resid)"
   ]
  },
  {
   "cell_type": "markdown",
   "id": "5b39449f-ec68-489e-8f39-88a2201a6f7f",
   "metadata": {},
   "source": [
    "#### Robustní model "
   ]
  },
  {
   "cell_type": "markdown",
   "id": "229d0041-6eda-42c9-a217-612049768b33",
   "metadata": {},
   "source": [
    "Pro provedení robustní analýzy rozptylu lmrob() z balíčku robustbase. Tato funkce umožňuje odolnou analýzu lineární regrese, která je méně citlivá na odlehlá pozorování a nesplnění předpokladů o normálním rozdělení reziduí.\n",
    "\n",
    "Interpretace koeficientů je stejná. Hodnota interceptu a TypePetroleum se mírně liší mezi LM a LMRob, ale rozdíl není velký.\n",
    "\n",
    "Ověříme předpoklady zase stejným testem, kde opět zamítáme normalitu."
   ]
  },
  {
   "cell_type": "code",
   "execution_count": 22,
   "id": "564fca9b-0467-4183-9c1d-387dc31c1733",
   "metadata": {
    "ExecuteTime": {
     "end_time": "2024-04-26T16:19:54.140484Z",
     "start_time": "2024-04-26T16:19:53.901428Z"
    }
   },
   "outputs": [
    {
     "name": "stderr",
     "output_type": "stream",
     "text": [
      "Warning message:\n",
      "\"package 'robustbase' was built under R version 4.3.3\"\n"
     ]
    },
    {
     "data": {
      "text/plain": [
       "\n",
       "Call:\n",
       "lmrob(formula = Life ~ Type, data = data)\n",
       " \\--> method = \"MM\"\n",
       "Coefficients:\n",
       "  (Intercept)  TypePetroleum  \n",
       "        71.48         -20.79  \n"
      ]
     },
     "metadata": {},
     "output_type": "display_data"
    }
   ],
   "source": [
    "# install.packages(\"robustbase\")\n",
    "library(robustbase)\n",
    "\n",
    "fitCountryType_robust <- lmrob(Life ~ Type, data = data)\n",
    "fitCountryType_robust"
   ]
  },
  {
   "cell_type": "code",
   "execution_count": 23,
   "id": "fff3df4b-bf4a-4c20-bc96-2e191552d0c1",
   "metadata": {
    "ExecuteTime": {
     "end_time": "2024-04-26T16:19:54.263453Z",
     "start_time": "2024-04-26T16:19:54.149096Z"
    }
   },
   "outputs": [
    {
     "data": {
      "image/png": "[encoded data removed]",
      "text/plain": [
       "Plot with title \"Histogram of fitCountryType_robust$resid\""
      ]
     },
     "metadata": {
      "image/png": {
       "height": 480,
       "width": 720
      }
     },
     "output_type": "display_data"
    }
   ],
   "source": [
    "hist(fitCountryType_robust$resid,prob=T)"
   ]
  },
  {
   "cell_type": "code",
   "execution_count": 24,
   "id": "6c6e06ff-24e3-47cf-bc8d-1d26adaf30e6",
   "metadata": {
    "ExecuteTime": {
     "end_time": "2024-04-26T16:19:54.302174Z",
     "start_time": "2024-04-26T16:19:54.272700Z"
    }
   },
   "outputs": [
    {
     "data": {
      "text/plain": [
       "\n",
       "\tShapiro-Wilk normality test\n",
       "\n",
       "data:  fitCountryType_robust$resid\n",
       "W = 0.78061, p-value = 3.824e-05\n"
      ]
     },
     "metadata": {},
     "output_type": "display_data"
    }
   ],
   "source": [
    "shapiro.test(fitCountryType_robust$resid)"
   ]
  },
  {
   "cell_type": "code",
   "execution_count": 25,
   "id": "f08bedb7-9f17-409f-a8f6-2f070c3a6756",
   "metadata": {
    "ExecuteTime": {
     "end_time": "2024-04-26T16:19:54.340138Z",
     "start_time": "2024-04-26T16:19:54.309111Z"
    }
   },
   "outputs": [
    {
     "data": {
      "text/plain": [
       "\n",
       "Call:\n",
       "lm(formula = Life ~ Type, data = data)\n",
       "\n",
       "Residuals:\n",
       "     Min       1Q   Median       3Q      Max \n",
       "-13.0778  -1.0700   0.0222   1.7300  16.4222 \n",
       "\n",
       "Coefficients:\n",
       "              Estimate Std. Error t value Pr(>|t|)    \n",
       "(Intercept)     71.470      1.035   69.05  < 2e-16 ***\n",
       "TypePetroleum  -21.492      1.858  -11.57 5.71e-12 ***\n",
       "---\n",
       "Signif. codes:  0 '***' 0.001 '**' 0.01 '*' 0.05 '.' 0.1 ' ' 1\n",
       "\n",
       "Residual standard error: 4.629 on 27 degrees of freedom\n",
       "Multiple R-squared:  0.8321,\tAdjusted R-squared:  0.8259 \n",
       "F-statistic: 133.8 on 1 and 27 DF,  p-value: 5.713e-12\n"
      ]
     },
     "metadata": {},
     "output_type": "display_data"
    }
   ],
   "source": [
    "summary(fitCountryType)"
   ]
  },
  {
   "cell_type": "markdown",
   "id": "00f52f39-271d-400e-8164-342556c4340b",
   "metadata": {},
   "source": [
    "=====================================================================================\n",
    "\n",
    "* Koeficient determinace je 0.8321. To znamená, že 83.21% variability vysvětlované proměnné je vysvětleno modelem. Model dobře vysvětluje variabilitu vysvětlované proměnné\n",
    "* Koeficient pro intercept (71.47) je statisticky významný (p < 2 * 10^-16), což naznačuje, že průměrná délka života je statisticky odlišná od nuly pro země typu Industrialized, což je takové logické\n",
    "* Koeficient pro typ země Petroleum (-21.49) je také statisticky významný (p = 5.71 * 10^-12), což naznačuje, že existuje statisticky významný rozdíl ve střední délce života mezi zeměmi typu Industrialized a Petroleum. Danou informaci jsme mohli vidět i na histogramech/boxplotech výše.\n",
    "* Hodnota F-statistiky je 133.8 s p-hodnotou 5.713e-12. Tento výsledek ukazuje, že model je statisticky významný"
   ]
  },
  {
   "cell_type": "code",
   "execution_count": 26,
   "id": "ede6109e-b678-4bea-b5c1-53d7a245b159",
   "metadata": {
    "ExecuteTime": {
     "end_time": "2024-04-26T16:19:54.395814Z",
     "start_time": "2024-04-26T16:19:54.346581Z"
    }
   },
   "outputs": [
    {
     "data": {
      "text/plain": [
       "\n",
       "Call:\n",
       "lmrob(formula = Life ~ Type, data = data)\n",
       " \\--> method = \"MM\"\n",
       "Residuals:\n",
       "     Min       1Q   Median       3Q      Max \n",
       "-13.7950  -1.0804  -0.1803   1.4050  15.7050 \n",
       "\n",
       "Coefficients:\n",
       "              Estimate Std. Error t value Pr(>|t|)    \n",
       "(Intercept)    71.4804     0.3984  179.42   <2e-16 ***\n",
       "TypePetroleum -20.7853     1.1188  -18.58   <2e-16 ***\n",
       "---\n",
       "Signif. codes:  0 '***' 0.001 '**' 0.01 '*' 0.05 '.' 0.1 ' ' 1\n",
       "\n",
       "Robust residual standard error: 2.071 \n",
       "Multiple R-squared:  0.9581,\tAdjusted R-squared:  0.9566 \n",
       "Convergence in 9 IRWLS iterations\n",
       "\n",
       "Robustness weights: \n",
       " 2 observations c(27,29) are outliers with |weight| = 0 ( < 0.0034); \n",
       " 2 weights are ~= 1. The remaining 25 ones are summarized as\n",
       "   Min. 1st Qu.  Median    Mean 3rd Qu.    Max. \n",
       "0.06331 0.88900 0.97060 0.90080 0.98710 0.99690 \n",
       "Algorithmic parameters: \n",
       "       tuning.chi                bb        tuning.psi        refine.tol           rel.tol         scale.tol         solve.tol          zero.tol \n",
       "        1.548e+00         5.000e-01         4.685e+00         1.000e-07         1.000e-07         1.000e-10         1.000e-07         1.000e-10 \n",
       "      eps.outlier             eps.x warn.limit.reject warn.limit.meanrw \n",
       "        3.448e-03         1.819e-12         5.000e-01         5.000e-01 \n",
       "     nResample         max.it       best.r.s       k.fast.s          k.max    maxit.scale      trace.lev            mts     compute.rd fast.s.large.n \n",
       "           500             50              2              1            200            200              0           1000              0           2000 \n",
       "                  psi           subsampling                   cov compute.outlier.stats \n",
       "           \"bisquare\"         \"nonsingular\"         \".vcov.avar1\"                  \"SM\" \n",
       "seed : int(0) "
      ]
     },
     "metadata": {},
     "output_type": "display_data"
    }
   ],
   "source": [
    "summary(fitCountryType_robust)"
   ]
  },
  {
   "cell_type": "markdown",
   "id": "e4e52193-2234-4832-893f-648b69d9279a",
   "metadata": {},
   "source": [
    "=====================================================================================\n",
    "\n",
    "##### Srovnání s předchozím modelem\n",
    "* Robustní model má vyšší R-squared, což naznačuje, že robustní model lépe vysvětluje variabilitu vysvětlované proměnné.\n",
    "* V obou modelech jsou koeficienty statisticky významné a mají podobnou úroveň významnosti.\n",
    "* Robustní model má nižší standardní chybu reziduí, což naznačuje, že je robustnější vůči odlehlým pozorováním, což jsme očekávali od daného modelu\n",
    "* vysoké Adjusted R-squared a F-statistiky, což naznačuje, že jsou oba modely statisticky významné.\n",
    "\n",
    "Celkově lze říci, že robustní model (LMRob) je lepší volbou než běžný lineární model (LM) v tomto konkrétním případě"
   ]
  },
  {
   "cell_type": "markdown",
   "id": "47217bf1-11c9-4c6f-b6a5-9be1114e3583",
   "metadata": {},
   "source": [
    "## Model obsahující oba regresory z předchozích bodů včetně jejich interakce\n",
    "\n",
    "Uvažujme následující model:\n",
    " $$y = \\hat\\beta_0 + \\hat\\beta_1\\cdot TypePetroleum + \\hat\\beta_2 \\cdot Income + \\hat\\beta_3 \\cdot TypePetroleum\\cdot Income$$ \n",
    "\n",
    "##### Interpretace regresních koeficientů:\n",
    "* Intercept: 68.69 let. To znamená, že odhadnutá průměrná délka života pro zemi typu Industrialized při nulové hodnotě příjmů je přibližně 68.69 let\n",
    "* TypePetroleum: rozdíl v průměrné délce života mezi zeměmi typu Petroleum a Industrialized při nulové hodnotě příjmů. To znamená, že průměrná délka života pro zemi typu Petroleum je o 20.76 let nižší než pro zemi typu Industrialized při nulové hodnotě příjmů.\n",
    "* Income: změna v průměrné délce života pro každý jednotkový nárůst příjmu. To znamená, že každý $ příjmu je spojen s nárůstem průměrné délky života o 0.0007673 roku\n",
    "* TypePetroleum:Income: změna příjmu promítá do změny ve vztahu mezi průměrnou délkou života a typem země. V našem případě vliv příjmu na průměrnou délku života se liší mezi zeměmi typu \"Petroleum\" a \"Industrialized\"."
   ]
  },
  {
   "cell_type": "code",
   "execution_count": 27,
   "id": "ad58b47f-f55c-41a4-bf50-a9198b2b9b4b",
   "metadata": {
    "ExecuteTime": {
     "end_time": "2024-04-26T16:19:54.433571Z",
     "start_time": "2024-04-26T16:19:54.402879Z"
    }
   },
   "outputs": [
    {
     "data": {
      "text/plain": [
       "\n",
       "Call:\n",
       "lm(formula = Life ~ Type * Income, data = data)\n",
       "\n",
       "Coefficients:\n",
       "         (Intercept)         TypePetroleum                Income  TypePetroleum:Income  \n",
       "           6.869e+01            -2.076e+01             7.673e-04             1.347e-03  \n"
      ]
     },
     "metadata": {},
     "output_type": "display_data"
    }
   ],
   "source": [
    "fitInteraction <- lm(Life ~ Type * Income, data = data)\n",
    "fitInteraction"
   ]
  },
  {
   "cell_type": "code",
   "execution_count": 28,
   "id": "943375ef-7894-4bf2-b1b4-0eb38af1dd49",
   "metadata": {
    "ExecuteTime": {
     "end_time": "2024-04-26T16:19:54.471355Z",
     "start_time": "2024-04-26T16:19:54.440507Z"
    }
   },
   "outputs": [
    {
     "data": {
      "text/plain": [
       "\n",
       "Call:\n",
       "lm(formula = Life ~ Type * Income, data = data)\n",
       "\n",
       "Residuals:\n",
       "     Min       1Q   Median       3Q      Max \n",
       "-11.4145  -1.3282  -0.3234   1.7116  15.8443 \n",
       "\n",
       "Coefficients:\n",
       "                       Estimate Std. Error t value Pr(>|t|)    \n",
       "(Intercept)           6.869e+01  3.382e+00  20.310  < 2e-16 ***\n",
       "TypePetroleum        -2.076e+01  4.088e+00  -5.078 3.04e-05 ***\n",
       "Income                7.673e-04  8.905e-04   0.862    0.397    \n",
       "TypePetroleum:Income  1.347e-03  1.976e-03   0.682    0.502    \n",
       "---\n",
       "Signif. codes:  0 '***' 0.001 '**' 0.01 '*' 0.05 '.' 0.1 ' ' 1\n",
       "\n",
       "Residual standard error: 4.613 on 25 degrees of freedom\n",
       "Multiple R-squared:  0.8456,\tAdjusted R-squared:  0.827 \n",
       "F-statistic: 45.63 on 3 and 25 DF,  p-value: 2.749e-10\n"
      ]
     },
     "metadata": {},
     "output_type": "display_data"
    }
   ],
   "source": [
    "summary(fitInteraction)"
   ]
  },
  {
   "cell_type": "markdown",
   "id": "80173954-eee2-479f-bf48-5a7afb5fb9d8",
   "metadata": {},
   "source": [
    "=====================================================================================\n",
    "\n",
    "* Intercept je statisticky významný. Průměrná délka života při nulové hodnotě příjmů je statisticky odlišná od nuly.\n",
    "* Koeficient pro typ země Petroleum je také statisticky významný (p < 0.001).\n",
    "* Koeficient Income není statisticky významný (p = 0.397). To naznačuje, že v tomto modelu není dostatečná evidence pro to, že příjem má vliv na průměrnou délku života.\n",
    "* Koeficient interakce TypePetroleum:Income také není statisticky významný (p = 0.502)\n",
    "* R-squared je 0.8456, což naznačuje, že 84.56% variability vysvětlované proměnné je vysvětleno modelovými proměnnými. Robustní model s kategorickým příznakem měl R-squared mnohem vyšší\n",
    "* F-statistika má hodnotu 45.63 s p-hodnotou 2.749e-10, což naznačuje, že celkový model je statisticky významný, alespoň jeden z regresorů je významný ( Intercept a TypePetroleum)\n",
    "\n",
    "### Zobrazení regresní závislosti\n",
    "Ideálně bychom chtěli vidět, že body v scatterplotu jsou rovnoměrně rozptýleny kolem horizontální čáry nulových reziduí a histogram by měl být přibližně normální, což v našem případě se bohužel nestalo."
   ]
  },
  {
   "cell_type": "code",
   "execution_count": 29,
   "id": "4062085c-cde6-491a-8cfc-8883006e38d4",
   "metadata": {
    "ExecuteTime": {
     "end_time": "2024-04-26T16:19:54.676671Z",
     "start_time": "2024-04-26T16:19:54.478054Z"
    }
   },
   "outputs": [
    {
     "data": {
      "image/png": "[encoded data removed]",
      "text/plain": [
       "Plot with title \"Scatterplot reziduí\""
      ]
     },
     "metadata": {
      "image/png": {
       "height": 480,
       "width": 720
      }
     },
     "output_type": "display_data"
    },
    {
     "data": {
      "image/png": "[encoded data removed]",
      "text/plain": [
       "Plot with title \"Histogram reziduí\""
      ]
     },
     "metadata": {
      "image/png": {
       "height": 480,
       "width": 720
      }
     },
     "output_type": "display_data"
    }
   ],
   "source": [
    "plot(fitInteraction$fitted.values, fitInteraction$residuals, \n",
    "     xlab = \"Předpovídané hodnoty\", ylab = \"Rezidua\",\n",
    "     main = \"Scatterplot reziduí\")\n",
    "abline(h = 0, col = \"red\", lty = 2)\n",
    "\n",
    "hist(fitInteraction$residuals, \n",
    "     main = \"Histogram reziduí\",\n",
    "     xlab = \"Rezidua\")"
   ]
  },
  {
   "cell_type": "markdown",
   "id": "cad12f36-09d6-420b-adae-5d2089a4f4ee",
   "metadata": {},
   "source": [
    "Podle mého názoru predikce tohoto modelu se mi nezdá tak špatná. Výjimkou tvoří outliery, kde chyba je mnohem horší. "
   ]
  },
  {
   "cell_type": "code",
   "execution_count": 30,
   "id": "5787ee0b-3598-424b-ba4b-b0f84667a3be",
   "metadata": {
    "ExecuteTime": {
     "end_time": "2024-04-26T16:19:54.764307Z",
     "start_time": "2024-04-26T16:19:54.684701Z"
    }
   },
   "outputs": [
    {
     "name": "stderr",
     "output_type": "stream",
     "text": [
      "Warning message in predict.lm(fitInteraction, interval = \"prediction\"):\n",
      "\"predictions on current data refer to _future_ responses\n",
      "\"\n"
     ]
    },
    {
     "data": {
      "text/html": [
       "<table class=\"dataframe\">\n",
       "<caption>A data.frame: 29 × 6</caption>\n",
       "<thead>\n",
       "\t<tr><th></th><th scope=col>Country</th><th scope=col>Life</th><th scope=col>Income</th><th scope=col>fit</th><th scope=col>lwr</th><th scope=col>upr</th></tr>\n",
       "\t<tr><th></th><th scope=col>&lt;chr&gt;</th><th scope=col>&lt;dbl&gt;</th><th scope=col>&lt;dbl&gt;</th><th scope=col>&lt;dbl&gt;</th><th scope=col>&lt;dbl&gt;</th><th scope=col>&lt;dbl&gt;</th></tr>\n",
       "</thead>\n",
       "<tbody>\n",
       "\t<tr><th scope=row>1</th><td>Australia    </td><td>71.0</td><td>3426</td><td>71.32337</td><td>61.58099</td><td>81.06575</td></tr>\n",
       "\t<tr><th scope=row>2</th><td>Austria      </td><td>70.4</td><td>3350</td><td>71.26506</td><td>61.51667</td><td>81.01345</td></tr>\n",
       "\t<tr><th scope=row>3</th><td>Belgium      </td><td>70.6</td><td>3346</td><td>71.26199</td><td>61.51323</td><td>81.01075</td></tr>\n",
       "\t<tr><th scope=row>4</th><td>Canada       </td><td>72.0</td><td>4751</td><td>72.34001</td><td>62.38430</td><td>82.29572</td></tr>\n",
       "\t<tr><th scope=row>5</th><td>Denmark      </td><td>73.3</td><td>5029</td><td>72.55331</td><td>62.47874</td><td>82.62788</td></tr>\n",
       "\t<tr><th scope=row>6</th><td>Finland      </td><td>69.8</td><td>3312</td><td>71.23591</td><td>61.48376</td><td>80.98805</td></tr>\n",
       "\t<tr><th scope=row>7</th><td>France       </td><td>72.3</td><td>3403</td><td>71.30573</td><td>61.56174</td><td>81.04972</td></tr>\n",
       "\t<tr><th scope=row>8</th><td>West_Germany </td><td>70.3</td><td>5040</td><td>72.56175</td><td>62.48198</td><td>82.64152</td></tr>\n",
       "\t<tr><th scope=row>9</th><td>Ireland      </td><td>70.7</td><td>2009</td><td>70.23615</td><td>60.06314</td><td>80.40916</td></tr>\n",
       "\t<tr><th scope=row>10</th><td>Italy        </td><td>70.6</td><td>2298</td><td>70.45789</td><td>60.42573</td><td>80.49006</td></tr>\n",
       "\t<tr><th scope=row>11</th><td>Japan        </td><td>73.2</td><td>3292</td><td>71.22056</td><td>61.46625</td><td>80.97487</td></tr>\n",
       "\t<tr><th scope=row>12</th><td>Netherlands  </td><td>73.8</td><td>4103</td><td>71.84282</td><td>62.06604</td><td>81.61959</td></tr>\n",
       "\t<tr><th scope=row>13</th><td>NewZealand   </td><td>71.1</td><td>3723</td><td>71.55125</td><td>61.81324</td><td>81.28926</td></tr>\n",
       "\t<tr><th scope=row>14</th><td>Norway       </td><td>73.9</td><td>4102</td><td>71.84205</td><td>62.06544</td><td>81.61866</td></tr>\n",
       "\t<tr><th scope=row>15</th><td>Portugal     </td><td>68.1</td><td> 956</td><td>69.42821</td><td>58.53729</td><td>80.31914</td></tr>\n",
       "\t<tr><th scope=row>16</th><td>South_Africa </td><td>68.2</td><td>3617</td><td>71.46992</td><td>61.73385</td><td>81.20600</td></tr>\n",
       "\t<tr><th scope=row>17</th><td>Sweden       </td><td>74.7</td><td>5596</td><td>72.98835</td><td>62.59777</td><td>83.37894</td></tr>\n",
       "\t<tr><th scope=row>18</th><td>Switzerland  </td><td>72.1</td><td>2963</td><td>70.96813</td><td>61.15842</td><td>80.77783</td></tr>\n",
       "\t<tr><th scope=row>19</th><td>Britain      </td><td>72.0</td><td>2503</td><td>70.61518</td><td>60.66700</td><td>80.56337</td></tr>\n",
       "\t<tr><th scope=row>20</th><td>United_States</td><td>71.3</td><td>5523</td><td>72.93234</td><td>62.58777</td><td>83.27692</td></tr>\n",
       "\t<tr><th scope=row>21</th><td>Algeria      </td><td>50.7</td><td> 430</td><td>48.84307</td><td>38.63966</td><td>59.04649</td></tr>\n",
       "\t<tr><th scope=row>22</th><td>Ecuador      </td><td>52.3</td><td> 360</td><td>48.69507</td><td>38.44002</td><td>58.95012</td></tr>\n",
       "\t<tr><th scope=row>23</th><td>Indonesia    </td><td>47.5</td><td> 110</td><td>48.16648</td><td>37.67865</td><td>58.65432</td></tr>\n",
       "\t<tr><th scope=row>24</th><td>Iran         </td><td>50.0</td><td>1280</td><td>50.64028</td><td>40.56040</td><td>60.72015</td></tr>\n",
       "\t<tr><th scope=row>25</th><td>Iraq         </td><td>51.6</td><td> 560</td><td>49.11794</td><td>38.99416</td><td>59.24172</td></tr>\n",
       "\t<tr><th scope=row>26</th><td>Libya        </td><td>52.1</td><td>3010</td><td>54.29811</td><td>41.83145</td><td>66.76476</td></tr>\n",
       "\t<tr><th scope=row>27</th><td>Nigeria      </td><td>36.9</td><td> 180</td><td>48.31449</td><td>37.89929</td><td>58.72968</td></tr>\n",
       "\t<tr><th scope=row>28</th><td>Saudi_Arabia </td><td>42.3</td><td>1530</td><td>51.16886</td><td>40.94650</td><td>61.39123</td></tr>\n",
       "\t<tr><th scope=row>29</th><td>Venezuela    </td><td>66.4</td><td>1240</td><td>50.55570</td><td>40.49120</td><td>60.62020</td></tr>\n",
       "</tbody>\n",
       "</table>\n"
      ],
      "text/latex": [
       "A data.frame: 29 × 6\n",
       "\\begin{tabular}{r|llllll}\n",
       "  & Country & Life & Income & fit & lwr & upr\\\\\n",
       "  & <chr> & <dbl> & <dbl> & <dbl> & <dbl> & <dbl>\\\\\n",
       "\\hline\n",
       "\t1 & Australia     & 71.0 & 3426 & 71.32337 & 61.58099 & 81.06575\\\\\n",
       "\t2 & Austria       & 70.4 & 3350 & 71.26506 & 61.51667 & 81.01345\\\\\n",
       "\t3 & Belgium       & 70.6 & 3346 & 71.26199 & 61.51323 & 81.01075\\\\\n",
       "\t4 & Canada        & 72.0 & 4751 & 72.34001 & 62.38430 & 82.29572\\\\\n",
       "\t5 & Denmark       & 73.3 & 5029 & 72.55331 & 62.47874 & 82.62788\\\\\n",
       "\t6 & Finland       & 69.8 & 3312 & 71.23591 & 61.48376 & 80.98805\\\\\n",
       "\t7 & France        & 72.3 & 3403 & 71.30573 & 61.56174 & 81.04972\\\\\n",
       "\t8 & West\\_Germany  & 70.3 & 5040 & 72.56175 & 62.48198 & 82.64152\\\\\n",
       "\t9 & Ireland       & 70.7 & 2009 & 70.23615 & 60.06314 & 80.40916\\\\\n",
       "\t10 & Italy         & 70.6 & 2298 & 70.45789 & 60.42573 & 80.49006\\\\\n",
       "\t11 & Japan         & 73.2 & 3292 & 71.22056 & 61.46625 & 80.97487\\\\\n",
       "\t12 & Netherlands   & 73.8 & 4103 & 71.84282 & 62.06604 & 81.61959\\\\\n",
       "\t13 & NewZealand    & 71.1 & 3723 & 71.55125 & 61.81324 & 81.28926\\\\\n",
       "\t14 & Norway        & 73.9 & 4102 & 71.84205 & 62.06544 & 81.61866\\\\\n",
       "\t15 & Portugal      & 68.1 &  956 & 69.42821 & 58.53729 & 80.31914\\\\\n",
       "\t16 & South\\_Africa  & 68.2 & 3617 & 71.46992 & 61.73385 & 81.20600\\\\\n",
       "\t17 & Sweden        & 74.7 & 5596 & 72.98835 & 62.59777 & 83.37894\\\\\n",
       "\t18 & Switzerland   & 72.1 & 2963 & 70.96813 & 61.15842 & 80.77783\\\\\n",
       "\t19 & Britain       & 72.0 & 2503 & 70.61518 & 60.66700 & 80.56337\\\\\n",
       "\t20 & United\\_States & 71.3 & 5523 & 72.93234 & 62.58777 & 83.27692\\\\\n",
       "\t21 & Algeria       & 50.7 &  430 & 48.84307 & 38.63966 & 59.04649\\\\\n",
       "\t22 & Ecuador       & 52.3 &  360 & 48.69507 & 38.44002 & 58.95012\\\\\n",
       "\t23 & Indonesia     & 47.5 &  110 & 48.16648 & 37.67865 & 58.65432\\\\\n",
       "\t24 & Iran          & 50.0 & 1280 & 50.64028 & 40.56040 & 60.72015\\\\\n",
       "\t25 & Iraq          & 51.6 &  560 & 49.11794 & 38.99416 & 59.24172\\\\\n",
       "\t26 & Libya         & 52.1 & 3010 & 54.29811 & 41.83145 & 66.76476\\\\\n",
       "\t27 & Nigeria       & 36.9 &  180 & 48.31449 & 37.89929 & 58.72968\\\\\n",
       "\t28 & Saudi\\_Arabia  & 42.3 & 1530 & 51.16886 & 40.94650 & 61.39123\\\\\n",
       "\t29 & Venezuela     & 66.4 & 1240 & 50.55570 & 40.49120 & 60.62020\\\\\n",
       "\\end{tabular}\n"
      ],
      "text/markdown": [
       "\n",
       "A data.frame: 29 × 6\n",
       "\n",
       "| <!--/--> | Country &lt;chr&gt; | Life &lt;dbl&gt; | Income &lt;dbl&gt; | fit &lt;dbl&gt; | lwr &lt;dbl&gt; | upr &lt;dbl&gt; |\n",
       "|---|---|---|---|---|---|---|\n",
       "| 1 | Australia     | 71.0 | 3426 | 71.32337 | 61.58099 | 81.06575 |\n",
       "| 2 | Austria       | 70.4 | 3350 | 71.26506 | 61.51667 | 81.01345 |\n",
       "| 3 | Belgium       | 70.6 | 3346 | 71.26199 | 61.51323 | 81.01075 |\n",
       "| 4 | Canada        | 72.0 | 4751 | 72.34001 | 62.38430 | 82.29572 |\n",
       "| 5 | Denmark       | 73.3 | 5029 | 72.55331 | 62.47874 | 82.62788 |\n",
       "| 6 | Finland       | 69.8 | 3312 | 71.23591 | 61.48376 | 80.98805 |\n",
       "| 7 | France        | 72.3 | 3403 | 71.30573 | 61.56174 | 81.04972 |\n",
       "| 8 | West_Germany  | 70.3 | 5040 | 72.56175 | 62.48198 | 82.64152 |\n",
       "| 9 | Ireland       | 70.7 | 2009 | 70.23615 | 60.06314 | 80.40916 |\n",
       "| 10 | Italy         | 70.6 | 2298 | 70.45789 | 60.42573 | 80.49006 |\n",
       "| 11 | Japan         | 73.2 | 3292 | 71.22056 | 61.46625 | 80.97487 |\n",
       "| 12 | Netherlands   | 73.8 | 4103 | 71.84282 | 62.06604 | 81.61959 |\n",
       "| 13 | NewZealand    | 71.1 | 3723 | 71.55125 | 61.81324 | 81.28926 |\n",
       "| 14 | Norway        | 73.9 | 4102 | 71.84205 | 62.06544 | 81.61866 |\n",
       "| 15 | Portugal      | 68.1 |  956 | 69.42821 | 58.53729 | 80.31914 |\n",
       "| 16 | South_Africa  | 68.2 | 3617 | 71.46992 | 61.73385 | 81.20600 |\n",
       "| 17 | Sweden        | 74.7 | 5596 | 72.98835 | 62.59777 | 83.37894 |\n",
       "| 18 | Switzerland   | 72.1 | 2963 | 70.96813 | 61.15842 | 80.77783 |\n",
       "| 19 | Britain       | 72.0 | 2503 | 70.61518 | 60.66700 | 80.56337 |\n",
       "| 20 | United_States | 71.3 | 5523 | 72.93234 | 62.58777 | 83.27692 |\n",
       "| 21 | Algeria       | 50.7 |  430 | 48.84307 | 38.63966 | 59.04649 |\n",
       "| 22 | Ecuador       | 52.3 |  360 | 48.69507 | 38.44002 | 58.95012 |\n",
       "| 23 | Indonesia     | 47.5 |  110 | 48.16648 | 37.67865 | 58.65432 |\n",
       "| 24 | Iran          | 50.0 | 1280 | 50.64028 | 40.56040 | 60.72015 |\n",
       "| 25 | Iraq          | 51.6 |  560 | 49.11794 | 38.99416 | 59.24172 |\n",
       "| 26 | Libya         | 52.1 | 3010 | 54.29811 | 41.83145 | 66.76476 |\n",
       "| 27 | Nigeria       | 36.9 |  180 | 48.31449 | 37.89929 | 58.72968 |\n",
       "| 28 | Saudi_Arabia  | 42.3 | 1530 | 51.16886 | 40.94650 | 61.39123 |\n",
       "| 29 | Venezuela     | 66.4 | 1240 | 50.55570 | 40.49120 | 60.62020 |\n",
       "\n"
      ],
      "text/plain": [
       "   Country       Life Income fit      lwr      upr     \n",
       "1  Australia     71.0 3426   71.32337 61.58099 81.06575\n",
       "2  Austria       70.4 3350   71.26506 61.51667 81.01345\n",
       "3  Belgium       70.6 3346   71.26199 61.51323 81.01075\n",
       "4  Canada        72.0 4751   72.34001 62.38430 82.29572\n",
       "5  Denmark       73.3 5029   72.55331 62.47874 82.62788\n",
       "6  Finland       69.8 3312   71.23591 61.48376 80.98805\n",
       "7  France        72.3 3403   71.30573 61.56174 81.04972\n",
       "8  West_Germany  70.3 5040   72.56175 62.48198 82.64152\n",
       "9  Ireland       70.7 2009   70.23615 60.06314 80.40916\n",
       "10 Italy         70.6 2298   70.45789 60.42573 80.49006\n",
       "11 Japan         73.2 3292   71.22056 61.46625 80.97487\n",
       "12 Netherlands   73.8 4103   71.84282 62.06604 81.61959\n",
       "13 NewZealand    71.1 3723   71.55125 61.81324 81.28926\n",
       "14 Norway        73.9 4102   71.84205 62.06544 81.61866\n",
       "15 Portugal      68.1  956   69.42821 58.53729 80.31914\n",
       "16 South_Africa  68.2 3617   71.46992 61.73385 81.20600\n",
       "17 Sweden        74.7 5596   72.98835 62.59777 83.37894\n",
       "18 Switzerland   72.1 2963   70.96813 61.15842 80.77783\n",
       "19 Britain       72.0 2503   70.61518 60.66700 80.56337\n",
       "20 United_States 71.3 5523   72.93234 62.58777 83.27692\n",
       "21 Algeria       50.7  430   48.84307 38.63966 59.04649\n",
       "22 Ecuador       52.3  360   48.69507 38.44002 58.95012\n",
       "23 Indonesia     47.5  110   48.16648 37.67865 58.65432\n",
       "24 Iran          50.0 1280   50.64028 40.56040 60.72015\n",
       "25 Iraq          51.6  560   49.11794 38.99416 59.24172\n",
       "26 Libya         52.1 3010   54.29811 41.83145 66.76476\n",
       "27 Nigeria       36.9  180   48.31449 37.89929 58.72968\n",
       "28 Saudi_Arabia  42.3 1530   51.16886 40.94650 61.39123\n",
       "29 Venezuela     66.4 1240   50.55570 40.49120 60.62020"
      ]
     },
     "metadata": {},
     "output_type": "display_data"
    }
   ],
   "source": [
    "tmp <- predict(fitInteraction, interval=\"prediction\")\n",
    "predict <- cbind(data, tmp)\n",
    "predict$Type = NULL\n",
    "predict"
   ]
  },
  {
   "cell_type": "code",
   "execution_count": 31,
   "id": "409677e5-85fe-49cb-b681-bd93d36c0542",
   "metadata": {
    "ExecuteTime": {
     "end_time": "2024-04-26T16:19:55.129599Z",
     "start_time": "2024-04-26T16:19:54.770922Z"
    }
   },
   "outputs": [
    {
     "data": {
      "image/png": "[encoded data removed]",
      "text/plain": [
       "plot without title"
      ]
     },
     "metadata": {
      "image/png": {
       "height": 480,
       "width": 720
      }
     },
     "output_type": "display_data"
    }
   ],
   "source": [
    "# Calculate distances from each point to the regression line\n",
    "predict <- predict %>%\n",
    "  mutate(residual = Life - fit)\n",
    "\n",
    "# Sort points by decreasing distance\n",
    "predict <- predict %>%\n",
    "  arrange(desc(abs(residual)))\n",
    "\n",
    "# Select top 3 outliers with largest distances\n",
    "top_3_outliers <- head(predict, 3)\n",
    "\n",
    "# Create the plot with points and model lines\n",
    "ggplot(predict, aes(x = Income, y = Life)) +\n",
    "  geom_point() +\n",
    "  geom_line(aes(y = fit), color = \"blue\") +\n",
    "  geom_line(aes(y = lwr), color = \"red\", linetype = \"dashed\") +\n",
    "  geom_line(aes(y = upr), color = \"red\", linetype = \"dashed\") +\n",
    "  # Add labels to the selected points\n",
    "  geom_text(data = top_3_outliers, aes(label = Country), hjust = -0.2, vjust = -0.5, size = 3, color = \"black\") +\n",
    "  labs(title = \"Regression with Outliers\", x = \"Income\", y = \"Life\")"
   ]
  },
  {
   "cell_type": "markdown",
   "id": "47eb9fd8-aa74-450e-a333-ca6ff5014e39",
   "metadata": {},
   "source": [
    "## Model s předchozími dvěma regresory a jedním dalším ze zkoumaného datového souboru."
   ]
  },
  {
   "cell_type": "markdown",
   "id": "6fad5968-229c-491a-b686-3a07b8c78d16",
   "metadata": {},
   "source": [
    "Po zkoumání dvou regresorů kolegy vidím, že zbývá mi jen sloupec Country. Ale nemůžu ho přímo použít, protože je unikátní pro každý řádek datasetu. Proto musím udělat nějaké manipulace s ním pro vytvoření vhodné proměnné. Já jsem rozhodl udělat nový sloupec In_Europe, kde 1 - země se nachází v Evropě, 0 - země se nenachází v Evropě."
   ]
  },
  {
   "cell_type": "code",
   "execution_count": 32,
   "id": "789ef413-15b6-445f-a718-59e822ef795e",
   "metadata": {
    "ExecuteTime": {
     "end_time": "2024-04-26T16:19:55.172899Z",
     "start_time": "2024-04-26T16:19:55.136157Z"
    }
   },
   "outputs": [],
   "source": [
    "europe_vector <- data$Country %in% c(\"Austria\", \"Belgium\", \"Denmark\", \"Finland\", \"France\", \n",
    "                                     \"West_Germany\", \"Ireland\", \"Italy\", \"Netherlands\", \"Norway\", \n",
    "                                     \"Portugal\", \"Sweden\", \"Switzerland\", \"Britain\")\n",
    "data <- mutate(data, In_Europe = ifelse(europe_vector, 1, 0))"
   ]
  },
  {
   "cell_type": "code",
   "execution_count": 33,
   "id": "714666d1-c598-498c-a5e2-cdc2a0c6acf0",
   "metadata": {
    "ExecuteTime": {
     "end_time": "2024-04-26T16:19:55.273313Z",
     "start_time": "2024-04-26T16:19:55.181189Z"
    }
   },
   "outputs": [
    {
     "data": {
      "text/html": [
       "<table class=\"dataframe\">\n",
       "<caption>A data.frame: 29 × 5</caption>\n",
       "<thead>\n",
       "\t<tr><th></th><th scope=col>Country</th><th scope=col>Life</th><th scope=col>Income</th><th scope=col>Type</th><th scope=col>In_Europe</th></tr>\n",
       "\t<tr><th></th><th scope=col>&lt;chr&gt;</th><th scope=col>&lt;dbl&gt;</th><th scope=col>&lt;dbl&gt;</th><th scope=col>&lt;fct&gt;</th><th scope=col>&lt;dbl&gt;</th></tr>\n",
       "</thead>\n",
       "<tbody>\n",
       "\t<tr><th scope=row>1</th><td>Australia    </td><td>71.0</td><td>3426</td><td>Industrialized</td><td>0</td></tr>\n",
       "\t<tr><th scope=row>2</th><td>Austria      </td><td>70.4</td><td>3350</td><td>Industrialized</td><td>1</td></tr>\n",
       "\t<tr><th scope=row>3</th><td>Belgium      </td><td>70.6</td><td>3346</td><td>Industrialized</td><td>1</td></tr>\n",
       "\t<tr><th scope=row>4</th><td>Canada       </td><td>72.0</td><td>4751</td><td>Industrialized</td><td>0</td></tr>\n",
       "\t<tr><th scope=row>5</th><td>Denmark      </td><td>73.3</td><td>5029</td><td>Industrialized</td><td>1</td></tr>\n",
       "\t<tr><th scope=row>6</th><td>Finland      </td><td>69.8</td><td>3312</td><td>Industrialized</td><td>1</td></tr>\n",
       "\t<tr><th scope=row>7</th><td>France       </td><td>72.3</td><td>3403</td><td>Industrialized</td><td>1</td></tr>\n",
       "\t<tr><th scope=row>8</th><td>West_Germany </td><td>70.3</td><td>5040</td><td>Industrialized</td><td>1</td></tr>\n",
       "\t<tr><th scope=row>9</th><td>Ireland      </td><td>70.7</td><td>2009</td><td>Industrialized</td><td>1</td></tr>\n",
       "\t<tr><th scope=row>10</th><td>Italy        </td><td>70.6</td><td>2298</td><td>Industrialized</td><td>1</td></tr>\n",
       "\t<tr><th scope=row>11</th><td>Japan        </td><td>73.2</td><td>3292</td><td>Industrialized</td><td>0</td></tr>\n",
       "\t<tr><th scope=row>12</th><td>Netherlands  </td><td>73.8</td><td>4103</td><td>Industrialized</td><td>1</td></tr>\n",
       "\t<tr><th scope=row>13</th><td>NewZealand   </td><td>71.1</td><td>3723</td><td>Industrialized</td><td>0</td></tr>\n",
       "\t<tr><th scope=row>14</th><td>Norway       </td><td>73.9</td><td>4102</td><td>Industrialized</td><td>1</td></tr>\n",
       "\t<tr><th scope=row>15</th><td>Portugal     </td><td>68.1</td><td> 956</td><td>Industrialized</td><td>1</td></tr>\n",
       "\t<tr><th scope=row>16</th><td>South_Africa </td><td>68.2</td><td>3617</td><td>Industrialized</td><td>0</td></tr>\n",
       "\t<tr><th scope=row>17</th><td>Sweden       </td><td>74.7</td><td>5596</td><td>Industrialized</td><td>1</td></tr>\n",
       "\t<tr><th scope=row>18</th><td>Switzerland  </td><td>72.1</td><td>2963</td><td>Industrialized</td><td>1</td></tr>\n",
       "\t<tr><th scope=row>19</th><td>Britain      </td><td>72.0</td><td>2503</td><td>Industrialized</td><td>1</td></tr>\n",
       "\t<tr><th scope=row>20</th><td>United_States</td><td>71.3</td><td>5523</td><td>Industrialized</td><td>0</td></tr>\n",
       "\t<tr><th scope=row>21</th><td>Algeria      </td><td>50.7</td><td> 430</td><td>Petroleum     </td><td>0</td></tr>\n",
       "\t<tr><th scope=row>22</th><td>Ecuador      </td><td>52.3</td><td> 360</td><td>Petroleum     </td><td>0</td></tr>\n",
       "\t<tr><th scope=row>23</th><td>Indonesia    </td><td>47.5</td><td> 110</td><td>Petroleum     </td><td>0</td></tr>\n",
       "\t<tr><th scope=row>24</th><td>Iran         </td><td>50.0</td><td>1280</td><td>Petroleum     </td><td>0</td></tr>\n",
       "\t<tr><th scope=row>25</th><td>Iraq         </td><td>51.6</td><td> 560</td><td>Petroleum     </td><td>0</td></tr>\n",
       "\t<tr><th scope=row>26</th><td>Libya        </td><td>52.1</td><td>3010</td><td>Petroleum     </td><td>0</td></tr>\n",
       "\t<tr><th scope=row>27</th><td>Nigeria      </td><td>36.9</td><td> 180</td><td>Petroleum     </td><td>0</td></tr>\n",
       "\t<tr><th scope=row>28</th><td>Saudi_Arabia </td><td>42.3</td><td>1530</td><td>Petroleum     </td><td>0</td></tr>\n",
       "\t<tr><th scope=row>29</th><td>Venezuela    </td><td>66.4</td><td>1240</td><td>Petroleum     </td><td>0</td></tr>\n",
       "</tbody>\n",
       "</table>\n"
      ],
      "text/latex": [
       "A data.frame: 29 × 5\n",
       "\\begin{tabular}{r|lllll}\n",
       "  & Country & Life & Income & Type & In\\_Europe\\\\\n",
       "  & <chr> & <dbl> & <dbl> & <fct> & <dbl>\\\\\n",
       "\\hline\n",
       "\t1 & Australia     & 71.0 & 3426 & Industrialized & 0\\\\\n",
       "\t2 & Austria       & 70.4 & 3350 & Industrialized & 1\\\\\n",
       "\t3 & Belgium       & 70.6 & 3346 & Industrialized & 1\\\\\n",
       "\t4 & Canada        & 72.0 & 4751 & Industrialized & 0\\\\\n",
       "\t5 & Denmark       & 73.3 & 5029 & Industrialized & 1\\\\\n",
       "\t6 & Finland       & 69.8 & 3312 & Industrialized & 1\\\\\n",
       "\t7 & France        & 72.3 & 3403 & Industrialized & 1\\\\\n",
       "\t8 & West\\_Germany  & 70.3 & 5040 & Industrialized & 1\\\\\n",
       "\t9 & Ireland       & 70.7 & 2009 & Industrialized & 1\\\\\n",
       "\t10 & Italy         & 70.6 & 2298 & Industrialized & 1\\\\\n",
       "\t11 & Japan         & 73.2 & 3292 & Industrialized & 0\\\\\n",
       "\t12 & Netherlands   & 73.8 & 4103 & Industrialized & 1\\\\\n",
       "\t13 & NewZealand    & 71.1 & 3723 & Industrialized & 0\\\\\n",
       "\t14 & Norway        & 73.9 & 4102 & Industrialized & 1\\\\\n",
       "\t15 & Portugal      & 68.1 &  956 & Industrialized & 1\\\\\n",
       "\t16 & South\\_Africa  & 68.2 & 3617 & Industrialized & 0\\\\\n",
       "\t17 & Sweden        & 74.7 & 5596 & Industrialized & 1\\\\\n",
       "\t18 & Switzerland   & 72.1 & 2963 & Industrialized & 1\\\\\n",
       "\t19 & Britain       & 72.0 & 2503 & Industrialized & 1\\\\\n",
       "\t20 & United\\_States & 71.3 & 5523 & Industrialized & 0\\\\\n",
       "\t21 & Algeria       & 50.7 &  430 & Petroleum      & 0\\\\\n",
       "\t22 & Ecuador       & 52.3 &  360 & Petroleum      & 0\\\\\n",
       "\t23 & Indonesia     & 47.5 &  110 & Petroleum      & 0\\\\\n",
       "\t24 & Iran          & 50.0 & 1280 & Petroleum      & 0\\\\\n",
       "\t25 & Iraq          & 51.6 &  560 & Petroleum      & 0\\\\\n",
       "\t26 & Libya         & 52.1 & 3010 & Petroleum      & 0\\\\\n",
       "\t27 & Nigeria       & 36.9 &  180 & Petroleum      & 0\\\\\n",
       "\t28 & Saudi\\_Arabia  & 42.3 & 1530 & Petroleum      & 0\\\\\n",
       "\t29 & Venezuela     & 66.4 & 1240 & Petroleum      & 0\\\\\n",
       "\\end{tabular}\n"
      ],
      "text/markdown": [
       "\n",
       "A data.frame: 29 × 5\n",
       "\n",
       "| <!--/--> | Country &lt;chr&gt; | Life &lt;dbl&gt; | Income &lt;dbl&gt; | Type &lt;fct&gt; | In_Europe &lt;dbl&gt; |\n",
       "|---|---|---|---|---|---|\n",
       "| 1 | Australia     | 71.0 | 3426 | Industrialized | 0 |\n",
       "| 2 | Austria       | 70.4 | 3350 | Industrialized | 1 |\n",
       "| 3 | Belgium       | 70.6 | 3346 | Industrialized | 1 |\n",
       "| 4 | Canada        | 72.0 | 4751 | Industrialized | 0 |\n",
       "| 5 | Denmark       | 73.3 | 5029 | Industrialized | 1 |\n",
       "| 6 | Finland       | 69.8 | 3312 | Industrialized | 1 |\n",
       "| 7 | France        | 72.3 | 3403 | Industrialized | 1 |\n",
       "| 8 | West_Germany  | 70.3 | 5040 | Industrialized | 1 |\n",
       "| 9 | Ireland       | 70.7 | 2009 | Industrialized | 1 |\n",
       "| 10 | Italy         | 70.6 | 2298 | Industrialized | 1 |\n",
       "| 11 | Japan         | 73.2 | 3292 | Industrialized | 0 |\n",
       "| 12 | Netherlands   | 73.8 | 4103 | Industrialized | 1 |\n",
       "| 13 | NewZealand    | 71.1 | 3723 | Industrialized | 0 |\n",
       "| 14 | Norway        | 73.9 | 4102 | Industrialized | 1 |\n",
       "| 15 | Portugal      | 68.1 |  956 | Industrialized | 1 |\n",
       "| 16 | South_Africa  | 68.2 | 3617 | Industrialized | 0 |\n",
       "| 17 | Sweden        | 74.7 | 5596 | Industrialized | 1 |\n",
       "| 18 | Switzerland   | 72.1 | 2963 | Industrialized | 1 |\n",
       "| 19 | Britain       | 72.0 | 2503 | Industrialized | 1 |\n",
       "| 20 | United_States | 71.3 | 5523 | Industrialized | 0 |\n",
       "| 21 | Algeria       | 50.7 |  430 | Petroleum      | 0 |\n",
       "| 22 | Ecuador       | 52.3 |  360 | Petroleum      | 0 |\n",
       "| 23 | Indonesia     | 47.5 |  110 | Petroleum      | 0 |\n",
       "| 24 | Iran          | 50.0 | 1280 | Petroleum      | 0 |\n",
       "| 25 | Iraq          | 51.6 |  560 | Petroleum      | 0 |\n",
       "| 26 | Libya         | 52.1 | 3010 | Petroleum      | 0 |\n",
       "| 27 | Nigeria       | 36.9 |  180 | Petroleum      | 0 |\n",
       "| 28 | Saudi_Arabia  | 42.3 | 1530 | Petroleum      | 0 |\n",
       "| 29 | Venezuela     | 66.4 | 1240 | Petroleum      | 0 |\n",
       "\n"
      ],
      "text/plain": [
       "   Country       Life Income Type           In_Europe\n",
       "1  Australia     71.0 3426   Industrialized 0        \n",
       "2  Austria       70.4 3350   Industrialized 1        \n",
       "3  Belgium       70.6 3346   Industrialized 1        \n",
       "4  Canada        72.0 4751   Industrialized 0        \n",
       "5  Denmark       73.3 5029   Industrialized 1        \n",
       "6  Finland       69.8 3312   Industrialized 1        \n",
       "7  France        72.3 3403   Industrialized 1        \n",
       "8  West_Germany  70.3 5040   Industrialized 1        \n",
       "9  Ireland       70.7 2009   Industrialized 1        \n",
       "10 Italy         70.6 2298   Industrialized 1        \n",
       "11 Japan         73.2 3292   Industrialized 0        \n",
       "12 Netherlands   73.8 4103   Industrialized 1        \n",
       "13 NewZealand    71.1 3723   Industrialized 0        \n",
       "14 Norway        73.9 4102   Industrialized 1        \n",
       "15 Portugal      68.1  956   Industrialized 1        \n",
       "16 South_Africa  68.2 3617   Industrialized 0        \n",
       "17 Sweden        74.7 5596   Industrialized 1        \n",
       "18 Switzerland   72.1 2963   Industrialized 1        \n",
       "19 Britain       72.0 2503   Industrialized 1        \n",
       "20 United_States 71.3 5523   Industrialized 0        \n",
       "21 Algeria       50.7  430   Petroleum      0        \n",
       "22 Ecuador       52.3  360   Petroleum      0        \n",
       "23 Indonesia     47.5  110   Petroleum      0        \n",
       "24 Iran          50.0 1280   Petroleum      0        \n",
       "25 Iraq          51.6  560   Petroleum      0        \n",
       "26 Libya         52.1 3010   Petroleum      0        \n",
       "27 Nigeria       36.9  180   Petroleum      0        \n",
       "28 Saudi_Arabia  42.3 1530   Petroleum      0        \n",
       "29 Venezuela     66.4 1240   Petroleum      0        "
      ]
     },
     "metadata": {},
     "output_type": "display_data"
    }
   ],
   "source": [
    "data"
   ]
  },
  {
   "cell_type": "markdown",
   "id": "f12195a2-0378-4362-af1b-b277b83daf60",
   "metadata": {},
   "source": [
    "Ted začnu zkoumat, jaké regrsory jsou signifikántní pro regresní model."
   ]
  },
  {
   "cell_type": "markdown",
   "id": "82a63720-3626-4be5-9355-f3f57ba75137",
   "metadata": {},
   "source": [
    "Nejprve, udělám model, který bude obsahovat všechny regrsory bez interakcí:\n",
    "\n",
    "\n",
    "$$\\text{Life}_i=\\beta_0+\\text{Income}_i\\cdot\\beta_\\text{Income}+ \\text{Type}_i\\cdot\\beta_\\text{Type}+\\text{InEurope}_i\\cdot\\beta_\\text{InEurope}+\\epsilon_i$$"
   ]
  },
  {
   "cell_type": "code",
   "execution_count": 34,
   "id": "8cb76e97-d246-4c6b-a0f0-733802fcaa03",
   "metadata": {
    "ExecuteTime": {
     "end_time": "2024-04-26T16:19:55.325331Z",
     "start_time": "2024-04-26T16:19:55.281873Z"
    }
   },
   "outputs": [
    {
     "data": {
      "text/plain": [
       "\n",
       "Call:\n",
       "lm(formula = Life ~ Income + Type + In_Europe, data = data)\n",
       "\n",
       "Residuals:\n",
       "     Min       1Q   Median       3Q      Max \n",
       "-12.1858  -1.1244   0.2684   1.3307  16.1123 \n",
       "\n",
       "Coefficients:\n",
       "                Estimate Std. Error t value Pr(>|t|)    \n",
       "(Intercept)    6.654e+01  3.820e+00  17.419 1.71e-15 ***\n",
       "Income         1.134e-03  8.184e-04   1.385    0.178    \n",
       "TypePetroleum -1.765e+01  3.514e+00  -5.024 3.50e-05 ***\n",
       "In_Europe      1.191e+00  2.317e+00   0.514    0.612    \n",
       "---\n",
       "Signif. codes:  0 '***' 0.001 '**' 0.01 '*' 0.05 '.' 0.1 ' ' 1\n",
       "\n",
       "Residual standard error: 4.632 on 25 degrees of freedom\n",
       "Multiple R-squared:  0.8443,\tAdjusted R-squared:  0.8257 \n",
       "F-statistic:  45.2 on 3 and 25 DF,  p-value: 3.032e-10\n"
      ]
     },
     "metadata": {},
     "output_type": "display_data"
    }
   ],
   "source": [
    "fit_all <- lm(Life ~ Income + Type + In_Europe, data = data)\n",
    "summary(fit_all)"
   ]
  },
  {
   "cell_type": "markdown",
   "id": "83130302-46b7-4003-86ff-d2575ba8515c",
   "metadata": {},
   "source": [
    "Vidím, že kromě absolutního členu a regresoru TypePetroleum jsou všechny ostatní regresory nevýznamné.\n",
    "\n",
    "Nevýznamnost musím interpretovat z hlediska každého z regresorů zvlášť - když ho z původního modelu vynechám, nic významného se nestane.\n",
    "Nevím, co se stane, kdybych vynechal všechny nevýznamné regresory dohromady. Proto musím porovnat původní model obsahující všechny regresory s modely obshaujícími nějaké interakce mezi regresory a s podmodely s vynechanými regresory."
   ]
  },
  {
   "cell_type": "markdown",
   "id": "618afe58-57f7-4b90-8295-1070a0ff3d95",
   "metadata": {},
   "source": [
    "Především, ověrme zda tady jednotlivé regresory modelu jsou závislé na všech ostatních. Udělám to pomocí faktoru zvětšení rozptylu VIF:"
   ]
  },
  {
   "cell_type": "code",
   "execution_count": 35,
   "id": "12e186bf-8e0c-43ae-8a3e-51bea8b479b9",
   "metadata": {
    "ExecuteTime": {
     "end_time": "2024-04-26T16:19:55.380640Z",
     "start_time": "2024-04-26T16:19:55.333357Z"
    }
   },
   "outputs": [
    {
     "data": {
      "text/html": [
       "<style>\n",
       ".dl-inline {width: auto; margin:0; padding: 0}\n",
       ".dl-inline>dt, .dl-inline>dd {float: none; width: auto; display: inline-block}\n",
       ".dl-inline>dt::after {content: \":\\0020\"; padding-right: .5ex}\n",
       ".dl-inline>dt:not(:first-of-type) {padding-left: .5ex}\n",
       "</style><dl class=dl-inline><dt>Income</dt><dd>2.413</dd><dt>Type</dt><dd>3.573</dd><dt>In_Europe</dt><dd>1.813</dd></dl>\n"
      ],
      "text/latex": [
       "\\begin{description*}\n",
       "\\item[Income] 2.413\n",
       "\\item[Type] 3.573\n",
       "\\item[In\\textbackslash{}\\_Europe] 1.813\n",
       "\\end{description*}\n"
      ],
      "text/markdown": [
       "Income\n",
       ":   2.413Type\n",
       ":   3.573In_Europe\n",
       ":   1.813\n",
       "\n"
      ],
      "text/plain": [
       "   Income      Type In_Europe \n",
       "    2.413     3.573     1.813 "
      ]
     },
     "metadata": {},
     "output_type": "display_data"
    }
   ],
   "source": [
    "library(car)\n",
    "round(vif(fit_all),3)"
   ]
  },
  {
   "cell_type": "markdown",
   "id": "1a1681a7-3e36-497c-ae22-83f0f50fa743",
   "metadata": {},
   "source": [
    "Vidím, že všechny regresory má VIF menší než 5, proto můžeme je nechat."
   ]
  },
  {
   "cell_type": "markdown",
   "id": "d6a6b8a9-14da-45c7-ac8d-36ed9cca828b",
   "metadata": {},
   "source": [
    "Zkusím v širším modelu fit_all přidat i interakce mezi všechny regresory a otestovat, jestli přináší významné zlepšení predikce."
   ]
  },
  {
   "cell_type": "code",
   "execution_count": 36,
   "id": "9e32f5de-552b-41ef-ad70-070896f733f0",
   "metadata": {
    "ExecuteTime": {
     "end_time": "2024-04-26T16:19:55.461102Z",
     "start_time": "2024-04-26T16:19:55.388339Z"
    }
   },
   "outputs": [
    {
     "data": {
      "text/plain": [
       "\n",
       "Call:\n",
       "lm(formula = Life ~ Income * Type * In_Europe, data = data)\n",
       "\n",
       "Residuals:\n",
       "    Min      1Q  Median      3Q     Max \n",
       "-11.415  -1.049   0.091   1.309  15.844 \n",
       "\n",
       "Coefficients: (2 not defined because of singularities)\n",
       "                                 Estimate Std. Error t value Pr(>|t|)    \n",
       "(Intercept)                     7.046e+01  9.985e+00   7.056 3.44e-07 ***\n",
       "Income                          1.660e-04  2.415e-03   0.069   0.9458    \n",
       "TypePetroleum                  -2.253e+01  1.027e+01  -2.194   0.0386 *  \n",
       "In_Europe                      -2.264e+00  1.068e+01  -0.212   0.8339    \n",
       "Income:TypePetroleum            1.948e-03  3.029e-03   0.643   0.5264    \n",
       "Income:In_Europe                8.308e-04  2.628e-03   0.316   0.7547    \n",
       "TypePetroleum:In_Europe                NA         NA      NA       NA    \n",
       "Income:TypePetroleum:In_Europe         NA         NA      NA       NA    \n",
       "---\n",
       "Signif. codes:  0 '***' 0.001 '**' 0.01 '*' 0.05 '.' 0.1 ' ' 1\n",
       "\n",
       "Residual standard error: 4.781 on 23 degrees of freedom\n",
       "Multiple R-squared:  0.8474,\tAdjusted R-squared:  0.8143 \n",
       "F-statistic: 25.55 on 5 and 23 DF,  p-value: 1.111e-08\n"
      ]
     },
     "metadata": {},
     "output_type": "display_data"
    },
    {
     "data": {
      "text/html": [
       "0.844346209834878"
      ],
      "text/latex": [
       "0.844346209834878"
      ],
      "text/markdown": [
       "0.844346209834878"
      ],
      "text/plain": [
       "[1] 0.8443462"
      ]
     },
     "metadata": {},
     "output_type": "display_data"
    },
    {
     "data": {
      "text/html": [
       "0.825667755015063"
      ],
      "text/latex": [
       "0.825667755015063"
      ],
      "text/markdown": [
       "0.825667755015063"
      ],
      "text/plain": [
       "[1] 0.8256678"
      ]
     },
     "metadata": {},
     "output_type": "display_data"
    },
    {
     "data": {
      "text/html": [
       "0.847435931278835"
      ],
      "text/latex": [
       "0.847435931278835"
      ],
      "text/markdown": [
       "0.847435931278835"
      ],
      "text/plain": [
       "[1] 0.8474359"
      ]
     },
     "metadata": {},
     "output_type": "display_data"
    },
    {
     "data": {
      "text/html": [
       "0.81426982938293"
      ],
      "text/latex": [
       "0.81426982938293"
      ],
      "text/markdown": [
       "0.81426982938293"
      ],
      "text/plain": [
       "[1] 0.8142698"
      ]
     },
     "metadata": {},
     "output_type": "display_data"
    }
   ],
   "source": [
    "fit_int=lm(Life ~ Income * Type * In_Europe, data=data)\n",
    "summary(fit_int)\n",
    "\n",
    "summary(fit_all)$r.squared\n",
    "summary(fit_all)$adj.r.squared\n",
    "\n",
    "summary(fit_int)$r.squared\n",
    "summary(fit_int)$adj.r.squared"
   ]
  },
  {
   "cell_type": "markdown",
   "id": "5e56e8da-c7e2-4bcb-bbee-28a03632c605",
   "metadata": {},
   "source": [
    "Vidím, že jen intercept a TypePetroleum jsou významné regresory. Je vidět, že u některých kombinací interakcí už v datech není dostatek pozorování, aby bylo možné odhadnout parametry, proto zkusím otestovat modely s interakcemi mezi jednotlivými regresory. \n",
    "Obyčejný koeficent determinace Multiple R-Squared je skoro stejný, ale adjustovaný Adjusted R-Squared je o něco horší u modelu s interakcemi."
   ]
  },
  {
   "cell_type": "code",
   "execution_count": 37,
   "id": "592cc785-55f2-47a8-a9f2-e3f0b800c906",
   "metadata": {
    "ExecuteTime": {
     "end_time": "2024-04-26T16:19:57.293787Z",
     "start_time": "2024-04-26T16:19:57.212755Z"
    }
   },
   "outputs": [
    {
     "data": {
      "text/html": [
       "<table class=\"dataframe\">\n",
       "<caption>A anova: 2 × 6</caption>\n",
       "<thead>\n",
       "\t<tr><th></th><th scope=col>Res.Df</th><th scope=col>RSS</th><th scope=col>Df</th><th scope=col>Sum of Sq</th><th scope=col>F</th><th scope=col>Pr(&gt;F)</th></tr>\n",
       "\t<tr><th></th><th scope=col>&lt;dbl&gt;</th><th scope=col>&lt;dbl&gt;</th><th scope=col>&lt;dbl&gt;</th><th scope=col>&lt;dbl&gt;</th><th scope=col>&lt;dbl&gt;</th><th scope=col>&lt;dbl&gt;</th></tr>\n",
       "</thead>\n",
       "<tbody>\n",
       "\t<tr><th scope=row>1</th><td>23</td><td>525.6626</td><td>NA</td><td>      NA</td><td>       NA</td><td>       NA</td></tr>\n",
       "\t<tr><th scope=row>2</th><td>25</td><td>536.3083</td><td>-2</td><td>-10.6457</td><td>0.2328975</td><td>0.7940804</td></tr>\n",
       "</tbody>\n",
       "</table>\n"
      ],
      "text/latex": [
       "A anova: 2 × 6\n",
       "\\begin{tabular}{r|llllll}\n",
       "  & Res.Df & RSS & Df & Sum of Sq & F & Pr(>F)\\\\\n",
       "  & <dbl> & <dbl> & <dbl> & <dbl> & <dbl> & <dbl>\\\\\n",
       "\\hline\n",
       "\t1 & 23 & 525.6626 & NA &       NA &        NA &        NA\\\\\n",
       "\t2 & 25 & 536.3083 & -2 & -10.6457 & 0.2328975 & 0.7940804\\\\\n",
       "\\end{tabular}\n"
      ],
      "text/markdown": [
       "\n",
       "A anova: 2 × 6\n",
       "\n",
       "| <!--/--> | Res.Df &lt;dbl&gt; | RSS &lt;dbl&gt; | Df &lt;dbl&gt; | Sum of Sq &lt;dbl&gt; | F &lt;dbl&gt; | Pr(&gt;F) &lt;dbl&gt; |\n",
       "|---|---|---|---|---|---|---|\n",
       "| 1 | 23 | 525.6626 | NA |       NA |        NA |        NA |\n",
       "| 2 | 25 | 536.3083 | -2 | -10.6457 | 0.2328975 | 0.7940804 |\n",
       "\n"
      ],
      "text/plain": [
       "  Res.Df RSS      Df Sum of Sq F         Pr(>F)   \n",
       "1 23     525.6626 NA       NA         NA        NA\n",
       "2 25     536.3083 -2 -10.6457  0.2328975 0.7940804"
      ]
     },
     "metadata": {},
     "output_type": "display_data"
    }
   ],
   "source": [
    "anova(fit_int, fit_all)"
   ]
  },
  {
   "cell_type": "markdown",
   "id": "4db97382-69f9-4583-a564-79b2b757f0d6",
   "metadata": {},
   "source": [
    "p-hodnota hypotézy H0 je rovna 0.7940804, tedy nezamítáme nulovou hypotézu. Z analýzy rozpytlů vidím, že není žádný rozdíl mezi modely fit_all a fit_int."
   ]
  },
  {
   "cell_type": "markdown",
   "id": "c1c44c83-fa9d-4c2d-ade4-e73fa13d3445",
   "metadata": {},
   "source": [
    "Uvažuju podmodel zahrnující jen regresory Income a Type:\n",
    "\n",
    "$$\\text{Life}_i=\\beta_0+\\text{InEurope}_i\\cdot\\beta_\\text{InEurope}+ \\text{Type}_i\\cdot\\beta_\\text{Type}+\\epsilon_i$$"
   ]
  },
  {
   "cell_type": "code",
   "execution_count": 38,
   "id": "9d67e696-bced-413f-a4e2-1ecddac1d9b3",
   "metadata": {
    "ExecuteTime": {
     "end_time": "2024-04-26T16:19:59.152255Z",
     "start_time": "2024-04-26T16:19:59.080580Z"
    }
   },
   "outputs": [
    {
     "data": {
      "text/plain": [
       "\n",
       "Call:\n",
       "lm(formula = Life ~ In_Europe + Type, data = data)\n",
       "\n",
       "Residuals:\n",
       "     Min       1Q   Median       3Q      Max \n",
       "-13.0778  -1.2143   0.1667   1.6857  16.4222 \n",
       "\n",
       "Coefficients:\n",
       "              Estimate Std. Error t value Pr(>|t|)    \n",
       "(Intercept)     71.133      1.924  36.971  < 2e-16 ***\n",
       "In_Europe        0.481      2.300   0.209    0.836    \n",
       "TypePetroleum  -21.156      2.484  -8.517 5.36e-09 ***\n",
       "---\n",
       "Signif. codes:  0 '***' 0.001 '**' 0.01 '*' 0.05 '.' 0.1 ' ' 1\n",
       "\n",
       "Residual standard error: 4.713 on 26 degrees of freedom\n",
       "Multiple R-squared:  0.8324,\tAdjusted R-squared:  0.8195 \n",
       "F-statistic: 64.56 on 2 and 26 DF,  p-value: 8.236e-11\n"
      ]
     },
     "metadata": {},
     "output_type": "display_data"
    },
    {
     "data": {
      "text/html": [
       "0.844346209834878"
      ],
      "text/latex": [
       "0.844346209834878"
      ],
      "text/markdown": [
       "0.844346209834878"
      ],
      "text/plain": [
       "[1] 0.8443462"
      ]
     },
     "metadata": {},
     "output_type": "display_data"
    },
    {
     "data": {
      "text/html": [
       "0.825667755015063"
      ],
      "text/latex": [
       "0.825667755015063"
      ],
      "text/markdown": [
       "0.825667755015063"
      ],
      "text/plain": [
       "[1] 0.8256678"
      ]
     },
     "metadata": {},
     "output_type": "display_data"
    },
    {
     "data": {
      "text/html": [
       "0.83239509636742"
      ],
      "text/latex": [
       "0.83239509636742"
      ],
      "text/markdown": [
       "0.83239509636742"
      ],
      "text/plain": [
       "[1] 0.8323951"
      ]
     },
     "metadata": {},
     "output_type": "display_data"
    },
    {
     "data": {
      "text/html": [
       "0.819502411472606"
      ],
      "text/latex": [
       "0.819502411472606"
      ],
      "text/markdown": [
       "0.819502411472606"
      ],
      "text/plain": [
       "[1] 0.8195024"
      ]
     },
     "metadata": {},
     "output_type": "display_data"
    }
   ],
   "source": [
    "fit_type_europe <- lm(Life ~ In_Europe + Type, data = data)\n",
    "summary(fit_type_europe)\n",
    "\n",
    "summary(fit_all)$r.squared\n",
    "summary(fit_all)$adj.r.squared\n",
    "\n",
    "summary(fit_type_europe)$r.squared\n",
    "summary(fit_type_europe)$adj.r.squared"
   ]
  },
  {
   "cell_type": "markdown",
   "id": "988e5974-6357-4bea-9605-9527a7df444c",
   "metadata": {},
   "source": [
    "Vidím, že signifikántí regresory jsou jen Intercept a TypePetroleum. Multiple R-Sqaured a Adjusted R-Squared jsou horší než u půvdoního modelu"
   ]
  },
  {
   "cell_type": "code",
   "execution_count": 39,
   "id": "5dcb220f-ad75-4bc0-8552-04fe1759d537",
   "metadata": {
    "ExecuteTime": {
     "end_time": "2024-04-26T16:19:59.520071Z",
     "start_time": "2024-04-26T16:19:59.472495Z"
    }
   },
   "outputs": [
    {
     "data": {
      "text/html": [
       "<table class=\"dataframe\">\n",
       "<caption>A anova: 2 × 6</caption>\n",
       "<thead>\n",
       "\t<tr><th></th><th scope=col>Res.Df</th><th scope=col>RSS</th><th scope=col>Df</th><th scope=col>Sum of Sq</th><th scope=col>F</th><th scope=col>Pr(&gt;F)</th></tr>\n",
       "\t<tr><th></th><th scope=col>&lt;dbl&gt;</th><th scope=col>&lt;dbl&gt;</th><th scope=col>&lt;dbl&gt;</th><th scope=col>&lt;dbl&gt;</th><th scope=col>&lt;dbl&gt;</th><th scope=col>&lt;dbl&gt;</th></tr>\n",
       "</thead>\n",
       "<tbody>\n",
       "\t<tr><th scope=row>1</th><td>26</td><td>577.4861</td><td>NA</td><td>     NA</td><td>      NA</td><td>       NA</td></tr>\n",
       "\t<tr><th scope=row>2</th><td>25</td><td>536.3083</td><td> 1</td><td>41.1778</td><td>1.919502</td><td>0.1781491</td></tr>\n",
       "</tbody>\n",
       "</table>\n"
      ],
      "text/latex": [
       "A anova: 2 × 6\n",
       "\\begin{tabular}{r|llllll}\n",
       "  & Res.Df & RSS & Df & Sum of Sq & F & Pr(>F)\\\\\n",
       "  & <dbl> & <dbl> & <dbl> & <dbl> & <dbl> & <dbl>\\\\\n",
       "\\hline\n",
       "\t1 & 26 & 577.4861 & NA &      NA &       NA &        NA\\\\\n",
       "\t2 & 25 & 536.3083 &  1 & 41.1778 & 1.919502 & 0.1781491\\\\\n",
       "\\end{tabular}\n"
      ],
      "text/markdown": [
       "\n",
       "A anova: 2 × 6\n",
       "\n",
       "| <!--/--> | Res.Df &lt;dbl&gt; | RSS &lt;dbl&gt; | Df &lt;dbl&gt; | Sum of Sq &lt;dbl&gt; | F &lt;dbl&gt; | Pr(&gt;F) &lt;dbl&gt; |\n",
       "|---|---|---|---|---|---|---|\n",
       "| 1 | 26 | 577.4861 | NA |      NA |       NA |        NA |\n",
       "| 2 | 25 | 536.3083 |  1 | 41.1778 | 1.919502 | 0.1781491 |\n",
       "\n"
      ],
      "text/plain": [
       "  Res.Df RSS      Df Sum of Sq F        Pr(>F)   \n",
       "1 26     577.4861 NA      NA         NA        NA\n",
       "2 25     536.3083  1 41.1778   1.919502 0.1781491"
      ]
     },
     "metadata": {},
     "output_type": "display_data"
    }
   ],
   "source": [
    "anova(fit_type_europe, fit_all)"
   ]
  },
  {
   "cell_type": "markdown",
   "id": "fdfd6f44-3663-4fd3-a116-e626777ce509",
   "metadata": {},
   "source": [
    "p-hodnota je 0.1781491, tedy nulovost nezamítáme. Z testu vidím, že není statisticky významný rozdíl mezi šírším modelem a podmodelem."
   ]
  },
  {
   "cell_type": "markdown",
   "id": "1469765f-5192-45c5-b38f-dd4af745c684",
   "metadata": {},
   "source": [
    "Ted zkusím podmodel s regrosory Income a Type:\n",
    "\n",
    "$$\\text{Life}_i=\\beta_0+\\text{Income}_i\\cdot\\beta_\\text{Income}+ \\text{Type}_i\\cdot\\beta_\\text{Type}+\\epsilon_i$$"
   ]
  },
  {
   "cell_type": "code",
   "execution_count": 40,
   "id": "2aa974dc-2706-487a-b597-eed3291075d4",
   "metadata": {
    "ExecuteTime": {
     "end_time": "2024-04-26T16:19:59.961690Z",
     "start_time": "2024-04-26T16:19:59.889405Z"
    }
   },
   "outputs": [
    {
     "data": {
      "text/plain": [
       "\n",
       "Call:\n",
       "lm(formula = Life ~ Income + Type, data = data)\n",
       "\n",
       "Residuals:\n",
       "     Min       1Q   Median       3Q      Max \n",
       "-12.2590  -0.7920  -0.0046   1.3108  16.1377 \n",
       "\n",
       "Coefficients:\n",
       "                Estimate Std. Error t value Pr(>|t|)    \n",
       "(Intercept)    6.771e+01  3.023e+00  22.394  < 2e-16 ***\n",
       "Income         1.041e-03  7.867e-04   1.323    0.197    \n",
       "TypePetroleum -1.873e+01  2.776e+00  -6.748 3.68e-07 ***\n",
       "---\n",
       "Signif. codes:  0 '***' 0.001 '**' 0.01 '*' 0.05 '.' 0.1 ' ' 1\n",
       "\n",
       "Residual standard error: 4.566 on 26 degrees of freedom\n",
       "Multiple R-squared:  0.8427,\tAdjusted R-squared:  0.8306 \n",
       "F-statistic: 69.65 on 2 and 26 DF,  p-value: 3.609e-11\n"
      ]
     },
     "metadata": {},
     "output_type": "display_data"
    },
    {
     "data": {
      "text/html": [
       "0.844346209834878"
      ],
      "text/latex": [
       "0.844346209834878"
      ],
      "text/markdown": [
       "0.844346209834878"
      ],
      "text/plain": [
       "[1] 0.8443462"
      ]
     },
     "metadata": {},
     "output_type": "display_data"
    },
    {
     "data": {
      "text/html": [
       "0.825667755015063"
      ],
      "text/latex": [
       "0.825667755015063"
      ],
      "text/markdown": [
       "0.825667755015063"
      ],
      "text/plain": [
       "[1] 0.8256678"
      ]
     },
     "metadata": {},
     "output_type": "display_data"
    },
    {
     "data": {
      "text/html": [
       "0.842702229195706"
      ],
      "text/latex": [
       "0.842702229195706"
      ],
      "text/markdown": [
       "0.842702229195706"
      ],
      "text/plain": [
       "[1] 0.8427022"
      ]
     },
     "metadata": {},
     "output_type": "display_data"
    },
    {
     "data": {
      "text/html": [
       "0.830602400672299"
      ],
      "text/latex": [
       "0.830602400672299"
      ],
      "text/markdown": [
       "0.830602400672299"
      ],
      "text/plain": [
       "[1] 0.8306024"
      ]
     },
     "metadata": {},
     "output_type": "display_data"
    }
   ],
   "source": [
    "fit_type_income <- lm(Life ~ Income + Type, data = data)\n",
    "summary(fit_type_income)\n",
    "\n",
    "summary(fit_all)$r.squared\n",
    "summary(fit_all)$adj.r.squared\n",
    "\n",
    "summary(fit_type_income)$r.squared\n",
    "summary(fit_type_income)$adj.r.squared"
   ]
  },
  {
   "cell_type": "markdown",
   "id": "33b85b77-b98e-4ece-84ef-f15643ba0154",
   "metadata": {},
   "source": [
    "Zase vidím, že intercept a Type jsou významné komponenty. Multiple R-Squared koeficient je trochu horší než u původního modelu, ale je Adjusted R-Squared o něco vyšší."
   ]
  },
  {
   "cell_type": "code",
   "execution_count": 41,
   "id": "ee6236c5-4716-4c9b-9a3c-6372afbd383e",
   "metadata": {
    "ExecuteTime": {
     "end_time": "2024-04-26T16:20:00.482487Z",
     "start_time": "2024-04-26T16:20:00.428612Z"
    }
   },
   "outputs": [
    {
     "data": {
      "text/html": [
       "<table class=\"dataframe\">\n",
       "<caption>A anova: 2 × 6</caption>\n",
       "<thead>\n",
       "\t<tr><th></th><th scope=col>Res.Df</th><th scope=col>RSS</th><th scope=col>Df</th><th scope=col>Sum of Sq</th><th scope=col>F</th><th scope=col>Pr(&gt;F)</th></tr>\n",
       "\t<tr><th></th><th scope=col>&lt;dbl&gt;</th><th scope=col>&lt;dbl&gt;</th><th scope=col>&lt;dbl&gt;</th><th scope=col>&lt;dbl&gt;</th><th scope=col>&lt;dbl&gt;</th><th scope=col>&lt;dbl&gt;</th></tr>\n",
       "</thead>\n",
       "<tbody>\n",
       "\t<tr><th scope=row>1</th><td>26</td><td>541.9726</td><td>NA</td><td>      NA</td><td>       NA</td><td>       NA</td></tr>\n",
       "\t<tr><th scope=row>2</th><td>25</td><td>536.3083</td><td> 1</td><td>5.664368</td><td>0.2640444</td><td>0.6118673</td></tr>\n",
       "</tbody>\n",
       "</table>\n"
      ],
      "text/latex": [
       "A anova: 2 × 6\n",
       "\\begin{tabular}{r|llllll}\n",
       "  & Res.Df & RSS & Df & Sum of Sq & F & Pr(>F)\\\\\n",
       "  & <dbl> & <dbl> & <dbl> & <dbl> & <dbl> & <dbl>\\\\\n",
       "\\hline\n",
       "\t1 & 26 & 541.9726 & NA &       NA &        NA &        NA\\\\\n",
       "\t2 & 25 & 536.3083 &  1 & 5.664368 & 0.2640444 & 0.6118673\\\\\n",
       "\\end{tabular}\n"
      ],
      "text/markdown": [
       "\n",
       "A anova: 2 × 6\n",
       "\n",
       "| <!--/--> | Res.Df &lt;dbl&gt; | RSS &lt;dbl&gt; | Df &lt;dbl&gt; | Sum of Sq &lt;dbl&gt; | F &lt;dbl&gt; | Pr(&gt;F) &lt;dbl&gt; |\n",
       "|---|---|---|---|---|---|---|\n",
       "| 1 | 26 | 541.9726 | NA |       NA |        NA |        NA |\n",
       "| 2 | 25 | 536.3083 |  1 | 5.664368 | 0.2640444 | 0.6118673 |\n",
       "\n"
      ],
      "text/plain": [
       "  Res.Df RSS      Df Sum of Sq F         Pr(>F)   \n",
       "1 26     541.9726 NA       NA         NA        NA\n",
       "2 25     536.3083  1 5.664368  0.2640444 0.6118673"
      ]
     },
     "metadata": {},
     "output_type": "display_data"
    }
   ],
   "source": [
    "anova(fit_type_income, fit_all)"
   ]
  },
  {
   "cell_type": "markdown",
   "id": "568f3cf5-e6ee-4bb0-a607-6d7636c02483",
   "metadata": {},
   "source": [
    "Podle p-hodnoty F-testu opět není mezi modely statisticky výzmanmý rozdíl."
   ]
  },
  {
   "cell_type": "markdown",
   "id": "781deb69-f6aa-4449-95c3-47deacec0fa3",
   "metadata": {},
   "source": [
    "Zkusím ted, podmodel obsahující regresory InEurope a Income: \n",
    "\n",
    "$$\\text{Life}_i=\\beta_0+\\text{InEurope}_i\\cdot\\beta_\\text{InEurope}+ \\text{Income}_i\\cdot\\beta_\\text{Income}+\\epsilon_i$$"
   ]
  },
  {
   "cell_type": "code",
   "execution_count": 42,
   "id": "d08a1c61-b2ea-465b-ad45-327a445085bb",
   "metadata": {
    "ExecuteTime": {
     "end_time": "2024-04-26T16:20:01.000283Z",
     "start_time": "2024-04-26T16:20:00.886434Z"
    }
   },
   "outputs": [
    {
     "data": {
      "text/plain": [
       "\n",
       "Call:\n",
       "lm(formula = Life ~ In_Europe + Income, data = data)\n",
       "\n",
       "Residuals:\n",
       "     Min       1Q   Median       3Q      Max \n",
       "-13.3902  -2.3807  -0.4665   3.9715  11.8963 \n",
       "\n",
       "Coefficients:\n",
       "             Estimate Std. Error t value Pr(>|t|)    \n",
       "(Intercept) 4.943e+01  2.407e+00  20.539  < 2e-16 ***\n",
       "In_Europe   8.154e+00  2.582e+00   3.158  0.00399 ** \n",
       "Income      4.091e-03  7.903e-04   5.177 2.11e-05 ***\n",
       "---\n",
       "Signif. codes:  0 '***' 0.001 '**' 0.01 '*' 0.05 '.' 0.1 ' ' 1\n",
       "\n",
       "Residual standard error: 6.438 on 26 degrees of freedom\n",
       "Multiple R-squared:  0.6872,\tAdjusted R-squared:  0.6631 \n",
       "F-statistic: 28.56 on 2 and 26 DF,  p-value: 2.743e-07\n"
      ]
     },
     "metadata": {},
     "output_type": "display_data"
    },
    {
     "data": {
      "text/html": [
       "0.844346209834878"
      ],
      "text/latex": [
       "0.844346209834878"
      ],
      "text/markdown": [
       "0.844346209834878"
      ],
      "text/plain": [
       "[1] 0.8443462"
      ]
     },
     "metadata": {},
     "output_type": "display_data"
    },
    {
     "data": {
      "text/html": [
       "0.825667755015063"
      ],
      "text/latex": [
       "0.825667755015063"
      ],
      "text/markdown": [
       "0.825667755015063"
      ],
      "text/plain": [
       "[1] 0.8256678"
      ]
     },
     "metadata": {},
     "output_type": "display_data"
    },
    {
     "data": {
      "text/html": [
       "0.687209249466155"
      ],
      "text/latex": [
       "0.687209249466155"
      ],
      "text/markdown": [
       "0.687209249466155"
      ],
      "text/plain": [
       "[1] 0.6872092"
      ]
     },
     "metadata": {},
     "output_type": "display_data"
    },
    {
     "data": {
      "text/html": [
       "0.663148422502013"
      ],
      "text/latex": [
       "0.663148422502013"
      ],
      "text/markdown": [
       "0.663148422502013"
      ],
      "text/plain": [
       "[1] 0.6631484"
      ]
     },
     "metadata": {},
     "output_type": "display_data"
    }
   ],
   "source": [
    "fit_income_europe <- lm(Life ~ In_Europe + Income, data = data)\n",
    "summary(fit_income_europe)\n",
    "\n",
    "summary(fit_all)$r.squared\n",
    "summary(fit_all)$adj.r.squared\n",
    "\n",
    "summary(fit_income_europe)$r.squared\n",
    "summary(fit_income_europe)$adj.r.squared"
   ]
  },
  {
   "cell_type": "markdown",
   "id": "990dc6e9-6875-423d-bc9e-c278aa737963",
   "metadata": {},
   "source": [
    "Jak to bylo očekávané, obyčejný a adjustovaný koeficeinty determinace jsou mnohem horší než u původního šíršího modelu, protože zvolený podmodel neobsahuje signifikantní regresor - TypePetroleum."
   ]
  },
  {
   "cell_type": "code",
   "execution_count": 43,
   "id": "95366fa0-6865-4a35-85cf-52d4fd538089",
   "metadata": {
    "ExecuteTime": {
     "end_time": "2024-04-26T16:20:01.586986Z",
     "start_time": "2024-04-26T16:20:01.549830Z"
    }
   },
   "outputs": [
    {
     "data": {
      "text/html": [
       "<table class=\"dataframe\">\n",
       "<caption>A anova: 2 × 6</caption>\n",
       "<thead>\n",
       "\t<tr><th></th><th scope=col>Res.Df</th><th scope=col>RSS</th><th scope=col>Df</th><th scope=col>Sum of Sq</th><th scope=col>F</th><th scope=col>Pr(&gt;F)</th></tr>\n",
       "\t<tr><th></th><th scope=col>&lt;dbl&gt;</th><th scope=col>&lt;dbl&gt;</th><th scope=col>&lt;dbl&gt;</th><th scope=col>&lt;dbl&gt;</th><th scope=col>&lt;dbl&gt;</th><th scope=col>&lt;dbl&gt;</th></tr>\n",
       "</thead>\n",
       "<tbody>\n",
       "\t<tr><th scope=row>1</th><td>26</td><td>1077.7268</td><td>NA</td><td>      NA</td><td>      NA</td><td>          NA</td></tr>\n",
       "\t<tr><th scope=row>2</th><td>25</td><td> 536.3083</td><td> 1</td><td>541.4186</td><td>25.23822</td><td>3.504879e-05</td></tr>\n",
       "</tbody>\n",
       "</table>\n"
      ],
      "text/latex": [
       "A anova: 2 × 6\n",
       "\\begin{tabular}{r|llllll}\n",
       "  & Res.Df & RSS & Df & Sum of Sq & F & Pr(>F)\\\\\n",
       "  & <dbl> & <dbl> & <dbl> & <dbl> & <dbl> & <dbl>\\\\\n",
       "\\hline\n",
       "\t1 & 26 & 1077.7268 & NA &       NA &       NA &           NA\\\\\n",
       "\t2 & 25 &  536.3083 &  1 & 541.4186 & 25.23822 & 3.504879e-05\\\\\n",
       "\\end{tabular}\n"
      ],
      "text/markdown": [
       "\n",
       "A anova: 2 × 6\n",
       "\n",
       "| <!--/--> | Res.Df &lt;dbl&gt; | RSS &lt;dbl&gt; | Df &lt;dbl&gt; | Sum of Sq &lt;dbl&gt; | F &lt;dbl&gt; | Pr(&gt;F) &lt;dbl&gt; |\n",
       "|---|---|---|---|---|---|---|\n",
       "| 1 | 26 | 1077.7268 | NA |       NA |       NA |           NA |\n",
       "| 2 | 25 |  536.3083 |  1 | 541.4186 | 25.23822 | 3.504879e-05 |\n",
       "\n"
      ],
      "text/plain": [
       "  Res.Df RSS       Df Sum of Sq F        Pr(>F)      \n",
       "1 26     1077.7268 NA       NA        NA           NA\n",
       "2 25      536.3083  1 541.4186  25.23822 3.504879e-05"
      ]
     },
     "metadata": {},
     "output_type": "display_data"
    }
   ],
   "source": [
    "anova(fit_income_europe, fit_all)"
   ]
  },
  {
   "cell_type": "markdown",
   "id": "cbc8d0bc-ee01-4496-9c01-3e97e0a048df",
   "metadata": {},
   "source": [
    "Jak ukazuje test na analýzu rozptylů, p-hodnota je rovna 3.504879e-05. Tedy, je mezi modely významný statisticky rozdíl.\n",
    "\n",
    "Odebráním proměnné TypePetroleum se model významně zhoršil."
   ]
  },
  {
   "cell_type": "markdown",
   "id": "7562e8b5-3477-4543-b1ca-075e08129c60",
   "metadata": {},
   "source": [
    "Ted zkusím podmodel obsahující pouze jeden signifikántní regresor - TypePetroleum:\n",
    "\n",
    "$$\\text{Life}_i=\\beta_0+\\text{Type}_i\\cdot\\beta_\\text{Type}+\\epsilon_i$$"
   ]
  },
  {
   "cell_type": "code",
   "execution_count": 44,
   "id": "939899cb-6dd2-4bed-bdb4-3e29421c1e04",
   "metadata": {
    "ExecuteTime": {
     "end_time": "2024-04-26T16:20:02.148361Z",
     "start_time": "2024-04-26T16:20:02.066962Z"
    }
   },
   "outputs": [
    {
     "data": {
      "text/plain": [
       "\n",
       "Call:\n",
       "lm(formula = Life ~ Type, data = data)\n",
       "\n",
       "Residuals:\n",
       "     Min       1Q   Median       3Q      Max \n",
       "-13.0778  -1.0700   0.0222   1.7300  16.4222 \n",
       "\n",
       "Coefficients:\n",
       "              Estimate Std. Error t value Pr(>|t|)    \n",
       "(Intercept)     71.470      1.035   69.05  < 2e-16 ***\n",
       "TypePetroleum  -21.492      1.858  -11.57 5.71e-12 ***\n",
       "---\n",
       "Signif. codes:  0 '***' 0.001 '**' 0.01 '*' 0.05 '.' 0.1 ' ' 1\n",
       "\n",
       "Residual standard error: 4.629 on 27 degrees of freedom\n",
       "Multiple R-squared:  0.8321,\tAdjusted R-squared:  0.8259 \n",
       "F-statistic: 133.8 on 1 and 27 DF,  p-value: 5.713e-12\n"
      ]
     },
     "metadata": {},
     "output_type": "display_data"
    },
    {
     "data": {
      "text/html": [
       "0.844346209834878"
      ],
      "text/latex": [
       "0.844346209834878"
      ],
      "text/markdown": [
       "0.844346209834878"
      ],
      "text/plain": [
       "[1] 0.8443462"
      ]
     },
     "metadata": {},
     "output_type": "display_data"
    },
    {
     "data": {
      "text/html": [
       "0.825667755015063"
      ],
      "text/latex": [
       "0.825667755015063"
      ],
      "text/markdown": [
       "0.825667755015063"
      ],
      "text/plain": [
       "[1] 0.8256678"
      ]
     },
     "metadata": {},
     "output_type": "display_data"
    },
    {
     "data": {
      "text/html": [
       "0.832113127714923"
      ],
      "text/latex": [
       "0.832113127714923"
      ],
      "text/markdown": [
       "0.832113127714923"
      ],
      "text/plain": [
       "[1] 0.8321131"
      ]
     },
     "metadata": {},
     "output_type": "display_data"
    },
    {
     "data": {
      "text/html": [
       "0.825895095408068"
      ],
      "text/latex": [
       "0.825895095408068"
      ],
      "text/markdown": [
       "0.825895095408068"
      ],
      "text/plain": [
       "[1] 0.8258951"
      ]
     },
     "metadata": {},
     "output_type": "display_data"
    }
   ],
   "source": [
    "fit_type <- lm(Life ~ Type, data = data)\n",
    "summary(fit_type)\n",
    "\n",
    "summary(fit_all)$r.squared\n",
    "summary(fit_all)$adj.r.squared\n",
    "\n",
    "summary(fit_type)$r.squared\n",
    "summary(fit_type)$adj.r.squared"
   ]
  },
  {
   "cell_type": "markdown",
   "id": "e92d45be-f031-4b9e-9cde-5e529c6ffddc",
   "metadata": {},
   "source": [
    "Podmodel založený pouze na jedné významné proměnné má trochu horší Multiple R-Squared, ale má o něco lepší adjustovaný koeficient determinace Adjusted R-Squared."
   ]
  },
  {
   "cell_type": "code",
   "execution_count": 45,
   "id": "f628d35c-63ac-43e8-a87f-9c2cb31b7a5a",
   "metadata": {
    "ExecuteTime": {
     "end_time": "2024-04-26T16:20:02.520838Z",
     "start_time": "2024-04-26T16:20:02.482999Z"
    }
   },
   "outputs": [
    {
     "data": {
      "text/html": [
       "<table class=\"dataframe\">\n",
       "<caption>A anova: 2 × 6</caption>\n",
       "<thead>\n",
       "\t<tr><th></th><th scope=col>Res.Df</th><th scope=col>RSS</th><th scope=col>Df</th><th scope=col>Sum of Sq</th><th scope=col>F</th><th scope=col>Pr(&gt;F)</th></tr>\n",
       "\t<tr><th></th><th scope=col>&lt;dbl&gt;</th><th scope=col>&lt;dbl&gt;</th><th scope=col>&lt;dbl&gt;</th><th scope=col>&lt;dbl&gt;</th><th scope=col>&lt;dbl&gt;</th><th scope=col>&lt;dbl&gt;</th></tr>\n",
       "</thead>\n",
       "<tbody>\n",
       "\t<tr><th scope=row>1</th><td>27</td><td>578.4576</td><td>NA</td><td>      NA</td><td>       NA</td><td>      NA</td></tr>\n",
       "\t<tr><th scope=row>2</th><td>25</td><td>536.3083</td><td> 2</td><td>42.14933</td><td>0.9823951</td><td>0.388407</td></tr>\n",
       "</tbody>\n",
       "</table>\n"
      ],
      "text/latex": [
       "A anova: 2 × 6\n",
       "\\begin{tabular}{r|llllll}\n",
       "  & Res.Df & RSS & Df & Sum of Sq & F & Pr(>F)\\\\\n",
       "  & <dbl> & <dbl> & <dbl> & <dbl> & <dbl> & <dbl>\\\\\n",
       "\\hline\n",
       "\t1 & 27 & 578.4576 & NA &       NA &        NA &       NA\\\\\n",
       "\t2 & 25 & 536.3083 &  2 & 42.14933 & 0.9823951 & 0.388407\\\\\n",
       "\\end{tabular}\n"
      ],
      "text/markdown": [
       "\n",
       "A anova: 2 × 6\n",
       "\n",
       "| <!--/--> | Res.Df &lt;dbl&gt; | RSS &lt;dbl&gt; | Df &lt;dbl&gt; | Sum of Sq &lt;dbl&gt; | F &lt;dbl&gt; | Pr(&gt;F) &lt;dbl&gt; |\n",
       "|---|---|---|---|---|---|---|\n",
       "| 1 | 27 | 578.4576 | NA |       NA |        NA |       NA |\n",
       "| 2 | 25 | 536.3083 |  2 | 42.14933 | 0.9823951 | 0.388407 |\n",
       "\n"
      ],
      "text/plain": [
       "  Res.Df RSS      Df Sum of Sq F         Pr(>F)  \n",
       "1 27     578.4576 NA       NA         NA       NA\n",
       "2 25     536.3083  2 42.14933  0.9823951 0.388407"
      ]
     },
     "metadata": {},
     "output_type": "display_data"
    }
   ],
   "source": [
    "anova(fit_type, fit_all)"
   ]
  },
  {
   "cell_type": "markdown",
   "id": "ba5eb03c-99e4-4be4-8090-cf5f0c76a6a5",
   "metadata": {},
   "source": [
    "Podle p-hodnoty testu nezamítáme nenulovost hypotézy. Tedy, není mezi modely statisticky významný rozdíl."
   ]
  },
  {
   "cell_type": "markdown",
   "id": "ba456ce3-5568-4ca9-96df-156ffecdee57",
   "metadata": {},
   "source": [
    "Porovnám Akaikeho a Bayesovské informační kritéria předchozích modelů."
   ]
  },
  {
   "cell_type": "code",
   "execution_count": 46,
   "id": "b0fa26ba-6b63-46f0-aac2-7e1d655e7468",
   "metadata": {
    "ExecuteTime": {
     "end_time": "2024-04-26T16:20:02.853677Z",
     "start_time": "2024-04-26T16:20:02.786215Z"
    }
   },
   "outputs": [
    {
     "data": {
      "text/html": [
       "176.903419924823"
      ],
      "text/latex": [
       "176.903419924823"
      ],
      "text/markdown": [
       "176.903419924823"
      ],
      "text/plain": [
       "[1] 176.9034"
      ]
     },
     "metadata": {},
     "output_type": "display_data"
    },
    {
     "data": {
      "text/html": [
       "180.321981044242"
      ],
      "text/latex": [
       "180.321981044242"
      ],
      "text/markdown": [
       "180.321981044242"
      ],
      "text/plain": [
       "[1] 180.322"
      ]
     },
     "metadata": {},
     "output_type": "display_data"
    },
    {
     "data": {
      "text/html": [
       "177.048700678911"
      ],
      "text/latex": [
       "177.048700678911"
      ],
      "text/markdown": [
       "177.048700678911"
      ],
      "text/plain": [
       "[1] 177.0487"
      ]
     },
     "metadata": {},
     "output_type": "display_data"
    },
    {
     "data": {
      "text/html": [
       "175.208105269347"
      ],
      "text/latex": [
       "175.208105269347"
      ],
      "text/markdown": [
       "175.208105269347"
      ],
      "text/plain": [
       "[1] 175.2081"
      ]
     },
     "metadata": {},
     "output_type": "display_data"
    },
    {
     "data": {
      "text/html": [
       "195.142525468906"
      ],
      "text/latex": [
       "195.142525468906"
      ],
      "text/markdown": [
       "195.142525468906"
      ],
      "text/plain": [
       "[1] 195.1425"
      ]
     },
     "metadata": {},
     "output_type": "display_data"
    },
    {
     "data": {
      "text/html": [
       "175.097447583812"
      ],
      "text/latex": [
       "175.097447583812"
      ],
      "text/markdown": [
       "175.097447583812"
      ],
      "text/plain": [
       "[1] 175.0974"
      ]
     },
     "metadata": {},
     "output_type": "display_data"
    }
   ],
   "source": [
    "AIC(fit_all)\n",
    "AIC(fit_int)\n",
    "AIC(fit_type_europe)\n",
    "AIC(fit_type_income)\n",
    "AIC(fit_income_europe)\n",
    "AIC(fit_type)"
   ]
  },
  {
   "cell_type": "code",
   "execution_count": 47,
   "id": "aa5b53fe-b668-4eb9-9c0b-23ffdb0f5931",
   "metadata": {
    "ExecuteTime": {
     "end_time": "2024-04-26T16:20:03.460805Z",
     "start_time": "2024-04-26T16:20:03.386828Z"
    }
   },
   "outputs": [
    {
     "data": {
      "text/html": [
       "183.739899074755"
      ],
      "text/latex": [
       "183.739899074755"
      ],
      "text/markdown": [
       "183.739899074755"
      ],
      "text/plain": [
       "[1] 183.7399"
      ]
     },
     "metadata": {},
     "output_type": "display_data"
    },
    {
     "data": {
      "text/html": [
       "189.893051854147"
      ],
      "text/latex": [
       "189.893051854147"
      ],
      "text/markdown": [
       "189.893051854147"
      ],
      "text/plain": [
       "[1] 189.8931"
      ]
     },
     "metadata": {},
     "output_type": "display_data"
    },
    {
     "data": {
      "text/html": [
       "182.517883998857"
      ],
      "text/latex": [
       "182.517883998857"
      ],
      "text/markdown": [
       "182.517883998857"
      ],
      "text/plain": [
       "[1] 182.5179"
      ]
     },
     "metadata": {},
     "output_type": "display_data"
    },
    {
     "data": {
      "text/html": [
       "180.677288589293"
      ],
      "text/latex": [
       "180.677288589293"
      ],
      "text/markdown": [
       "180.677288589293"
      ],
      "text/plain": [
       "[1] 180.6773"
      ]
     },
     "metadata": {},
     "output_type": "display_data"
    },
    {
     "data": {
      "text/html": [
       "200.611708788852"
      ],
      "text/latex": [
       "200.611708788852"
      ],
      "text/markdown": [
       "200.611708788852"
      ],
      "text/plain": [
       "[1] 200.6117"
      ]
     },
     "metadata": {},
     "output_type": "display_data"
    },
    {
     "data": {
      "text/html": [
       "179.199335073771"
      ],
      "text/latex": [
       "179.199335073771"
      ],
      "text/markdown": [
       "179.199335073771"
      ],
      "text/plain": [
       "[1] 179.1993"
      ]
     },
     "metadata": {},
     "output_type": "display_data"
    }
   ],
   "source": [
    "BIC(fit_all)\n",
    "BIC(fit_int)\n",
    "BIC(fit_type_europe)\n",
    "BIC(fit_type_income)\n",
    "BIC(fit_income_europe)\n",
    "BIC(fit_type)"
   ]
  },
  {
   "cell_type": "markdown",
   "id": "aa36df2b-cda7-42cc-a871-e561bf6e661b",
   "metadata": {},
   "source": [
    "Podle informačních kritérií můžu udělat závěr, že modej jen s jedním signifikátním regrosorem - TypePetroleum je nejšikovnější."
   ]
  },
  {
   "cell_type": "markdown",
   "id": "b2405df2-e067-4ee2-bc9e-34eeb8004ba4",
   "metadata": {},
   "source": [
    "Ted zkusím seknvencně přidávat jednotlivě komponety do modelu. Začnu u modelu očekávané délky života pouze s absolutním členem a uvidím co z toho vyjde."
   ]
  },
  {
   "cell_type": "code",
   "execution_count": 48,
   "id": "76ace645-40ad-4dca-90a6-46d77a16e0cb",
   "metadata": {
    "ExecuteTime": {
     "end_time": "2024-04-26T16:20:03.791167Z",
     "start_time": "2024-04-26T16:20:03.735693Z"
    }
   },
   "outputs": [
    {
     "data": {
      "text/html": [
       "<table class=\"dataframe\">\n",
       "<caption>A anova: 4 × 6</caption>\n",
       "<thead>\n",
       "\t<tr><th></th><th scope=col>Df</th><th scope=col>Sum of Sq</th><th scope=col>RSS</th><th scope=col>AIC</th><th scope=col>F value</th><th scope=col>Pr(&gt;F)</th></tr>\n",
       "\t<tr><th></th><th scope=col>&lt;dbl&gt;</th><th scope=col>&lt;dbl&gt;</th><th scope=col>&lt;dbl&gt;</th><th scope=col>&lt;dbl&gt;</th><th scope=col>&lt;dbl&gt;</th><th scope=col>&lt;dbl&gt;</th></tr>\n",
       "</thead>\n",
       "<tbody>\n",
       "\t<tr><th scope=row>&lt;none&gt;</th><td>NA</td><td>      NA</td><td>3445.5201</td><td>140.54849</td><td>       NA</td><td>          NA</td></tr>\n",
       "\t<tr><th scope=row>Type</th><td> 1</td><td>2867.062</td><td> 578.4576</td><td> 90.79901</td><td>133.82258</td><td>5.713448e-12</td></tr>\n",
       "\t<tr><th scope=row>Income</th><td> 1</td><td>1954.294</td><td>1491.2264</td><td>118.26169</td><td> 35.38425</td><td>2.423637e-06</td></tr>\n",
       "\t<tr><th scope=row>In_Europe</th><td> 1</td><td>1256.827</td><td>2188.6931</td><td>129.38916</td><td> 15.50438</td><td>5.219398e-04</td></tr>\n",
       "</tbody>\n",
       "</table>\n"
      ],
      "text/latex": [
       "A anova: 4 × 6\n",
       "\\begin{tabular}{r|llllll}\n",
       "  & Df & Sum of Sq & RSS & AIC & F value & Pr(>F)\\\\\n",
       "  & <dbl> & <dbl> & <dbl> & <dbl> & <dbl> & <dbl>\\\\\n",
       "\\hline\n",
       "\t<none> & NA &       NA & 3445.5201 & 140.54849 &        NA &           NA\\\\\n",
       "\tType &  1 & 2867.062 &  578.4576 &  90.79901 & 133.82258 & 5.713448e-12\\\\\n",
       "\tIncome &  1 & 1954.294 & 1491.2264 & 118.26169 &  35.38425 & 2.423637e-06\\\\\n",
       "\tIn\\_Europe &  1 & 1256.827 & 2188.6931 & 129.38916 &  15.50438 & 5.219398e-04\\\\\n",
       "\\end{tabular}\n"
      ],
      "text/markdown": [
       "\n",
       "A anova: 4 × 6\n",
       "\n",
       "| <!--/--> | Df &lt;dbl&gt; | Sum of Sq &lt;dbl&gt; | RSS &lt;dbl&gt; | AIC &lt;dbl&gt; | F value &lt;dbl&gt; | Pr(&gt;F) &lt;dbl&gt; |\n",
       "|---|---|---|---|---|---|---|\n",
       "| &lt;none&gt; | NA |       NA | 3445.5201 | 140.54849 |        NA |           NA |\n",
       "| Type |  1 | 2867.062 |  578.4576 |  90.79901 | 133.82258 | 5.713448e-12 |\n",
       "| Income |  1 | 1954.294 | 1491.2264 | 118.26169 |  35.38425 | 2.423637e-06 |\n",
       "| In_Europe |  1 | 1256.827 | 2188.6931 | 129.38916 |  15.50438 | 5.219398e-04 |\n",
       "\n"
      ],
      "text/plain": [
       "          Df Sum of Sq RSS       AIC       F value   Pr(>F)      \n",
       "<none>    NA       NA  3445.5201 140.54849        NA           NA\n",
       "Type       1 2867.062   578.4576  90.79901 133.82258 5.713448e-12\n",
       "Income     1 1954.294  1491.2264 118.26169  35.38425 2.423637e-06\n",
       "In_Europe  1 1256.827  2188.6931 129.38916  15.50438 5.219398e-04"
      ]
     },
     "metadata": {},
     "output_type": "display_data"
    }
   ],
   "source": [
    "add1(lm(Life~1, data=data),~Type+Income+In_Europe,test=\"F\")"
   ]
  },
  {
   "cell_type": "markdown",
   "id": "1f4875ee-4d10-41b8-b939-62d9b67e7539",
   "metadata": {},
   "source": [
    "Vidím, že týp země má významný vliv na očekávanou délku života."
   ]
  },
  {
   "cell_type": "markdown",
   "id": "50ee64f9-0c55-49b4-879e-91b45b0f1043",
   "metadata": {},
   "source": [
    "Podívám se na to, co se stane, pokud budu odstraňovat jednotlivé regresory ze složitějšího a šíršího modelu."
   ]
  },
  {
   "cell_type": "code",
   "execution_count": 49,
   "id": "9b1f88d7-587e-4b32-a1b9-cad48bcb3ebc",
   "metadata": {
    "ExecuteTime": {
     "end_time": "2024-04-26T16:20:04.596242Z",
     "start_time": "2024-04-26T16:20:04.515265Z"
    }
   },
   "outputs": [
    {
     "data": {
      "text/html": [
       "<table class=\"dataframe\">\n",
       "<caption>A anova: 4 × 6</caption>\n",
       "<thead>\n",
       "\t<tr><th></th><th scope=col>Df</th><th scope=col>Sum of Sq</th><th scope=col>RSS</th><th scope=col>AIC</th><th scope=col>F value</th><th scope=col>Pr(&gt;F)</th></tr>\n",
       "\t<tr><th></th><th scope=col>&lt;dbl&gt;</th><th scope=col>&lt;dbl&gt;</th><th scope=col>&lt;dbl&gt;</th><th scope=col>&lt;dbl&gt;</th><th scope=col>&lt;dbl&gt;</th><th scope=col>&lt;dbl&gt;</th></tr>\n",
       "</thead>\n",
       "<tbody>\n",
       "\t<tr><th scope=row>&lt;none&gt;</th><td>NA</td><td>        NA</td><td> 536.3083</td><td> 92.60498</td><td>        NA</td><td>          NA</td></tr>\n",
       "\t<tr><th scope=row>Type</th><td> 1</td><td>541.418552</td><td>1077.7268</td><td>110.84409</td><td>25.2382162</td><td>3.504879e-05</td></tr>\n",
       "\t<tr><th scope=row>Income</th><td> 1</td><td> 41.177801</td><td> 577.4861</td><td> 92.75027</td><td> 1.9195025</td><td>1.781491e-01</td></tr>\n",
       "\t<tr><th scope=row>In_Europe</th><td> 1</td><td>  5.664368</td><td> 541.9726</td><td> 90.90967</td><td> 0.2640444</td><td>6.118673e-01</td></tr>\n",
       "</tbody>\n",
       "</table>\n"
      ],
      "text/latex": [
       "A anova: 4 × 6\n",
       "\\begin{tabular}{r|llllll}\n",
       "  & Df & Sum of Sq & RSS & AIC & F value & Pr(>F)\\\\\n",
       "  & <dbl> & <dbl> & <dbl> & <dbl> & <dbl> & <dbl>\\\\\n",
       "\\hline\n",
       "\t<none> & NA &         NA &  536.3083 &  92.60498 &         NA &           NA\\\\\n",
       "\tType &  1 & 541.418552 & 1077.7268 & 110.84409 & 25.2382162 & 3.504879e-05\\\\\n",
       "\tIncome &  1 &  41.177801 &  577.4861 &  92.75027 &  1.9195025 & 1.781491e-01\\\\\n",
       "\tIn\\_Europe &  1 &   5.664368 &  541.9726 &  90.90967 &  0.2640444 & 6.118673e-01\\\\\n",
       "\\end{tabular}\n"
      ],
      "text/markdown": [
       "\n",
       "A anova: 4 × 6\n",
       "\n",
       "| <!--/--> | Df &lt;dbl&gt; | Sum of Sq &lt;dbl&gt; | RSS &lt;dbl&gt; | AIC &lt;dbl&gt; | F value &lt;dbl&gt; | Pr(&gt;F) &lt;dbl&gt; |\n",
       "|---|---|---|---|---|---|---|\n",
       "| &lt;none&gt; | NA |         NA |  536.3083 |  92.60498 |         NA |           NA |\n",
       "| Type |  1 | 541.418552 | 1077.7268 | 110.84409 | 25.2382162 | 3.504879e-05 |\n",
       "| Income |  1 |  41.177801 |  577.4861 |  92.75027 |  1.9195025 | 1.781491e-01 |\n",
       "| In_Europe |  1 |   5.664368 |  541.9726 |  90.90967 |  0.2640444 | 6.118673e-01 |\n",
       "\n"
      ],
      "text/plain": [
       "          Df Sum of Sq  RSS       AIC       F value    Pr(>F)      \n",
       "<none>    NA         NA  536.3083  92.60498         NA           NA\n",
       "Type       1 541.418552 1077.7268 110.84409 25.2382162 3.504879e-05\n",
       "Income     1  41.177801  577.4861  92.75027  1.9195025 1.781491e-01\n",
       "In_Europe  1   5.664368  541.9726  90.90967  0.2640444 6.118673e-01"
      ]
     },
     "metadata": {},
     "output_type": "display_data"
    }
   ],
   "source": [
    "drop1(lm(Life~Type+Income+In_Europe, data=data),test=\"F\")"
   ]
  },
  {
   "cell_type": "markdown",
   "id": "3c4bfafc-cdef-42c0-8d97-fce290f2c186",
   "metadata": {},
   "source": [
    "Opět vidím, že týp země má velký vliv na délku života. Odebráním proměnné Type jsem signifikántně zhoršil model, ale odebráním proměnných Income a InEurope se model skoro nezměnil."
   ]
  },
  {
   "cell_type": "markdown",
   "id": "e1e7320a-b233-4cb3-b700-1d6cd13766e9",
   "metadata": {},
   "source": [
    "Nejlepší regresní model je model založený na jedné proměnné Type, který je jediným významným komponentem mezi ostatními. Ale pro určení nejlepšího finálního modelu prozkoumáme ostatní druhy regrese."
   ]
  },
  {
   "cell_type": "markdown",
   "id": "9eb6e21a-6b19-4154-97d3-220fa1c80b0f",
   "metadata": {},
   "source": [
    "Nejprve zkusíme nafitovat model robustní regrese, protože mám odlehlá pozorování v našem datasetu. Robustní regrese je méně citlivá na outliery. Podívám se, zda robustní regrese nějak zlepší či zhorší model."
   ]
  },
  {
   "cell_type": "code",
   "execution_count": 50,
   "id": "68f8c2cb-ad52-4744-b16e-6de1488048ee",
   "metadata": {
    "ExecuteTime": {
     "end_time": "2024-04-26T16:20:05.337923Z",
     "start_time": "2024-04-26T16:20:05.216756Z"
    }
   },
   "outputs": [
    {
     "data": {
      "text/plain": [
       "\n",
       "Call:\n",
       "lmrob(formula = Life ~ Type + Income + In_Europe, data = data)\n",
       " \\--> method = \"MM\"\n",
       "Residuals:\n",
       "     Min       1Q   Median       3Q      Max \n",
       "-13.1140  -1.1724   0.2573   1.1411  15.4930 \n",
       "\n",
       "Coefficients:\n",
       "                Estimate Std. Error t value Pr(>|t|)    \n",
       "(Intercept)    6.771e+01  1.410e+00  48.028  < 2e-16 ***\n",
       "TypePetroleum -1.785e+01  1.315e+00 -13.568 4.95e-13 ***\n",
       "Income         8.424e-04  2.648e-04   3.182  0.00389 ** \n",
       "In_Europe      1.041e+00  8.596e-01   1.210  0.23744    \n",
       "---\n",
       "Signif. codes:  0 '***' 0.001 '**' 0.01 '*' 0.05 '.' 0.1 ' ' 1\n",
       "\n",
       "Robust residual standard error: 2.074 \n",
       "Multiple R-squared:  0.9696,\tAdjusted R-squared:  0.9659 \n",
       "Convergence in 8 IRWLS iterations\n",
       "\n",
       "Robustness weights: \n",
       " 2 observations c(27,29) are outliers with |weight| = 0 ( < 0.0034); \n",
       " one weight is ~= 1. The remaining 26 ones are summarized as\n",
       "   Min. 1st Qu.  Median    Mean 3rd Qu.    Max. \n",
       "0.02909 0.93770 0.97190 0.92050 0.99400 0.99860 \n",
       "Algorithmic parameters: \n",
       "       tuning.chi                bb        tuning.psi        refine.tol           rel.tol         scale.tol         solve.tol          zero.tol \n",
       "        1.548e+00         5.000e-01         4.685e+00         1.000e-07         1.000e-07         1.000e-10         1.000e-07         1.000e-10 \n",
       "      eps.outlier             eps.x warn.limit.reject warn.limit.meanrw \n",
       "        3.448e-03         1.018e-08         5.000e-01         5.000e-01 \n",
       "     nResample         max.it       best.r.s       k.fast.s          k.max    maxit.scale      trace.lev            mts     compute.rd fast.s.large.n \n",
       "           500             50              2              1            200            200              0           1000              0           2000 \n",
       "                  psi           subsampling                   cov compute.outlier.stats \n",
       "           \"bisquare\"         \"nonsingular\"         \".vcov.avar1\"                  \"SM\" \n",
       "seed : int(0) "
      ]
     },
     "metadata": {},
     "output_type": "display_data"
    },
    {
     "data": {
      "text/html": [
       "0.844346209834878"
      ],
      "text/latex": [
       "0.844346209834878"
      ],
      "text/markdown": [
       "0.844346209834878"
      ],
      "text/plain": [
       "[1] 0.8443462"
      ]
     },
     "metadata": {},
     "output_type": "display_data"
    },
    {
     "data": {
      "text/html": [
       "0.825667755015063"
      ],
      "text/latex": [
       "0.825667755015063"
      ],
      "text/markdown": [
       "0.825667755015063"
      ],
      "text/plain": [
       "[1] 0.8256678"
      ]
     },
     "metadata": {},
     "output_type": "display_data"
    },
    {
     "data": {
      "text/html": [
       "0.969564896440447"
      ],
      "text/latex": [
       "0.969564896440447"
      ],
      "text/markdown": [
       "0.969564896440447"
      ],
      "text/plain": [
       "[1] 0.9695649"
      ]
     },
     "metadata": {},
     "output_type": "display_data"
    },
    {
     "data": {
      "text/html": [
       "0.965912684013301"
      ],
      "text/latex": [
       "0.965912684013301"
      ],
      "text/markdown": [
       "0.965912684013301"
      ],
      "text/plain": [
       "[1] 0.9659127"
      ]
     },
     "metadata": {},
     "output_type": "display_data"
    }
   ],
   "source": [
    "fit_robust <- lmrob(Life ~ Type + Income + In_Europe, data = data)\n",
    "summary(fit_robust)\n",
    "\n",
    "summary(fit_all)$r.squared\n",
    "summary(fit_all)$adj.r.squared\n",
    "\n",
    "summary(fit_robust)$r.squared\n",
    "summary(fit_robust)$adj.r.squared"
   ]
  },
  {
   "cell_type": "markdown",
   "id": "d1ec0c52-1873-4605-bdf9-904810535f0e",
   "metadata": {},
   "source": [
    "Vidím, že jsem dostal pomocí robustní regrese model, který má koeficienty determinace mnohem lepší než model lineární regrese, skoro dokonalé. Podle robustní regrese mám dva významné komponenty - Type a Income. Zkusím tedy robustní regrese na dvou významných regresorech."
   ]
  },
  {
   "cell_type": "code",
   "execution_count": 51,
   "id": "fbeeba35-0964-499c-a07e-0e97cf211b2b",
   "metadata": {
    "ExecuteTime": {
     "end_time": "2024-04-26T16:20:05.531466Z",
     "start_time": "2024-04-26T16:20:05.407704Z"
    }
   },
   "outputs": [
    {
     "data": {
      "text/plain": [
       "\n",
       "Call:\n",
       "lmrob(formula = Life ~ Type + Income, data = data)\n",
       " \\--> method = \"MM\"\n",
       "Residuals:\n",
       "      Min        1Q    Median        3Q       Max \n",
       "-13.16878  -1.41177  -0.07634   1.24822  15.54182 \n",
       "\n",
       "Coefficients:\n",
       "                Estimate Std. Error t value Pr(>|t|)    \n",
       "(Intercept)    6.880e+01  8.639e-01  79.635  < 2e-16 ***\n",
       "TypePetroleum -1.887e+01  8.679e-01 -21.737  < 2e-16 ***\n",
       "Income         7.447e-04  2.484e-04   2.998  0.00592 ** \n",
       "---\n",
       "Signif. codes:  0 '***' 0.001 '**' 0.01 '*' 0.05 '.' 0.1 ' ' 1\n",
       "\n",
       "Robust residual standard error: 2.116 \n",
       "Multiple R-squared:  0.9668,\tAdjusted R-squared:  0.9643 \n",
       "Convergence in 8 IRWLS iterations\n",
       "\n",
       "Robustness weights: \n",
       " 2 observations c(27,29) are outliers with |weight| = 0 ( < 0.0034); \n",
       " 2 weights are ~= 1. The remaining 25 ones are summarized as\n",
       "   Min. 1st Qu.  Median    Mean 3rd Qu.    Max. \n",
       "0.04707 0.92430 0.96400 0.91660 0.98840 0.99770 \n",
       "Algorithmic parameters: \n",
       "       tuning.chi                bb        tuning.psi        refine.tol           rel.tol         scale.tol         solve.tol          zero.tol \n",
       "        1.548e+00         5.000e-01         4.685e+00         1.000e-07         1.000e-07         1.000e-10         1.000e-07         1.000e-10 \n",
       "      eps.outlier             eps.x warn.limit.reject warn.limit.meanrw \n",
       "        3.448e-03         1.018e-08         5.000e-01         5.000e-01 \n",
       "     nResample         max.it       best.r.s       k.fast.s          k.max    maxit.scale      trace.lev            mts     compute.rd fast.s.large.n \n",
       "           500             50              2              1            200            200              0           1000              0           2000 \n",
       "                  psi           subsampling                   cov compute.outlier.stats \n",
       "           \"bisquare\"         \"nonsingular\"         \".vcov.avar1\"                  \"SM\" \n",
       "seed : int(0) "
      ]
     },
     "metadata": {},
     "output_type": "display_data"
    },
    {
     "data": {
      "text/html": [
       "0.969564896440447"
      ],
      "text/latex": [
       "0.969564896440447"
      ],
      "text/markdown": [
       "0.969564896440447"
      ],
      "text/plain": [
       "[1] 0.9695649"
      ]
     },
     "metadata": {},
     "output_type": "display_data"
    },
    {
     "data": {
      "text/html": [
       "0.965912684013301"
      ],
      "text/latex": [
       "0.965912684013301"
      ],
      "text/markdown": [
       "0.965912684013301"
      ],
      "text/plain": [
       "[1] 0.9659127"
      ]
     },
     "metadata": {},
     "output_type": "display_data"
    },
    {
     "data": {
      "text/html": [
       "0.9668065399121"
      ],
      "text/latex": [
       "0.9668065399121"
      ],
      "text/markdown": [
       "0.9668065399121"
      ],
      "text/plain": [
       "[1] 0.9668065"
      ]
     },
     "metadata": {},
     "output_type": "display_data"
    },
    {
     "data": {
      "text/html": [
       "0.964253196828415"
      ],
      "text/latex": [
       "0.964253196828415"
      ],
      "text/markdown": [
       "0.964253196828415"
      ],
      "text/plain": [
       "[1] 0.9642532"
      ]
     },
     "metadata": {},
     "output_type": "display_data"
    }
   ],
   "source": [
    "fit_type_income_robust <- lmrob(Life ~ Type + Income, data = data)\n",
    "summary(fit_type_income_robust)\n",
    "\n",
    "summary(fit_robust)$r.squared\n",
    "summary(fit_robust)$adj.r.squared\n",
    "\n",
    "summary(fit_type_income_robust)$r.squared\n",
    "summary(fit_type_income_robust)$adj.r.squared"
   ]
  },
  {
   "cell_type": "markdown",
   "id": "efafb4cf-3a01-46dd-af35-9e86396a4dd8",
   "metadata": {},
   "source": [
    "Koeficienty determinace se trochu zhoršili, ale dle zadání musím zvolit model jen s signifikántními regresory. Přestože koeficienty se zmenšili, oni jsou velmi dobré."
   ]
  },
  {
   "cell_type": "markdown",
   "id": "c4b405ca-cff5-459a-bc1d-e8259b30393d",
   "metadata": {},
   "source": [
    "Ted zkusím model logaritmické regrese."
   ]
  },
  {
   "cell_type": "code",
   "execution_count": 52,
   "id": "c14ac43d-f744-479a-87bc-8b6074522368",
   "metadata": {
    "ExecuteTime": {
     "end_time": "2024-04-26T16:20:06.171499Z",
     "start_time": "2024-04-26T16:20:06.059114Z"
    }
   },
   "outputs": [
    {
     "data": {
      "text/plain": [
       "\n",
       "Call:\n",
       "lm(formula = log(Life) ~ Type + Income + In_Europe, data = data)\n",
       "\n",
       "Residuals:\n",
       "      Min        1Q    Median        3Q       Max \n",
       "-0.276955 -0.015281  0.006075  0.017573  0.290385 \n",
       "\n",
       "Coefficients:\n",
       "                Estimate Std. Error t value Pr(>|t|)    \n",
       "(Intercept)    4.187e+00  7.503e-02  55.806  < 2e-16 ***\n",
       "TypePetroleum -3.055e-01  6.903e-02  -4.426 0.000165 ***\n",
       "Income         1.901e-05  1.608e-05   1.182 0.248237    \n",
       "In_Europe      1.855e-02  4.552e-02   0.408 0.687088    \n",
       "---\n",
       "Signif. codes:  0 '***' 0.001 '**' 0.01 '*' 0.05 '.' 0.1 ' ' 1\n",
       "\n",
       "Residual standard error: 0.09098 on 25 degrees of freedom\n",
       "Multiple R-squared:  0.8054,\tAdjusted R-squared:  0.782 \n",
       "F-statistic: 34.48 on 3 and 25 DF,  p-value: 4.851e-09\n"
      ]
     },
     "metadata": {},
     "output_type": "display_data"
    },
    {
     "data": {
      "text/html": [
       "0.832113127714923"
      ],
      "text/latex": [
       "0.832113127714923"
      ],
      "text/markdown": [
       "0.832113127714923"
      ],
      "text/plain": [
       "[1] 0.8321131"
      ]
     },
     "metadata": {},
     "output_type": "display_data"
    },
    {
     "data": {
      "text/html": [
       "0.825895095408068"
      ],
      "text/latex": [
       "0.825895095408068"
      ],
      "text/markdown": [
       "0.825895095408068"
      ],
      "text/plain": [
       "[1] 0.8258951"
      ]
     },
     "metadata": {},
     "output_type": "display_data"
    },
    {
     "data": {
      "text/html": [
       "0.805359306022178"
      ],
      "text/latex": [
       "0.805359306022178"
      ],
      "text/markdown": [
       "0.805359306022178"
      ],
      "text/plain": [
       "[1] 0.8053593"
      ]
     },
     "metadata": {},
     "output_type": "display_data"
    },
    {
     "data": {
      "text/html": [
       "0.78200242274484"
      ],
      "text/latex": [
       "0.78200242274484"
      ],
      "text/markdown": [
       "0.78200242274484"
      ],
      "text/plain": [
       "[1] 0.7820024"
      ]
     },
     "metadata": {},
     "output_type": "display_data"
    }
   ],
   "source": [
    "fit_type_log=lm(log(Life) ~ Type + Income + In_Europe,data=data)\n",
    "summary(fit_type_log)\n",
    "\n",
    "summary(fit_type)$r.squared\n",
    "summary(fit_type)$adj.r.squared\n",
    "\n",
    "summary(fit_type_log)$r.squared\n",
    "summary(fit_type_log)$adj.r.squared"
   ]
  },
  {
   "cell_type": "markdown",
   "id": "8209e00c-81a1-4763-a9fa-2c38e907626b",
   "metadata": {},
   "source": [
    "Logaritmická regrese ale zhoršila model, koeficienty determinace se zmenšili."
   ]
  },
  {
   "cell_type": "markdown",
   "id": "379d9256-104a-494b-917a-1795279b59ee",
   "metadata": {},
   "source": [
    "Na základě všech výše uvedených porovnání, konečně můžu udělat závěr, že ze všech prozkoumaných modelů finálním modelem můžu zvolit model robustní regrese na záklaldě dvou významných regresorů - Type a Income."
   ]
  },
  {
   "cell_type": "code",
   "execution_count": 53,
   "id": "8e0b6cc0-15b0-438a-8b1b-5dd0c3b6b942",
   "metadata": {
    "ExecuteTime": {
     "end_time": "2024-04-26T16:20:06.787388Z",
     "start_time": "2024-04-26T16:20:06.713269Z"
    }
   },
   "outputs": [
    {
     "data": {
      "text/plain": [
       "\n",
       "Call:\n",
       "lmrob(formula = Life ~ Type + Income, data = data)\n",
       " \\--> method = \"MM\"\n",
       "Residuals:\n",
       "      Min        1Q    Median        3Q       Max \n",
       "-13.16878  -1.41177  -0.07634   1.24822  15.54182 \n",
       "\n",
       "Coefficients:\n",
       "                Estimate Std. Error t value Pr(>|t|)    \n",
       "(Intercept)    6.880e+01  8.639e-01  79.635  < 2e-16 ***\n",
       "TypePetroleum -1.887e+01  8.679e-01 -21.737  < 2e-16 ***\n",
       "Income         7.447e-04  2.484e-04   2.998  0.00592 ** \n",
       "---\n",
       "Signif. codes:  0 '***' 0.001 '**' 0.01 '*' 0.05 '.' 0.1 ' ' 1\n",
       "\n",
       "Robust residual standard error: 2.116 \n",
       "Multiple R-squared:  0.9668,\tAdjusted R-squared:  0.9643 \n",
       "Convergence in 8 IRWLS iterations\n",
       "\n",
       "Robustness weights: \n",
       " 2 observations c(27,29) are outliers with |weight| = 0 ( < 0.0034); \n",
       " 2 weights are ~= 1. The remaining 25 ones are summarized as\n",
       "   Min. 1st Qu.  Median    Mean 3rd Qu.    Max. \n",
       "0.04707 0.92430 0.96400 0.91660 0.98840 0.99770 \n",
       "Algorithmic parameters: \n",
       "       tuning.chi                bb        tuning.psi        refine.tol           rel.tol         scale.tol         solve.tol          zero.tol \n",
       "        1.548e+00         5.000e-01         4.685e+00         1.000e-07         1.000e-07         1.000e-10         1.000e-07         1.000e-10 \n",
       "      eps.outlier             eps.x warn.limit.reject warn.limit.meanrw \n",
       "        3.448e-03         1.018e-08         5.000e-01         5.000e-01 \n",
       "     nResample         max.it       best.r.s       k.fast.s          k.max    maxit.scale      trace.lev            mts     compute.rd fast.s.large.n \n",
       "           500             50              2              1            200            200              0           1000              0           2000 \n",
       "                  psi           subsampling                   cov compute.outlier.stats \n",
       "           \"bisquare\"         \"nonsingular\"         \".vcov.avar1\"                  \"SM\" \n",
       "seed : int(0) "
      ]
     },
     "metadata": {},
     "output_type": "display_data"
    }
   ],
   "source": [
    "final_model <- lmrob(Life ~ Type + Income, data = data)\n",
    "summary(final_model)"
   ]
  },
  {
   "cell_type": "markdown",
   "id": "d469de93-bf6f-4afd-b6d5-c70108100bbb",
   "metadata": {},
   "source": [
    "=====================================================================================\n",
    "\n",
    "1. Odhady regresních koeficientů:\n",
    "    * Intercept: Odhadovaná hodnota délky života, když příjem na obyvatele a chybí týp země jsou 0, je přibližně 68 let. Podle p-hodnoty je statisticky významný.\n",
    "    * TypePetroleum: Koeficinet pro TypePetroleum je roven -18, což znamená, pokud je země vývozce ropy, tak sníží délka života o 18 let, jinak délka života se nezmění. Podle p-hodnoty je statisticky významný.\n",
    "    * Income: Koeficinet pro Income je roven přibližně 7.4x10^-4. Tedy na každý dolar příjmu připadá plus 7.4x10^-4 let. Podle p-hodnoty je statisticky významný.\n",
    "\n",
    "2. Kvalita modelu:\n",
    "    * Robustní rozptyl reziduí: Standardní chyba reziduí je přibližně 2.116.\n",
    "    * Multiple R-squared a Adjusted R-squared: Obyčejný koeficient determinace je roven 0.9668. Model vysvětluje přibližně 96.68% variance v délce života. Adjustovaný koeficent determinace, který bere v úvahu počet prediktorů, je přibližně 96.43%.\n",
    "      \n",
    "====================================================================================="
   ]
  },
  {
   "cell_type": "markdown",
   "id": "ef506ff3-374b-4db1-834c-78108fdceb1e",
   "metadata": {},
   "source": [
    "Uděláme predikce pomocí finálního modelu."
   ]
  },
  {
   "cell_type": "code",
   "execution_count": 54,
   "id": "764bde96-20f8-46ef-ab82-080611b91e54",
   "metadata": {
    "ExecuteTime": {
     "end_time": "2024-04-26T16:20:07.117758Z",
     "start_time": "2024-04-26T16:20:07.028968Z"
    }
   },
   "outputs": [
    {
     "name": "stderr",
     "output_type": "stream",
     "text": [
      "Warning message in predict.lmrob(fit_type_income_robust, interval = \"prediction\"):\n",
      "\"Predictions on current data refer to _future_ responses\"\n"
     ]
    },
    {
     "data": {
      "text/html": [
       "<table class=\"dataframe\">\n",
       "<caption>A data.frame: 29 × 8</caption>\n",
       "<thead>\n",
       "\t<tr><th></th><th scope=col>Country</th><th scope=col>Life</th><th scope=col>Income</th><th scope=col>Type</th><th scope=col>In_Europe</th><th scope=col>fit</th><th scope=col>lwr</th><th scope=col>upr</th></tr>\n",
       "\t<tr><th></th><th scope=col>&lt;chr&gt;</th><th scope=col>&lt;dbl&gt;</th><th scope=col>&lt;dbl&gt;</th><th scope=col>&lt;fct&gt;</th><th scope=col>&lt;dbl&gt;</th><th scope=col>&lt;dbl&gt;</th><th scope=col>&lt;dbl&gt;</th><th scope=col>&lt;dbl&gt;</th></tr>\n",
       "</thead>\n",
       "<tbody>\n",
       "\t<tr><th scope=row>1</th><td>Australia    </td><td>71.0</td><td>3426</td><td>Industrialized</td><td>0</td><td>71.35123</td><td>66.94640</td><td>75.75607</td></tr>\n",
       "\t<tr><th scope=row>2</th><td>Austria      </td><td>70.4</td><td>3350</td><td>Industrialized</td><td>1</td><td>71.29463</td><td>66.89060</td><td>75.69867</td></tr>\n",
       "\t<tr><th scope=row>3</th><td>Belgium      </td><td>70.6</td><td>3346</td><td>Industrialized</td><td>1</td><td>71.29165</td><td>66.88765</td><td>75.69566</td></tr>\n",
       "\t<tr><th scope=row>4</th><td>Canada       </td><td>72.0</td><td>4751</td><td>Industrialized</td><td>0</td><td>72.33799</td><td>67.86484</td><td>76.81113</td></tr>\n",
       "\t<tr><th scope=row>5</th><td>Denmark      </td><td>73.3</td><td>5029</td><td>Industrialized</td><td>1</td><td>72.54502</td><td>68.04475</td><td>77.04529</td></tr>\n",
       "\t<tr><th scope=row>6</th><td>Finland      </td><td>69.8</td><td>3312</td><td>Industrialized</td><td>1</td><td>71.26633</td><td>66.86257</td><td>75.67010</td></tr>\n",
       "\t<tr><th scope=row>7</th><td>France       </td><td>72.3</td><td>3403</td><td>Industrialized</td><td>1</td><td>71.33410</td><td>66.92955</td><td>75.73866</td></tr>\n",
       "\t<tr><th scope=row>8</th><td>West_Germany </td><td>70.3</td><td>5040</td><td>Industrialized</td><td>1</td><td>72.55321</td><td>68.05178</td><td>77.05465</td></tr>\n",
       "\t<tr><th scope=row>9</th><td>Ireland      </td><td>70.7</td><td>2009</td><td>Industrialized</td><td>1</td><td>70.29596</td><td>65.84993</td><td>74.74199</td></tr>\n",
       "\t<tr><th scope=row>10</th><td>Italy        </td><td>70.6</td><td>2298</td><td>Industrialized</td><td>1</td><td>70.51119</td><td>66.08312</td><td>74.93926</td></tr>\n",
       "\t<tr><th scope=row>11</th><td>Japan        </td><td>73.2</td><td>3292</td><td>Industrialized</td><td>0</td><td>71.25144</td><td>66.84778</td><td>75.65510</td></tr>\n",
       "\t<tr><th scope=row>12</th><td>Netherlands  </td><td>73.8</td><td>4103</td><td>Industrialized</td><td>1</td><td>71.85541</td><td>67.42844</td><td>76.28237</td></tr>\n",
       "\t<tr><th scope=row>13</th><td>NewZealand   </td><td>71.1</td><td>3723</td><td>Industrialized</td><td>0</td><td>71.57241</td><td>67.16119</td><td>75.98364</td></tr>\n",
       "\t<tr><th scope=row>14</th><td>Norway       </td><td>73.9</td><td>4102</td><td>Industrialized</td><td>1</td><td>71.85466</td><td>67.42775</td><td>76.28158</td></tr>\n",
       "\t<tr><th scope=row>15</th><td>Portugal     </td><td>68.1</td><td> 956</td><td>Industrialized</td><td>1</td><td>69.51177</td><td>64.96025</td><td>74.06329</td></tr>\n",
       "\t<tr><th scope=row>16</th><td>South_Africa </td><td>68.2</td><td>3617</td><td>Industrialized</td><td>0</td><td>71.49347</td><td>67.08513</td><td>75.90182</td></tr>\n",
       "\t<tr><th scope=row>17</th><td>Sweden       </td><td>74.7</td><td>5596</td><td>Industrialized</td><td>1</td><td>72.96728</td><td>68.39848</td><td>77.53607</td></tr>\n",
       "\t<tr><th scope=row>18</th><td>Switzerland  </td><td>72.1</td><td>2963</td><td>Industrialized</td><td>1</td><td>71.00643</td><td>66.60114</td><td>75.41171</td></tr>\n",
       "\t<tr><th scope=row>19</th><td>Britain      </td><td>72.0</td><td>2503</td><td>Industrialized</td><td>1</td><td>70.66385</td><td>66.24558</td><td>75.08213</td></tr>\n",
       "\t<tr><th scope=row>20</th><td>United_States</td><td>71.3</td><td>5523</td><td>Industrialized</td><td>0</td><td>72.91291</td><td>68.35391</td><td>77.47191</td></tr>\n",
       "\t<tr><th scope=row>21</th><td>Algeria      </td><td>50.7</td><td> 430</td><td>Petroleum     </td><td>0</td><td>50.25496</td><td>45.55528</td><td>54.95464</td></tr>\n",
       "\t<tr><th scope=row>22</th><td>Ecuador      </td><td>52.3</td><td> 360</td><td>Petroleum     </td><td>0</td><td>50.20283</td><td>45.49716</td><td>54.90850</td></tr>\n",
       "\t<tr><th scope=row>23</th><td>Indonesia    </td><td>47.5</td><td> 110</td><td>Petroleum     </td><td>0</td><td>50.01665</td><td>45.28744</td><td>54.74586</td></tr>\n",
       "\t<tr><th scope=row>24</th><td>Iran         </td><td>50.0</td><td>1280</td><td>Petroleum     </td><td>0</td><td>50.88797</td><td>46.23969</td><td>55.53626</td></tr>\n",
       "\t<tr><th scope=row>25</th><td>Iraq         </td><td>51.6</td><td> 560</td><td>Petroleum     </td><td>0</td><td>50.35177</td><td>45.66252</td><td>55.04103</td></tr>\n",
       "\t<tr><th scope=row>26</th><td>Libya        </td><td>52.1</td><td>3010</td><td>Petroleum     </td><td>0</td><td>52.17634</td><td>47.50808</td><td>56.84460</td></tr>\n",
       "\t<tr><th scope=row>27</th><td>Nigeria      </td><td>36.9</td><td> 180</td><td>Petroleum     </td><td>0</td><td>50.06878</td><td>45.34649</td><td>54.79107</td></tr>\n",
       "\t<tr><th scope=row>28</th><td>Saudi_Arabia </td><td>42.3</td><td>1530</td><td>Petroleum     </td><td>0</td><td>51.07415</td><td>46.43336</td><td>55.71495</td></tr>\n",
       "\t<tr><th scope=row>29</th><td>Venezuela    </td><td>66.4</td><td>1240</td><td>Petroleum     </td><td>0</td><td>50.85818</td><td>46.20837</td><td>55.50799</td></tr>\n",
       "</tbody>\n",
       "</table>\n"
      ],
      "text/latex": [
       "A data.frame: 29 × 8\n",
       "\\begin{tabular}{r|llllllll}\n",
       "  & Country & Life & Income & Type & In\\_Europe & fit & lwr & upr\\\\\n",
       "  & <chr> & <dbl> & <dbl> & <fct> & <dbl> & <dbl> & <dbl> & <dbl>\\\\\n",
       "\\hline\n",
       "\t1 & Australia     & 71.0 & 3426 & Industrialized & 0 & 71.35123 & 66.94640 & 75.75607\\\\\n",
       "\t2 & Austria       & 70.4 & 3350 & Industrialized & 1 & 71.29463 & 66.89060 & 75.69867\\\\\n",
       "\t3 & Belgium       & 70.6 & 3346 & Industrialized & 1 & 71.29165 & 66.88765 & 75.69566\\\\\n",
       "\t4 & Canada        & 72.0 & 4751 & Industrialized & 0 & 72.33799 & 67.86484 & 76.81113\\\\\n",
       "\t5 & Denmark       & 73.3 & 5029 & Industrialized & 1 & 72.54502 & 68.04475 & 77.04529\\\\\n",
       "\t6 & Finland       & 69.8 & 3312 & Industrialized & 1 & 71.26633 & 66.86257 & 75.67010\\\\\n",
       "\t7 & France        & 72.3 & 3403 & Industrialized & 1 & 71.33410 & 66.92955 & 75.73866\\\\\n",
       "\t8 & West\\_Germany  & 70.3 & 5040 & Industrialized & 1 & 72.55321 & 68.05178 & 77.05465\\\\\n",
       "\t9 & Ireland       & 70.7 & 2009 & Industrialized & 1 & 70.29596 & 65.84993 & 74.74199\\\\\n",
       "\t10 & Italy         & 70.6 & 2298 & Industrialized & 1 & 70.51119 & 66.08312 & 74.93926\\\\\n",
       "\t11 & Japan         & 73.2 & 3292 & Industrialized & 0 & 71.25144 & 66.84778 & 75.65510\\\\\n",
       "\t12 & Netherlands   & 73.8 & 4103 & Industrialized & 1 & 71.85541 & 67.42844 & 76.28237\\\\\n",
       "\t13 & NewZealand    & 71.1 & 3723 & Industrialized & 0 & 71.57241 & 67.16119 & 75.98364\\\\\n",
       "\t14 & Norway        & 73.9 & 4102 & Industrialized & 1 & 71.85466 & 67.42775 & 76.28158\\\\\n",
       "\t15 & Portugal      & 68.1 &  956 & Industrialized & 1 & 69.51177 & 64.96025 & 74.06329\\\\\n",
       "\t16 & South\\_Africa  & 68.2 & 3617 & Industrialized & 0 & 71.49347 & 67.08513 & 75.90182\\\\\n",
       "\t17 & Sweden        & 74.7 & 5596 & Industrialized & 1 & 72.96728 & 68.39848 & 77.53607\\\\\n",
       "\t18 & Switzerland   & 72.1 & 2963 & Industrialized & 1 & 71.00643 & 66.60114 & 75.41171\\\\\n",
       "\t19 & Britain       & 72.0 & 2503 & Industrialized & 1 & 70.66385 & 66.24558 & 75.08213\\\\\n",
       "\t20 & United\\_States & 71.3 & 5523 & Industrialized & 0 & 72.91291 & 68.35391 & 77.47191\\\\\n",
       "\t21 & Algeria       & 50.7 &  430 & Petroleum      & 0 & 50.25496 & 45.55528 & 54.95464\\\\\n",
       "\t22 & Ecuador       & 52.3 &  360 & Petroleum      & 0 & 50.20283 & 45.49716 & 54.90850\\\\\n",
       "\t23 & Indonesia     & 47.5 &  110 & Petroleum      & 0 & 50.01665 & 45.28744 & 54.74586\\\\\n",
       "\t24 & Iran          & 50.0 & 1280 & Petroleum      & 0 & 50.88797 & 46.23969 & 55.53626\\\\\n",
       "\t25 & Iraq          & 51.6 &  560 & Petroleum      & 0 & 50.35177 & 45.66252 & 55.04103\\\\\n",
       "\t26 & Libya         & 52.1 & 3010 & Petroleum      & 0 & 52.17634 & 47.50808 & 56.84460\\\\\n",
       "\t27 & Nigeria       & 36.9 &  180 & Petroleum      & 0 & 50.06878 & 45.34649 & 54.79107\\\\\n",
       "\t28 & Saudi\\_Arabia  & 42.3 & 1530 & Petroleum      & 0 & 51.07415 & 46.43336 & 55.71495\\\\\n",
       "\t29 & Venezuela     & 66.4 & 1240 & Petroleum      & 0 & 50.85818 & 46.20837 & 55.50799\\\\\n",
       "\\end{tabular}\n"
      ],
      "text/markdown": [
       "\n",
       "A data.frame: 29 × 8\n",
       "\n",
       "| <!--/--> | Country &lt;chr&gt; | Life &lt;dbl&gt; | Income &lt;dbl&gt; | Type &lt;fct&gt; | In_Europe &lt;dbl&gt; | fit &lt;dbl&gt; | lwr &lt;dbl&gt; | upr &lt;dbl&gt; |\n",
       "|---|---|---|---|---|---|---|---|---|\n",
       "| 1 | Australia     | 71.0 | 3426 | Industrialized | 0 | 71.35123 | 66.94640 | 75.75607 |\n",
       "| 2 | Austria       | 70.4 | 3350 | Industrialized | 1 | 71.29463 | 66.89060 | 75.69867 |\n",
       "| 3 | Belgium       | 70.6 | 3346 | Industrialized | 1 | 71.29165 | 66.88765 | 75.69566 |\n",
       "| 4 | Canada        | 72.0 | 4751 | Industrialized | 0 | 72.33799 | 67.86484 | 76.81113 |\n",
       "| 5 | Denmark       | 73.3 | 5029 | Industrialized | 1 | 72.54502 | 68.04475 | 77.04529 |\n",
       "| 6 | Finland       | 69.8 | 3312 | Industrialized | 1 | 71.26633 | 66.86257 | 75.67010 |\n",
       "| 7 | France        | 72.3 | 3403 | Industrialized | 1 | 71.33410 | 66.92955 | 75.73866 |\n",
       "| 8 | West_Germany  | 70.3 | 5040 | Industrialized | 1 | 72.55321 | 68.05178 | 77.05465 |\n",
       "| 9 | Ireland       | 70.7 | 2009 | Industrialized | 1 | 70.29596 | 65.84993 | 74.74199 |\n",
       "| 10 | Italy         | 70.6 | 2298 | Industrialized | 1 | 70.51119 | 66.08312 | 74.93926 |\n",
       "| 11 | Japan         | 73.2 | 3292 | Industrialized | 0 | 71.25144 | 66.84778 | 75.65510 |\n",
       "| 12 | Netherlands   | 73.8 | 4103 | Industrialized | 1 | 71.85541 | 67.42844 | 76.28237 |\n",
       "| 13 | NewZealand    | 71.1 | 3723 | Industrialized | 0 | 71.57241 | 67.16119 | 75.98364 |\n",
       "| 14 | Norway        | 73.9 | 4102 | Industrialized | 1 | 71.85466 | 67.42775 | 76.28158 |\n",
       "| 15 | Portugal      | 68.1 |  956 | Industrialized | 1 | 69.51177 | 64.96025 | 74.06329 |\n",
       "| 16 | South_Africa  | 68.2 | 3617 | Industrialized | 0 | 71.49347 | 67.08513 | 75.90182 |\n",
       "| 17 | Sweden        | 74.7 | 5596 | Industrialized | 1 | 72.96728 | 68.39848 | 77.53607 |\n",
       "| 18 | Switzerland   | 72.1 | 2963 | Industrialized | 1 | 71.00643 | 66.60114 | 75.41171 |\n",
       "| 19 | Britain       | 72.0 | 2503 | Industrialized | 1 | 70.66385 | 66.24558 | 75.08213 |\n",
       "| 20 | United_States | 71.3 | 5523 | Industrialized | 0 | 72.91291 | 68.35391 | 77.47191 |\n",
       "| 21 | Algeria       | 50.7 |  430 | Petroleum      | 0 | 50.25496 | 45.55528 | 54.95464 |\n",
       "| 22 | Ecuador       | 52.3 |  360 | Petroleum      | 0 | 50.20283 | 45.49716 | 54.90850 |\n",
       "| 23 | Indonesia     | 47.5 |  110 | Petroleum      | 0 | 50.01665 | 45.28744 | 54.74586 |\n",
       "| 24 | Iran          | 50.0 | 1280 | Petroleum      | 0 | 50.88797 | 46.23969 | 55.53626 |\n",
       "| 25 | Iraq          | 51.6 |  560 | Petroleum      | 0 | 50.35177 | 45.66252 | 55.04103 |\n",
       "| 26 | Libya         | 52.1 | 3010 | Petroleum      | 0 | 52.17634 | 47.50808 | 56.84460 |\n",
       "| 27 | Nigeria       | 36.9 |  180 | Petroleum      | 0 | 50.06878 | 45.34649 | 54.79107 |\n",
       "| 28 | Saudi_Arabia  | 42.3 | 1530 | Petroleum      | 0 | 51.07415 | 46.43336 | 55.71495 |\n",
       "| 29 | Venezuela     | 66.4 | 1240 | Petroleum      | 0 | 50.85818 | 46.20837 | 55.50799 |\n",
       "\n"
      ],
      "text/plain": [
       "   Country       Life Income Type           In_Europe fit      lwr      upr     \n",
       "1  Australia     71.0 3426   Industrialized 0         71.35123 66.94640 75.75607\n",
       "2  Austria       70.4 3350   Industrialized 1         71.29463 66.89060 75.69867\n",
       "3  Belgium       70.6 3346   Industrialized 1         71.29165 66.88765 75.69566\n",
       "4  Canada        72.0 4751   Industrialized 0         72.33799 67.86484 76.81113\n",
       "5  Denmark       73.3 5029   Industrialized 1         72.54502 68.04475 77.04529\n",
       "6  Finland       69.8 3312   Industrialized 1         71.26633 66.86257 75.67010\n",
       "7  France        72.3 3403   Industrialized 1         71.33410 66.92955 75.73866\n",
       "8  West_Germany  70.3 5040   Industrialized 1         72.55321 68.05178 77.05465\n",
       "9  Ireland       70.7 2009   Industrialized 1         70.29596 65.84993 74.74199\n",
       "10 Italy         70.6 2298   Industrialized 1         70.51119 66.08312 74.93926\n",
       "11 Japan         73.2 3292   Industrialized 0         71.25144 66.84778 75.65510\n",
       "12 Netherlands   73.8 4103   Industrialized 1         71.85541 67.42844 76.28237\n",
       "13 NewZealand    71.1 3723   Industrialized 0         71.57241 67.16119 75.98364\n",
       "14 Norway        73.9 4102   Industrialized 1         71.85466 67.42775 76.28158\n",
       "15 Portugal      68.1  956   Industrialized 1         69.51177 64.96025 74.06329\n",
       "16 South_Africa  68.2 3617   Industrialized 0         71.49347 67.08513 75.90182\n",
       "17 Sweden        74.7 5596   Industrialized 1         72.96728 68.39848 77.53607\n",
       "18 Switzerland   72.1 2963   Industrialized 1         71.00643 66.60114 75.41171\n",
       "19 Britain       72.0 2503   Industrialized 1         70.66385 66.24558 75.08213\n",
       "20 United_States 71.3 5523   Industrialized 0         72.91291 68.35391 77.47191\n",
       "21 Algeria       50.7  430   Petroleum      0         50.25496 45.55528 54.95464\n",
       "22 Ecuador       52.3  360   Petroleum      0         50.20283 45.49716 54.90850\n",
       "23 Indonesia     47.5  110   Petroleum      0         50.01665 45.28744 54.74586\n",
       "24 Iran          50.0 1280   Petroleum      0         50.88797 46.23969 55.53626\n",
       "25 Iraq          51.6  560   Petroleum      0         50.35177 45.66252 55.04103\n",
       "26 Libya         52.1 3010   Petroleum      0         52.17634 47.50808 56.84460\n",
       "27 Nigeria       36.9  180   Petroleum      0         50.06878 45.34649 54.79107\n",
       "28 Saudi_Arabia  42.3 1530   Petroleum      0         51.07415 46.43336 55.71495\n",
       "29 Venezuela     66.4 1240   Petroleum      0         50.85818 46.20837 55.50799"
      ]
     },
     "metadata": {},
     "output_type": "display_data"
    }
   ],
   "source": [
    "tmp <- predict(fit_type_income_robust, interval=\"prediction\")\n",
    "predict <- cbind(data, tmp)\n",
    "predict"
   ]
  },
  {
   "cell_type": "markdown",
   "id": "b48ac65e-9d2d-43a7-90c5-cbb0789edfb9",
   "metadata": {},
   "source": [
    "Podle mého názoru náš finální model není tak špatný, skoro všechny body jsou přibližně predikovany správně, ale vyjímkou jsou outliery, i přesto náš finální model je modelem robustní regrese."
   ]
  },
  {
   "cell_type": "markdown",
   "id": "fe6184b8-cae3-486e-9cef-d985595f50ef",
   "metadata": {},
   "source": [
    "## Ověření předpokladů finálního modelu"
   ]
  },
  {
   "cell_type": "markdown",
   "id": "c788810e-6dbc-4922-831a-e0eb0240fb07",
   "metadata": {},
   "source": [
    "Náš finální model je model robustní regrese. Předpoklady robustního regresního modelu jsou linearita, normalita reziduí, homoskedasticita, nezávislost reziduí, multikolinearita."
   ]
  },
  {
   "cell_type": "markdown",
   "id": "888693cd-be86-417f-9287-dcaaa5a717f3",
   "metadata": {},
   "source": [
    "### Ověření linearity"
   ]
  },
  {
   "cell_type": "code",
   "execution_count": 55,
   "id": "068bd0fc-33d1-4de7-b9dc-5e6a327c15b2",
   "metadata": {
    "ExecuteTime": {
     "end_time": "2024-04-26T16:20:08.429440Z",
     "start_time": "2024-04-26T16:20:08.283382Z"
    }
   },
   "outputs": [
    {
     "data": {
      "image/png": "[encoded data removed]",
      "text/plain": [
       "Plot with title \"Residuals vs Fitted Values\""
      ]
     },
     "metadata": {
      "image/png": {
       "height": 480,
       "width": 720
      }
     },
     "output_type": "display_data"
    }
   ],
   "source": [
    "residuals <- residuals(final_model)\n",
    "plot(fitted(fit_type_income_robust), residuals, main = \"Residuals vs Fitted Values\")\n",
    "abline(h = 0, col = \"red\")"
   ]
  },
  {
   "cell_type": "markdown",
   "id": "10530fa0-229d-4e6c-a215-e6b5b37b58ab",
   "metadata": {},
   "source": [
    "Ideálně bylo by, pokud by body v scatterplotu byly rovnoměrně rozptýleny kolem horizontální čáry nulových reziduí. Ale vidím z plotu, že červená přímka ideálně rovně leží."
   ]
  },
  {
   "cell_type": "markdown",
   "id": "12a4c6c1-7990-461f-8cda-70d8ddcbdc9a",
   "metadata": {},
   "source": [
    "### Ověření homoskedasticity"
   ]
  },
  {
   "cell_type": "code",
   "execution_count": 56,
   "id": "e239eb45-6413-483f-88f1-dafd1f8ba8bf",
   "metadata": {
    "ExecuteTime": {
     "end_time": "2024-04-26T16:20:08.732045Z",
     "start_time": "2024-04-26T16:20:08.688577Z"
    }
   },
   "outputs": [
    {
     "data": {
      "text/plain": [
       "\n",
       "\tstudentized Breusch-Pagan test\n",
       "\n",
       "data:  fit_type_income_robust\n",
       "BP = 5.8921, df = 2, p-value = 0.05255\n"
      ]
     },
     "metadata": {},
     "output_type": "display_data"
    }
   ],
   "source": [
    "bptest(fit_type_income_robust)"
   ]
  },
  {
   "cell_type": "markdown",
   "id": "977437f6-fd54-4b0a-8f3e-ac57a2576851",
   "metadata": {},
   "source": [
    "Protože p-hodnota (0.05255) je vyšší než 0.05 na hladině významnosti 5%, nulovou hypotézu o homoskedasticitě nezamítáme. To naznačuje, že neexistuje silný důkaz pro závěr, že rozptyl reziduí není konstantní na všech úrovních nezávislých proměnných. Stojí však za povšimnutí, že p-hodnota se blíží 0.05, což naznačuje hraniční významnost. "
   ]
  },
  {
   "cell_type": "markdown",
   "id": "18289b2e-f2cc-438c-828f-707b495e13a4",
   "metadata": {},
   "source": [
    "### Ověření nezávislost reziduí"
   ]
  },
  {
   "cell_type": "code",
   "execution_count": 57,
   "id": "cbd69fa7-71c9-40b1-83df-ded93b43c50e",
   "metadata": {
    "ExecuteTime": {
     "end_time": "2024-04-26T16:20:09.094135Z",
     "start_time": "2024-04-26T16:20:09.036866Z"
    }
   },
   "outputs": [
    {
     "data": {
      "text/html": [
       "1.66612267663263"
      ],
      "text/latex": [
       "1.66612267663263"
      ],
      "text/markdown": [
       "1.66612267663263"
      ],
      "text/plain": [
       "[1] 1.666123"
      ]
     },
     "metadata": {},
     "output_type": "display_data"
    }
   ],
   "source": [
    "durbinWatsonTest(residuals)"
   ]
  },
  {
   "cell_type": "markdown",
   "id": "201446d0-5c7b-4e90-80ac-e0879afed74e",
   "metadata": {},
   "source": [
    "Ve našem případě se hodnota 1.666 blíží spíše 2 než 0, což naznačuje přítomnost nulovou autokorelace, ale není tak blízká 2, proto nemůžeme jistě říct, že není vůbec žádná autokorelace."
   ]
  },
  {
   "cell_type": "markdown",
   "id": "0612fd5c-6fdb-474f-aa4d-64509bfe2522",
   "metadata": {},
   "source": [
    "### Ověření normality"
   ]
  },
  {
   "cell_type": "code",
   "execution_count": 58,
   "id": "95ae61d1-2103-4c1e-ad05-2023bd1dc40d",
   "metadata": {
    "ExecuteTime": {
     "end_time": "2024-04-26T16:20:09.612895Z",
     "start_time": "2024-04-26T16:20:09.585278Z"
    }
   },
   "outputs": [
    {
     "data": {
      "text/plain": [
       "\n",
       "\tShapiro-Wilk normality test\n",
       "\n",
       "data:  residuals(final_model)\n",
       "W = 0.74986, p-value = 1.19e-05\n"
      ]
     },
     "metadata": {},
     "output_type": "display_data"
    }
   ],
   "source": [
    "shapiro.test(residuals(final_model))"
   ]
  },
  {
   "cell_type": "markdown",
   "id": "9294db33-0ec3-4522-9db9-4cc23add01c3",
   "metadata": {},
   "source": [
    "V našem případě je p-hodnota je 1,19e-05 (což je velmi blízko nule). To naznačuje, že rezidua našeho konečného modelu nejsou normálně rozdělena."
   ]
  },
  {
   "cell_type": "code",
   "execution_count": 59,
   "id": "682f0971-905a-4ee2-be25-c0e9e9fe4479",
   "metadata": {
    "ExecuteTime": {
     "end_time": "2024-04-26T16:20:09.898276Z",
     "start_time": "2024-04-26T16:20:09.772833Z"
    }
   },
   "outputs": [
    {
     "data": {
      "image/png": "[encoded data removed]",
      "text/plain": [
       "Plot with title \"Normal Q-Q Plot\""
      ]
     },
     "metadata": {
      "image/png": {
       "height": 480,
       "width": 720
      }
     },
     "output_type": "display_data"
    }
   ],
   "source": [
    "qqnorm(residuals(final_model))\n",
    "qqline(residuals)"
   ]
  },
  {
   "cell_type": "markdown",
   "id": "8d989877-f2a5-49ce-baf4-3ee8b5161df8",
   "metadata": {},
   "source": [
    "Většina bodů leží na přímce na Q-Q plotu, ale problémem jsou stále odlehlé hodnoty."
   ]
  },
  {
   "cell_type": "code",
   "execution_count": 60,
   "id": "b3bf4fdc-b450-46c8-bc75-5da21211ce94",
   "metadata": {
    "ExecuteTime": {
     "end_time": "2024-04-26T16:20:10.314140Z",
     "start_time": "2024-04-26T16:20:10.181545Z"
    }
   },
   "outputs": [
    {
     "data": {
      "image/png": "[encoded data removed]",
      "text/plain": [
       "Plot with title \"Histogram of Residuals\""
      ]
     },
     "metadata": {
      "image/png": {
       "height": 480,
       "width": 720
      }
     },
     "output_type": "display_data"
    }
   ],
   "source": [
    "hist(residuals, main = \"Histogram of Residuals\")"
   ]
  },
  {
   "cell_type": "markdown",
   "id": "a2584cf7-1795-4df3-97e0-572ff1688627",
   "metadata": {},
   "source": [
    "Ideálně by histogram měl být přibližně normální, což v našem případě se bohužel nestalo. Vizulálně výpadá jako Gaussian, ale s mezerami. "
   ]
  },
  {
   "cell_type": "markdown",
   "id": "03ffa6f9-d820-4e64-826b-f0df74e3227b",
   "metadata": {},
   "source": [
    "### Ověření multikolinearity"
   ]
  },
  {
   "cell_type": "code",
   "execution_count": 61,
   "id": "72e540e4-be71-4f57-b8a2-46d4f2e8a6e7",
   "metadata": {
    "ExecuteTime": {
     "end_time": "2024-04-26T16:20:11.014Z",
     "start_time": "2024-04-26T16:20:10.943341Z"
    }
   },
   "outputs": [
    {
     "data": {
      "text/html": [
       "<style>\n",
       ".dl-inline {width: auto; margin:0; padding: 0}\n",
       ".dl-inline>dt, .dl-inline>dd {float: none; width: auto; display: inline-block}\n",
       ".dl-inline>dt::after {content: \":\\0020\"; padding-right: .5ex}\n",
       ".dl-inline>dt:not(:first-of-type) {padding-left: .5ex}\n",
       "</style><dl class=dl-inline><dt>Type</dt><dd>1.15286393494863</dd><dt>Income</dt><dd>1.15286393494863</dd></dl>\n"
      ],
      "text/latex": [
       "\\begin{description*}\n",
       "\\item[Type] 1.15286393494863\n",
       "\\item[Income] 1.15286393494863\n",
       "\\end{description*}\n"
      ],
      "text/markdown": [
       "Type\n",
       ":   1.15286393494863Income\n",
       ":   1.15286393494863\n",
       "\n"
      ],
      "text/plain": [
       "    Type   Income \n",
       "1.152864 1.152864 "
      ]
     },
     "metadata": {},
     "output_type": "display_data"
    }
   ],
   "source": [
    "vif(final_model)"
   ]
  },
  {
   "cell_type": "markdown",
   "id": "bf27a63c-f46a-4bce-830e-7b87cc312228",
   "metadata": {},
   "source": [
    "Ve našem případě mají obě predikční proměnné hodnotu VIF přibližně 1,15. Tyto hodnoty jsou hluboko pod prahovou hodnotou 5, což naznačuje, že multikolinearita není ve našem modelu významným problémem.\n",
    "\n",
    "Nízké hodnoty VIF naznačují, že predikční proměnné nejsou vzájemně vysoce korelované, což je žádoucí pro interpretaci jednotlivých účinků jednotlivých prediktorů na proměnnou odezvy."
   ]
  },
  {
   "cell_type": "code",
   "execution_count": null,
   "id": "10ffce14-7bc4-4fa9-b537-dbd54660265c",
   "metadata": {
    "ExecuteTime": {
     "end_time": "2024-04-26T16:20:11.276206Z",
     "start_time": "2024-04-26T16:20:11.242927Z"
    }
   },
   "outputs": [],
   "source": []
  }
 ],
 "metadata": {
  "kernelspec": {
   "display_name": "R",
   "language": "R",
   "name": "ir"
  },
  "language_info": {
   "codemirror_mode": "r",
   "file_extension": ".r",
   "mimetype": "text/x-r-source",
   "name": "R",
   "pygments_lexer": "r",
   "version": "4.3.2"
  }
 },
 "nbformat": 4,
 "nbformat_minor": 5
}
