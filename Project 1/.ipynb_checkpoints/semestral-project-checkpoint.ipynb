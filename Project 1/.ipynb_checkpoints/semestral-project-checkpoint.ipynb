{
 "cells": [
  {
   "cell_type": "code",
   "execution_count": 1,
   "id": "b0269647-0acf-4fa8-96fb-05c8c777f8bc",
   "metadata": {
    "ExecuteTime": {
     "end_time": "2024-04-06T18:13:41.954010Z",
     "start_time": "2024-04-06T18:13:38.748440Z"
    },
    "editable": true,
    "slideshow": {
     "slide_type": ""
    },
    "tags": []
   },
   "outputs": [
    {
     "name": "stderr",
     "output_type": "stream",
     "text": [
      "\n",
      "Attaching package: 'dplyr'\n",
      "\n",
      "\n",
      "The following objects are masked from 'package:stats':\n",
      "\n",
      "    filter, lag\n",
      "\n",
      "\n",
      "The following objects are masked from 'package:base':\n",
      "\n",
      "    intersect, setdiff, setequal, union\n",
      "\n",
      "\n",
      "Warning message:\n",
      "\"package 'gridExtra' was built under R version 4.3.3\"\n",
      "\n",
      "Attaching package: 'gridExtra'\n",
      "\n",
      "\n",
      "The following object is masked from 'package:dplyr':\n",
      "\n",
      "    combine\n",
      "\n",
      "\n"
     ]
    }
   ],
   "source": [
    "#.libPaths(\"/home/senyaaa/BI-PRS/packages\")\n",
    "#.libPaths(\"/home/kostyadovnar/CVUT/BI-PRS/packages\")\n",
    "#paths(\"~/tmp/bi-prs/\")\n",
    "# install.packages('dplyr')\n",
    "# install.packages('gridExtra')\n",
    "\n",
    "library(dplyr) # download too\n",
    "library(eurostat)\n",
    "library(ggplot2)\n",
    "library(gridExtra) # download too\n",
    "library(cowplot)"
   ]
  },
  {
   "cell_type": "code",
   "execution_count": 2,
   "id": "c82dee89-8231-4e78-a785-29fd994843c3",
   "metadata": {
    "ExecuteTime": {
     "end_time": "2024-04-06T18:13:42.028321Z",
     "start_time": "2024-04-06T18:13:41.962351Z"
    }
   },
   "outputs": [
    {
     "name": "stdout",
     "output_type": "stream",
     "text": [
      "[1] 1\n"
     ]
    }
   ],
   "source": [
    "surname <- \"pogodin\"\n",
    "L <- nchar(surname)\n",
    "K <- 4\n",
    "M <- ((K + L) * 47) %% 11 + 1\n",
    "print(M)"
   ]
  },
  {
   "cell_type": "code",
   "execution_count": 3,
   "id": "e8f7fa1d-cd47-468b-be1b-6549e02a28c7",
   "metadata": {
    "ExecuteTime": {
     "end_time": "2024-04-06T18:13:44.111130Z",
     "start_time": "2024-04-06T18:13:42.034580Z"
    }
   },
   "outputs": [
    {
     "data": {
      "text/html": [
       "<table class=\"dataframe\">\n",
       "<caption>A tibble: 2 × 9</caption>\n",
       "<thead>\n",
       "\t<tr><th scope=col>title</th><th scope=col>code</th><th scope=col>type</th><th scope=col>last.update.of.data</th><th scope=col>last.table.structure.change</th><th scope=col>data.start</th><th scope=col>data.end</th><th scope=col>values</th><th scope=col>hierarchy</th></tr>\n",
       "\t<tr><th scope=col>&lt;chr&gt;</th><th scope=col>&lt;chr&gt;</th><th scope=col>&lt;chr&gt;</th><th scope=col>&lt;chr&gt;</th><th scope=col>&lt;chr&gt;</th><th scope=col>&lt;chr&gt;</th><th scope=col>&lt;chr&gt;</th><th scope=col>&lt;dbl&gt;</th><th scope=col>&lt;dbl&gt;</th></tr>\n",
       "</thead>\n",
       "<tbody>\n",
       "\t<tr><td>Police-recorded offences by NUTS 3 regions</td><td>crim_gen_reg</td><td>dataset</td><td>05.12.2023</td><td>05.12.2023</td><td>2008</td><td>2021</td><td>216947</td><td>4</td></tr>\n",
       "\t<tr><td>Police-recorded offences by NUTS 3 regions</td><td>crim_gen_reg</td><td>dataset</td><td>05.12.2023</td><td>05.12.2023</td><td>2008</td><td>2021</td><td>216947</td><td>4</td></tr>\n",
       "</tbody>\n",
       "</table>\n"
      ],
      "text/latex": [
       "A tibble: 2 × 9\n",
       "\\begin{tabular}{lllllllll}\n",
       " title & code & type & last.update.of.data & last.table.structure.change & data.start & data.end & values & hierarchy\\\\\n",
       " <chr> & <chr> & <chr> & <chr> & <chr> & <chr> & <chr> & <dbl> & <dbl>\\\\\n",
       "\\hline\n",
       "\t Police-recorded offences by NUTS 3 regions & crim\\_gen\\_reg & dataset & 05.12.2023 & 05.12.2023 & 2008 & 2021 & 216947 & 4\\\\\n",
       "\t Police-recorded offences by NUTS 3 regions & crim\\_gen\\_reg & dataset & 05.12.2023 & 05.12.2023 & 2008 & 2021 & 216947 & 4\\\\\n",
       "\\end{tabular}\n"
      ],
      "text/markdown": [
       "\n",
       "A tibble: 2 × 9\n",
       "\n",
       "| title &lt;chr&gt; | code &lt;chr&gt; | type &lt;chr&gt; | last.update.of.data &lt;chr&gt; | last.table.structure.change &lt;chr&gt; | data.start &lt;chr&gt; | data.end &lt;chr&gt; | values &lt;dbl&gt; | hierarchy &lt;dbl&gt; |\n",
       "|---|---|---|---|---|---|---|---|---|\n",
       "| Police-recorded offences by NUTS 3 regions | crim_gen_reg | dataset | 05.12.2023 | 05.12.2023 | 2008 | 2021 | 216947 | 4 |\n",
       "| Police-recorded offences by NUTS 3 regions | crim_gen_reg | dataset | 05.12.2023 | 05.12.2023 | 2008 | 2021 | 216947 | 4 |\n",
       "\n"
      ],
      "text/plain": [
       "  title                                      code         type   \n",
       "1 Police-recorded offences by NUTS 3 regions crim_gen_reg dataset\n",
       "2 Police-recorded offences by NUTS 3 regions crim_gen_reg dataset\n",
       "  last.update.of.data last.table.structure.change data.start data.end values\n",
       "1 05.12.2023          05.12.2023                  2008       2021     216947\n",
       "2 05.12.2023          05.12.2023                  2008       2021     216947\n",
       "  hierarchy\n",
       "1 4        \n",
       "2 4        "
      ]
     },
     "metadata": {},
     "output_type": "display_data"
    }
   ],
   "source": [
    "# get id for dataset\n",
    "srch <- search_eurostat(pattern='Police-recorded offences by NUTS 3 regions')\n",
    "srch"
   ]
  },
  {
   "cell_type": "code",
   "execution_count": 4,
   "id": "eb08a4cf-db49-4d6e-89ef-bcc92b31024b",
   "metadata": {
    "ExecuteTime": {
     "end_time": "2024-04-06T18:13:44.132205Z",
     "start_time": "2024-04-06T18:13:44.116060Z"
    }
   },
   "outputs": [],
   "source": [
    "nuts3_cz <- c(\n",
    "  \"CZ010\", \"CZ020\", \"CZ031\", \"CZ032\", \"CZ041\",\n",
    "  \"CZ042\", \"CZ051\", \"CZ052\", \"CZ053\", \"CZ063\",\n",
    "  \"CZ064\", \"CZ071\", \"CZ072\", \"CZ080\"\n",
    ")"
   ]
  },
  {
   "cell_type": "markdown",
   "id": "de0b2dad-f976-44ae-a0f3-5f2eb6e9de3f",
   "metadata": {},
   "source": [
    "## Stažení datasetu\n",
    "\n",
    "Stahneme potřebný dataset a vybereme rok 2021. \n",
    "Odebereme redudantní sloupce jako je freq, TIME_PERIOD.\n",
    "\n",
    "V našem případě neprovádíme analýzu normalizovaných dat na základě počtu trestných činů na 100 000 obyvatel a zaměřujeme se přímo na samotné počty trestných činů v jednotlivých regionech a kategoriích. Tím pádem odebereme i sloupec unit P_HTHAB."
   ]
  },
  {
   "cell_type": "code",
   "execution_count": 5,
   "id": "af8ad8f1-e500-4ac7-8202-3d89e0bf8f94",
   "metadata": {
    "ExecuteTime": {
     "end_time": "2024-04-06T18:13:46.492711Z",
     "start_time": "2024-04-06T18:13:44.136924Z"
    }
   },
   "outputs": [
    {
     "name": "stderr",
     "output_type": "stream",
     "text": [
      "Table crim_gen_reg cached at C:\\Users\\User\\AppData\\Local\\Temp\\RtmpMhHFVh/eurostat/0dc489ba9afbe8d422bb3d8a01eacc3a.rds\n",
      "\n"
     ]
    },
    {
     "data": {
      "text/html": [
       "<table class=\"dataframe\">\n",
       "<caption>A tibble: 6 × 3</caption>\n",
       "<thead>\n",
       "\t<tr><th scope=col>iccs</th><th scope=col>geo</th><th scope=col>values</th></tr>\n",
       "\t<tr><th scope=col>&lt;chr&gt;</th><th scope=col>&lt;chr&gt;</th><th scope=col>&lt;dbl&gt;</th></tr>\n",
       "</thead>\n",
       "<tbody>\n",
       "\t<tr><td>ICCS0101</td><td>CZ010</td><td>7</td></tr>\n",
       "\t<tr><td>ICCS0101</td><td>CZ020</td><td>1</td></tr>\n",
       "\t<tr><td>ICCS0101</td><td>CZ031</td><td>7</td></tr>\n",
       "\t<tr><td>ICCS0101</td><td>CZ032</td><td>2</td></tr>\n",
       "\t<tr><td>ICCS0101</td><td>CZ041</td><td>3</td></tr>\n",
       "\t<tr><td>ICCS0101</td><td>CZ042</td><td>5</td></tr>\n",
       "</tbody>\n",
       "</table>\n"
      ],
      "text/latex": [
       "A tibble: 6 × 3\n",
       "\\begin{tabular}{lll}\n",
       " iccs & geo & values\\\\\n",
       " <chr> & <chr> & <dbl>\\\\\n",
       "\\hline\n",
       "\t ICCS0101 & CZ010 & 7\\\\\n",
       "\t ICCS0101 & CZ020 & 1\\\\\n",
       "\t ICCS0101 & CZ031 & 7\\\\\n",
       "\t ICCS0101 & CZ032 & 2\\\\\n",
       "\t ICCS0101 & CZ041 & 3\\\\\n",
       "\t ICCS0101 & CZ042 & 5\\\\\n",
       "\\end{tabular}\n"
      ],
      "text/markdown": [
       "\n",
       "A tibble: 6 × 3\n",
       "\n",
       "| iccs &lt;chr&gt; | geo &lt;chr&gt; | values &lt;dbl&gt; |\n",
       "|---|---|---|\n",
       "| ICCS0101 | CZ010 | 7 |\n",
       "| ICCS0101 | CZ020 | 1 |\n",
       "| ICCS0101 | CZ031 | 7 |\n",
       "| ICCS0101 | CZ032 | 2 |\n",
       "| ICCS0101 | CZ041 | 3 |\n",
       "| ICCS0101 | CZ042 | 5 |\n",
       "\n"
      ],
      "text/plain": [
       "  iccs     geo   values\n",
       "1 ICCS0101 CZ010 7     \n",
       "2 ICCS0101 CZ020 1     \n",
       "3 ICCS0101 CZ031 7     \n",
       "4 ICCS0101 CZ032 2     \n",
       "5 ICCS0101 CZ041 3     \n",
       "6 ICCS0101 CZ042 5     "
      ]
     },
     "metadata": {},
     "output_type": "display_data"
    },
    {
     "data": {
      "text/html": [
       "<table class=\"dataframe\">\n",
       "<caption>A tibble: 6 × 3</caption>\n",
       "<thead>\n",
       "\t<tr><th scope=col>iccs</th><th scope=col>geo</th><th scope=col>values</th></tr>\n",
       "\t<tr><th scope=col>&lt;chr&gt;</th><th scope=col>&lt;chr&gt;</th><th scope=col>&lt;dbl&gt;</th></tr>\n",
       "</thead>\n",
       "<tbody>\n",
       "\t<tr><td>ICCS050211</td><td>CZ053</td><td> 59</td></tr>\n",
       "\t<tr><td>ICCS050211</td><td>CZ063</td><td> 51</td></tr>\n",
       "\t<tr><td>ICCS050211</td><td>CZ064</td><td>234</td></tr>\n",
       "\t<tr><td>ICCS050211</td><td>CZ071</td><td> 86</td></tr>\n",
       "\t<tr><td>ICCS050211</td><td>CZ072</td><td> 57</td></tr>\n",
       "\t<tr><td>ICCS050211</td><td>CZ080</td><td>226</td></tr>\n",
       "</tbody>\n",
       "</table>\n"
      ],
      "text/latex": [
       "A tibble: 6 × 3\n",
       "\\begin{tabular}{lll}\n",
       " iccs & geo & values\\\\\n",
       " <chr> & <chr> & <dbl>\\\\\n",
       "\\hline\n",
       "\t ICCS050211 & CZ053 &  59\\\\\n",
       "\t ICCS050211 & CZ063 &  51\\\\\n",
       "\t ICCS050211 & CZ064 & 234\\\\\n",
       "\t ICCS050211 & CZ071 &  86\\\\\n",
       "\t ICCS050211 & CZ072 &  57\\\\\n",
       "\t ICCS050211 & CZ080 & 226\\\\\n",
       "\\end{tabular}\n"
      ],
      "text/markdown": [
       "\n",
       "A tibble: 6 × 3\n",
       "\n",
       "| iccs &lt;chr&gt; | geo &lt;chr&gt; | values &lt;dbl&gt; |\n",
       "|---|---|---|\n",
       "| ICCS050211 | CZ053 |  59 |\n",
       "| ICCS050211 | CZ063 |  51 |\n",
       "| ICCS050211 | CZ064 | 234 |\n",
       "| ICCS050211 | CZ071 |  86 |\n",
       "| ICCS050211 | CZ072 |  57 |\n",
       "| ICCS050211 | CZ080 | 226 |\n",
       "\n"
      ],
      "text/plain": [
       "  iccs       geo   values\n",
       "1 ICCS050211 CZ053  59   \n",
       "2 ICCS050211 CZ063  51   \n",
       "3 ICCS050211 CZ064 234   \n",
       "4 ICCS050211 CZ071  86   \n",
       "5 ICCS050211 CZ072  57   \n",
       "6 ICCS050211 CZ080 226   "
      ]
     },
     "metadata": {},
     "output_type": "display_data"
    }
   ],
   "source": [
    "# Download data\n",
    "data <- get_eurostat(id = \"crim_gen_reg\")\n",
    "\n",
    "# choose only required data and remove unneccesary columns\n",
    "data$TIME_PERIOD <- as.Date(data$TIME_PERIOD)\n",
    "czech_data <- data %>%\n",
    "  filter(geo %in% nuts3_cz, TIME_PERIOD == \"2021-01-01\")\n",
    "czech_data$freq <- NULL\n",
    "czech_data <- czech_data[czech_data$unit != \"P_HTHAB\", ]\n",
    "czech_data$unit <- NULL\n",
    "czech_data$TIME_PERIOD <- NULL\n",
    "\n",
    "head(czech_data)\n",
    "tail(czech_data)"
   ]
  },
  {
   "cell_type": "code",
   "execution_count": 6,
   "id": "9547276e-ba28-4221-96d2-6d503ba21ac3",
   "metadata": {
    "ExecuteTime": {
     "end_time": "2024-04-06T18:13:46.526660Z",
     "start_time": "2024-04-06T18:13:46.498248Z"
    }
   },
   "outputs": [],
   "source": [
    "iccs_mapping <- c(\n",
    "  \"ICCS0101\" = \"Intentional homicide\",\n",
    "  \"ICCS02011\" = \"Assault\",\n",
    "  \"ICCS0401\" = \"Robbery\",\n",
    "  \"ICCS0501\" = \"Burglary\",\n",
    "  \"ICCS05012\" = \"Burglary of private residential premises\",\n",
    "  \"ICCS0502\" = \"Theft\",\n",
    "  \"ICCS050211\" = \"Theft of a motorized land vehicle\"\n",
    ")\n",
    "nuts3_mapping <- c(\n",
    "  \"CZ010\" = \"Hlavní město Praha\",\n",
    "  \"CZ020\" = \"Středočeský kraj\",\n",
    "  \"CZ031\" = \"Jihočeský kraj\",\n",
    "  \"CZ032\" = \"Plzeňský kraj\",\n",
    "  \"CZ041\" = \"Karlovarský kraj\",\n",
    "  \"CZ042\" = \"Ústecký kraj\",\n",
    "  \"CZ051\" = \"Liberecký kraj\",\n",
    "  \"CZ052\" = \"Královéhradecký kraj\",\n",
    "  \"CZ053\" = \"Pardubický kraj\",\n",
    "  \"CZ063\" = \"Kraj Vysočina\",\n",
    "  \"CZ064\" = \"Jihomoravský kraj\",\n",
    "  \"CZ071\" = \"Olomoucký kraj\",\n",
    "  \"CZ072\" = \"Zlínský kraj\",\n",
    "  \"CZ080\" = \"Moravskoslezský kraj\"\n",
    ")\n",
    "# rename for better vizualization\n",
    "czech_data <- czech_data %>%\n",
    "  mutate(iccs = iccs_mapping[iccs])\n",
    "czech_data$geo <- nuts3_mapping[czech_data$geo]"
   ]
  },
  {
   "cell_type": "markdown",
   "id": "50bbc96f-e076-4079-b024-6a5bcc4282fc",
   "metadata": {},
   "source": [
    "## Základní popis\n",
    "Zkoumaná data jsou tabulka, která obsahuje tři sloupce: \"iccs\" (typ trestného činu), \"geo\" (NUTS 3 region) a \"values\" (počet trestných činů). Data zahrnují různé typy trestných činů v jednotlivých regionech České republiky.\n"
   ]
  },
  {
   "cell_type": "code",
   "execution_count": 7,
   "id": "c1fd7fa9-e6bb-4bab-b4fe-c5372d71b1d2",
   "metadata": {
    "ExecuteTime": {
     "end_time": "2024-04-06T18:13:46.599154Z",
     "start_time": "2024-04-06T18:13:46.532536Z"
    }
   },
   "outputs": [
    {
     "data": {
      "text/html": [
       "<table class=\"dataframe\">\n",
       "<caption>A tibble: 98 × 3</caption>\n",
       "<thead>\n",
       "\t<tr><th scope=col>iccs</th><th scope=col>geo</th><th scope=col>values</th></tr>\n",
       "\t<tr><th scope=col>&lt;chr&gt;</th><th scope=col>&lt;chr&gt;</th><th scope=col>&lt;dbl&gt;</th></tr>\n",
       "</thead>\n",
       "<tbody>\n",
       "\t<tr><td>Intentional homicide</td><td>Hlavní město Praha  </td><td>  7</td></tr>\n",
       "\t<tr><td>Intentional homicide</td><td>Středočeský kraj    </td><td>  1</td></tr>\n",
       "\t<tr><td>Intentional homicide</td><td>Jihočeský kraj      </td><td>  7</td></tr>\n",
       "\t<tr><td>Intentional homicide</td><td>Plzeňský kraj       </td><td>  2</td></tr>\n",
       "\t<tr><td>Intentional homicide</td><td>Karlovarský kraj    </td><td>  3</td></tr>\n",
       "\t<tr><td>Intentional homicide</td><td>Ústecký kraj        </td><td>  5</td></tr>\n",
       "\t<tr><td>Intentional homicide</td><td>Liberecký kraj      </td><td>  3</td></tr>\n",
       "\t<tr><td>Intentional homicide</td><td>Královéhradecký kraj</td><td>  1</td></tr>\n",
       "\t<tr><td>Intentional homicide</td><td>Pardubický kraj     </td><td>  0</td></tr>\n",
       "\t<tr><td>Intentional homicide</td><td>Kraj Vysočina       </td><td>  3</td></tr>\n",
       "\t<tr><td>Intentional homicide</td><td>Jihomoravský kraj   </td><td>  6</td></tr>\n",
       "\t<tr><td>Intentional homicide</td><td>Olomoucký kraj      </td><td>  2</td></tr>\n",
       "\t<tr><td>Intentional homicide</td><td>Zlínský kraj        </td><td>  2</td></tr>\n",
       "\t<tr><td>Intentional homicide</td><td>Moravskoslezský kraj</td><td>  4</td></tr>\n",
       "\t<tr><td>Assault             </td><td>Hlavní město Praha  </td><td>530</td></tr>\n",
       "\t<tr><td>Assault             </td><td>Středočeský kraj    </td><td>393</td></tr>\n",
       "\t<tr><td>Assault             </td><td>Jihočeský kraj      </td><td>269</td></tr>\n",
       "\t<tr><td>Assault             </td><td>Plzeňský kraj       </td><td>204</td></tr>\n",
       "\t<tr><td>Assault             </td><td>Karlovarský kraj    </td><td>130</td></tr>\n",
       "\t<tr><td>Assault             </td><td>Ústecký kraj        </td><td>359</td></tr>\n",
       "\t<tr><td>Assault             </td><td>Liberecký kraj      </td><td>192</td></tr>\n",
       "\t<tr><td>Assault             </td><td>Královéhradecký kraj</td><td>162</td></tr>\n",
       "\t<tr><td>Assault             </td><td>Pardubický kraj     </td><td>120</td></tr>\n",
       "\t<tr><td>Assault             </td><td>Kraj Vysočina       </td><td>226</td></tr>\n",
       "\t<tr><td>Assault             </td><td>Jihomoravský kraj   </td><td>509</td></tr>\n",
       "\t<tr><td>Assault             </td><td>Olomoucký kraj      </td><td>314</td></tr>\n",
       "\t<tr><td>Assault             </td><td>Zlínský kraj        </td><td>245</td></tr>\n",
       "\t<tr><td>Assault             </td><td>Moravskoslezský kraj</td><td>637</td></tr>\n",
       "\t<tr><td>Robbery             </td><td>Hlavní město Praha  </td><td>190</td></tr>\n",
       "\t<tr><td>Robbery             </td><td>Středočeský kraj    </td><td>110</td></tr>\n",
       "\t<tr><td>⋮</td><td>⋮</td><td>⋮</td></tr>\n",
       "\t<tr><td>Burglary of private residential premises</td><td>Zlínský kraj        </td><td> 105</td></tr>\n",
       "\t<tr><td>Burglary of private residential premises</td><td>Moravskoslezský kraj</td><td> 511</td></tr>\n",
       "\t<tr><td>Theft                                   </td><td>Hlavní město Praha  </td><td>7861</td></tr>\n",
       "\t<tr><td>Theft                                   </td><td>Středočeský kraj    </td><td>2727</td></tr>\n",
       "\t<tr><td>Theft                                   </td><td>Jihočeský kraj      </td><td>1044</td></tr>\n",
       "\t<tr><td>Theft                                   </td><td>Plzeňský kraj       </td><td>1302</td></tr>\n",
       "\t<tr><td>Theft                                   </td><td>Karlovarský kraj    </td><td> 633</td></tr>\n",
       "\t<tr><td>Theft                                   </td><td>Ústecký kraj        </td><td>2386</td></tr>\n",
       "\t<tr><td>Theft                                   </td><td>Liberecký kraj      </td><td> 929</td></tr>\n",
       "\t<tr><td>Theft                                   </td><td>Královéhradecký kraj</td><td> 677</td></tr>\n",
       "\t<tr><td>Theft                                   </td><td>Pardubický kraj     </td><td> 644</td></tr>\n",
       "\t<tr><td>Theft                                   </td><td>Kraj Vysočina       </td><td> 499</td></tr>\n",
       "\t<tr><td>Theft                                   </td><td>Jihomoravský kraj   </td><td>2623</td></tr>\n",
       "\t<tr><td>Theft                                   </td><td>Olomoucký kraj      </td><td>1188</td></tr>\n",
       "\t<tr><td>Theft                                   </td><td>Zlínský kraj        </td><td> 579</td></tr>\n",
       "\t<tr><td>Theft                                   </td><td>Moravskoslezský kraj</td><td>3497</td></tr>\n",
       "\t<tr><td>Theft of a motorized land vehicle       </td><td>Hlavní město Praha  </td><td> 411</td></tr>\n",
       "\t<tr><td>Theft of a motorized land vehicle       </td><td>Středočeský kraj    </td><td> 346</td></tr>\n",
       "\t<tr><td>Theft of a motorized land vehicle       </td><td>Jihočeský kraj      </td><td> 118</td></tr>\n",
       "\t<tr><td>Theft of a motorized land vehicle       </td><td>Plzeňský kraj       </td><td> 141</td></tr>\n",
       "\t<tr><td>Theft of a motorized land vehicle       </td><td>Karlovarský kraj    </td><td>  54</td></tr>\n",
       "\t<tr><td>Theft of a motorized land vehicle       </td><td>Ústecký kraj        </td><td> 222</td></tr>\n",
       "\t<tr><td>Theft of a motorized land vehicle       </td><td>Liberecký kraj      </td><td> 118</td></tr>\n",
       "\t<tr><td>Theft of a motorized land vehicle       </td><td>Královéhradecký kraj</td><td>  90</td></tr>\n",
       "\t<tr><td>Theft of a motorized land vehicle       </td><td>Pardubický kraj     </td><td>  59</td></tr>\n",
       "\t<tr><td>Theft of a motorized land vehicle       </td><td>Kraj Vysočina       </td><td>  51</td></tr>\n",
       "\t<tr><td>Theft of a motorized land vehicle       </td><td>Jihomoravský kraj   </td><td> 234</td></tr>\n",
       "\t<tr><td>Theft of a motorized land vehicle       </td><td>Olomoucký kraj      </td><td>  86</td></tr>\n",
       "\t<tr><td>Theft of a motorized land vehicle       </td><td>Zlínský kraj        </td><td>  57</td></tr>\n",
       "\t<tr><td>Theft of a motorized land vehicle       </td><td>Moravskoslezský kraj</td><td> 226</td></tr>\n",
       "</tbody>\n",
       "</table>\n"
      ],
      "text/latex": [
       "A tibble: 98 × 3\n",
       "\\begin{tabular}{lll}\n",
       " iccs & geo & values\\\\\n",
       " <chr> & <chr> & <dbl>\\\\\n",
       "\\hline\n",
       "\t Intentional homicide & Hlavní město Praha   &   7\\\\\n",
       "\t Intentional homicide & Středočeský kraj     &   1\\\\\n",
       "\t Intentional homicide & Jihočeský kraj       &   7\\\\\n",
       "\t Intentional homicide & Plzeňský kraj        &   2\\\\\n",
       "\t Intentional homicide & Karlovarský kraj     &   3\\\\\n",
       "\t Intentional homicide & Ústecký kraj         &   5\\\\\n",
       "\t Intentional homicide & Liberecký kraj       &   3\\\\\n",
       "\t Intentional homicide & Královéhradecký kraj &   1\\\\\n",
       "\t Intentional homicide & Pardubický kraj      &   0\\\\\n",
       "\t Intentional homicide & Kraj Vysočina        &   3\\\\\n",
       "\t Intentional homicide & Jihomoravský kraj    &   6\\\\\n",
       "\t Intentional homicide & Olomoucký kraj       &   2\\\\\n",
       "\t Intentional homicide & Zlínský kraj         &   2\\\\\n",
       "\t Intentional homicide & Moravskoslezský kraj &   4\\\\\n",
       "\t Assault              & Hlavní město Praha   & 530\\\\\n",
       "\t Assault              & Středočeský kraj     & 393\\\\\n",
       "\t Assault              & Jihočeský kraj       & 269\\\\\n",
       "\t Assault              & Plzeňský kraj        & 204\\\\\n",
       "\t Assault              & Karlovarský kraj     & 130\\\\\n",
       "\t Assault              & Ústecký kraj         & 359\\\\\n",
       "\t Assault              & Liberecký kraj       & 192\\\\\n",
       "\t Assault              & Královéhradecký kraj & 162\\\\\n",
       "\t Assault              & Pardubický kraj      & 120\\\\\n",
       "\t Assault              & Kraj Vysočina        & 226\\\\\n",
       "\t Assault              & Jihomoravský kraj    & 509\\\\\n",
       "\t Assault              & Olomoucký kraj       & 314\\\\\n",
       "\t Assault              & Zlínský kraj         & 245\\\\\n",
       "\t Assault              & Moravskoslezský kraj & 637\\\\\n",
       "\t Robbery              & Hlavní město Praha   & 190\\\\\n",
       "\t Robbery              & Středočeský kraj     & 110\\\\\n",
       "\t ⋮ & ⋮ & ⋮\\\\\n",
       "\t Burglary of private residential premises & Zlínský kraj         &  105\\\\\n",
       "\t Burglary of private residential premises & Moravskoslezský kraj &  511\\\\\n",
       "\t Theft                                    & Hlavní město Praha   & 7861\\\\\n",
       "\t Theft                                    & Středočeský kraj     & 2727\\\\\n",
       "\t Theft                                    & Jihočeský kraj       & 1044\\\\\n",
       "\t Theft                                    & Plzeňský kraj        & 1302\\\\\n",
       "\t Theft                                    & Karlovarský kraj     &  633\\\\\n",
       "\t Theft                                    & Ústecký kraj         & 2386\\\\\n",
       "\t Theft                                    & Liberecký kraj       &  929\\\\\n",
       "\t Theft                                    & Královéhradecký kraj &  677\\\\\n",
       "\t Theft                                    & Pardubický kraj      &  644\\\\\n",
       "\t Theft                                    & Kraj Vysočina        &  499\\\\\n",
       "\t Theft                                    & Jihomoravský kraj    & 2623\\\\\n",
       "\t Theft                                    & Olomoucký kraj       & 1188\\\\\n",
       "\t Theft                                    & Zlínský kraj         &  579\\\\\n",
       "\t Theft                                    & Moravskoslezský kraj & 3497\\\\\n",
       "\t Theft of a motorized land vehicle        & Hlavní město Praha   &  411\\\\\n",
       "\t Theft of a motorized land vehicle        & Středočeský kraj     &  346\\\\\n",
       "\t Theft of a motorized land vehicle        & Jihočeský kraj       &  118\\\\\n",
       "\t Theft of a motorized land vehicle        & Plzeňský kraj        &  141\\\\\n",
       "\t Theft of a motorized land vehicle        & Karlovarský kraj     &   54\\\\\n",
       "\t Theft of a motorized land vehicle        & Ústecký kraj         &  222\\\\\n",
       "\t Theft of a motorized land vehicle        & Liberecký kraj       &  118\\\\\n",
       "\t Theft of a motorized land vehicle        & Královéhradecký kraj &   90\\\\\n",
       "\t Theft of a motorized land vehicle        & Pardubický kraj      &   59\\\\\n",
       "\t Theft of a motorized land vehicle        & Kraj Vysočina        &   51\\\\\n",
       "\t Theft of a motorized land vehicle        & Jihomoravský kraj    &  234\\\\\n",
       "\t Theft of a motorized land vehicle        & Olomoucký kraj       &   86\\\\\n",
       "\t Theft of a motorized land vehicle        & Zlínský kraj         &   57\\\\\n",
       "\t Theft of a motorized land vehicle        & Moravskoslezský kraj &  226\\\\\n",
       "\\end{tabular}\n"
      ],
      "text/markdown": [
       "\n",
       "A tibble: 98 × 3\n",
       "\n",
       "| iccs &lt;chr&gt; | geo &lt;chr&gt; | values &lt;dbl&gt; |\n",
       "|---|---|---|\n",
       "| Intentional homicide | Hlavní město Praha   |   7 |\n",
       "| Intentional homicide | Středočeský kraj     |   1 |\n",
       "| Intentional homicide | Jihočeský kraj       |   7 |\n",
       "| Intentional homicide | Plzeňský kraj        |   2 |\n",
       "| Intentional homicide | Karlovarský kraj     |   3 |\n",
       "| Intentional homicide | Ústecký kraj         |   5 |\n",
       "| Intentional homicide | Liberecký kraj       |   3 |\n",
       "| Intentional homicide | Královéhradecký kraj |   1 |\n",
       "| Intentional homicide | Pardubický kraj      |   0 |\n",
       "| Intentional homicide | Kraj Vysočina        |   3 |\n",
       "| Intentional homicide | Jihomoravský kraj    |   6 |\n",
       "| Intentional homicide | Olomoucký kraj       |   2 |\n",
       "| Intentional homicide | Zlínský kraj         |   2 |\n",
       "| Intentional homicide | Moravskoslezský kraj |   4 |\n",
       "| Assault              | Hlavní město Praha   | 530 |\n",
       "| Assault              | Středočeský kraj     | 393 |\n",
       "| Assault              | Jihočeský kraj       | 269 |\n",
       "| Assault              | Plzeňský kraj        | 204 |\n",
       "| Assault              | Karlovarský kraj     | 130 |\n",
       "| Assault              | Ústecký kraj         | 359 |\n",
       "| Assault              | Liberecký kraj       | 192 |\n",
       "| Assault              | Královéhradecký kraj | 162 |\n",
       "| Assault              | Pardubický kraj      | 120 |\n",
       "| Assault              | Kraj Vysočina        | 226 |\n",
       "| Assault              | Jihomoravský kraj    | 509 |\n",
       "| Assault              | Olomoucký kraj       | 314 |\n",
       "| Assault              | Zlínský kraj         | 245 |\n",
       "| Assault              | Moravskoslezský kraj | 637 |\n",
       "| Robbery              | Hlavní město Praha   | 190 |\n",
       "| Robbery              | Středočeský kraj     | 110 |\n",
       "| ⋮ | ⋮ | ⋮ |\n",
       "| Burglary of private residential premises | Zlínský kraj         |  105 |\n",
       "| Burglary of private residential premises | Moravskoslezský kraj |  511 |\n",
       "| Theft                                    | Hlavní město Praha   | 7861 |\n",
       "| Theft                                    | Středočeský kraj     | 2727 |\n",
       "| Theft                                    | Jihočeský kraj       | 1044 |\n",
       "| Theft                                    | Plzeňský kraj        | 1302 |\n",
       "| Theft                                    | Karlovarský kraj     |  633 |\n",
       "| Theft                                    | Ústecký kraj         | 2386 |\n",
       "| Theft                                    | Liberecký kraj       |  929 |\n",
       "| Theft                                    | Královéhradecký kraj |  677 |\n",
       "| Theft                                    | Pardubický kraj      |  644 |\n",
       "| Theft                                    | Kraj Vysočina        |  499 |\n",
       "| Theft                                    | Jihomoravský kraj    | 2623 |\n",
       "| Theft                                    | Olomoucký kraj       | 1188 |\n",
       "| Theft                                    | Zlínský kraj         |  579 |\n",
       "| Theft                                    | Moravskoslezský kraj | 3497 |\n",
       "| Theft of a motorized land vehicle        | Hlavní město Praha   |  411 |\n",
       "| Theft of a motorized land vehicle        | Středočeský kraj     |  346 |\n",
       "| Theft of a motorized land vehicle        | Jihočeský kraj       |  118 |\n",
       "| Theft of a motorized land vehicle        | Plzeňský kraj        |  141 |\n",
       "| Theft of a motorized land vehicle        | Karlovarský kraj     |   54 |\n",
       "| Theft of a motorized land vehicle        | Ústecký kraj         |  222 |\n",
       "| Theft of a motorized land vehicle        | Liberecký kraj       |  118 |\n",
       "| Theft of a motorized land vehicle        | Královéhradecký kraj |   90 |\n",
       "| Theft of a motorized land vehicle        | Pardubický kraj      |   59 |\n",
       "| Theft of a motorized land vehicle        | Kraj Vysočina        |   51 |\n",
       "| Theft of a motorized land vehicle        | Jihomoravský kraj    |  234 |\n",
       "| Theft of a motorized land vehicle        | Olomoucký kraj       |   86 |\n",
       "| Theft of a motorized land vehicle        | Zlínský kraj         |   57 |\n",
       "| Theft of a motorized land vehicle        | Moravskoslezský kraj |  226 |\n",
       "\n"
      ],
      "text/plain": [
       "   iccs                                     geo                  values\n",
       "1  Intentional homicide                     Hlavní město Praha     7   \n",
       "2  Intentional homicide                     Středočeský kraj       1   \n",
       "3  Intentional homicide                     Jihočeský kraj         7   \n",
       "4  Intentional homicide                     Plzeňský kraj          2   \n",
       "5  Intentional homicide                     Karlovarský kraj       3   \n",
       "6  Intentional homicide                     Ústecký kraj           5   \n",
       "7  Intentional homicide                     Liberecký kraj         3   \n",
       "8  Intentional homicide                     Královéhradecký kraj   1   \n",
       "9  Intentional homicide                     Pardubický kraj        0   \n",
       "10 Intentional homicide                     Kraj Vysočina          3   \n",
       "11 Intentional homicide                     Jihomoravský kraj      6   \n",
       "12 Intentional homicide                     Olomoucký kraj         2   \n",
       "13 Intentional homicide                     Zlínský kraj           2   \n",
       "14 Intentional homicide                     Moravskoslezský kraj   4   \n",
       "15 Assault                                  Hlavní město Praha   530   \n",
       "16 Assault                                  Středočeský kraj     393   \n",
       "17 Assault                                  Jihočeský kraj       269   \n",
       "18 Assault                                  Plzeňský kraj        204   \n",
       "19 Assault                                  Karlovarský kraj     130   \n",
       "20 Assault                                  Ústecký kraj         359   \n",
       "21 Assault                                  Liberecký kraj       192   \n",
       "22 Assault                                  Královéhradecký kraj 162   \n",
       "23 Assault                                  Pardubický kraj      120   \n",
       "24 Assault                                  Kraj Vysočina        226   \n",
       "25 Assault                                  Jihomoravský kraj    509   \n",
       "26 Assault                                  Olomoucký kraj       314   \n",
       "27 Assault                                  Zlínský kraj         245   \n",
       "28 Assault                                  Moravskoslezský kraj 637   \n",
       "29 Robbery                                  Hlavní město Praha   190   \n",
       "30 Robbery                                  Středočeský kraj     110   \n",
       "⋮  ⋮                                        ⋮                    ⋮     \n",
       "69 Burglary of private residential premises Zlínský kraj          105  \n",
       "70 Burglary of private residential premises Moravskoslezský kraj  511  \n",
       "71 Theft                                    Hlavní město Praha   7861  \n",
       "72 Theft                                    Středočeský kraj     2727  \n",
       "73 Theft                                    Jihočeský kraj       1044  \n",
       "74 Theft                                    Plzeňský kraj        1302  \n",
       "75 Theft                                    Karlovarský kraj      633  \n",
       "76 Theft                                    Ústecký kraj         2386  \n",
       "77 Theft                                    Liberecký kraj        929  \n",
       "78 Theft                                    Královéhradecký kraj  677  \n",
       "79 Theft                                    Pardubický kraj       644  \n",
       "80 Theft                                    Kraj Vysočina         499  \n",
       "81 Theft                                    Jihomoravský kraj    2623  \n",
       "82 Theft                                    Olomoucký kraj       1188  \n",
       "83 Theft                                    Zlínský kraj          579  \n",
       "84 Theft                                    Moravskoslezský kraj 3497  \n",
       "85 Theft of a motorized land vehicle        Hlavní město Praha    411  \n",
       "86 Theft of a motorized land vehicle        Středočeský kraj      346  \n",
       "87 Theft of a motorized land vehicle        Jihočeský kraj        118  \n",
       "88 Theft of a motorized land vehicle        Plzeňský kraj         141  \n",
       "89 Theft of a motorized land vehicle        Karlovarský kraj       54  \n",
       "90 Theft of a motorized land vehicle        Ústecký kraj          222  \n",
       "91 Theft of a motorized land vehicle        Liberecký kraj        118  \n",
       "92 Theft of a motorized land vehicle        Královéhradecký kraj   90  \n",
       "93 Theft of a motorized land vehicle        Pardubický kraj        59  \n",
       "94 Theft of a motorized land vehicle        Kraj Vysočina          51  \n",
       "95 Theft of a motorized land vehicle        Jihomoravský kraj     234  \n",
       "96 Theft of a motorized land vehicle        Olomoucký kraj         86  \n",
       "97 Theft of a motorized land vehicle        Zlínský kraj           57  \n",
       "98 Theft of a motorized land vehicle        Moravskoslezský kraj  226  "
      ]
     },
     "metadata": {},
     "output_type": "display_data"
    }
   ],
   "source": [
    "czech_data"
   ]
  },
  {
   "cell_type": "code",
   "execution_count": 8,
   "id": "a2a49cc1-6d94-4d15-8876-bf7338063a74",
   "metadata": {
    "ExecuteTime": {
     "end_time": "2024-04-06T18:13:46.625442Z",
     "start_time": "2024-04-06T18:13:46.605658Z"
    }
   },
   "outputs": [],
   "source": [
    "# split into separate nuts3 tables\n",
    "region_tables <- split(czech_data, czech_data$geo)"
   ]
  },
  {
   "cell_type": "code",
   "execution_count": 9,
   "id": "3d451e73-c19f-46dc-8bf3-191faaff1404",
   "metadata": {
    "ExecuteTime": {
     "end_time": "2024-04-06T18:13:46.707367Z",
     "start_time": "2024-04-06T18:13:46.631666Z"
    }
   },
   "outputs": [
    {
     "name": "stdout",
     "output_type": "stream",
     "text": [
      "                 Region Min            Min_Crime  Max Max_Crime      Mean\n",
      "1    Hlavní město Praha   7 Intentional homicide 9937  Burglary 2863.0000\n",
      "2        Jihočeský kraj   7 Intentional homicide 1044     Theft  374.0000\n",
      "3     Jihomoravský kraj   6 Intentional homicide 3296  Burglary 1043.4286\n",
      "4      Karlovarský kraj   3 Intentional homicide  633     Theft  229.8571\n",
      "5         Kraj Vysočina   3 Intentional homicide  508  Burglary  208.5714\n",
      "6  Královéhradecký kraj   1 Intentional homicide  677     Theft  241.7143\n",
      "7        Liberecký kraj   3 Intentional homicide  938  Burglary  352.2857\n",
      "8  Moravskoslezský kraj   4 Intentional homicide 3686  Burglary 1252.0000\n",
      "9        Olomoucký kraj   2 Intentional homicide 1188     Theft  388.0000\n",
      "10      Pardubický kraj   0 Intentional homicide  644     Theft  218.4286\n",
      "11        Plzeňský kraj   2 Intentional homicide 1775  Burglary  549.8571\n",
      "12     Středočeský kraj   1 Intentional homicide 4006  Burglary 1245.8571\n",
      "13         Ústecký kraj   5 Intentional homicide 2533  Burglary  871.2857\n",
      "14         Zlínský kraj   2 Intentional homicide  579     Theft  209.8571\n",
      "   Median\n",
      "1     530\n",
      "2     206\n",
      "3     462\n",
      "4     130\n",
      "5     146\n",
      "6     112\n",
      "7     192\n",
      "8     511\n",
      "9     182\n",
      "10     95\n",
      "11    204\n",
      "12    393\n",
      "13    359\n",
      "14    105\n"
     ]
    }
   ],
   "source": [
    "# predefine table\n",
    "stats_table <- data.frame(\n",
    "  Region = character(), \n",
    "  Min = numeric(),  \n",
    "  Min_Crime = character(),\n",
    "  Max = numeric(),  \n",
    "  Max_Crime = character(),    \n",
    "  Mean = numeric(), \n",
    "  Median = numeric(), \n",
    "  stringsAsFactors = FALSE\n",
    ")\n",
    "\n",
    "# calculate basic statistic for each nuts3 region\n",
    "for (region in names(region_tables)) {\n",
    "  region_data <- region_tables[[region]]\n",
    "\n",
    "  min_crime <- region_data[which.min(region_data$values), \"iccs\"]\n",
    "  max_crime <- region_data[which.max(region_data$values), \"iccs\"]  \n",
    "\n",
    "  min_crime <- as.character(min_crime)\n",
    "  max_crime <- as.character(max_crime)  \n",
    "    \n",
    "  summary_stats <- region_data %>%\n",
    "    summarise(\n",
    "      Min = min(values),\n",
    "      Max = max(values),  \n",
    "      Mean = mean(values),\n",
    "      Median = median(values),\n",
    "    )\n",
    "  \n",
    "  summary_stats$Region <- region\n",
    "  summary_stats$Min_Crime <- min_crime\n",
    "  summary_stats$Max_Crime <- max_crime\n",
    "  \n",
    "  # add row\n",
    "  stats_table <- bind_rows(stats_table, summary_stats)\n",
    "}\n",
    "\n",
    "print(stats_table)"
   ]
  },
  {
   "cell_type": "markdown",
   "id": "f5f79e46-19f1-4b3b-a4f8-66d75072accf",
   "metadata": {},
   "source": [
    "### Zajímavosti\n",
    "\n",
    " * **Praha versus regiony**: Hlavní město Praha vykazuje výrazně vyšší počet trestných činů než většina ostatních regionů. To může být způsobeno vysokou hustotou obyvatelstva a vyšší mírou urbanizace, což vede ke zvýšené kriminalitě v oblastech s větší populací a ekonomickou aktivitou.\n",
    " * Jihomoravský kraj a Moravskoslezský mají také vysoký průměrný počet trestných činů (Mean = 1043, Mean = 1252), což může být důsledkem jeho rozsáhlého průmyslového a obchodního sektoru.\n",
    " * Naopak Pardubický kraj má nejnižší průměrný počet trestných činů (Mean = 218), což může naznačovat relativně nižší úroveň kriminality v tomto regionu. Jeden z možných důvodu je např. vyšší míra sociální stability a silnější komunitní vazby\n",
    " * Minimální hodnoty:\n",
    "     1. Intentional homicide: nízký počet úmyslných vražd, může to být výsledek několika faktorů jako jsou silné sociální normy proti násilí a vraždám,tyto trestné činy méně tolerovány což je logický. Regiony může mít účinné bezpečnostní opatření, jako je vysoká přítomnost policie, moderní technologie sledování a prevence kriminality\n",
    " * Maximální hodnoty:\n",
    "     1. Theft, burglary: jednoduchost spáchání vloupání a krádeží a riziko, že pachatelé nebudou chyceni, může být jedním z faktorů, které přispívají k vysokým počtům těchto trestných činů. Možnost rychle získat cenný majetek nebo peníze může také motivaci\n",
    "  \n",
    "> Burglary/breaking and entering and theft with force or the threat of force (robbery) should be EXCLUDED while ,Theft of a motorized land vehicle should be INCLUDED , based on ICCS manual.\n",
    "\n",
    ">“Burglary” should include, where possible, theft from a house, apartment or other dwelling place, factory, shop or office, from a military establishment, or by using false keys. It should exclude theft from a car, from a container, from a vending machine, from a parking meter and from fenced meadow/compound.\n",
    "\n",
    "Z toho vyplývá, že pro korektní zobrazení počtu/rozložení trestných činu měli bychom vynechat činy *Burglary of private residential premises* a *Theft of a motorized land vehicle*, jelikož už jsou zahrnuté v *Burglary* resp. *Theft*\n",
    "        "
   ]
  },
  {
   "cell_type": "code",
   "execution_count": 10,
   "id": "3ea1699d-e36b-4725-ba2d-38165cdd7bb2",
   "metadata": {
    "ExecuteTime": {
     "end_time": "2024-04-06T18:13:47.161938Z",
     "start_time": "2024-04-06T18:13:46.712559Z"
    }
   },
   "outputs": [
    {
     "data": {
      "image/png": "[encoded data removed]",
      "text/plain": [
       "plot without title"
      ]
     },
     "metadata": {
      "image/png": {
       "height": 420,
       "width": 420
      }
     },
     "output_type": "display_data"
    }
   ],
   "source": [
    "czech_data_no_duplicates <- czech_data %>%\n",
    "  filter(iccs != \"Burglary of private residential premises\" & iccs != \"Theft of a motorized land vehicle\")\n",
    "\n",
    "ggplot(czech_data_no_duplicates, aes(x = geo, y = values)) +\n",
    "  geom_bar(stat = \"summary\", fun = \"sum\", fill = \"skyblue\") +\n",
    "  labs(title = \"Celkový počet trestných činů v jednotlivých regionech\", \n",
    "       x = \"Region\", y = \"Celkový počet trestných činů\") +\n",
    "  theme(axis.text.x = element_text(angle = 45, hjust = 1))"
   ]
  },
  {
   "cell_type": "markdown",
   "id": "28e68799-369a-435f-8438-53adb5b89100",
   "metadata": {},
   "source": [
    "> Nejvyšší trestnou činnost jsme evidovali v Praze a v Moravskoslezském kraji [kriminalita-v-roce-2021](https://www.policie.cz/clanek/vyvoj-registrovane-kriminality-v-roce-2021.aspx)\n",
    "\n",
    "> Majetková kriminalita je nejzastoupenější oblastí [kriminalita-v-roce-2021](https://www.policie.cz/clanek/vyvoj-registrovane-kriminality-v-roce-2021.aspx)\n",
    "\n",
    "Na grafu je patrné, že nejvyšší počet trestných činů je zaznamenán v Praze a v Moravskoslezském kraji. A druhou část budeme moci ověřit z pie chartu. Avšak čísla uváděná na stránkách policie.cz jsou vyšší než ty, které máme v datasetu. Myslím si, že nejsou zaznamenány trestné činy spáchané v souvislosti s dopravními silničními nehodami, kterou by tvořili značnou část datasetu.\n",
    "\n",
    "#### Rozložení jednotlivých trestných činů v datasetu\n",
    "* Burglary(vloupání): je nejčastějším trestným činem. Toto číslo může indikovat nedostatečné zabezpečení domů, slabiny v policejním hlídání\n",
    "* Theft (krádež) je druhým nejčastějším trestným činem, představujícím 42.3% všech případů. Zde může navíc být zkoumáno, pokud by bylo poskutnuto dostatek informaci, zda jsou určité lokality nebo období častěji postiženy krádežemi, a jaké faktory mohou přispívat k tomuto jevu.\n"
   ]
  },
  {
   "cell_type": "code",
   "execution_count": 11,
   "id": "f1f9a671-9f34-4545-90ae-e7e6b762cb23",
   "metadata": {
    "ExecuteTime": {
     "end_time": "2024-04-06T18:13:47.517292Z",
     "start_time": "2024-04-06T18:13:47.169362Z"
    }
   },
   "outputs": [
    {
     "data": {
      "image/png": "[encoded data removed]",
      "text/plain": [
       "plot without title"
      ]
     },
     "metadata": {
      "image/png": {
       "height": 420,
       "width": 420
      }
     },
     "output_type": "display_data"
    }
   ],
   "source": [
    "crime_sums <- tapply(czech_data_no_duplicates$values, czech_data_no_duplicates$iccs, sum)\n",
    "crime_sums_df <- data.frame(crime = names(crime_sums),\n",
    "                            count = crime_sums)\n",
    "crime_sums_df$percent <- crime_sums_df$count / sum(crime_sums_df$count) * 100\n",
    "pie_chart <- ggplot(crime_sums_df, aes(x = \"\", y = count, fill = crime)) +\n",
    "  geom_bar(stat = \"identity\", width = 1) +\n",
    "  coord_polar(\"y\", start = 0) +\n",
    "  labs(title = \"Total Occurrences of Crimes\") +\n",
    "  theme_void() +\n",
    "  theme(legend.position = \"right\",\n",
    "        legend.text = element_text(size = 12),\n",
    "        legend.title = element_text(size = 10)) +\n",
    "  scale_fill_discrete(labels = paste0(crime_sums_df$crime, \": \", round(crime_sums_df$percent, 1), \"%\"))\n",
    "print(pie_chart)\n"
   ]
  },
  {
   "cell_type": "code",
   "execution_count": 12,
   "id": "1abec0ea-7d81-4464-a5f2-12c7f5a2af43",
   "metadata": {
    "ExecuteTime": {
     "end_time": "2024-04-06T18:13:47.738763Z",
     "start_time": "2024-04-06T18:13:47.524967Z"
    }
   },
   "outputs": [
    {
     "data": {
      "image/png": "[encoded data removed]",
      "text/plain": [
       "plot without title"
      ]
     },
     "metadata": {
      "image/png": {
       "height": 420,
       "width": 420
      }
     },
     "output_type": "display_data"
    }
   ],
   "source": [
    "homicide_plot <- ggplot(czech_data[czech_data$iccs == \"Intentional homicide\", ], aes(x = geo, y = values)) +\n",
    "  geom_bar(stat = \"identity\", fill = \"skyblue\") +\n",
    "  labs(title = \"Intentional Homicide by Region\", x = \"Region\", y = \"Number of Cases\") +\n",
    "  theme(axis.text.x = element_text(angle = 0, hjust = 1)) +\n",
    "  coord_flip()\n",
    "homicide_plot"
   ]
  },
  {
   "cell_type": "code",
   "execution_count": 13,
   "id": "46e1aae7-1adb-4484-920b-24a2d54229a8",
   "metadata": {
    "ExecuteTime": {
     "end_time": "2024-04-06T18:13:47.991014Z",
     "start_time": "2024-04-06T18:13:47.744246Z"
    }
   },
   "outputs": [
    {
     "data": {
      "image/png": "[encoded data removed]",
      "text/plain": [
       "plot without title"
      ]
     },
     "metadata": {
      "image/png": {
       "height": 420,
       "width": 420
      }
     },
     "output_type": "display_data"
    }
   ],
   "source": [
    "assault_plot <- ggplot(czech_data[czech_data$iccs == \"Assault\", ], aes(x = geo, y = values)) +\n",
    "  geom_bar(stat = \"identity\", fill = \"salmon\") +\n",
    "  labs(title = \"Assault Cases by Region\", x = \"Region\", y = \"Number of Cases\") +\n",
    "  theme(axis.text.x = element_text(angle = 0, hjust = 1)) +\n",
    "  coord_flip()\n",
    "assault_plot"
   ]
  },
  {
   "cell_type": "markdown",
   "id": "8e5820d4-5c66-474f-bca7-29aba7b3e6ab",
   "metadata": {},
   "source": [
    "## Kontingenční tabulka"
   ]
  },
  {
   "cell_type": "markdown",
   "id": "a54b7b56-52aa-48f1-865f-99c6df775c97",
   "metadata": {},
   "source": [
    "Pro začátek zkrátíme názvy jedinečných hodnot atributu \"iccs\", aby byla tabulka přehlednější."
   ]
  },
  {
   "cell_type": "code",
   "execution_count": 14,
   "id": "c0047e33-659a-4a20-bc68-7b503415b76f",
   "metadata": {
    "ExecuteTime": {
     "end_time": "2024-04-06T18:13:48.019148Z",
     "start_time": "2024-04-06T18:13:47.995946Z"
    }
   },
   "outputs": [
    {
     "data": {
      "text/html": [
       "<style>\n",
       ".list-inline {list-style: none; margin:0; padding: 0}\n",
       ".list-inline>li {display: inline-block}\n",
       ".list-inline>li:not(:last-child)::after {content: \"\\00b7\"; padding: 0 .5ex}\n",
       "</style>\n",
       "<ol class=list-inline><li>'Intentional homicide'</li><li>'Assault'</li><li>'Robbery'</li><li>'Burglary'</li><li>'Burglary of private residential premises'</li><li>'Theft'</li><li>'Theft of a motorized land vehicle'</li></ol>\n"
      ],
      "text/latex": [
       "\\begin{enumerate*}\n",
       "\\item 'Intentional homicide'\n",
       "\\item 'Assault'\n",
       "\\item 'Robbery'\n",
       "\\item 'Burglary'\n",
       "\\item 'Burglary of private residential premises'\n",
       "\\item 'Theft'\n",
       "\\item 'Theft of a motorized land vehicle'\n",
       "\\end{enumerate*}\n"
      ],
      "text/markdown": [
       "1. 'Intentional homicide'\n",
       "2. 'Assault'\n",
       "3. 'Robbery'\n",
       "4. 'Burglary'\n",
       "5. 'Burglary of private residential premises'\n",
       "6. 'Theft'\n",
       "7. 'Theft of a motorized land vehicle'\n",
       "\n",
       "\n"
      ],
      "text/plain": [
       "[1] \"Intentional homicide\"                    \n",
       "[2] \"Assault\"                                 \n",
       "[3] \"Robbery\"                                 \n",
       "[4] \"Burglary\"                                \n",
       "[5] \"Burglary of private residential premises\"\n",
       "[6] \"Theft\"                                   \n",
       "[7] \"Theft of a motorized land vehicle\"       "
      ]
     },
     "metadata": {},
     "output_type": "display_data"
    }
   ],
   "source": [
    "unique_values <- unique(czech_data$iccs)\n",
    "unique_values"
   ]
  },
  {
   "cell_type": "markdown",
   "id": "3f8aecb1-20e8-462c-a643-442f078d6302",
   "metadata": {},
   "source": [
    "Opět si můžeme všimnout, že některé atributy se \"překrývají\", to znamená, že hodnoty jednoho atributu jsou duplikovány v hodnotách druhého. "
   ]
  },
  {
   "cell_type": "markdown",
   "id": "125572eb-39e7-488f-9852-bb4ad9ae8c1e",
   "metadata": {},
   "source": [
    "Zářným příkladem jsou páry\n",
    "`Burglary - Burglary of private residential premises` a \n",
    "`Theft - Theft of a motorized land vehicle`.\n",
    "Proto má smysl odstranit atributy, které jsou podmnožinou jiného atributu pro lepší práci."
   ]
  },
  {
   "cell_type": "code",
   "execution_count": 15,
   "id": "bf1084cf-4768-4173-9c4e-e45bd0f0cac5",
   "metadata": {
    "ExecuteTime": {
     "end_time": "2024-04-06T18:13:48.046540Z",
     "start_time": "2024-04-06T18:13:48.024604Z"
    }
   },
   "outputs": [
    {
     "data": {
      "text/html": [
       "<style>\n",
       ".list-inline {list-style: none; margin:0; padding: 0}\n",
       ".list-inline>li {display: inline-block}\n",
       ".list-inline>li:not(:last-child)::after {content: \"\\00b7\"; padding: 0 .5ex}\n",
       "</style>\n",
       "<ol class=list-inline><li>'Intentional homicide'</li><li>'Assault'</li><li>'Robbery'</li><li>'Burglary'</li><li>'Theft'</li></ol>\n"
      ],
      "text/latex": [
       "\\begin{enumerate*}\n",
       "\\item 'Intentional homicide'\n",
       "\\item 'Assault'\n",
       "\\item 'Robbery'\n",
       "\\item 'Burglary'\n",
       "\\item 'Theft'\n",
       "\\end{enumerate*}\n"
      ],
      "text/markdown": [
       "1. 'Intentional homicide'\n",
       "2. 'Assault'\n",
       "3. 'Robbery'\n",
       "4. 'Burglary'\n",
       "5. 'Theft'\n",
       "\n",
       "\n"
      ],
      "text/plain": [
       "[1] \"Intentional homicide\" \"Assault\"              \"Robbery\"             \n",
       "[4] \"Burglary\"             \"Theft\"               "
      ]
     },
     "metadata": {},
     "output_type": "display_data"
    }
   ],
   "source": [
    "unique_values <- unique(czech_data_no_duplicates$iccs)\n",
    "unique_values"
   ]
  },
  {
   "cell_type": "code",
   "execution_count": 16,
   "id": "6676fb18-8773-43f4-824d-53cae53586bb",
   "metadata": {
    "ExecuteTime": {
     "end_time": "2024-04-06T18:13:48.081008Z",
     "start_time": "2024-04-06T18:13:48.053611Z"
    }
   },
   "outputs": [],
   "source": [
    "# Přejmenování hodnot v atributu 'iccs'\n",
    "czech_data_no_duplicates$iccs <- recode(czech_data_no_duplicates$iccs,\n",
    "                               'Intentional homicide' = 'Homicide',\n",
    "                               'Assault' = 'Asslt',\n",
    "                               'Robbery' = 'Rbry',\n",
    "                               'Burglary' = 'Brglry',\n",
    "                               'Theft' = 'Thft')"
   ]
  },
  {
   "cell_type": "markdown",
   "id": "a993a42c-ac11-4ce5-8372-0d627fb25505",
   "metadata": {},
   "source": [
    "Nyní přímo sestavíme kontingenční tabulku, která bude obsahovat počty konkrétních trestných činů v určitých regionech České republiky."
   ]
  },
  {
   "cell_type": "code",
   "execution_count": 17,
   "id": "eb67bd17-33e6-4f0d-b0f7-78d289b73713",
   "metadata": {
    "ExecuteTime": {
     "end_time": "2024-04-06T18:13:48.114902Z",
     "start_time": "2024-04-06T18:13:48.086456Z"
    }
   },
   "outputs": [
    {
     "name": "stdout",
     "output_type": "stream",
     "text": [
      "                      iccs\n",
      "geo                    Asslt Brglry Homicide Rbry Thft\n",
      "  Hlavní město Praha     530   9937        7  190 7861\n",
      "  Jihočeský kraj         269    931        7   43 1044\n",
      "  Jihomoravský kraj      509   3296        6  174 2623\n",
      "  Karlovarský kraj       130    599        3   41  633\n",
      "  Kraj Vysočina          226    508        3   27  499\n",
      "  Královéhradecký kraj   162    612        1   38  677\n",
      "  Liberecký kraj         192    938        3   70  929\n",
      "  Moravskoslezský kraj   637   3686        4  203 3497\n",
      "  Olomoucký kraj         314    893        2   51 1188\n",
      "  Pardubický kraj        120    587        0   24  644\n",
      "  Plzeňský kraj          204   1775        2   66 1302\n",
      "  Středočeský kraj       393   4006        1  110 2727\n",
      "  Ústecký kraj           359   2533        5  159 2386\n",
      "  Zlínský kraj           245    447        2   34  579\n"
     ]
    }
   ],
   "source": [
    "options(width = 120)\n",
    "kont_tab <- xtabs(formula=values ~ geo + iccs, data=czech_data_no_duplicates)\n",
    "print(kont_tab)"
   ]
  },
  {
   "cell_type": "code",
   "execution_count": 18,
   "id": "921622a8-12cb-4e21-b7be-3dcf0af2a092",
   "metadata": {
    "ExecuteTime": {
     "end_time": "2024-04-06T18:13:48.157291Z",
     "start_time": "2024-04-06T18:13:48.120229Z"
    }
   },
   "outputs": [
    {
     "data": {
      "text/html": [
       "<table class=\"dataframe\">\n",
       "<caption>A table: 15 × 6 of type dbl</caption>\n",
       "<thead>\n",
       "\t<tr><th></th><th scope=col>Asslt</th><th scope=col>Brglry</th><th scope=col>Homicide</th><th scope=col>Rbry</th><th scope=col>Thft</th><th scope=col>Sum</th></tr>\n",
       "</thead>\n",
       "<tbody>\n",
       "\t<tr><th scope=row>Hlavní město Praha</th><td> 530</td><td> 9937</td><td> 7</td><td> 190</td><td> 7861</td><td>18525</td></tr>\n",
       "\t<tr><th scope=row>Jihočeský kraj</th><td> 269</td><td>  931</td><td> 7</td><td>  43</td><td> 1044</td><td> 2294</td></tr>\n",
       "\t<tr><th scope=row>Jihomoravský kraj</th><td> 509</td><td> 3296</td><td> 6</td><td> 174</td><td> 2623</td><td> 6608</td></tr>\n",
       "\t<tr><th scope=row>Karlovarský kraj</th><td> 130</td><td>  599</td><td> 3</td><td>  41</td><td>  633</td><td> 1406</td></tr>\n",
       "\t<tr><th scope=row>Kraj Vysočina</th><td> 226</td><td>  508</td><td> 3</td><td>  27</td><td>  499</td><td> 1263</td></tr>\n",
       "\t<tr><th scope=row>Královéhradecký kraj</th><td> 162</td><td>  612</td><td> 1</td><td>  38</td><td>  677</td><td> 1490</td></tr>\n",
       "\t<tr><th scope=row>Liberecký kraj</th><td> 192</td><td>  938</td><td> 3</td><td>  70</td><td>  929</td><td> 2132</td></tr>\n",
       "\t<tr><th scope=row>Moravskoslezský kraj</th><td> 637</td><td> 3686</td><td> 4</td><td> 203</td><td> 3497</td><td> 8027</td></tr>\n",
       "\t<tr><th scope=row>Olomoucký kraj</th><td> 314</td><td>  893</td><td> 2</td><td>  51</td><td> 1188</td><td> 2448</td></tr>\n",
       "\t<tr><th scope=row>Pardubický kraj</th><td> 120</td><td>  587</td><td> 0</td><td>  24</td><td>  644</td><td> 1375</td></tr>\n",
       "\t<tr><th scope=row>Plzeňský kraj</th><td> 204</td><td> 1775</td><td> 2</td><td>  66</td><td> 1302</td><td> 3349</td></tr>\n",
       "\t<tr><th scope=row>Středočeský kraj</th><td> 393</td><td> 4006</td><td> 1</td><td> 110</td><td> 2727</td><td> 7237</td></tr>\n",
       "\t<tr><th scope=row>Ústecký kraj</th><td> 359</td><td> 2533</td><td> 5</td><td> 159</td><td> 2386</td><td> 5442</td></tr>\n",
       "\t<tr><th scope=row>Zlínský kraj</th><td> 245</td><td>  447</td><td> 2</td><td>  34</td><td>  579</td><td> 1307</td></tr>\n",
       "\t<tr><th scope=row>Sum</th><td>4290</td><td>30748</td><td>46</td><td>1230</td><td>26589</td><td>62903</td></tr>\n",
       "</tbody>\n",
       "</table>\n"
      ],
      "text/latex": [
       "A table: 15 × 6 of type dbl\n",
       "\\begin{tabular}{r|llllll}\n",
       "  & Asslt & Brglry & Homicide & Rbry & Thft & Sum\\\\\n",
       "\\hline\n",
       "\tHlavní město Praha &  530 &  9937 &  7 &  190 &  7861 & 18525\\\\\n",
       "\tJihočeský kraj &  269 &   931 &  7 &   43 &  1044 &  2294\\\\\n",
       "\tJihomoravský kraj &  509 &  3296 &  6 &  174 &  2623 &  6608\\\\\n",
       "\tKarlovarský kraj &  130 &   599 &  3 &   41 &   633 &  1406\\\\\n",
       "\tKraj Vysočina &  226 &   508 &  3 &   27 &   499 &  1263\\\\\n",
       "\tKrálovéhradecký kraj &  162 &   612 &  1 &   38 &   677 &  1490\\\\\n",
       "\tLiberecký kraj &  192 &   938 &  3 &   70 &   929 &  2132\\\\\n",
       "\tMoravskoslezský kraj &  637 &  3686 &  4 &  203 &  3497 &  8027\\\\\n",
       "\tOlomoucký kraj &  314 &   893 &  2 &   51 &  1188 &  2448\\\\\n",
       "\tPardubický kraj &  120 &   587 &  0 &   24 &   644 &  1375\\\\\n",
       "\tPlzeňský kraj &  204 &  1775 &  2 &   66 &  1302 &  3349\\\\\n",
       "\tStředočeský kraj &  393 &  4006 &  1 &  110 &  2727 &  7237\\\\\n",
       "\tÚstecký kraj &  359 &  2533 &  5 &  159 &  2386 &  5442\\\\\n",
       "\tZlínský kraj &  245 &   447 &  2 &   34 &   579 &  1307\\\\\n",
       "\tSum & 4290 & 30748 & 46 & 1230 & 26589 & 62903\\\\\n",
       "\\end{tabular}\n"
      ],
      "text/markdown": [
       "\n",
       "A table: 15 × 6 of type dbl\n",
       "\n",
       "| <!--/--> | Asslt | Brglry | Homicide | Rbry | Thft | Sum |\n",
       "|---|---|---|---|---|---|---|\n",
       "| Hlavní město Praha |  530 |  9937 |  7 |  190 |  7861 | 18525 |\n",
       "| Jihočeský kraj |  269 |   931 |  7 |   43 |  1044 |  2294 |\n",
       "| Jihomoravský kraj |  509 |  3296 |  6 |  174 |  2623 |  6608 |\n",
       "| Karlovarský kraj |  130 |   599 |  3 |   41 |   633 |  1406 |\n",
       "| Kraj Vysočina |  226 |   508 |  3 |   27 |   499 |  1263 |\n",
       "| Královéhradecký kraj |  162 |   612 |  1 |   38 |   677 |  1490 |\n",
       "| Liberecký kraj |  192 |   938 |  3 |   70 |   929 |  2132 |\n",
       "| Moravskoslezský kraj |  637 |  3686 |  4 |  203 |  3497 |  8027 |\n",
       "| Olomoucký kraj |  314 |   893 |  2 |   51 |  1188 |  2448 |\n",
       "| Pardubický kraj |  120 |   587 |  0 |   24 |   644 |  1375 |\n",
       "| Plzeňský kraj |  204 |  1775 |  2 |   66 |  1302 |  3349 |\n",
       "| Středočeský kraj |  393 |  4006 |  1 |  110 |  2727 |  7237 |\n",
       "| Ústecký kraj |  359 |  2533 |  5 |  159 |  2386 |  5442 |\n",
       "| Zlínský kraj |  245 |   447 |  2 |   34 |   579 |  1307 |\n",
       "| Sum | 4290 | 30748 | 46 | 1230 | 26589 | 62903 |\n",
       "\n"
      ],
      "text/plain": [
       "                      iccs\n",
       "geo                    Asslt Brglry Homicide Rbry Thft  Sum  \n",
       "  Hlavní město Praha    530   9937   7        190  7861 18525\n",
       "  Jihočeský kraj        269    931   7         43  1044  2294\n",
       "  Jihomoravský kraj     509   3296   6        174  2623  6608\n",
       "  Karlovarský kraj      130    599   3         41   633  1406\n",
       "  Kraj Vysočina         226    508   3         27   499  1263\n",
       "  Královéhradecký kraj  162    612   1         38   677  1490\n",
       "  Liberecký kraj        192    938   3         70   929  2132\n",
       "  Moravskoslezský kraj  637   3686   4        203  3497  8027\n",
       "  Olomoucký kraj        314    893   2         51  1188  2448\n",
       "  Pardubický kraj       120    587   0         24   644  1375\n",
       "  Plzeňský kraj         204   1775   2         66  1302  3349\n",
       "  Středočeský kraj      393   4006   1        110  2727  7237\n",
       "  Ústecký kraj          359   2533   5        159  2386  5442\n",
       "  Zlínský kraj          245    447   2         34   579  1307\n",
       "  Sum                  4290  30748  46       1230 26589 62903"
      ]
     },
     "metadata": {},
     "output_type": "display_data"
    }
   ],
   "source": [
    "kont_tab <- as.table(kont_tab)\n",
    "addmargins(kont_tab)"
   ]
  },
  {
   "cell_type": "markdown",
   "id": "1db72f77-114b-4419-a45f-dc17c8eb4495",
   "metadata": {},
   "source": [
    "Z této tabulky lze pozorovat následující:\n",
    "* **Hlavní město Praha**: V porovnání s ostatními regiony má největší počet trestných činů. Nejčastějšími trestnými činy jsou Vloupání (9937) a krádeže (7861).\n",
    "* **Kraj Vysočina**: Region s nejmenším celkovým počtem trestných činů (celkově 1263 trestných činů). To znamená, že Kraj Vysočina má nejmenší míru kriminality ve srovnání s ostatními regiony v České republice.\n",
    "* **Rozdíly mezi regiony**: Tabulka ukazuje výrazné rozdíly v počtu trestných činů mezi jednotlivými regiony České republiky. Tento fakt naznačuje, že kriminalita není rovnoměrně rozložena po celém území, a může být ovlivněna mnoha faktory, jako jsou hustota obyvatelstva, sociální podmínky a ekonomický stav.\n",
    "* **Dominantní typy trestných činů**: Z tabulky je zřejmé, že nejčastějšími trestnými činy jsou krádeže a vloupání, což je v souladu s obecnými trendy kriminality. Vraždy a loupeže jsou mnohem méně časté.\n",
    "* **Středočeský kraj jako příkladní případ**: Středočeský kraj má vysoký počet trestných činů, což může být způsobeno jeho blízkostí k Hlavnímu městu Praze a vysokou hustotou obyvatelstva v této oblasti."
   ]
  },
  {
   "cell_type": "code",
   "execution_count": 19,
   "id": "9d5394b7-ed1f-4259-913b-18b962cd0155",
   "metadata": {
    "ExecuteTime": {
     "end_time": "2024-04-06T18:13:48.198483Z",
     "start_time": "2024-04-06T18:13:48.162981Z"
    }
   },
   "outputs": [
    {
     "data": {
      "text/html": [
       "<table class=\"dataframe\">\n",
       "<caption>A table: 15 × 6 of type dbl</caption>\n",
       "<thead>\n",
       "\t<tr><th></th><th scope=col>Asslt</th><th scope=col>Brglry</th><th scope=col>Homicide</th><th scope=col>Rbry</th><th scope=col>Thft</th><th scope=col>Sum</th></tr>\n",
       "</thead>\n",
       "<tbody>\n",
       "\t<tr><th scope=row>Hlavní město Praha</th><td>0.0084</td><td>0.1580</td><td>1e-04</td><td>0.0030</td><td>0.1250</td><td>0.2945</td></tr>\n",
       "\t<tr><th scope=row>Jihočeský kraj</th><td>0.0043</td><td>0.0148</td><td>1e-04</td><td>0.0007</td><td>0.0166</td><td>0.0365</td></tr>\n",
       "\t<tr><th scope=row>Jihomoravský kraj</th><td>0.0081</td><td>0.0524</td><td>1e-04</td><td>0.0028</td><td>0.0417</td><td>0.1051</td></tr>\n",
       "\t<tr><th scope=row>Karlovarský kraj</th><td>0.0021</td><td>0.0095</td><td>0e+00</td><td>0.0007</td><td>0.0101</td><td>0.0224</td></tr>\n",
       "\t<tr><th scope=row>Kraj Vysočina</th><td>0.0036</td><td>0.0081</td><td>0e+00</td><td>0.0004</td><td>0.0079</td><td>0.0200</td></tr>\n",
       "\t<tr><th scope=row>Královéhradecký kraj</th><td>0.0026</td><td>0.0097</td><td>0e+00</td><td>0.0006</td><td>0.0108</td><td>0.0237</td></tr>\n",
       "\t<tr><th scope=row>Liberecký kraj</th><td>0.0031</td><td>0.0149</td><td>0e+00</td><td>0.0011</td><td>0.0148</td><td>0.0339</td></tr>\n",
       "\t<tr><th scope=row>Moravskoslezský kraj</th><td>0.0101</td><td>0.0586</td><td>1e-04</td><td>0.0032</td><td>0.0556</td><td>0.1276</td></tr>\n",
       "\t<tr><th scope=row>Olomoucký kraj</th><td>0.0050</td><td>0.0142</td><td>0e+00</td><td>0.0008</td><td>0.0189</td><td>0.0389</td></tr>\n",
       "\t<tr><th scope=row>Pardubický kraj</th><td>0.0019</td><td>0.0093</td><td>0e+00</td><td>0.0004</td><td>0.0102</td><td>0.0218</td></tr>\n",
       "\t<tr><th scope=row>Plzeňský kraj</th><td>0.0032</td><td>0.0282</td><td>0e+00</td><td>0.0010</td><td>0.0207</td><td>0.0531</td></tr>\n",
       "\t<tr><th scope=row>Středočeský kraj</th><td>0.0062</td><td>0.0637</td><td>0e+00</td><td>0.0017</td><td>0.0434</td><td>0.1150</td></tr>\n",
       "\t<tr><th scope=row>Ústecký kraj</th><td>0.0057</td><td>0.0403</td><td>1e-04</td><td>0.0025</td><td>0.0379</td><td>0.0865</td></tr>\n",
       "\t<tr><th scope=row>Zlínský kraj</th><td>0.0039</td><td>0.0071</td><td>0e+00</td><td>0.0005</td><td>0.0092</td><td>0.0207</td></tr>\n",
       "\t<tr><th scope=row>Sum</th><td>0.0682</td><td>0.4888</td><td>5e-04</td><td>0.0194</td><td>0.4228</td><td>0.9997</td></tr>\n",
       "</tbody>\n",
       "</table>\n"
      ],
      "text/latex": [
       "A table: 15 × 6 of type dbl\n",
       "\\begin{tabular}{r|llllll}\n",
       "  & Asslt & Brglry & Homicide & Rbry & Thft & Sum\\\\\n",
       "\\hline\n",
       "\tHlavní město Praha & 0.0084 & 0.1580 & 1e-04 & 0.0030 & 0.1250 & 0.2945\\\\\n",
       "\tJihočeský kraj & 0.0043 & 0.0148 & 1e-04 & 0.0007 & 0.0166 & 0.0365\\\\\n",
       "\tJihomoravský kraj & 0.0081 & 0.0524 & 1e-04 & 0.0028 & 0.0417 & 0.1051\\\\\n",
       "\tKarlovarský kraj & 0.0021 & 0.0095 & 0e+00 & 0.0007 & 0.0101 & 0.0224\\\\\n",
       "\tKraj Vysočina & 0.0036 & 0.0081 & 0e+00 & 0.0004 & 0.0079 & 0.0200\\\\\n",
       "\tKrálovéhradecký kraj & 0.0026 & 0.0097 & 0e+00 & 0.0006 & 0.0108 & 0.0237\\\\\n",
       "\tLiberecký kraj & 0.0031 & 0.0149 & 0e+00 & 0.0011 & 0.0148 & 0.0339\\\\\n",
       "\tMoravskoslezský kraj & 0.0101 & 0.0586 & 1e-04 & 0.0032 & 0.0556 & 0.1276\\\\\n",
       "\tOlomoucký kraj & 0.0050 & 0.0142 & 0e+00 & 0.0008 & 0.0189 & 0.0389\\\\\n",
       "\tPardubický kraj & 0.0019 & 0.0093 & 0e+00 & 0.0004 & 0.0102 & 0.0218\\\\\n",
       "\tPlzeňský kraj & 0.0032 & 0.0282 & 0e+00 & 0.0010 & 0.0207 & 0.0531\\\\\n",
       "\tStředočeský kraj & 0.0062 & 0.0637 & 0e+00 & 0.0017 & 0.0434 & 0.1150\\\\\n",
       "\tÚstecký kraj & 0.0057 & 0.0403 & 1e-04 & 0.0025 & 0.0379 & 0.0865\\\\\n",
       "\tZlínský kraj & 0.0039 & 0.0071 & 0e+00 & 0.0005 & 0.0092 & 0.0207\\\\\n",
       "\tSum & 0.0682 & 0.4888 & 5e-04 & 0.0194 & 0.4228 & 0.9997\\\\\n",
       "\\end{tabular}\n"
      ],
      "text/markdown": [
       "\n",
       "A table: 15 × 6 of type dbl\n",
       "\n",
       "| <!--/--> | Asslt | Brglry | Homicide | Rbry | Thft | Sum |\n",
       "|---|---|---|---|---|---|---|\n",
       "| Hlavní město Praha | 0.0084 | 0.1580 | 1e-04 | 0.0030 | 0.1250 | 0.2945 |\n",
       "| Jihočeský kraj | 0.0043 | 0.0148 | 1e-04 | 0.0007 | 0.0166 | 0.0365 |\n",
       "| Jihomoravský kraj | 0.0081 | 0.0524 | 1e-04 | 0.0028 | 0.0417 | 0.1051 |\n",
       "| Karlovarský kraj | 0.0021 | 0.0095 | 0e+00 | 0.0007 | 0.0101 | 0.0224 |\n",
       "| Kraj Vysočina | 0.0036 | 0.0081 | 0e+00 | 0.0004 | 0.0079 | 0.0200 |\n",
       "| Královéhradecký kraj | 0.0026 | 0.0097 | 0e+00 | 0.0006 | 0.0108 | 0.0237 |\n",
       "| Liberecký kraj | 0.0031 | 0.0149 | 0e+00 | 0.0011 | 0.0148 | 0.0339 |\n",
       "| Moravskoslezský kraj | 0.0101 | 0.0586 | 1e-04 | 0.0032 | 0.0556 | 0.1276 |\n",
       "| Olomoucký kraj | 0.0050 | 0.0142 | 0e+00 | 0.0008 | 0.0189 | 0.0389 |\n",
       "| Pardubický kraj | 0.0019 | 0.0093 | 0e+00 | 0.0004 | 0.0102 | 0.0218 |\n",
       "| Plzeňský kraj | 0.0032 | 0.0282 | 0e+00 | 0.0010 | 0.0207 | 0.0531 |\n",
       "| Středočeský kraj | 0.0062 | 0.0637 | 0e+00 | 0.0017 | 0.0434 | 0.1150 |\n",
       "| Ústecký kraj | 0.0057 | 0.0403 | 1e-04 | 0.0025 | 0.0379 | 0.0865 |\n",
       "| Zlínský kraj | 0.0039 | 0.0071 | 0e+00 | 0.0005 | 0.0092 | 0.0207 |\n",
       "| Sum | 0.0682 | 0.4888 | 5e-04 | 0.0194 | 0.4228 | 0.9997 |\n",
       "\n"
      ],
      "text/plain": [
       "                      iccs\n",
       "geo                    Asslt  Brglry Homicide Rbry   Thft   Sum   \n",
       "  Hlavní město Praha   0.0084 0.1580 1e-04    0.0030 0.1250 0.2945\n",
       "  Jihočeský kraj       0.0043 0.0148 1e-04    0.0007 0.0166 0.0365\n",
       "  Jihomoravský kraj    0.0081 0.0524 1e-04    0.0028 0.0417 0.1051\n",
       "  Karlovarský kraj     0.0021 0.0095 0e+00    0.0007 0.0101 0.0224\n",
       "  Kraj Vysočina        0.0036 0.0081 0e+00    0.0004 0.0079 0.0200\n",
       "  Královéhradecký kraj 0.0026 0.0097 0e+00    0.0006 0.0108 0.0237\n",
       "  Liberecký kraj       0.0031 0.0149 0e+00    0.0011 0.0148 0.0339\n",
       "  Moravskoslezský kraj 0.0101 0.0586 1e-04    0.0032 0.0556 0.1276\n",
       "  Olomoucký kraj       0.0050 0.0142 0e+00    0.0008 0.0189 0.0389\n",
       "  Pardubický kraj      0.0019 0.0093 0e+00    0.0004 0.0102 0.0218\n",
       "  Plzeňský kraj        0.0032 0.0282 0e+00    0.0010 0.0207 0.0531\n",
       "  Středočeský kraj     0.0062 0.0637 0e+00    0.0017 0.0434 0.1150\n",
       "  Ústecký kraj         0.0057 0.0403 1e-04    0.0025 0.0379 0.0865\n",
       "  Zlínský kraj         0.0039 0.0071 0e+00    0.0005 0.0092 0.0207\n",
       "  Sum                  0.0682 0.4888 5e-04    0.0194 0.4228 0.9997"
      ]
     },
     "metadata": {},
     "output_type": "display_data"
    }
   ],
   "source": [
    "probs <- round(prop.table(kont_tab), digits = 4)\n",
    "addmargins(probs)"
   ]
  },
  {
   "cell_type": "code",
   "execution_count": 20,
   "id": "e3c88e50-a9e2-4e84-8089-685d3fd4f93c",
   "metadata": {
    "ExecuteTime": {
     "end_time": "2024-04-06T18:13:48.377892Z",
     "start_time": "2024-04-06T18:13:48.203617Z"
    }
   },
   "outputs": [
    {
     "data": {
      "image/png": "[encoded data removed]",
      "text/plain": [
       "Plot with title \"kont_tab\""
      ]
     },
     "metadata": {
      "image/png": {
       "height": 720,
       "width": 720
      }
     },
     "output_type": "display_data"
    }
   ],
   "source": [
    "options(repr.plot.width = 12, repr.plot.height = 12)\n",
    "mosaicplot(kont_tab, color = TRUE, las = 1.5, cex.axis = 1)"
   ]
  },
  {
   "cell_type": "markdown",
   "id": "4e892298-9a0c-45ce-81a6-5c286646c0c4",
   "metadata": {},
   "source": [
    "* Při pohledu na mozaikový plot by se mohlo zdát, že rozdělení trestných činů v různých regionech je podobné nebo dokonce stejné.\n",
    "* Na první pohled můžeme vidět, že některé oblasti mají podobně velké dlaždice pro určité trestné činy, což by mohlo naznačovat, že se rozložení trestných činů mezi regiony příliš neliší.\n",
    "* Pro potvrzení skutečného rozdělení trestných činů mezi regiony bychom měli provést další analýzy.\n",
    "* Proto provedeme test homogenity rozdělení:\n",
    "    - $H_0$: Rozdělení trestných činů v jednotlivých regionech České republiky je homogenní, což znamená, že pravděpodobnosti výskytu jednotlivých trestných činů jsou pro všechny regiony stejné\n",
    "    - $H_A$: neplatí $H_0$"
   ]
  },
  {
   "cell_type": "markdown",
   "id": "b5d95ca0-3ceb-4c82-b1c7-7a8b33eec457",
   "metadata": {},
   "source": [
    "Ověření těchto hypotéz **by bylo** možné pomocí Pearsonova testu $\\chi^2$, ale údajně však výsledky testu nebudou zcela relevantní a správné (důvod je uveden dále). Nakonec nám to říká i varování po pokusu o použití tohoto testu. Ale i tak zvědavost zvítězí a podíváme se na výsledek Pearsonova testu."
   ]
  },
  {
   "cell_type": "code",
   "execution_count": 21,
   "id": "c2c28708-75e6-4fa4-928d-1f6c78519053",
   "metadata": {
    "ExecuteTime": {
     "end_time": "2024-04-06T18:13:48.407516Z",
     "start_time": "2024-04-06T18:13:48.382741Z"
    }
   },
   "outputs": [
    {
     "name": "stderr",
     "output_type": "stream",
     "text": [
      "Warning message in chisq.test(kont_tab):\n",
      "\"Chi-squared approximation may be incorrect\"\n"
     ]
    },
    {
     "data": {
      "text/plain": [
       "\n",
       "\tPearson's Chi-squared test\n",
       "\n",
       "data:  kont_tab\n",
       "X-squared = 1991.1, df = 52, p-value < 2.2e-16\n"
      ]
     },
     "metadata": {},
     "output_type": "display_data"
    }
   ],
   "source": [
    "pearson <- chisq.test(kont_tab)\n",
    "pearson"
   ]
  },
  {
   "cell_type": "markdown",
   "id": "363d5959-ea28-4402-9f7d-a23bec7ef99d",
   "metadata": {},
   "source": [
    "Tento výsledek indikuje, že existuje statisticky významný vztah mezi trestnými činy a regiony. P-value je mimořádně malé, což znamená, že máme silné důkazy proti nulové hypotéze a lze ji zamítnout. **Podle toho testu** to znamená, že rozložení trestných činů není homogenní mezi regiony České republiky."
   ]
  },
  {
   "cell_type": "code",
   "execution_count": 22,
   "id": "e0cae8d3-4493-49df-83cc-11f9d4883e72",
   "metadata": {
    "ExecuteTime": {
     "end_time": "2024-04-06T18:13:48.446479Z",
     "start_time": "2024-04-06T18:13:48.413222Z"
    }
   },
   "outputs": [
    {
     "data": {
      "text/html": [
       "<table class=\"dataframe\">\n",
       "<caption>A table: 15 × 6 of type dbl</caption>\n",
       "<thead>\n",
       "\t<tr><th></th><th scope=col>Asslt</th><th scope=col>Brglry</th><th scope=col>Homicide</th><th scope=col>Rbry</th><th scope=col>Thft</th><th scope=col>Sum</th></tr>\n",
       "</thead>\n",
       "<tbody>\n",
       "\t<tr><th scope=row>Hlavní město Praha</th><td> 530</td><td> 9937</td><td> 7</td><td> 190</td><td> 7861</td><td>18525</td></tr>\n",
       "\t<tr><th scope=row>Jihočeský kraj</th><td> 269</td><td>  931</td><td> 7</td><td>  43</td><td> 1044</td><td> 2294</td></tr>\n",
       "\t<tr><th scope=row>Jihomoravský kraj</th><td> 509</td><td> 3296</td><td> 6</td><td> 174</td><td> 2623</td><td> 6608</td></tr>\n",
       "\t<tr><th scope=row>Karlovarský kraj</th><td> 130</td><td>  599</td><td> 3</td><td>  41</td><td>  633</td><td> 1406</td></tr>\n",
       "\t<tr><th scope=row>Kraj Vysočina</th><td> 226</td><td>  508</td><td> 3</td><td>  27</td><td>  499</td><td> 1263</td></tr>\n",
       "\t<tr><th scope=row>Královéhradecký kraj</th><td> 162</td><td>  612</td><td> 1</td><td>  38</td><td>  677</td><td> 1490</td></tr>\n",
       "\t<tr><th scope=row>Liberecký kraj</th><td> 192</td><td>  938</td><td> 3</td><td>  70</td><td>  929</td><td> 2132</td></tr>\n",
       "\t<tr><th scope=row>Moravskoslezský kraj</th><td> 637</td><td> 3686</td><td> 4</td><td> 203</td><td> 3497</td><td> 8027</td></tr>\n",
       "\t<tr><th scope=row>Olomoucký kraj</th><td> 314</td><td>  893</td><td> 2</td><td>  51</td><td> 1188</td><td> 2448</td></tr>\n",
       "\t<tr><th scope=row>Pardubický kraj</th><td> 120</td><td>  587</td><td> 0</td><td>  24</td><td>  644</td><td> 1375</td></tr>\n",
       "\t<tr><th scope=row>Plzeňský kraj</th><td> 204</td><td> 1775</td><td> 2</td><td>  66</td><td> 1302</td><td> 3349</td></tr>\n",
       "\t<tr><th scope=row>Středočeský kraj</th><td> 393</td><td> 4006</td><td> 1</td><td> 110</td><td> 2727</td><td> 7237</td></tr>\n",
       "\t<tr><th scope=row>Ústecký kraj</th><td> 359</td><td> 2533</td><td> 5</td><td> 159</td><td> 2386</td><td> 5442</td></tr>\n",
       "\t<tr><th scope=row>Zlínský kraj</th><td> 245</td><td>  447</td><td> 2</td><td>  34</td><td>  579</td><td> 1307</td></tr>\n",
       "\t<tr><th scope=row>Sum</th><td>4290</td><td>30748</td><td>46</td><td>1230</td><td>26589</td><td>62903</td></tr>\n",
       "</tbody>\n",
       "</table>\n"
      ],
      "text/latex": [
       "A table: 15 × 6 of type dbl\n",
       "\\begin{tabular}{r|llllll}\n",
       "  & Asslt & Brglry & Homicide & Rbry & Thft & Sum\\\\\n",
       "\\hline\n",
       "\tHlavní město Praha &  530 &  9937 &  7 &  190 &  7861 & 18525\\\\\n",
       "\tJihočeský kraj &  269 &   931 &  7 &   43 &  1044 &  2294\\\\\n",
       "\tJihomoravský kraj &  509 &  3296 &  6 &  174 &  2623 &  6608\\\\\n",
       "\tKarlovarský kraj &  130 &   599 &  3 &   41 &   633 &  1406\\\\\n",
       "\tKraj Vysočina &  226 &   508 &  3 &   27 &   499 &  1263\\\\\n",
       "\tKrálovéhradecký kraj &  162 &   612 &  1 &   38 &   677 &  1490\\\\\n",
       "\tLiberecký kraj &  192 &   938 &  3 &   70 &   929 &  2132\\\\\n",
       "\tMoravskoslezský kraj &  637 &  3686 &  4 &  203 &  3497 &  8027\\\\\n",
       "\tOlomoucký kraj &  314 &   893 &  2 &   51 &  1188 &  2448\\\\\n",
       "\tPardubický kraj &  120 &   587 &  0 &   24 &   644 &  1375\\\\\n",
       "\tPlzeňský kraj &  204 &  1775 &  2 &   66 &  1302 &  3349\\\\\n",
       "\tStředočeský kraj &  393 &  4006 &  1 &  110 &  2727 &  7237\\\\\n",
       "\tÚstecký kraj &  359 &  2533 &  5 &  159 &  2386 &  5442\\\\\n",
       "\tZlínský kraj &  245 &   447 &  2 &   34 &   579 &  1307\\\\\n",
       "\tSum & 4290 & 30748 & 46 & 1230 & 26589 & 62903\\\\\n",
       "\\end{tabular}\n"
      ],
      "text/markdown": [
       "\n",
       "A table: 15 × 6 of type dbl\n",
       "\n",
       "| <!--/--> | Asslt | Brglry | Homicide | Rbry | Thft | Sum |\n",
       "|---|---|---|---|---|---|---|\n",
       "| Hlavní město Praha |  530 |  9937 |  7 |  190 |  7861 | 18525 |\n",
       "| Jihočeský kraj |  269 |   931 |  7 |   43 |  1044 |  2294 |\n",
       "| Jihomoravský kraj |  509 |  3296 |  6 |  174 |  2623 |  6608 |\n",
       "| Karlovarský kraj |  130 |   599 |  3 |   41 |   633 |  1406 |\n",
       "| Kraj Vysočina |  226 |   508 |  3 |   27 |   499 |  1263 |\n",
       "| Královéhradecký kraj |  162 |   612 |  1 |   38 |   677 |  1490 |\n",
       "| Liberecký kraj |  192 |   938 |  3 |   70 |   929 |  2132 |\n",
       "| Moravskoslezský kraj |  637 |  3686 |  4 |  203 |  3497 |  8027 |\n",
       "| Olomoucký kraj |  314 |   893 |  2 |   51 |  1188 |  2448 |\n",
       "| Pardubický kraj |  120 |   587 |  0 |   24 |   644 |  1375 |\n",
       "| Plzeňský kraj |  204 |  1775 |  2 |   66 |  1302 |  3349 |\n",
       "| Středočeský kraj |  393 |  4006 |  1 |  110 |  2727 |  7237 |\n",
       "| Ústecký kraj |  359 |  2533 |  5 |  159 |  2386 |  5442 |\n",
       "| Zlínský kraj |  245 |   447 |  2 |   34 |   579 |  1307 |\n",
       "| Sum | 4290 | 30748 | 46 | 1230 | 26589 | 62903 |\n",
       "\n"
      ],
      "text/plain": [
       "                      iccs\n",
       "geo                    Asslt Brglry Homicide Rbry Thft  Sum  \n",
       "  Hlavní město Praha    530   9937   7        190  7861 18525\n",
       "  Jihočeský kraj        269    931   7         43  1044  2294\n",
       "  Jihomoravský kraj     509   3296   6        174  2623  6608\n",
       "  Karlovarský kraj      130    599   3         41   633  1406\n",
       "  Kraj Vysočina         226    508   3         27   499  1263\n",
       "  Královéhradecký kraj  162    612   1         38   677  1490\n",
       "  Liberecký kraj        192    938   3         70   929  2132\n",
       "  Moravskoslezský kraj  637   3686   4        203  3497  8027\n",
       "  Olomoucký kraj        314    893   2         51  1188  2448\n",
       "  Pardubický kraj       120    587   0         24   644  1375\n",
       "  Plzeňský kraj         204   1775   2         66  1302  3349\n",
       "  Středočeský kraj      393   4006   1        110  2727  7237\n",
       "  Ústecký kraj          359   2533   5        159  2386  5442\n",
       "  Zlínský kraj          245    447   2         34   579  1307\n",
       "  Sum                  4290  30748  46       1230 26589 62903"
      ]
     },
     "metadata": {},
     "output_type": "display_data"
    }
   ],
   "source": [
    "addmargins(pearson$observed)"
   ]
  },
  {
   "cell_type": "code",
   "execution_count": 23,
   "id": "a60ff4b8-4498-44b9-953c-984efc253ea4",
   "metadata": {
    "ExecuteTime": {
     "end_time": "2024-04-06T18:13:48.484781Z",
     "start_time": "2024-04-06T18:13:48.452428Z"
    }
   },
   "outputs": [
    {
     "data": {
      "text/html": [
       "<table class=\"dataframe\">\n",
       "<caption>A matrix: 15 × 6 of type dbl</caption>\n",
       "<thead>\n",
       "\t<tr><th></th><th scope=col>Asslt</th><th scope=col>Brglry</th><th scope=col>Homicide</th><th scope=col>Rbry</th><th scope=col>Thft</th><th scope=col>Sum</th></tr>\n",
       "</thead>\n",
       "<tbody>\n",
       "\t<tr><th scope=row>Hlavní město Praha</th><td>1263.41</td><td> 9055.32</td><td>13.55</td><td> 362.24</td><td> 7830.49</td><td>18525.01</td></tr>\n",
       "\t<tr><th scope=row>Jihočeský kraj</th><td> 156.45</td><td> 1121.34</td><td> 1.68</td><td>  44.86</td><td>  969.67</td><td> 2294.00</td></tr>\n",
       "\t<tr><th scope=row>Jihomoravský kraj</th><td> 450.67</td><td> 3230.10</td><td> 4.83</td><td> 129.21</td><td> 2793.19</td><td> 6608.00</td></tr>\n",
       "\t<tr><th scope=row>Karlovarský kraj</th><td>  95.89</td><td>  687.28</td><td> 1.03</td><td>  27.49</td><td>  594.31</td><td> 1406.00</td></tr>\n",
       "\t<tr><th scope=row>Kraj Vysočina</th><td>  86.14</td><td>  617.37</td><td> 0.92</td><td>  24.70</td><td>  533.87</td><td> 1263.00</td></tr>\n",
       "\t<tr><th scope=row>Královéhradecký kraj</th><td> 101.62</td><td>  728.34</td><td> 1.09</td><td>  29.14</td><td>  629.82</td><td> 1490.01</td></tr>\n",
       "\t<tr><th scope=row>Liberecký kraj</th><td> 145.40</td><td> 1042.16</td><td> 1.56</td><td>  41.69</td><td>  901.19</td><td> 2132.00</td></tr>\n",
       "\t<tr><th scope=row>Moravskoslezský kraj</th><td> 547.44</td><td> 3923.73</td><td> 5.87</td><td> 156.96</td><td> 3393.00</td><td> 8027.00</td></tr>\n",
       "\t<tr><th scope=row>Olomoucký kraj</th><td> 166.95</td><td> 1196.62</td><td> 1.79</td><td>  47.87</td><td> 1034.77</td><td> 2448.00</td></tr>\n",
       "\t<tr><th scope=row>Pardubický kraj</th><td>  93.78</td><td>  672.12</td><td> 1.01</td><td>  26.89</td><td>  581.21</td><td> 1375.01</td></tr>\n",
       "\t<tr><th scope=row>Plzeňský kraj</th><td> 228.40</td><td> 1637.05</td><td> 2.45</td><td>  65.49</td><td> 1415.62</td><td> 3349.01</td></tr>\n",
       "\t<tr><th scope=row>Středočeský kraj</th><td> 493.57</td><td> 3537.56</td><td> 5.29</td><td> 141.51</td><td> 3059.07</td><td> 7237.00</td></tr>\n",
       "\t<tr><th scope=row>Ústecký kraj</th><td> 371.15</td><td> 2660.14</td><td> 3.98</td><td> 106.41</td><td> 2300.32</td><td> 5442.00</td></tr>\n",
       "\t<tr><th scope=row>Zlínský kraj</th><td>  89.14</td><td>  638.88</td><td> 0.96</td><td>  25.56</td><td>  552.47</td><td> 1307.01</td></tr>\n",
       "\t<tr><th scope=row>Sum</th><td>4290.01</td><td>30748.01</td><td>46.01</td><td>1230.02</td><td>26589.00</td><td>62903.05</td></tr>\n",
       "</tbody>\n",
       "</table>\n"
      ],
      "text/latex": [
       "A matrix: 15 × 6 of type dbl\n",
       "\\begin{tabular}{r|llllll}\n",
       "  & Asslt & Brglry & Homicide & Rbry & Thft & Sum\\\\\n",
       "\\hline\n",
       "\tHlavní město Praha & 1263.41 &  9055.32 & 13.55 &  362.24 &  7830.49 & 18525.01\\\\\n",
       "\tJihočeský kraj &  156.45 &  1121.34 &  1.68 &   44.86 &   969.67 &  2294.00\\\\\n",
       "\tJihomoravský kraj &  450.67 &  3230.10 &  4.83 &  129.21 &  2793.19 &  6608.00\\\\\n",
       "\tKarlovarský kraj &   95.89 &   687.28 &  1.03 &   27.49 &   594.31 &  1406.00\\\\\n",
       "\tKraj Vysočina &   86.14 &   617.37 &  0.92 &   24.70 &   533.87 &  1263.00\\\\\n",
       "\tKrálovéhradecký kraj &  101.62 &   728.34 &  1.09 &   29.14 &   629.82 &  1490.01\\\\\n",
       "\tLiberecký kraj &  145.40 &  1042.16 &  1.56 &   41.69 &   901.19 &  2132.00\\\\\n",
       "\tMoravskoslezský kraj &  547.44 &  3923.73 &  5.87 &  156.96 &  3393.00 &  8027.00\\\\\n",
       "\tOlomoucký kraj &  166.95 &  1196.62 &  1.79 &   47.87 &  1034.77 &  2448.00\\\\\n",
       "\tPardubický kraj &   93.78 &   672.12 &  1.01 &   26.89 &   581.21 &  1375.01\\\\\n",
       "\tPlzeňský kraj &  228.40 &  1637.05 &  2.45 &   65.49 &  1415.62 &  3349.01\\\\\n",
       "\tStředočeský kraj &  493.57 &  3537.56 &  5.29 &  141.51 &  3059.07 &  7237.00\\\\\n",
       "\tÚstecký kraj &  371.15 &  2660.14 &  3.98 &  106.41 &  2300.32 &  5442.00\\\\\n",
       "\tZlínský kraj &   89.14 &   638.88 &  0.96 &   25.56 &   552.47 &  1307.01\\\\\n",
       "\tSum & 4290.01 & 30748.01 & 46.01 & 1230.02 & 26589.00 & 62903.05\\\\\n",
       "\\end{tabular}\n"
      ],
      "text/markdown": [
       "\n",
       "A matrix: 15 × 6 of type dbl\n",
       "\n",
       "| <!--/--> | Asslt | Brglry | Homicide | Rbry | Thft | Sum |\n",
       "|---|---|---|---|---|---|---|\n",
       "| Hlavní město Praha | 1263.41 |  9055.32 | 13.55 |  362.24 |  7830.49 | 18525.01 |\n",
       "| Jihočeský kraj |  156.45 |  1121.34 |  1.68 |   44.86 |   969.67 |  2294.00 |\n",
       "| Jihomoravský kraj |  450.67 |  3230.10 |  4.83 |  129.21 |  2793.19 |  6608.00 |\n",
       "| Karlovarský kraj |   95.89 |   687.28 |  1.03 |   27.49 |   594.31 |  1406.00 |\n",
       "| Kraj Vysočina |   86.14 |   617.37 |  0.92 |   24.70 |   533.87 |  1263.00 |\n",
       "| Královéhradecký kraj |  101.62 |   728.34 |  1.09 |   29.14 |   629.82 |  1490.01 |\n",
       "| Liberecký kraj |  145.40 |  1042.16 |  1.56 |   41.69 |   901.19 |  2132.00 |\n",
       "| Moravskoslezský kraj |  547.44 |  3923.73 |  5.87 |  156.96 |  3393.00 |  8027.00 |\n",
       "| Olomoucký kraj |  166.95 |  1196.62 |  1.79 |   47.87 |  1034.77 |  2448.00 |\n",
       "| Pardubický kraj |   93.78 |   672.12 |  1.01 |   26.89 |   581.21 |  1375.01 |\n",
       "| Plzeňský kraj |  228.40 |  1637.05 |  2.45 |   65.49 |  1415.62 |  3349.01 |\n",
       "| Středočeský kraj |  493.57 |  3537.56 |  5.29 |  141.51 |  3059.07 |  7237.00 |\n",
       "| Ústecký kraj |  371.15 |  2660.14 |  3.98 |  106.41 |  2300.32 |  5442.00 |\n",
       "| Zlínský kraj |   89.14 |   638.88 |  0.96 |   25.56 |   552.47 |  1307.01 |\n",
       "| Sum | 4290.01 | 30748.01 | 46.01 | 1230.02 | 26589.00 | 62903.05 |\n",
       "\n"
      ],
      "text/plain": [
       "                      iccs\n",
       "geo                    Asslt   Brglry   Homicide Rbry    Thft     Sum     \n",
       "  Hlavní město Praha   1263.41  9055.32 13.55     362.24  7830.49 18525.01\n",
       "  Jihočeský kraj        156.45  1121.34  1.68      44.86   969.67  2294.00\n",
       "  Jihomoravský kraj     450.67  3230.10  4.83     129.21  2793.19  6608.00\n",
       "  Karlovarský kraj       95.89   687.28  1.03      27.49   594.31  1406.00\n",
       "  Kraj Vysočina          86.14   617.37  0.92      24.70   533.87  1263.00\n",
       "  Královéhradecký kraj  101.62   728.34  1.09      29.14   629.82  1490.01\n",
       "  Liberecký kraj        145.40  1042.16  1.56      41.69   901.19  2132.00\n",
       "  Moravskoslezský kraj  547.44  3923.73  5.87     156.96  3393.00  8027.00\n",
       "  Olomoucký kraj        166.95  1196.62  1.79      47.87  1034.77  2448.00\n",
       "  Pardubický kraj        93.78   672.12  1.01      26.89   581.21  1375.01\n",
       "  Plzeňský kraj         228.40  1637.05  2.45      65.49  1415.62  3349.01\n",
       "  Středočeský kraj      493.57  3537.56  5.29     141.51  3059.07  7237.00\n",
       "  Ústecký kraj          371.15  2660.14  3.98     106.41  2300.32  5442.00\n",
       "  Zlínský kraj           89.14   638.88  0.96      25.56   552.47  1307.01\n",
       "  Sum                  4290.01 30748.01 46.01    1230.02 26589.00 62903.05"
      ]
     },
     "metadata": {},
     "output_type": "display_data"
    }
   ],
   "source": [
    "addmargins(round(pearson$expected, digits = 2))"
   ]
  },
  {
   "cell_type": "markdown",
   "id": "7b6bdf05-bd99-4cc4-9d32-af8a761bc2bd",
   "metadata": {},
   "source": [
    "V \"ideálním případě\", kdyby rozdělení trestných činů bylo homogenní, očekávali bychom podobné počty trestných činů v jednotlivých regionech. Avšak skutečné hodnoty se významně liší od těchto očekávaných hodnot. Tento významný rozdíl naznačuje, že existují systematické variace v distribuci trestných činů mezi regiony, což jednoznačně potvrzuje nehomogenitu rozdělení. Je však třeba vzít v úvahu i skutečnost, že očekávané hodnoty například vražd se v některých regionech pohybují kolem nuly. Tato skutečnost nepochybně potěšující, nicméně konkrétně pro Pearsonův test to je\n",
    "problém. To znamená, že nejsou splněny předpoklady Pearsonova testu (neplatí $\\frac{n_{i\\cdot} n_{\\cdot j}}{n}\\geq 5$) a na základě tohoto testu nemůžeme potvrdit naše předpoklady."
   ]
  },
  {
   "cell_type": "markdown",
   "id": "98579573-ef74-43ff-9820-9b1d7b5acb13",
   "metadata": {},
   "source": [
    "Proto provedeme Fisherův test:\n",
    "* $H_0$: Rozdělení trestných činů mezi regiony České republiky je náhodné, tj. není žádný vztah mezi trestnými činy a regiony\n",
    "* $H_A$: neplatí $H_0$"
   ]
  },
  {
   "cell_type": "code",
   "execution_count": 24,
   "id": "d4f0a306-40ec-4e7e-8377-370ef124119f",
   "metadata": {
    "ExecuteTime": {
     "end_time": "2024-04-06T18:13:48.553827Z",
     "start_time": "2024-04-06T18:13:48.491092Z"
    }
   },
   "outputs": [
    {
     "data": {
      "text/plain": [
       "\n",
       "\tFisher's Exact Test for Count Data with simulated p-value (based on 2000 replicates)\n",
       "\n",
       "data:  kont_tab\n",
       "p-value = 0.0004998\n",
       "alternative hypothesis: two.sided\n"
      ]
     },
     "metadata": {},
     "output_type": "display_data"
    }
   ],
   "source": [
    "fisher.test(kont_tab, simulate.p.value=T)"
   ]
  },
  {
   "cell_type": "markdown",
   "id": "0103d8ff-ccf8-456b-a571-13d906c5fc37",
   "metadata": {},
   "source": [
    "* P-hodnota, která je 0.0004998, je mimořádně nízká, což naznačuje, že máme silné důkazy proti nulové hypotéze. To znamená, že rozdělení trestných činů mezi regiony není náhodné a existuje statisticky významný vztah mezi trestnými činy a regiony.\n",
    "* Celkově vzato, výsledek Fischerova testu podporuje naši hypotézu o nehomogenitě rozdělení trestných činů mezi regiony."
   ]
  },
  {
   "cell_type": "markdown",
   "id": "56c75717-55de-41fd-af35-89b0c7abc555",
   "metadata": {},
   "source": [
    "## Testování hypotéz"
   ]
  },
  {
   "cell_type": "markdown",
   "id": "e2a6cf7e-2add-41aa-9eac-428fcbcd4fcc",
   "metadata": {},
   "source": [
    "### Hypotéza 1:"
   ]
  },
  {
   "cell_type": "markdown",
   "id": "7a6a823c-8f7d-4218-837c-86ab78ce2a5b",
   "metadata": {},
   "source": [
    "Zjistíme, zda \"Asslt\" a \"Homicide\" nějak korelujou mezi sebou. Uděláme test na korelaci mezi nimi pomocí Spearmanova pořadového korelačního koeficientu:\n",
    "- $H_0: \\rho_S = 0$\n",
    "- $H_A: \\rho_S \\ne 0$ (alternativně jednostranná varianta)"
   ]
  },
  {
   "cell_type": "code",
   "execution_count": 25,
   "id": "25dd1885-d2cc-4977-bce1-1840375591bd",
   "metadata": {
    "ExecuteTime": {
     "end_time": "2024-04-06T18:13:48.690885Z",
     "start_time": "2024-04-06T18:13:48.667670Z"
    }
   },
   "outputs": [
    {
     "name": "stderr",
     "output_type": "stream",
     "text": [
      "Warning message in cor.test.default(czech_data_no_duplicates$values[czech_data_no_duplicates$iccs == :\n",
      "\"Cannot compute exact p-value with ties\"\n"
     ]
    },
    {
     "data": {
      "text/plain": [
       "\n",
       "\tSpearman's rank correlation rho\n",
       "\n",
       "data:  czech_data_no_duplicates$values[czech_data_no_duplicates$iccs == \"Homicide\"] and czech_data_no_duplicates$values[czech_data_no_duplicates$iccs == \"Asslt\"]\n",
       "S = 198.16, p-value = 0.03547\n",
       "alternative hypothesis: true rho is not equal to 0\n",
       "sample estimates:\n",
       "      rho \n",
       "0.5644793 \n"
      ]
     },
     "metadata": {},
     "output_type": "display_data"
    }
   ],
   "source": [
    "correlation <- cor.test(czech_data_no_duplicates$values[czech_data_no_duplicates$iccs == \"Homicide\"], \n",
    "                        czech_data_no_duplicates$values[czech_data_no_duplicates$iccs == \"Asslt\"],\n",
    "                       method='spearman')\n",
    "correlation"
   ]
  },
  {
   "cell_type": "markdown",
   "id": "d814814e-15b5-4b4a-bd69-d96842043102",
   "metadata": {},
   "source": [
    "Protože p-hodnota (0,035) je menší než 0,05 na hladině významnosti 5%, nulovou hypotézu zamítáme. To znamená, že mezi počtem vražd a počtem napadení v českých krajích existuje statisticky významná závislost. Korelační koeficient (rho) je přibližně 0,564. To naznačuje mírnou pozitivní korelaci mezi počtem vražd a počtem napadení v České Republice.\n",
    "Tato zjištění naznačuje, že v oblastech s vyšším počtem napadení dochází také ke zvýšené míře vražd."
   ]
  },
  {
   "cell_type": "markdown",
   "id": "764c4af2-2d32-4919-90d2-1a320d64ba8c",
   "metadata": {},
   "source": [
    "### Hypotéza 2:"
   ]
  },
  {
   "cell_type": "markdown",
   "id": "da35c16f-e8e9-4298-bc4a-60b1e34b0589",
   "metadata": {},
   "source": [
    "Zjistéme, zda počet trestních čínů v České Republice v roce 2021 je stejný jako v roce 2018. Pro porovnání počtů uděláme Wilcoxonův test, protože nepožaduje předpoklad normálního rozdělení a je vhodný pro diskrétní data:\n",
    "- $H_0$: Počet trestních činů v roce 2021 je roven počtu trestních činů v roce 2018\n",
    "- $H_A$: Počet trestních činů v roce 2021 je menší než počet trestních činů v roce 2018"
   ]
  },
  {
   "cell_type": "code",
   "execution_count": 26,
   "id": "089672e7-56a3-445b-a4d8-639737650020",
   "metadata": {},
   "outputs": [
    {
     "name": "stderr",
     "output_type": "stream",
     "text": [
      "Dataset query already saved in cache_list.json...\n",
      "\n",
      "Reading cache file C:\\Users\\User\\AppData\\Local\\Temp\\RtmpMhHFVh/eurostat/0dc489ba9afbe8d422bb3d8a01eacc3a.rds\n",
      "\n",
      "Table  crim_gen_reg  read from cache file:  C:\\Users\\User\\AppData\\Local\\Temp\\RtmpMhHFVh/eurostat/0dc489ba9afbe8d422bb3d8a01eacc3a.rds\n",
      "\n"
     ]
    },
    {
     "data": {
      "text/html": [
       "<table class=\"dataframe\">\n",
       "<caption>A tibble: 6 × 3</caption>\n",
       "<thead>\n",
       "\t<tr><th scope=col>iccs</th><th scope=col>geo</th><th scope=col>values</th></tr>\n",
       "\t<tr><th scope=col>&lt;chr&gt;</th><th scope=col>&lt;chr&gt;</th><th scope=col>&lt;dbl&gt;</th></tr>\n",
       "</thead>\n",
       "<tbody>\n",
       "\t<tr><td>Homicide</td><td>Hlavní město Praha</td><td>17</td></tr>\n",
       "\t<tr><td>Homicide</td><td>Středočeský kraj  </td><td>17</td></tr>\n",
       "\t<tr><td>Homicide</td><td>Jihočeský kraj    </td><td> 7</td></tr>\n",
       "\t<tr><td>Homicide</td><td>Plzeňský kraj     </td><td> 6</td></tr>\n",
       "\t<tr><td>Homicide</td><td>Karlovarský kraj  </td><td> 3</td></tr>\n",
       "\t<tr><td>Homicide</td><td>Ústecký kraj      </td><td>11</td></tr>\n",
       "</tbody>\n",
       "</table>\n"
      ],
      "text/latex": [
       "A tibble: 6 × 3\n",
       "\\begin{tabular}{lll}\n",
       " iccs & geo & values\\\\\n",
       " <chr> & <chr> & <dbl>\\\\\n",
       "\\hline\n",
       "\t Homicide & Hlavní město Praha & 17\\\\\n",
       "\t Homicide & Středočeský kraj   & 17\\\\\n",
       "\t Homicide & Jihočeský kraj     &  7\\\\\n",
       "\t Homicide & Plzeňský kraj      &  6\\\\\n",
       "\t Homicide & Karlovarský kraj   &  3\\\\\n",
       "\t Homicide & Ústecký kraj       & 11\\\\\n",
       "\\end{tabular}\n"
      ],
      "text/markdown": [
       "\n",
       "A tibble: 6 × 3\n",
       "\n",
       "| iccs &lt;chr&gt; | geo &lt;chr&gt; | values &lt;dbl&gt; |\n",
       "|---|---|---|\n",
       "| Homicide | Hlavní město Praha | 17 |\n",
       "| Homicide | Středočeský kraj   | 17 |\n",
       "| Homicide | Jihočeský kraj     |  7 |\n",
       "| Homicide | Plzeňský kraj      |  6 |\n",
       "| Homicide | Karlovarský kraj   |  3 |\n",
       "| Homicide | Ústecký kraj       | 11 |\n",
       "\n"
      ],
      "text/plain": [
       "  iccs     geo                values\n",
       "1 Homicide Hlavní město Praha 17    \n",
       "2 Homicide Středočeský kraj   17    \n",
       "3 Homicide Jihočeský kraj      7    \n",
       "4 Homicide Plzeňský kraj       6    \n",
       "5 Homicide Karlovarský kraj    3    \n",
       "6 Homicide Ústecký kraj       11    "
      ]
     },
     "metadata": {},
     "output_type": "display_data"
    },
    {
     "data": {
      "text/html": [
       "<table class=\"dataframe\">\n",
       "<caption>A tibble: 6 × 3</caption>\n",
       "<thead>\n",
       "\t<tr><th scope=col>iccs</th><th scope=col>geo</th><th scope=col>values</th></tr>\n",
       "\t<tr><th scope=col>&lt;chr&gt;</th><th scope=col>&lt;chr&gt;</th><th scope=col>&lt;dbl&gt;</th></tr>\n",
       "</thead>\n",
       "<tbody>\n",
       "\t<tr><td>Thft</td><td>Pardubický kraj     </td><td>1245</td></tr>\n",
       "\t<tr><td>Thft</td><td>Kraj Vysočina       </td><td> 977</td></tr>\n",
       "\t<tr><td>Thft</td><td>Jihomoravský kraj   </td><td>6112</td></tr>\n",
       "\t<tr><td>Thft</td><td>Olomoucký kraj      </td><td>1945</td></tr>\n",
       "\t<tr><td>Thft</td><td>Zlínský kraj        </td><td>1117</td></tr>\n",
       "\t<tr><td>Thft</td><td>Moravskoslezský kraj</td><td>7553</td></tr>\n",
       "</tbody>\n",
       "</table>\n"
      ],
      "text/latex": [
       "A tibble: 6 × 3\n",
       "\\begin{tabular}{lll}\n",
       " iccs & geo & values\\\\\n",
       " <chr> & <chr> & <dbl>\\\\\n",
       "\\hline\n",
       "\t Thft & Pardubický kraj      & 1245\\\\\n",
       "\t Thft & Kraj Vysočina        &  977\\\\\n",
       "\t Thft & Jihomoravský kraj    & 6112\\\\\n",
       "\t Thft & Olomoucký kraj       & 1945\\\\\n",
       "\t Thft & Zlínský kraj         & 1117\\\\\n",
       "\t Thft & Moravskoslezský kraj & 7553\\\\\n",
       "\\end{tabular}\n"
      ],
      "text/markdown": [
       "\n",
       "A tibble: 6 × 3\n",
       "\n",
       "| iccs &lt;chr&gt; | geo &lt;chr&gt; | values &lt;dbl&gt; |\n",
       "|---|---|---|\n",
       "| Thft | Pardubický kraj      | 1245 |\n",
       "| Thft | Kraj Vysočina        |  977 |\n",
       "| Thft | Jihomoravský kraj    | 6112 |\n",
       "| Thft | Olomoucký kraj       | 1945 |\n",
       "| Thft | Zlínský kraj         | 1117 |\n",
       "| Thft | Moravskoslezský kraj | 7553 |\n",
       "\n"
      ],
      "text/plain": [
       "  iccs geo                  values\n",
       "1 Thft Pardubický kraj      1245  \n",
       "2 Thft Kraj Vysočina         977  \n",
       "3 Thft Jihomoravský kraj    6112  \n",
       "4 Thft Olomoucký kraj       1945  \n",
       "5 Thft Zlínský kraj         1117  \n",
       "6 Thft Moravskoslezský kraj 7553  "
      ]
     },
     "metadata": {},
     "output_type": "display_data"
    }
   ],
   "source": [
    "# Download data\n",
    "data <- get_eurostat(id = \"crim_gen_reg\")\n",
    "\n",
    "# choose only required data and remove unneccesary columns\n",
    "data$TIME_PERIOD <- as.Date(data$TIME_PERIOD)\n",
    "czech_data_2018 <- data %>%\n",
    "  filter(geo %in% nuts3_cz, TIME_PERIOD == \"2018-01-01\")\n",
    "czech_data_2018$freq <- NULL\n",
    "czech_data_2018 <- czech_data_2018[czech_data_2018$unit != \"P_HTHAB\", ]\n",
    "czech_data_2018$unit <- NULL\n",
    "czech_data_2018$TIME_PERIOD <- NULL\n",
    "\n",
    "\n",
    "czech_data_2018 <- czech_data_2018 %>%\n",
    "  mutate(iccs = iccs_mapping[iccs])\n",
    "czech_data_2018$geo <- nuts3_mapping[czech_data_2018$geo]\n",
    "\n",
    "czech_data_2018 <- czech_data_2018 %>%\n",
    "  filter(iccs != \"Burglary of private residential premises\" & iccs != \"Theft of a motorized land vehicle\")\n",
    "\n",
    "czech_data_2018$iccs <- recode(czech_data_2018$iccs,\n",
    "                                   'Intentional homicide' = 'Homicide',\n",
    "                                   'Assault' = 'Asslt',\n",
    "                                   'Robbery' = 'Rbry',\n",
    "                                   'Burglary' = 'Brglry',\n",
    "                                   'Theft' = 'Thft')\n",
    "\n",
    "head(czech_data_2018)\n",
    "tail(czech_data_2018)"
   ]
  },
  {
   "cell_type": "code",
   "execution_count": 27,
   "id": "da81826b-df00-4925-85c2-e3fbced0629a",
   "metadata": {},
   "outputs": [
    {
     "name": "stderr",
     "output_type": "stream",
     "text": [
      "\u001b[1m\u001b[22m`summarise()` has grouped output by 'geo'. You can override using the `.groups` argument.\n"
     ]
    },
    {
     "name": "stdout",
     "output_type": "stream",
     "text": [
      "\u001b[90m# A tibble: 70 × 3\u001b[39m\n",
      "   geo                iccs     total_crimes\n",
      "   \u001b[3m\u001b[90m<chr>\u001b[39m\u001b[23m              \u001b[3m\u001b[90m<chr>\u001b[39m\u001b[23m           \u001b[3m\u001b[90m<dbl>\u001b[39m\u001b[23m\n",
      "\u001b[90m 1\u001b[39m Hlavní město Praha Asslt             530\n",
      "\u001b[90m 2\u001b[39m Hlavní město Praha Brglry           \u001b[4m9\u001b[24m937\n",
      "\u001b[90m 3\u001b[39m Hlavní město Praha Homicide            7\n",
      "\u001b[90m 4\u001b[39m Hlavní město Praha Rbry              190\n",
      "\u001b[90m 5\u001b[39m Hlavní město Praha Thft             \u001b[4m7\u001b[24m861\n",
      "\u001b[90m 6\u001b[39m Jihomoravský kraj  Asslt             509\n",
      "\u001b[90m 7\u001b[39m Jihomoravský kraj  Brglry           \u001b[4m3\u001b[24m296\n",
      "\u001b[90m 8\u001b[39m Jihomoravský kraj  Homicide            6\n",
      "\u001b[90m 9\u001b[39m Jihomoravský kraj  Rbry              174\n",
      "\u001b[90m10\u001b[39m Jihomoravský kraj  Thft             \u001b[4m2\u001b[24m623\n",
      "\u001b[90m# ℹ 60 more rows\u001b[39m\n"
     ]
    }
   ],
   "source": [
    "crime_sum_2021 <- czech_data_no_duplicates %>%\n",
    "    group_by(geo, iccs) %>%\n",
    "    summarize(total_crimes = sum(values, na.rm = TRUE)) %>%\n",
    "    ungroup()\n",
    "\n",
    "print(crime_sum_2021)"
   ]
  },
  {
   "cell_type": "code",
   "execution_count": 28,
   "id": "88f2132a-381e-4319-a806-3bd47e4bd768",
   "metadata": {},
   "outputs": [
    {
     "name": "stderr",
     "output_type": "stream",
     "text": [
      "\u001b[1m\u001b[22m`summarise()` has grouped output by 'geo'. You can override using the `.groups` argument.\n"
     ]
    },
    {
     "name": "stdout",
     "output_type": "stream",
     "text": [
      "\u001b[90m# A tibble: 70 × 3\u001b[39m\n",
      "   geo                iccs     total_crimes\n",
      "   \u001b[3m\u001b[90m<chr>\u001b[39m\u001b[23m              \u001b[3m\u001b[90m<chr>\u001b[39m\u001b[23m           \u001b[3m\u001b[90m<dbl>\u001b[39m\u001b[23m\n",
      "\u001b[90m 1\u001b[39m Hlavní město Praha Asslt             574\n",
      "\u001b[90m 2\u001b[39m Hlavní město Praha Brglry           \u001b[4m4\u001b[24m395\n",
      "\u001b[90m 3\u001b[39m Hlavní město Praha Homicide           17\n",
      "\u001b[90m 4\u001b[39m Hlavní město Praha Rbry              186\n",
      "\u001b[90m 5\u001b[39m Hlavní město Praha Thft            \u001b[4m2\u001b[24m\u001b[4m2\u001b[24m636\n",
      "\u001b[90m 6\u001b[39m Jihomoravský kraj  Asslt             556\n",
      "\u001b[90m 7\u001b[39m Jihomoravský kraj  Brglry           \u001b[4m2\u001b[24m483\n",
      "\u001b[90m 8\u001b[39m Jihomoravský kraj  Homicide           16\n",
      "\u001b[90m 9\u001b[39m Jihomoravský kraj  Rbry              179\n",
      "\u001b[90m10\u001b[39m Jihomoravský kraj  Thft             \u001b[4m6\u001b[24m112\n",
      "\u001b[90m# ℹ 60 more rows\u001b[39m\n"
     ]
    }
   ],
   "source": [
    "crime_sum_2018 <- czech_data_2018 %>%\n",
    "    group_by(geo, iccs) %>%\n",
    "    summarize(total_crimes = sum(values, na.rm = TRUE)) %>%\n",
    "    ungroup()\n",
    "\n",
    "print(crime_sum_2018)"
   ]
  },
  {
   "cell_type": "code",
   "execution_count": 29,
   "id": "0724cd04-e821-4a27-8c49-f67d73380754",
   "metadata": {},
   "outputs": [
    {
     "name": "stdout",
     "output_type": "stream",
     "text": [
      "\n",
      "\tWilcoxon rank sum test with continuity correction\n",
      "\n",
      "data:  crime_sum_2021$total_crimes and crime_sum_2018$total_crimes\n",
      "W = 2277.5, p-value = 0.2367\n",
      "alternative hypothesis: true location shift is less than 0\n",
      "\n"
     ]
    }
   ],
   "source": [
    "wilcox_test_result <- wilcox.test(crime_sum_2021$total_crimes, crime_sum_2018$total_crimes, alternative = 'less')\n",
    "print(wilcox_test_result)"
   ]
  },
  {
   "cell_type": "markdown",
   "id": "bd3a29b7-69cf-4d53-bd54-9f62849aa9d5",
   "metadata": {},
   "source": [
    "Vzhledem k tomu, že p-hodnota je vyšší než 0,05 na hladine významnosti 5%, nulovou hypotézu nezamítáme, což naznačuje, že mezi lety 2021 a 2018 neexistuje významný rozdíl v celkovém počtu trestných činů v České Republice."
   ]
  },
  {
   "cell_type": "markdown",
   "id": "12b4f527-2cba-4610-95f1-e448dfa6f177",
   "metadata": {},
   "source": [
    "Můžeme udělat následující závěr. Stabilita: Celkový počet trestných činů v těchto regionech zůstal ve zkoumaném období (2018 až 2021) relativně stabilní.\n",
    "Konzistence: Mezi těmito dvěma roky nedošlo k jasnému, statisticky významnému nárůstu nebo poklesu celkového počtu trestných činů."
   ]
  },
  {
   "cell_type": "markdown",
   "id": "94294370-b4f7-423d-bd4b-f5521b88f14c",
   "metadata": {},
   "source": [
    "### Hypotéza 3:"
   ]
  },
  {
   "cell_type": "markdown",
   "id": "7becf820-05ff-4dd8-8710-12704334cc40",
   "metadata": {},
   "source": [
    "Zjistéme, zda se rozdělené dvou typů trestných činů, konkrétně krádeží a vloupání, od sebe výrazně liší, nebo zda je lze považovat za podobné. Pro porvonávání použijeme Kolmogorovovův-Smirnovův dvouvýběrový test:\n",
    "- $H_0$: $F=G$\n",
    "- $H_A$: $F\\ne G$"
   ]
  },
  {
   "cell_type": "code",
   "execution_count": 30,
   "id": "e5b95928-6675-44a7-adf9-21667c351b27",
   "metadata": {},
   "outputs": [
    {
     "name": "stderr",
     "output_type": "stream",
     "text": [
      "Dataset query already saved in cache_list.json...\n",
      "\n",
      "Reading cache file C:\\Users\\User\\AppData\\Local\\Temp\\RtmpMhHFVh/eurostat/0dc489ba9afbe8d422bb3d8a01eacc3a.rds\n",
      "\n",
      "Table  crim_gen_reg  read from cache file:  C:\\Users\\User\\AppData\\Local\\Temp\\RtmpMhHFVh/eurostat/0dc489ba9afbe8d422bb3d8a01eacc3a.rds\n",
      "\n"
     ]
    },
    {
     "data": {
      "text/html": [
       "<table class=\"dataframe\">\n",
       "<caption>A tibble: 6 × 4</caption>\n",
       "<thead>\n",
       "\t<tr><th scope=col>iccs</th><th scope=col>geo</th><th scope=col>values</th><th scope=col>year</th></tr>\n",
       "\t<tr><th scope=col>&lt;chr&gt;</th><th scope=col>&lt;chr&gt;</th><th scope=col>&lt;dbl&gt;</th><th scope=col>&lt;chr&gt;</th></tr>\n",
       "</thead>\n",
       "<tbody>\n",
       "\t<tr><td>Homicide</td><td>Hlavní město Praha</td><td>17</td><td>2018</td></tr>\n",
       "\t<tr><td>Homicide</td><td>Hlavní město Praha</td><td>14</td><td>2019</td></tr>\n",
       "\t<tr><td>Homicide</td><td>Hlavní město Praha</td><td>10</td><td>2020</td></tr>\n",
       "\t<tr><td>Homicide</td><td>Hlavní město Praha</td><td> 7</td><td>2021</td></tr>\n",
       "\t<tr><td>Homicide</td><td>Středočeský kraj  </td><td>17</td><td>2018</td></tr>\n",
       "\t<tr><td>Homicide</td><td>Středočeský kraj  </td><td>10</td><td>2019</td></tr>\n",
       "</tbody>\n",
       "</table>\n"
      ],
      "text/latex": [
       "A tibble: 6 × 4\n",
       "\\begin{tabular}{llll}\n",
       " iccs & geo & values & year\\\\\n",
       " <chr> & <chr> & <dbl> & <chr>\\\\\n",
       "\\hline\n",
       "\t Homicide & Hlavní město Praha & 17 & 2018\\\\\n",
       "\t Homicide & Hlavní město Praha & 14 & 2019\\\\\n",
       "\t Homicide & Hlavní město Praha & 10 & 2020\\\\\n",
       "\t Homicide & Hlavní město Praha &  7 & 2021\\\\\n",
       "\t Homicide & Středočeský kraj   & 17 & 2018\\\\\n",
       "\t Homicide & Středočeský kraj   & 10 & 2019\\\\\n",
       "\\end{tabular}\n"
      ],
      "text/markdown": [
       "\n",
       "A tibble: 6 × 4\n",
       "\n",
       "| iccs &lt;chr&gt; | geo &lt;chr&gt; | values &lt;dbl&gt; | year &lt;chr&gt; |\n",
       "|---|---|---|---|\n",
       "| Homicide | Hlavní město Praha | 17 | 2018 |\n",
       "| Homicide | Hlavní město Praha | 14 | 2019 |\n",
       "| Homicide | Hlavní město Praha | 10 | 2020 |\n",
       "| Homicide | Hlavní město Praha |  7 | 2021 |\n",
       "| Homicide | Středočeský kraj   | 17 | 2018 |\n",
       "| Homicide | Středočeský kraj   | 10 | 2019 |\n",
       "\n"
      ],
      "text/plain": [
       "  iccs     geo                values year\n",
       "1 Homicide Hlavní město Praha 17     2018\n",
       "2 Homicide Hlavní město Praha 14     2019\n",
       "3 Homicide Hlavní město Praha 10     2020\n",
       "4 Homicide Hlavní město Praha  7     2021\n",
       "5 Homicide Středočeský kraj   17     2018\n",
       "6 Homicide Středočeský kraj   10     2019"
      ]
     },
     "metadata": {},
     "output_type": "display_data"
    },
    {
     "data": {
      "text/html": [
       "<table class=\"dataframe\">\n",
       "<caption>A tibble: 6 × 4</caption>\n",
       "<thead>\n",
       "\t<tr><th scope=col>iccs</th><th scope=col>geo</th><th scope=col>values</th><th scope=col>year</th></tr>\n",
       "\t<tr><th scope=col>&lt;chr&gt;</th><th scope=col>&lt;chr&gt;</th><th scope=col>&lt;dbl&gt;</th><th scope=col>&lt;chr&gt;</th></tr>\n",
       "</thead>\n",
       "<tbody>\n",
       "\t<tr><td>Thft</td><td>Zlínský kraj        </td><td> 981</td><td>2020</td></tr>\n",
       "\t<tr><td>Thft</td><td>Zlínský kraj        </td><td> 579</td><td>2021</td></tr>\n",
       "\t<tr><td>Thft</td><td>Moravskoslezský kraj</td><td>7553</td><td>2018</td></tr>\n",
       "\t<tr><td>Thft</td><td>Moravskoslezský kraj</td><td>7282</td><td>2019</td></tr>\n",
       "\t<tr><td>Thft</td><td>Moravskoslezský kraj</td><td>5697</td><td>2020</td></tr>\n",
       "\t<tr><td>Thft</td><td>Moravskoslezský kraj</td><td>3497</td><td>2021</td></tr>\n",
       "</tbody>\n",
       "</table>\n"
      ],
      "text/latex": [
       "A tibble: 6 × 4\n",
       "\\begin{tabular}{llll}\n",
       " iccs & geo & values & year\\\\\n",
       " <chr> & <chr> & <dbl> & <chr>\\\\\n",
       "\\hline\n",
       "\t Thft & Zlínský kraj         &  981 & 2020\\\\\n",
       "\t Thft & Zlínský kraj         &  579 & 2021\\\\\n",
       "\t Thft & Moravskoslezský kraj & 7553 & 2018\\\\\n",
       "\t Thft & Moravskoslezský kraj & 7282 & 2019\\\\\n",
       "\t Thft & Moravskoslezský kraj & 5697 & 2020\\\\\n",
       "\t Thft & Moravskoslezský kraj & 3497 & 2021\\\\\n",
       "\\end{tabular}\n"
      ],
      "text/markdown": [
       "\n",
       "A tibble: 6 × 4\n",
       "\n",
       "| iccs &lt;chr&gt; | geo &lt;chr&gt; | values &lt;dbl&gt; | year &lt;chr&gt; |\n",
       "|---|---|---|---|\n",
       "| Thft | Zlínský kraj         |  981 | 2020 |\n",
       "| Thft | Zlínský kraj         |  579 | 2021 |\n",
       "| Thft | Moravskoslezský kraj | 7553 | 2018 |\n",
       "| Thft | Moravskoslezský kraj | 7282 | 2019 |\n",
       "| Thft | Moravskoslezský kraj | 5697 | 2020 |\n",
       "| Thft | Moravskoslezský kraj | 3497 | 2021 |\n",
       "\n"
      ],
      "text/plain": [
       "  iccs geo                  values year\n",
       "1 Thft Zlínský kraj          981   2020\n",
       "2 Thft Zlínský kraj          579   2021\n",
       "3 Thft Moravskoslezský kraj 7553   2018\n",
       "4 Thft Moravskoslezský kraj 7282   2019\n",
       "5 Thft Moravskoslezský kraj 5697   2020\n",
       "6 Thft Moravskoslezský kraj 3497   2021"
      ]
     },
     "metadata": {},
     "output_type": "display_data"
    }
   ],
   "source": [
    "# Download data\n",
    "data <- get_eurostat(id = \"crim_gen_reg\")\n",
    "\n",
    "# choose only required data and remove unneccesary columns\n",
    "data$TIME_PERIOD <- as.Date(data$TIME_PERIOD)\n",
    "czech_data_period <- data %>%\n",
    "  filter(geo %in% nuts3_cz, TIME_PERIOD >= \"2018-01-01\")\n",
    "czech_data_period$freq <- NULL\n",
    "czech_data_period <- czech_data_period[czech_data_period$unit != \"P_HTHAB\", ]\n",
    "czech_data_period$unit <- NULL\n",
    "czech_data_period$year <- format(czech_data_period$TIME_PERIOD, \"%Y\")\n",
    "czech_data_period$TIME_PERIOD <- NULL\n",
    "\n",
    "czech_data_period <- czech_data_period %>%\n",
    "  mutate(iccs = iccs_mapping[iccs])\n",
    "czech_data_period$geo <- nuts3_mapping[czech_data_period$geo]\n",
    "\n",
    "czech_data_period <- czech_data_period %>%\n",
    "  filter(iccs != \"Burglary of private residential premises\" & iccs != \"Theft of a motorized land vehicle\")\n",
    "\n",
    "czech_data_period$iccs <- recode(czech_data_period$iccs,\n",
    "                                   'Intentional homicide' = 'Homicide',\n",
    "                                   'Assault' = 'Asslt',\n",
    "                                   'Robbery' = 'Rbry',\n",
    "                                   'Burglary' = 'Brglry',\n",
    "                                   'Theft' = 'Thft')\n",
    "\n",
    "head(czech_data_period)\n",
    "tail(czech_data_period)"
   ]
  },
  {
   "cell_type": "code",
   "execution_count": 31,
   "id": "49b50083-5760-4b79-ade5-e4c8a69feb37",
   "metadata": {},
   "outputs": [
    {
     "name": "stderr",
     "output_type": "stream",
     "text": [
      "\u001b[1m\u001b[22m`summarise()` has grouped output by 'iccs'. You can override using the `.groups` argument.\n"
     ]
    },
    {
     "name": "stdout",
     "output_type": "stream",
     "text": [
      "\u001b[90m# A tibble: 20 × 3\u001b[39m\n",
      "   iccs     year  total_crimes\n",
      "   \u001b[3m\u001b[90m<chr>\u001b[39m\u001b[23m    \u001b[3m\u001b[90m<chr>\u001b[39m\u001b[23m        \u001b[3m\u001b[90m<dbl>\u001b[39m\u001b[23m\n",
      "\u001b[90m 1\u001b[39m Asslt    2018          \u001b[4m4\u001b[24m967\n",
      "\u001b[90m 2\u001b[39m Asslt    2019          \u001b[4m5\u001b[24m350\n",
      "\u001b[90m 3\u001b[39m Asslt    2020          \u001b[4m4\u001b[24m514\n",
      "\u001b[90m 4\u001b[39m Asslt    2021          \u001b[4m4\u001b[24m290\n",
      "\u001b[90m 5\u001b[39m Brglry   2018         \u001b[4m2\u001b[24m\u001b[4m1\u001b[24m151\n",
      "\u001b[90m 6\u001b[39m Brglry   2019         \u001b[4m2\u001b[24m\u001b[4m2\u001b[24m161\n",
      "\u001b[90m 7\u001b[39m Brglry   2020         \u001b[4m2\u001b[24m\u001b[4m0\u001b[24m661\n",
      "\u001b[90m 8\u001b[39m Brglry   2021         \u001b[4m3\u001b[24m\u001b[4m0\u001b[24m748\n",
      "\u001b[90m 9\u001b[39m Homicide 2018           116\n",
      "\u001b[90m10\u001b[39m Homicide 2019            81\n",
      "\u001b[90m11\u001b[39m Homicide 2020            57\n",
      "\u001b[90m12\u001b[39m Homicide 2021            46\n",
      "\u001b[90m13\u001b[39m Rbry     2018          \u001b[4m1\u001b[24m406\n",
      "\u001b[90m14\u001b[39m Rbry     2019          \u001b[4m1\u001b[24m439\n",
      "\u001b[90m15\u001b[39m Rbry     2020          \u001b[4m1\u001b[24m248\n",
      "\u001b[90m16\u001b[39m Rbry     2021          \u001b[4m1\u001b[24m230\n",
      "\u001b[90m17\u001b[39m Thft     2018         \u001b[4m6\u001b[24m\u001b[4m0\u001b[24m115\n",
      "\u001b[90m18\u001b[39m Thft     2019         \u001b[4m5\u001b[24m\u001b[4m9\u001b[24m850\n",
      "\u001b[90m19\u001b[39m Thft     2020         \u001b[4m4\u001b[24m\u001b[4m5\u001b[24m638\n",
      "\u001b[90m20\u001b[39m Thft     2021         \u001b[4m2\u001b[24m\u001b[4m6\u001b[24m589\n"
     ]
    }
   ],
   "source": [
    "crime_sum_period <- czech_data_period %>%\n",
    "    group_by(iccs, year) %>%\n",
    "    summarize(total_crimes = sum(values, na.rm = TRUE)) %>%\n",
    "    ungroup()\n",
    "\n",
    "print(crime_sum_period)"
   ]
  },
  {
   "cell_type": "code",
   "execution_count": 32,
   "id": "6da5f0b8-36c8-486c-a57f-998d5c165f38",
   "metadata": {},
   "outputs": [
    {
     "name": "stdout",
     "output_type": "stream",
     "text": [
      "\n",
      "\tExact two-sample Kolmogorov-Smirnov test\n",
      "\n",
      "data:  theft and burglary\n",
      "D = 0.75, p-value = 0.2286\n",
      "alternative hypothesis: two-sided\n",
      "\n"
     ]
    }
   ],
   "source": [
    "theft <- subset(crime_sum_period, iccs == \"Thft\")$total_crimes\n",
    "burglary <- subset(crime_sum_period, iccs == \"Brglry\")$total_crimes\n",
    "\n",
    "# Perform Kolmogorov-Smirnov test\n",
    "ks_test_result <- ks.test(theft, burglary)\n",
    "print(ks_test_result)"
   ]
  },
  {
   "cell_type": "markdown",
   "id": "92d52c80-0d90-49da-b666-4aa704f651d0",
   "metadata": {},
   "source": [
    "Protože p-hodnota (0,23) je vyšší než 0,05 na hladině významnosti 5%, nulovou hypotézu nezamítáme. To naznačuje, že neexistuje dostatek důkazů pro závěr, že se rozdělení trestných činů krádeží a vloupání od sebe významně liší. \n",
    "Z analyzovaných údajů vyplývá, že četnost a výskyt trestných činů krádeží a vloupání sleduje v daném období podobné trendy. "
   ]
  },
  {
   "cell_type": "code",
   "execution_count": null,
   "id": "aceddcaf-b461-4fda-b2c8-eb33e76ae174",
   "metadata": {},
   "outputs": [],
   "source": []
  }
 ],
 "metadata": {
  "kernelspec": {
   "display_name": "R",
   "language": "R",
   "name": "ir"
  },
  "language_info": {
   "codemirror_mode": "r",
   "file_extension": ".r",
   "mimetype": "text/x-r-source",
   "name": "R",
   "pygments_lexer": "r",
   "version": "4.3.2"
  }
 },
 "nbformat": 4,
 "nbformat_minor": 5
}
